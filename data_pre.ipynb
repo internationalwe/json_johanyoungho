{
 "cells": [
  {
   "cell_type": "code",
   "execution_count": 5,
   "source": [
    "import numpy as np\n",
    "import pandas as pd\n",
    "\n",
    "ddata = pd.read_csv(\"./Fashion-How/data/ddata.txt\", encoding=\"euc-kr\", sep=\"\\t\", names=[\"num\",\"speaker\",\"contents\",\"tags\"])\n",
    "mdata = pd.read_csv(\"Fashion-How/data/mdata.txt\", encoding=\"euc-kr\", sep=\"\\t\", names=[\"id\",\"part\",\"category\",\"exptype\",\"exp\"])\n",
    "\n",
    "ddata.head()"
   ],
   "outputs": [
    {
     "data": {
      "text/plain": "   num speaker                         contents  \\\n0    0    <CO>       어서오세요. 코디봇입니다. 무엇을 도와드릴까요?   \n1    1    <US>        처음 대학교 들어가는데 입을 옷 코디해주세요.   \n2    2    <CO>   신입생 코디에 어울리게 화사한 스웨터를 추천해드릴게요.   \n3    3    <AC>                           SW-009   \n4    4    <US>            이 옷에 어울리는 치마로 추천해주세요.   \n\n                                    tags  \n0                                  INTRO  \n1                                    NaN  \n2  EXP_RES_SITUATION;EXP_RES_DESCRIPTION  \n3                                    NaN  \n4                           USER_SUCCESS  ",
      "text/html": "<div>\n<style scoped>\n    .dataframe tbody tr th:only-of-type {\n        vertical-align: middle;\n    }\n\n    .dataframe tbody tr th {\n        vertical-align: top;\n    }\n\n    .dataframe thead th {\n        text-align: right;\n    }\n</style>\n<table border=\"1\" class=\"dataframe\">\n  <thead>\n    <tr style=\"text-align: right;\">\n      <th></th>\n      <th>num</th>\n      <th>speaker</th>\n      <th>contents</th>\n      <th>tags</th>\n    </tr>\n  </thead>\n  <tbody>\n    <tr>\n      <th>0</th>\n      <td>0</td>\n      <td>&lt;CO&gt;</td>\n      <td>어서오세요. 코디봇입니다. 무엇을 도와드릴까요?</td>\n      <td>INTRO</td>\n    </tr>\n    <tr>\n      <th>1</th>\n      <td>1</td>\n      <td>&lt;US&gt;</td>\n      <td>처음 대학교 들어가는데 입을 옷 코디해주세요.</td>\n      <td>NaN</td>\n    </tr>\n    <tr>\n      <th>2</th>\n      <td>2</td>\n      <td>&lt;CO&gt;</td>\n      <td>신입생 코디에 어울리게 화사한 스웨터를 추천해드릴게요.</td>\n      <td>EXP_RES_SITUATION;EXP_RES_DESCRIPTION</td>\n    </tr>\n    <tr>\n      <th>3</th>\n      <td>3</td>\n      <td>&lt;AC&gt;</td>\n      <td>SW-009</td>\n      <td>NaN</td>\n    </tr>\n    <tr>\n      <th>4</th>\n      <td>4</td>\n      <td>&lt;US&gt;</td>\n      <td>이 옷에 어울리는 치마로 추천해주세요.</td>\n      <td>USER_SUCCESS</td>\n    </tr>\n  </tbody>\n</table>\n</div>"
     },
     "execution_count": 5,
     "metadata": {},
     "output_type": "execute_result"
    }
   ],
   "metadata": {}
  },
  {
   "cell_type": "markdown",
   "source": [
    "# 1. 전체 대화셋 개수 카운트"
   ],
   "metadata": {}
  },
  {
   "cell_type": "code",
   "execution_count": 6,
   "source": [
    "dial_num = 0\n",
    "\n",
    "for i in range(1, len(ddata)):\n",
    "    if ddata.loc[i, \"num\"] == 0:\n",
    "        dial_num += 1\n",
    "print(\"총 대화셋 수: \",dial_num)"
   ],
   "outputs": [
    {
     "name": "stdout",
     "output_type": "stream",
     "text": [
      "총 대화셋 수:  7235\n"
     ]
    }
   ],
   "metadata": {}
  },
  {
   "cell_type": "markdown",
   "source": [
    "# 2. Mdata 합치기"
   ],
   "metadata": {}
  },
  {
   "cell_type": "markdown",
   "source": [
    "## - Id랑 내용만 살리기"
   ],
   "metadata": {}
  },
  {
   "cell_type": "code",
   "execution_count": 7,
   "source": [
    "mdata.head()"
   ],
   "outputs": [
    {
     "data": {
      "text/plain": "        id part category exptype                         exp\n0  BL-001    T       BL       F                단추 여밈의 전체 오픈형\n1  BL-001    T       BL       F      스탠드 칼라와 브이넥 네크라인의 결합스타일\n2  BL-001    T       BL       F             손목까지 내려오는 일자형 소매\n3  BL-001    T       BL       F                       여유로운 핏\n4  BL-001    T       BL       F   어깨에서 허리까지 세로 절개에 풍성한 러플 장식",
      "text/html": "<div>\n<style scoped>\n    .dataframe tbody tr th:only-of-type {\n        vertical-align: middle;\n    }\n\n    .dataframe tbody tr th {\n        vertical-align: top;\n    }\n\n    .dataframe thead th {\n        text-align: right;\n    }\n</style>\n<table border=\"1\" class=\"dataframe\">\n  <thead>\n    <tr style=\"text-align: right;\">\n      <th></th>\n      <th>id</th>\n      <th>part</th>\n      <th>category</th>\n      <th>exptype</th>\n      <th>exp</th>\n    </tr>\n  </thead>\n  <tbody>\n    <tr>\n      <th>0</th>\n      <td>BL-001</td>\n      <td>T</td>\n      <td>BL</td>\n      <td>F</td>\n      <td>단추 여밈의 전체 오픈형</td>\n    </tr>\n    <tr>\n      <th>1</th>\n      <td>BL-001</td>\n      <td>T</td>\n      <td>BL</td>\n      <td>F</td>\n      <td>스탠드 칼라와 브이넥 네크라인의 결합스타일</td>\n    </tr>\n    <tr>\n      <th>2</th>\n      <td>BL-001</td>\n      <td>T</td>\n      <td>BL</td>\n      <td>F</td>\n      <td>손목까지 내려오는 일자형 소매</td>\n    </tr>\n    <tr>\n      <th>3</th>\n      <td>BL-001</td>\n      <td>T</td>\n      <td>BL</td>\n      <td>F</td>\n      <td>여유로운 핏</td>\n    </tr>\n    <tr>\n      <th>4</th>\n      <td>BL-001</td>\n      <td>T</td>\n      <td>BL</td>\n      <td>F</td>\n      <td>어깨에서 허리까지 세로 절개에 풍성한 러플 장식</td>\n    </tr>\n  </tbody>\n</table>\n</div>"
     },
     "execution_count": 7,
     "metadata": {},
     "output_type": "execute_result"
    }
   ],
   "metadata": {}
  },
  {
   "cell_type": "code",
   "execution_count": 8,
   "source": [
    "c_mdata = pd.DataFrame({\"id\":[0],\"exp\":[None]})\n",
    "c_mdata.drop(0, axis=0, inplace=True)\n",
    "c_mdata"
   ],
   "outputs": [
    {
     "data": {
      "text/plain": "Empty DataFrame\nColumns: [id, exp]\nIndex: []",
      "text/html": "<div>\n<style scoped>\n    .dataframe tbody tr th:only-of-type {\n        vertical-align: middle;\n    }\n\n    .dataframe tbody tr th {\n        vertical-align: top;\n    }\n\n    .dataframe thead th {\n        text-align: right;\n    }\n</style>\n<table border=\"1\" class=\"dataframe\">\n  <thead>\n    <tr style=\"text-align: right;\">\n      <th></th>\n      <th>id</th>\n      <th>exp</th>\n    </tr>\n  </thead>\n  <tbody>\n  </tbody>\n</table>\n</div>"
     },
     "execution_count": 8,
     "metadata": {},
     "output_type": "execute_result"
    }
   ],
   "metadata": {}
  },
  {
   "cell_type": "code",
   "execution_count": 9,
   "source": [
    "mdata.loc[0,\"exp\"]+\" \"+mdata.loc[1,\"exp\"]"
   ],
   "outputs": [
    {
     "data": {
      "text/plain": "'단추 여밈의 전체 오픈형 스탠드 칼라와 브이넥 네크라인의 결합스타일'"
     },
     "execution_count": 9,
     "metadata": {},
     "output_type": "execute_result"
    }
   ],
   "metadata": {}
  },
  {
   "cell_type": "code",
   "execution_count": 10,
   "source": [
    "id = \"\"\n",
    "idx = 0\n",
    "for i in range(len(mdata)):\n",
    "    if id == mdata.loc[i, \"id\"]:\n",
    "        c_mdata.loc[c_mdata.index[(c_mdata[\"id\"] == id)].tolist().pop(),\"exp\"] = c_mdata.loc[c_mdata.index[(c_mdata[\"id\"] == id)].tolist().pop(),\"exp\"] + \" \" + mdata.loc[i, \"exp\"]\n",
    "    else:\n",
    "        id = mdata.loc[i, \"id\"]\n",
    "        c_mdata.loc[i, \"id\"] = id\n",
    "        c_mdata.loc[i, \"exp\"] = mdata.loc[i, \"exp\"]\n",
    "\n",
    "c_mdata.head()"
   ],
   "outputs": [
    {
     "data": {
      "text/plain": "         id                                                exp\n0   BL-001   단추 여밈의 전체 오픈형 스탠드 칼라와 브이넥 네크라인의 결합스타일 손목까지 내려오...\n20  BL-002   넓은 셔츠칼라 네크라인 앞중심에 반 오픈 끈여밈있는 스타일 드롭숄더 퍼프형 소매로 ...\n38  BL-003   앞 중심에 단추 여밈 칼라가 없는 넓고 깊게 파인 브이넥 엉덩이 밑으로 내려오는 긴...\n63  BL-004   앞중심에 단추 여밈 칼라가 없는 라운드넥으로 골반 위에서 끝나는 짧은 기장 손목, ...\n84  BL-005   앞단추 여밈의 전체 오픈형 칼라가 없는 라운드넥크라인 엉덩이 위에서 끝나는 짧은 기...",
      "text/html": "<div>\n<style scoped>\n    .dataframe tbody tr th:only-of-type {\n        vertical-align: middle;\n    }\n\n    .dataframe tbody tr th {\n        vertical-align: top;\n    }\n\n    .dataframe thead th {\n        text-align: right;\n    }\n</style>\n<table border=\"1\" class=\"dataframe\">\n  <thead>\n    <tr style=\"text-align: right;\">\n      <th></th>\n      <th>id</th>\n      <th>exp</th>\n    </tr>\n  </thead>\n  <tbody>\n    <tr>\n      <th>0</th>\n      <td>BL-001</td>\n      <td>단추 여밈의 전체 오픈형 스탠드 칼라와 브이넥 네크라인의 결합스타일 손목까지 내려오...</td>\n    </tr>\n    <tr>\n      <th>20</th>\n      <td>BL-002</td>\n      <td>넓은 셔츠칼라 네크라인 앞중심에 반 오픈 끈여밈있는 스타일 드롭숄더 퍼프형 소매로 ...</td>\n    </tr>\n    <tr>\n      <th>38</th>\n      <td>BL-003</td>\n      <td>앞 중심에 단추 여밈 칼라가 없는 넓고 깊게 파인 브이넥 엉덩이 밑으로 내려오는 긴...</td>\n    </tr>\n    <tr>\n      <th>63</th>\n      <td>BL-004</td>\n      <td>앞중심에 단추 여밈 칼라가 없는 라운드넥으로 골반 위에서 끝나는 짧은 기장 손목, ...</td>\n    </tr>\n    <tr>\n      <th>84</th>\n      <td>BL-005</td>\n      <td>앞단추 여밈의 전체 오픈형 칼라가 없는 라운드넥크라인 엉덩이 위에서 끝나는 짧은 기...</td>\n    </tr>\n  </tbody>\n</table>\n</div>"
     },
     "execution_count": 10,
     "metadata": {},
     "output_type": "execute_result"
    }
   ],
   "metadata": {}
  },
  {
   "cell_type": "code",
   "execution_count": 11,
   "source": [
    "mdata.iloc[0].id"
   ],
   "outputs": [
    {
     "data": {
      "text/plain": "'BL-001 '"
     },
     "execution_count": 11,
     "metadata": {},
     "output_type": "execute_result"
    }
   ],
   "metadata": {}
  },
  {
   "cell_type": "code",
   "execution_count": 12,
   "source": [
    "for i in range(len(c_mdata)): # id 뒤에 공백 없애기\n",
    "    c_mdata.iloc[i].id = c_mdata.iloc[i].id.strip()\n",
    "\n",
    "print(c_mdata.iloc[0].id)\n",
    "c_mdata.reset_index(drop=True,inplace=True)\n",
    "c_mdata.head()"
   ],
   "outputs": [
    {
     "name": "stdout",
     "output_type": "stream",
     "text": [
      "BL-001\n"
     ]
    },
    {
     "data": {
      "text/plain": "       id                                                exp\n0  BL-001  단추 여밈의 전체 오픈형 스탠드 칼라와 브이넥 네크라인의 결합스타일 손목까지 내려오...\n1  BL-002  넓은 셔츠칼라 네크라인 앞중심에 반 오픈 끈여밈있는 스타일 드롭숄더 퍼프형 소매로 ...\n2  BL-003  앞 중심에 단추 여밈 칼라가 없는 넓고 깊게 파인 브이넥 엉덩이 밑으로 내려오는 긴...\n3  BL-004  앞중심에 단추 여밈 칼라가 없는 라운드넥으로 골반 위에서 끝나는 짧은 기장 손목, ...\n4  BL-005  앞단추 여밈의 전체 오픈형 칼라가 없는 라운드넥크라인 엉덩이 위에서 끝나는 짧은 기...",
      "text/html": "<div>\n<style scoped>\n    .dataframe tbody tr th:only-of-type {\n        vertical-align: middle;\n    }\n\n    .dataframe tbody tr th {\n        vertical-align: top;\n    }\n\n    .dataframe thead th {\n        text-align: right;\n    }\n</style>\n<table border=\"1\" class=\"dataframe\">\n  <thead>\n    <tr style=\"text-align: right;\">\n      <th></th>\n      <th>id</th>\n      <th>exp</th>\n    </tr>\n  </thead>\n  <tbody>\n    <tr>\n      <th>0</th>\n      <td>BL-001</td>\n      <td>단추 여밈의 전체 오픈형 스탠드 칼라와 브이넥 네크라인의 결합스타일 손목까지 내려오...</td>\n    </tr>\n    <tr>\n      <th>1</th>\n      <td>BL-002</td>\n      <td>넓은 셔츠칼라 네크라인 앞중심에 반 오픈 끈여밈있는 스타일 드롭숄더 퍼프형 소매로 ...</td>\n    </tr>\n    <tr>\n      <th>2</th>\n      <td>BL-003</td>\n      <td>앞 중심에 단추 여밈 칼라가 없는 넓고 깊게 파인 브이넥 엉덩이 밑으로 내려오는 긴...</td>\n    </tr>\n    <tr>\n      <th>3</th>\n      <td>BL-004</td>\n      <td>앞중심에 단추 여밈 칼라가 없는 라운드넥으로 골반 위에서 끝나는 짧은 기장 손목, ...</td>\n    </tr>\n    <tr>\n      <th>4</th>\n      <td>BL-005</td>\n      <td>앞단추 여밈의 전체 오픈형 칼라가 없는 라운드넥크라인 엉덩이 위에서 끝나는 짧은 기...</td>\n    </tr>\n  </tbody>\n</table>\n</div>"
     },
     "execution_count": 12,
     "metadata": {},
     "output_type": "execute_result"
    }
   ],
   "metadata": {}
  },
  {
   "cell_type": "markdown",
   "source": [
    "## - Part 살려서 합치기"
   ],
   "metadata": {}
  },
  {
   "cell_type": "code",
   "execution_count": 13,
   "source": [
    "c_mdata2 = pd.DataFrame({\"id\":[0],'part':[None],\"exp\":[None]})\n",
    "c_mdata2.drop(0, axis=0, inplace=True)\n",
    "c_mdata2"
   ],
   "outputs": [
    {
     "data": {
      "text/plain": "Empty DataFrame\nColumns: [id, part, exp]\nIndex: []",
      "text/html": "<div>\n<style scoped>\n    .dataframe tbody tr th:only-of-type {\n        vertical-align: middle;\n    }\n\n    .dataframe tbody tr th {\n        vertical-align: top;\n    }\n\n    .dataframe thead th {\n        text-align: right;\n    }\n</style>\n<table border=\"1\" class=\"dataframe\">\n  <thead>\n    <tr style=\"text-align: right;\">\n      <th></th>\n      <th>id</th>\n      <th>part</th>\n      <th>exp</th>\n    </tr>\n  </thead>\n  <tbody>\n  </tbody>\n</table>\n</div>"
     },
     "execution_count": 13,
     "metadata": {},
     "output_type": "execute_result"
    }
   ],
   "metadata": {}
  },
  {
   "cell_type": "code",
   "execution_count": 14,
   "source": [
    "id = \"\"\n",
    "idx = 0\n",
    "for i in range(len(mdata)):\n",
    "    if id == mdata.loc[i, \"id\"]:\n",
    "        c_mdata2.loc[c_mdata2.index[(c_mdata2[\"id\"] == id)].tolist().pop(),\"exp\"] = c_mdata2.loc[c_mdata2.index[(c_mdata2[\"id\"] == id)].tolist().pop(),\"exp\"] + \" \" + mdata.loc[i, \"exp\"]\n",
    "        if (i + 1 < len(mdata)) and (id != mdata.loc[i+1, \"id\"]):\n",
    "            c_mdata2.loc[c_mdata2[\"id\"] == id, \"part\"] = mdata.loc[mdata[\"id\"] == id, \"part\"]\n",
    "    \n",
    "    else:\n",
    "        id = mdata.loc[i, \"id\"]\n",
    "        c_mdata2.loc[i, \"id\"] = id\n",
    "        c_mdata2.loc[i, \"exp\"] = mdata.loc[i, \"exp\"]\n",
    "\n",
    "c_mdata2.head()"
   ],
   "outputs": [
    {
     "data": {
      "text/plain": "         id part                                                exp\n0   BL-001    T   단추 여밈의 전체 오픈형 스탠드 칼라와 브이넥 네크라인의 결합스타일 손목까지 내려오...\n20  BL-002    T   넓은 셔츠칼라 네크라인 앞중심에 반 오픈 끈여밈있는 스타일 드롭숄더 퍼프형 소매로 ...\n38  BL-003    T   앞 중심에 단추 여밈 칼라가 없는 넓고 깊게 파인 브이넥 엉덩이 밑으로 내려오는 긴...\n63  BL-004    T   앞중심에 단추 여밈 칼라가 없는 라운드넥으로 골반 위에서 끝나는 짧은 기장 손목, ...\n84  BL-005    T   앞단추 여밈의 전체 오픈형 칼라가 없는 라운드넥크라인 엉덩이 위에서 끝나는 짧은 기...",
      "text/html": "<div>\n<style scoped>\n    .dataframe tbody tr th:only-of-type {\n        vertical-align: middle;\n    }\n\n    .dataframe tbody tr th {\n        vertical-align: top;\n    }\n\n    .dataframe thead th {\n        text-align: right;\n    }\n</style>\n<table border=\"1\" class=\"dataframe\">\n  <thead>\n    <tr style=\"text-align: right;\">\n      <th></th>\n      <th>id</th>\n      <th>part</th>\n      <th>exp</th>\n    </tr>\n  </thead>\n  <tbody>\n    <tr>\n      <th>0</th>\n      <td>BL-001</td>\n      <td>T</td>\n      <td>단추 여밈의 전체 오픈형 스탠드 칼라와 브이넥 네크라인의 결합스타일 손목까지 내려오...</td>\n    </tr>\n    <tr>\n      <th>20</th>\n      <td>BL-002</td>\n      <td>T</td>\n      <td>넓은 셔츠칼라 네크라인 앞중심에 반 오픈 끈여밈있는 스타일 드롭숄더 퍼프형 소매로 ...</td>\n    </tr>\n    <tr>\n      <th>38</th>\n      <td>BL-003</td>\n      <td>T</td>\n      <td>앞 중심에 단추 여밈 칼라가 없는 넓고 깊게 파인 브이넥 엉덩이 밑으로 내려오는 긴...</td>\n    </tr>\n    <tr>\n      <th>63</th>\n      <td>BL-004</td>\n      <td>T</td>\n      <td>앞중심에 단추 여밈 칼라가 없는 라운드넥으로 골반 위에서 끝나는 짧은 기장 손목, ...</td>\n    </tr>\n    <tr>\n      <th>84</th>\n      <td>BL-005</td>\n      <td>T</td>\n      <td>앞단추 여밈의 전체 오픈형 칼라가 없는 라운드넥크라인 엉덩이 위에서 끝나는 짧은 기...</td>\n    </tr>\n  </tbody>\n</table>\n</div>"
     },
     "execution_count": 14,
     "metadata": {},
     "output_type": "execute_result"
    }
   ],
   "metadata": {}
  },
  {
   "cell_type": "code",
   "execution_count": 15,
   "source": [
    "c_mdata2.loc[c_mdata2.id == \"VT-111 \", \"part\"] = \"O\""
   ],
   "outputs": [],
   "metadata": {}
  },
  {
   "cell_type": "code",
   "execution_count": 16,
   "source": [
    "for i in range(len(c_mdata2)): # id 뒤에 공백 없애기\n",
    "    c_mdata2.iloc[i].id = c_mdata2.iloc[i].id.strip()\n",
    "    c_mdata2.iloc[i].part = c_mdata2.iloc[i].part.strip()\n",
    "\n",
    "print(c_mdata2.iloc[0].id)\n",
    "c_mdata2.reset_index(drop=True,inplace=True)\n",
    "c_mdata2.head()"
   ],
   "outputs": [
    {
     "name": "stdout",
     "output_type": "stream",
     "text": [
      "BL-001\n"
     ]
    },
    {
     "data": {
      "text/plain": "       id part                                                exp\n0  BL-001    T  단추 여밈의 전체 오픈형 스탠드 칼라와 브이넥 네크라인의 결합스타일 손목까지 내려오...\n1  BL-002    T  넓은 셔츠칼라 네크라인 앞중심에 반 오픈 끈여밈있는 스타일 드롭숄더 퍼프형 소매로 ...\n2  BL-003    T  앞 중심에 단추 여밈 칼라가 없는 넓고 깊게 파인 브이넥 엉덩이 밑으로 내려오는 긴...\n3  BL-004    T  앞중심에 단추 여밈 칼라가 없는 라운드넥으로 골반 위에서 끝나는 짧은 기장 손목, ...\n4  BL-005    T  앞단추 여밈의 전체 오픈형 칼라가 없는 라운드넥크라인 엉덩이 위에서 끝나는 짧은 기...",
      "text/html": "<div>\n<style scoped>\n    .dataframe tbody tr th:only-of-type {\n        vertical-align: middle;\n    }\n\n    .dataframe tbody tr th {\n        vertical-align: top;\n    }\n\n    .dataframe thead th {\n        text-align: right;\n    }\n</style>\n<table border=\"1\" class=\"dataframe\">\n  <thead>\n    <tr style=\"text-align: right;\">\n      <th></th>\n      <th>id</th>\n      <th>part</th>\n      <th>exp</th>\n    </tr>\n  </thead>\n  <tbody>\n    <tr>\n      <th>0</th>\n      <td>BL-001</td>\n      <td>T</td>\n      <td>단추 여밈의 전체 오픈형 스탠드 칼라와 브이넥 네크라인의 결합스타일 손목까지 내려오...</td>\n    </tr>\n    <tr>\n      <th>1</th>\n      <td>BL-002</td>\n      <td>T</td>\n      <td>넓은 셔츠칼라 네크라인 앞중심에 반 오픈 끈여밈있는 스타일 드롭숄더 퍼프형 소매로 ...</td>\n    </tr>\n    <tr>\n      <th>2</th>\n      <td>BL-003</td>\n      <td>T</td>\n      <td>앞 중심에 단추 여밈 칼라가 없는 넓고 깊게 파인 브이넥 엉덩이 밑으로 내려오는 긴...</td>\n    </tr>\n    <tr>\n      <th>3</th>\n      <td>BL-004</td>\n      <td>T</td>\n      <td>앞중심에 단추 여밈 칼라가 없는 라운드넥으로 골반 위에서 끝나는 짧은 기장 손목, ...</td>\n    </tr>\n    <tr>\n      <th>4</th>\n      <td>BL-005</td>\n      <td>T</td>\n      <td>앞단추 여밈의 전체 오픈형 칼라가 없는 라운드넥크라인 엉덩이 위에서 끝나는 짧은 기...</td>\n    </tr>\n  </tbody>\n</table>\n</div>"
     },
     "execution_count": 16,
     "metadata": {},
     "output_type": "execute_result"
    }
   ],
   "metadata": {}
  },
  {
   "cell_type": "code",
   "execution_count": 17,
   "source": [
    "c_mdata2.loc[c_mdata2[\"id\"] == \"BL-001\"].part.values[0]"
   ],
   "outputs": [
    {
     "data": {
      "text/plain": "'T'"
     },
     "execution_count": 17,
     "metadata": {},
     "output_type": "execute_result"
    }
   ],
   "metadata": {}
  },
  {
   "cell_type": "markdown",
   "source": [
    "# 3. NaN, Null 값 확인"
   ],
   "metadata": {}
  },
  {
   "cell_type": "code",
   "execution_count": 18,
   "source": [
    "ddata.isnull().sum()"
   ],
   "outputs": [
    {
     "data": {
      "text/plain": "num             0\nspeaker         0\ncontents        0\ntags        51923\ndtype: int64"
     },
     "execution_count": 18,
     "metadata": {},
     "output_type": "execute_result"
    }
   ],
   "metadata": {}
  },
  {
   "cell_type": "code",
   "execution_count": 19,
   "source": [
    "ddata.isna().sum()"
   ],
   "outputs": [
    {
     "data": {
      "text/plain": "num             0\nspeaker         0\ncontents        0\ntags        51923\ndtype: int64"
     },
     "execution_count": 19,
     "metadata": {},
     "output_type": "execute_result"
    }
   ],
   "metadata": {}
  },
  {
   "cell_type": "code",
   "execution_count": 20,
   "source": [
    "ddata.fillna(\"\", inplace=True)\n",
    "ddata.isna().sum()"
   ],
   "outputs": [
    {
     "data": {
      "text/plain": "num         0\nspeaker     0\ncontents    0\ntags        0\ndtype: int64"
     },
     "execution_count": 20,
     "metadata": {},
     "output_type": "execute_result"
    }
   ],
   "metadata": {}
  },
  {
   "cell_type": "code",
   "execution_count": 21,
   "source": [
    "mdata.isnull().sum()"
   ],
   "outputs": [
    {
     "data": {
      "text/plain": "id          0\npart        0\ncategory    0\nexptype     0\nexp         0\ndtype: int64"
     },
     "execution_count": 21,
     "metadata": {},
     "output_type": "execute_result"
    }
   ],
   "metadata": {}
  },
  {
   "cell_type": "markdown",
   "source": [
    "# 4. 추천 성공 의상 아이디 종류 및 빈도 카운트 "
   ],
   "metadata": {}
  },
  {
   "cell_type": "markdown",
   "source": [
    "## 한 번에 추천해도 실패하면 전부 실패로 달기"
   ],
   "metadata": {}
  },
  {
   "cell_type": "code",
   "execution_count": 22,
   "source": [
    "c_data = pd.DataFrame({\"contents\":[None], \"id\":[\"xx-xxx\"],\"label\": [0]})\n",
    "c_data.drop(0,axis=0,inplace=True)\n",
    "c_data.head()"
   ],
   "outputs": [
    {
     "data": {
      "text/plain": "Empty DataFrame\nColumns: [contents, id, label]\nIndex: []",
      "text/html": "<div>\n<style scoped>\n    .dataframe tbody tr th:only-of-type {\n        vertical-align: middle;\n    }\n\n    .dataframe tbody tr th {\n        vertical-align: top;\n    }\n\n    .dataframe thead th {\n        text-align: right;\n    }\n</style>\n<table border=\"1\" class=\"dataframe\">\n  <thead>\n    <tr style=\"text-align: right;\">\n      <th></th>\n      <th>contents</th>\n      <th>id</th>\n      <th>label</th>\n    </tr>\n  </thead>\n  <tbody>\n  </tbody>\n</table>\n</div>"
     },
     "execution_count": 22,
     "metadata": {},
     "output_type": "execute_result"
    }
   ],
   "metadata": {}
  },
  {
   "cell_type": "code",
   "execution_count": 29,
   "source": [
    "dial = ddata.loc[0, \"contents\"].strip()\n",
    "print(dial)\n",
    "ac = \"\"\n",
    "\n",
    "for i in range(1,len(ddata)):\n",
    "    cur_sen = ddata.loc[i,\"contents\"].strip()\n",
    "    if ddata.loc[i, \"num\"] > ddata.loc[i-1, \"num\"]: # 이전 대화셋의 문장인지 확인\n",
    "        if ddata.loc[i,\"speaker\"] == \"<AC>\": # 의상 아이디가 나온 경우\n",
    "            ac = cur_sen\n",
    "        elif \"USER_SUCCESS\" in ddata.loc[i,\"tags\"]: # 의상 추천 성공\n",
    "            dial = dial + \" \" + cur_sen\n",
    "            if len(ac) < 7: # 의상을 하나만 추천한 경우\n",
    "                c_data.loc[i, \"contents\"] =  dial + \" \" + ac + \" \" + c_mdata.loc[c_mdata.id == ac].exp.values[0]\n",
    "                c_data.loc[i, \"id\"] = ac\n",
    "                c_data.loc[i, \"label\"] = 1\n",
    "\n",
    "            else: # 의상을 한 번에 여러 개 추천한 경우\n",
    "                idx_cnt = 0\n",
    "                for one_ac in ac.split():\n",
    "                    c_data.loc[i + idx_cnt, \"contents\"] =  dial + \" \" + one_ac + \" \" + c_mdata.loc[c_mdata.id == one_ac].exp.values[0]\n",
    "                    c_data.loc[i + idx_cnt, \"id\"] = one_ac\n",
    "                    c_data.loc[i + idx_cnt, \"label\"] = 1\n",
    "                    idx_cnt += 1\n",
    "\n",
    "\n",
    "        elif \"USER_FAIL\" in ddata.loc[i,\"tags\"]: # 의상 추천 실패\n",
    "            dial = dial + \" \" + cur_sen\n",
    "            if len(ac) < 7: # 의상을 하나만 추천한 경우\n",
    "                c_data.loc[i, \"contents\"] =  dial + \" \" + ac + \" \" + c_mdata.loc[c_mdata.id == ac].exp.values[0]\n",
    "                c_data.loc[i, \"id\"] = ac\n",
    "                c_data.loc[i, \"label\"] = 0\n",
    "\n",
    "            else: # 의상을 한 번에 여러 개 추천한 경우\n",
    "                idx_cnt = 0\n",
    "                for one_ac in ac.split():\n",
    "                    c_data.loc[i + idx_cnt, \"contents\"] =  dial + \" \" + one_ac + \" \" + c_mdata.loc[c_mdata.id == one_ac].exp.values[0]\n",
    "                    c_data.loc[i + idx_cnt, \"id\"] = one_ac\n",
    "                    c_data.loc[i + idx_cnt, \"label\"] = 0\n",
    "                    idx_cnt += 1\n",
    "                \n",
    "        else:\n",
    "            dial = dial + \" \" + cur_sen\n",
    "    \n",
    "    else: #새로운 대화셋 시작이면 초기화\n",
    "        dial = cur_sen\n",
    "        ac = \"\"\n",
    "        ac_part = \"\"\n",
    "        idx_cnt = 0\n"
   ],
   "outputs": [
    {
     "name": "stdout",
     "output_type": "stream",
     "text": [
      "어서오세요. 코디봇입니다. 무엇을 도와드릴까요?\n"
     ]
    },
    {
     "ename": "KeyboardInterrupt",
     "evalue": "",
     "output_type": "error",
     "traceback": [
      "\u001B[1;31m---------------------------------------------------------------------------\u001B[0m",
      "\u001B[1;31mKeyboardInterrupt\u001B[0m                         Traceback (most recent call last)",
      "\u001B[1;32m~\\AppData\\Local\\Temp/ipykernel_24368/1496341791.py\u001B[0m in \u001B[0;36m<module>\u001B[1;34m\u001B[0m\n\u001B[0;32m     25\u001B[0m \u001B[1;33m\u001B[0m\u001B[0m\n\u001B[0;32m     26\u001B[0m \u001B[1;33m\u001B[0m\u001B[0m\n\u001B[1;32m---> 27\u001B[1;33m         \u001B[1;32melif\u001B[0m \u001B[1;34m\"USER_FAIL\"\u001B[0m \u001B[1;32min\u001B[0m \u001B[0mddata\u001B[0m\u001B[1;33m.\u001B[0m\u001B[0mloc\u001B[0m\u001B[1;33m[\u001B[0m\u001B[0mi\u001B[0m\u001B[1;33m,\u001B[0m\u001B[1;34m\"tags\"\u001B[0m\u001B[1;33m]\u001B[0m\u001B[1;33m:\u001B[0m \u001B[1;31m# 의상 추천 실패\u001B[0m\u001B[1;33m\u001B[0m\u001B[1;33m\u001B[0m\u001B[0m\n\u001B[0m\u001B[0;32m     28\u001B[0m             \u001B[0mdial\u001B[0m \u001B[1;33m=\u001B[0m \u001B[0mdial\u001B[0m \u001B[1;33m+\u001B[0m \u001B[1;34m\" \"\u001B[0m \u001B[1;33m+\u001B[0m \u001B[0mcur_sen\u001B[0m\u001B[1;33m\u001B[0m\u001B[1;33m\u001B[0m\u001B[0m\n\u001B[0;32m     29\u001B[0m             \u001B[1;32mif\u001B[0m \u001B[0mlen\u001B[0m\u001B[1;33m(\u001B[0m\u001B[0mac\u001B[0m\u001B[1;33m)\u001B[0m \u001B[1;33m<\u001B[0m \u001B[1;36m7\u001B[0m\u001B[1;33m:\u001B[0m \u001B[1;31m# 의상을 하나만 추천한 경우\u001B[0m\u001B[1;33m\u001B[0m\u001B[1;33m\u001B[0m\u001B[0m\n",
      "\u001B[1;32m~\\AppData\\Local\\Temp/ipykernel_24368/1496341791.py\u001B[0m in \u001B[0;36m<module>\u001B[1;34m\u001B[0m\n\u001B[0;32m     25\u001B[0m \u001B[1;33m\u001B[0m\u001B[0m\n\u001B[0;32m     26\u001B[0m \u001B[1;33m\u001B[0m\u001B[0m\n\u001B[1;32m---> 27\u001B[1;33m         \u001B[1;32melif\u001B[0m \u001B[1;34m\"USER_FAIL\"\u001B[0m \u001B[1;32min\u001B[0m \u001B[0mddata\u001B[0m\u001B[1;33m.\u001B[0m\u001B[0mloc\u001B[0m\u001B[1;33m[\u001B[0m\u001B[0mi\u001B[0m\u001B[1;33m,\u001B[0m\u001B[1;34m\"tags\"\u001B[0m\u001B[1;33m]\u001B[0m\u001B[1;33m:\u001B[0m \u001B[1;31m# 의상 추천 실패\u001B[0m\u001B[1;33m\u001B[0m\u001B[1;33m\u001B[0m\u001B[0m\n\u001B[0m\u001B[0;32m     28\u001B[0m             \u001B[0mdial\u001B[0m \u001B[1;33m=\u001B[0m \u001B[0mdial\u001B[0m \u001B[1;33m+\u001B[0m \u001B[1;34m\" \"\u001B[0m \u001B[1;33m+\u001B[0m \u001B[0mcur_sen\u001B[0m\u001B[1;33m\u001B[0m\u001B[1;33m\u001B[0m\u001B[0m\n\u001B[0;32m     29\u001B[0m             \u001B[1;32mif\u001B[0m \u001B[0mlen\u001B[0m\u001B[1;33m(\u001B[0m\u001B[0mac\u001B[0m\u001B[1;33m)\u001B[0m \u001B[1;33m<\u001B[0m \u001B[1;36m7\u001B[0m\u001B[1;33m:\u001B[0m \u001B[1;31m# 의상을 하나만 추천한 경우\u001B[0m\u001B[1;33m\u001B[0m\u001B[1;33m\u001B[0m\u001B[0m\n",
      "\u001B[1;32m_pydevd_bundle\\pydevd_cython_win32_38_64.pyx\u001B[0m in \u001B[0;36m_pydevd_bundle.pydevd_cython_win32_38_64.SafeCallWrapper.__call__\u001B[1;34m()\u001B[0m\n",
      "\u001B[1;32m_pydevd_bundle\\pydevd_cython_win32_38_64.pyx\u001B[0m in \u001B[0;36m_pydevd_bundle.pydevd_cython_win32_38_64.PyDBFrame.trace_dispatch\u001B[1;34m()\u001B[0m\n",
      "\u001B[1;32m_pydevd_bundle\\pydevd_cython_win32_38_64.pyx\u001B[0m in \u001B[0;36m_pydevd_bundle.pydevd_cython_win32_38_64.PyDBFrame.trace_dispatch\u001B[1;34m()\u001B[0m\n",
      "\u001B[1;32m_pydevd_bundle\\pydevd_cython_win32_38_64.pyx\u001B[0m in \u001B[0;36m_pydevd_bundle.pydevd_cython_win32_38_64.PyDBFrame.trace_dispatch\u001B[1;34m()\u001B[0m\n",
      "\u001B[1;32mC:\\Program Files\\JetBrains\\PyCharm 2021.2.1\\plugins\\python\\helpers-pro\\jupyter_debug\\pydev_jupyter_plugin.py\u001B[0m in \u001B[0;36mstop\u001B[1;34m(plugin, pydb, frame, event, args, stop_info, arg, step_cmd)\u001B[0m\n\u001B[0;32m    163\u001B[0m         \u001B[0mframe\u001B[0m \u001B[1;33m=\u001B[0m \u001B[0msuspend_jupyter\u001B[0m\u001B[1;33m(\u001B[0m\u001B[0mmain_debugger\u001B[0m\u001B[1;33m,\u001B[0m \u001B[0mthread\u001B[0m\u001B[1;33m,\u001B[0m \u001B[0mframe\u001B[0m\u001B[1;33m,\u001B[0m \u001B[0mstep_cmd\u001B[0m\u001B[1;33m)\u001B[0m\u001B[1;33m\u001B[0m\u001B[1;33m\u001B[0m\u001B[0m\n\u001B[0;32m    164\u001B[0m         \u001B[1;32mif\u001B[0m \u001B[0mframe\u001B[0m\u001B[1;33m:\u001B[0m\u001B[1;33m\u001B[0m\u001B[1;33m\u001B[0m\u001B[0m\n\u001B[1;32m--> 165\u001B[1;33m             \u001B[0mmain_debugger\u001B[0m\u001B[1;33m.\u001B[0m\u001B[0mdo_wait_suspend\u001B[0m\u001B[1;33m(\u001B[0m\u001B[0mthread\u001B[0m\u001B[1;33m,\u001B[0m \u001B[0mframe\u001B[0m\u001B[1;33m,\u001B[0m \u001B[0mevent\u001B[0m\u001B[1;33m,\u001B[0m \u001B[0marg\u001B[0m\u001B[1;33m)\u001B[0m\u001B[1;33m\u001B[0m\u001B[1;33m\u001B[0m\u001B[0m\n\u001B[0m\u001B[0;32m    166\u001B[0m             \u001B[1;32mreturn\u001B[0m \u001B[1;32mTrue\u001B[0m\u001B[1;33m\u001B[0m\u001B[1;33m\u001B[0m\u001B[0m\n\u001B[0;32m    167\u001B[0m     \u001B[1;32mreturn\u001B[0m \u001B[1;32mFalse\u001B[0m\u001B[1;33m\u001B[0m\u001B[1;33m\u001B[0m\u001B[0m\n",
      "\u001B[1;32mC:\\Program Files\\JetBrains\\PyCharm 2021.2.1\\plugins\\python\\helpers\\pydev\\pydevd.py\u001B[0m in \u001B[0;36mdo_wait_suspend\u001B[1;34m(self, thread, frame, event, arg, send_suspend_message, is_unhandled_exception)\u001B[0m\n\u001B[0;32m   1145\u001B[0m \u001B[1;33m\u001B[0m\u001B[0m\n\u001B[0;32m   1146\u001B[0m         \u001B[1;32mwith\u001B[0m \u001B[0mself\u001B[0m\u001B[1;33m.\u001B[0m\u001B[0m_threads_suspended_single_notification\u001B[0m\u001B[1;33m.\u001B[0m\u001B[0mnotify_thread_suspended\u001B[0m\u001B[1;33m(\u001B[0m\u001B[0mthread_id\u001B[0m\u001B[1;33m,\u001B[0m \u001B[0mstop_reason\u001B[0m\u001B[1;33m)\u001B[0m\u001B[1;33m:\u001B[0m\u001B[1;33m\u001B[0m\u001B[1;33m\u001B[0m\u001B[0m\n\u001B[1;32m-> 1147\u001B[1;33m             \u001B[0mself\u001B[0m\u001B[1;33m.\u001B[0m\u001B[0m_do_wait_suspend\u001B[0m\u001B[1;33m(\u001B[0m\u001B[0mthread\u001B[0m\u001B[1;33m,\u001B[0m \u001B[0mframe\u001B[0m\u001B[1;33m,\u001B[0m \u001B[0mevent\u001B[0m\u001B[1;33m,\u001B[0m \u001B[0marg\u001B[0m\u001B[1;33m,\u001B[0m \u001B[0msuspend_type\u001B[0m\u001B[1;33m,\u001B[0m \u001B[0mfrom_this_thread\u001B[0m\u001B[1;33m)\u001B[0m\u001B[1;33m\u001B[0m\u001B[1;33m\u001B[0m\u001B[0m\n\u001B[0m\u001B[0;32m   1148\u001B[0m \u001B[1;33m\u001B[0m\u001B[0m\n\u001B[0;32m   1149\u001B[0m     \u001B[1;32mdef\u001B[0m \u001B[0m_do_wait_suspend\u001B[0m\u001B[1;33m(\u001B[0m\u001B[0mself\u001B[0m\u001B[1;33m,\u001B[0m \u001B[0mthread\u001B[0m\u001B[1;33m,\u001B[0m \u001B[0mframe\u001B[0m\u001B[1;33m,\u001B[0m \u001B[0mevent\u001B[0m\u001B[1;33m,\u001B[0m \u001B[0marg\u001B[0m\u001B[1;33m,\u001B[0m \u001B[0msuspend_type\u001B[0m\u001B[1;33m,\u001B[0m \u001B[0mfrom_this_thread\u001B[0m\u001B[1;33m)\u001B[0m\u001B[1;33m:\u001B[0m\u001B[1;33m\u001B[0m\u001B[1;33m\u001B[0m\u001B[0m\n",
      "\u001B[1;32mC:\\Program Files\\JetBrains\\PyCharm 2021.2.1\\plugins\\python\\helpers\\pydev\\pydevd.py\u001B[0m in \u001B[0;36m_do_wait_suspend\u001B[1;34m(self, thread, frame, event, arg, suspend_type, from_this_thread)\u001B[0m\n\u001B[0;32m   1160\u001B[0m \u001B[1;33m\u001B[0m\u001B[0m\n\u001B[0;32m   1161\u001B[0m                 \u001B[0mself\u001B[0m\u001B[1;33m.\u001B[0m\u001B[0mprocess_internal_commands\u001B[0m\u001B[1;33m(\u001B[0m\u001B[1;33m)\u001B[0m\u001B[1;33m\u001B[0m\u001B[1;33m\u001B[0m\u001B[0m\n\u001B[1;32m-> 1162\u001B[1;33m                 \u001B[0mtime\u001B[0m\u001B[1;33m.\u001B[0m\u001B[0msleep\u001B[0m\u001B[1;33m(\u001B[0m\u001B[1;36m0.01\u001B[0m\u001B[1;33m)\u001B[0m\u001B[1;33m\u001B[0m\u001B[1;33m\u001B[0m\u001B[0m\n\u001B[0m\u001B[0;32m   1163\u001B[0m \u001B[1;33m\u001B[0m\u001B[0m\n\u001B[0;32m   1164\u001B[0m         \u001B[0mself\u001B[0m\u001B[1;33m.\u001B[0m\u001B[0mcancel_async_evaluation\u001B[0m\u001B[1;33m(\u001B[0m\u001B[0mget_current_thread_id\u001B[0m\u001B[1;33m(\u001B[0m\u001B[0mthread\u001B[0m\u001B[1;33m)\u001B[0m\u001B[1;33m,\u001B[0m \u001B[0mstr\u001B[0m\u001B[1;33m(\u001B[0m\u001B[0mid\u001B[0m\u001B[1;33m(\u001B[0m\u001B[0mframe\u001B[0m\u001B[1;33m)\u001B[0m\u001B[1;33m)\u001B[0m\u001B[1;33m)\u001B[0m\u001B[1;33m\u001B[0m\u001B[1;33m\u001B[0m\u001B[0m\n",
      "\u001B[1;31mKeyboardInterrupt\u001B[0m: "
     ]
    }
   ],
   "metadata": {}
  },
  {
   "cell_type": "code",
   "execution_count": null,
   "source": [
    "print(\"전체 데이터 수: \", len(c_data))\n",
    "c_data.head()"
   ],
   "outputs": [],
   "metadata": {}
  },
  {
   "cell_type": "code",
   "execution_count": null,
   "source": [
    "c_data.reset_index(drop=True ,inplace=True)\n",
    "c_data.head()"
   ],
   "outputs": [],
   "metadata": {}
  },
  {
   "cell_type": "code",
   "execution_count": null,
   "source": [
    "c_data.loc[0].contents"
   ],
   "outputs": [],
   "metadata": {}
  },
  {
   "cell_type": "code",
   "execution_count": null,
   "source": [
    "c_data[\"label\"] = c_data[\"label\"].astype(int)\n",
    "c_data.head()"
   ],
   "outputs": [],
   "metadata": {}
  },
  {
   "cell_type": "code",
   "execution_count": null,
   "source": [
    "c_data[\"label\"].value_counts()"
   ],
   "outputs": [],
   "metadata": {}
  },
  {
   "cell_type": "code",
   "execution_count": null,
   "source": [
    "c_data[\"label\"].astype(str).hist()"
   ],
   "outputs": [],
   "metadata": {}
  },
  {
   "cell_type": "code",
   "execution_count": null,
   "source": [
    "c_data.iloc[0].id"
   ],
   "outputs": [],
   "metadata": {}
  },
  {
   "cell_type": "code",
   "execution_count": null,
   "source": [
    "c_data.loc[c_data.id == c_data.iloc[0].id].id.values"
   ],
   "outputs": [],
   "metadata": {}
  },
  {
   "cell_type": "code",
   "execution_count": null,
   "source": [
    "count_dic = {}\n",
    "for i in range(len(c_data)):\n",
    "    if c_data.iloc[i].label == 1:\n",
    "        if c_data.iloc[i].id in count_dic.keys():\n",
    "            count_dic[c_data.iloc[i].id] += 1\n",
    "        else:\n",
    "            count_dic[c_data.iloc[i].id] = 1\n",
    "        "
   ],
   "outputs": [],
   "metadata": {}
  },
  {
   "cell_type": "code",
   "execution_count": null,
   "source": [
    "len(count_dic.keys())"
   ],
   "outputs": [],
   "metadata": {}
  },
  {
   "cell_type": "code",
   "execution_count": null,
   "source": [
    "count_dic[\"SW-009\"]"
   ],
   "outputs": [],
   "metadata": {}
  },
  {
   "cell_type": "code",
   "execution_count": null,
   "source": [
    "sorted(count_dic.items(), key=lambda x: x[1],reverse=True)"
   ],
   "outputs": [],
   "metadata": {}
  },
  {
   "cell_type": "code",
   "execution_count": null,
   "source": [
    "import matplotlib.pyplot as plt\n",
    "\n",
    "plt.hist(count_dic)\n",
    "plt.show()"
   ],
   "outputs": [],
   "metadata": {}
  },
  {
   "cell_type": "markdown",
   "source": [
    "## 한 번에 추천할 때 실패한 옷 골라내기"
   ],
   "metadata": {}
  },
  {
   "cell_type": "code",
   "execution_count": null,
   "source": [
    "c_data2 = pd.DataFrame({\"contents\":[None], \"id\":[\"xx-xxx\"],\"label\": [0]})\n",
    "c_data2.drop(0, axis=0, inplace=True)\n",
    "c_data2"
   ],
   "outputs": [],
   "metadata": {}
  },
  {
   "cell_type": "code",
   "execution_count": null,
   "source": [
    "dial = ddata.loc[0, \"contents\"].strip()\n",
    "ac = \"\"\n",
    "\n",
    "for i in range(1,len(ddata)):\n",
    "    cur_sen = ddata.loc[i,\"contents\"].strip()\n",
    "\n",
    "    if ddata.loc[i, \"num\"] > ddata.loc[i-1, \"num\"]: # 이전 대화셋의 문장인지 확인\n",
    "        if ddata.loc[i,\"speaker\"] == \"<AC>\": # 의상 아이디가 나온 경우\n",
    "            ac = cur_sen\n",
    "        \n",
    "\n",
    "        elif \"USER_SUCCESS\" in ddata.loc[i,\"tags\"]: # 의상 추천 성공\n",
    "            if len(ac) < 7: # 의상을 하나만 추천한 경우\n",
    "                c_data2.loc[i, \"contents\"] =  dial + \" \" + ac + \" \" + c_mdata.loc[c_mdata.id == ac].exp.values[0]\n",
    "                c_data2.loc[i, \"id\"] = ac\n",
    "                c_data2.loc[i, \"label\"] = 1\n",
    "\n",
    "            else: # 의상을 한 번에 여러 개 추천한 경우\n",
    "                idx_cnt = 0\n",
    "                for one_ac in ac.split():\n",
    "                    c_data2.loc[i + idx_cnt, \"contents\"] =  dial + \" \" + one_ac + \" \" + c_mdata.loc[c_mdata.id == one_ac].exp.values[0]\n",
    "                    c_data2.loc[i + idx_cnt, \"id\"] = one_ac\n",
    "                    c_data2.loc[i + idx_cnt, \"label\"] = 1\n",
    "                    idx_cnt += 1\n",
    "\n",
    "\n",
    "        elif \"USER_FAIL\" in ddata.loc[i,\"tags\"]: # 의상 추천 실패\n",
    "            if len(ac) < 7: # 의상을 하나만 추천한 경우\n",
    "                c_data2.loc[i, \"contents\"] =  dial + \" \" + ac + \" \" + c_mdata.loc[c_mdata.id == ac].exp.values[0]\n",
    "                c_data2.loc[i, \"id\"] = ac\n",
    "                c_data2.loc[i, \"label\"] = 0\n",
    "\n",
    "            else: # 의상을 한 번에 여러 개 추천한 경우\n",
    "                ac_part = \"\"\n",
    "\n",
    "                o_word = ['겉옷', '아우터','코트','가디건','조끼','자켓','후드','저지']\n",
    "                if any(word in cur_sen for word in o_word): # 추천 실패한 의상 찾기\n",
    "                    ac_part = ac_part + \"O\"\n",
    "\n",
    "                t_word = ['상의','스웨터','셔츠','블라우스']\n",
    "                if any(word in cur_sen for word in t_word):\n",
    "                    ac_part = ac_part + \"T\"\n",
    "\n",
    "                b_word = ['하의','스커트','팬츠','바지','원피스']\n",
    "                if any(word in cur_sen for word in b_word):\n",
    "                    ac_part = ac_part + \"B\"\n",
    "\n",
    "                s_word = ['신발','구두','힐','샌들','단화','굽']\n",
    "                if any(word in cur_sen for word in s_word):\n",
    "                    ac_part = ac_part + \"S\"\n",
    "\n",
    "                elif ac_part == \"\" : # 전부 실패\n",
    "                    idx_cnt = 0\n",
    "                    for one_ac in ac.split():\n",
    "                        c_data2.loc[i + idx_cnt, \"contents\"] =  dial + \" \" + one_ac + \" \" + c_mdata.loc[c_mdata.id == one_ac].exp.values[0]\n",
    "                        c_data2.loc[i + idx_cnt, \"id\"] = one_ac\n",
    "                        c_data2.loc[i + idx_cnt, \"label\"] = 0\n",
    "                        idx_cnt += 1\n",
    "\n",
    "                idx_cnt = 0\n",
    "                for one_ac in ac.split(): # 실패한 거 골라서 레이블 달기\n",
    "                    if c_mdata2.loc[c_mdata2[\"id\"] == one_ac, \"part\"].values[0] in ac_part:\n",
    "                        c_data2.loc[i + idx_cnt, \"contents\"] =  dial + \" \" + one_ac + \" \" + c_mdata.loc[c_mdata.id == one_ac].exp.values[0]\n",
    "                        c_data2.loc[i + idx_cnt, \"id\"] = one_ac\n",
    "                        c_data2.loc[i + idx_cnt, \"label\"] = 0\n",
    "                        idx_cnt += 1\n",
    "                    \n",
    "                    else:\n",
    "                        c_data2.loc[i + idx_cnt, \"contents\"] =  dial + \" \" + one_ac + \" \" + c_mdata.loc[c_mdata.id == one_ac].exp.values[0]\n",
    "                        c_data2.loc[i + idx_cnt, \"id\"] = one_ac\n",
    "                        c_data2.loc[i + idx_cnt, \"label\"] = 1\n",
    "                        idx_cnt += 1\n",
    "                \n",
    "        else:\n",
    "            dial = dial + \" \" + cur_sen\n",
    "    \n",
    "    else: #새로운 대화셋 시작이면 초기화\n",
    "        dial = cur_sen\n",
    "        ac = \"\"\n",
    "        ac_part = \"\"\n",
    "        idx_cnt = 0\n"
   ],
   "outputs": [],
   "metadata": {}
  },
  {
   "cell_type": "code",
   "execution_count": null,
   "source": [
    "c_data2.head()"
   ],
   "outputs": [],
   "metadata": {}
  },
  {
   "cell_type": "code",
   "execution_count": null,
   "source": [
    "c_data2.reset_index(drop=True, inplace=True)\n",
    "c_data2.head()"
   ],
   "outputs": [],
   "metadata": {}
  },
  {
   "cell_type": "code",
   "execution_count": null,
   "source": [
    "c_data2[\"label\"] = c_data2[\"label\"].astype(int)\n",
    "c_data2.head()"
   ],
   "outputs": [],
   "metadata": {}
  },
  {
   "cell_type": "code",
   "execution_count": null,
   "source": [
    "c_data2[\"label\"].value_counts()"
   ],
   "outputs": [],
   "metadata": {}
  },
  {
   "cell_type": "code",
   "execution_count": null,
   "source": [
    "c_data2[\"label\"].astype(str).hist()"
   ],
   "outputs": [],
   "metadata": {}
  },
  {
   "cell_type": "markdown",
   "source": [
    "# 은전 한 닢 형태소 분석"
   ],
   "metadata": {}
  },
  {
   "cell_type": "code",
   "execution_count": 34,
   "source": [
    "from koalanlp import API\n",
    "from koalanlp.types import POS\n",
    "from koalanlp.proc import *\n",
    "from koalanlp.Util import initialize, finalize\n",
    "\n",
    "initialize(java_options=\"-Xmx4g -Dfile.encoding=utf-8\", KKMA=\"2.0.2\", EUNJEON=\"2.0.2\", ETRI=\"2.0.2\")\n",
    "KDict = Dictionary(API.EUNJEON)"
   ],
   "outputs": [
    {
     "output_type": "stream",
     "name": "stderr",
     "text": [
      "[root] Java gateway started with port number 44837\n",
      "[root] Callback server will use port number 25334\n",
      "[koalanlp.jip] JVM initialization procedure is completed.\n"
     ]
    }
   ],
   "metadata": {}
  },
  {
   "cell_type": "code",
   "execution_count": 35,
   "source": [
    "tagger = Tagger(API.EUNJEON)\n",
    "tagged = tagger.tag(\"안녕하세요. 눈이 오는 설날 아침입니다.\")\n",
    "print(tagged)"
   ],
   "outputs": [
    {
     "output_type": "stream",
     "name": "stdout",
     "text": [
      "[안녕하세요 ., 눈이 오는 설날 아침입니다 .]\n"
     ]
    }
   ],
   "metadata": {}
  },
  {
   "cell_type": "markdown",
   "source": [
    "## Pseudo Code"
   ],
   "metadata": {}
  },
  {
   "cell_type": "markdown",
   "source": [
    "문장이 의상 아이디라면:\n",
    "    의상 아이디를 그대로 저장\n",
    "\n",
    "문장이 유저 성공이라면:\n",
    "    의상 아이디의 길이가 7 아래면:\n",
    "        정리 데이터프레임의 의상 태그에 의상 아이디 넣기\n",
    "        정리 데이터프레임의 내용 태그에 다이얼로그 내용 넣기\n",
    "        정리 데이터프레임의 라벨 태그에 0 넣기\n",
    "\n",
    "    의상 아이디의 길이가 7 이상이면:\n",
    "        idx_num = 1\n",
    "        for 하나의 아이디 in 의상 아이디.split():\n",
    "            정리 데이터프레임의 의상 태그에 하나의 아이디 넣기\n",
    "            정리 데이터프레임의 내용 태그에 다이얼로그 내용 넣기\n",
    "            정리 데이터프레임의 라벨 태그에 1 넣기\n",
    "            <여기서 저장하는 인덱스 번호 조심하기> (그냥 append로는 안되나 ㅠ) i + idx_num 자리에 넣어보기\n",
    "\n",
    "문장이 유저 실패라면\n",
    "    의상 아이디의 길이가 7 아래면:\n",
    "        정리 데이터프레임의 의상 태그에 이 옷을 넣기\n",
    "        정리 데이터프레임의 내용 태그에 다이얼로그 내용 넣기\n",
    "        정리 데이터프레임의 라벨 태그에 0 넣기\n",
    "\n",
    "    의상 아이디의 길이가 7 이상이면:\n",
    "        문장에 상의가 있다면 타입에 O를 저장 [상의와 관련된 키워드: 블라우스, 티, 맨투맨, 티셔츠 등등]도 같이 체크하자\n",
    "        문장에 하의가 있다면 타입저장변수에 T를 저장\n",
    "        문장에 아우터가 있다면 타입저장변수에 B를 저장\n",
    "        문장에 신발이 있다면 타입저장변수에 S를 저장\n",
    "        for 하나의 아이디 in 의상 아이디.split():\n",
    "            만약 하나의 아이디가 mdata에서 \n",
    "            정리 데이터프레임의 의상 태그에 하나의 아이디 넣기\n",
    "            정리 데이터프레임의 내용 태그에 다이얼로그 내용 넣기\n",
    "            정리 데이터프레임의 라벨 태그에 1 넣기\n",
    "            <여기서 저장하는 인덱스 번호 조심하기> (그냥 append로는 안되나 ㅠ) i + idx_num 자리에 넣어보기\n",
    "\n",
    "\n",
    "아니라면:\n",
    "    문장을 다이얼로그에 저장"
   ],
   "metadata": {}
  }
 ],
 "metadata": {
  "orig_nbformat": 4,
  "language_info": {
   "name": "python",
   "version": "3.8.11",
   "mimetype": "text/x-python",
   "codemirror_mode": {
    "name": "ipython",
    "version": 3
   },
   "pygments_lexer": "ipython3",
   "nbconvert_exporter": "python",
   "file_extension": ".py"
  },
  "kernelspec": {
   "name": "python3",
   "display_name": "Python 3.8.11 64-bit ('sj': conda)"
  },
  "interpreter": {
   "hash": "022eb7dab1e64abfe7845a82597d3156ee0a5d78294cf462a778b063942c3de6"
  }
 },
 "nbformat": 4,
 "nbformat_minor": 2
}