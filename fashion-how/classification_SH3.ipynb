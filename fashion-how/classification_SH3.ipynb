{
 "cells": [
  {
   "cell_type": "code",
   "execution_count": 1,
   "source": [
    "import pandas as pd\n",
    "\n",
    "ddata = pd.read_csv(\"./data/ddata.txt\", encoding=\"euc-kr\", sep=\"\\t\", names=[\"num\",\"speaker\",\"contents\",\"tags\"])\n",
    "mdata = pd.read_csv(\"./data/mdata.txt\", encoding=\"euc-kr\", sep=\"\\t\", names=[\"id\",\"part\",\"category\",\"exptype\",\"exp\"])\n",
    "\n",
    "ddata.head()"
   ],
   "outputs": [
    {
     "output_type": "execute_result",
     "data": {
      "text/html": [
       "<div>\n",
       "<style scoped>\n",
       "    .dataframe tbody tr th:only-of-type {\n",
       "        vertical-align: middle;\n",
       "    }\n",
       "\n",
       "    .dataframe tbody tr th {\n",
       "        vertical-align: top;\n",
       "    }\n",
       "\n",
       "    .dataframe thead th {\n",
       "        text-align: right;\n",
       "    }\n",
       "</style>\n",
       "<table border=\"1\" class=\"dataframe\">\n",
       "  <thead>\n",
       "    <tr style=\"text-align: right;\">\n",
       "      <th></th>\n",
       "      <th>num</th>\n",
       "      <th>speaker</th>\n",
       "      <th>contents</th>\n",
       "      <th>tags</th>\n",
       "    </tr>\n",
       "  </thead>\n",
       "  <tbody>\n",
       "    <tr>\n",
       "      <th>0</th>\n",
       "      <td>0</td>\n",
       "      <td>&lt;CO&gt;</td>\n",
       "      <td>어서오세요. 코디봇입니다. 무엇을 도와드릴까요?</td>\n",
       "      <td>INTRO</td>\n",
       "    </tr>\n",
       "    <tr>\n",
       "      <th>1</th>\n",
       "      <td>1</td>\n",
       "      <td>&lt;US&gt;</td>\n",
       "      <td>처음 대학교 들어가는데 입을 옷 코디해주세요.</td>\n",
       "      <td>NaN</td>\n",
       "    </tr>\n",
       "    <tr>\n",
       "      <th>2</th>\n",
       "      <td>2</td>\n",
       "      <td>&lt;CO&gt;</td>\n",
       "      <td>신입생 코디에 어울리게 화사한 스웨터를 추천해드릴게요.</td>\n",
       "      <td>EXP_RES_SITUATION;EXP_RES_DESCRIPTION</td>\n",
       "    </tr>\n",
       "    <tr>\n",
       "      <th>3</th>\n",
       "      <td>3</td>\n",
       "      <td>&lt;AC&gt;</td>\n",
       "      <td>SW-009</td>\n",
       "      <td>NaN</td>\n",
       "    </tr>\n",
       "    <tr>\n",
       "      <th>4</th>\n",
       "      <td>4</td>\n",
       "      <td>&lt;US&gt;</td>\n",
       "      <td>이 옷에 어울리는 치마로 추천해주세요.</td>\n",
       "      <td>USER_SUCCESS</td>\n",
       "    </tr>\n",
       "  </tbody>\n",
       "</table>\n",
       "</div>"
      ],
      "text/plain": [
       "   num speaker                         contents  \\\n",
       "0    0    <CO>       어서오세요. 코디봇입니다. 무엇을 도와드릴까요?   \n",
       "1    1    <US>        처음 대학교 들어가는데 입을 옷 코디해주세요.   \n",
       "2    2    <CO>   신입생 코디에 어울리게 화사한 스웨터를 추천해드릴게요.   \n",
       "3    3    <AC>                           SW-009   \n",
       "4    4    <US>            이 옷에 어울리는 치마로 추천해주세요.   \n",
       "\n",
       "                                    tags  \n",
       "0                                  INTRO  \n",
       "1                                    NaN  \n",
       "2  EXP_RES_SITUATION;EXP_RES_DESCRIPTION  \n",
       "3                                    NaN  \n",
       "4                           USER_SUCCESS  "
      ]
     },
     "metadata": {},
     "execution_count": 1
    }
   ],
   "metadata": {}
  },
  {
   "cell_type": "markdown",
   "source": [
    "# 1. 전체 대화셋 개수 카운트"
   ],
   "metadata": {}
  },
  {
   "cell_type": "code",
   "execution_count": 2,
   "source": [
    "dial_num = 0\n",
    "\n",
    "for i in range(1, len(ddata)):\n",
    "    if ddata.loc[i, \"num\"] == 0:\n",
    "        dial_num += 1\n",
    "print(\"총 대화셋 수: \",dial_num)"
   ],
   "outputs": [
    {
     "output_type": "stream",
     "name": "stdout",
     "text": [
      "총 대화셋 수:  7235\n"
     ]
    }
   ],
   "metadata": {}
  },
  {
   "cell_type": "markdown",
   "source": [
    "# 2. Mdata 합치기"
   ],
   "metadata": {}
  },
  {
   "cell_type": "markdown",
   "source": [
    "## - Part 살려서 합치기"
   ],
   "metadata": {}
  },
  {
   "cell_type": "code",
   "execution_count": 3,
   "source": [
    "c_mdata = pd.DataFrame({\"id\":[0],'part':[None],\"exp\":[None]})\n",
    "c_mdata.drop(0, axis=0, inplace=True)\n",
    "c_mdata"
   ],
   "outputs": [
    {
     "output_type": "execute_result",
     "data": {
      "text/html": [
       "<div>\n",
       "<style scoped>\n",
       "    .dataframe tbody tr th:only-of-type {\n",
       "        vertical-align: middle;\n",
       "    }\n",
       "\n",
       "    .dataframe tbody tr th {\n",
       "        vertical-align: top;\n",
       "    }\n",
       "\n",
       "    .dataframe thead th {\n",
       "        text-align: right;\n",
       "    }\n",
       "</style>\n",
       "<table border=\"1\" class=\"dataframe\">\n",
       "  <thead>\n",
       "    <tr style=\"text-align: right;\">\n",
       "      <th></th>\n",
       "      <th>id</th>\n",
       "      <th>part</th>\n",
       "      <th>exp</th>\n",
       "    </tr>\n",
       "  </thead>\n",
       "  <tbody>\n",
       "  </tbody>\n",
       "</table>\n",
       "</div>"
      ],
      "text/plain": [
       "Empty DataFrame\n",
       "Columns: [id, part, exp]\n",
       "Index: []"
      ]
     },
     "metadata": {},
     "execution_count": 3
    }
   ],
   "metadata": {}
  },
  {
   "cell_type": "code",
   "execution_count": 4,
   "source": [
    "id = \"\"\n",
    "idx = 0\n",
    "for i in range(len(mdata)):\n",
    "    if id == mdata.loc[i, \"id\"]:\n",
    "        c_mdata.loc[c_mdata.index[(c_mdata[\"id\"] == id)].tolist().pop(),\"exp\"] = c_mdata.loc[c_mdata.index[(c_mdata[\"id\"] == id)].tolist().pop(),\"exp\"] + \" \" + mdata.loc[i, \"exp\"]\n",
    "        if (i + 1 < len(mdata)) and (id != mdata.loc[i+1, \"id\"]):\n",
    "            c_mdata.loc[c_mdata[\"id\"] == id, \"part\"] = mdata.loc[mdata[\"id\"] == id, \"part\"]\n",
    "    \n",
    "    else:\n",
    "        id = mdata.loc[i, \"id\"]\n",
    "        c_mdata.loc[i, \"id\"] = id\n",
    "        c_mdata.loc[i, \"exp\"] = mdata.loc[i, \"exp\"]\n",
    "\n",
    "c_mdata.head()"
   ],
   "outputs": [
    {
     "output_type": "execute_result",
     "data": {
      "text/html": [
       "<div>\n",
       "<style scoped>\n",
       "    .dataframe tbody tr th:only-of-type {\n",
       "        vertical-align: middle;\n",
       "    }\n",
       "\n",
       "    .dataframe tbody tr th {\n",
       "        vertical-align: top;\n",
       "    }\n",
       "\n",
       "    .dataframe thead th {\n",
       "        text-align: right;\n",
       "    }\n",
       "</style>\n",
       "<table border=\"1\" class=\"dataframe\">\n",
       "  <thead>\n",
       "    <tr style=\"text-align: right;\">\n",
       "      <th></th>\n",
       "      <th>id</th>\n",
       "      <th>part</th>\n",
       "      <th>exp</th>\n",
       "    </tr>\n",
       "  </thead>\n",
       "  <tbody>\n",
       "    <tr>\n",
       "      <th>0</th>\n",
       "      <td>BL-001</td>\n",
       "      <td>T</td>\n",
       "      <td>단추 여밈의 전체 오픈형 스탠드 칼라와 브이넥 네크라인의 결합스타일 손목까지 내려오...</td>\n",
       "    </tr>\n",
       "    <tr>\n",
       "      <th>20</th>\n",
       "      <td>BL-002</td>\n",
       "      <td>T</td>\n",
       "      <td>넓은 셔츠칼라 네크라인 앞중심에 반 오픈 끈여밈있는 스타일 드롭숄더 퍼프형 소매로 ...</td>\n",
       "    </tr>\n",
       "    <tr>\n",
       "      <th>38</th>\n",
       "      <td>BL-003</td>\n",
       "      <td>T</td>\n",
       "      <td>앞 중심에 단추 여밈 칼라가 없는 넓고 깊게 파인 브이넥 엉덩이 밑으로 내려오는 긴...</td>\n",
       "    </tr>\n",
       "    <tr>\n",
       "      <th>63</th>\n",
       "      <td>BL-004</td>\n",
       "      <td>T</td>\n",
       "      <td>앞중심에 단추 여밈 칼라가 없는 라운드넥으로 골반 위에서 끝나는 짧은 기장 손목, ...</td>\n",
       "    </tr>\n",
       "    <tr>\n",
       "      <th>84</th>\n",
       "      <td>BL-005</td>\n",
       "      <td>T</td>\n",
       "      <td>앞단추 여밈의 전체 오픈형 칼라가 없는 라운드넥크라인 엉덩이 위에서 끝나는 짧은 기...</td>\n",
       "    </tr>\n",
       "  </tbody>\n",
       "</table>\n",
       "</div>"
      ],
      "text/plain": [
       "         id part                                                exp\n",
       "0   BL-001    T   단추 여밈의 전체 오픈형 스탠드 칼라와 브이넥 네크라인의 결합스타일 손목까지 내려오...\n",
       "20  BL-002    T   넓은 셔츠칼라 네크라인 앞중심에 반 오픈 끈여밈있는 스타일 드롭숄더 퍼프형 소매로 ...\n",
       "38  BL-003    T   앞 중심에 단추 여밈 칼라가 없는 넓고 깊게 파인 브이넥 엉덩이 밑으로 내려오는 긴...\n",
       "63  BL-004    T   앞중심에 단추 여밈 칼라가 없는 라운드넥으로 골반 위에서 끝나는 짧은 기장 손목, ...\n",
       "84  BL-005    T   앞단추 여밈의 전체 오픈형 칼라가 없는 라운드넥크라인 엉덩이 위에서 끝나는 짧은 기..."
      ]
     },
     "metadata": {},
     "execution_count": 4
    }
   ],
   "metadata": {}
  },
  {
   "cell_type": "code",
   "execution_count": 5,
   "source": [
    "c_mdata.loc[c_mdata.id == \"VT-111 \", \"part\"] = \"O\""
   ],
   "outputs": [],
   "metadata": {}
  },
  {
   "cell_type": "code",
   "execution_count": 6,
   "source": [
    "for i in range(len(c_mdata)): # id 뒤에 공백 없애기\n",
    "    c_mdata.iloc[i].id = c_mdata.iloc[i].id.strip()\n",
    "    c_mdata.iloc[i].part = c_mdata.iloc[i].part.strip()\n",
    "\n",
    "print(c_mdata.iloc[0].id)\n",
    "c_mdata.reset_index(drop=True,inplace=True)\n",
    "c_mdata.head()"
   ],
   "outputs": [
    {
     "output_type": "stream",
     "name": "stdout",
     "text": [
      "BL-001\n"
     ]
    },
    {
     "output_type": "execute_result",
     "data": {
      "text/html": [
       "<div>\n",
       "<style scoped>\n",
       "    .dataframe tbody tr th:only-of-type {\n",
       "        vertical-align: middle;\n",
       "    }\n",
       "\n",
       "    .dataframe tbody tr th {\n",
       "        vertical-align: top;\n",
       "    }\n",
       "\n",
       "    .dataframe thead th {\n",
       "        text-align: right;\n",
       "    }\n",
       "</style>\n",
       "<table border=\"1\" class=\"dataframe\">\n",
       "  <thead>\n",
       "    <tr style=\"text-align: right;\">\n",
       "      <th></th>\n",
       "      <th>id</th>\n",
       "      <th>part</th>\n",
       "      <th>exp</th>\n",
       "    </tr>\n",
       "  </thead>\n",
       "  <tbody>\n",
       "    <tr>\n",
       "      <th>0</th>\n",
       "      <td>BL-001</td>\n",
       "      <td>T</td>\n",
       "      <td>단추 여밈의 전체 오픈형 스탠드 칼라와 브이넥 네크라인의 결합스타일 손목까지 내려오...</td>\n",
       "    </tr>\n",
       "    <tr>\n",
       "      <th>1</th>\n",
       "      <td>BL-002</td>\n",
       "      <td>T</td>\n",
       "      <td>넓은 셔츠칼라 네크라인 앞중심에 반 오픈 끈여밈있는 스타일 드롭숄더 퍼프형 소매로 ...</td>\n",
       "    </tr>\n",
       "    <tr>\n",
       "      <th>2</th>\n",
       "      <td>BL-003</td>\n",
       "      <td>T</td>\n",
       "      <td>앞 중심에 단추 여밈 칼라가 없는 넓고 깊게 파인 브이넥 엉덩이 밑으로 내려오는 긴...</td>\n",
       "    </tr>\n",
       "    <tr>\n",
       "      <th>3</th>\n",
       "      <td>BL-004</td>\n",
       "      <td>T</td>\n",
       "      <td>앞중심에 단추 여밈 칼라가 없는 라운드넥으로 골반 위에서 끝나는 짧은 기장 손목, ...</td>\n",
       "    </tr>\n",
       "    <tr>\n",
       "      <th>4</th>\n",
       "      <td>BL-005</td>\n",
       "      <td>T</td>\n",
       "      <td>앞단추 여밈의 전체 오픈형 칼라가 없는 라운드넥크라인 엉덩이 위에서 끝나는 짧은 기...</td>\n",
       "    </tr>\n",
       "  </tbody>\n",
       "</table>\n",
       "</div>"
      ],
      "text/plain": [
       "       id part                                                exp\n",
       "0  BL-001    T  단추 여밈의 전체 오픈형 스탠드 칼라와 브이넥 네크라인의 결합스타일 손목까지 내려오...\n",
       "1  BL-002    T  넓은 셔츠칼라 네크라인 앞중심에 반 오픈 끈여밈있는 스타일 드롭숄더 퍼프형 소매로 ...\n",
       "2  BL-003    T  앞 중심에 단추 여밈 칼라가 없는 넓고 깊게 파인 브이넥 엉덩이 밑으로 내려오는 긴...\n",
       "3  BL-004    T  앞중심에 단추 여밈 칼라가 없는 라운드넥으로 골반 위에서 끝나는 짧은 기장 손목, ...\n",
       "4  BL-005    T  앞단추 여밈의 전체 오픈형 칼라가 없는 라운드넥크라인 엉덩이 위에서 끝나는 짧은 기..."
      ]
     },
     "metadata": {},
     "execution_count": 6
    }
   ],
   "metadata": {}
  },
  {
   "cell_type": "code",
   "execution_count": 7,
   "source": [
    "c_mdata.loc[c_mdata[\"id\"] == \"BL-001\"].part.values[0]"
   ],
   "outputs": [
    {
     "output_type": "execute_result",
     "data": {
      "text/plain": [
       "'T'"
      ]
     },
     "metadata": {},
     "execution_count": 7
    }
   ],
   "metadata": {}
  },
  {
   "cell_type": "markdown",
   "source": [
    "# 3. NaN, Null 값 확인"
   ],
   "metadata": {}
  },
  {
   "cell_type": "code",
   "execution_count": 8,
   "source": [
    "ddata.isnull().sum()"
   ],
   "outputs": [
    {
     "output_type": "execute_result",
     "data": {
      "text/plain": [
       "num             0\n",
       "speaker         0\n",
       "contents        0\n",
       "tags        51927\n",
       "dtype: int64"
      ]
     },
     "metadata": {},
     "execution_count": 8
    }
   ],
   "metadata": {}
  },
  {
   "cell_type": "code",
   "execution_count": 9,
   "source": [
    "ddata.isna().sum()"
   ],
   "outputs": [
    {
     "output_type": "execute_result",
     "data": {
      "text/plain": [
       "num             0\n",
       "speaker         0\n",
       "contents        0\n",
       "tags        51927\n",
       "dtype: int64"
      ]
     },
     "metadata": {},
     "execution_count": 9
    }
   ],
   "metadata": {}
  },
  {
   "cell_type": "code",
   "execution_count": 10,
   "source": [
    "ddata.fillna(\"\", inplace=True)\n",
    "ddata.isna().sum()"
   ],
   "outputs": [
    {
     "output_type": "execute_result",
     "data": {
      "text/plain": [
       "num         0\n",
       "speaker     0\n",
       "contents    0\n",
       "tags        0\n",
       "dtype: int64"
      ]
     },
     "metadata": {},
     "execution_count": 10
    }
   ],
   "metadata": {}
  },
  {
   "cell_type": "code",
   "execution_count": 11,
   "source": [
    "mdata.isnull().sum()"
   ],
   "outputs": [
    {
     "output_type": "execute_result",
     "data": {
      "text/plain": [
       "id          0\n",
       "part        0\n",
       "category    0\n",
       "exptype     0\n",
       "exp         0\n",
       "dtype: int64"
      ]
     },
     "metadata": {},
     "execution_count": 11
    }
   ],
   "metadata": {}
  },
  {
   "cell_type": "code",
   "execution_count": 12,
   "source": [
    "c_mdata.isnull().sum()"
   ],
   "outputs": [
    {
     "output_type": "execute_result",
     "data": {
      "text/plain": [
       "id      0\n",
       "part    0\n",
       "exp     0\n",
       "dtype: int64"
      ]
     },
     "metadata": {},
     "execution_count": 12
    }
   ],
   "metadata": {}
  },
  {
   "cell_type": "markdown",
   "source": [
    "# 4. 추천 성공 의상 아이디 종류 및 빈도 카운트 "
   ],
   "metadata": {}
  },
  {
   "cell_type": "markdown",
   "source": [
    "## 한 번에 추천해도 실패하면 전부 실패로 달기"
   ],
   "metadata": {}
  },
  {
   "cell_type": "code",
   "execution_count": 13,
   "source": [
    "c_data = pd.DataFrame({\"contents\":[None], \"id\":[\"xx-xxx\"]})\n",
    "c_data.drop(0,axis=0,inplace=True)\n",
    "c_data.head()"
   ],
   "outputs": [
    {
     "output_type": "execute_result",
     "data": {
      "text/html": [
       "<div>\n",
       "<style scoped>\n",
       "    .dataframe tbody tr th:only-of-type {\n",
       "        vertical-align: middle;\n",
       "    }\n",
       "\n",
       "    .dataframe tbody tr th {\n",
       "        vertical-align: top;\n",
       "    }\n",
       "\n",
       "    .dataframe thead th {\n",
       "        text-align: right;\n",
       "    }\n",
       "</style>\n",
       "<table border=\"1\" class=\"dataframe\">\n",
       "  <thead>\n",
       "    <tr style=\"text-align: right;\">\n",
       "      <th></th>\n",
       "      <th>contents</th>\n",
       "      <th>id</th>\n",
       "    </tr>\n",
       "  </thead>\n",
       "  <tbody>\n",
       "  </tbody>\n",
       "</table>\n",
       "</div>"
      ],
      "text/plain": [
       "Empty DataFrame\n",
       "Columns: [contents, id]\n",
       "Index: []"
      ]
     },
     "metadata": {},
     "execution_count": 13
    }
   ],
   "metadata": {}
  },
  {
   "cell_type": "markdown",
   "source": [
    "<코드 동작 원리>\n",
    "<br>\n",
    "\n",
    "대화문 하나씩 받아온 다음\n",
    "- AC 태그 문장이면 일단 의상 변수에 저장,\n",
    "- user_success 태그 문장이면\n",
    "\n",
    "   - 변수에 저장된 의상이 하나면\n",
    "\n",
    "      - 바로 대화문 변수랑 의상 변수 및 의상 메타데이터 합쳐서 저장 -> 레이블(id 컬럼에 저장)은 의상 코드가 됨\n",
    "\n",
    "   - 변수에 저장된 의상의 여러 개면\n",
    "\n",
    "      - 의상을 하나의 코드 단위로 쪼개서 대화문 변수랑 의상 메타데이터 합쳐서 저장\n",
    "      \n",
    "-  둘 다 아니고 일반 대화문이면 대화문 변수에 저장"
   ],
   "metadata": {}
  },
  {
   "cell_type": "code",
   "execution_count": 14,
   "source": [
    "dial = ddata.loc[0, \"contents\"].strip()\n",
    "ac = \"\"\n",
    "\n",
    "for i in range(1,len(ddata)):\n",
    "    cur_sen = ddata.loc[i,\"contents\"].strip()\n",
    "\n",
    "    if ddata.loc[i, \"num\"] > ddata.loc[i-1, \"num\"]: # 이전 대화셋에 포함된 문장인지 확인\n",
    "        \n",
    "        if ddata.loc[i,\"speaker\"] == \"<AC>\": # case 1. 의상 아이디가 나온 경우\n",
    "            ac = cur_sen # 의상 아이디 저장\n",
    "        \n",
    "\n",
    "        elif \"USER_SUCCESS\" in ddata.loc[i,\"tags\"]: # case 2. 의상 추천 성공한 USER_SUCCESS 태그가 나온 경우\n",
    "            dial = dial + \" \" + cur_sen\n",
    "            if len(ac) < 7: # 의상을 하나만 추천한 경우\n",
    "                c_data.loc[i, \"contents\"] =  dial + \" \" + c_mdata.loc[c_mdata.id == ac].exp.values[0]\n",
    "                c_data.loc[i, \"id\"] = ac\n",
    "\n",
    "            else: # 의상을 한 번에 여러 개 추천한 경우\n",
    "                idx_cnt = 0\n",
    "                for one_ac in ac.split():\n",
    "                    c_data.loc[i + idx_cnt, \"contents\"] =  dial + \" \" + c_mdata.loc[c_mdata.id == one_ac].exp.values[0]\n",
    "                    c_data.loc[i + idx_cnt, \"id\"] = one_ac\n",
    "                    idx_cnt += 1\n",
    "\n",
    "        else: # case 3. 그냥 대화문인 경우\n",
    "            dial = dial + \" \" + cur_sen\n",
    "    \n",
    "    else: #새로운 대화셋 시작이면 초기화\n",
    "        dial = cur_sen\n",
    "        ac = \"\"\n",
    "        ac_part = \"\"\n"
   ],
   "outputs": [],
   "metadata": {}
  },
  {
   "cell_type": "code",
   "execution_count": 15,
   "source": [
    "print(\"전체 데이터 수: \", len(c_data))\n",
    "c_data.head()"
   ],
   "outputs": [
    {
     "output_type": "stream",
     "name": "stdout",
     "text": [
      "전체 데이터 수:  40718\n"
     ]
    },
    {
     "output_type": "execute_result",
     "data": {
      "text/html": [
       "<div>\n",
       "<style scoped>\n",
       "    .dataframe tbody tr th:only-of-type {\n",
       "        vertical-align: middle;\n",
       "    }\n",
       "\n",
       "    .dataframe tbody tr th {\n",
       "        vertical-align: top;\n",
       "    }\n",
       "\n",
       "    .dataframe thead th {\n",
       "        text-align: right;\n",
       "    }\n",
       "</style>\n",
       "<table border=\"1\" class=\"dataframe\">\n",
       "  <thead>\n",
       "    <tr style=\"text-align: right;\">\n",
       "      <th></th>\n",
       "      <th>contents</th>\n",
       "      <th>id</th>\n",
       "    </tr>\n",
       "  </thead>\n",
       "  <tbody>\n",
       "    <tr>\n",
       "      <th>4</th>\n",
       "      <td>어서오세요. 코디봇입니다. 무엇을 도와드릴까요? 처음 대학교 들어가는데 입을 옷 코...</td>\n",
       "      <td>SW-009</td>\n",
       "    </tr>\n",
       "    <tr>\n",
       "      <th>13</th>\n",
       "      <td>어서오세요. 코디봇입니다. 무엇을 도와드릴까요? 처음 대학교 들어가는데 입을 옷 코...</td>\n",
       "      <td>SK-053</td>\n",
       "    </tr>\n",
       "    <tr>\n",
       "      <th>18</th>\n",
       "      <td>어서오세요. 코디봇입니다. 무엇을 도와드릴까요? 처음 대학교 들어가는데 입을 옷 코...</td>\n",
       "      <td>CT-019</td>\n",
       "    </tr>\n",
       "    <tr>\n",
       "      <th>23</th>\n",
       "      <td>어서오세요. 코디봇입니다. 무엇을 도와드릴까요? 처음 대학교 들어가는데 입을 옷 코...</td>\n",
       "      <td>SE-039</td>\n",
       "    </tr>\n",
       "    <tr>\n",
       "      <th>27</th>\n",
       "      <td>어서오세요. 코디봇입니다. 무엇을 도와드릴까요? 처음 대학교 들어가는데 입을 옷 코...</td>\n",
       "      <td>CT-019</td>\n",
       "    </tr>\n",
       "  </tbody>\n",
       "</table>\n",
       "</div>"
      ],
      "text/plain": [
       "                                             contents      id\n",
       "4   어서오세요. 코디봇입니다. 무엇을 도와드릴까요? 처음 대학교 들어가는데 입을 옷 코...  SW-009\n",
       "13  어서오세요. 코디봇입니다. 무엇을 도와드릴까요? 처음 대학교 들어가는데 입을 옷 코...  SK-053\n",
       "18  어서오세요. 코디봇입니다. 무엇을 도와드릴까요? 처음 대학교 들어가는데 입을 옷 코...  CT-019\n",
       "23  어서오세요. 코디봇입니다. 무엇을 도와드릴까요? 처음 대학교 들어가는데 입을 옷 코...  SE-039\n",
       "27  어서오세요. 코디봇입니다. 무엇을 도와드릴까요? 처음 대학교 들어가는데 입을 옷 코...  CT-019"
      ]
     },
     "metadata": {},
     "execution_count": 15
    }
   ],
   "metadata": {}
  },
  {
   "cell_type": "code",
   "execution_count": 16,
   "source": [
    "c_data.reset_index(drop=True ,inplace=True)\n",
    "c_data.head()"
   ],
   "outputs": [
    {
     "output_type": "execute_result",
     "data": {
      "text/html": [
       "<div>\n",
       "<style scoped>\n",
       "    .dataframe tbody tr th:only-of-type {\n",
       "        vertical-align: middle;\n",
       "    }\n",
       "\n",
       "    .dataframe tbody tr th {\n",
       "        vertical-align: top;\n",
       "    }\n",
       "\n",
       "    .dataframe thead th {\n",
       "        text-align: right;\n",
       "    }\n",
       "</style>\n",
       "<table border=\"1\" class=\"dataframe\">\n",
       "  <thead>\n",
       "    <tr style=\"text-align: right;\">\n",
       "      <th></th>\n",
       "      <th>contents</th>\n",
       "      <th>id</th>\n",
       "    </tr>\n",
       "  </thead>\n",
       "  <tbody>\n",
       "    <tr>\n",
       "      <th>0</th>\n",
       "      <td>어서오세요. 코디봇입니다. 무엇을 도와드릴까요? 처음 대학교 들어가는데 입을 옷 코...</td>\n",
       "      <td>SW-009</td>\n",
       "    </tr>\n",
       "    <tr>\n",
       "      <th>1</th>\n",
       "      <td>어서오세요. 코디봇입니다. 무엇을 도와드릴까요? 처음 대학교 들어가는데 입을 옷 코...</td>\n",
       "      <td>SK-053</td>\n",
       "    </tr>\n",
       "    <tr>\n",
       "      <th>2</th>\n",
       "      <td>어서오세요. 코디봇입니다. 무엇을 도와드릴까요? 처음 대학교 들어가는데 입을 옷 코...</td>\n",
       "      <td>CT-019</td>\n",
       "    </tr>\n",
       "    <tr>\n",
       "      <th>3</th>\n",
       "      <td>어서오세요. 코디봇입니다. 무엇을 도와드릴까요? 처음 대학교 들어가는데 입을 옷 코...</td>\n",
       "      <td>SE-039</td>\n",
       "    </tr>\n",
       "    <tr>\n",
       "      <th>4</th>\n",
       "      <td>어서오세요. 코디봇입니다. 무엇을 도와드릴까요? 처음 대학교 들어가는데 입을 옷 코...</td>\n",
       "      <td>CT-019</td>\n",
       "    </tr>\n",
       "  </tbody>\n",
       "</table>\n",
       "</div>"
      ],
      "text/plain": [
       "                                            contents      id\n",
       "0  어서오세요. 코디봇입니다. 무엇을 도와드릴까요? 처음 대학교 들어가는데 입을 옷 코...  SW-009\n",
       "1  어서오세요. 코디봇입니다. 무엇을 도와드릴까요? 처음 대학교 들어가는데 입을 옷 코...  SK-053\n",
       "2  어서오세요. 코디봇입니다. 무엇을 도와드릴까요? 처음 대학교 들어가는데 입을 옷 코...  CT-019\n",
       "3  어서오세요. 코디봇입니다. 무엇을 도와드릴까요? 처음 대학교 들어가는데 입을 옷 코...  SE-039\n",
       "4  어서오세요. 코디봇입니다. 무엇을 도와드릴까요? 처음 대학교 들어가는데 입을 옷 코...  CT-019"
      ]
     },
     "metadata": {},
     "execution_count": 16
    }
   ],
   "metadata": {}
  },
  {
   "cell_type": "code",
   "execution_count": 17,
   "source": [
    "c_data.loc[0].contents"
   ],
   "outputs": [
    {
     "output_type": "execute_result",
     "data": {
      "text/plain": [
       "'어서오세요. 코디봇입니다. 무엇을 도와드릴까요? 처음 대학교 들어가는데 입을 옷 코디해주세요. 신입생 코디에 어울리게 화사한 스웨터를 추천해드릴게요. 이 옷에 어울리는 치마로 추천해주세요. 라운드 네크라인 여밈이 없는 풀오버 스타일 전체 케이블 조직 드롭숄더 슬리브 손등까지 오는 길이의 소매 몸에 적당히 맞는 품 엉덩이를 살짝 덮는 길이 네크라인, 소매 끝, 밑단에 고무단 처리 레이온52%,나일론20%,폴리에스터28% 꽈배기 조직, 플레인 조직이 섞여 있는 형태 드라이 크리닝 단색의 라임색 브라이트톤(고명도 고채도)의 옐로우 그린 산뜻하고 발랄한 느낌 기본의 단정한 편안한 산뜻한 발랄한 경쾌한 따뜻한 데일리룩 캠퍼스룩'"
      ]
     },
     "metadata": {},
     "execution_count": 17
    }
   ],
   "metadata": {}
  },
  {
   "cell_type": "code",
   "execution_count": 18,
   "source": [
    "sh_data = pd.DataFrame({\"contents\":[None], \"id\":[\"xx-xxx\"]})\n",
    "sh_data.drop(0,axis=0,inplace=True)\n",
    "sh_data.head()"
   ],
   "outputs": [
    {
     "output_type": "execute_result",
     "data": {
      "text/html": [
       "<div>\n",
       "<style scoped>\n",
       "    .dataframe tbody tr th:only-of-type {\n",
       "        vertical-align: middle;\n",
       "    }\n",
       "\n",
       "    .dataframe tbody tr th {\n",
       "        vertical-align: top;\n",
       "    }\n",
       "\n",
       "    .dataframe thead th {\n",
       "        text-align: right;\n",
       "    }\n",
       "</style>\n",
       "<table border=\"1\" class=\"dataframe\">\n",
       "  <thead>\n",
       "    <tr style=\"text-align: right;\">\n",
       "      <th></th>\n",
       "      <th>contents</th>\n",
       "      <th>id</th>\n",
       "    </tr>\n",
       "  </thead>\n",
       "  <tbody>\n",
       "  </tbody>\n",
       "</table>\n",
       "</div>"
      ],
      "text/plain": [
       "Empty DataFrame\n",
       "Columns: [contents, id]\n",
       "Index: []"
      ]
     },
     "metadata": {},
     "execution_count": 18
    }
   ],
   "metadata": {}
  },
  {
   "cell_type": "code",
   "execution_count": 19,
   "source": [
    "for i in range(len(c_data)):\n",
    "    if \"SH\" in c_data[\"id\"][i][0:2]:\n",
    "        sh_data = sh_data.append(c_data.iloc[i])\n",
    "\n",
    "sh_data.reset_index(drop=True, inplace=True)\n",
    "print(\"데이터 개수\",len(sh_data))\n",
    "sh_data.head()"
   ],
   "outputs": [
    {
     "output_type": "stream",
     "name": "stdout",
     "text": [
      "데이터 개수 1470\n"
     ]
    },
    {
     "output_type": "execute_result",
     "data": {
      "text/html": [
       "<div>\n",
       "<style scoped>\n",
       "    .dataframe tbody tr th:only-of-type {\n",
       "        vertical-align: middle;\n",
       "    }\n",
       "\n",
       "    .dataframe tbody tr th {\n",
       "        vertical-align: top;\n",
       "    }\n",
       "\n",
       "    .dataframe thead th {\n",
       "        text-align: right;\n",
       "    }\n",
       "</style>\n",
       "<table border=\"1\" class=\"dataframe\">\n",
       "  <thead>\n",
       "    <tr style=\"text-align: right;\">\n",
       "      <th></th>\n",
       "      <th>contents</th>\n",
       "      <th>id</th>\n",
       "    </tr>\n",
       "  </thead>\n",
       "  <tbody>\n",
       "    <tr>\n",
       "      <th>0</th>\n",
       "      <td>어서오세요. 코디봇입니다. 어떤 스타일을 찾고 계신가요? 남자친구랑 도서관에서 공부...</td>\n",
       "      <td>SH-037</td>\n",
       "    </tr>\n",
       "    <tr>\n",
       "      <th>1</th>\n",
       "      <td>어서오세요. 코디봇입니다. 어떤 스타일을 찾고 계신가요? 남자친구랑 도서관에서 공부...</td>\n",
       "      <td>SH-031</td>\n",
       "    </tr>\n",
       "    <tr>\n",
       "      <th>2</th>\n",
       "      <td>어서오세요. 코디봇입니다. 어떤 스타일을 찾고 계신가요? 남자친구랑 도서관에서 공부...</td>\n",
       "      <td>SH-031</td>\n",
       "    </tr>\n",
       "    <tr>\n",
       "      <th>3</th>\n",
       "      <td>안녕하세요. 코디봇입니다. 어떤 스타일을 찾고 계신가요? 친구들이랑 둘레길을 걸으려...</td>\n",
       "      <td>SH-052</td>\n",
       "    </tr>\n",
       "    <tr>\n",
       "      <th>4</th>\n",
       "      <td>안녕하세요. 코디봇입니다. 어떤 스타일을 찾고 계신가요? 친구들이랑 둘레길을 걸으려...</td>\n",
       "      <td>SH-052</td>\n",
       "    </tr>\n",
       "  </tbody>\n",
       "</table>\n",
       "</div>"
      ],
      "text/plain": [
       "                                            contents      id\n",
       "0  어서오세요. 코디봇입니다. 어떤 스타일을 찾고 계신가요? 남자친구랑 도서관에서 공부...  SH-037\n",
       "1  어서오세요. 코디봇입니다. 어떤 스타일을 찾고 계신가요? 남자친구랑 도서관에서 공부...  SH-031\n",
       "2  어서오세요. 코디봇입니다. 어떤 스타일을 찾고 계신가요? 남자친구랑 도서관에서 공부...  SH-031\n",
       "3  안녕하세요. 코디봇입니다. 어떤 스타일을 찾고 계신가요? 친구들이랑 둘레길을 걸으려...  SH-052\n",
       "4  안녕하세요. 코디봇입니다. 어떤 스타일을 찾고 계신가요? 친구들이랑 둘레길을 걸으려...  SH-052"
      ]
     },
     "metadata": {},
     "execution_count": 19
    }
   ],
   "metadata": {}
  },
  {
   "cell_type": "code",
   "execution_count": 20,
   "source": [
    "sh_data[\"contents\"] = sh_data[\"contents\"].str.replace(\"[^A-Za-z0-9ㄱ-ㅎㅏ-ㅣ가-힣 ]\",\"\")\n",
    "sh_data.head()"
   ],
   "outputs": [
    {
     "output_type": "stream",
     "name": "stderr",
     "text": [
      "/tmp/ipykernel_11496/1491276375.py:1: FutureWarning: The default value of regex will change from True to False in a future version.\n",
      "  sh_data[\"contents\"] = sh_data[\"contents\"].str.replace(\"[^A-Za-z0-9ㄱ-ㅎㅏ-ㅣ가-힣 ]\",\"\")\n"
     ]
    },
    {
     "output_type": "execute_result",
     "data": {
      "text/html": [
       "<div>\n",
       "<style scoped>\n",
       "    .dataframe tbody tr th:only-of-type {\n",
       "        vertical-align: middle;\n",
       "    }\n",
       "\n",
       "    .dataframe tbody tr th {\n",
       "        vertical-align: top;\n",
       "    }\n",
       "\n",
       "    .dataframe thead th {\n",
       "        text-align: right;\n",
       "    }\n",
       "</style>\n",
       "<table border=\"1\" class=\"dataframe\">\n",
       "  <thead>\n",
       "    <tr style=\"text-align: right;\">\n",
       "      <th></th>\n",
       "      <th>contents</th>\n",
       "      <th>id</th>\n",
       "    </tr>\n",
       "  </thead>\n",
       "  <tbody>\n",
       "    <tr>\n",
       "      <th>0</th>\n",
       "      <td>어서오세요 코디봇입니다 어떤 스타일을 찾고 계신가요 남자친구랑 도서관에서 공부하려는...</td>\n",
       "      <td>SH-037</td>\n",
       "    </tr>\n",
       "    <tr>\n",
       "      <th>1</th>\n",
       "      <td>어서오세요 코디봇입니다 어떤 스타일을 찾고 계신가요 남자친구랑 도서관에서 공부하려는...</td>\n",
       "      <td>SH-031</td>\n",
       "    </tr>\n",
       "    <tr>\n",
       "      <th>2</th>\n",
       "      <td>어서오세요 코디봇입니다 어떤 스타일을 찾고 계신가요 남자친구랑 도서관에서 공부하려는...</td>\n",
       "      <td>SH-031</td>\n",
       "    </tr>\n",
       "    <tr>\n",
       "      <th>3</th>\n",
       "      <td>안녕하세요 코디봇입니다 어떤 스타일을 찾고 계신가요 친구들이랑 둘레길을 걸으려는데 ...</td>\n",
       "      <td>SH-052</td>\n",
       "    </tr>\n",
       "    <tr>\n",
       "      <th>4</th>\n",
       "      <td>안녕하세요 코디봇입니다 어떤 스타일을 찾고 계신가요 친구들이랑 둘레길을 걸으려는데 ...</td>\n",
       "      <td>SH-052</td>\n",
       "    </tr>\n",
       "  </tbody>\n",
       "</table>\n",
       "</div>"
      ],
      "text/plain": [
       "                                            contents      id\n",
       "0  어서오세요 코디봇입니다 어떤 스타일을 찾고 계신가요 남자친구랑 도서관에서 공부하려는...  SH-037\n",
       "1  어서오세요 코디봇입니다 어떤 스타일을 찾고 계신가요 남자친구랑 도서관에서 공부하려는...  SH-031\n",
       "2  어서오세요 코디봇입니다 어떤 스타일을 찾고 계신가요 남자친구랑 도서관에서 공부하려는...  SH-031\n",
       "3  안녕하세요 코디봇입니다 어떤 스타일을 찾고 계신가요 친구들이랑 둘레길을 걸으려는데 ...  SH-052\n",
       "4  안녕하세요 코디봇입니다 어떤 스타일을 찾고 계신가요 친구들이랑 둘레길을 걸으려는데 ...  SH-052"
      ]
     },
     "metadata": {},
     "execution_count": 20
    }
   ],
   "metadata": {}
  },
  {
   "cell_type": "code",
   "execution_count": 21,
   "source": [
    "sh_data[\"id\"] = sh_data[\"id\"].str.replace(\"[^0-9]\",\"\")\n",
    "\n",
    "sh_data.head()\n"
   ],
   "outputs": [
    {
     "output_type": "stream",
     "name": "stderr",
     "text": [
      "/tmp/ipykernel_11496/3123004143.py:1: FutureWarning: The default value of regex will change from True to False in a future version.\n",
      "  sh_data[\"id\"] = sh_data[\"id\"].str.replace(\"[^0-9]\",\"\")\n"
     ]
    },
    {
     "output_type": "execute_result",
     "data": {
      "text/html": [
       "<div>\n",
       "<style scoped>\n",
       "    .dataframe tbody tr th:only-of-type {\n",
       "        vertical-align: middle;\n",
       "    }\n",
       "\n",
       "    .dataframe tbody tr th {\n",
       "        vertical-align: top;\n",
       "    }\n",
       "\n",
       "    .dataframe thead th {\n",
       "        text-align: right;\n",
       "    }\n",
       "</style>\n",
       "<table border=\"1\" class=\"dataframe\">\n",
       "  <thead>\n",
       "    <tr style=\"text-align: right;\">\n",
       "      <th></th>\n",
       "      <th>contents</th>\n",
       "      <th>id</th>\n",
       "    </tr>\n",
       "  </thead>\n",
       "  <tbody>\n",
       "    <tr>\n",
       "      <th>0</th>\n",
       "      <td>어서오세요 코디봇입니다 어떤 스타일을 찾고 계신가요 남자친구랑 도서관에서 공부하려는...</td>\n",
       "      <td>037</td>\n",
       "    </tr>\n",
       "    <tr>\n",
       "      <th>1</th>\n",
       "      <td>어서오세요 코디봇입니다 어떤 스타일을 찾고 계신가요 남자친구랑 도서관에서 공부하려는...</td>\n",
       "      <td>031</td>\n",
       "    </tr>\n",
       "    <tr>\n",
       "      <th>2</th>\n",
       "      <td>어서오세요 코디봇입니다 어떤 스타일을 찾고 계신가요 남자친구랑 도서관에서 공부하려는...</td>\n",
       "      <td>031</td>\n",
       "    </tr>\n",
       "    <tr>\n",
       "      <th>3</th>\n",
       "      <td>안녕하세요 코디봇입니다 어떤 스타일을 찾고 계신가요 친구들이랑 둘레길을 걸으려는데 ...</td>\n",
       "      <td>052</td>\n",
       "    </tr>\n",
       "    <tr>\n",
       "      <th>4</th>\n",
       "      <td>안녕하세요 코디봇입니다 어떤 스타일을 찾고 계신가요 친구들이랑 둘레길을 걸으려는데 ...</td>\n",
       "      <td>052</td>\n",
       "    </tr>\n",
       "  </tbody>\n",
       "</table>\n",
       "</div>"
      ],
      "text/plain": [
       "                                            contents   id\n",
       "0  어서오세요 코디봇입니다 어떤 스타일을 찾고 계신가요 남자친구랑 도서관에서 공부하려는...  037\n",
       "1  어서오세요 코디봇입니다 어떤 스타일을 찾고 계신가요 남자친구랑 도서관에서 공부하려는...  031\n",
       "2  어서오세요 코디봇입니다 어떤 스타일을 찾고 계신가요 남자친구랑 도서관에서 공부하려는...  031\n",
       "3  안녕하세요 코디봇입니다 어떤 스타일을 찾고 계신가요 친구들이랑 둘레길을 걸으려는데 ...  052\n",
       "4  안녕하세요 코디봇입니다 어떤 스타일을 찾고 계신가요 친구들이랑 둘레길을 걸으려는데 ...  052"
      ]
     },
     "metadata": {},
     "execution_count": 21
    }
   ],
   "metadata": {}
  },
  {
   "cell_type": "code",
   "execution_count": 22,
   "source": [
    "from collections import Counter\n",
    "temp = sh_data[\"id\"].tolist()\n",
    "type_count = dict(Counter(temp))\n",
    "type_count"
   ],
   "outputs": [
    {
     "output_type": "execute_result",
     "data": {
      "text/plain": [
       "{'037': 23,\n",
       " '031': 12,\n",
       " '052': 8,\n",
       " '046': 25,\n",
       " '042': 42,\n",
       " '009': 49,\n",
       " '004': 83,\n",
       " '011': 48,\n",
       " '036': 21,\n",
       " '001': 67,\n",
       " '028': 21,\n",
       " '013': 28,\n",
       " '022': 36,\n",
       " '029': 17,\n",
       " '050': 5,\n",
       " '002': 9,\n",
       " '024': 15,\n",
       " '017': 1,\n",
       " '035': 11,\n",
       " '020': 19,\n",
       " '032': 4,\n",
       " '049': 9,\n",
       " '048': 19,\n",
       " '025': 25,\n",
       " '033': 10,\n",
       " '005': 47,\n",
       " '038': 16,\n",
       " '019': 17,\n",
       " '003': 12,\n",
       " '018': 6,\n",
       " '008': 21,\n",
       " '051': 25,\n",
       " '043': 9,\n",
       " '026': 7,\n",
       " '041': 6,\n",
       " '010': 13,\n",
       " '047': 1,\n",
       " '034': 1,\n",
       " '045': 10,\n",
       " '014': 3,\n",
       " '023': 5,\n",
       " '012': 9,\n",
       " '015': 6,\n",
       " '076': 13,\n",
       " '077': 15,\n",
       " '073': 25,\n",
       " '113': 18,\n",
       " '085': 11,\n",
       " '059': 23,\n",
       " '084': 26,\n",
       " '122': 5,\n",
       " '096': 25,\n",
       " '066': 19,\n",
       " '108': 10,\n",
       " '109': 6,\n",
       " '097': 5,\n",
       " '092': 7,\n",
       " '062': 12,\n",
       " '100': 8,\n",
       " '061': 22,\n",
       " '107': 10,\n",
       " '103': 1,\n",
       " '114': 14,\n",
       " '117': 27,\n",
       " '060': 9,\n",
       " '110': 7,\n",
       " '075': 13,\n",
       " '091': 4,\n",
       " '058': 7,\n",
       " '112': 34,\n",
       " '094': 2,\n",
       " '027': 2,\n",
       " '074': 21,\n",
       " '055': 34,\n",
       " '057': 15,\n",
       " '111': 12,\n",
       " '090': 8,\n",
       " '021': 2,\n",
       " '054': 9,\n",
       " '065': 8,\n",
       " '056': 6,\n",
       " '115': 6,\n",
       " '101': 5,\n",
       " '053': 12,\n",
       " '016': 3,\n",
       " '086': 6,\n",
       " '120': 8,\n",
       " '119': 9,\n",
       " '067': 10,\n",
       " '099': 3,\n",
       " '121': 5,\n",
       " '072': 2,\n",
       " '088': 4,\n",
       " '078': 8,\n",
       " '104': 5,\n",
       " '098': 4,\n",
       " '123': 2,\n",
       " '129': 3,\n",
       " '116': 6,\n",
       " '089': 11,\n",
       " '079': 6,\n",
       " '105': 1,\n",
       " '083': 8,\n",
       " '082': 1,\n",
       " '063': 2,\n",
       " '070': 7,\n",
       " '007': 1,\n",
       " '126': 2,\n",
       " '087': 1,\n",
       " '106': 2,\n",
       " '069': 4,\n",
       " '080': 1,\n",
       " '124': 3,\n",
       " '071': 1,\n",
       " '095': 2}"
      ]
     },
     "metadata": {},
     "execution_count": 22
    }
   ],
   "metadata": {}
  },
  {
   "cell_type": "code",
   "execution_count": 23,
   "source": [
    "len(type_count)"
   ],
   "outputs": [
    {
     "output_type": "execute_result",
     "data": {
      "text/plain": [
       "115"
      ]
     },
     "metadata": {},
     "execution_count": 23
    }
   ],
   "metadata": {}
  },
  {
   "cell_type": "code",
   "execution_count": 24,
   "source": [
    "import matplotlib.pyplot as plt\n",
    "plt.bar(type_count.keys(),type_count.values(), color='k')"
   ],
   "outputs": [
    {
     "output_type": "execute_result",
     "data": {
      "text/plain": [
       "<BarContainer object of 115 artists>"
      ]
     },
     "metadata": {},
     "execution_count": 24
    },
    {
     "output_type": "display_data",
     "data": {
      "image/png": "[encoded data removed]",
      "text/plain": [
       "<Figure size 432x288 with 1 Axes>"
      ]
     },
     "metadata": {
      "needs_background": "light"
     }
    }
   ],
   "metadata": {}
  },
  {
   "cell_type": "markdown",
   "source": [
    "# 5. 형태소 분석"
   ],
   "metadata": {}
  },
  {
   "cell_type": "markdown",
   "source": [
    "## Mecab 사용"
   ],
   "metadata": {}
  },
  {
   "cell_type": "code",
   "execution_count": 25,
   "source": [
    "from konlpy.tag import Mecab\n",
    "mecab = Mecab()"
   ],
   "outputs": [],
   "metadata": {}
  },
  {
   "cell_type": "code",
   "execution_count": 26,
   "source": [
    "mecab.morphs(sh_data[\"contents\"][0])"
   ],
   "outputs": [
    {
     "output_type": "execute_result",
     "data": {
      "text/plain": [
       "['어서',\n",
       " '오',\n",
       " '세요',\n",
       " '코디',\n",
       " '봇',\n",
       " '입니다',\n",
       " '어떤',\n",
       " '스타일',\n",
       " '을',\n",
       " '찾',\n",
       " '고',\n",
       " '계신',\n",
       " '가요',\n",
       " '남자',\n",
       " '친구',\n",
       " '랑',\n",
       " '도서관',\n",
       " '에서',\n",
       " '공부',\n",
       " '하',\n",
       " '려는',\n",
       " '데',\n",
       " '어울리',\n",
       " '는',\n",
       " '코디',\n",
       " '보여',\n",
       " '주',\n",
       " '세요',\n",
       " '편안',\n",
       " '함',\n",
       " '을',\n",
       " '주',\n",
       " '는',\n",
       " '실용',\n",
       " '성',\n",
       " '있',\n",
       " '는',\n",
       " '바지',\n",
       " '에',\n",
       " '남자',\n",
       " '친구',\n",
       " '에게',\n",
       " '보여도',\n",
       " '아쉽',\n",
       " '지',\n",
       " '않',\n",
       " '을',\n",
       " '자켓',\n",
       " '패션',\n",
       " '으로',\n",
       " '코디',\n",
       " '해',\n",
       " '보',\n",
       " '았',\n",
       " '습니다',\n",
       " '마음',\n",
       " '에',\n",
       " '드',\n",
       " '시',\n",
       " '나요',\n",
       " '도서관',\n",
       " '에서',\n",
       " '오프',\n",
       " '숄더',\n",
       " '는',\n",
       " '아니',\n",
       " '지',\n",
       " '않',\n",
       " '나요',\n",
       " '신발',\n",
       " '도',\n",
       " '이상',\n",
       " '해요',\n",
       " '전체',\n",
       " '코디',\n",
       " '다시',\n",
       " '해',\n",
       " '주',\n",
       " '세요',\n",
       " '그렇',\n",
       " '다면',\n",
       " '좀',\n",
       " '더',\n",
       " '학생',\n",
       " '에게',\n",
       " '잘',\n",
       " '어울릴',\n",
       " '만',\n",
       " '한',\n",
       " '코디',\n",
       " '로',\n",
       " '제안',\n",
       " '해',\n",
       " '드릴게요',\n",
       " '캐주얼',\n",
       " '하',\n",
       " '면서',\n",
       " '도',\n",
       " '시원',\n",
       " '한',\n",
       " '느낌',\n",
       " '의',\n",
       " '바지',\n",
       " '로',\n",
       " '여름',\n",
       " '분위기',\n",
       " '를',\n",
       " '물씬',\n",
       " '낼',\n",
       " '수',\n",
       " '있',\n",
       " '답니다',\n",
       " '외투',\n",
       " '랑',\n",
       " '신발',\n",
       " '빼',\n",
       " '고',\n",
       " '셔츠',\n",
       " '에',\n",
       " '입',\n",
       " '을',\n",
       " '바',\n",
       " '지만',\n",
       " '코디',\n",
       " '해',\n",
       " '주',\n",
       " '세요',\n",
       " '차이',\n",
       " '나',\n",
       " '칼라',\n",
       " '앞',\n",
       " '여',\n",
       " '밈',\n",
       " '으로',\n",
       " '전체',\n",
       " '오픈',\n",
       " '형',\n",
       " '으로',\n",
       " '단추',\n",
       " '가',\n",
       " '있',\n",
       " '음',\n",
       " '손등',\n",
       " '까지',\n",
       " '오',\n",
       " '는',\n",
       " '일자',\n",
       " '형',\n",
       " '소매',\n",
       " '루즈',\n",
       " '한',\n",
       " '실루엣',\n",
       " '으로',\n",
       " '품',\n",
       " '이',\n",
       " '넉넉',\n",
       " '함',\n",
       " '앞뒤',\n",
       " '길',\n",
       " '이',\n",
       " '차이',\n",
       " '가',\n",
       " '없',\n",
       " '고',\n",
       " '엉덩이',\n",
       " '를',\n",
       " '덮',\n",
       " '는',\n",
       " '길',\n",
       " '이',\n",
       " '라운드',\n",
       " '형',\n",
       " '밑단',\n",
       " '어깨',\n",
       " '부분',\n",
       " '요',\n",
       " '오크',\n",
       " '절개',\n",
       " '절개',\n",
       " '부분',\n",
       " '에',\n",
       " '약간',\n",
       " '의',\n",
       " '셔링',\n",
       " '으로',\n",
       " '볼륨',\n",
       " '과',\n",
       " '여분',\n",
       " '을',\n",
       " '줌',\n",
       " '전체',\n",
       " '타탄체크',\n",
       " '레이온',\n",
       " '100',\n",
       " '플레인',\n",
       " '조직',\n",
       " '드라이',\n",
       " '클리닝',\n",
       " '권장',\n",
       " '신축성',\n",
       " '없',\n",
       " '음',\n",
       " '비침',\n",
       " '약간',\n",
       " '있',\n",
       " '음',\n",
       " '두께',\n",
       " '감',\n",
       " '적당',\n",
       " '함',\n",
       " '브라운',\n",
       " '차콜',\n",
       " '오트밀',\n",
       " '의',\n",
       " '체크',\n",
       " '패턴',\n",
       " '가을',\n",
       " '느낌',\n",
       " '의',\n",
       " '컬러',\n",
       " '감',\n",
       " '캐주얼',\n",
       " '한',\n",
       " '클래식',\n",
       " '한',\n",
       " '깔끔',\n",
       " '한',\n",
       " '대학생',\n",
       " '같',\n",
       " '은',\n",
       " '가을',\n",
       " '느낌',\n",
       " '의',\n",
       " '부드러운',\n",
       " '가벼운']"
      ]
     },
     "metadata": {},
     "execution_count": 26
    }
   ],
   "metadata": {}
  },
  {
   "cell_type": "code",
   "execution_count": 27,
   "source": [
    "x_data = []\n",
    "for i in range(len(sh_data)):\n",
    "    x_data.append(mecab.morphs(sh_data[\"contents\"][i]))\n",
    "\n",
    "x_data[0]"
   ],
   "outputs": [
    {
     "output_type": "execute_result",
     "data": {
      "text/plain": [
       "['어서',\n",
       " '오',\n",
       " '세요',\n",
       " '코디',\n",
       " '봇',\n",
       " '입니다',\n",
       " '어떤',\n",
       " '스타일',\n",
       " '을',\n",
       " '찾',\n",
       " '고',\n",
       " '계신',\n",
       " '가요',\n",
       " '남자',\n",
       " '친구',\n",
       " '랑',\n",
       " '도서관',\n",
       " '에서',\n",
       " '공부',\n",
       " '하',\n",
       " '려는',\n",
       " '데',\n",
       " '어울리',\n",
       " '는',\n",
       " '코디',\n",
       " '보여',\n",
       " '주',\n",
       " '세요',\n",
       " '편안',\n",
       " '함',\n",
       " '을',\n",
       " '주',\n",
       " '는',\n",
       " '실용',\n",
       " '성',\n",
       " '있',\n",
       " '는',\n",
       " '바지',\n",
       " '에',\n",
       " '남자',\n",
       " '친구',\n",
       " '에게',\n",
       " '보여도',\n",
       " '아쉽',\n",
       " '지',\n",
       " '않',\n",
       " '을',\n",
       " '자켓',\n",
       " '패션',\n",
       " '으로',\n",
       " '코디',\n",
       " '해',\n",
       " '보',\n",
       " '았',\n",
       " '습니다',\n",
       " '마음',\n",
       " '에',\n",
       " '드',\n",
       " '시',\n",
       " '나요',\n",
       " '도서관',\n",
       " '에서',\n",
       " '오프',\n",
       " '숄더',\n",
       " '는',\n",
       " '아니',\n",
       " '지',\n",
       " '않',\n",
       " '나요',\n",
       " '신발',\n",
       " '도',\n",
       " '이상',\n",
       " '해요',\n",
       " '전체',\n",
       " '코디',\n",
       " '다시',\n",
       " '해',\n",
       " '주',\n",
       " '세요',\n",
       " '그렇',\n",
       " '다면',\n",
       " '좀',\n",
       " '더',\n",
       " '학생',\n",
       " '에게',\n",
       " '잘',\n",
       " '어울릴',\n",
       " '만',\n",
       " '한',\n",
       " '코디',\n",
       " '로',\n",
       " '제안',\n",
       " '해',\n",
       " '드릴게요',\n",
       " '캐주얼',\n",
       " '하',\n",
       " '면서',\n",
       " '도',\n",
       " '시원',\n",
       " '한',\n",
       " '느낌',\n",
       " '의',\n",
       " '바지',\n",
       " '로',\n",
       " '여름',\n",
       " '분위기',\n",
       " '를',\n",
       " '물씬',\n",
       " '낼',\n",
       " '수',\n",
       " '있',\n",
       " '답니다',\n",
       " '외투',\n",
       " '랑',\n",
       " '신발',\n",
       " '빼',\n",
       " '고',\n",
       " '셔츠',\n",
       " '에',\n",
       " '입',\n",
       " '을',\n",
       " '바',\n",
       " '지만',\n",
       " '코디',\n",
       " '해',\n",
       " '주',\n",
       " '세요',\n",
       " '차이',\n",
       " '나',\n",
       " '칼라',\n",
       " '앞',\n",
       " '여',\n",
       " '밈',\n",
       " '으로',\n",
       " '전체',\n",
       " '오픈',\n",
       " '형',\n",
       " '으로',\n",
       " '단추',\n",
       " '가',\n",
       " '있',\n",
       " '음',\n",
       " '손등',\n",
       " '까지',\n",
       " '오',\n",
       " '는',\n",
       " '일자',\n",
       " '형',\n",
       " '소매',\n",
       " '루즈',\n",
       " '한',\n",
       " '실루엣',\n",
       " '으로',\n",
       " '품',\n",
       " '이',\n",
       " '넉넉',\n",
       " '함',\n",
       " '앞뒤',\n",
       " '길',\n",
       " '이',\n",
       " '차이',\n",
       " '가',\n",
       " '없',\n",
       " '고',\n",
       " '엉덩이',\n",
       " '를',\n",
       " '덮',\n",
       " '는',\n",
       " '길',\n",
       " '이',\n",
       " '라운드',\n",
       " '형',\n",
       " '밑단',\n",
       " '어깨',\n",
       " '부분',\n",
       " '요',\n",
       " '오크',\n",
       " '절개',\n",
       " '절개',\n",
       " '부분',\n",
       " '에',\n",
       " '약간',\n",
       " '의',\n",
       " '셔링',\n",
       " '으로',\n",
       " '볼륨',\n",
       " '과',\n",
       " '여분',\n",
       " '을',\n",
       " '줌',\n",
       " '전체',\n",
       " '타탄체크',\n",
       " '레이온',\n",
       " '100',\n",
       " '플레인',\n",
       " '조직',\n",
       " '드라이',\n",
       " '클리닝',\n",
       " '권장',\n",
       " '신축성',\n",
       " '없',\n",
       " '음',\n",
       " '비침',\n",
       " '약간',\n",
       " '있',\n",
       " '음',\n",
       " '두께',\n",
       " '감',\n",
       " '적당',\n",
       " '함',\n",
       " '브라운',\n",
       " '차콜',\n",
       " '오트밀',\n",
       " '의',\n",
       " '체크',\n",
       " '패턴',\n",
       " '가을',\n",
       " '느낌',\n",
       " '의',\n",
       " '컬러',\n",
       " '감',\n",
       " '캐주얼',\n",
       " '한',\n",
       " '클래식',\n",
       " '한',\n",
       " '깔끔',\n",
       " '한',\n",
       " '대학생',\n",
       " '같',\n",
       " '은',\n",
       " '가을',\n",
       " '느낌',\n",
       " '의',\n",
       " '부드러운',\n",
       " '가벼운']"
      ]
     },
     "metadata": {},
     "execution_count": 27
    }
   ],
   "metadata": {}
  },
  {
   "cell_type": "code",
   "execution_count": 28,
   "source": [
    "stopwords = []\n",
    "with open('./data/불용어사전.txt', mode='rt', encoding='utf-8') as f:\n",
    "    for word in f.readlines():\n",
    "        word = word.strip()\n",
    "        stopwords.append(word)\n",
    "stopwords[0:2]"
   ],
   "outputs": [
    {
     "output_type": "execute_result",
     "data": {
      "text/plain": [
       "['어찌됐든', '그위에']"
      ]
     },
     "metadata": {},
     "execution_count": 28
    }
   ],
   "metadata": {}
  },
  {
   "cell_type": "code",
   "execution_count": 29,
   "source": [
    "X_data = []\n",
    "for sentence in x_data: #문장 하나 가져오고 단어 단위로 쪼개기\n",
    "    temp_X = [word for word in sentence if not word in stopwords] # 불용어 제거\n",
    "    X_data.append(temp_X)\n",
    "X_data[0]"
   ],
   "outputs": [
    {
     "output_type": "execute_result",
     "data": {
      "text/plain": [
       "['어서',\n",
       " '세요',\n",
       " '코디',\n",
       " '봇',\n",
       " '입니다',\n",
       " '스타일',\n",
       " '찾',\n",
       " '고',\n",
       " '계신',\n",
       " '가요',\n",
       " '남자',\n",
       " '친구',\n",
       " '랑',\n",
       " '도서관',\n",
       " '공부',\n",
       " '려는',\n",
       " '데',\n",
       " '어울리',\n",
       " '코디',\n",
       " '보여',\n",
       " '주',\n",
       " '세요',\n",
       " '편안',\n",
       " '함',\n",
       " '주',\n",
       " '실용',\n",
       " '성',\n",
       " '있',\n",
       " '바지',\n",
       " '남자',\n",
       " '친구',\n",
       " '보여도',\n",
       " '아쉽',\n",
       " '지',\n",
       " '않',\n",
       " '자켓',\n",
       " '패션',\n",
       " '코디',\n",
       " '보',\n",
       " '았',\n",
       " '마음',\n",
       " '시',\n",
       " '나요',\n",
       " '도서관',\n",
       " '오프',\n",
       " '숄더',\n",
       " '아니',\n",
       " '지',\n",
       " '않',\n",
       " '나요',\n",
       " '신발',\n",
       " '도',\n",
       " '전체',\n",
       " '코디',\n",
       " '다시',\n",
       " '주',\n",
       " '세요',\n",
       " '그렇',\n",
       " '다면',\n",
       " '더',\n",
       " '학생',\n",
       " '잘',\n",
       " '어울릴',\n",
       " '만',\n",
       " '코디',\n",
       " '제안',\n",
       " '드릴게요',\n",
       " '캐주얼',\n",
       " '면서',\n",
       " '도',\n",
       " '시원',\n",
       " '느낌',\n",
       " '바지',\n",
       " '여름',\n",
       " '분위기',\n",
       " '물씬',\n",
       " '낼',\n",
       " '수',\n",
       " '있',\n",
       " '답니다',\n",
       " '외투',\n",
       " '랑',\n",
       " '신발',\n",
       " '빼',\n",
       " '고',\n",
       " '셔츠',\n",
       " '입',\n",
       " '바',\n",
       " '코디',\n",
       " '주',\n",
       " '세요',\n",
       " '차이',\n",
       " '칼라',\n",
       " '앞',\n",
       " '밈',\n",
       " '전체',\n",
       " '오픈',\n",
       " '형',\n",
       " '단추',\n",
       " '있',\n",
       " '손등',\n",
       " '일자',\n",
       " '형',\n",
       " '루즈',\n",
       " '실루엣',\n",
       " '품',\n",
       " '넉넉',\n",
       " '함',\n",
       " '앞뒤',\n",
       " '길',\n",
       " '차이',\n",
       " '고',\n",
       " '엉덩이',\n",
       " '덮',\n",
       " '길',\n",
       " '라운드',\n",
       " '형',\n",
       " '밑단',\n",
       " '어깨',\n",
       " '부분',\n",
       " '오크',\n",
       " '절개',\n",
       " '절개',\n",
       " '부분',\n",
       " '셔링',\n",
       " '볼륨',\n",
       " '여분',\n",
       " '줌',\n",
       " '전체',\n",
       " '타탄체크',\n",
       " '레이온',\n",
       " '100',\n",
       " '플레인',\n",
       " '조직',\n",
       " '드라이',\n",
       " '클리닝',\n",
       " '권장',\n",
       " '신축성',\n",
       " '비침',\n",
       " '있',\n",
       " '두께',\n",
       " '감',\n",
       " '적당',\n",
       " '함',\n",
       " '브라운',\n",
       " '차콜',\n",
       " '오트밀',\n",
       " '체크',\n",
       " '패턴',\n",
       " '가을',\n",
       " '느낌',\n",
       " '컬러',\n",
       " '감',\n",
       " '캐주얼',\n",
       " '클래식',\n",
       " '깔끔',\n",
       " '대학생',\n",
       " '같',\n",
       " '가을',\n",
       " '느낌',\n",
       " '부드러운',\n",
       " '가벼운']"
      ]
     },
     "metadata": {},
     "execution_count": 29
    }
   ],
   "metadata": {}
  },
  {
   "cell_type": "markdown",
   "source": [
    "## 1. 임베딩 레이어 활용"
   ],
   "metadata": {}
  },
  {
   "cell_type": "markdown",
   "source": [
    "### 정수 인코딩"
   ],
   "metadata": {}
  },
  {
   "cell_type": "code",
   "execution_count": 30,
   "source": [
    "from tensorflow.keras.preprocessing.text import Tokenizer\n",
    "tokenizer = Tokenizer()\n",
    "tokenizer.fit_on_texts(X_data)"
   ],
   "outputs": [],
   "metadata": {}
  },
  {
   "cell_type": "code",
   "execution_count": 31,
   "source": [
    "threshold = 5\n",
    "total_cnt = len(tokenizer.word_index) # 단어의 수\n",
    "rare_cnt = 0 # 등장 빈도수가 threshold보다 작은 단어의 개수를 카운트\n",
    "total_freq = 0 # 훈련 데이터의 전체 단어 빈도수 총 합\n",
    "rare_freq = 0 # 등장 빈도수가 threshold보다 작은 단어의 등장 빈도수의 총 합\n",
    "\n",
    "# 단어와 빈도수의 쌍(pair)을 key와 value로 받는다.\n",
    "for key, value in tokenizer.word_counts.items():\n",
    "    total_freq = total_freq + value\n",
    "\n",
    "    # 단어의 등장 빈도수가 threshold보다 작으면\n",
    "    if(value < threshold):\n",
    "        rare_cnt = rare_cnt + 1\n",
    "        rare_freq = rare_freq + value\n",
    "\n",
    "print('단어 집합(vocabulary)의 크기 :',total_cnt)\n",
    "print('등장 빈도가 %s번 이하인 희귀 단어의 수: %s'%(threshold - 1, rare_cnt))\n",
    "print(\"단어 집합에서 희귀 단어의 비율:\", (rare_cnt / total_cnt)*100)\n",
    "print(\"전체 등장 빈도에서 희귀 단어 등장 빈도 비율:\", (rare_freq / total_freq)*100)"
   ],
   "outputs": [
    {
     "output_type": "stream",
     "name": "stdout",
     "text": [
      "단어 집합(vocabulary)의 크기 : 3028\n",
      "등장 빈도가 4번 이하인 희귀 단어의 수: 1287\n",
      "단어 집합에서 희귀 단어의 비율: 42.503302509907535\n",
      "전체 등장 빈도에서 희귀 단어 등장 빈도 비율: 0.9613903296090616\n"
     ]
    }
   ],
   "metadata": {}
  },
  {
   "cell_type": "code",
   "execution_count": 32,
   "source": [
    "vocab_size = total_cnt - rare_cnt + 1 # tokenizer 함수에 들어 갈 때 영향줘서 1 추가 해야 됨\n",
    "print('단어 집합의 크기 :',vocab_size)"
   ],
   "outputs": [
    {
     "output_type": "stream",
     "name": "stdout",
     "text": [
      "단어 집합의 크기 : 1742\n"
     ]
    }
   ],
   "metadata": {}
  },
  {
   "cell_type": "markdown",
   "source": [
    "케라스 토크나이저의 정수 인코딩은 인덱스가 1부터 시작하지만,\n",
    "\n",
    "케라스 원-핫 인코딩에서 배열의 인덱스가 0부터 시작하기 때문에\n",
    "\n",
    "배열의 크기를 실제 단어 집합의 크기보다 +1로 생성해야하므로 미리 +1 선언 "
   ],
   "metadata": {}
  },
  {
   "cell_type": "markdown",
   "source": [
    "### 맨 앞자리는 비어있어야 함 (원 핫 인코딩은 정수 인코딩한 뒤 나오는 정수 값 자리에 1을 넣는 것)"
   ],
   "metadata": {}
  },
  {
   "cell_type": "code",
   "execution_count": 33,
   "source": [
    "tokenizer = Tokenizer(num_words=vocab_size - 1)\n",
    "tokenizer.fit_on_texts(X_data)\n",
    "len(tokenizer.word_index)"
   ],
   "outputs": [
    {
     "output_type": "execute_result",
     "data": {
      "text/plain": [
       "3028"
      ]
     },
     "metadata": {},
     "execution_count": 33
    }
   ],
   "metadata": {}
  },
  {
   "cell_type": "code",
   "execution_count": 34,
   "source": [
    "X_data = tokenizer.texts_to_sequences(X_data) # 단어에 정수 붙여줄 때 num_word 적용"
   ],
   "outputs": [],
   "metadata": {}
  },
  {
   "cell_type": "markdown",
   "source": [
    "위에서 num_words는 이 데이터에서 등장 빈도 순위로 몇 번째에 해당하는 단어까지만 사용할 것인지 조절\n",
    "\n",
    "예를 들어서 100이란 값을 넣으면, 등장 빈도 순위가 1~100에 해당하는 단어만 사용"
   ],
   "metadata": {}
  },
  {
   "cell_type": "code",
   "execution_count": 35,
   "source": [
    "X_data[1]"
   ],
   "outputs": [
    {
     "output_type": "execute_result",
     "data": {
      "text/plain": [
       "[118,\n",
       " 2,\n",
       " 4,\n",
       " 36,\n",
       " 8,\n",
       " 27,\n",
       " 135,\n",
       " 7,\n",
       " 1245,\n",
       " 132,\n",
       " 607,\n",
       " 294,\n",
       " 196,\n",
       " 1004,\n",
       " 1627,\n",
       " 277,\n",
       " 74,\n",
       " 4,\n",
       " 61,\n",
       " 3,\n",
       " 2,\n",
       " 63,\n",
       " 18,\n",
       " 3,\n",
       " 1314,\n",
       " 363,\n",
       " 1,\n",
       " 43,\n",
       " 607,\n",
       " 294,\n",
       " 78,\n",
       " 121,\n",
       " 125,\n",
       " 1196,\n",
       " 4,\n",
       " 101,\n",
       " 137,\n",
       " 10,\n",
       " 29,\n",
       " 33,\n",
       " 1004,\n",
       " 580,\n",
       " 96,\n",
       " 428,\n",
       " 78,\n",
       " 121,\n",
       " 33,\n",
       " 75,\n",
       " 69,\n",
       " 26,\n",
       " 4,\n",
       " 276,\n",
       " 3,\n",
       " 2,\n",
       " 535,\n",
       " 670,\n",
       " 142,\n",
       " 126,\n",
       " 255,\n",
       " 9,\n",
       " 4,\n",
       " 1315,\n",
       " 444,\n",
       " 82,\n",
       " 113,\n",
       " 69,\n",
       " 31,\n",
       " 13,\n",
       " 43,\n",
       " 279,\n",
       " 353,\n",
       " 955,\n",
       " 1197,\n",
       " 116,\n",
       " 1,\n",
       " 639,\n",
       " 257,\n",
       " 196,\n",
       " 75,\n",
       " 507,\n",
       " 7,\n",
       " 6,\n",
       " 21,\n",
       " 1044,\n",
       " 4,\n",
       " 3,\n",
       " 2,\n",
       " 6,\n",
       " 10,\n",
       " 29,\n",
       " 33,\n",
       " 43,\n",
       " 411,\n",
       " 1315,\n",
       " 149,\n",
       " 48,\n",
       " 1246,\n",
       " 501,\n",
       " 51,\n",
       " 9,\n",
       " 12,\n",
       " 3,\n",
       " 2,\n",
       " 175,\n",
       " 165,\n",
       " 445,\n",
       " 450,\n",
       " 29,\n",
       " 415,\n",
       " 302,\n",
       " 586,\n",
       " 126,\n",
       " 74,\n",
       " 334,\n",
       " 46,\n",
       " 62,\n",
       " 43,\n",
       " 74,\n",
       " 6,\n",
       " 67,\n",
       " 1,\n",
       " 33,\n",
       " 715,\n",
       " 6,\n",
       " 1155,\n",
       " 1366,\n",
       " 282,\n",
       " 239,\n",
       " 131,\n",
       " 470,\n",
       " 384,\n",
       " 4,\n",
       " 1198,\n",
       " 11,\n",
       " 46,\n",
       " 62,\n",
       " 79,\n",
       " 1045,\n",
       " 398,\n",
       " 78,\n",
       " 121,\n",
       " 62,\n",
       " 451,\n",
       " 33,\n",
       " 535,\n",
       " 670,\n",
       " 1367,\n",
       " 384,\n",
       " 4,\n",
       " 1316,\n",
       " 55,\n",
       " 18,\n",
       " 60,\n",
       " 69,\n",
       " 11,\n",
       " 46,\n",
       " 62,\n",
       " 716,\n",
       " 725,\n",
       " 54,\n",
       " 982,\n",
       " 43,\n",
       " 196,\n",
       " 4,\n",
       " 693,\n",
       " 1628,\n",
       " 116,\n",
       " 1,\n",
       " 402,\n",
       " 119,\n",
       " 140,\n",
       " 14,\n",
       " 70,\n",
       " 28,\n",
       " 26,\n",
       " 22,\n",
       " 5,\n",
       " 23,\n",
       " 1,\n",
       " 198,\n",
       " 139,\n",
       " 16,\n",
       " 5,\n",
       " 40,\n",
       " 129,\n",
       " 5,\n",
       " 72,\n",
       " 86,\n",
       " 40,\n",
       " 18,\n",
       " 170,\n",
       " 64,\n",
       " 140,\n",
       " 7,\n",
       " 30,\n",
       " 32,\n",
       " 64,\n",
       " 1156,\n",
       " 1157,\n",
       " 286,\n",
       " 204,\n",
       " 1,\n",
       " 1158,\n",
       " 119,\n",
       " 5,\n",
       " 141,\n",
       " 240,\n",
       " 52,\n",
       " 163,\n",
       " 18,\n",
       " 123,\n",
       " 1159,\n",
       " 1160,\n",
       " 27,\n",
       " 16,\n",
       " 5,\n",
       " 106,\n",
       " 48,\n",
       " 45,\n",
       " 128,\n",
       " 84,\n",
       " 114,\n",
       " 138,\n",
       " 39,\n",
       " 42,\n",
       " 66,\n",
       " 44,\n",
       " 35,\n",
       " 213,\n",
       " 197,\n",
       " 41,\n",
       " 1161,\n",
       " 289,\n",
       " 182,\n",
       " 161,\n",
       " 55,\n",
       " 14,\n",
       " 82,\n",
       " 163,\n",
       " 616,\n",
       " 147,\n",
       " 76,\n",
       " 59,\n",
       " 63,\n",
       " 24]"
      ]
     },
     "metadata": {},
     "execution_count": 35
    }
   ],
   "metadata": {}
  },
  {
   "cell_type": "code",
   "execution_count": 36,
   "source": [
    "print('문장 최대 길이 :',max(len(l) for l in X_data))\n",
    "print('문장의 평균 길이 :',sum(map(len, X_data))/len(X_data))\n",
    "plt.hist([len(s) for s in X_data], bins=50, color='k')\n",
    "plt.xlabel('length of samples')\n",
    "plt.ylabel('number of samples')\n",
    "plt.show()\n",
    "plt.close()"
   ],
   "outputs": [
    {
     "output_type": "stream",
     "name": "stdout",
     "text": [
      "문장 최대 길이 : 443\n",
      "문장의 평균 길이 : 183.6734693877551\n"
     ]
    },
    {
     "output_type": "display_data",
     "data": {
      "image/png": "[encoded data removed]",
      "text/plain": [
       "<Figure size 432x288 with 1 Axes>"
      ]
     },
     "metadata": {
      "needs_background": "light"
     }
    }
   ],
   "metadata": {}
  },
  {
   "cell_type": "code",
   "execution_count": 37,
   "source": [
    "def below_threshold_len(max_len, nested_list):\n",
    "  cnt = 0\n",
    "  for s in nested_list:\n",
    "    if(len(s) <= max_len):\n",
    "        cnt = cnt + 1\n",
    "  print('전체 샘플 중 길이가 %s 이하인 샘플의 비율: %s'%(max_len, (cnt / len(nested_list))*100))\n",
    "\n",
    "max_len = 300\n",
    "below_threshold_len(max_len, X_data)"
   ],
   "outputs": [
    {
     "output_type": "stream",
     "name": "stdout",
     "text": [
      "전체 샘플 중 길이가 300 이하인 샘플의 비율: 98.43537414965986\n"
     ]
    }
   ],
   "metadata": {}
  },
  {
   "cell_type": "markdown",
   "source": [
    "## padding"
   ],
   "metadata": {}
  },
  {
   "cell_type": "code",
   "execution_count": 38,
   "source": [
    "from tensorflow.keras.preprocessing.sequence import pad_sequences\n",
    "X_data = pad_sequences(X_data, maxlen = max_len)"
   ],
   "outputs": [],
   "metadata": {}
  },
  {
   "cell_type": "code",
   "execution_count": 39,
   "source": [
    "print(len(X_data[1]))\n",
    "X_data[1]"
   ],
   "outputs": [
    {
     "output_type": "stream",
     "name": "stdout",
     "text": [
      "300\n"
     ]
    },
    {
     "output_type": "execute_result",
     "data": {
      "text/plain": [
       "array([   0,    0,    0,    0,    0,    0,    0,    0,    0,    0,    0,\n",
       "          0,    0,    0,    0,    0,    0,    0,    0,    0,    0,    0,\n",
       "          0,    0,    0,    0,    0,    0,    0,    0,    0,    0,    0,\n",
       "          0,    0,    0,    0,    0,    0,    0,    0,    0,    0,    0,\n",
       "          0,    0,    0,    0,    0,    0,    0,    0,    0,    0,    0,\n",
       "        118,    2,    4,   36,    8,   27,  135,    7, 1245,  132,  607,\n",
       "        294,  196, 1004, 1627,  277,   74,    4,   61,    3,    2,   63,\n",
       "         18,    3, 1314,  363,    1,   43,  607,  294,   78,  121,  125,\n",
       "       1196,    4,  101,  137,   10,   29,   33, 1004,  580,   96,  428,\n",
       "         78,  121,   33,   75,   69,   26,    4,  276,    3,    2,  535,\n",
       "        670,  142,  126,  255,    9,    4, 1315,  444,   82,  113,   69,\n",
       "         31,   13,   43,  279,  353,  955, 1197,  116,    1,  639,  257,\n",
       "        196,   75,  507,    7,    6,   21, 1044,    4,    3,    2,    6,\n",
       "         10,   29,   33,   43,  411, 1315,  149,   48, 1246,  501,   51,\n",
       "          9,   12,    3,    2,  175,  165,  445,  450,   29,  415,  302,\n",
       "        586,  126,   74,  334,   46,   62,   43,   74,    6,   67,    1,\n",
       "         33,  715,    6, 1155, 1366,  282,  239,  131,  470,  384,    4,\n",
       "       1198,   11,   46,   62,   79, 1045,  398,   78,  121,   62,  451,\n",
       "         33,  535,  670, 1367,  384,    4, 1316,   55,   18,   60,   69,\n",
       "         11,   46,   62,  716,  725,   54,  982,   43,  196,    4,  693,\n",
       "       1628,  116,    1,  402,  119,  140,   14,   70,   28,   26,   22,\n",
       "          5,   23,    1,  198,  139,   16,    5,   40,  129,    5,   72,\n",
       "         86,   40,   18,  170,   64,  140,    7,   30,   32,   64, 1156,\n",
       "       1157,  286,  204,    1, 1158,  119,    5,  141,  240,   52,  163,\n",
       "         18,  123, 1159, 1160,   27,   16,    5,  106,   48,   45,  128,\n",
       "         84,  114,  138,   39,   42,   66,   44,   35,  213,  197,   41,\n",
       "       1161,  289,  182,  161,   55,   14,   82,  163,  616,  147,   76,\n",
       "         59,   63,   24], dtype=int32)"
      ]
     },
     "metadata": {},
     "execution_count": 39
    }
   ],
   "metadata": {}
  },
  {
   "cell_type": "markdown",
   "source": [
    "## 2. Word2Vec 활용"
   ],
   "metadata": {}
  },
  {
   "cell_type": "markdown",
   "source": [
    "# 6. LSTM 돌리기 "
   ],
   "metadata": {}
  },
  {
   "cell_type": "code",
   "execution_count": 40,
   "source": [
    "from tensorflow.keras.layers import Embedding, Dense, LSTM\n",
    "from tensorflow.keras.models import Sequential\n",
    "from tensorflow.keras.models import load_model\n",
    "from tensorflow.keras.callbacks import EarlyStopping, ModelCheckpoint\n",
    "from sklearn.model_selection import train_test_split\n",
    "from tensorflow.keras.utils import to_categorical"
   ],
   "outputs": [],
   "metadata": {}
  },
  {
   "cell_type": "code",
   "execution_count": 41,
   "source": [
    "X = X_data\n",
    "y = sh_data.id.tolist()"
   ],
   "outputs": [],
   "metadata": {}
  },
  {
   "cell_type": "code",
   "execution_count": 42,
   "source": [
    "X[1]"
   ],
   "outputs": [
    {
     "output_type": "execute_result",
     "data": {
      "text/plain": [
       "array([   0,    0,    0,    0,    0,    0,    0,    0,    0,    0,    0,\n",
       "          0,    0,    0,    0,    0,    0,    0,    0,    0,    0,    0,\n",
       "          0,    0,    0,    0,    0,    0,    0,    0,    0,    0,    0,\n",
       "          0,    0,    0,    0,    0,    0,    0,    0,    0,    0,    0,\n",
       "          0,    0,    0,    0,    0,    0,    0,    0,    0,    0,    0,\n",
       "        118,    2,    4,   36,    8,   27,  135,    7, 1245,  132,  607,\n",
       "        294,  196, 1004, 1627,  277,   74,    4,   61,    3,    2,   63,\n",
       "         18,    3, 1314,  363,    1,   43,  607,  294,   78,  121,  125,\n",
       "       1196,    4,  101,  137,   10,   29,   33, 1004,  580,   96,  428,\n",
       "         78,  121,   33,   75,   69,   26,    4,  276,    3,    2,  535,\n",
       "        670,  142,  126,  255,    9,    4, 1315,  444,   82,  113,   69,\n",
       "         31,   13,   43,  279,  353,  955, 1197,  116,    1,  639,  257,\n",
       "        196,   75,  507,    7,    6,   21, 1044,    4,    3,    2,    6,\n",
       "         10,   29,   33,   43,  411, 1315,  149,   48, 1246,  501,   51,\n",
       "          9,   12,    3,    2,  175,  165,  445,  450,   29,  415,  302,\n",
       "        586,  126,   74,  334,   46,   62,   43,   74,    6,   67,    1,\n",
       "         33,  715,    6, 1155, 1366,  282,  239,  131,  470,  384,    4,\n",
       "       1198,   11,   46,   62,   79, 1045,  398,   78,  121,   62,  451,\n",
       "         33,  535,  670, 1367,  384,    4, 1316,   55,   18,   60,   69,\n",
       "         11,   46,   62,  716,  725,   54,  982,   43,  196,    4,  693,\n",
       "       1628,  116,    1,  402,  119,  140,   14,   70,   28,   26,   22,\n",
       "          5,   23,    1,  198,  139,   16,    5,   40,  129,    5,   72,\n",
       "         86,   40,   18,  170,   64,  140,    7,   30,   32,   64, 1156,\n",
       "       1157,  286,  204,    1, 1158,  119,    5,  141,  240,   52,  163,\n",
       "         18,  123, 1159, 1160,   27,   16,    5,  106,   48,   45,  128,\n",
       "         84,  114,  138,   39,   42,   66,   44,   35,  213,  197,   41,\n",
       "       1161,  289,  182,  161,   55,   14,   82,  163,  616,  147,   76,\n",
       "         59,   63,   24], dtype=int32)"
      ]
     },
     "metadata": {},
     "execution_count": 42
    }
   ],
   "metadata": {}
  },
  {
   "cell_type": "code",
   "execution_count": 43,
   "source": [
    "y[1]"
   ],
   "outputs": [
    {
     "output_type": "execute_result",
     "data": {
      "text/plain": [
       "'031'"
      ]
     },
     "metadata": {},
     "execution_count": 43
    }
   ],
   "metadata": {}
  },
  {
   "cell_type": "code",
   "execution_count": 44,
   "source": [
    "print(len(X),len(y))"
   ],
   "outputs": [
    {
     "output_type": "stream",
     "name": "stdout",
     "text": [
      "1470 1470\n"
     ]
    }
   ],
   "metadata": {}
  },
  {
   "cell_type": "code",
   "execution_count": 45,
   "source": [
    "y = to_categorical(y)"
   ],
   "outputs": [],
   "metadata": {}
  },
  {
   "cell_type": "code",
   "execution_count": 46,
   "source": [
    "print(X.shape, y.shape)"
   ],
   "outputs": [
    {
     "output_type": "stream",
     "name": "stdout",
     "text": [
      "(1470, 300) (1470, 130)\n"
     ]
    }
   ],
   "metadata": {}
  },
  {
   "cell_type": "code",
   "execution_count": 47,
   "source": [
    "x_train, x_test, y_train, y_test = train_test_split(X, y,test_size=0.3, random_state=777) #추천 한 번밖에 안된 애들 있어서 stratify 안됨"
   ],
   "outputs": [],
   "metadata": {}
  },
  {
   "cell_type": "code",
   "execution_count": 48,
   "source": [
    "model = Sequential()\n",
    "model.add(Embedding(vocab_size, max_len))\n",
    "model.add(LSTM(max_len))\n",
    "model.add(Dense(130, activation='softmax'))\n",
    "\n",
    "model.summary()"
   ],
   "outputs": [
    {
     "output_type": "stream",
     "name": "stderr",
     "text": [
      "2021-09-15 22:03:46.221288: I tensorflow/compiler/jit/xla_cpu_device.cc:41] Not creating XLA devices, tf_xla_enable_xla_devices not set\n",
      "2021-09-15 22:03:46.221612: I tensorflow/core/platform/cpu_feature_guard.cc:142] This TensorFlow binary is optimized with oneAPI Deep Neural Network Library (oneDNN) to use the following CPU instructions in performance-critical operations:  SSE4.1 SSE4.2 AVX AVX2 FMA\n",
      "To enable them in other operations, rebuild TensorFlow with the appropriate compiler flags.\n",
      "2021-09-15 22:03:46.225315: I tensorflow/core/common_runtime/process_util.cc:146] Creating new thread pool with default inter op setting: 2. Tune using inter_op_parallelism_threads for best performance.\n"
     ]
    },
    {
     "output_type": "stream",
     "name": "stdout",
     "text": [
      "Model: \"sequential\"\n",
      "_________________________________________________________________\n",
      "Layer (type)                 Output Shape              Param #   \n",
      "=================================================================\n",
      "embedding (Embedding)        (None, None, 300)         522600    \n",
      "_________________________________________________________________\n",
      "lstm (LSTM)                  (None, 300)               721200    \n",
      "_________________________________________________________________\n",
      "dense (Dense)                (None, 130)               39130     \n",
      "=================================================================\n",
      "Total params: 1,282,930\n",
      "Trainable params: 1,282,930\n",
      "Non-trainable params: 0\n",
      "_________________________________________________________________\n"
     ]
    }
   ],
   "metadata": {}
  },
  {
   "cell_type": "code",
   "execution_count": 49,
   "source": [
    "es = EarlyStopping(monitor='val_loss', mode='min', verbose=1, patience=6)\n",
    "mc = ModelCheckpoint('sh_model3.h5', monitor='val_acc', mode='max', verbose=1, save_best_only=True)"
   ],
   "outputs": [],
   "metadata": {}
  },
  {
   "cell_type": "code",
   "execution_count": 50,
   "source": [
    "model.compile(optimizer='adam', loss='categorical_crossentropy', metrics=['acc'])\n",
    "history = model.fit(x_train, y_train, epochs=10, callbacks=[es, mc], batch_size=32, validation_split=0.2)\n",
    "\n",
    "loaded_model = load_model('sh_model3.h5')\n",
    "print(\"\\n 테스트 정확도: %.4f\" % (loaded_model.evaluate(x_test, y_test)[1]))"
   ],
   "outputs": [
    {
     "output_type": "stream",
     "name": "stderr",
     "text": [
      "2021-09-15 22:03:46.684961: I tensorflow/compiler/mlir/mlir_graph_optimization_pass.cc:116] None of the MLIR optimization passes are enabled (registered 2)\n",
      "2021-09-15 22:03:46.705482: I tensorflow/core/platform/profile_utils/cpu_utils.cc:112] CPU Frequency: 2095364999 Hz\n"
     ]
    },
    {
     "output_type": "stream",
     "name": "stdout",
     "text": [
      "Epoch 1/10\n",
      "26/26 [==============================] - 54s 2s/step - loss: 4.6962 - acc: 0.1741 - val_loss: 4.1592 - val_acc: 0.2136\n",
      "\n",
      "Epoch 00001: val_acc improved from -inf to 0.21359, saving model to sh_model3.h5\n",
      "Epoch 2/10\n",
      "26/26 [==============================] - 55s 2s/step - loss: 3.6702 - acc: 0.2479 - val_loss: 2.5369 - val_acc: 0.3883\n",
      "\n",
      "Epoch 00002: val_acc improved from 0.21359 to 0.38835, saving model to sh_model3.h5\n",
      "Epoch 3/10\n",
      "26/26 [==============================] - 70s 3s/step - loss: 2.2167 - acc: 0.4807 - val_loss: 1.3692 - val_acc: 0.6796\n",
      "\n",
      "Epoch 00003: val_acc improved from 0.38835 to 0.67961, saving model to sh_model3.h5\n",
      "Epoch 4/10\n",
      "26/26 [==============================] - 40s 1s/step - loss: 1.1075 - acc: 0.7575 - val_loss: 0.7073 - val_acc: 0.8592\n",
      "\n",
      "Epoch 00004: val_acc improved from 0.67961 to 0.85922, saving model to sh_model3.h5\n",
      "Epoch 5/10\n",
      "26/26 [==============================] - 73s 3s/step - loss: 0.6364 - acc: 0.8707 - val_loss: 0.4755 - val_acc: 0.9223\n",
      "\n",
      "Epoch 00005: val_acc improved from 0.85922 to 0.92233, saving model to sh_model3.h5\n",
      "Epoch 6/10\n",
      "26/26 [==============================] - 66s 3s/step - loss: 0.3623 - acc: 0.9312 - val_loss: 0.3000 - val_acc: 0.9515\n",
      "\n",
      "Epoch 00006: val_acc improved from 0.92233 to 0.95146, saving model to sh_model3.h5\n",
      "Epoch 7/10\n",
      "26/26 [==============================] - 46s 2s/step - loss: 0.2577 - acc: 0.9549 - val_loss: 0.2246 - val_acc: 0.9660\n",
      "\n",
      "Epoch 00007: val_acc improved from 0.95146 to 0.96602, saving model to sh_model3.h5\n",
      "Epoch 8/10\n",
      "26/26 [==============================] - 71s 3s/step - loss: 0.2020 - acc: 0.9608 - val_loss: 0.1918 - val_acc: 0.9709\n",
      "\n",
      "Epoch 00008: val_acc improved from 0.96602 to 0.97087, saving model to sh_model3.h5\n",
      "Epoch 9/10\n",
      "26/26 [==============================] - 118s 5s/step - loss: 0.0881 - acc: 0.9900 - val_loss: 0.1792 - val_acc: 0.9757\n",
      "\n",
      "Epoch 00009: val_acc improved from 0.97087 to 0.97573, saving model to sh_model3.h5\n",
      "Epoch 10/10\n",
      "26/26 [==============================] - 83s 3s/step - loss: 0.0647 - acc: 0.9851 - val_loss: 0.1554 - val_acc: 0.9854\n",
      "\n",
      "Epoch 00010: val_acc improved from 0.97573 to 0.98544, saving model to sh_model3.h5\n",
      "14/14 [==============================] - 4s 218ms/step - loss: 0.1751 - acc: 0.9796\n",
      "\n",
      " 테스트 정확도: 0.9796\n"
     ]
    }
   ],
   "metadata": {}
  },
  {
   "cell_type": "markdown",
   "source": [
    "Cannot convert a symbolic Tensor -> numpy 버전 1.19.5로 바꿔줌\n",
    "\n",
    "https://wikidocs.net/45101"
   ],
   "metadata": {}
  },
  {
   "cell_type": "code",
   "execution_count": 51,
   "source": [
    "# list all data in history\n",
    "print(history.history.keys())\n",
    "# summarize history for accuracy\n",
    "plt.plot(history.history['acc'])\n",
    "plt.plot(history.history['val_acc'])\n",
    "plt.title('model accuracy')\n",
    "plt.ylabel('accuracy')\n",
    "plt.xlabel('epoch')\n",
    "plt.legend(['train', 'test'], loc='upper left')\n",
    "plt.show()\n",
    "# summarize history for loss\n",
    "plt.plot(history.history['loss'])\n",
    "plt.plot(history.history['val_loss'])\n",
    "plt.title('model loss')\n",
    "plt.ylabel('loss')\n",
    "plt.xlabel('epoch')\n",
    "plt.legend(['train', 'test'], loc='upper left')\n",
    "plt.show()"
   ],
   "outputs": [
    {
     "output_type": "stream",
     "name": "stdout",
     "text": [
      "dict_keys(['loss', 'acc', 'val_loss', 'val_acc'])\n"
     ]
    },
    {
     "output_type": "display_data",
     "data": {
      "image/png": "[encoded data removed]",
      "text/plain": [
       "<Figure size 432x288 with 1 Axes>"
      ]
     },
     "metadata": {
      "needs_background": "light"
     }
    },
    {
     "output_type": "display_data",
     "data": {
      "image/png": "[encoded data removed]",
      "text/plain": [
       "<Figure size 432x288 with 1 Axes>"
      ]
     },
     "metadata": {
      "needs_background": "light"
     }
    }
   ],
   "metadata": {}
  },
  {
   "cell_type": "code",
   "execution_count": null,
   "source": [],
   "outputs": [],
   "metadata": {}
  }
 ],
 "metadata": {
  "orig_nbformat": 4,
  "language_info": {
   "name": "python",
   "version": "3.8.11",
   "mimetype": "text/x-python",
   "codemirror_mode": {
    "name": "ipython",
    "version": 3
   },
   "pygments_lexer": "ipython3",
   "nbconvert_exporter": "python",
   "file_extension": ".py"
  },
  "kernelspec": {
   "name": "python3",
   "display_name": "Python 3.8.11 64-bit ('sj': conda)"
  },
  "interpreter": {
   "hash": "022eb7dab1e64abfe7845a82597d3156ee0a5d78294cf462a778b063942c3de6"
  }
 },
 "nbformat": 4,
 "nbformat_minor": 2
}