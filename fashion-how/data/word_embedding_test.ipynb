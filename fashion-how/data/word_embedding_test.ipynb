{
 "cells": [
  {
   "cell_type": "code",
   "execution_count": 4,
   "source": [
    "import pandas as pd\n",
    "\n",
    "ddata = pd.read_csv(\"ddata.wst.txt\", encoding=\"euc-kr\", sep='\\t', names=[\"num\",\"speaker\",\"contents\",\"tags\"])\n",
    "\n",
    "ddata.head()"
   ],
   "outputs": [
    {
     "output_type": "execute_result",
     "data": {
      "text/plain": [
       "   num speaker                               contents  \\\n",
       "0    0    <CO>      어서 오 세 요 코디 봇 입 니다 무엇 을 도와 드릴_까 요   \n",
       "1    1    <US>         처음 대학교 들어가 는데 입 을 옷 코디 해 주 세 요   \n",
       "2    2    <CO>  신입생 코디 에 어울리 게 화사 한 스웨터 를 추천_해 드릴_게 요   \n",
       "3    3    <AC>                                 SW-009   \n",
       "4    4    <US>            이 옷 에 어울리 는 치마 로 추천_해 주 세 요   \n",
       "\n",
       "                                    tags  \n",
       "0                                  INTRO  \n",
       "1                                    NaN  \n",
       "2  EXP_RES_SITUATION;EXP_RES_DESCRIPTION  \n",
       "3                                    NaN  \n",
       "4                           USER_SUCCESS  "
      ],
      "text/html": [
       "<div>\n",
       "<style scoped>\n",
       "    .dataframe tbody tr th:only-of-type {\n",
       "        vertical-align: middle;\n",
       "    }\n",
       "\n",
       "    .dataframe tbody tr th {\n",
       "        vertical-align: top;\n",
       "    }\n",
       "\n",
       "    .dataframe thead th {\n",
       "        text-align: right;\n",
       "    }\n",
       "</style>\n",
       "<table border=\"1\" class=\"dataframe\">\n",
       "  <thead>\n",
       "    <tr style=\"text-align: right;\">\n",
       "      <th></th>\n",
       "      <th>num</th>\n",
       "      <th>speaker</th>\n",
       "      <th>contents</th>\n",
       "      <th>tags</th>\n",
       "    </tr>\n",
       "  </thead>\n",
       "  <tbody>\n",
       "    <tr>\n",
       "      <th>0</th>\n",
       "      <td>0</td>\n",
       "      <td>&lt;CO&gt;</td>\n",
       "      <td>어서 오 세 요 코디 봇 입 니다 무엇 을 도와 드릴_까 요</td>\n",
       "      <td>INTRO</td>\n",
       "    </tr>\n",
       "    <tr>\n",
       "      <th>1</th>\n",
       "      <td>1</td>\n",
       "      <td>&lt;US&gt;</td>\n",
       "      <td>처음 대학교 들어가 는데 입 을 옷 코디 해 주 세 요</td>\n",
       "      <td>NaN</td>\n",
       "    </tr>\n",
       "    <tr>\n",
       "      <th>2</th>\n",
       "      <td>2</td>\n",
       "      <td>&lt;CO&gt;</td>\n",
       "      <td>신입생 코디 에 어울리 게 화사 한 스웨터 를 추천_해 드릴_게 요</td>\n",
       "      <td>EXP_RES_SITUATION;EXP_RES_DESCRIPTION</td>\n",
       "    </tr>\n",
       "    <tr>\n",
       "      <th>3</th>\n",
       "      <td>3</td>\n",
       "      <td>&lt;AC&gt;</td>\n",
       "      <td>SW-009</td>\n",
       "      <td>NaN</td>\n",
       "    </tr>\n",
       "    <tr>\n",
       "      <th>4</th>\n",
       "      <td>4</td>\n",
       "      <td>&lt;US&gt;</td>\n",
       "      <td>이 옷 에 어울리 는 치마 로 추천_해 주 세 요</td>\n",
       "      <td>USER_SUCCESS</td>\n",
       "    </tr>\n",
       "  </tbody>\n",
       "</table>\n",
       "</div>"
      ]
     },
     "metadata": {},
     "execution_count": 4
    }
   ],
   "metadata": {}
  },
  {
   "cell_type": "code",
   "execution_count": 5,
   "source": [
    "mdata = pd.read_csv(\"mdata.wst.txt\", encoding=\"euc-kr\", sep=\"\\t\", names=[\"id\",\"part\",\"category\",\"exptype\",\"exp\"])\n",
    "mdata.head()"
   ],
   "outputs": [
    {
     "output_type": "execute_result",
     "data": {
      "text/plain": [
       "        id part category exptype                             exp\n",
       "0  BL-001    T       BL       F                   단추 여밈 의 전체 오픈형\n",
       "1  BL-001    T       BL       F       스탠드 칼라 와 브이넥 네크라인 의 결합 스타일\n",
       "2  BL-001    T       BL       F               손목 까지 내려오 는 일자형 소매\n",
       "3  BL-001    T       BL       F                           여유로운 핏\n",
       "4  BL-001    T       BL       F   어깨 에서 허리 까지 세로 절개 에 풍성 한 러플 장식"
      ],
      "text/html": [
       "<div>\n",
       "<style scoped>\n",
       "    .dataframe tbody tr th:only-of-type {\n",
       "        vertical-align: middle;\n",
       "    }\n",
       "\n",
       "    .dataframe tbody tr th {\n",
       "        vertical-align: top;\n",
       "    }\n",
       "\n",
       "    .dataframe thead th {\n",
       "        text-align: right;\n",
       "    }\n",
       "</style>\n",
       "<table border=\"1\" class=\"dataframe\">\n",
       "  <thead>\n",
       "    <tr style=\"text-align: right;\">\n",
       "      <th></th>\n",
       "      <th>id</th>\n",
       "      <th>part</th>\n",
       "      <th>category</th>\n",
       "      <th>exptype</th>\n",
       "      <th>exp</th>\n",
       "    </tr>\n",
       "  </thead>\n",
       "  <tbody>\n",
       "    <tr>\n",
       "      <th>0</th>\n",
       "      <td>BL-001</td>\n",
       "      <td>T</td>\n",
       "      <td>BL</td>\n",
       "      <td>F</td>\n",
       "      <td>단추 여밈 의 전체 오픈형</td>\n",
       "    </tr>\n",
       "    <tr>\n",
       "      <th>1</th>\n",
       "      <td>BL-001</td>\n",
       "      <td>T</td>\n",
       "      <td>BL</td>\n",
       "      <td>F</td>\n",
       "      <td>스탠드 칼라 와 브이넥 네크라인 의 결합 스타일</td>\n",
       "    </tr>\n",
       "    <tr>\n",
       "      <th>2</th>\n",
       "      <td>BL-001</td>\n",
       "      <td>T</td>\n",
       "      <td>BL</td>\n",
       "      <td>F</td>\n",
       "      <td>손목 까지 내려오 는 일자형 소매</td>\n",
       "    </tr>\n",
       "    <tr>\n",
       "      <th>3</th>\n",
       "      <td>BL-001</td>\n",
       "      <td>T</td>\n",
       "      <td>BL</td>\n",
       "      <td>F</td>\n",
       "      <td>여유로운 핏</td>\n",
       "    </tr>\n",
       "    <tr>\n",
       "      <th>4</th>\n",
       "      <td>BL-001</td>\n",
       "      <td>T</td>\n",
       "      <td>BL</td>\n",
       "      <td>F</td>\n",
       "      <td>어깨 에서 허리 까지 세로 절개 에 풍성 한 러플 장식</td>\n",
       "    </tr>\n",
       "  </tbody>\n",
       "</table>\n",
       "</div>"
      ]
     },
     "metadata": {},
     "execution_count": 5
    }
   ],
   "metadata": {}
  },
  {
   "cell_type": "code",
   "execution_count": 6,
   "source": [
    "print(len(ddata), len(mdata))"
   ],
   "outputs": [
    {
     "output_type": "stream",
     "name": "stdout",
     "text": [
      "154662 64632\n"
     ]
    }
   ],
   "metadata": {}
  },
  {
   "cell_type": "code",
   "execution_count": 7,
   "source": [
    "# idx = 0\n",
    "# for i in ddata['speaker']:\n",
    "#     if i != \"<AC>\":\n",
    "#         ddata['contents'] = ddata['contents'].str.replace(\"[^ㄱ-ㅎㅏ-ㅣ가-힣 ]\",\"\")\n",
    "# ddata.head()"
   ],
   "outputs": [],
   "metadata": {}
  },
  {
   "cell_type": "code",
   "execution_count": 8,
   "source": [
    "ddata['contents'] = ddata['contents'].str.replace(\"[^ㄱ-ㅎㅏ-ㅣ가-힣 ]\",\"\")"
   ],
   "outputs": [],
   "metadata": {}
  },
  {
   "cell_type": "code",
   "execution_count": 9,
   "source": [
    "ddata.head()"
   ],
   "outputs": [
    {
     "output_type": "execute_result",
     "data": {
      "text/plain": [
       "   num speaker                             contents  \\\n",
       "0    0    <CO>     어서 오 세 요 코디 봇 입 니다 무엇 을 도와 드릴까 요   \n",
       "1    1    <US>       처음 대학교 들어가 는데 입 을 옷 코디 해 주 세 요   \n",
       "2    2    <CO>  신입생 코디 에 어울리 게 화사 한 스웨터 를 추천해 드릴게 요   \n",
       "3    3    <AC>                                        \n",
       "4    4    <US>           이 옷 에 어울리 는 치마 로 추천해 주 세 요   \n",
       "\n",
       "                                    tags  \n",
       "0                                  INTRO  \n",
       "1                                    NaN  \n",
       "2  EXP_RES_SITUATION;EXP_RES_DESCRIPTION  \n",
       "3                                    NaN  \n",
       "4                           USER_SUCCESS  "
      ],
      "text/html": [
       "<div>\n",
       "<style scoped>\n",
       "    .dataframe tbody tr th:only-of-type {\n",
       "        vertical-align: middle;\n",
       "    }\n",
       "\n",
       "    .dataframe tbody tr th {\n",
       "        vertical-align: top;\n",
       "    }\n",
       "\n",
       "    .dataframe thead th {\n",
       "        text-align: right;\n",
       "    }\n",
       "</style>\n",
       "<table border=\"1\" class=\"dataframe\">\n",
       "  <thead>\n",
       "    <tr style=\"text-align: right;\">\n",
       "      <th></th>\n",
       "      <th>num</th>\n",
       "      <th>speaker</th>\n",
       "      <th>contents</th>\n",
       "      <th>tags</th>\n",
       "    </tr>\n",
       "  </thead>\n",
       "  <tbody>\n",
       "    <tr>\n",
       "      <th>0</th>\n",
       "      <td>0</td>\n",
       "      <td>&lt;CO&gt;</td>\n",
       "      <td>어서 오 세 요 코디 봇 입 니다 무엇 을 도와 드릴까 요</td>\n",
       "      <td>INTRO</td>\n",
       "    </tr>\n",
       "    <tr>\n",
       "      <th>1</th>\n",
       "      <td>1</td>\n",
       "      <td>&lt;US&gt;</td>\n",
       "      <td>처음 대학교 들어가 는데 입 을 옷 코디 해 주 세 요</td>\n",
       "      <td>NaN</td>\n",
       "    </tr>\n",
       "    <tr>\n",
       "      <th>2</th>\n",
       "      <td>2</td>\n",
       "      <td>&lt;CO&gt;</td>\n",
       "      <td>신입생 코디 에 어울리 게 화사 한 스웨터 를 추천해 드릴게 요</td>\n",
       "      <td>EXP_RES_SITUATION;EXP_RES_DESCRIPTION</td>\n",
       "    </tr>\n",
       "    <tr>\n",
       "      <th>3</th>\n",
       "      <td>3</td>\n",
       "      <td>&lt;AC&gt;</td>\n",
       "      <td></td>\n",
       "      <td>NaN</td>\n",
       "    </tr>\n",
       "    <tr>\n",
       "      <th>4</th>\n",
       "      <td>4</td>\n",
       "      <td>&lt;US&gt;</td>\n",
       "      <td>이 옷 에 어울리 는 치마 로 추천해 주 세 요</td>\n",
       "      <td>USER_SUCCESS</td>\n",
       "    </tr>\n",
       "  </tbody>\n",
       "</table>\n",
       "</div>"
      ]
     },
     "metadata": {},
     "execution_count": 9
    }
   ],
   "metadata": {}
  },
  {
   "cell_type": "code",
   "execution_count": 10,
   "source": [
    "ddata.drop([\"num\",\"speaker\",\"tags\"], axis=1, inplace=True)\n",
    "ddata.head()"
   ],
   "outputs": [
    {
     "output_type": "execute_result",
     "data": {
      "text/plain": [
       "                              contents\n",
       "0     어서 오 세 요 코디 봇 입 니다 무엇 을 도와 드릴까 요\n",
       "1       처음 대학교 들어가 는데 입 을 옷 코디 해 주 세 요\n",
       "2  신입생 코디 에 어울리 게 화사 한 스웨터 를 추천해 드릴게 요\n",
       "3                                     \n",
       "4           이 옷 에 어울리 는 치마 로 추천해 주 세 요"
      ],
      "text/html": [
       "<div>\n",
       "<style scoped>\n",
       "    .dataframe tbody tr th:only-of-type {\n",
       "        vertical-align: middle;\n",
       "    }\n",
       "\n",
       "    .dataframe tbody tr th {\n",
       "        vertical-align: top;\n",
       "    }\n",
       "\n",
       "    .dataframe thead th {\n",
       "        text-align: right;\n",
       "    }\n",
       "</style>\n",
       "<table border=\"1\" class=\"dataframe\">\n",
       "  <thead>\n",
       "    <tr style=\"text-align: right;\">\n",
       "      <th></th>\n",
       "      <th>contents</th>\n",
       "    </tr>\n",
       "  </thead>\n",
       "  <tbody>\n",
       "    <tr>\n",
       "      <th>0</th>\n",
       "      <td>어서 오 세 요 코디 봇 입 니다 무엇 을 도와 드릴까 요</td>\n",
       "    </tr>\n",
       "    <tr>\n",
       "      <th>1</th>\n",
       "      <td>처음 대학교 들어가 는데 입 을 옷 코디 해 주 세 요</td>\n",
       "    </tr>\n",
       "    <tr>\n",
       "      <th>2</th>\n",
       "      <td>신입생 코디 에 어울리 게 화사 한 스웨터 를 추천해 드릴게 요</td>\n",
       "    </tr>\n",
       "    <tr>\n",
       "      <th>3</th>\n",
       "      <td></td>\n",
       "    </tr>\n",
       "    <tr>\n",
       "      <th>4</th>\n",
       "      <td>이 옷 에 어울리 는 치마 로 추천해 주 세 요</td>\n",
       "    </tr>\n",
       "  </tbody>\n",
       "</table>\n",
       "</div>"
      ]
     },
     "metadata": {},
     "execution_count": 10
    }
   ],
   "metadata": {}
  },
  {
   "cell_type": "code",
   "execution_count": 11,
   "source": [
    "del_index = ddata[ddata[\"contents\"]==\"\"].index\n",
    "print(del_index)"
   ],
   "outputs": [
    {
     "output_type": "stream",
     "name": "stdout",
     "text": [
      "Int64Index([     3,      5,      8,     11,     16,     21,     37,     40,\n",
      "                45,     48,\n",
      "            ...\n",
      "            154520, 154537, 154541, 154560, 154577, 154596, 154615, 154634,\n",
      "            154651, 154654],\n",
      "           dtype='int64', length=10132)\n"
     ]
    }
   ],
   "metadata": {}
  },
  {
   "cell_type": "code",
   "execution_count": 12,
   "source": [
    "ddata.drop(del_index, inplace=True)\n",
    "ddata.head()"
   ],
   "outputs": [
    {
     "output_type": "execute_result",
     "data": {
      "text/plain": [
       "                                           contents\n",
       "0                  어서 오 세 요 코디 봇 입 니다 무엇 을 도와 드릴까 요\n",
       "1                    처음 대학교 들어가 는데 입 을 옷 코디 해 주 세 요\n",
       "2               신입생 코디 에 어울리 게 화사 한 스웨터 를 추천해 드릴게 요\n",
       "4                        이 옷 에 어울리 는 치마 로 추천해 주 세 요\n",
       "6  고객 님 의 키 사이즈 에 맞추 면 이런 옷 도 잘 어울리 실 것 같은데 어떠 신가 요"
      ],
      "text/html": [
       "<div>\n",
       "<style scoped>\n",
       "    .dataframe tbody tr th:only-of-type {\n",
       "        vertical-align: middle;\n",
       "    }\n",
       "\n",
       "    .dataframe tbody tr th {\n",
       "        vertical-align: top;\n",
       "    }\n",
       "\n",
       "    .dataframe thead th {\n",
       "        text-align: right;\n",
       "    }\n",
       "</style>\n",
       "<table border=\"1\" class=\"dataframe\">\n",
       "  <thead>\n",
       "    <tr style=\"text-align: right;\">\n",
       "      <th></th>\n",
       "      <th>contents</th>\n",
       "    </tr>\n",
       "  </thead>\n",
       "  <tbody>\n",
       "    <tr>\n",
       "      <th>0</th>\n",
       "      <td>어서 오 세 요 코디 봇 입 니다 무엇 을 도와 드릴까 요</td>\n",
       "    </tr>\n",
       "    <tr>\n",
       "      <th>1</th>\n",
       "      <td>처음 대학교 들어가 는데 입 을 옷 코디 해 주 세 요</td>\n",
       "    </tr>\n",
       "    <tr>\n",
       "      <th>2</th>\n",
       "      <td>신입생 코디 에 어울리 게 화사 한 스웨터 를 추천해 드릴게 요</td>\n",
       "    </tr>\n",
       "    <tr>\n",
       "      <th>4</th>\n",
       "      <td>이 옷 에 어울리 는 치마 로 추천해 주 세 요</td>\n",
       "    </tr>\n",
       "    <tr>\n",
       "      <th>6</th>\n",
       "      <td>고객 님 의 키 사이즈 에 맞추 면 이런 옷 도 잘 어울리 실 것 같은데 어떠 신가 요</td>\n",
       "    </tr>\n",
       "  </tbody>\n",
       "</table>\n",
       "</div>"
      ]
     },
     "metadata": {},
     "execution_count": 12
    }
   ],
   "metadata": {}
  },
  {
   "cell_type": "code",
   "execution_count": 13,
   "source": [
    "lst_ddata = ddata[\"contents\"].values.tolist()\n",
    "print(lst_ddata[0:5])"
   ],
   "outputs": [
    {
     "output_type": "stream",
     "name": "stdout",
     "text": [
      "['어서 오 세 요 코디 봇 입 니다 무엇 을 도와 드릴까 요', '처음 대학교 들어가 는데 입 을 옷 코디 해 주 세 요', '신입생 코디 에 어울리 게 화사 한 스웨터 를 추천해 드릴게 요', '이 옷 에 어울리 는 치마 로 추천해 주 세 요', '고객 님 의 키 사이즈 에 맞추 면 이런 옷 도 잘 어울리 실 것 같은데 어떠 신가 요']\n"
     ]
    }
   ],
   "metadata": {}
  },
  {
   "cell_type": "code",
   "execution_count": 32,
   "source": [
    "lst_split_ddata = [sentence.split() for sentence in lst_ddata]\n",
    "print(lst_split_ddata[0:4])\n"
   ],
   "outputs": [
    {
     "output_type": "stream",
     "name": "stdout",
     "text": [
      "[['어서', '오', '세', '요', '코디', '봇', '입', '니다', '무엇', '을', '도와', '드릴까', '요'], ['처음', '대학교', '들어가', '는데', '입', '을', '옷', '코디', '해', '주', '세', '요'], ['신입생', '코디', '에', '어울리', '게', '화사', '한', '스웨터', '를', '추천해', '드릴게', '요'], ['이', '옷', '에', '어울리', '는', '치마', '로', '추천해', '주', '세', '요']]\n"
     ]
    }
   ],
   "metadata": {}
  },
  {
   "cell_type": "markdown",
   "source": [
    "lst_split_ddata = []\n",
    "for sentence in lst_ddata:\n",
    "    lst_split_ddata += sentence.split()\n",
    "print(lst_split_ddata[0:10])"
   ],
   "metadata": {}
  },
  {
   "cell_type": "code",
   "execution_count": 16,
   "source": [
    "stopwords = []\n",
    "with open('불용어사전.txt', mode='rt', encoding='utf-8') as f:\n",
    "    for word in f.readlines():\n",
    "        word = word.strip()\n",
    "        stopwords.append(word)\n",
    "\n",
    "print(stopwords[0:3])\n",
    "\n"
   ],
   "outputs": [
    {
     "output_type": "stream",
     "name": "stdout",
     "text": [
      "['어찌됐든', '그위에', '게다가']\n"
     ]
    }
   ],
   "metadata": {}
  },
  {
   "cell_type": "code",
   "execution_count": 33,
   "source": [
    "stopwords = stopwords + [\"세\",\"요\"]\n",
    "tk_ddata = [word for word in lst_split_ddata if not word in stopwords]\n",
    "print(tk_ddata[0:10])\n"
   ],
   "outputs": [
    {
     "output_type": "stream",
     "name": "stdout",
     "text": [
      "[['어서', '오', '세', '요', '코디', '봇', '입', '니다', '무엇', '을', '도와', '드릴까', '요'], ['처음', '대학교', '들어가', '는데', '입', '을', '옷', '코디', '해', '주', '세', '요'], ['신입생', '코디', '에', '어울리', '게', '화사', '한', '스웨터', '를', '추천해', '드릴게', '요'], ['이', '옷', '에', '어울리', '는', '치마', '로', '추천해', '주', '세', '요'], ['고객', '님', '의', '키', '사이즈', '에', '맞추', '면', '이런', '옷', '도', '잘', '어울리', '실', '것', '같은데', '어떠', '신가', '요'], ['제', '가', '키', '가', '작아서', '짧', '은', '치마', '로', '추천해', '주', '세', '요'], ['상의', '색상', '과', '도', '매칭', '이', '잘', '어울리', '는', '짧', '은', '치마', '입', '니다'], ['어두운', '계열', '은', '없', '나', '요'], ['언밸런스', '한', '컷팅', '으로', '세련미', '를', '돋보이', '게하', '는', '치마', '인데', '마음', '에', '드', '시나', '요'], ['나쁘', '지않', '네', '요', '외투', '도', '추천해', '주', '시', '겠어', '요']]\n"
     ]
    }
   ],
   "metadata": {}
  },
  {
   "cell_type": "code",
   "execution_count": 42,
   "source": [
    "for word in lst_split_ddata:\n",
    "    for i in range(len(word)):\n",
    "        if word[i] not in stopwords:\n",
    "            tk_ddata.append(word[i])\n",
    "\n",
    "print(tk_ddata[0:10])"
   ],
   "outputs": [
    {
     "output_type": "stream",
     "name": "stdout",
     "text": [
      "[['어서', '오', '세', '요', '코디', '봇', '입', '니다', '무엇', '을', '도와', '드릴까', '요'], ['처음', '대학교', '들어가', '는데', '입', '을', '옷', '코디', '해', '주', '세', '요'], ['신입생', '코디', '에', '어울리', '게', '화사', '한', '스웨터', '를', '추천해', '드릴게', '요'], ['이', '옷', '에', '어울리', '는', '치마', '로', '추천해', '주', '세', '요'], ['고객', '님', '의', '키', '사이즈', '에', '맞추', '면', '이런', '옷', '도', '잘', '어울리', '실', '것', '같은데', '어떠', '신가', '요'], ['제', '가', '키', '가', '작아서', '짧', '은', '치마', '로', '추천해', '주', '세', '요'], ['상의', '색상', '과', '도', '매칭', '이', '잘', '어울리', '는', '짧', '은', '치마', '입', '니다'], ['어두운', '계열', '은', '없', '나', '요'], ['언밸런스', '한', '컷팅', '으로', '세련미', '를', '돋보이', '게하', '는', '치마', '인데', '마음', '에', '드', '시나', '요'], ['나쁘', '지않', '네', '요', '외투', '도', '추천해', '주', '시', '겠어', '요']]\n"
     ]
    }
   ],
   "metadata": {}
  },
  {
   "cell_type": "code",
   "execution_count": 30,
   "source": [
    "print(tk_ddata[0:29])"
   ],
   "outputs": [
    {
     "output_type": "stream",
     "name": "stdout",
     "text": [
      "['어서', '코디', '봇', '입', '도와', '드릴까', '처음', '대학교', '들어가', '는데', '입', '옷', '코디', '해', '주', '신입생', '코디', '어울리', '게', '화사', '한', '스웨터', '추천해', '드릴게', '이', '옷', '어울리', '는', '치마']\n"
     ]
    }
   ],
   "metadata": {}
  },
  {
   "cell_type": "code",
   "execution_count": 34,
   "source": [
    "from gensim.models import Word2Vec\n",
    "model = Word2Vec(sentences = tk_ddata, size=100, window=10, min_count=0, sg = 1)"
   ],
   "outputs": [],
   "metadata": {}
  },
  {
   "cell_type": "markdown",
   "source": [
    "맨 앞, sentences는 학습시킬 문장을 입력합니다.\n",
    "\n",
    "workers : 실행할 병렬 프로세스의 수, 코어수, 주로 4-6사이 지정\n",
    "\n",
    "size : 각 단어에 대한 임베딩 된 벡터차원 정의, size=2라면 한 문장의 벡터는 [-0.1248574, 0.255778]와 같은 형태를 가지게 된다.\n",
    "\n",
    "min_count : 단어에 대한 최소 빈도수. min_count=5라면 빈도수 5 이하 무시\n",
    "\n",
    "window : 문맥 윈도우 수, 양쪽으로 몇 개의 단어까지 고려해서 의미를 파악할 것인지 지정하는 것\n",
    "\n",
    "sample : 빠른 학습을 위해 정답 단어 라벨에 대한 다운샘플링 비율을 지정하는 것, 보통 0.001이 좋은 성능을 낸다고 한다.\n",
    "\n",
    "sg : 1이면 skip-gram 방법을 사용하고, 0이면 CBOW 방법을 사용한다.\n",
    "\n",
    "iter : epoch와 같은 뜻으로 학습 반복 횟수를 지정한다.\n"
   ],
   "metadata": {}
  },
  {
   "cell_type": "code",
   "execution_count": 35,
   "source": [
    "model.wv.vectors.shape"
   ],
   "outputs": [
    {
     "output_type": "execute_result",
     "data": {
      "text/plain": [
       "(6873, 100)"
      ]
     },
     "metadata": {},
     "execution_count": 35
    }
   ],
   "metadata": {}
  },
  {
   "cell_type": "code",
   "execution_count": 51,
   "source": [
    "#word_vec =model.wv\n",
    "#print(word_vec.vocab)"
   ],
   "outputs": [],
   "metadata": {}
  },
  {
   "cell_type": "code",
   "execution_count": 50,
   "source": [
    "model.wv.most_similar('대학생')"
   ],
   "outputs": [
    {
     "output_type": "execute_result",
     "data": {
      "text/plain": [
       "[('물기', 0.9632668495178223),\n",
       " ('나풀거릴', 0.9568157196044922),\n",
       " ('농구', 0.9520034193992615),\n",
       " ('촌스럽', 0.9515297412872314),\n",
       " ('숙이', 0.9504086375236511),\n",
       " ('중구난방', 0.9489457011222839),\n",
       " ('부끄러워', 0.9483503103256226),\n",
       " ('쳐다볼', 0.9478562474250793),\n",
       " ('게다가', 0.9473984241485596),\n",
       " ('액티비티', 0.9463278651237488)]"
      ]
     },
     "metadata": {},
     "execution_count": 50
    }
   ],
   "metadata": {}
  },
  {
   "cell_type": "code",
   "execution_count": null,
   "source": [
    "# 워드투벡은 무조건 리스트의 리스트 형태여야 함 ^^.... 문장 간 연관성을 봐주기 때문에^^.... https://m.blog.naver.com/timtaeil/221361106051"
   ],
   "outputs": [],
   "metadata": {}
  }
 ],
 "metadata": {
  "orig_nbformat": 4,
  "language_info": {
   "name": "python",
   "version": "3.6.13",
   "mimetype": "text/x-python",
   "codemirror_mode": {
    "name": "ipython",
    "version": 3
   },
   "pygments_lexer": "ipython3",
   "nbconvert_exporter": "python",
   "file_extension": ".py"
  },
  "kernelspec": {
   "name": "python3",
   "display_name": "Python 3.6.13 64-bit ('fashionhow': conda)"
  },
  "interpreter": {
   "hash": "9e53b806d3c1c14e6884c51e6d0e17542f3b927a2d11f75a1af62dfc38c67d72"
  }
 },
 "nbformat": 4,
 "nbformat_minor": 2
}