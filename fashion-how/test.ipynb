{
 "cells": [
  {
   "cell_type": "code",
   "execution_count": null,
   "source": [
    "[\n",
    "\t{\n",
    "\t\t\"metadata\": {\n",
    "\t\t\t\"outputType\": \"stream\"\n",
    "\t\t},\n",
    "\t\t\"outputItems\": [\n",
    "\t\t\t{\n",
    "\t\t\t\t\"mimeType\": \"application/vnd.code.notebook.stderr\",\n",
    "\t\t\t\t\"data\": \"2021-09-06 21:24:12.885868: I tensorflow/compiler/mlir/mlir_graph_optimization_pass.cc:116] None of the MLIR optimization passes are enabled (registered 2)\\n2021-09-06 21:24:12.910585: I tensorflow/core/platform/profile_utils/cpu_utils.cc:112] CPU Frequency: 2095355000 Hz\\n\"\n",
    "\t\t\t}\n",
    "\t\t]\n",
    "\t},\n",
    "\t{\n",
    "\t\t\"metadata\": {\n",
    "\t\t\t\"outputType\": \"stream\"\n",
    "\t\t},\n",
    "\t\t\"outputItems\": [\n",
    "\t\t\t{\n",
    "\t\t\t\t\"mimeType\": \"application/vnd.code.notebook.stdout\",\n",
    "\t\t\t\t\"data\": \"Epoch 1/10\\n713/713 [==============================] - 992s 1s/step - loss: 3.2215 - acc: 0.2573 - val_loss: 1.9300 - val_acc: 0.4162\\n\\nEpoch 00001: val_acc improved from -inf to 0.41624, saving model to category_model.h5\\nEpoch 2/10\\n713/713 [==============================] - 1006s 1s/step - loss: 1.6587 - acc: 0.4936 - val_loss: 1.0060 - val_acc: 0.6620\\n\\nEpoch 00002: val_acc improved from 0.41624 to 0.66199, saving model to category_model.h5\\nEpoch 3/10\\n713/713 [==============================] - 1029s 1s/step - loss: 0.8948 - acc: 0.7031 - val_loss: 0.6024 - val_acc: 0.8178\\n\\nEpoch 00003: val_acc improved from 0.66199 to 0.81775, saving model to category_model.h5\\nEpoch 4/10\\n713/713 [==============================] - 1011s 1s/step - loss: 0.5442 - acc: 0.8194 - val_loss: 0.4626 - val_acc: 0.8488\\n\\nEpoch 00004: val_acc improved from 0.81775 to 0.84880, saving model to category_model.h5\\nEpoch 5/10\\n713/713 [==============================] - 1002s 1s/step - loss: 0.3639 - acc: 0.8961 - val_loss: 0.2628 - val_acc: 0.9325\\n\\nEpoch 00005: val_acc improved from 0.84880 to 0.93247, saving model to category_model.h5\\nEpoch 6/10\\n713/713 [==============================] - 971s 1s/step - loss: 0.2094 - acc: 0.9459 - val_loss: 0.1851 - val_acc: 0.9504\\n\\nEpoch 00006: val_acc improved from 0.93247 to 0.95036, saving model to category_model.h5\\nEpoch 7/10\\n713/713 [==============================] - 1139s 2s/step - loss: 0.1210 - acc: 0.9731 - val_loss: 0.1366 - val_acc: 0.9628\\n\\nEpoch 00007: val_acc improved from 0.95036 to 0.96281, saving model to category_model.h5\\nEpoch 8/10\\n713/713 [==============================] - 1092s 2s/step - loss: 0.0927 - acc: 0.9786 - val_loss: 0.0851 - val_acc: 0.9809\\n\\nEpoch 00008: val_acc improved from 0.96281 to 0.98088, saving model to category_model.h5\\nEpoch 9/10\\n713/713 [==============================] - 1076s 2s/step - loss: 0.0571 - acc: 0.9880 - val_loss: 0.0658 - val_acc: 0.9854\\n\\nEpoch 00009: val_acc improved from 0.98088 to 0.98544, saving model to category_model.h5\\nEpoch 10/10\\n713/713 [==============================] - 1123s 2s/step - loss: 0.0587 - acc: 0.9871 - val_loss: 0.0721 - val_acc: 0.9835\\n\\nEpoch 00010: val_acc did not improve from 0.98544\\n382/382 [==============================] - 131s 341ms/step - loss: 0.0697 - acc: 0.9840\\n\\n 테스트 정확도: 0.9840\\n\"\n",
    "\t\t\t}\n",
    "\t\t]\n",
    "\t}\n",
    "]"
   ],
   "outputs": [],
   "metadata": {}
  }
 ],
 "metadata": {
  "orig_nbformat": 4,
  "language_info": {
   "name": "python"
  }
 },
 "nbformat": 4,
 "nbformat_minor": 2
}