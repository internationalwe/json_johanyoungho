{
 "cells": [
  {
   "cell_type": "code",
   "execution_count": 1,
   "source": [
    "import pandas as pd\n",
    "\n",
    "ddata = pd.read_csv(\"./data/ddata.txt\", encoding=\"euc-kr\", sep=\"\\t\", names=[\"num\",\"speaker\",\"contents\",\"tags\"])\n",
    "mdata = pd.read_csv(\"./data/mdata.txt\", encoding=\"euc-kr\", sep=\"\\t\", names=[\"id\",\"part\",\"category\",\"exptype\",\"exp\"])\n",
    "\n",
    "ddata.head()"
   ],
   "outputs": [
    {
     "output_type": "execute_result",
     "data": {
      "text/html": [
       "<div>\n",
       "<style scoped>\n",
       "    .dataframe tbody tr th:only-of-type {\n",
       "        vertical-align: middle;\n",
       "    }\n",
       "\n",
       "    .dataframe tbody tr th {\n",
       "        vertical-align: top;\n",
       "    }\n",
       "\n",
       "    .dataframe thead th {\n",
       "        text-align: right;\n",
       "    }\n",
       "</style>\n",
       "<table border=\"1\" class=\"dataframe\">\n",
       "  <thead>\n",
       "    <tr style=\"text-align: right;\">\n",
       "      <th></th>\n",
       "      <th>num</th>\n",
       "      <th>speaker</th>\n",
       "      <th>contents</th>\n",
       "      <th>tags</th>\n",
       "    </tr>\n",
       "  </thead>\n",
       "  <tbody>\n",
       "    <tr>\n",
       "      <th>0</th>\n",
       "      <td>0</td>\n",
       "      <td>&lt;CO&gt;</td>\n",
       "      <td>어서오세요. 코디봇입니다. 무엇을 도와드릴까요?</td>\n",
       "      <td>INTRO</td>\n",
       "    </tr>\n",
       "    <tr>\n",
       "      <th>1</th>\n",
       "      <td>1</td>\n",
       "      <td>&lt;US&gt;</td>\n",
       "      <td>처음 대학교 들어가는데 입을 옷 코디해주세요.</td>\n",
       "      <td>NaN</td>\n",
       "    </tr>\n",
       "    <tr>\n",
       "      <th>2</th>\n",
       "      <td>2</td>\n",
       "      <td>&lt;CO&gt;</td>\n",
       "      <td>신입생 코디에 어울리게 화사한 스웨터를 추천해드릴게요.</td>\n",
       "      <td>EXP_RES_SITUATION;EXP_RES_DESCRIPTION</td>\n",
       "    </tr>\n",
       "    <tr>\n",
       "      <th>3</th>\n",
       "      <td>3</td>\n",
       "      <td>&lt;AC&gt;</td>\n",
       "      <td>SW-009</td>\n",
       "      <td>NaN</td>\n",
       "    </tr>\n",
       "    <tr>\n",
       "      <th>4</th>\n",
       "      <td>4</td>\n",
       "      <td>&lt;US&gt;</td>\n",
       "      <td>이 옷에 어울리는 치마로 추천해주세요.</td>\n",
       "      <td>USER_SUCCESS</td>\n",
       "    </tr>\n",
       "  </tbody>\n",
       "</table>\n",
       "</div>"
      ],
      "text/plain": [
       "   num speaker                         contents  \\\n",
       "0    0    <CO>       어서오세요. 코디봇입니다. 무엇을 도와드릴까요?   \n",
       "1    1    <US>        처음 대학교 들어가는데 입을 옷 코디해주세요.   \n",
       "2    2    <CO>   신입생 코디에 어울리게 화사한 스웨터를 추천해드릴게요.   \n",
       "3    3    <AC>                           SW-009   \n",
       "4    4    <US>            이 옷에 어울리는 치마로 추천해주세요.   \n",
       "\n",
       "                                    tags  \n",
       "0                                  INTRO  \n",
       "1                                    NaN  \n",
       "2  EXP_RES_SITUATION;EXP_RES_DESCRIPTION  \n",
       "3                                    NaN  \n",
       "4                           USER_SUCCESS  "
      ]
     },
     "metadata": {},
     "execution_count": 1
    }
   ],
   "metadata": {}
  },
  {
   "cell_type": "markdown",
   "source": [
    "# 1. 전체 대화셋 개수 카운트"
   ],
   "metadata": {}
  },
  {
   "cell_type": "code",
   "execution_count": 2,
   "source": [
    "dial_num = 0\n",
    "\n",
    "for i in range(1, len(ddata)):\n",
    "    if ddata.loc[i, \"num\"] == 0:\n",
    "        dial_num += 1\n",
    "print(\"총 대화셋 수: \",dial_num)"
   ],
   "outputs": [
    {
     "output_type": "stream",
     "name": "stdout",
     "text": [
      "총 대화셋 수:  7235\n"
     ]
    }
   ],
   "metadata": {}
  },
  {
   "cell_type": "markdown",
   "source": [
    "# 2. Mdata 합치기"
   ],
   "metadata": {}
  },
  {
   "cell_type": "markdown",
   "source": [
    "## - Part 살려서 합치기"
   ],
   "metadata": {}
  },
  {
   "cell_type": "code",
   "execution_count": 3,
   "source": [
    "c_mdata = pd.DataFrame({\"id\":[0],\"exp\":[None]})\n",
    "c_mdata.drop(0, axis=0, inplace=True)\n",
    "c_mdata"
   ],
   "outputs": [
    {
     "output_type": "execute_result",
     "data": {
      "text/html": [
       "<div>\n",
       "<style scoped>\n",
       "    .dataframe tbody tr th:only-of-type {\n",
       "        vertical-align: middle;\n",
       "    }\n",
       "\n",
       "    .dataframe tbody tr th {\n",
       "        vertical-align: top;\n",
       "    }\n",
       "\n",
       "    .dataframe thead th {\n",
       "        text-align: right;\n",
       "    }\n",
       "</style>\n",
       "<table border=\"1\" class=\"dataframe\">\n",
       "  <thead>\n",
       "    <tr style=\"text-align: right;\">\n",
       "      <th></th>\n",
       "      <th>id</th>\n",
       "      <th>exp</th>\n",
       "    </tr>\n",
       "  </thead>\n",
       "  <tbody>\n",
       "  </tbody>\n",
       "</table>\n",
       "</div>"
      ],
      "text/plain": [
       "Empty DataFrame\n",
       "Columns: [id, exp]\n",
       "Index: []"
      ]
     },
     "metadata": {},
     "execution_count": 3
    }
   ],
   "metadata": {}
  },
  {
   "cell_type": "code",
   "execution_count": 4,
   "source": [
    "id = \"\"\n",
    "idx = 0\n",
    "for i in range(len(mdata)):\n",
    "    if id == mdata.loc[i, \"id\"]:\n",
    "        c_mdata.loc[c_mdata.index[(c_mdata[\"id\"] == id)].tolist().pop(),\"exp\"] = c_mdata.loc[c_mdata.index[(c_mdata[\"id\"] == id)].tolist().pop(),\"exp\"] + \" \" + mdata.loc[i, \"exp\"]\n",
    "    \n",
    "    else:\n",
    "        id = mdata.loc[i, \"id\"]\n",
    "        c_mdata.loc[i, \"id\"] = id\n",
    "        c_mdata.loc[i, \"exp\"] = mdata.loc[i, \"exp\"]\n",
    "\n",
    "c_mdata.head()"
   ],
   "outputs": [
    {
     "output_type": "execute_result",
     "data": {
      "text/html": [
       "<div>\n",
       "<style scoped>\n",
       "    .dataframe tbody tr th:only-of-type {\n",
       "        vertical-align: middle;\n",
       "    }\n",
       "\n",
       "    .dataframe tbody tr th {\n",
       "        vertical-align: top;\n",
       "    }\n",
       "\n",
       "    .dataframe thead th {\n",
       "        text-align: right;\n",
       "    }\n",
       "</style>\n",
       "<table border=\"1\" class=\"dataframe\">\n",
       "  <thead>\n",
       "    <tr style=\"text-align: right;\">\n",
       "      <th></th>\n",
       "      <th>id</th>\n",
       "      <th>exp</th>\n",
       "    </tr>\n",
       "  </thead>\n",
       "  <tbody>\n",
       "    <tr>\n",
       "      <th>0</th>\n",
       "      <td>BL-001</td>\n",
       "      <td>단추 여밈의 전체 오픈형 스탠드 칼라와 브이넥 네크라인의 결합스타일 손목까지 내려오...</td>\n",
       "    </tr>\n",
       "    <tr>\n",
       "      <th>20</th>\n",
       "      <td>BL-002</td>\n",
       "      <td>넓은 셔츠칼라 네크라인 앞중심에 반 오픈 끈여밈있는 스타일 드롭숄더 퍼프형 소매로 ...</td>\n",
       "    </tr>\n",
       "    <tr>\n",
       "      <th>38</th>\n",
       "      <td>BL-003</td>\n",
       "      <td>앞 중심에 단추 여밈 칼라가 없는 넓고 깊게 파인 브이넥 엉덩이 밑으로 내려오는 긴...</td>\n",
       "    </tr>\n",
       "    <tr>\n",
       "      <th>63</th>\n",
       "      <td>BL-004</td>\n",
       "      <td>앞중심에 단추 여밈 칼라가 없는 라운드넥으로 골반 위에서 끝나는 짧은 기장 손목, ...</td>\n",
       "    </tr>\n",
       "    <tr>\n",
       "      <th>84</th>\n",
       "      <td>BL-005</td>\n",
       "      <td>앞단추 여밈의 전체 오픈형 칼라가 없는 라운드넥크라인 엉덩이 위에서 끝나는 짧은 기...</td>\n",
       "    </tr>\n",
       "  </tbody>\n",
       "</table>\n",
       "</div>"
      ],
      "text/plain": [
       "         id                                                exp\n",
       "0   BL-001   단추 여밈의 전체 오픈형 스탠드 칼라와 브이넥 네크라인의 결합스타일 손목까지 내려오...\n",
       "20  BL-002   넓은 셔츠칼라 네크라인 앞중심에 반 오픈 끈여밈있는 스타일 드롭숄더 퍼프형 소매로 ...\n",
       "38  BL-003   앞 중심에 단추 여밈 칼라가 없는 넓고 깊게 파인 브이넥 엉덩이 밑으로 내려오는 긴...\n",
       "63  BL-004   앞중심에 단추 여밈 칼라가 없는 라운드넥으로 골반 위에서 끝나는 짧은 기장 손목, ...\n",
       "84  BL-005   앞단추 여밈의 전체 오픈형 칼라가 없는 라운드넥크라인 엉덩이 위에서 끝나는 짧은 기..."
      ]
     },
     "metadata": {},
     "execution_count": 4
    }
   ],
   "metadata": {}
  },
  {
   "cell_type": "code",
   "execution_count": 5,
   "source": [
    "for i in range(len(c_mdata)): # id 뒤에 공백 없애기\n",
    "    c_mdata.iloc[i].id = c_mdata.iloc[i].id.strip()\n",
    "\n",
    "print(c_mdata.iloc[0].id)\n",
    "c_mdata.reset_index(drop=True,inplace=True)\n",
    "c_mdata.head()"
   ],
   "outputs": [
    {
     "output_type": "stream",
     "name": "stdout",
     "text": [
      "BL-001\n"
     ]
    },
    {
     "output_type": "execute_result",
     "data": {
      "text/html": [
       "<div>\n",
       "<style scoped>\n",
       "    .dataframe tbody tr th:only-of-type {\n",
       "        vertical-align: middle;\n",
       "    }\n",
       "\n",
       "    .dataframe tbody tr th {\n",
       "        vertical-align: top;\n",
       "    }\n",
       "\n",
       "    .dataframe thead th {\n",
       "        text-align: right;\n",
       "    }\n",
       "</style>\n",
       "<table border=\"1\" class=\"dataframe\">\n",
       "  <thead>\n",
       "    <tr style=\"text-align: right;\">\n",
       "      <th></th>\n",
       "      <th>id</th>\n",
       "      <th>exp</th>\n",
       "    </tr>\n",
       "  </thead>\n",
       "  <tbody>\n",
       "    <tr>\n",
       "      <th>0</th>\n",
       "      <td>BL-001</td>\n",
       "      <td>단추 여밈의 전체 오픈형 스탠드 칼라와 브이넥 네크라인의 결합스타일 손목까지 내려오...</td>\n",
       "    </tr>\n",
       "    <tr>\n",
       "      <th>1</th>\n",
       "      <td>BL-002</td>\n",
       "      <td>넓은 셔츠칼라 네크라인 앞중심에 반 오픈 끈여밈있는 스타일 드롭숄더 퍼프형 소매로 ...</td>\n",
       "    </tr>\n",
       "    <tr>\n",
       "      <th>2</th>\n",
       "      <td>BL-003</td>\n",
       "      <td>앞 중심에 단추 여밈 칼라가 없는 넓고 깊게 파인 브이넥 엉덩이 밑으로 내려오는 긴...</td>\n",
       "    </tr>\n",
       "    <tr>\n",
       "      <th>3</th>\n",
       "      <td>BL-004</td>\n",
       "      <td>앞중심에 단추 여밈 칼라가 없는 라운드넥으로 골반 위에서 끝나는 짧은 기장 손목, ...</td>\n",
       "    </tr>\n",
       "    <tr>\n",
       "      <th>4</th>\n",
       "      <td>BL-005</td>\n",
       "      <td>앞단추 여밈의 전체 오픈형 칼라가 없는 라운드넥크라인 엉덩이 위에서 끝나는 짧은 기...</td>\n",
       "    </tr>\n",
       "  </tbody>\n",
       "</table>\n",
       "</div>"
      ],
      "text/plain": [
       "       id                                                exp\n",
       "0  BL-001  단추 여밈의 전체 오픈형 스탠드 칼라와 브이넥 네크라인의 결합스타일 손목까지 내려오...\n",
       "1  BL-002  넓은 셔츠칼라 네크라인 앞중심에 반 오픈 끈여밈있는 스타일 드롭숄더 퍼프형 소매로 ...\n",
       "2  BL-003  앞 중심에 단추 여밈 칼라가 없는 넓고 깊게 파인 브이넥 엉덩이 밑으로 내려오는 긴...\n",
       "3  BL-004  앞중심에 단추 여밈 칼라가 없는 라운드넥으로 골반 위에서 끝나는 짧은 기장 손목, ...\n",
       "4  BL-005  앞단추 여밈의 전체 오픈형 칼라가 없는 라운드넥크라인 엉덩이 위에서 끝나는 짧은 기..."
      ]
     },
     "metadata": {},
     "execution_count": 5
    }
   ],
   "metadata": {}
  },
  {
   "cell_type": "markdown",
   "source": [
    "# 3. NaN, Null 값 확인"
   ],
   "metadata": {}
  },
  {
   "cell_type": "code",
   "execution_count": 6,
   "source": [
    "ddata.drop(ddata.index[ddata.tags == \"INTRO\"].tolist(), axis=0, inplace=True)\n",
    "ddata.reset_index(drop=True, inplace=True)\n",
    "ddata[ddata.tags == \"INTRO\"]"
   ],
   "outputs": [
    {
     "output_type": "execute_result",
     "data": {
      "text/html": [
       "<div>\n",
       "<style scoped>\n",
       "    .dataframe tbody tr th:only-of-type {\n",
       "        vertical-align: middle;\n",
       "    }\n",
       "\n",
       "    .dataframe tbody tr th {\n",
       "        vertical-align: top;\n",
       "    }\n",
       "\n",
       "    .dataframe thead th {\n",
       "        text-align: right;\n",
       "    }\n",
       "</style>\n",
       "<table border=\"1\" class=\"dataframe\">\n",
       "  <thead>\n",
       "    <tr style=\"text-align: right;\">\n",
       "      <th></th>\n",
       "      <th>num</th>\n",
       "      <th>speaker</th>\n",
       "      <th>contents</th>\n",
       "      <th>tags</th>\n",
       "    </tr>\n",
       "  </thead>\n",
       "  <tbody>\n",
       "  </tbody>\n",
       "</table>\n",
       "</div>"
      ],
      "text/plain": [
       "Empty DataFrame\n",
       "Columns: [num, speaker, contents, tags]\n",
       "Index: []"
      ]
     },
     "metadata": {},
     "execution_count": 6
    }
   ],
   "metadata": {}
  },
  {
   "cell_type": "code",
   "execution_count": 7,
   "source": [
    "ddata.isnull().sum()"
   ],
   "outputs": [
    {
     "output_type": "execute_result",
     "data": {
      "text/plain": [
       "num             0\n",
       "speaker         0\n",
       "contents        0\n",
       "tags        51927\n",
       "dtype: int64"
      ]
     },
     "metadata": {},
     "execution_count": 7
    }
   ],
   "metadata": {}
  },
  {
   "cell_type": "code",
   "execution_count": 8,
   "source": [
    "ddata.isna().sum()"
   ],
   "outputs": [
    {
     "output_type": "execute_result",
     "data": {
      "text/plain": [
       "num             0\n",
       "speaker         0\n",
       "contents        0\n",
       "tags        51927\n",
       "dtype: int64"
      ]
     },
     "metadata": {},
     "execution_count": 8
    }
   ],
   "metadata": {}
  },
  {
   "cell_type": "code",
   "execution_count": 9,
   "source": [
    "ddata.fillna(\"\", inplace=True)\n",
    "ddata.isna().sum()"
   ],
   "outputs": [
    {
     "output_type": "execute_result",
     "data": {
      "text/plain": [
       "num         0\n",
       "speaker     0\n",
       "contents    0\n",
       "tags        0\n",
       "dtype: int64"
      ]
     },
     "metadata": {},
     "execution_count": 9
    }
   ],
   "metadata": {}
  },
  {
   "cell_type": "code",
   "execution_count": 10,
   "source": [
    "mdata.isnull().sum()"
   ],
   "outputs": [
    {
     "output_type": "execute_result",
     "data": {
      "text/plain": [
       "id          0\n",
       "part        0\n",
       "category    0\n",
       "exptype     0\n",
       "exp         0\n",
       "dtype: int64"
      ]
     },
     "metadata": {},
     "execution_count": 10
    }
   ],
   "metadata": {}
  },
  {
   "cell_type": "code",
   "execution_count": 11,
   "source": [
    "c_mdata.isnull().sum()"
   ],
   "outputs": [
    {
     "output_type": "execute_result",
     "data": {
      "text/plain": [
       "id     0\n",
       "exp    0\n",
       "dtype: int64"
      ]
     },
     "metadata": {},
     "execution_count": 11
    }
   ],
   "metadata": {}
  },
  {
   "cell_type": "markdown",
   "source": [
    "# 4. 추천 성공 의상 아이디 종류 및 빈도 카운트 "
   ],
   "metadata": {}
  },
  {
   "cell_type": "markdown",
   "source": [
    "## 한 번에 추천해도 실패하면 전부 실패로 달기"
   ],
   "metadata": {}
  },
  {
   "cell_type": "code",
   "execution_count": 12,
   "source": [
    "c_data = pd.DataFrame({\"contents\":[None], \"id\":[\"xx-xxx\"]})\n",
    "c_data.drop(0,axis=0,inplace=True)\n",
    "c_data.head()"
   ],
   "outputs": [
    {
     "output_type": "execute_result",
     "data": {
      "text/html": [
       "<div>\n",
       "<style scoped>\n",
       "    .dataframe tbody tr th:only-of-type {\n",
       "        vertical-align: middle;\n",
       "    }\n",
       "\n",
       "    .dataframe tbody tr th {\n",
       "        vertical-align: top;\n",
       "    }\n",
       "\n",
       "    .dataframe thead th {\n",
       "        text-align: right;\n",
       "    }\n",
       "</style>\n",
       "<table border=\"1\" class=\"dataframe\">\n",
       "  <thead>\n",
       "    <tr style=\"text-align: right;\">\n",
       "      <th></th>\n",
       "      <th>contents</th>\n",
       "      <th>id</th>\n",
       "    </tr>\n",
       "  </thead>\n",
       "  <tbody>\n",
       "  </tbody>\n",
       "</table>\n",
       "</div>"
      ],
      "text/plain": [
       "Empty DataFrame\n",
       "Columns: [contents, id]\n",
       "Index: []"
      ]
     },
     "metadata": {},
     "execution_count": 12
    }
   ],
   "metadata": {}
  },
  {
   "cell_type": "markdown",
   "source": [
    "<코드 동작 원리>\n",
    "<br>\n",
    "\n",
    "대화문 하나씩 받아온 다음\n",
    "- AC 태그 문장이면 일단 의상 변수에 저장,\n",
    "- user_success 태그 문장이면\n",
    "\n",
    "   - 변수에 저장된 의상이 하나면\n",
    "\n",
    "      - 바로 대화문 변수랑 의상 변수 및 의상 메타데이터 합쳐서 저장 -> 레이블(id 컬럼에 저장)은 의상 코드가 됨\n",
    "\n",
    "   - 변수에 저장된 의상의 여러 개면\n",
    "\n",
    "      - 의상을 하나의 코드 단위로 쪼개서 대화문 변수랑 의상 메타데이터 합쳐서 저장\n",
    "      \n",
    "-  둘 다 아니고 일반 대화문이면 대화문 변수에 저장"
   ],
   "metadata": {}
  },
  {
   "cell_type": "code",
   "execution_count": 13,
   "source": [
    "dial = ddata.loc[0, \"contents\"].strip()\n",
    "ac = \"\"\n",
    "\n",
    "for i in range(1,len(ddata)):\n",
    "    cur_sen = ddata.loc[i,\"contents\"].strip()\n",
    "\n",
    "    if ddata.loc[i, \"num\"] > ddata.loc[i-1, \"num\"]: # 이전 대화셋에 포함된 문장인지 확인\n",
    "        \n",
    "        if ddata.loc[i,\"speaker\"] == \"<AC>\": # case 1. 의상 아이디가 나온 경우\n",
    "            if len(ac) > 1:\n",
    "                ac = ac + \" \" + cur_sen # 의상 아이디 저장\n",
    "            else:\n",
    "                ac = cur_sen\n",
    "\n",
    "        elif \"USER_SUCCESS\" == ddata.loc[i,\"tags\"]: # case 2. USER_SUCCESS 태그가 나온 경우\n",
    "            if 0 < len(ac) < 7: # 의상을 하나만 추천한 경우\n",
    "                dial = dial + \" \" + ac + \" \" + cur_sen\n",
    "                c_data.loc[i, \"contents\"] =  dial + \" \" + c_mdata.loc[c_mdata.id == ac].exp.values[0]\n",
    "                c_data.loc[i, \"id\"] = ac\n",
    "                ac = \"\"\n",
    "\n",
    "            elif len(ac) == 0:\n",
    "                dial = dial + \" \" + cur_sen\n",
    "\n",
    "            else: # 의상을 한 번에 여러 개 추천한 경우\n",
    "                idx_cnt = 0\n",
    "                for one_ac in ac.split():\n",
    "                    c_data.loc[i + idx_cnt, \"contents\"] =  dial + \" \" + one_ac + \" \"+ cur_sen + \" \" + c_mdata.loc[c_mdata.id == one_ac].exp.values[0]\n",
    "                    c_data.loc[i + idx_cnt, \"id\"] = one_ac\n",
    "                    idx_cnt += 1\n",
    "                dial = dial + \" \" + ac + \" \" + cur_sen    \n",
    "                ac = \"\"\n",
    "        \n",
    "        elif \"USER_FAIL\" in ddata.loc[i,\"tags\"]:\n",
    "            dial = dial + \" \" + ac + \" \" + cur_sen\n",
    "            ac = \"\"\n",
    "\n",
    "        else: # case 3. 그냥 대화문인 경우\n",
    "            dial = dial + \" \" + cur_sen\n",
    "    \n",
    "    else: #새로운 대화셋 시작이면 초기화\n",
    "        dial = cur_sen\n",
    "        ac = \"\""
   ],
   "outputs": [],
   "metadata": {}
  },
  {
   "cell_type": "code",
   "execution_count": 14,
   "source": [
    "print(\"전체 데이터 수: \", len(c_data))\n",
    "c_data.head()"
   ],
   "outputs": [
    {
     "output_type": "stream",
     "name": "stdout",
     "text": [
      "전체 데이터 수:  34303\n"
     ]
    },
    {
     "output_type": "execute_result",
     "data": {
      "text/html": [
       "<div>\n",
       "<style scoped>\n",
       "    .dataframe tbody tr th:only-of-type {\n",
       "        vertical-align: middle;\n",
       "    }\n",
       "\n",
       "    .dataframe tbody tr th {\n",
       "        vertical-align: top;\n",
       "    }\n",
       "\n",
       "    .dataframe thead th {\n",
       "        text-align: right;\n",
       "    }\n",
       "</style>\n",
       "<table border=\"1\" class=\"dataframe\">\n",
       "  <thead>\n",
       "    <tr style=\"text-align: right;\">\n",
       "      <th></th>\n",
       "      <th>contents</th>\n",
       "      <th>id</th>\n",
       "    </tr>\n",
       "  </thead>\n",
       "  <tbody>\n",
       "    <tr>\n",
       "      <th>3</th>\n",
       "      <td>처음 대학교 들어가는데 입을 옷 코디해주세요. 신입생 코디에 어울리게 화사한 스웨터...</td>\n",
       "      <td>SW-009</td>\n",
       "    </tr>\n",
       "    <tr>\n",
       "      <th>12</th>\n",
       "      <td>처음 대학교 들어가는데 입을 옷 코디해주세요. 신입생 코디에 어울리게 화사한 스웨터...</td>\n",
       "      <td>SK-053</td>\n",
       "    </tr>\n",
       "    <tr>\n",
       "      <th>17</th>\n",
       "      <td>처음 대학교 들어가는데 입을 옷 코디해주세요. 신입생 코디에 어울리게 화사한 스웨터...</td>\n",
       "      <td>CT-019</td>\n",
       "    </tr>\n",
       "    <tr>\n",
       "      <th>22</th>\n",
       "      <td>처음 대학교 들어가는데 입을 옷 코디해주세요. 신입생 코디에 어울리게 화사한 스웨터...</td>\n",
       "      <td>SE-039</td>\n",
       "    </tr>\n",
       "    <tr>\n",
       "      <th>26</th>\n",
       "      <td>처음 대학교 들어가는데 입을 옷 코디해주세요. 신입생 코디에 어울리게 화사한 스웨터...</td>\n",
       "      <td>CT-019</td>\n",
       "    </tr>\n",
       "  </tbody>\n",
       "</table>\n",
       "</div>"
      ],
      "text/plain": [
       "                                             contents      id\n",
       "3   처음 대학교 들어가는데 입을 옷 코디해주세요. 신입생 코디에 어울리게 화사한 스웨터...  SW-009\n",
       "12  처음 대학교 들어가는데 입을 옷 코디해주세요. 신입생 코디에 어울리게 화사한 스웨터...  SK-053\n",
       "17  처음 대학교 들어가는데 입을 옷 코디해주세요. 신입생 코디에 어울리게 화사한 스웨터...  CT-019\n",
       "22  처음 대학교 들어가는데 입을 옷 코디해주세요. 신입생 코디에 어울리게 화사한 스웨터...  SE-039\n",
       "26  처음 대학교 들어가는데 입을 옷 코디해주세요. 신입생 코디에 어울리게 화사한 스웨터...  CT-019"
      ]
     },
     "metadata": {},
     "execution_count": 14
    }
   ],
   "metadata": {}
  },
  {
   "cell_type": "code",
   "execution_count": 15,
   "source": [
    "c_data.reset_index(drop=True ,inplace=True)\n",
    "c_data.head()"
   ],
   "outputs": [
    {
     "output_type": "execute_result",
     "data": {
      "text/html": [
       "<div>\n",
       "<style scoped>\n",
       "    .dataframe tbody tr th:only-of-type {\n",
       "        vertical-align: middle;\n",
       "    }\n",
       "\n",
       "    .dataframe tbody tr th {\n",
       "        vertical-align: top;\n",
       "    }\n",
       "\n",
       "    .dataframe thead th {\n",
       "        text-align: right;\n",
       "    }\n",
       "</style>\n",
       "<table border=\"1\" class=\"dataframe\">\n",
       "  <thead>\n",
       "    <tr style=\"text-align: right;\">\n",
       "      <th></th>\n",
       "      <th>contents</th>\n",
       "      <th>id</th>\n",
       "    </tr>\n",
       "  </thead>\n",
       "  <tbody>\n",
       "    <tr>\n",
       "      <th>0</th>\n",
       "      <td>처음 대학교 들어가는데 입을 옷 코디해주세요. 신입생 코디에 어울리게 화사한 스웨터...</td>\n",
       "      <td>SW-009</td>\n",
       "    </tr>\n",
       "    <tr>\n",
       "      <th>1</th>\n",
       "      <td>처음 대학교 들어가는데 입을 옷 코디해주세요. 신입생 코디에 어울리게 화사한 스웨터...</td>\n",
       "      <td>SK-053</td>\n",
       "    </tr>\n",
       "    <tr>\n",
       "      <th>2</th>\n",
       "      <td>처음 대학교 들어가는데 입을 옷 코디해주세요. 신입생 코디에 어울리게 화사한 스웨터...</td>\n",
       "      <td>CT-019</td>\n",
       "    </tr>\n",
       "    <tr>\n",
       "      <th>3</th>\n",
       "      <td>처음 대학교 들어가는데 입을 옷 코디해주세요. 신입생 코디에 어울리게 화사한 스웨터...</td>\n",
       "      <td>SE-039</td>\n",
       "    </tr>\n",
       "    <tr>\n",
       "      <th>4</th>\n",
       "      <td>처음 대학교 들어가는데 입을 옷 코디해주세요. 신입생 코디에 어울리게 화사한 스웨터...</td>\n",
       "      <td>CT-019</td>\n",
       "    </tr>\n",
       "  </tbody>\n",
       "</table>\n",
       "</div>"
      ],
      "text/plain": [
       "                                            contents      id\n",
       "0  처음 대학교 들어가는데 입을 옷 코디해주세요. 신입생 코디에 어울리게 화사한 스웨터...  SW-009\n",
       "1  처음 대학교 들어가는데 입을 옷 코디해주세요. 신입생 코디에 어울리게 화사한 스웨터...  SK-053\n",
       "2  처음 대학교 들어가는데 입을 옷 코디해주세요. 신입생 코디에 어울리게 화사한 스웨터...  CT-019\n",
       "3  처음 대학교 들어가는데 입을 옷 코디해주세요. 신입생 코디에 어울리게 화사한 스웨터...  SE-039\n",
       "4  처음 대학교 들어가는데 입을 옷 코디해주세요. 신입생 코디에 어울리게 화사한 스웨터...  CT-019"
      ]
     },
     "metadata": {},
     "execution_count": 15
    }
   ],
   "metadata": {}
  },
  {
   "cell_type": "code",
   "execution_count": 16,
   "source": [
    "c_data.loc[0].contents"
   ],
   "outputs": [
    {
     "output_type": "execute_result",
     "data": {
      "text/plain": [
       "'처음 대학교 들어가는데 입을 옷 코디해주세요. 신입생 코디에 어울리게 화사한 스웨터를 추천해드릴게요. SW-009 이 옷에 어울리는 치마로 추천해주세요. 라운드 네크라인 여밈이 없는 풀오버 스타일 전체 케이블 조직 드롭숄더 슬리브 손등까지 오는 길이의 소매 몸에 적당히 맞는 품 엉덩이를 살짝 덮는 길이 네크라인, 소매 끝, 밑단에 고무단 처리 레이온52%,나일론20%,폴리에스터28% 꽈배기 조직, 플레인 조직이 섞여 있는 형태 드라이 크리닝 단색의 라임색 브라이트톤(고명도 고채도)의 옐로우 그린 산뜻하고 발랄한 느낌 기본의 단정한 편안한 산뜻한 발랄한 경쾌한 따뜻한 데일리룩 캠퍼스룩'"
      ]
     },
     "metadata": {},
     "execution_count": 16
    }
   ],
   "metadata": {}
  },
  {
   "cell_type": "code",
   "execution_count": 17,
   "source": [
    "cd_data = pd.DataFrame({\"contents\":[None], \"id\":[\"xx-xxx\"]})\n",
    "cd_data.drop(0,axis=0,inplace=True)\n",
    "cd_data.head()"
   ],
   "outputs": [
    {
     "output_type": "execute_result",
     "data": {
      "text/html": [
       "<div>\n",
       "<style scoped>\n",
       "    .dataframe tbody tr th:only-of-type {\n",
       "        vertical-align: middle;\n",
       "    }\n",
       "\n",
       "    .dataframe tbody tr th {\n",
       "        vertical-align: top;\n",
       "    }\n",
       "\n",
       "    .dataframe thead th {\n",
       "        text-align: right;\n",
       "    }\n",
       "</style>\n",
       "<table border=\"1\" class=\"dataframe\">\n",
       "  <thead>\n",
       "    <tr style=\"text-align: right;\">\n",
       "      <th></th>\n",
       "      <th>contents</th>\n",
       "      <th>id</th>\n",
       "    </tr>\n",
       "  </thead>\n",
       "  <tbody>\n",
       "  </tbody>\n",
       "</table>\n",
       "</div>"
      ],
      "text/plain": [
       "Empty DataFrame\n",
       "Columns: [contents, id]\n",
       "Index: []"
      ]
     },
     "metadata": {},
     "execution_count": 17
    }
   ],
   "metadata": {}
  },
  {
   "cell_type": "code",
   "execution_count": 18,
   "source": [
    "for i in range(len(c_data)):\n",
    "    if \"CD\" in c_data[\"id\"][i][0:2]:\n",
    "        cd_data = cd_data.append(c_data.iloc[i])\n",
    "\n",
    "cd_data.reset_index(drop=True, inplace=True)\n",
    "print(\"데이터 개수\",len(cd_data))\n",
    "cd_data.head()"
   ],
   "outputs": [
    {
     "output_type": "stream",
     "name": "stdout",
     "text": [
      "데이터 개수 1466\n"
     ]
    },
    {
     "output_type": "execute_result",
     "data": {
      "text/html": [
       "<div>\n",
       "<style scoped>\n",
       "    .dataframe tbody tr th:only-of-type {\n",
       "        vertical-align: middle;\n",
       "    }\n",
       "\n",
       "    .dataframe tbody tr th {\n",
       "        vertical-align: top;\n",
       "    }\n",
       "\n",
       "    .dataframe thead th {\n",
       "        text-align: right;\n",
       "    }\n",
       "</style>\n",
       "<table border=\"1\" class=\"dataframe\">\n",
       "  <thead>\n",
       "    <tr style=\"text-align: right;\">\n",
       "      <th></th>\n",
       "      <th>contents</th>\n",
       "      <th>id</th>\n",
       "    </tr>\n",
       "  </thead>\n",
       "  <tbody>\n",
       "    <tr>\n",
       "      <th>0</th>\n",
       "      <td>데이트 갈 건데 코디부탁합니다. 화사한 꽃무늬 블라우스가 돋보이는 코디입니다. 마음...</td>\n",
       "      <td>CD-001</td>\n",
       "    </tr>\n",
       "    <tr>\n",
       "      <th>1</th>\n",
       "      <td>봄에 공원갈 때 입을 옷을 추천해줬으면 합니다. 원하시는 스타일이 있으신가요? 파스...</td>\n",
       "      <td>CD-047</td>\n",
       "    </tr>\n",
       "    <tr>\n",
       "      <th>2</th>\n",
       "      <td>근교에 여행을 가려고 하는데요. 이때 입을 옷을 추천해주세요. 네. 그럼 활동이 편...</td>\n",
       "      <td>CD-046</td>\n",
       "    </tr>\n",
       "    <tr>\n",
       "      <th>3</th>\n",
       "      <td>학교 갈 때 입을 옷 좀 추천해주세요. 시험기간이라 편한스타일로 보여주세요. 네. ...</td>\n",
       "      <td>CD-001</td>\n",
       "    </tr>\n",
       "    <tr>\n",
       "      <th>4</th>\n",
       "      <td>학교 갈 때 입을 옷 좀 추천해주세요. 시험기간이라 편한스타일로 보여주세요. 네. ...</td>\n",
       "      <td>CD-001</td>\n",
       "    </tr>\n",
       "  </tbody>\n",
       "</table>\n",
       "</div>"
      ],
      "text/plain": [
       "                                            contents      id\n",
       "0  데이트 갈 건데 코디부탁합니다. 화사한 꽃무늬 블라우스가 돋보이는 코디입니다. 마음...  CD-001\n",
       "1  봄에 공원갈 때 입을 옷을 추천해줬으면 합니다. 원하시는 스타일이 있으신가요? 파스...  CD-047\n",
       "2  근교에 여행을 가려고 하는데요. 이때 입을 옷을 추천해주세요. 네. 그럼 활동이 편...  CD-046\n",
       "3  학교 갈 때 입을 옷 좀 추천해주세요. 시험기간이라 편한스타일로 보여주세요. 네. ...  CD-001\n",
       "4  학교 갈 때 입을 옷 좀 추천해주세요. 시험기간이라 편한스타일로 보여주세요. 네. ...  CD-001"
      ]
     },
     "metadata": {},
     "execution_count": 18
    }
   ],
   "metadata": {}
  },
  {
   "cell_type": "code",
   "execution_count": 19,
   "source": [
    "cd_data[\"contents\"] = cd_data[\"contents\"].str.replace(\"[^A-Za-z0-9ㄱ-ㅎㅏ-ㅣ가-힣 ]\",\"\")\n",
    "cd_data.head()"
   ],
   "outputs": [
    {
     "output_type": "stream",
     "name": "stderr",
     "text": [
      "<ipython-input-19-a8b4110326b5>:1: FutureWarning: The default value of regex will change from True to False in a future version.\n",
      "  cd_data[\"contents\"] = cd_data[\"contents\"].str.replace(\"[^A-Za-z0-9ㄱ-ㅎㅏ-ㅣ가-힣 ]\",\"\")\n"
     ]
    },
    {
     "output_type": "execute_result",
     "data": {
      "text/html": [
       "<div>\n",
       "<style scoped>\n",
       "    .dataframe tbody tr th:only-of-type {\n",
       "        vertical-align: middle;\n",
       "    }\n",
       "\n",
       "    .dataframe tbody tr th {\n",
       "        vertical-align: top;\n",
       "    }\n",
       "\n",
       "    .dataframe thead th {\n",
       "        text-align: right;\n",
       "    }\n",
       "</style>\n",
       "<table border=\"1\" class=\"dataframe\">\n",
       "  <thead>\n",
       "    <tr style=\"text-align: right;\">\n",
       "      <th></th>\n",
       "      <th>contents</th>\n",
       "      <th>id</th>\n",
       "    </tr>\n",
       "  </thead>\n",
       "  <tbody>\n",
       "    <tr>\n",
       "      <th>0</th>\n",
       "      <td>데이트 갈 건데 코디부탁합니다 화사한 꽃무늬 블라우스가 돋보이는 코디입니다 마음에 ...</td>\n",
       "      <td>CD-001</td>\n",
       "    </tr>\n",
       "    <tr>\n",
       "      <th>1</th>\n",
       "      <td>봄에 공원갈 때 입을 옷을 추천해줬으면 합니다 원하시는 스타일이 있으신가요 파스텔 ...</td>\n",
       "      <td>CD-047</td>\n",
       "    </tr>\n",
       "    <tr>\n",
       "      <th>2</th>\n",
       "      <td>근교에 여행을 가려고 하는데요 이때 입을 옷을 추천해주세요 네 그럼 활동이 편한 가...</td>\n",
       "      <td>CD-046</td>\n",
       "    </tr>\n",
       "    <tr>\n",
       "      <th>3</th>\n",
       "      <td>학교 갈 때 입을 옷 좀 추천해주세요 시험기간이라 편한스타일로 보여주세요 네 그럼 ...</td>\n",
       "      <td>CD-001</td>\n",
       "    </tr>\n",
       "    <tr>\n",
       "      <th>4</th>\n",
       "      <td>학교 갈 때 입을 옷 좀 추천해주세요 시험기간이라 편한스타일로 보여주세요 네 그럼 ...</td>\n",
       "      <td>CD-001</td>\n",
       "    </tr>\n",
       "  </tbody>\n",
       "</table>\n",
       "</div>"
      ],
      "text/plain": [
       "                                            contents      id\n",
       "0  데이트 갈 건데 코디부탁합니다 화사한 꽃무늬 블라우스가 돋보이는 코디입니다 마음에 ...  CD-001\n",
       "1  봄에 공원갈 때 입을 옷을 추천해줬으면 합니다 원하시는 스타일이 있으신가요 파스텔 ...  CD-047\n",
       "2  근교에 여행을 가려고 하는데요 이때 입을 옷을 추천해주세요 네 그럼 활동이 편한 가...  CD-046\n",
       "3  학교 갈 때 입을 옷 좀 추천해주세요 시험기간이라 편한스타일로 보여주세요 네 그럼 ...  CD-001\n",
       "4  학교 갈 때 입을 옷 좀 추천해주세요 시험기간이라 편한스타일로 보여주세요 네 그럼 ...  CD-001"
      ]
     },
     "metadata": {},
     "execution_count": 19
    }
   ],
   "metadata": {}
  },
  {
   "cell_type": "code",
   "execution_count": 20,
   "source": [
    "cd_data[\"id\"] = cd_data[\"id\"].str.replace(\"[^0-9]\",\"\")\n",
    "\n",
    "cd_data.head()"
   ],
   "outputs": [
    {
     "output_type": "stream",
     "name": "stderr",
     "text": [
      "<ipython-input-20-da1a9a039b90>:1: FutureWarning: The default value of regex will change from True to False in a future version.\n",
      "  cd_data[\"id\"] = cd_data[\"id\"].str.replace(\"[^0-9]\",\"\")\n"
     ]
    },
    {
     "output_type": "execute_result",
     "data": {
      "text/html": [
       "<div>\n",
       "<style scoped>\n",
       "    .dataframe tbody tr th:only-of-type {\n",
       "        vertical-align: middle;\n",
       "    }\n",
       "\n",
       "    .dataframe tbody tr th {\n",
       "        vertical-align: top;\n",
       "    }\n",
       "\n",
       "    .dataframe thead th {\n",
       "        text-align: right;\n",
       "    }\n",
       "</style>\n",
       "<table border=\"1\" class=\"dataframe\">\n",
       "  <thead>\n",
       "    <tr style=\"text-align: right;\">\n",
       "      <th></th>\n",
       "      <th>contents</th>\n",
       "      <th>id</th>\n",
       "    </tr>\n",
       "  </thead>\n",
       "  <tbody>\n",
       "    <tr>\n",
       "      <th>0</th>\n",
       "      <td>데이트 갈 건데 코디부탁합니다 화사한 꽃무늬 블라우스가 돋보이는 코디입니다 마음에 ...</td>\n",
       "      <td>001</td>\n",
       "    </tr>\n",
       "    <tr>\n",
       "      <th>1</th>\n",
       "      <td>봄에 공원갈 때 입을 옷을 추천해줬으면 합니다 원하시는 스타일이 있으신가요 파스텔 ...</td>\n",
       "      <td>047</td>\n",
       "    </tr>\n",
       "    <tr>\n",
       "      <th>2</th>\n",
       "      <td>근교에 여행을 가려고 하는데요 이때 입을 옷을 추천해주세요 네 그럼 활동이 편한 가...</td>\n",
       "      <td>046</td>\n",
       "    </tr>\n",
       "    <tr>\n",
       "      <th>3</th>\n",
       "      <td>학교 갈 때 입을 옷 좀 추천해주세요 시험기간이라 편한스타일로 보여주세요 네 그럼 ...</td>\n",
       "      <td>001</td>\n",
       "    </tr>\n",
       "    <tr>\n",
       "      <th>4</th>\n",
       "      <td>학교 갈 때 입을 옷 좀 추천해주세요 시험기간이라 편한스타일로 보여주세요 네 그럼 ...</td>\n",
       "      <td>001</td>\n",
       "    </tr>\n",
       "  </tbody>\n",
       "</table>\n",
       "</div>"
      ],
      "text/plain": [
       "                                            contents   id\n",
       "0  데이트 갈 건데 코디부탁합니다 화사한 꽃무늬 블라우스가 돋보이는 코디입니다 마음에 ...  001\n",
       "1  봄에 공원갈 때 입을 옷을 추천해줬으면 합니다 원하시는 스타일이 있으신가요 파스텔 ...  047\n",
       "2  근교에 여행을 가려고 하는데요 이때 입을 옷을 추천해주세요 네 그럼 활동이 편한 가...  046\n",
       "3  학교 갈 때 입을 옷 좀 추천해주세요 시험기간이라 편한스타일로 보여주세요 네 그럼 ...  001\n",
       "4  학교 갈 때 입을 옷 좀 추천해주세요 시험기간이라 편한스타일로 보여주세요 네 그럼 ...  001"
      ]
     },
     "metadata": {},
     "execution_count": 20
    }
   ],
   "metadata": {}
  },
  {
   "cell_type": "code",
   "execution_count": 21,
   "source": [
    "from collections import Counter\n",
    "temp = cd_data[\"id\"].tolist()\n",
    "type_count = dict(Counter(temp))\n",
    "type_count"
   ],
   "outputs": [
    {
     "output_type": "execute_result",
     "data": {
      "text/plain": [
       "{'001': 6,\n",
       " '047': 33,\n",
       " '046': 8,\n",
       " '036': 28,\n",
       " '014': 6,\n",
       " '008': 15,\n",
       " '029': 53,\n",
       " '007': 27,\n",
       " '032': 26,\n",
       " '049': 8,\n",
       " '053': 19,\n",
       " '052': 23,\n",
       " '045': 24,\n",
       " '051': 56,\n",
       " '035': 15,\n",
       " '028': 34,\n",
       " '044': 12,\n",
       " '054': 4,\n",
       " '030': 30,\n",
       " '003': 7,\n",
       " '037': 16,\n",
       " '023': 3,\n",
       " '055': 8,\n",
       " '043': 4,\n",
       " '018': 10,\n",
       " '017': 5,\n",
       " '002': 53,\n",
       " '026': 10,\n",
       " '015': 6,\n",
       " '042': 15,\n",
       " '009': 15,\n",
       " '021': 31,\n",
       " '013': 12,\n",
       " '031': 27,\n",
       " '012': 11,\n",
       " '020': 19,\n",
       " '038': 20,\n",
       " '010': 9,\n",
       " '024': 4,\n",
       " '033': 16,\n",
       " '019': 24,\n",
       " '005': 28,\n",
       " '004': 4,\n",
       " '048': 2,\n",
       " '040': 26,\n",
       " '050': 7,\n",
       " '041': 6,\n",
       " '034': 5,\n",
       " '056': 14,\n",
       " '006': 5,\n",
       " '022': 9,\n",
       " '106': 4,\n",
       " '090': 42,\n",
       " '065': 35,\n",
       " '086': 7,\n",
       " '097': 5,\n",
       " '058': 12,\n",
       " '070': 23,\n",
       " '091': 17,\n",
       " '084': 16,\n",
       " '074': 17,\n",
       " '057': 17,\n",
       " '078': 18,\n",
       " '103': 5,\n",
       " '069': 14,\n",
       " '081': 7,\n",
       " '102': 8,\n",
       " '077': 10,\n",
       " '075': 3,\n",
       " '094': 5,\n",
       " '067': 58,\n",
       " '080': 3,\n",
       " '079': 10,\n",
       " '061': 10,\n",
       " '068': 13,\n",
       " '072': 6,\n",
       " '063': 8,\n",
       " '105': 9,\n",
       " '062': 13,\n",
       " '100': 10,\n",
       " '099': 10,\n",
       " '073': 17,\n",
       " '089': 12,\n",
       " '064': 2,\n",
       " '101': 7,\n",
       " '060': 2,\n",
       " '098': 10,\n",
       " '088': 6,\n",
       " '093': 5,\n",
       " '076': 2,\n",
       " '096': 5,\n",
       " '066': 6,\n",
       " '087': 4,\n",
       " '083': 6,\n",
       " '104': 8,\n",
       " '071': 2,\n",
       " '039': 4,\n",
       " '082': 3,\n",
       " '129': 7,\n",
       " '138': 8,\n",
       " '126': 3,\n",
       " '144': 2,\n",
       " '128': 1,\n",
       " '146': 8,\n",
       " '143': 1,\n",
       " '111': 1,\n",
       " '122': 2,\n",
       " '112': 2,\n",
       " '148': 2,\n",
       " '150': 3,\n",
       " '016': 1,\n",
       " '059': 4,\n",
       " '133': 5,\n",
       " '115': 4,\n",
       " '127': 2,\n",
       " '134': 5,\n",
       " '107': 2,\n",
       " '131': 1,\n",
       " '135': 4,\n",
       " '085': 3,\n",
       " '109': 3,\n",
       " '025': 1,\n",
       " '141': 2,\n",
       " '137': 2,\n",
       " '027': 1,\n",
       " '147': 4,\n",
       " '139': 2,\n",
       " '120': 2,\n",
       " '136': 1,\n",
       " '123': 2,\n",
       " '095': 1}"
      ]
     },
     "metadata": {},
     "execution_count": 21
    }
   ],
   "metadata": {}
  },
  {
   "cell_type": "code",
   "execution_count": 22,
   "source": [
    "len(type_count)"
   ],
   "outputs": [
    {
     "output_type": "execute_result",
     "data": {
      "text/plain": [
       "131"
      ]
     },
     "metadata": {},
     "execution_count": 22
    }
   ],
   "metadata": {}
  },
  {
   "cell_type": "code",
   "execution_count": 23,
   "source": [
    "del_list = []\n",
    "for i in type_count.keys():\n",
    "    if type_count.get(i) == 1:\n",
    "        del_list.append(i)\n",
    "del_list"
   ],
   "outputs": [
    {
     "output_type": "execute_result",
     "data": {
      "text/plain": [
       "['128', '143', '111', '016', '131', '025', '027', '136', '095']"
      ]
     },
     "metadata": {},
     "execution_count": 23
    }
   ],
   "metadata": {}
  },
  {
   "cell_type": "code",
   "execution_count": 24,
   "source": [
    "cd_data.head()"
   ],
   "outputs": [
    {
     "output_type": "execute_result",
     "data": {
      "text/html": [
       "<div>\n",
       "<style scoped>\n",
       "    .dataframe tbody tr th:only-of-type {\n",
       "        vertical-align: middle;\n",
       "    }\n",
       "\n",
       "    .dataframe tbody tr th {\n",
       "        vertical-align: top;\n",
       "    }\n",
       "\n",
       "    .dataframe thead th {\n",
       "        text-align: right;\n",
       "    }\n",
       "</style>\n",
       "<table border=\"1\" class=\"dataframe\">\n",
       "  <thead>\n",
       "    <tr style=\"text-align: right;\">\n",
       "      <th></th>\n",
       "      <th>contents</th>\n",
       "      <th>id</th>\n",
       "    </tr>\n",
       "  </thead>\n",
       "  <tbody>\n",
       "    <tr>\n",
       "      <th>0</th>\n",
       "      <td>데이트 갈 건데 코디부탁합니다 화사한 꽃무늬 블라우스가 돋보이는 코디입니다 마음에 ...</td>\n",
       "      <td>001</td>\n",
       "    </tr>\n",
       "    <tr>\n",
       "      <th>1</th>\n",
       "      <td>봄에 공원갈 때 입을 옷을 추천해줬으면 합니다 원하시는 스타일이 있으신가요 파스텔 ...</td>\n",
       "      <td>047</td>\n",
       "    </tr>\n",
       "    <tr>\n",
       "      <th>2</th>\n",
       "      <td>근교에 여행을 가려고 하는데요 이때 입을 옷을 추천해주세요 네 그럼 활동이 편한 가...</td>\n",
       "      <td>046</td>\n",
       "    </tr>\n",
       "    <tr>\n",
       "      <th>3</th>\n",
       "      <td>학교 갈 때 입을 옷 좀 추천해주세요 시험기간이라 편한스타일로 보여주세요 네 그럼 ...</td>\n",
       "      <td>001</td>\n",
       "    </tr>\n",
       "    <tr>\n",
       "      <th>4</th>\n",
       "      <td>학교 갈 때 입을 옷 좀 추천해주세요 시험기간이라 편한스타일로 보여주세요 네 그럼 ...</td>\n",
       "      <td>001</td>\n",
       "    </tr>\n",
       "  </tbody>\n",
       "</table>\n",
       "</div>"
      ],
      "text/plain": [
       "                                            contents   id\n",
       "0  데이트 갈 건데 코디부탁합니다 화사한 꽃무늬 블라우스가 돋보이는 코디입니다 마음에 ...  001\n",
       "1  봄에 공원갈 때 입을 옷을 추천해줬으면 합니다 원하시는 스타일이 있으신가요 파스텔 ...  047\n",
       "2  근교에 여행을 가려고 하는데요 이때 입을 옷을 추천해주세요 네 그럼 활동이 편한 가...  046\n",
       "3  학교 갈 때 입을 옷 좀 추천해주세요 시험기간이라 편한스타일로 보여주세요 네 그럼 ...  001\n",
       "4  학교 갈 때 입을 옷 좀 추천해주세요 시험기간이라 편한스타일로 보여주세요 네 그럼 ...  001"
      ]
     },
     "metadata": {},
     "execution_count": 24
    }
   ],
   "metadata": {}
  },
  {
   "cell_type": "code",
   "execution_count": 25,
   "source": [
    "for i in del_list:\n",
    "    cd_data = cd_data[cd_data[\"id\"] != i]"
   ],
   "outputs": [],
   "metadata": {}
  },
  {
   "cell_type": "code",
   "execution_count": 26,
   "source": [
    "len(cd_data)"
   ],
   "outputs": [
    {
     "output_type": "execute_result",
     "data": {
      "text/plain": [
       "1457"
      ]
     },
     "metadata": {},
     "execution_count": 26
    }
   ],
   "metadata": {}
  },
  {
   "cell_type": "code",
   "execution_count": 27,
   "source": [
    "cd_data.reset_index(drop=True, inplace=True)"
   ],
   "outputs": [],
   "metadata": {}
  },
  {
   "cell_type": "code",
   "execution_count": 28,
   "source": [
    "import matplotlib.pyplot as plt\n",
    "plt.bar(Counter(cd_data.id).keys(),Counter(cd_data.id).values(), color='k')"
   ],
   "outputs": [
    {
     "output_type": "execute_result",
     "data": {
      "text/plain": [
       "<BarContainer object of 122 artists>"
      ]
     },
     "metadata": {},
     "execution_count": 28
    }
   ],
   "metadata": {}
  },
  {
   "cell_type": "markdown",
   "source": [
    "# 5. 형태소 분석"
   ],
   "metadata": {}
  },
  {
   "cell_type": "markdown",
   "source": [
    "## Mecab 사용"
   ],
   "metadata": {}
  },
  {
   "cell_type": "code",
   "execution_count": 29,
   "source": [
    "from konlpy.tag import Mecab\n",
    "mecab = Mecab()"
   ],
   "outputs": [],
   "metadata": {}
  },
  {
   "cell_type": "code",
   "execution_count": 30,
   "source": [
    "mecab.morphs(cd_data[\"contents\"][0])"
   ],
   "outputs": [
    {
     "output_type": "execute_result",
     "data": {
      "text/plain": [
       "['데이트',\n",
       " '갈',\n",
       " '건데',\n",
       " '코디',\n",
       " '부탁',\n",
       " '합니다',\n",
       " '화사',\n",
       " '한',\n",
       " '꽃무늬',\n",
       " '블라우스',\n",
       " '가',\n",
       " '돋보이',\n",
       " '는',\n",
       " '코디',\n",
       " '입니다',\n",
       " '마음',\n",
       " '에',\n",
       " '드',\n",
       " '시',\n",
       " '나요',\n",
       " 'JK',\n",
       " '089',\n",
       " 'BL',\n",
       " '056',\n",
       " 'SK',\n",
       " '100',\n",
       " 'SE',\n",
       " '047',\n",
       " '하의',\n",
       " '와',\n",
       " '신발',\n",
       " '이',\n",
       " '맘',\n",
       " '에',\n",
       " '들',\n",
       " '지',\n",
       " '않',\n",
       " '아요',\n",
       " '다른',\n",
       " '치마',\n",
       " '로',\n",
       " '추천',\n",
       " '해',\n",
       " '주',\n",
       " '세요',\n",
       " '우선',\n",
       " '블라우스',\n",
       " '에',\n",
       " '어울리',\n",
       " '는',\n",
       " '치마',\n",
       " '부터',\n",
       " '보여',\n",
       " '드릴게요',\n",
       " '하늘거리',\n",
       " '고',\n",
       " '가벼운',\n",
       " '느낌',\n",
       " '이',\n",
       " '라',\n",
       " '데이트',\n",
       " '룩',\n",
       " '으로',\n",
       " '도',\n",
       " '딱',\n",
       " '이',\n",
       " '랍니다',\n",
       " 'SK',\n",
       " '045',\n",
       " '다른',\n",
       " '치마',\n",
       " '로',\n",
       " '추천',\n",
       " '해',\n",
       " '주',\n",
       " '세요',\n",
       " '어떤',\n",
       " '스타일',\n",
       " '로',\n",
       " '바꿔',\n",
       " '드릴까요',\n",
       " '그냥',\n",
       " '전체',\n",
       " '적',\n",
       " '으로',\n",
       " '깔끔',\n",
       " '한',\n",
       " '치마',\n",
       " '로',\n",
       " '바꿔',\n",
       " '주',\n",
       " '세요',\n",
       " '고객',\n",
       " '님',\n",
       " '처럼',\n",
       " '마른',\n",
       " '체형',\n",
       " '은',\n",
       " '짧',\n",
       " '은',\n",
       " '스커트',\n",
       " '가',\n",
       " '잘',\n",
       " '어울릴',\n",
       " '것',\n",
       " '같',\n",
       " '아요',\n",
       " 'SK',\n",
       " '075',\n",
       " '마음',\n",
       " '에',\n",
       " '들',\n",
       " '지',\n",
       " '않',\n",
       " '아요',\n",
       " '다른',\n",
       " '걸로',\n",
       " '찾',\n",
       " '아',\n",
       " '주',\n",
       " '세요',\n",
       " '그렇',\n",
       " '다면',\n",
       " '좀',\n",
       " '더',\n",
       " '깔끔',\n",
       " '한',\n",
       " '스타일',\n",
       " '의',\n",
       " '이런',\n",
       " '치마',\n",
       " '는',\n",
       " '어떠신가요',\n",
       " 'SK',\n",
       " '082',\n",
       " '이',\n",
       " '치마',\n",
       " '에',\n",
       " '어울리',\n",
       " '는',\n",
       " '가디건',\n",
       " '은',\n",
       " '뭐',\n",
       " '가',\n",
       " '있',\n",
       " '나요',\n",
       " '가디건',\n",
       " '을',\n",
       " '찾',\n",
       " '으시',\n",
       " '는군요',\n",
       " '잠시',\n",
       " '만',\n",
       " '기다려',\n",
       " '주',\n",
       " '세요',\n",
       " 'CD',\n",
       " '054',\n",
       " '좀',\n",
       " '박시',\n",
       " '한',\n",
       " '스타일',\n",
       " '은',\n",
       " '없',\n",
       " '나요',\n",
       " '허리',\n",
       " '가',\n",
       " '맘',\n",
       " '에',\n",
       " '안',\n",
       " '들',\n",
       " '어요',\n",
       " '하이',\n",
       " '웨이스트',\n",
       " '스타일',\n",
       " '이',\n",
       " '라',\n",
       " '숏',\n",
       " '스커트',\n",
       " '와',\n",
       " '매칭',\n",
       " '했',\n",
       " '을',\n",
       " '때',\n",
       " '다리',\n",
       " '가',\n",
       " '길',\n",
       " '어',\n",
       " '보이',\n",
       " '는',\n",
       " '효과',\n",
       " '를',\n",
       " '줍니다',\n",
       " '잠시',\n",
       " '만',\n",
       " '기다려',\n",
       " '주',\n",
       " '세요',\n",
       " '박시',\n",
       " '한',\n",
       " '스타일',\n",
       " '의',\n",
       " '가디건',\n",
       " '인데',\n",
       " '러블리',\n",
       " '한',\n",
       " '느낌',\n",
       " '을',\n",
       " '주',\n",
       " '기',\n",
       " '때문',\n",
       " '에',\n",
       " '데이트',\n",
       " '룩',\n",
       " '에',\n",
       " '도',\n",
       " '잘',\n",
       " '어울리',\n",
       " '는',\n",
       " '아이템',\n",
       " '입니다',\n",
       " 'CD',\n",
       " '001',\n",
       " '이',\n",
       " '가디건',\n",
       " '에',\n",
       " '맞',\n",
       " '는',\n",
       " '전체',\n",
       " '코디',\n",
       " '보여',\n",
       " '주',\n",
       " '세요',\n",
       " '가디건',\n",
       " '라운드',\n",
       " '네크라인',\n",
       " '전면',\n",
       " '오픈',\n",
       " '여',\n",
       " '밈',\n",
       " '단추',\n",
       " '없음',\n",
       " '노',\n",
       " '버튼',\n",
       " '자켓',\n",
       " '드롭',\n",
       " '숄더',\n",
       " '롱',\n",
       " '슬리브',\n",
       " '손등',\n",
       " '덮',\n",
       " '는',\n",
       " '길',\n",
       " '이',\n",
       " '감',\n",
       " '박시',\n",
       " '핏',\n",
       " '형태',\n",
       " '엉덩이',\n",
       " '덮',\n",
       " '는',\n",
       " '길이',\n",
       " '감',\n",
       " '큰',\n",
       " '패치',\n",
       " '주머니',\n",
       " '어깨선',\n",
       " '박음질',\n",
       " '디자인',\n",
       " '둥근',\n",
       " '선',\n",
       " '밑단',\n",
       " '및',\n",
       " '주머니',\n",
       " '앞면',\n",
       " '폴리',\n",
       " '85',\n",
       " '레이온',\n",
       " '10',\n",
       " '스판',\n",
       " '5',\n",
       " '뒷면',\n",
       " '폴리',\n",
       " '95',\n",
       " '스판',\n",
       " '5',\n",
       " '안감',\n",
       " '융털',\n",
       " '로',\n",
       " '되',\n",
       " '어',\n",
       " '있',\n",
       " '어',\n",
       " '따뜻',\n",
       " '함',\n",
       " '폭시',\n",
       " '소재',\n",
       " '드라이',\n",
       " '크리',\n",
       " '닝',\n",
       " '권장',\n",
       " '빳빳',\n",
       " '한',\n",
       " '두께',\n",
       " '감',\n",
       " '있',\n",
       " '는',\n",
       " 'PINK',\n",
       " '안쪽',\n",
       " '흰색',\n",
       " '과',\n",
       " '핑크',\n",
       " '의',\n",
       " '배색',\n",
       " '효과',\n",
       " '부드러운',\n",
       " '컬러',\n",
       " '감',\n",
       " '과',\n",
       " '따뜻',\n",
       " '한',\n",
       " '무드',\n",
       " '를',\n",
       " '연출',\n",
       " '러블리',\n",
       " '한',\n",
       " '느낌',\n",
       " '과',\n",
       " '귀여운',\n",
       " '느낌',\n",
       " '여성',\n",
       " '스러운',\n",
       " '겨울',\n",
       " '느낌',\n",
       " '의',\n",
       " '모던',\n",
       " '한']"
      ]
     },
     "metadata": {},
     "execution_count": 30
    }
   ],
   "metadata": {}
  },
  {
   "cell_type": "code",
   "execution_count": 31,
   "source": [
    "len(cd_data)"
   ],
   "outputs": [
    {
     "output_type": "execute_result",
     "data": {
      "text/plain": [
       "1457"
      ]
     },
     "metadata": {},
     "execution_count": 31
    }
   ],
   "metadata": {}
  },
  {
   "cell_type": "code",
   "execution_count": 32,
   "source": [
    "x_data = []\n",
    "for i in range(len(cd_data)):\n",
    "    x_data.append(mecab.morphs(cd_data[\"contents\"][i]))\n",
    "\n",
    "x_data[0]"
   ],
   "outputs": [
    {
     "output_type": "execute_result",
     "data": {
      "text/plain": [
       "['데이트',\n",
       " '갈',\n",
       " '건데',\n",
       " '코디',\n",
       " '부탁',\n",
       " '합니다',\n",
       " '화사',\n",
       " '한',\n",
       " '꽃무늬',\n",
       " '블라우스',\n",
       " '가',\n",
       " '돋보이',\n",
       " '는',\n",
       " '코디',\n",
       " '입니다',\n",
       " '마음',\n",
       " '에',\n",
       " '드',\n",
       " '시',\n",
       " '나요',\n",
       " 'JK',\n",
       " '089',\n",
       " 'BL',\n",
       " '056',\n",
       " 'SK',\n",
       " '100',\n",
       " 'SE',\n",
       " '047',\n",
       " '하의',\n",
       " '와',\n",
       " '신발',\n",
       " '이',\n",
       " '맘',\n",
       " '에',\n",
       " '들',\n",
       " '지',\n",
       " '않',\n",
       " '아요',\n",
       " '다른',\n",
       " '치마',\n",
       " '로',\n",
       " '추천',\n",
       " '해',\n",
       " '주',\n",
       " '세요',\n",
       " '우선',\n",
       " '블라우스',\n",
       " '에',\n",
       " '어울리',\n",
       " '는',\n",
       " '치마',\n",
       " '부터',\n",
       " '보여',\n",
       " '드릴게요',\n",
       " '하늘거리',\n",
       " '고',\n",
       " '가벼운',\n",
       " '느낌',\n",
       " '이',\n",
       " '라',\n",
       " '데이트',\n",
       " '룩',\n",
       " '으로',\n",
       " '도',\n",
       " '딱',\n",
       " '이',\n",
       " '랍니다',\n",
       " 'SK',\n",
       " '045',\n",
       " '다른',\n",
       " '치마',\n",
       " '로',\n",
       " '추천',\n",
       " '해',\n",
       " '주',\n",
       " '세요',\n",
       " '어떤',\n",
       " '스타일',\n",
       " '로',\n",
       " '바꿔',\n",
       " '드릴까요',\n",
       " '그냥',\n",
       " '전체',\n",
       " '적',\n",
       " '으로',\n",
       " '깔끔',\n",
       " '한',\n",
       " '치마',\n",
       " '로',\n",
       " '바꿔',\n",
       " '주',\n",
       " '세요',\n",
       " '고객',\n",
       " '님',\n",
       " '처럼',\n",
       " '마른',\n",
       " '체형',\n",
       " '은',\n",
       " '짧',\n",
       " '은',\n",
       " '스커트',\n",
       " '가',\n",
       " '잘',\n",
       " '어울릴',\n",
       " '것',\n",
       " '같',\n",
       " '아요',\n",
       " 'SK',\n",
       " '075',\n",
       " '마음',\n",
       " '에',\n",
       " '들',\n",
       " '지',\n",
       " '않',\n",
       " '아요',\n",
       " '다른',\n",
       " '걸로',\n",
       " '찾',\n",
       " '아',\n",
       " '주',\n",
       " '세요',\n",
       " '그렇',\n",
       " '다면',\n",
       " '좀',\n",
       " '더',\n",
       " '깔끔',\n",
       " '한',\n",
       " '스타일',\n",
       " '의',\n",
       " '이런',\n",
       " '치마',\n",
       " '는',\n",
       " '어떠신가요',\n",
       " 'SK',\n",
       " '082',\n",
       " '이',\n",
       " '치마',\n",
       " '에',\n",
       " '어울리',\n",
       " '는',\n",
       " '가디건',\n",
       " '은',\n",
       " '뭐',\n",
       " '가',\n",
       " '있',\n",
       " '나요',\n",
       " '가디건',\n",
       " '을',\n",
       " '찾',\n",
       " '으시',\n",
       " '는군요',\n",
       " '잠시',\n",
       " '만',\n",
       " '기다려',\n",
       " '주',\n",
       " '세요',\n",
       " 'CD',\n",
       " '054',\n",
       " '좀',\n",
       " '박시',\n",
       " '한',\n",
       " '스타일',\n",
       " '은',\n",
       " '없',\n",
       " '나요',\n",
       " '허리',\n",
       " '가',\n",
       " '맘',\n",
       " '에',\n",
       " '안',\n",
       " '들',\n",
       " '어요',\n",
       " '하이',\n",
       " '웨이스트',\n",
       " '스타일',\n",
       " '이',\n",
       " '라',\n",
       " '숏',\n",
       " '스커트',\n",
       " '와',\n",
       " '매칭',\n",
       " '했',\n",
       " '을',\n",
       " '때',\n",
       " '다리',\n",
       " '가',\n",
       " '길',\n",
       " '어',\n",
       " '보이',\n",
       " '는',\n",
       " '효과',\n",
       " '를',\n",
       " '줍니다',\n",
       " '잠시',\n",
       " '만',\n",
       " '기다려',\n",
       " '주',\n",
       " '세요',\n",
       " '박시',\n",
       " '한',\n",
       " '스타일',\n",
       " '의',\n",
       " '가디건',\n",
       " '인데',\n",
       " '러블리',\n",
       " '한',\n",
       " '느낌',\n",
       " '을',\n",
       " '주',\n",
       " '기',\n",
       " '때문',\n",
       " '에',\n",
       " '데이트',\n",
       " '룩',\n",
       " '에',\n",
       " '도',\n",
       " '잘',\n",
       " '어울리',\n",
       " '는',\n",
       " '아이템',\n",
       " '입니다',\n",
       " 'CD',\n",
       " '001',\n",
       " '이',\n",
       " '가디건',\n",
       " '에',\n",
       " '맞',\n",
       " '는',\n",
       " '전체',\n",
       " '코디',\n",
       " '보여',\n",
       " '주',\n",
       " '세요',\n",
       " '가디건',\n",
       " '라운드',\n",
       " '네크라인',\n",
       " '전면',\n",
       " '오픈',\n",
       " '여',\n",
       " '밈',\n",
       " '단추',\n",
       " '없음',\n",
       " '노',\n",
       " '버튼',\n",
       " '자켓',\n",
       " '드롭',\n",
       " '숄더',\n",
       " '롱',\n",
       " '슬리브',\n",
       " '손등',\n",
       " '덮',\n",
       " '는',\n",
       " '길',\n",
       " '이',\n",
       " '감',\n",
       " '박시',\n",
       " '핏',\n",
       " '형태',\n",
       " '엉덩이',\n",
       " '덮',\n",
       " '는',\n",
       " '길이',\n",
       " '감',\n",
       " '큰',\n",
       " '패치',\n",
       " '주머니',\n",
       " '어깨선',\n",
       " '박음질',\n",
       " '디자인',\n",
       " '둥근',\n",
       " '선',\n",
       " '밑단',\n",
       " '및',\n",
       " '주머니',\n",
       " '앞면',\n",
       " '폴리',\n",
       " '85',\n",
       " '레이온',\n",
       " '10',\n",
       " '스판',\n",
       " '5',\n",
       " '뒷면',\n",
       " '폴리',\n",
       " '95',\n",
       " '스판',\n",
       " '5',\n",
       " '안감',\n",
       " '융털',\n",
       " '로',\n",
       " '되',\n",
       " '어',\n",
       " '있',\n",
       " '어',\n",
       " '따뜻',\n",
       " '함',\n",
       " '폭시',\n",
       " '소재',\n",
       " '드라이',\n",
       " '크리',\n",
       " '닝',\n",
       " '권장',\n",
       " '빳빳',\n",
       " '한',\n",
       " '두께',\n",
       " '감',\n",
       " '있',\n",
       " '는',\n",
       " 'PINK',\n",
       " '안쪽',\n",
       " '흰색',\n",
       " '과',\n",
       " '핑크',\n",
       " '의',\n",
       " '배색',\n",
       " '효과',\n",
       " '부드러운',\n",
       " '컬러',\n",
       " '감',\n",
       " '과',\n",
       " '따뜻',\n",
       " '한',\n",
       " '무드',\n",
       " '를',\n",
       " '연출',\n",
       " '러블리',\n",
       " '한',\n",
       " '느낌',\n",
       " '과',\n",
       " '귀여운',\n",
       " '느낌',\n",
       " '여성',\n",
       " '스러운',\n",
       " '겨울',\n",
       " '느낌',\n",
       " '의',\n",
       " '모던',\n",
       " '한']"
      ]
     },
     "metadata": {},
     "execution_count": 32
    }
   ],
   "metadata": {}
  },
  {
   "cell_type": "code",
   "execution_count": 33,
   "source": [
    "stopwords = []\n",
    "with open('./data/불용어사전.txt', mode='rt', encoding='utf-8') as f:\n",
    "    for word in f.readlines():\n",
    "        word = word.strip()\n",
    "        stopwords.append(word)\n",
    "stopwords[0:2]"
   ],
   "outputs": [
    {
     "output_type": "execute_result",
     "data": {
      "text/plain": [
       "['어찌됐든', '그위에']"
      ]
     },
     "metadata": {},
     "execution_count": 33
    }
   ],
   "metadata": {}
  },
  {
   "cell_type": "code",
   "execution_count": 34,
   "source": [
    "X_data = []\n",
    "for sentence in x_data: #문장 하나 가져오고 단어 단위로 쪼개기\n",
    "    temp_X = [word for word in sentence if not word in stopwords] # 불용어 제거\n",
    "    X_data.append(temp_X)\n",
    "X_data[0]"
   ],
   "outputs": [
    {
     "output_type": "execute_result",
     "data": {
      "text/plain": [
       "['데이트',\n",
       " '갈',\n",
       " '건데',\n",
       " '코디',\n",
       " '부탁',\n",
       " '합니다',\n",
       " '화사',\n",
       " '꽃무늬',\n",
       " '블라우스',\n",
       " '돋보이',\n",
       " '코디',\n",
       " '입니다',\n",
       " '마음',\n",
       " '시',\n",
       " '나요',\n",
       " 'JK',\n",
       " '089',\n",
       " 'BL',\n",
       " '056',\n",
       " 'SK',\n",
       " '100',\n",
       " 'SE',\n",
       " '047',\n",
       " '하의',\n",
       " '신발',\n",
       " '맘',\n",
       " '지',\n",
       " '않',\n",
       " '아요',\n",
       " '치마',\n",
       " '추천',\n",
       " '주',\n",
       " '세요',\n",
       " '블라우스',\n",
       " '어울리',\n",
       " '치마',\n",
       " '보여',\n",
       " '드릴게요',\n",
       " '하늘거리',\n",
       " '고',\n",
       " '가벼운',\n",
       " '느낌',\n",
       " '라',\n",
       " '데이트',\n",
       " '룩',\n",
       " '도',\n",
       " '랍니다',\n",
       " 'SK',\n",
       " '045',\n",
       " '치마',\n",
       " '추천',\n",
       " '주',\n",
       " '세요',\n",
       " '스타일',\n",
       " '바꿔',\n",
       " '드릴까요',\n",
       " '그냥',\n",
       " '전체',\n",
       " '적',\n",
       " '깔끔',\n",
       " '치마',\n",
       " '바꿔',\n",
       " '주',\n",
       " '세요',\n",
       " '고객',\n",
       " '님',\n",
       " '처럼',\n",
       " '마른',\n",
       " '체형',\n",
       " '짧',\n",
       " '스커트',\n",
       " '잘',\n",
       " '어울릴',\n",
       " '같',\n",
       " '아요',\n",
       " 'SK',\n",
       " '075',\n",
       " '마음',\n",
       " '지',\n",
       " '않',\n",
       " '아요',\n",
       " '걸로',\n",
       " '찾',\n",
       " '주',\n",
       " '세요',\n",
       " '그렇',\n",
       " '다면',\n",
       " '더',\n",
       " '깔끔',\n",
       " '스타일',\n",
       " '치마',\n",
       " '어떠신가요',\n",
       " 'SK',\n",
       " '082',\n",
       " '치마',\n",
       " '어울리',\n",
       " '가디건',\n",
       " '뭐',\n",
       " '있',\n",
       " '나요',\n",
       " '가디건',\n",
       " '찾',\n",
       " '으시',\n",
       " '는군요',\n",
       " '만',\n",
       " '기다려',\n",
       " '주',\n",
       " '세요',\n",
       " 'CD',\n",
       " '054',\n",
       " '박시',\n",
       " '스타일',\n",
       " '나요',\n",
       " '허리',\n",
       " '맘',\n",
       " '안',\n",
       " '어요',\n",
       " '하이',\n",
       " '웨이스트',\n",
       " '스타일',\n",
       " '라',\n",
       " '숏',\n",
       " '스커트',\n",
       " '매칭',\n",
       " '했',\n",
       " '다리',\n",
       " '길',\n",
       " '보이',\n",
       " '효과',\n",
       " '줍니다',\n",
       " '만',\n",
       " '기다려',\n",
       " '주',\n",
       " '세요',\n",
       " '박시',\n",
       " '스타일',\n",
       " '가디건',\n",
       " '인데',\n",
       " '러블리',\n",
       " '느낌',\n",
       " '주',\n",
       " '기',\n",
       " '때문',\n",
       " '데이트',\n",
       " '룩',\n",
       " '도',\n",
       " '잘',\n",
       " '어울리',\n",
       " '아이템',\n",
       " '입니다',\n",
       " 'CD',\n",
       " '001',\n",
       " '가디건',\n",
       " '맞',\n",
       " '전체',\n",
       " '코디',\n",
       " '보여',\n",
       " '주',\n",
       " '세요',\n",
       " '가디건',\n",
       " '라운드',\n",
       " '네크라인',\n",
       " '전면',\n",
       " '오픈',\n",
       " '밈',\n",
       " '단추',\n",
       " '없음',\n",
       " '노',\n",
       " '버튼',\n",
       " '자켓',\n",
       " '드롭',\n",
       " '숄더',\n",
       " '롱',\n",
       " '슬리브',\n",
       " '손등',\n",
       " '덮',\n",
       " '길',\n",
       " '감',\n",
       " '박시',\n",
       " '핏',\n",
       " '형태',\n",
       " '엉덩이',\n",
       " '덮',\n",
       " '길이',\n",
       " '감',\n",
       " '큰',\n",
       " '패치',\n",
       " '주머니',\n",
       " '어깨선',\n",
       " '박음질',\n",
       " '디자인',\n",
       " '둥근',\n",
       " '선',\n",
       " '밑단',\n",
       " '주머니',\n",
       " '앞면',\n",
       " '폴리',\n",
       " '85',\n",
       " '레이온',\n",
       " '10',\n",
       " '스판',\n",
       " '5',\n",
       " '뒷면',\n",
       " '폴리',\n",
       " '95',\n",
       " '스판',\n",
       " '5',\n",
       " '안감',\n",
       " '융털',\n",
       " '되',\n",
       " '있',\n",
       " '따뜻',\n",
       " '함',\n",
       " '폭시',\n",
       " '소재',\n",
       " '드라이',\n",
       " '크리',\n",
       " '닝',\n",
       " '권장',\n",
       " '빳빳',\n",
       " '두께',\n",
       " '감',\n",
       " '있',\n",
       " 'PINK',\n",
       " '안쪽',\n",
       " '흰색',\n",
       " '핑크',\n",
       " '배색',\n",
       " '효과',\n",
       " '부드러운',\n",
       " '컬러',\n",
       " '감',\n",
       " '따뜻',\n",
       " '무드',\n",
       " '연출',\n",
       " '러블리',\n",
       " '느낌',\n",
       " '귀여운',\n",
       " '느낌',\n",
       " '여성',\n",
       " '스러운',\n",
       " '겨울',\n",
       " '느낌',\n",
       " '모던']"
      ]
     },
     "metadata": {},
     "execution_count": 34
    }
   ],
   "metadata": {}
  },
  {
   "cell_type": "markdown",
   "source": [
    "## 1. 임베딩 레이어 활용"
   ],
   "metadata": {}
  },
  {
   "cell_type": "markdown",
   "source": [
    "### 정수 인코딩"
   ],
   "metadata": {}
  },
  {
   "cell_type": "code",
   "execution_count": 35,
   "source": [
    "from tensorflow.keras.preprocessing.text import Tokenizer\n",
    "tokenizer = Tokenizer()\n",
    "tokenizer.fit_on_texts(X_data)"
   ],
   "outputs": [],
   "metadata": {}
  },
  {
   "cell_type": "code",
   "execution_count": 36,
   "source": [
    "threshold = 6\n",
    "total_cnt = len(tokenizer.word_index) # 단어의 수\n",
    "rare_cnt = 0 # 등장 빈도수가 threshold보다 작은 단어의 개수를 카운트\n",
    "total_freq = 0 # 훈련 데이터의 전체 단어 빈도수 총 합\n",
    "rare_freq = 0 # 등장 빈도수가 threshold보다 작은 단어의 등장 빈도수의 총 합\n",
    "\n",
    "# 단어와 빈도수의 쌍(pair)을 key와 value로 받는다.\n",
    "for key, value in tokenizer.word_counts.items():\n",
    "    total_freq = total_freq + value\n",
    "\n",
    "    # 단어의 등장 빈도수가 threshold보다 작으면\n",
    "    if(value < threshold):\n",
    "        rare_cnt = rare_cnt + 1\n",
    "        rare_freq = rare_freq + value\n",
    "\n",
    "print('단어 집합(vocabulary)의 크기 :',total_cnt)\n",
    "print('등장 빈도가 %s번 이하인 희귀 단어의 수: %s'%(threshold - 1, rare_cnt))\n",
    "print(\"단어 집합에서 희귀 단어의 비율:\", (rare_cnt / total_cnt)*100)\n",
    "print(\"전체 등장 빈도에서 희귀 단어 등장 빈도 비율:\", (rare_freq / total_freq)*100)"
   ],
   "outputs": [
    {
     "output_type": "stream",
     "name": "stdout",
     "text": [
      "단어 집합(vocabulary)의 크기 : 3249\n",
      "등장 빈도가 5번 이하인 희귀 단어의 수: 1500\n",
      "단어 집합에서 희귀 단어의 비율: 46.16805170821791\n",
      "전체 등장 빈도에서 희귀 단어 등장 빈도 비율: 1.359370828969794\n"
     ]
    }
   ],
   "metadata": {}
  },
  {
   "cell_type": "code",
   "execution_count": 37,
   "source": [
    "vocab_size = total_cnt - rare_cnt + 1 # tokenizer 함수에 들어 갈 때 영향줘서 1 추가 해야 됨\n",
    "print('단어 집합의 크기 :',vocab_size)"
   ],
   "outputs": [
    {
     "output_type": "stream",
     "name": "stdout",
     "text": [
      "단어 집합의 크기 : 1750\n"
     ]
    }
   ],
   "metadata": {}
  },
  {
   "cell_type": "markdown",
   "source": [
    "케라스 토크나이저의 정수 인코딩은 인덱스가 1부터 시작하지만,\n",
    "\n",
    "케라스 원-핫 인코딩에서 배열의 인덱스가 0부터 시작하기 때문에\n",
    "\n",
    "배열의 크기를 실제 단어 집합의 크기보다 +1로 생성해야하므로 미리 +1 선언 "
   ],
   "metadata": {}
  },
  {
   "cell_type": "markdown",
   "source": [
    "### 맨 앞자리는 비어있어야 함 (원 핫 인코딩은 정수 인코딩한 뒤 나오는 정수 값 자리에 1을 넣는 것)"
   ],
   "metadata": {}
  },
  {
   "cell_type": "code",
   "execution_count": 38,
   "source": [
    "tokenizer = Tokenizer(num_words=vocab_size - 1)\n",
    "tokenizer.fit_on_texts(X_data)\n",
    "len(tokenizer.word_index)"
   ],
   "outputs": [
    {
     "output_type": "execute_result",
     "data": {
      "text/plain": [
       "3249"
      ]
     },
     "metadata": {},
     "execution_count": 38
    }
   ],
   "metadata": {}
  },
  {
   "cell_type": "code",
   "execution_count": 39,
   "source": [
    "X_data = tokenizer.texts_to_sequences(X_data) # 단어에 정수 붙여줄 때 num_word 적용"
   ],
   "outputs": [],
   "metadata": {}
  },
  {
   "cell_type": "markdown",
   "source": [
    "위에서 num_words는 이 데이터에서 등장 빈도 순위로 몇 번째에 해당하는 단어까지만 사용할 것인지 조절\n",
    "\n",
    "예를 들어서 100이란 값을 넣으면, 등장 빈도 순위가 1~100에 해당하는 단어만 사용"
   ],
   "metadata": {}
  },
  {
   "cell_type": "code",
   "execution_count": 40,
   "source": [
    "X_data[1]"
   ],
   "outputs": [
    {
     "output_type": "execute_result",
     "data": {
      "text/plain": [
       "[209,\n",
       " 556,\n",
       " 119,\n",
       " 20,\n",
       " 56,\n",
       " 11,\n",
       " 1350,\n",
       " 187,\n",
       " 217,\n",
       " 323,\n",
       " 21,\n",
       " 41,\n",
       " 5,\n",
       " 115,\n",
       " 86,\n",
       " 1040,\n",
       " 336,\n",
       " 36,\n",
       " 111,\n",
       " 11,\n",
       " 1,\n",
       " 2,\n",
       " 242,\n",
       " 885,\n",
       " 324,\n",
       " 81,\n",
       " 86,\n",
       " 660,\n",
       " 3,\n",
       " 566,\n",
       " 123,\n",
       " 7,\n",
       " 38,\n",
       " 6,\n",
       " 248,\n",
       " 683,\n",
       " 4,\n",
       " 9,\n",
       " 1,\n",
       " 2,\n",
       " 1040,\n",
       " 336,\n",
       " 280,\n",
       " 36,\n",
       " 3,\n",
       " 300,\n",
       " 6,\n",
       " 13,\n",
       " 61,\n",
       " 10,\n",
       " 396,\n",
       " 287,\n",
       " 455,\n",
       " 64,\n",
       " 661,\n",
       " 24,\n",
       " 437,\n",
       " 36,\n",
       " 95,\n",
       " 41,\n",
       " 286,\n",
       " 187,\n",
       " 217,\n",
       " 36,\n",
       " 4,\n",
       " 91,\n",
       " 379,\n",
       " 332,\n",
       " 324,\n",
       " 38,\n",
       " 36,\n",
       " 255,\n",
       " 248,\n",
       " 328,\n",
       " 39,\n",
       " 490,\n",
       " 1040,\n",
       " 336,\n",
       " 36,\n",
       " 61,\n",
       " 120,\n",
       " 303,\n",
       " 7,\n",
       " 193,\n",
       " 36,\n",
       " 853,\n",
       " 128,\n",
       " 6,\n",
       " 39,\n",
       " 143,\n",
       " 52,\n",
       " 826,\n",
       " 566,\n",
       " 89,\n",
       " 19,\n",
       " 206,\n",
       " 323,\n",
       " 21,\n",
       " 534,\n",
       " 5,\n",
       " 115,\n",
       " 86,\n",
       " 36,\n",
       " 534,\n",
       " 672,\n",
       " 534,\n",
       " 286,\n",
       " 187,\n",
       " 217,\n",
       " 4,\n",
       " 9,\n",
       " 1,\n",
       " 2,\n",
       " 1186,\n",
       " 217,\n",
       " 1003,\n",
       " 336,\n",
       " 826,\n",
       " 248,\n",
       " 75,\n",
       " 323,\n",
       " 21,\n",
       " 41,\n",
       " 5,\n",
       " 115,\n",
       " 86,\n",
       " 551,\n",
       " 534,\n",
       " 38,\n",
       " 449,\n",
       " 336,\n",
       " 26,\n",
       " 449,\n",
       " 826,\n",
       " 5,\n",
       " 39,\n",
       " 108,\n",
       " 736,\n",
       " 535,\n",
       " 449,\n",
       " 826,\n",
       " 13,\n",
       " 24,\n",
       " 297,\n",
       " 7,\n",
       " 128,\n",
       " 6,\n",
       " 39,\n",
       " 108,\n",
       " 736,\n",
       " 1464,\n",
       " 39,\n",
       " 1,\n",
       " 2,\n",
       " 128,\n",
       " 6,\n",
       " 13,\n",
       " 61,\n",
       " 10,\n",
       " 396,\n",
       " 7,\n",
       " 6,\n",
       " 128,\n",
       " 1004,\n",
       " 40,\n",
       " 3,\n",
       " 175,\n",
       " 3,\n",
       " 148,\n",
       " 125,\n",
       " 202,\n",
       " 12,\n",
       " 125,\n",
       " 105,\n",
       " 85,\n",
       " 12,\n",
       " 25,\n",
       " 57,\n",
       " 179,\n",
       " 14,\n",
       " 84,\n",
       " 122,\n",
       " 58,\n",
       " 49,\n",
       " 51,\n",
       " 107,\n",
       " 193,\n",
       " 15,\n",
       " 30,\n",
       " 211,\n",
       " 14,\n",
       " 65,\n",
       " 127,\n",
       " 29,\n",
       " 3,\n",
       " 46,\n",
       " 174,\n",
       " 15,\n",
       " 200,\n",
       " 610,\n",
       " 367,\n",
       " 16,\n",
       " 103,\n",
       " 25,\n",
       " 57,\n",
       " 179,\n",
       " 14,\n",
       " 269,\n",
       " 30,\n",
       " 25,\n",
       " 57,\n",
       " 179,\n",
       " 14,\n",
       " 99,\n",
       " 425,\n",
       " 71,\n",
       " 491,\n",
       " 387,\n",
       " 178,\n",
       " 141,\n",
       " 151,\n",
       " 150,\n",
       " 54,\n",
       " 784,\n",
       " 116,\n",
       " 121,\n",
       " 113,\n",
       " 5,\n",
       " 277,\n",
       " 63,\n",
       " 827,\n",
       " 136,\n",
       " 278,\n",
       " 449,\n",
       " 77,\n",
       " 196,\n",
       " 69,\n",
       " 154,\n",
       " 17,\n",
       " 79,\n",
       " 27,\n",
       " 389,\n",
       " 66,\n",
       " 420,\n",
       " 243]"
      ]
     },
     "metadata": {},
     "execution_count": 40
    }
   ],
   "metadata": {}
  },
  {
   "cell_type": "code",
   "execution_count": 41,
   "source": [
    "print('문장 최대 길이 :',max(len(l) for l in X_data))\n",
    "print('문장의 평균 길이 :',sum(map(len, X_data))/len(X_data))\n",
    "plt.hist([len(s) for s in X_data], bins=50, color='k')\n",
    "plt.xlabel('length of samples')\n",
    "plt.ylabel('number of samples')\n",
    "plt.show()\n",
    "plt.close()"
   ],
   "outputs": [
    {
     "output_type": "stream",
     "name": "stdout",
     "text": [
      "문장 최대 길이 : 326\n",
      "문장의 평균 길이 : 164.8448867536033\n"
     ]
    },
    {
     "output_type": "display_data",
     "data": {
      "image/png": "[encoded data removed]",
      "text/plain": [
       "<Figure size 640x480 with 1 Axes>"
      ]
     },
     "metadata": {}
    }
   ],
   "metadata": {}
  },
  {
   "cell_type": "code",
   "execution_count": 42,
   "source": [
    "def below_threshold_len(max_len, nested_list):\n",
    "  cnt = 0\n",
    "  for s in nested_list:\n",
    "    if(len(s) <= max_len):\n",
    "        cnt = cnt + 1\n",
    "  print('전체 샘플 중 길이가 %s 이하인 샘플의 비율: %s'%(max_len, (cnt / len(nested_list))*100))\n",
    "\n",
    "max_len = 300\n",
    "below_threshold_len(max_len, X_data)"
   ],
   "outputs": [
    {
     "output_type": "stream",
     "name": "stdout",
     "text": [
      "전체 샘플 중 길이가 300 이하인 샘플의 비율: 99.38229238160604\n"
     ]
    }
   ],
   "metadata": {}
  },
  {
   "cell_type": "markdown",
   "source": [
    "## padding"
   ],
   "metadata": {}
  },
  {
   "cell_type": "code",
   "execution_count": 43,
   "source": [
    "from tensorflow.keras.preprocessing.sequence import pad_sequences\n",
    "X_data = pad_sequences(X_data, maxlen = max_len)"
   ],
   "outputs": [],
   "metadata": {}
  },
  {
   "cell_type": "code",
   "execution_count": 44,
   "source": [
    "print(len(X_data[1]))\n",
    "X_data[1]"
   ],
   "outputs": [
    {
     "output_type": "stream",
     "name": "stdout",
     "text": [
      "300\n"
     ]
    },
    {
     "output_type": "execute_result",
     "data": {
      "text/plain": [
       "array([   0,    0,    0,    0,    0,    0,    0,    0,    0,    0,    0,\n",
       "          0,    0,    0,    0,    0,    0,    0,    0,    0,    0,    0,\n",
       "          0,    0,    0,    0,    0,    0,    0,    0,    0,    0,    0,\n",
       "          0,    0,    0,    0,    0,    0,    0,    0,    0,    0,    0,\n",
       "          0,    0,    0,    0,    0,    0,    0,    0,    0,    0,    0,\n",
       "        209,  556,  119,   20,   56,   11, 1350,  187,  217,  323,   21,\n",
       "         41,    5,  115,   86, 1040,  336,   36,  111,   11,    1,    2,\n",
       "        242,  885,  324,   81,   86,  660,    3,  566,  123,    7,   38,\n",
       "          6,  248,  683,    4,    9,    1,    2, 1040,  336,  280,   36,\n",
       "          3,  300,    6,   13,   61,   10,  396,  287,  455,   64,  661,\n",
       "         24,  437,   36,   95,   41,  286,  187,  217,   36,    4,   91,\n",
       "        379,  332,  324,   38,   36,  255,  248,  328,   39,  490, 1040,\n",
       "        336,   36,   61,  120,  303,    7,  193,   36,  853,  128,    6,\n",
       "         39,  143,   52,  826,  566,   89,   19,  206,  323,   21,  534,\n",
       "          5,  115,   86,   36,  534,  672,  534,  286,  187,  217,    4,\n",
       "          9,    1,    2, 1186,  217, 1003,  336,  826,  248,   75,  323,\n",
       "         21,   41,    5,  115,   86,  551,  534,   38,  449,  336,   26,\n",
       "        449,  826,    5,   39,  108,  736,  535,  449,  826,   13,   24,\n",
       "        297,    7,  128,    6,   39,  108,  736, 1464,   39,    1,    2,\n",
       "        128,    6,   13,   61,   10,  396,    7,    6,  128, 1004,   40,\n",
       "          3,  175,    3,  148,  125,  202,   12,  125,  105,   85,   12,\n",
       "         25,   57,  179,   14,   84,  122,   58,   49,   51,  107,  193,\n",
       "         15,   30,  211,   14,   65,  127,   29,    3,   46,  174,   15,\n",
       "        200,  610,  367,   16,  103,   25,   57,  179,   14,  269,   30,\n",
       "         25,   57,  179,   14,   99,  425,   71,  491,  387,  178,  141,\n",
       "        151,  150,   54,  784,  116,  121,  113,    5,  277,   63,  827,\n",
       "        136,  278,  449,   77,  196,   69,  154,   17,   79,   27,  389,\n",
       "         66,  420,  243], dtype=int32)"
      ]
     },
     "metadata": {},
     "execution_count": 44
    }
   ],
   "metadata": {}
  },
  {
   "cell_type": "markdown",
   "source": [
    "# 6. LSTM 돌리기 "
   ],
   "metadata": {}
  },
  {
   "cell_type": "code",
   "execution_count": 45,
   "source": [
    "from tensorflow.keras.layers import Embedding, Dense, LSTM, Bidirectional\n",
    "from tensorflow.keras.models import Sequential\n",
    "from tensorflow.keras.models import load_model\n",
    "from tensorflow.keras.callbacks import EarlyStopping, ModelCheckpoint\n",
    "from sklearn.model_selection import train_test_split\n",
    "from tensorflow.keras.utils import to_categorical"
   ],
   "outputs": [],
   "metadata": {}
  },
  {
   "cell_type": "code",
   "execution_count": 46,
   "source": [
    "X = X_data\n",
    "y = cd_data.id.tolist()"
   ],
   "outputs": [],
   "metadata": {}
  },
  {
   "cell_type": "code",
   "execution_count": 47,
   "source": [
    "X[1]"
   ],
   "outputs": [
    {
     "output_type": "execute_result",
     "data": {
      "text/plain": [
       "array([   0,    0,    0,    0,    0,    0,    0,    0,    0,    0,    0,\n",
       "          0,    0,    0,    0,    0,    0,    0,    0,    0,    0,    0,\n",
       "          0,    0,    0,    0,    0,    0,    0,    0,    0,    0,    0,\n",
       "          0,    0,    0,    0,    0,    0,    0,    0,    0,    0,    0,\n",
       "          0,    0,    0,    0,    0,    0,    0,    0,    0,    0,    0,\n",
       "        209,  556,  119,   20,   56,   11, 1350,  187,  217,  323,   21,\n",
       "         41,    5,  115,   86, 1040,  336,   36,  111,   11,    1,    2,\n",
       "        242,  885,  324,   81,   86,  660,    3,  566,  123,    7,   38,\n",
       "          6,  248,  683,    4,    9,    1,    2, 1040,  336,  280,   36,\n",
       "          3,  300,    6,   13,   61,   10,  396,  287,  455,   64,  661,\n",
       "         24,  437,   36,   95,   41,  286,  187,  217,   36,    4,   91,\n",
       "        379,  332,  324,   38,   36,  255,  248,  328,   39,  490, 1040,\n",
       "        336,   36,   61,  120,  303,    7,  193,   36,  853,  128,    6,\n",
       "         39,  143,   52,  826,  566,   89,   19,  206,  323,   21,  534,\n",
       "          5,  115,   86,   36,  534,  672,  534,  286,  187,  217,    4,\n",
       "          9,    1,    2, 1186,  217, 1003,  336,  826,  248,   75,  323,\n",
       "         21,   41,    5,  115,   86,  551,  534,   38,  449,  336,   26,\n",
       "        449,  826,    5,   39,  108,  736,  535,  449,  826,   13,   24,\n",
       "        297,    7,  128,    6,   39,  108,  736, 1464,   39,    1,    2,\n",
       "        128,    6,   13,   61,   10,  396,    7,    6,  128, 1004,   40,\n",
       "          3,  175,    3,  148,  125,  202,   12,  125,  105,   85,   12,\n",
       "         25,   57,  179,   14,   84,  122,   58,   49,   51,  107,  193,\n",
       "         15,   30,  211,   14,   65,  127,   29,    3,   46,  174,   15,\n",
       "        200,  610,  367,   16,  103,   25,   57,  179,   14,  269,   30,\n",
       "         25,   57,  179,   14,   99,  425,   71,  491,  387,  178,  141,\n",
       "        151,  150,   54,  784,  116,  121,  113,    5,  277,   63,  827,\n",
       "        136,  278,  449,   77,  196,   69,  154,   17,   79,   27,  389,\n",
       "         66,  420,  243], dtype=int32)"
      ]
     },
     "metadata": {},
     "execution_count": 47
    }
   ],
   "metadata": {}
  },
  {
   "cell_type": "code",
   "execution_count": 48,
   "source": [
    "y[1]"
   ],
   "outputs": [
    {
     "output_type": "execute_result",
     "data": {
      "text/plain": [
       "'047'"
      ]
     },
     "metadata": {},
     "execution_count": 48
    }
   ],
   "metadata": {}
  },
  {
   "cell_type": "code",
   "execution_count": 49,
   "source": [
    "print(len(X),len(y))"
   ],
   "outputs": [
    {
     "output_type": "stream",
     "name": "stdout",
     "text": [
      "1457 1457\n"
     ]
    }
   ],
   "metadata": {}
  },
  {
   "cell_type": "code",
   "execution_count": 50,
   "source": [
    "y = to_categorical(y)"
   ],
   "outputs": [],
   "metadata": {}
  },
  {
   "cell_type": "code",
   "execution_count": 51,
   "source": [
    "print(X.shape, y.shape)"
   ],
   "outputs": [
    {
     "output_type": "stream",
     "name": "stdout",
     "text": [
      "(1457, 300) (1457, 151)\n"
     ]
    }
   ],
   "metadata": {}
  },
  {
   "cell_type": "code",
   "execution_count": 52,
   "source": [
    "x_train, x_test, y_train, y_test = train_test_split(X, y,test_size=0.3, random_state=777, stratify=y) #추천 한 번밖에 안된 애들 있어서 stratify 안됨"
   ],
   "outputs": [],
   "metadata": {}
  },
  {
   "cell_type": "code",
   "execution_count": 53,
   "source": [
    "num_class = int(max(cd_data.id)) + 1"
   ],
   "outputs": [],
   "metadata": {}
  },
  {
   "cell_type": "code",
   "execution_count": 54,
   "source": [
    "from tensorflow.keras.layers import LSTM"
   ],
   "outputs": [],
   "metadata": {}
  },
  {
   "cell_type": "code",
   "execution_count": 55,
   "source": [
    "model = Sequential()\n",
    "model.add(Embedding(vocab_size, max_len))\n",
    "model.add(LSTM(max_len))\n",
    "model.add(Dense(num_class, activation='softmax'))\n",
    "\n",
    "model.summary()"
   ],
   "outputs": [
    {
     "output_type": "stream",
     "name": "stdout",
     "text": [
      "Model: \"sequential\"\n",
      "_________________________________________________________________\n",
      "Layer (type)                 Output Shape              Param #   \n",
      "=================================================================\n",
      "embedding (Embedding)        (None, None, 300)         525000    \n",
      "_________________________________________________________________\n",
      "lstm (LSTM)                  (None, 300)               721200    \n",
      "_________________________________________________________________\n",
      "dense (Dense)                (None, 151)               45451     \n",
      "=================================================================\n",
      "Total params: 1,291,651\n",
      "Trainable params: 1,291,651\n",
      "Non-trainable params: 0\n",
      "_________________________________________________________________\n"
     ]
    }
   ],
   "metadata": {}
  },
  {
   "cell_type": "code",
   "execution_count": 56,
   "source": [
    "es = EarlyStopping(monitor='val_loss', mode='min', verbose=1, patience=6)\n",
    "mc = ModelCheckpoint('cd_model_lstm.h5', monitor='val_acc', mode='max', verbose=1, save_best_only=True)"
   ],
   "outputs": [],
   "metadata": {}
  },
  {
   "cell_type": "code",
   "execution_count": 57,
   "source": [
    "model.compile(optimizer='adam', loss='categorical_crossentropy', metrics=['acc'])\n",
    "history = model.fit(x_train, y_train, epochs=10, callbacks=[es, mc], batch_size=32, validation_split=0.2)\n",
    "\n",
    "print(\"테스트 셋 체크\")\n",
    "loaded_model = load_model('cd_model_lstm.h5')\n",
    "print(\"\\n 테스트 정확도: %.4f\" % (loaded_model.evaluate(x_test, y_test)[1]))"
   ],
   "outputs": [
    {
     "output_type": "stream",
     "name": "stdout",
     "text": [
      "Epoch 1/10\n",
      "26/26 [==============================] - 85s 3s/step - loss: 4.8652 - acc: 0.1834 - val_loss: 4.3884 - val_acc: 0.0686\n",
      "\n",
      "Epoch 00001: val_acc improved from -inf to 0.06863, saving model to cd_model_lstm.h5\n",
      "Epoch 2/10\n",
      "26/26 [==============================] - 63s 2s/step - loss: 3.9601 - acc: 0.1854 - val_loss: 2.9053 - val_acc: 0.4020\n",
      "\n",
      "Epoch 00002: val_acc improved from 0.06863 to 0.40196, saving model to cd_model_lstm.h5\n",
      "Epoch 3/10\n",
      "26/26 [==============================] - 73s 3s/step - loss: 2.3516 - acc: 0.5075 - val_loss: 1.5654 - val_acc: 0.6961\n",
      "\n",
      "Epoch 00003: val_acc improved from 0.40196 to 0.69608, saving model to cd_model_lstm.h5\n",
      "Epoch 4/10\n",
      "26/26 [==============================] - 127s 5s/step - loss: 1.1775 - acc: 0.7684 - val_loss: 0.9886 - val_acc: 0.8039\n",
      "\n",
      "Epoch 00004: val_acc improved from 0.69608 to 0.80392, saving model to cd_model_lstm.h5\n",
      "Epoch 5/10\n",
      "26/26 [==============================] - 50s 2s/step - loss: 0.6968 - acc: 0.8761 - val_loss: 0.6367 - val_acc: 0.8824\n",
      "\n",
      "Epoch 00005: val_acc improved from 0.80392 to 0.88235, saving model to cd_model_lstm.h5\n",
      "Epoch 6/10\n",
      "26/26 [==============================] - 41s 2s/step - loss: 1.0078 - acc: 0.8226 - val_loss: 0.6687 - val_acc: 0.9020\n",
      "\n",
      "Epoch 00006: val_acc improved from 0.88235 to 0.90196, saving model to cd_model_lstm.h5\n",
      "Epoch 7/10\n",
      "26/26 [==============================] - 46s 2s/step - loss: 0.3579 - acc: 0.9595 - val_loss: 0.3807 - val_acc: 0.9363\n",
      "\n",
      "Epoch 00007: val_acc improved from 0.90196 to 0.93627, saving model to cd_model_lstm.h5\n",
      "Epoch 8/10\n",
      "26/26 [==============================] - 106s 4s/step - loss: 0.2116 - acc: 0.9611 - val_loss: 0.2790 - val_acc: 0.9510\n",
      "\n",
      "Epoch 00008: val_acc improved from 0.93627 to 0.95098, saving model to cd_model_lstm.h5\n",
      "Epoch 9/10\n",
      "26/26 [==============================] - 89s 3s/step - loss: 0.1462 - acc: 0.9789 - val_loss: 0.2242 - val_acc: 0.9706\n",
      "\n",
      "Epoch 00009: val_acc improved from 0.95098 to 0.97059, saving model to cd_model_lstm.h5\n",
      "Epoch 10/10\n",
      "26/26 [==============================] - 31s 1s/step - loss: 0.0900 - acc: 0.9893 - val_loss: 0.1990 - val_acc: 0.9804\n",
      "\n",
      "Epoch 00010: val_acc improved from 0.97059 to 0.98039, saving model to cd_model_lstm.h5\n",
      "테스트 셋 체크\n",
      "14/14 [==============================] - 3s 198ms/step - loss: 0.1823 - acc: 0.9749\n",
      "\n",
      " 테스트 정확도: 0.9749\n"
     ]
    }
   ],
   "metadata": {}
  },
  {
   "cell_type": "markdown",
   "source": [
    "Cannot convert a symbolic Tensor -> numpy 버전 1.19.5로 바꿔줌\n",
    "\n",
    "https://wikidocs.net/45101"
   ],
   "metadata": {}
  },
  {
   "cell_type": "code",
   "execution_count": 58,
   "source": [
    "# list all data in history\n",
    "print(history.history.keys())\n",
    "# summarize history for accuracy\n",
    "plt.plot(history.history['acc'])\n",
    "plt.plot(history.history['val_acc'])\n",
    "plt.title('model accuracy')\n",
    "plt.ylabel('accuracy')\n",
    "plt.xlabel('epoch')\n",
    "plt.legend(['train', 'test'], loc='upper left')\n",
    "plt.show()\n",
    "# summarize history for loss\n",
    "plt.plot(history.history['loss'])\n",
    "plt.plot(history.history['val_loss'])\n",
    "plt.title('model loss')\n",
    "plt.ylabel('loss')\n",
    "plt.xlabel('epoch')\n",
    "plt.legend(['train', 'test'], loc='upper left')\n",
    "plt.show()"
   ],
   "outputs": [
    {
     "output_type": "stream",
     "name": "stdout",
     "text": [
      "dict_keys(['loss', 'acc', 'val_loss', 'val_acc'])\n"
     ]
    },
    {
     "output_type": "display_data",
     "data": {
      "image/png": "[encoded data removed]",
      "text/plain": [
       "<Figure size 640x480 with 1 Axes>"
      ]
     },
     "metadata": {}
    },
    {
     "output_type": "display_data",
     "data": {
      "image/png": "[encoded data removed]",
      "text/plain": [
       "<Figure size 640x480 with 1 Axes>"
      ]
     },
     "metadata": {}
    }
   ],
   "metadata": {}
  },
  {
   "cell_type": "code",
   "execution_count": null,
   "source": [],
   "outputs": [],
   "metadata": {}
  }
 ],
 "metadata": {
  "orig_nbformat": 4,
  "language_info": {
   "name": "python",
   "version": "3.8.0",
   "mimetype": "text/x-python",
   "codemirror_mode": {
    "name": "ipython",
    "version": 3
   },
   "pygments_lexer": "ipython3",
   "nbconvert_exporter": "python",
   "file_extension": ".py"
  },
  "kernelspec": {
   "name": "python3",
   "display_name": "Python 3.8.0 64-bit ('sj': conda)"
  },
  "interpreter": {
   "hash": "022eb7dab1e64abfe7845a82597d3156ee0a5d78294cf462a778b063942c3de6"
  }
 },
 "nbformat": 4,
 "nbformat_minor": 2
}