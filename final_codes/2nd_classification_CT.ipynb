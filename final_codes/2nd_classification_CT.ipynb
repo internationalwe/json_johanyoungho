{
 "cells": [
  {
   "cell_type": "code",
   "execution_count": 1,
   "source": [
    "import pandas as pd\n",
    "\n",
    "ddata = pd.read_csv(\"./data/ddata.txt\", encoding=\"euc-kr\", sep=\"\\t\", names=[\"num\",\"speaker\",\"contents\",\"tags\"])\n",
    "mdata = pd.read_csv(\"./data/mdata.txt\", encoding=\"euc-kr\", sep=\"\\t\", names=[\"id\",\"part\",\"category\",\"exptype\",\"exp\"])\n",
    "\n",
    "ddata.head()"
   ],
   "outputs": [
    {
     "output_type": "execute_result",
     "data": {
      "text/html": [
       "<div>\n",
       "<style scoped>\n",
       "    .dataframe tbody tr th:only-of-type {\n",
       "        vertical-align: middle;\n",
       "    }\n",
       "\n",
       "    .dataframe tbody tr th {\n",
       "        vertical-align: top;\n",
       "    }\n",
       "\n",
       "    .dataframe thead th {\n",
       "        text-align: right;\n",
       "    }\n",
       "</style>\n",
       "<table border=\"1\" class=\"dataframe\">\n",
       "  <thead>\n",
       "    <tr style=\"text-align: right;\">\n",
       "      <th></th>\n",
       "      <th>num</th>\n",
       "      <th>speaker</th>\n",
       "      <th>contents</th>\n",
       "      <th>tags</th>\n",
       "    </tr>\n",
       "  </thead>\n",
       "  <tbody>\n",
       "    <tr>\n",
       "      <th>0</th>\n",
       "      <td>0</td>\n",
       "      <td>&lt;CO&gt;</td>\n",
       "      <td>어서오세요. 코디봇입니다. 무엇을 도와드릴까요?</td>\n",
       "      <td>INTRO</td>\n",
       "    </tr>\n",
       "    <tr>\n",
       "      <th>1</th>\n",
       "      <td>1</td>\n",
       "      <td>&lt;US&gt;</td>\n",
       "      <td>처음 대학교 들어가는데 입을 옷 코디해주세요.</td>\n",
       "      <td>NaN</td>\n",
       "    </tr>\n",
       "    <tr>\n",
       "      <th>2</th>\n",
       "      <td>2</td>\n",
       "      <td>&lt;CO&gt;</td>\n",
       "      <td>신입생 코디에 어울리게 화사한 스웨터를 추천해드릴게요.</td>\n",
       "      <td>EXP_RES_SITUATION;EXP_RES_DESCRIPTION</td>\n",
       "    </tr>\n",
       "    <tr>\n",
       "      <th>3</th>\n",
       "      <td>3</td>\n",
       "      <td>&lt;AC&gt;</td>\n",
       "      <td>SW-009</td>\n",
       "      <td>NaN</td>\n",
       "    </tr>\n",
       "    <tr>\n",
       "      <th>4</th>\n",
       "      <td>4</td>\n",
       "      <td>&lt;US&gt;</td>\n",
       "      <td>이 옷에 어울리는 치마로 추천해주세요.</td>\n",
       "      <td>USER_SUCCESS</td>\n",
       "    </tr>\n",
       "  </tbody>\n",
       "</table>\n",
       "</div>"
      ],
      "text/plain": [
       "   num speaker                         contents  \\\n",
       "0    0    <CO>       어서오세요. 코디봇입니다. 무엇을 도와드릴까요?   \n",
       "1    1    <US>        처음 대학교 들어가는데 입을 옷 코디해주세요.   \n",
       "2    2    <CO>   신입생 코디에 어울리게 화사한 스웨터를 추천해드릴게요.   \n",
       "3    3    <AC>                           SW-009   \n",
       "4    4    <US>            이 옷에 어울리는 치마로 추천해주세요.   \n",
       "\n",
       "                                    tags  \n",
       "0                                  INTRO  \n",
       "1                                    NaN  \n",
       "2  EXP_RES_SITUATION;EXP_RES_DESCRIPTION  \n",
       "3                                    NaN  \n",
       "4                           USER_SUCCESS  "
      ]
     },
     "metadata": {},
     "execution_count": 1
    }
   ],
   "metadata": {}
  },
  {
   "cell_type": "markdown",
   "source": [
    "# 1. 전체 대화셋 개수 카운트"
   ],
   "metadata": {}
  },
  {
   "cell_type": "code",
   "execution_count": 2,
   "source": [
    "dial_num = 0\n",
    "\n",
    "for i in range(1, len(ddata)):\n",
    "    if ddata.loc[i, \"num\"] == 0:\n",
    "        dial_num += 1\n",
    "print(\"총 대화셋 수: \",dial_num)"
   ],
   "outputs": [
    {
     "output_type": "stream",
     "name": "stdout",
     "text": [
      "총 대화셋 수:  7235\n"
     ]
    }
   ],
   "metadata": {}
  },
  {
   "cell_type": "markdown",
   "source": [
    "# 2. Mdata 합치기"
   ],
   "metadata": {}
  },
  {
   "cell_type": "markdown",
   "source": [
    "## - Part 살려서 합치기"
   ],
   "metadata": {}
  },
  {
   "cell_type": "code",
   "execution_count": 3,
   "source": [
    "c_mdata = pd.DataFrame({\"id\":[0],\"exp\":[None]})\n",
    "c_mdata.drop(0, axis=0, inplace=True)\n",
    "c_mdata"
   ],
   "outputs": [
    {
     "output_type": "execute_result",
     "data": {
      "text/html": [
       "<div>\n",
       "<style scoped>\n",
       "    .dataframe tbody tr th:only-of-type {\n",
       "        vertical-align: middle;\n",
       "    }\n",
       "\n",
       "    .dataframe tbody tr th {\n",
       "        vertical-align: top;\n",
       "    }\n",
       "\n",
       "    .dataframe thead th {\n",
       "        text-align: right;\n",
       "    }\n",
       "</style>\n",
       "<table border=\"1\" class=\"dataframe\">\n",
       "  <thead>\n",
       "    <tr style=\"text-align: right;\">\n",
       "      <th></th>\n",
       "      <th>id</th>\n",
       "      <th>exp</th>\n",
       "    </tr>\n",
       "  </thead>\n",
       "  <tbody>\n",
       "  </tbody>\n",
       "</table>\n",
       "</div>"
      ],
      "text/plain": [
       "Empty DataFrame\n",
       "Columns: [id, exp]\n",
       "Index: []"
      ]
     },
     "metadata": {},
     "execution_count": 3
    }
   ],
   "metadata": {}
  },
  {
   "cell_type": "code",
   "execution_count": 4,
   "source": [
    "id = \"\"\n",
    "idx = 0\n",
    "for i in range(len(mdata)):\n",
    "    if id == mdata.loc[i, \"id\"]:\n",
    "        c_mdata.loc[c_mdata.index[(c_mdata[\"id\"] == id)].tolist().pop(),\"exp\"] = c_mdata.loc[c_mdata.index[(c_mdata[\"id\"] == id)].tolist().pop(),\"exp\"] + \" \" + mdata.loc[i, \"exp\"]\n",
    "    \n",
    "    else:\n",
    "        id = mdata.loc[i, \"id\"]\n",
    "        c_mdata.loc[i, \"id\"] = id\n",
    "        c_mdata.loc[i, \"exp\"] = mdata.loc[i, \"exp\"]\n",
    "\n",
    "c_mdata.head()"
   ],
   "outputs": [
    {
     "output_type": "execute_result",
     "data": {
      "text/html": [
       "<div>\n",
       "<style scoped>\n",
       "    .dataframe tbody tr th:only-of-type {\n",
       "        vertical-align: middle;\n",
       "    }\n",
       "\n",
       "    .dataframe tbody tr th {\n",
       "        vertical-align: top;\n",
       "    }\n",
       "\n",
       "    .dataframe thead th {\n",
       "        text-align: right;\n",
       "    }\n",
       "</style>\n",
       "<table border=\"1\" class=\"dataframe\">\n",
       "  <thead>\n",
       "    <tr style=\"text-align: right;\">\n",
       "      <th></th>\n",
       "      <th>id</th>\n",
       "      <th>exp</th>\n",
       "    </tr>\n",
       "  </thead>\n",
       "  <tbody>\n",
       "    <tr>\n",
       "      <th>0</th>\n",
       "      <td>BL-001</td>\n",
       "      <td>단추 여밈의 전체 오픈형 스탠드 칼라와 브이넥 네크라인의 결합스타일 손목까지 내려오...</td>\n",
       "    </tr>\n",
       "    <tr>\n",
       "      <th>20</th>\n",
       "      <td>BL-002</td>\n",
       "      <td>넓은 셔츠칼라 네크라인 앞중심에 반 오픈 끈여밈있는 스타일 드롭숄더 퍼프형 소매로 ...</td>\n",
       "    </tr>\n",
       "    <tr>\n",
       "      <th>38</th>\n",
       "      <td>BL-003</td>\n",
       "      <td>앞 중심에 단추 여밈 칼라가 없는 넓고 깊게 파인 브이넥 엉덩이 밑으로 내려오는 긴...</td>\n",
       "    </tr>\n",
       "    <tr>\n",
       "      <th>63</th>\n",
       "      <td>BL-004</td>\n",
       "      <td>앞중심에 단추 여밈 칼라가 없는 라운드넥으로 골반 위에서 끝나는 짧은 기장 손목, ...</td>\n",
       "    </tr>\n",
       "    <tr>\n",
       "      <th>84</th>\n",
       "      <td>BL-005</td>\n",
       "      <td>앞단추 여밈의 전체 오픈형 칼라가 없는 라운드넥크라인 엉덩이 위에서 끝나는 짧은 기...</td>\n",
       "    </tr>\n",
       "  </tbody>\n",
       "</table>\n",
       "</div>"
      ],
      "text/plain": [
       "         id                                                exp\n",
       "0   BL-001   단추 여밈의 전체 오픈형 스탠드 칼라와 브이넥 네크라인의 결합스타일 손목까지 내려오...\n",
       "20  BL-002   넓은 셔츠칼라 네크라인 앞중심에 반 오픈 끈여밈있는 스타일 드롭숄더 퍼프형 소매로 ...\n",
       "38  BL-003   앞 중심에 단추 여밈 칼라가 없는 넓고 깊게 파인 브이넥 엉덩이 밑으로 내려오는 긴...\n",
       "63  BL-004   앞중심에 단추 여밈 칼라가 없는 라운드넥으로 골반 위에서 끝나는 짧은 기장 손목, ...\n",
       "84  BL-005   앞단추 여밈의 전체 오픈형 칼라가 없는 라운드넥크라인 엉덩이 위에서 끝나는 짧은 기..."
      ]
     },
     "metadata": {},
     "execution_count": 4
    }
   ],
   "metadata": {}
  },
  {
   "cell_type": "code",
   "execution_count": 5,
   "source": [
    "for i in range(len(c_mdata)): # id 뒤에 공백 없애기\n",
    "    c_mdata.iloc[i].id = c_mdata.iloc[i].id.strip()\n",
    "\n",
    "print(c_mdata.iloc[0].id)\n",
    "c_mdata.reset_index(drop=True,inplace=True)\n",
    "c_mdata.head()"
   ],
   "outputs": [
    {
     "output_type": "stream",
     "name": "stdout",
     "text": [
      "BL-001\n"
     ]
    },
    {
     "output_type": "execute_result",
     "data": {
      "text/html": [
       "<div>\n",
       "<style scoped>\n",
       "    .dataframe tbody tr th:only-of-type {\n",
       "        vertical-align: middle;\n",
       "    }\n",
       "\n",
       "    .dataframe tbody tr th {\n",
       "        vertical-align: top;\n",
       "    }\n",
       "\n",
       "    .dataframe thead th {\n",
       "        text-align: right;\n",
       "    }\n",
       "</style>\n",
       "<table border=\"1\" class=\"dataframe\">\n",
       "  <thead>\n",
       "    <tr style=\"text-align: right;\">\n",
       "      <th></th>\n",
       "      <th>id</th>\n",
       "      <th>exp</th>\n",
       "    </tr>\n",
       "  </thead>\n",
       "  <tbody>\n",
       "    <tr>\n",
       "      <th>0</th>\n",
       "      <td>BL-001</td>\n",
       "      <td>단추 여밈의 전체 오픈형 스탠드 칼라와 브이넥 네크라인의 결합스타일 손목까지 내려오...</td>\n",
       "    </tr>\n",
       "    <tr>\n",
       "      <th>1</th>\n",
       "      <td>BL-002</td>\n",
       "      <td>넓은 셔츠칼라 네크라인 앞중심에 반 오픈 끈여밈있는 스타일 드롭숄더 퍼프형 소매로 ...</td>\n",
       "    </tr>\n",
       "    <tr>\n",
       "      <th>2</th>\n",
       "      <td>BL-003</td>\n",
       "      <td>앞 중심에 단추 여밈 칼라가 없는 넓고 깊게 파인 브이넥 엉덩이 밑으로 내려오는 긴...</td>\n",
       "    </tr>\n",
       "    <tr>\n",
       "      <th>3</th>\n",
       "      <td>BL-004</td>\n",
       "      <td>앞중심에 단추 여밈 칼라가 없는 라운드넥으로 골반 위에서 끝나는 짧은 기장 손목, ...</td>\n",
       "    </tr>\n",
       "    <tr>\n",
       "      <th>4</th>\n",
       "      <td>BL-005</td>\n",
       "      <td>앞단추 여밈의 전체 오픈형 칼라가 없는 라운드넥크라인 엉덩이 위에서 끝나는 짧은 기...</td>\n",
       "    </tr>\n",
       "  </tbody>\n",
       "</table>\n",
       "</div>"
      ],
      "text/plain": [
       "       id                                                exp\n",
       "0  BL-001  단추 여밈의 전체 오픈형 스탠드 칼라와 브이넥 네크라인의 결합스타일 손목까지 내려오...\n",
       "1  BL-002  넓은 셔츠칼라 네크라인 앞중심에 반 오픈 끈여밈있는 스타일 드롭숄더 퍼프형 소매로 ...\n",
       "2  BL-003  앞 중심에 단추 여밈 칼라가 없는 넓고 깊게 파인 브이넥 엉덩이 밑으로 내려오는 긴...\n",
       "3  BL-004  앞중심에 단추 여밈 칼라가 없는 라운드넥으로 골반 위에서 끝나는 짧은 기장 손목, ...\n",
       "4  BL-005  앞단추 여밈의 전체 오픈형 칼라가 없는 라운드넥크라인 엉덩이 위에서 끝나는 짧은 기..."
      ]
     },
     "metadata": {},
     "execution_count": 5
    }
   ],
   "metadata": {}
  },
  {
   "cell_type": "markdown",
   "source": [
    "# 3. NaN, Null 값 확인"
   ],
   "metadata": {}
  },
  {
   "cell_type": "code",
   "execution_count": 6,
   "source": [
    "ddata.drop(ddata.index[ddata.tags == \"INTRO\"].tolist(), axis=0, inplace=True)\n",
    "ddata.reset_index(drop=True, inplace=True)\n",
    "ddata[ddata.tags == \"INTRO\"]"
   ],
   "outputs": [
    {
     "output_type": "execute_result",
     "data": {
      "text/html": [
       "<div>\n",
       "<style scoped>\n",
       "    .dataframe tbody tr th:only-of-type {\n",
       "        vertical-align: middle;\n",
       "    }\n",
       "\n",
       "    .dataframe tbody tr th {\n",
       "        vertical-align: top;\n",
       "    }\n",
       "\n",
       "    .dataframe thead th {\n",
       "        text-align: right;\n",
       "    }\n",
       "</style>\n",
       "<table border=\"1\" class=\"dataframe\">\n",
       "  <thead>\n",
       "    <tr style=\"text-align: right;\">\n",
       "      <th></th>\n",
       "      <th>num</th>\n",
       "      <th>speaker</th>\n",
       "      <th>contents</th>\n",
       "      <th>tags</th>\n",
       "    </tr>\n",
       "  </thead>\n",
       "  <tbody>\n",
       "  </tbody>\n",
       "</table>\n",
       "</div>"
      ],
      "text/plain": [
       "Empty DataFrame\n",
       "Columns: [num, speaker, contents, tags]\n",
       "Index: []"
      ]
     },
     "metadata": {},
     "execution_count": 6
    }
   ],
   "metadata": {}
  },
  {
   "cell_type": "code",
   "execution_count": 7,
   "source": [
    "ddata.isnull().sum()"
   ],
   "outputs": [
    {
     "output_type": "execute_result",
     "data": {
      "text/plain": [
       "num             0\n",
       "speaker         0\n",
       "contents        0\n",
       "tags        51927\n",
       "dtype: int64"
      ]
     },
     "metadata": {},
     "execution_count": 7
    }
   ],
   "metadata": {}
  },
  {
   "cell_type": "code",
   "execution_count": 8,
   "source": [
    "ddata.isna().sum()"
   ],
   "outputs": [
    {
     "output_type": "execute_result",
     "data": {
      "text/plain": [
       "num             0\n",
       "speaker         0\n",
       "contents        0\n",
       "tags        51927\n",
       "dtype: int64"
      ]
     },
     "metadata": {},
     "execution_count": 8
    }
   ],
   "metadata": {}
  },
  {
   "cell_type": "code",
   "execution_count": 9,
   "source": [
    "ddata.fillna(\"\", inplace=True)\n",
    "ddata.isna().sum()"
   ],
   "outputs": [
    {
     "output_type": "execute_result",
     "data": {
      "text/plain": [
       "num         0\n",
       "speaker     0\n",
       "contents    0\n",
       "tags        0\n",
       "dtype: int64"
      ]
     },
     "metadata": {},
     "execution_count": 9
    }
   ],
   "metadata": {}
  },
  {
   "cell_type": "code",
   "execution_count": 10,
   "source": [
    "mdata.isnull().sum()"
   ],
   "outputs": [
    {
     "output_type": "execute_result",
     "data": {
      "text/plain": [
       "id          0\n",
       "part        0\n",
       "category    0\n",
       "exptype     0\n",
       "exp         0\n",
       "dtype: int64"
      ]
     },
     "metadata": {},
     "execution_count": 10
    }
   ],
   "metadata": {}
  },
  {
   "cell_type": "code",
   "execution_count": 11,
   "source": [
    "c_mdata.isnull().sum()"
   ],
   "outputs": [
    {
     "output_type": "execute_result",
     "data": {
      "text/plain": [
       "id     0\n",
       "exp    0\n",
       "dtype: int64"
      ]
     },
     "metadata": {},
     "execution_count": 11
    }
   ],
   "metadata": {}
  },
  {
   "cell_type": "markdown",
   "source": [
    "# 4. 추천 성공 의상 아이디 종류 및 빈도 카운트 "
   ],
   "metadata": {}
  },
  {
   "cell_type": "markdown",
   "source": [
    "## 한 번에 추천해도 실패하면 전부 실패로 달기"
   ],
   "metadata": {}
  },
  {
   "cell_type": "code",
   "execution_count": 12,
   "source": [
    "c_data = pd.DataFrame({\"contents\":[None], \"id\":[\"xx-xxx\"]})\n",
    "c_data.drop(0,axis=0,inplace=True)\n",
    "c_data.head()"
   ],
   "outputs": [
    {
     "output_type": "execute_result",
     "data": {
      "text/html": [
       "<div>\n",
       "<style scoped>\n",
       "    .dataframe tbody tr th:only-of-type {\n",
       "        vertical-align: middle;\n",
       "    }\n",
       "\n",
       "    .dataframe tbody tr th {\n",
       "        vertical-align: top;\n",
       "    }\n",
       "\n",
       "    .dataframe thead th {\n",
       "        text-align: right;\n",
       "    }\n",
       "</style>\n",
       "<table border=\"1\" class=\"dataframe\">\n",
       "  <thead>\n",
       "    <tr style=\"text-align: right;\">\n",
       "      <th></th>\n",
       "      <th>contents</th>\n",
       "      <th>id</th>\n",
       "    </tr>\n",
       "  </thead>\n",
       "  <tbody>\n",
       "  </tbody>\n",
       "</table>\n",
       "</div>"
      ],
      "text/plain": [
       "Empty DataFrame\n",
       "Columns: [contents, id]\n",
       "Index: []"
      ]
     },
     "metadata": {},
     "execution_count": 12
    }
   ],
   "metadata": {}
  },
  {
   "cell_type": "markdown",
   "source": [
    "<코드 동작 원리>\n",
    "<br>\n",
    "\n",
    "대화문 하나씩 받아온 다음\n",
    "- AC 태그 문장이면 일단 의상 변수에 저장,\n",
    "- user_success 태그 문장이면\n",
    "\n",
    "   - 변수에 저장된 의상이 하나면\n",
    "\n",
    "      - 바로 대화문 변수랑 의상 변수 및 의상 메타데이터 합쳐서 저장 -> 레이블(id 컬럼에 저장)은 의상 코드가 됨\n",
    "\n",
    "   - 변수에 저장된 의상의 여러 개면\n",
    "\n",
    "      - 의상을 하나의 코드 단위로 쪼개서 대화문 변수랑 의상 메타데이터 합쳐서 저장\n",
    "      \n",
    "-  둘 다 아니고 일반 대화문이면 대화문 변수에 저장"
   ],
   "metadata": {}
  },
  {
   "cell_type": "code",
   "execution_count": 13,
   "source": [
    "dial = ddata.loc[0, \"contents\"].strip()\n",
    "ac = \"\"\n",
    "\n",
    "for i in range(1,len(ddata)):\n",
    "    cur_sen = ddata.loc[i,\"contents\"].strip()\n",
    "\n",
    "    if ddata.loc[i, \"num\"] > ddata.loc[i-1, \"num\"]: # 이전 대화셋에 포함된 문장인지 확인\n",
    "        \n",
    "        if ddata.loc[i,\"speaker\"] == \"<AC>\": # case 1. 의상 아이디가 나온 경우\n",
    "            if len(ac) > 1:\n",
    "                ac = ac + \" \" + cur_sen # 의상 아이디 저장\n",
    "            else:\n",
    "                ac = cur_sen\n",
    "\n",
    "        elif \"USER_SUCCESS\" == ddata.loc[i,\"tags\"]: # case 2. USER_SUCCESS 태그가 나온 경우\n",
    "            if 0 < len(ac) < 7: # 의상을 하나만 추천한 경우\n",
    "                dial = dial + \" \" + ac + \" \" + cur_sen\n",
    "                c_data.loc[i, \"contents\"] =  dial + \" \" + c_mdata.loc[c_mdata.id == ac].exp.values[0]\n",
    "                c_data.loc[i, \"id\"] = ac\n",
    "                ac = \"\"\n",
    "\n",
    "            elif len(ac) == 0:\n",
    "                dial = dial + \" \" + cur_sen\n",
    "\n",
    "            else: # 의상을 한 번에 여러 개 추천한 경우\n",
    "                idx_cnt = 0\n",
    "                for one_ac in ac.split():\n",
    "                    c_data.loc[i + idx_cnt, \"contents\"] =  dial + \" \" + one_ac + \" \"+ cur_sen + \" \" + c_mdata.loc[c_mdata.id == one_ac].exp.values[0]\n",
    "                    c_data.loc[i + idx_cnt, \"id\"] = one_ac\n",
    "                    idx_cnt += 1\n",
    "                dial = dial + \" \" + ac + \" \" + cur_sen    \n",
    "                ac = \"\"\n",
    "        \n",
    "        elif \"USER_FAIL\" in ddata.loc[i,\"tags\"]:\n",
    "            dial = dial + \" \" + ac + \" \" + cur_sen\n",
    "            ac = \"\"\n",
    "\n",
    "        else: # case 3. 그냥 대화문인 경우\n",
    "            dial = dial + \" \" + cur_sen\n",
    "    \n",
    "    else: #새로운 대화셋 시작이면 초기화\n",
    "        dial = cur_sen\n",
    "        ac = \"\""
   ],
   "outputs": [],
   "metadata": {}
  },
  {
   "cell_type": "code",
   "execution_count": 14,
   "source": [
    "print(\"전체 데이터 수: \", len(c_data))\n",
    "c_data.head()"
   ],
   "outputs": [
    {
     "output_type": "stream",
     "name": "stdout",
     "text": [
      "전체 데이터 수:  34303\n"
     ]
    },
    {
     "output_type": "execute_result",
     "data": {
      "text/html": [
       "<div>\n",
       "<style scoped>\n",
       "    .dataframe tbody tr th:only-of-type {\n",
       "        vertical-align: middle;\n",
       "    }\n",
       "\n",
       "    .dataframe tbody tr th {\n",
       "        vertical-align: top;\n",
       "    }\n",
       "\n",
       "    .dataframe thead th {\n",
       "        text-align: right;\n",
       "    }\n",
       "</style>\n",
       "<table border=\"1\" class=\"dataframe\">\n",
       "  <thead>\n",
       "    <tr style=\"text-align: right;\">\n",
       "      <th></th>\n",
       "      <th>contents</th>\n",
       "      <th>id</th>\n",
       "    </tr>\n",
       "  </thead>\n",
       "  <tbody>\n",
       "    <tr>\n",
       "      <th>3</th>\n",
       "      <td>처음 대학교 들어가는데 입을 옷 코디해주세요. 신입생 코디에 어울리게 화사한 스웨터...</td>\n",
       "      <td>SW-009</td>\n",
       "    </tr>\n",
       "    <tr>\n",
       "      <th>12</th>\n",
       "      <td>처음 대학교 들어가는데 입을 옷 코디해주세요. 신입생 코디에 어울리게 화사한 스웨터...</td>\n",
       "      <td>SK-053</td>\n",
       "    </tr>\n",
       "    <tr>\n",
       "      <th>17</th>\n",
       "      <td>처음 대학교 들어가는데 입을 옷 코디해주세요. 신입생 코디에 어울리게 화사한 스웨터...</td>\n",
       "      <td>CT-019</td>\n",
       "    </tr>\n",
       "    <tr>\n",
       "      <th>22</th>\n",
       "      <td>처음 대학교 들어가는데 입을 옷 코디해주세요. 신입생 코디에 어울리게 화사한 스웨터...</td>\n",
       "      <td>SE-039</td>\n",
       "    </tr>\n",
       "    <tr>\n",
       "      <th>26</th>\n",
       "      <td>처음 대학교 들어가는데 입을 옷 코디해주세요. 신입생 코디에 어울리게 화사한 스웨터...</td>\n",
       "      <td>CT-019</td>\n",
       "    </tr>\n",
       "  </tbody>\n",
       "</table>\n",
       "</div>"
      ],
      "text/plain": [
       "                                             contents      id\n",
       "3   처음 대학교 들어가는데 입을 옷 코디해주세요. 신입생 코디에 어울리게 화사한 스웨터...  SW-009\n",
       "12  처음 대학교 들어가는데 입을 옷 코디해주세요. 신입생 코디에 어울리게 화사한 스웨터...  SK-053\n",
       "17  처음 대학교 들어가는데 입을 옷 코디해주세요. 신입생 코디에 어울리게 화사한 스웨터...  CT-019\n",
       "22  처음 대학교 들어가는데 입을 옷 코디해주세요. 신입생 코디에 어울리게 화사한 스웨터...  SE-039\n",
       "26  처음 대학교 들어가는데 입을 옷 코디해주세요. 신입생 코디에 어울리게 화사한 스웨터...  CT-019"
      ]
     },
     "metadata": {},
     "execution_count": 14
    }
   ],
   "metadata": {}
  },
  {
   "cell_type": "code",
   "execution_count": 15,
   "source": [
    "c_data.reset_index(drop=True ,inplace=True)\n",
    "c_data.head()"
   ],
   "outputs": [
    {
     "output_type": "execute_result",
     "data": {
      "text/html": [
       "<div>\n",
       "<style scoped>\n",
       "    .dataframe tbody tr th:only-of-type {\n",
       "        vertical-align: middle;\n",
       "    }\n",
       "\n",
       "    .dataframe tbody tr th {\n",
       "        vertical-align: top;\n",
       "    }\n",
       "\n",
       "    .dataframe thead th {\n",
       "        text-align: right;\n",
       "    }\n",
       "</style>\n",
       "<table border=\"1\" class=\"dataframe\">\n",
       "  <thead>\n",
       "    <tr style=\"text-align: right;\">\n",
       "      <th></th>\n",
       "      <th>contents</th>\n",
       "      <th>id</th>\n",
       "    </tr>\n",
       "  </thead>\n",
       "  <tbody>\n",
       "    <tr>\n",
       "      <th>0</th>\n",
       "      <td>처음 대학교 들어가는데 입을 옷 코디해주세요. 신입생 코디에 어울리게 화사한 스웨터...</td>\n",
       "      <td>SW-009</td>\n",
       "    </tr>\n",
       "    <tr>\n",
       "      <th>1</th>\n",
       "      <td>처음 대학교 들어가는데 입을 옷 코디해주세요. 신입생 코디에 어울리게 화사한 스웨터...</td>\n",
       "      <td>SK-053</td>\n",
       "    </tr>\n",
       "    <tr>\n",
       "      <th>2</th>\n",
       "      <td>처음 대학교 들어가는데 입을 옷 코디해주세요. 신입생 코디에 어울리게 화사한 스웨터...</td>\n",
       "      <td>CT-019</td>\n",
       "    </tr>\n",
       "    <tr>\n",
       "      <th>3</th>\n",
       "      <td>처음 대학교 들어가는데 입을 옷 코디해주세요. 신입생 코디에 어울리게 화사한 스웨터...</td>\n",
       "      <td>SE-039</td>\n",
       "    </tr>\n",
       "    <tr>\n",
       "      <th>4</th>\n",
       "      <td>처음 대학교 들어가는데 입을 옷 코디해주세요. 신입생 코디에 어울리게 화사한 스웨터...</td>\n",
       "      <td>CT-019</td>\n",
       "    </tr>\n",
       "  </tbody>\n",
       "</table>\n",
       "</div>"
      ],
      "text/plain": [
       "                                            contents      id\n",
       "0  처음 대학교 들어가는데 입을 옷 코디해주세요. 신입생 코디에 어울리게 화사한 스웨터...  SW-009\n",
       "1  처음 대학교 들어가는데 입을 옷 코디해주세요. 신입생 코디에 어울리게 화사한 스웨터...  SK-053\n",
       "2  처음 대학교 들어가는데 입을 옷 코디해주세요. 신입생 코디에 어울리게 화사한 스웨터...  CT-019\n",
       "3  처음 대학교 들어가는데 입을 옷 코디해주세요. 신입생 코디에 어울리게 화사한 스웨터...  SE-039\n",
       "4  처음 대학교 들어가는데 입을 옷 코디해주세요. 신입생 코디에 어울리게 화사한 스웨터...  CT-019"
      ]
     },
     "metadata": {},
     "execution_count": 15
    }
   ],
   "metadata": {}
  },
  {
   "cell_type": "code",
   "execution_count": 16,
   "source": [
    "c_data.loc[0].contents"
   ],
   "outputs": [
    {
     "output_type": "execute_result",
     "data": {
      "text/plain": [
       "'처음 대학교 들어가는데 입을 옷 코디해주세요. 신입생 코디에 어울리게 화사한 스웨터를 추천해드릴게요. SW-009 이 옷에 어울리는 치마로 추천해주세요. 라운드 네크라인 여밈이 없는 풀오버 스타일 전체 케이블 조직 드롭숄더 슬리브 손등까지 오는 길이의 소매 몸에 적당히 맞는 품 엉덩이를 살짝 덮는 길이 네크라인, 소매 끝, 밑단에 고무단 처리 레이온52%,나일론20%,폴리에스터28% 꽈배기 조직, 플레인 조직이 섞여 있는 형태 드라이 크리닝 단색의 라임색 브라이트톤(고명도 고채도)의 옐로우 그린 산뜻하고 발랄한 느낌 기본의 단정한 편안한 산뜻한 발랄한 경쾌한 따뜻한 데일리룩 캠퍼스룩'"
      ]
     },
     "metadata": {},
     "execution_count": 16
    }
   ],
   "metadata": {}
  },
  {
   "cell_type": "code",
   "execution_count": 17,
   "source": [
    "ct_data = pd.DataFrame({\"contents\":[None], \"id\":[\"xx-xxx\"]})\n",
    "ct_data.drop(0,axis=0,inplace=True)\n",
    "ct_data.head()"
   ],
   "outputs": [
    {
     "output_type": "execute_result",
     "data": {
      "text/html": [
       "<div>\n",
       "<style scoped>\n",
       "    .dataframe tbody tr th:only-of-type {\n",
       "        vertical-align: middle;\n",
       "    }\n",
       "\n",
       "    .dataframe tbody tr th {\n",
       "        vertical-align: top;\n",
       "    }\n",
       "\n",
       "    .dataframe thead th {\n",
       "        text-align: right;\n",
       "    }\n",
       "</style>\n",
       "<table border=\"1\" class=\"dataframe\">\n",
       "  <thead>\n",
       "    <tr style=\"text-align: right;\">\n",
       "      <th></th>\n",
       "      <th>contents</th>\n",
       "      <th>id</th>\n",
       "    </tr>\n",
       "  </thead>\n",
       "  <tbody>\n",
       "  </tbody>\n",
       "</table>\n",
       "</div>"
      ],
      "text/plain": [
       "Empty DataFrame\n",
       "Columns: [contents, id]\n",
       "Index: []"
      ]
     },
     "metadata": {},
     "execution_count": 17
    }
   ],
   "metadata": {}
  },
  {
   "cell_type": "code",
   "execution_count": 18,
   "source": [
    "for i in range(len(c_data)):\n",
    "    if \"CT\" in c_data[\"id\"][i][0:2]:\n",
    "        ct_data = ct_data.append(c_data.iloc[i])\n",
    "\n",
    "ct_data.reset_index(drop=True, inplace=True)\n",
    "print(\"데이터 개수\",len(ct_data))\n",
    "ct_data.head()"
   ],
   "outputs": [
    {
     "output_type": "stream",
     "name": "stdout",
     "text": [
      "데이터 개수 2232\n"
     ]
    },
    {
     "output_type": "execute_result",
     "data": {
      "text/html": [
       "<div>\n",
       "<style scoped>\n",
       "    .dataframe tbody tr th:only-of-type {\n",
       "        vertical-align: middle;\n",
       "    }\n",
       "\n",
       "    .dataframe tbody tr th {\n",
       "        vertical-align: top;\n",
       "    }\n",
       "\n",
       "    .dataframe thead th {\n",
       "        text-align: right;\n",
       "    }\n",
       "</style>\n",
       "<table border=\"1\" class=\"dataframe\">\n",
       "  <thead>\n",
       "    <tr style=\"text-align: right;\">\n",
       "      <th></th>\n",
       "      <th>contents</th>\n",
       "      <th>id</th>\n",
       "    </tr>\n",
       "  </thead>\n",
       "  <tbody>\n",
       "    <tr>\n",
       "      <th>0</th>\n",
       "      <td>처음 대학교 들어가는데 입을 옷 코디해주세요. 신입생 코디에 어울리게 화사한 스웨터...</td>\n",
       "      <td>CT-019</td>\n",
       "    </tr>\n",
       "    <tr>\n",
       "      <th>1</th>\n",
       "      <td>처음 대학교 들어가는데 입을 옷 코디해주세요. 신입생 코디에 어울리게 화사한 스웨터...</td>\n",
       "      <td>CT-019</td>\n",
       "    </tr>\n",
       "    <tr>\n",
       "      <th>2</th>\n",
       "      <td>레스토랑에서 외식할 때 입을 옷을 찾고 싶습니다. 옷은 가을 옷으로 보여주세요. 네...</td>\n",
       "      <td>CT-008</td>\n",
       "    </tr>\n",
       "    <tr>\n",
       "      <th>3</th>\n",
       "      <td>도서관에 가려고 하는데, 책 읽기에 편한 옷 스타일을 추천해주세요. 그럼 편한 티를...</td>\n",
       "      <td>CT-053</td>\n",
       "    </tr>\n",
       "    <tr>\n",
       "      <th>4</th>\n",
       "      <td>친구와 약속이 있는데요. 옷을 좀 추천해주세요. 원하시는 스타일이 있으신가요? 일단...</td>\n",
       "      <td>CT-032</td>\n",
       "    </tr>\n",
       "  </tbody>\n",
       "</table>\n",
       "</div>"
      ],
      "text/plain": [
       "                                            contents      id\n",
       "0  처음 대학교 들어가는데 입을 옷 코디해주세요. 신입생 코디에 어울리게 화사한 스웨터...  CT-019\n",
       "1  처음 대학교 들어가는데 입을 옷 코디해주세요. 신입생 코디에 어울리게 화사한 스웨터...  CT-019\n",
       "2  레스토랑에서 외식할 때 입을 옷을 찾고 싶습니다. 옷은 가을 옷으로 보여주세요. 네...  CT-008\n",
       "3  도서관에 가려고 하는데, 책 읽기에 편한 옷 스타일을 추천해주세요. 그럼 편한 티를...  CT-053\n",
       "4  친구와 약속이 있는데요. 옷을 좀 추천해주세요. 원하시는 스타일이 있으신가요? 일단...  CT-032"
      ]
     },
     "metadata": {},
     "execution_count": 18
    }
   ],
   "metadata": {}
  },
  {
   "cell_type": "code",
   "execution_count": 19,
   "source": [
    "ct_data[\"contents\"] = ct_data[\"contents\"].str.replace(\"[^A-Za-z0-9ㄱ-ㅎㅏ-ㅣ가-힣 ]\",\"\")\n",
    "ct_data.head()"
   ],
   "outputs": [
    {
     "output_type": "stream",
     "name": "stderr",
     "text": [
      "<ipython-input-19-48ece9252fd0>:1: FutureWarning: The default value of regex will change from True to False in a future version.\n",
      "  ct_data[\"contents\"] = ct_data[\"contents\"].str.replace(\"[^A-Za-z0-9ㄱ-ㅎㅏ-ㅣ가-힣 ]\",\"\")\n"
     ]
    },
    {
     "output_type": "execute_result",
     "data": {
      "text/html": [
       "<div>\n",
       "<style scoped>\n",
       "    .dataframe tbody tr th:only-of-type {\n",
       "        vertical-align: middle;\n",
       "    }\n",
       "\n",
       "    .dataframe tbody tr th {\n",
       "        vertical-align: top;\n",
       "    }\n",
       "\n",
       "    .dataframe thead th {\n",
       "        text-align: right;\n",
       "    }\n",
       "</style>\n",
       "<table border=\"1\" class=\"dataframe\">\n",
       "  <thead>\n",
       "    <tr style=\"text-align: right;\">\n",
       "      <th></th>\n",
       "      <th>contents</th>\n",
       "      <th>id</th>\n",
       "    </tr>\n",
       "  </thead>\n",
       "  <tbody>\n",
       "    <tr>\n",
       "      <th>0</th>\n",
       "      <td>처음 대학교 들어가는데 입을 옷 코디해주세요 신입생 코디에 어울리게 화사한 스웨터를...</td>\n",
       "      <td>CT-019</td>\n",
       "    </tr>\n",
       "    <tr>\n",
       "      <th>1</th>\n",
       "      <td>처음 대학교 들어가는데 입을 옷 코디해주세요 신입생 코디에 어울리게 화사한 스웨터를...</td>\n",
       "      <td>CT-019</td>\n",
       "    </tr>\n",
       "    <tr>\n",
       "      <th>2</th>\n",
       "      <td>레스토랑에서 외식할 때 입을 옷을 찾고 싶습니다 옷은 가을 옷으로 보여주세요 네 그...</td>\n",
       "      <td>CT-008</td>\n",
       "    </tr>\n",
       "    <tr>\n",
       "      <th>3</th>\n",
       "      <td>도서관에 가려고 하는데 책 읽기에 편한 옷 스타일을 추천해주세요 그럼 편한 티를 활...</td>\n",
       "      <td>CT-053</td>\n",
       "    </tr>\n",
       "    <tr>\n",
       "      <th>4</th>\n",
       "      <td>친구와 약속이 있는데요 옷을 좀 추천해주세요 원하시는 스타일이 있으신가요 일단 화려...</td>\n",
       "      <td>CT-032</td>\n",
       "    </tr>\n",
       "  </tbody>\n",
       "</table>\n",
       "</div>"
      ],
      "text/plain": [
       "                                            contents      id\n",
       "0  처음 대학교 들어가는데 입을 옷 코디해주세요 신입생 코디에 어울리게 화사한 스웨터를...  CT-019\n",
       "1  처음 대학교 들어가는데 입을 옷 코디해주세요 신입생 코디에 어울리게 화사한 스웨터를...  CT-019\n",
       "2  레스토랑에서 외식할 때 입을 옷을 찾고 싶습니다 옷은 가을 옷으로 보여주세요 네 그...  CT-008\n",
       "3  도서관에 가려고 하는데 책 읽기에 편한 옷 스타일을 추천해주세요 그럼 편한 티를 활...  CT-053\n",
       "4  친구와 약속이 있는데요 옷을 좀 추천해주세요 원하시는 스타일이 있으신가요 일단 화려...  CT-032"
      ]
     },
     "metadata": {},
     "execution_count": 19
    }
   ],
   "metadata": {}
  },
  {
   "cell_type": "code",
   "execution_count": 20,
   "source": [
    "ct_data[\"id\"] = ct_data[\"id\"].str.replace(\"[^0-9]\",\"\")\n",
    "\n",
    "ct_data.head()"
   ],
   "outputs": [
    {
     "output_type": "stream",
     "name": "stderr",
     "text": [
      "<ipython-input-20-127668b80af6>:1: FutureWarning: The default value of regex will change from True to False in a future version.\n",
      "  ct_data[\"id\"] = ct_data[\"id\"].str.replace(\"[^0-9]\",\"\")\n"
     ]
    },
    {
     "output_type": "execute_result",
     "data": {
      "text/html": [
       "<div>\n",
       "<style scoped>\n",
       "    .dataframe tbody tr th:only-of-type {\n",
       "        vertical-align: middle;\n",
       "    }\n",
       "\n",
       "    .dataframe tbody tr th {\n",
       "        vertical-align: top;\n",
       "    }\n",
       "\n",
       "    .dataframe thead th {\n",
       "        text-align: right;\n",
       "    }\n",
       "</style>\n",
       "<table border=\"1\" class=\"dataframe\">\n",
       "  <thead>\n",
       "    <tr style=\"text-align: right;\">\n",
       "      <th></th>\n",
       "      <th>contents</th>\n",
       "      <th>id</th>\n",
       "    </tr>\n",
       "  </thead>\n",
       "  <tbody>\n",
       "    <tr>\n",
       "      <th>0</th>\n",
       "      <td>처음 대학교 들어가는데 입을 옷 코디해주세요 신입생 코디에 어울리게 화사한 스웨터를...</td>\n",
       "      <td>019</td>\n",
       "    </tr>\n",
       "    <tr>\n",
       "      <th>1</th>\n",
       "      <td>처음 대학교 들어가는데 입을 옷 코디해주세요 신입생 코디에 어울리게 화사한 스웨터를...</td>\n",
       "      <td>019</td>\n",
       "    </tr>\n",
       "    <tr>\n",
       "      <th>2</th>\n",
       "      <td>레스토랑에서 외식할 때 입을 옷을 찾고 싶습니다 옷은 가을 옷으로 보여주세요 네 그...</td>\n",
       "      <td>008</td>\n",
       "    </tr>\n",
       "    <tr>\n",
       "      <th>3</th>\n",
       "      <td>도서관에 가려고 하는데 책 읽기에 편한 옷 스타일을 추천해주세요 그럼 편한 티를 활...</td>\n",
       "      <td>053</td>\n",
       "    </tr>\n",
       "    <tr>\n",
       "      <th>4</th>\n",
       "      <td>친구와 약속이 있는데요 옷을 좀 추천해주세요 원하시는 스타일이 있으신가요 일단 화려...</td>\n",
       "      <td>032</td>\n",
       "    </tr>\n",
       "  </tbody>\n",
       "</table>\n",
       "</div>"
      ],
      "text/plain": [
       "                                            contents   id\n",
       "0  처음 대학교 들어가는데 입을 옷 코디해주세요 신입생 코디에 어울리게 화사한 스웨터를...  019\n",
       "1  처음 대학교 들어가는데 입을 옷 코디해주세요 신입생 코디에 어울리게 화사한 스웨터를...  019\n",
       "2  레스토랑에서 외식할 때 입을 옷을 찾고 싶습니다 옷은 가을 옷으로 보여주세요 네 그...  008\n",
       "3  도서관에 가려고 하는데 책 읽기에 편한 옷 스타일을 추천해주세요 그럼 편한 티를 활...  053\n",
       "4  친구와 약속이 있는데요 옷을 좀 추천해주세요 원하시는 스타일이 있으신가요 일단 화려...  032"
      ]
     },
     "metadata": {},
     "execution_count": 20
    }
   ],
   "metadata": {}
  },
  {
   "cell_type": "code",
   "execution_count": 21,
   "source": [
    "from collections import Counter\n",
    "temp = ct_data[\"id\"].tolist()\n",
    "type_count = dict(Counter(temp))\n",
    "type_count"
   ],
   "outputs": [
    {
     "output_type": "execute_result",
     "data": {
      "text/plain": [
       "{'019': 6,\n",
       " '008': 10,\n",
       " '053': 10,\n",
       " '032': 9,\n",
       " '095': 24,\n",
       " '002': 33,\n",
       " '003': 37,\n",
       " '037': 23,\n",
       " '036': 7,\n",
       " '100': 14,\n",
       " '044': 10,\n",
       " '046': 9,\n",
       " '080': 5,\n",
       " '025': 8,\n",
       " '090': 34,\n",
       " '051': 16,\n",
       " '011': 10,\n",
       " '042': 4,\n",
       " '091': 25,\n",
       " '050': 8,\n",
       " '060': 14,\n",
       " '061': 41,\n",
       " '054': 8,\n",
       " '005': 45,\n",
       " '093': 11,\n",
       " '026': 50,\n",
       " '071': 20,\n",
       " '039': 22,\n",
       " '010': 13,\n",
       " '017': 20,\n",
       " '029': 10,\n",
       " '085': 50,\n",
       " '065': 25,\n",
       " '067': 34,\n",
       " '098': 5,\n",
       " '031': 24,\n",
       " '034': 18,\n",
       " '094': 63,\n",
       " '057': 10,\n",
       " '038': 12,\n",
       " '089': 11,\n",
       " '097': 2,\n",
       " '028': 10,\n",
       " '076': 19,\n",
       " '087': 27,\n",
       " '030': 21,\n",
       " '048': 37,\n",
       " '013': 25,\n",
       " '009': 11,\n",
       " '027': 10,\n",
       " '073': 10,\n",
       " '072': 5,\n",
       " '063': 2,\n",
       " '099': 18,\n",
       " '007': 18,\n",
       " '052': 11,\n",
       " '045': 11,\n",
       " '062': 5,\n",
       " '064': 16,\n",
       " '088': 14,\n",
       " '058': 7,\n",
       " '059': 8,\n",
       " '012': 6,\n",
       " '033': 3,\n",
       " '096': 1,\n",
       " '040': 7,\n",
       " '082': 4,\n",
       " '075': 4,\n",
       " '014': 4,\n",
       " '078': 5,\n",
       " '092': 7,\n",
       " '043': 2,\n",
       " '086': 5,\n",
       " '006': 2,\n",
       " '083': 3,\n",
       " '068': 8,\n",
       " '024': 15,\n",
       " '021': 5,\n",
       " '001': 11,\n",
       " '084': 7,\n",
       " '074': 6,\n",
       " '066': 11,\n",
       " '004': 12,\n",
       " '023': 6,\n",
       " '041': 4,\n",
       " '081': 6,\n",
       " '016': 10,\n",
       " '035': 9,\n",
       " '056': 10,\n",
       " '020': 10,\n",
       " '120': 5,\n",
       " '122': 18,\n",
       " '155': 9,\n",
       " '154': 11,\n",
       " '143': 8,\n",
       " '108': 18,\n",
       " '101': 11,\n",
       " '188': 18,\n",
       " '103': 7,\n",
       " '125': 7,\n",
       " '114': 21,\n",
       " '127': 16,\n",
       " '117': 7,\n",
       " '134': 10,\n",
       " '191': 13,\n",
       " '182': 20,\n",
       " '189': 7,\n",
       " '184': 24,\n",
       " '185': 21,\n",
       " '162': 11,\n",
       " '183': 17,\n",
       " '133': 9,\n",
       " '165': 7,\n",
       " '111': 7,\n",
       " '137': 7,\n",
       " '153': 22,\n",
       " '168': 3,\n",
       " '118': 4,\n",
       " '141': 5,\n",
       " '144': 10,\n",
       " '190': 7,\n",
       " '138': 5,\n",
       " '104': 4,\n",
       " '115': 8,\n",
       " '151': 1,\n",
       " '131': 2,\n",
       " '169': 7,\n",
       " '077': 2,\n",
       " '178': 6,\n",
       " '107': 10,\n",
       " '163': 7,\n",
       " '145': 17,\n",
       " '112': 7,\n",
       " '180': 6,\n",
       " '069': 10,\n",
       " '161': 5,\n",
       " '148': 11,\n",
       " '123': 13,\n",
       " '106': 7,\n",
       " '079': 2,\n",
       " '113': 4,\n",
       " '164': 11,\n",
       " '132': 5,\n",
       " '172': 3,\n",
       " '129': 6,\n",
       " '146': 6,\n",
       " '174': 6,\n",
       " '167': 6,\n",
       " '181': 7,\n",
       " '109': 6,\n",
       " '175': 1,\n",
       " '187': 1,\n",
       " '186': 4,\n",
       " '047': 3,\n",
       " '170': 4,\n",
       " '147': 9,\n",
       " '135': 1,\n",
       " '022': 3,\n",
       " '173': 5,\n",
       " '116': 3,\n",
       " '222': 8,\n",
       " '288': 2,\n",
       " '139': 3,\n",
       " '297': 4,\n",
       " '233': 4,\n",
       " '232': 13,\n",
       " '055': 2,\n",
       " '286': 2,\n",
       " '305': 4,\n",
       " '301': 7,\n",
       " '227': 1,\n",
       " '225': 7,\n",
       " '214': 3,\n",
       " '018': 2,\n",
       " '239': 1,\n",
       " '307': 4,\n",
       " '121': 4,\n",
       " '124': 2,\n",
       " '275': 2,\n",
       " '261': 5,\n",
       " '198': 2,\n",
       " '281': 2,\n",
       " '253': 4,\n",
       " '308': 3,\n",
       " '070': 7,\n",
       " '226': 10,\n",
       " '230': 11,\n",
       " '199': 1,\n",
       " '279': 2,\n",
       " '258': 1,\n",
       " '256': 2,\n",
       " '255': 6,\n",
       " '203': 17,\n",
       " '213': 3,\n",
       " '257': 1,\n",
       " '192': 4,\n",
       " '271': 3,\n",
       " '248': 1,\n",
       " '252': 2,\n",
       " '142': 3,\n",
       " '241': 8,\n",
       " '049': 2,\n",
       " '283': 4,\n",
       " '246': 3,\n",
       " '202': 13,\n",
       " '285': 6,\n",
       " '157': 5,\n",
       " '177': 1,\n",
       " '130': 5,\n",
       " '211': 1,\n",
       " '221': 2,\n",
       " '298': 4,\n",
       " '265': 4,\n",
       " '295': 3,\n",
       " '235': 2,\n",
       " '294': 5,\n",
       " '197': 4,\n",
       " '220': 4,\n",
       " '250': 2,\n",
       " '270': 3,\n",
       " '234': 1,\n",
       " '201': 5,\n",
       " '302': 3,\n",
       " '128': 2,\n",
       " '296': 1,\n",
       " '207': 2,\n",
       " '267': 2,\n",
       " '212': 1,\n",
       " '152': 2,\n",
       " '204': 6,\n",
       " '231': 6,\n",
       " '208': 3,\n",
       " '284': 2,\n",
       " '254': 3,\n",
       " '196': 3,\n",
       " '268': 1,\n",
       " '195': 3,\n",
       " '210': 5,\n",
       " '136': 2,\n",
       " '292': 2,\n",
       " '304': 7,\n",
       " '303': 2,\n",
       " '249': 4,\n",
       " '240': 1,\n",
       " '219': 3,\n",
       " '229': 1,\n",
       " '276': 2,\n",
       " '171': 3,\n",
       " '224': 5,\n",
       " '179': 5,\n",
       " '259': 2,\n",
       " '291': 3,\n",
       " '238': 1,\n",
       " '274': 1,\n",
       " '244': 2,\n",
       " '228': 2,\n",
       " '209': 1,\n",
       " '158': 2,\n",
       " '306': 2,\n",
       " '300': 3,\n",
       " '223': 1,\n",
       " '156': 1,\n",
       " '200': 4,\n",
       " '176': 3,\n",
       " '105': 2,\n",
       " '193': 2,\n",
       " '263': 1,\n",
       " '236': 1,\n",
       " '280': 2}"
      ]
     },
     "metadata": {},
     "execution_count": 21
    }
   ],
   "metadata": {}
  },
  {
   "cell_type": "code",
   "execution_count": 22,
   "source": [
    "len(type_count)"
   ],
   "outputs": [
    {
     "output_type": "execute_result",
     "data": {
      "text/plain": [
       "269"
      ]
     },
     "metadata": {},
     "execution_count": 22
    }
   ],
   "metadata": {}
  },
  {
   "cell_type": "code",
   "execution_count": 23,
   "source": [
    "del_list = []\n",
    "for i in type_count.keys():\n",
    "    if type_count.get(i) == 1:\n",
    "        del_list.append(i)\n",
    "del_list"
   ],
   "outputs": [
    {
     "output_type": "execute_result",
     "data": {
      "text/plain": [
       "['096',\n",
       " '151',\n",
       " '175',\n",
       " '187',\n",
       " '135',\n",
       " '227',\n",
       " '239',\n",
       " '199',\n",
       " '258',\n",
       " '257',\n",
       " '248',\n",
       " '177',\n",
       " '211',\n",
       " '234',\n",
       " '296',\n",
       " '212',\n",
       " '268',\n",
       " '240',\n",
       " '229',\n",
       " '238',\n",
       " '274',\n",
       " '209',\n",
       " '223',\n",
       " '156',\n",
       " '263',\n",
       " '236']"
      ]
     },
     "metadata": {},
     "execution_count": 23
    }
   ],
   "metadata": {}
  },
  {
   "cell_type": "code",
   "execution_count": 24,
   "source": [
    "ct_data.head()"
   ],
   "outputs": [
    {
     "output_type": "execute_result",
     "data": {
      "text/html": [
       "<div>\n",
       "<style scoped>\n",
       "    .dataframe tbody tr th:only-of-type {\n",
       "        vertical-align: middle;\n",
       "    }\n",
       "\n",
       "    .dataframe tbody tr th {\n",
       "        vertical-align: top;\n",
       "    }\n",
       "\n",
       "    .dataframe thead th {\n",
       "        text-align: right;\n",
       "    }\n",
       "</style>\n",
       "<table border=\"1\" class=\"dataframe\">\n",
       "  <thead>\n",
       "    <tr style=\"text-align: right;\">\n",
       "      <th></th>\n",
       "      <th>contents</th>\n",
       "      <th>id</th>\n",
       "    </tr>\n",
       "  </thead>\n",
       "  <tbody>\n",
       "    <tr>\n",
       "      <th>0</th>\n",
       "      <td>처음 대학교 들어가는데 입을 옷 코디해주세요 신입생 코디에 어울리게 화사한 스웨터를...</td>\n",
       "      <td>019</td>\n",
       "    </tr>\n",
       "    <tr>\n",
       "      <th>1</th>\n",
       "      <td>처음 대학교 들어가는데 입을 옷 코디해주세요 신입생 코디에 어울리게 화사한 스웨터를...</td>\n",
       "      <td>019</td>\n",
       "    </tr>\n",
       "    <tr>\n",
       "      <th>2</th>\n",
       "      <td>레스토랑에서 외식할 때 입을 옷을 찾고 싶습니다 옷은 가을 옷으로 보여주세요 네 그...</td>\n",
       "      <td>008</td>\n",
       "    </tr>\n",
       "    <tr>\n",
       "      <th>3</th>\n",
       "      <td>도서관에 가려고 하는데 책 읽기에 편한 옷 스타일을 추천해주세요 그럼 편한 티를 활...</td>\n",
       "      <td>053</td>\n",
       "    </tr>\n",
       "    <tr>\n",
       "      <th>4</th>\n",
       "      <td>친구와 약속이 있는데요 옷을 좀 추천해주세요 원하시는 스타일이 있으신가요 일단 화려...</td>\n",
       "      <td>032</td>\n",
       "    </tr>\n",
       "  </tbody>\n",
       "</table>\n",
       "</div>"
      ],
      "text/plain": [
       "                                            contents   id\n",
       "0  처음 대학교 들어가는데 입을 옷 코디해주세요 신입생 코디에 어울리게 화사한 스웨터를...  019\n",
       "1  처음 대학교 들어가는데 입을 옷 코디해주세요 신입생 코디에 어울리게 화사한 스웨터를...  019\n",
       "2  레스토랑에서 외식할 때 입을 옷을 찾고 싶습니다 옷은 가을 옷으로 보여주세요 네 그...  008\n",
       "3  도서관에 가려고 하는데 책 읽기에 편한 옷 스타일을 추천해주세요 그럼 편한 티를 활...  053\n",
       "4  친구와 약속이 있는데요 옷을 좀 추천해주세요 원하시는 스타일이 있으신가요 일단 화려...  032"
      ]
     },
     "metadata": {},
     "execution_count": 24
    }
   ],
   "metadata": {}
  },
  {
   "cell_type": "code",
   "execution_count": 25,
   "source": [
    "for i in del_list:\n",
    "    ct_data = ct_data[ct_data[\"id\"] != i]"
   ],
   "outputs": [],
   "metadata": {}
  },
  {
   "cell_type": "code",
   "execution_count": 26,
   "source": [
    "len(ct_data)"
   ],
   "outputs": [
    {
     "output_type": "execute_result",
     "data": {
      "text/plain": [
       "2206"
      ]
     },
     "metadata": {},
     "execution_count": 26
    }
   ],
   "metadata": {}
  },
  {
   "cell_type": "code",
   "execution_count": 27,
   "source": [
    "ct_data.reset_index(drop=True, inplace=True)"
   ],
   "outputs": [],
   "metadata": {}
  },
  {
   "cell_type": "code",
   "execution_count": 28,
   "source": [
    "import matplotlib.pyplot as plt\n",
    "plt.bar(Counter(ct_data.id).keys(),Counter(ct_data.id).values(), color='k')"
   ],
   "outputs": [
    {
     "output_type": "execute_result",
     "data": {
      "text/plain": [
       "<BarContainer object of 243 artists>"
      ]
     },
     "metadata": {},
     "execution_count": 28
    }
   ],
   "metadata": {}
  },
  {
   "cell_type": "markdown",
   "source": [
    "# 5. 형태소 분석"
   ],
   "metadata": {}
  },
  {
   "cell_type": "markdown",
   "source": [
    "## Mecab 사용"
   ],
   "metadata": {}
  },
  {
   "cell_type": "code",
   "execution_count": 29,
   "source": [
    "from konlpy.tag import Mecab\n",
    "mecab = Mecab()"
   ],
   "outputs": [],
   "metadata": {}
  },
  {
   "cell_type": "code",
   "execution_count": 30,
   "source": [
    "mecab.morphs(ct_data[\"contents\"][0])"
   ],
   "outputs": [
    {
     "output_type": "execute_result",
     "data": {
      "text/plain": [
       "['처음',\n",
       " '대학교',\n",
       " '들어가',\n",
       " '는',\n",
       " '데',\n",
       " '입',\n",
       " '을',\n",
       " '옷',\n",
       " '코디',\n",
       " '해',\n",
       " '주',\n",
       " '세요',\n",
       " '신입',\n",
       " '생',\n",
       " '코디',\n",
       " '에',\n",
       " '어울리',\n",
       " '게',\n",
       " '화사',\n",
       " '한',\n",
       " '스웨터',\n",
       " '를',\n",
       " '추천',\n",
       " '해',\n",
       " '드릴게요',\n",
       " 'SW',\n",
       " '009',\n",
       " '이',\n",
       " '옷',\n",
       " '에',\n",
       " '어울리',\n",
       " '는',\n",
       " '치마',\n",
       " '로',\n",
       " '추천',\n",
       " '해',\n",
       " '주',\n",
       " '세요',\n",
       " '고객',\n",
       " '님',\n",
       " '의',\n",
       " '키',\n",
       " '사이즈',\n",
       " '에',\n",
       " '맞추',\n",
       " '면',\n",
       " '이런',\n",
       " '옷',\n",
       " '도',\n",
       " '잘',\n",
       " '어울리',\n",
       " '실',\n",
       " '것',\n",
       " '같',\n",
       " '은',\n",
       " '데',\n",
       " '어떠신가요',\n",
       " 'SK',\n",
       " '016',\n",
       " '제',\n",
       " '가',\n",
       " '키',\n",
       " '가',\n",
       " '작',\n",
       " '아서',\n",
       " '짧',\n",
       " '은',\n",
       " '치마',\n",
       " '로',\n",
       " '추천',\n",
       " '해',\n",
       " '주',\n",
       " '세요',\n",
       " '상',\n",
       " '의',\n",
       " '색상',\n",
       " '과',\n",
       " '도',\n",
       " '매칭',\n",
       " '이',\n",
       " '잘',\n",
       " '어울리',\n",
       " '는',\n",
       " '짧',\n",
       " '은',\n",
       " '치마',\n",
       " '입니다',\n",
       " 'SK',\n",
       " '052',\n",
       " '어두운',\n",
       " '계열',\n",
       " '은',\n",
       " '없',\n",
       " '나요',\n",
       " '언밸런스',\n",
       " '한',\n",
       " '컷팅',\n",
       " '으로',\n",
       " '세련미',\n",
       " '를',\n",
       " '돋보이',\n",
       " '게',\n",
       " '하',\n",
       " '는',\n",
       " '치마',\n",
       " '인데',\n",
       " '마음',\n",
       " '에',\n",
       " '드',\n",
       " '시',\n",
       " '나요',\n",
       " 'SK',\n",
       " '053',\n",
       " '나쁘',\n",
       " '지',\n",
       " '않',\n",
       " '네요',\n",
       " '외투',\n",
       " '도',\n",
       " '추천',\n",
       " '해',\n",
       " '주',\n",
       " '시',\n",
       " '겠',\n",
       " '어요',\n",
       " '요즘',\n",
       " '계절',\n",
       " '에',\n",
       " '는',\n",
       " '가디건',\n",
       " '이나',\n",
       " '자켓',\n",
       " '을',\n",
       " '걸치',\n",
       " '기',\n",
       " '에',\n",
       " '좋',\n",
       " '은데',\n",
       " '특정',\n",
       " '종류',\n",
       " '로',\n",
       " '원',\n",
       " '하',\n",
       " '는',\n",
       " '게',\n",
       " '있',\n",
       " '으신',\n",
       " '가요',\n",
       " '트렌치코트',\n",
       " '종류',\n",
       " '로',\n",
       " '추천',\n",
       " '해',\n",
       " '주',\n",
       " '세요',\n",
       " '이너',\n",
       " '색상',\n",
       " '과',\n",
       " '무난',\n",
       " '하',\n",
       " '게',\n",
       " '잘',\n",
       " '어울릴',\n",
       " '트렌치코트',\n",
       " '입니다',\n",
       " 'CT',\n",
       " '019',\n",
       " '신발',\n",
       " '도',\n",
       " '추천',\n",
       " '해',\n",
       " '주',\n",
       " '세요',\n",
       " '스텐',\n",
       " '드',\n",
       " '칼라',\n",
       " '싱글',\n",
       " '여',\n",
       " '밈',\n",
       " '프론트',\n",
       " '플라이',\n",
       " '히든',\n",
       " '단추',\n",
       " '5',\n",
       " '개',\n",
       " '소매',\n",
       " '끈',\n",
       " '과',\n",
       " '소매',\n",
       " '끈고리',\n",
       " '양쪽',\n",
       " '래글런',\n",
       " '소매',\n",
       " '손목',\n",
       " '위',\n",
       " '까지',\n",
       " '의',\n",
       " '소매',\n",
       " '기장',\n",
       " '뒷',\n",
       " '판',\n",
       " '케이프',\n",
       " '트',\n",
       " '요크',\n",
       " '레인',\n",
       " '가드',\n",
       " '루즈',\n",
       " '핏',\n",
       " '형태',\n",
       " '의',\n",
       " '트렌치코트',\n",
       " '무릎',\n",
       " '아래',\n",
       " '까지',\n",
       " '내려오',\n",
       " '는',\n",
       " '긴',\n",
       " '기장',\n",
       " '허리',\n",
       " '벨트',\n",
       " '가',\n",
       " '앞주머니',\n",
       " '위',\n",
       " '까지',\n",
       " '단추',\n",
       " '로',\n",
       " '고정',\n",
       " '뚜껑',\n",
       " '주머니',\n",
       " '가',\n",
       " '양쪽',\n",
       " '밑단',\n",
       " '뒷',\n",
       " '트임',\n",
       " '옆',\n",
       " '트임',\n",
       " '양쪽',\n",
       " '슬릿',\n",
       " '에',\n",
       " '지퍼',\n",
       " '폴리',\n",
       " '100',\n",
       " '중간',\n",
       " '두께',\n",
       " '로',\n",
       " '비침',\n",
       " '이',\n",
       " '없',\n",
       " '음',\n",
       " '신축성',\n",
       " '없',\n",
       " '음',\n",
       " '가벼운',\n",
       " '손세탁',\n",
       " '가능',\n",
       " '혹은',\n",
       " '드라이클리닝',\n",
       " '권',\n",
       " '장',\n",
       " '빳빳',\n",
       " '한',\n",
       " '부드러운',\n",
       " '베이지',\n",
       " 'BEIGE',\n",
       " '탁한',\n",
       " '느낌',\n",
       " '진',\n",
       " '한색',\n",
       " '단추',\n",
       " '배색',\n",
       " '직선',\n",
       " '적',\n",
       " '인',\n",
       " '모던',\n",
       " '한',\n",
       " '클래식',\n",
       " '한',\n",
       " '베이직',\n",
       " '한',\n",
       " '봄',\n",
       " '느낌',\n",
       " '의',\n",
       " '단순',\n",
       " '한',\n",
       " '허리',\n",
       " '벨트',\n",
       " '와',\n",
       " '단추',\n",
       " '포인트']"
      ]
     },
     "metadata": {},
     "execution_count": 30
    }
   ],
   "metadata": {}
  },
  {
   "cell_type": "code",
   "execution_count": 31,
   "source": [
    "len(ct_data)"
   ],
   "outputs": [
    {
     "output_type": "execute_result",
     "data": {
      "text/plain": [
       "2206"
      ]
     },
     "metadata": {},
     "execution_count": 31
    }
   ],
   "metadata": {}
  },
  {
   "cell_type": "code",
   "execution_count": 32,
   "source": [
    "x_data = []\n",
    "for i in range(len(ct_data)):\n",
    "    x_data.append(mecab.morphs(ct_data[\"contents\"][i]))\n",
    "\n",
    "x_data[0]"
   ],
   "outputs": [
    {
     "output_type": "execute_result",
     "data": {
      "text/plain": [
       "['처음',\n",
       " '대학교',\n",
       " '들어가',\n",
       " '는',\n",
       " '데',\n",
       " '입',\n",
       " '을',\n",
       " '옷',\n",
       " '코디',\n",
       " '해',\n",
       " '주',\n",
       " '세요',\n",
       " '신입',\n",
       " '생',\n",
       " '코디',\n",
       " '에',\n",
       " '어울리',\n",
       " '게',\n",
       " '화사',\n",
       " '한',\n",
       " '스웨터',\n",
       " '를',\n",
       " '추천',\n",
       " '해',\n",
       " '드릴게요',\n",
       " 'SW',\n",
       " '009',\n",
       " '이',\n",
       " '옷',\n",
       " '에',\n",
       " '어울리',\n",
       " '는',\n",
       " '치마',\n",
       " '로',\n",
       " '추천',\n",
       " '해',\n",
       " '주',\n",
       " '세요',\n",
       " '고객',\n",
       " '님',\n",
       " '의',\n",
       " '키',\n",
       " '사이즈',\n",
       " '에',\n",
       " '맞추',\n",
       " '면',\n",
       " '이런',\n",
       " '옷',\n",
       " '도',\n",
       " '잘',\n",
       " '어울리',\n",
       " '실',\n",
       " '것',\n",
       " '같',\n",
       " '은',\n",
       " '데',\n",
       " '어떠신가요',\n",
       " 'SK',\n",
       " '016',\n",
       " '제',\n",
       " '가',\n",
       " '키',\n",
       " '가',\n",
       " '작',\n",
       " '아서',\n",
       " '짧',\n",
       " '은',\n",
       " '치마',\n",
       " '로',\n",
       " '추천',\n",
       " '해',\n",
       " '주',\n",
       " '세요',\n",
       " '상',\n",
       " '의',\n",
       " '색상',\n",
       " '과',\n",
       " '도',\n",
       " '매칭',\n",
       " '이',\n",
       " '잘',\n",
       " '어울리',\n",
       " '는',\n",
       " '짧',\n",
       " '은',\n",
       " '치마',\n",
       " '입니다',\n",
       " 'SK',\n",
       " '052',\n",
       " '어두운',\n",
       " '계열',\n",
       " '은',\n",
       " '없',\n",
       " '나요',\n",
       " '언밸런스',\n",
       " '한',\n",
       " '컷팅',\n",
       " '으로',\n",
       " '세련미',\n",
       " '를',\n",
       " '돋보이',\n",
       " '게',\n",
       " '하',\n",
       " '는',\n",
       " '치마',\n",
       " '인데',\n",
       " '마음',\n",
       " '에',\n",
       " '드',\n",
       " '시',\n",
       " '나요',\n",
       " 'SK',\n",
       " '053',\n",
       " '나쁘',\n",
       " '지',\n",
       " '않',\n",
       " '네요',\n",
       " '외투',\n",
       " '도',\n",
       " '추천',\n",
       " '해',\n",
       " '주',\n",
       " '시',\n",
       " '겠',\n",
       " '어요',\n",
       " '요즘',\n",
       " '계절',\n",
       " '에',\n",
       " '는',\n",
       " '가디건',\n",
       " '이나',\n",
       " '자켓',\n",
       " '을',\n",
       " '걸치',\n",
       " '기',\n",
       " '에',\n",
       " '좋',\n",
       " '은데',\n",
       " '특정',\n",
       " '종류',\n",
       " '로',\n",
       " '원',\n",
       " '하',\n",
       " '는',\n",
       " '게',\n",
       " '있',\n",
       " '으신',\n",
       " '가요',\n",
       " '트렌치코트',\n",
       " '종류',\n",
       " '로',\n",
       " '추천',\n",
       " '해',\n",
       " '주',\n",
       " '세요',\n",
       " '이너',\n",
       " '색상',\n",
       " '과',\n",
       " '무난',\n",
       " '하',\n",
       " '게',\n",
       " '잘',\n",
       " '어울릴',\n",
       " '트렌치코트',\n",
       " '입니다',\n",
       " 'CT',\n",
       " '019',\n",
       " '신발',\n",
       " '도',\n",
       " '추천',\n",
       " '해',\n",
       " '주',\n",
       " '세요',\n",
       " '스텐',\n",
       " '드',\n",
       " '칼라',\n",
       " '싱글',\n",
       " '여',\n",
       " '밈',\n",
       " '프론트',\n",
       " '플라이',\n",
       " '히든',\n",
       " '단추',\n",
       " '5',\n",
       " '개',\n",
       " '소매',\n",
       " '끈',\n",
       " '과',\n",
       " '소매',\n",
       " '끈고리',\n",
       " '양쪽',\n",
       " '래글런',\n",
       " '소매',\n",
       " '손목',\n",
       " '위',\n",
       " '까지',\n",
       " '의',\n",
       " '소매',\n",
       " '기장',\n",
       " '뒷',\n",
       " '판',\n",
       " '케이프',\n",
       " '트',\n",
       " '요크',\n",
       " '레인',\n",
       " '가드',\n",
       " '루즈',\n",
       " '핏',\n",
       " '형태',\n",
       " '의',\n",
       " '트렌치코트',\n",
       " '무릎',\n",
       " '아래',\n",
       " '까지',\n",
       " '내려오',\n",
       " '는',\n",
       " '긴',\n",
       " '기장',\n",
       " '허리',\n",
       " '벨트',\n",
       " '가',\n",
       " '앞주머니',\n",
       " '위',\n",
       " '까지',\n",
       " '단추',\n",
       " '로',\n",
       " '고정',\n",
       " '뚜껑',\n",
       " '주머니',\n",
       " '가',\n",
       " '양쪽',\n",
       " '밑단',\n",
       " '뒷',\n",
       " '트임',\n",
       " '옆',\n",
       " '트임',\n",
       " '양쪽',\n",
       " '슬릿',\n",
       " '에',\n",
       " '지퍼',\n",
       " '폴리',\n",
       " '100',\n",
       " '중간',\n",
       " '두께',\n",
       " '로',\n",
       " '비침',\n",
       " '이',\n",
       " '없',\n",
       " '음',\n",
       " '신축성',\n",
       " '없',\n",
       " '음',\n",
       " '가벼운',\n",
       " '손세탁',\n",
       " '가능',\n",
       " '혹은',\n",
       " '드라이클리닝',\n",
       " '권',\n",
       " '장',\n",
       " '빳빳',\n",
       " '한',\n",
       " '부드러운',\n",
       " '베이지',\n",
       " 'BEIGE',\n",
       " '탁한',\n",
       " '느낌',\n",
       " '진',\n",
       " '한색',\n",
       " '단추',\n",
       " '배색',\n",
       " '직선',\n",
       " '적',\n",
       " '인',\n",
       " '모던',\n",
       " '한',\n",
       " '클래식',\n",
       " '한',\n",
       " '베이직',\n",
       " '한',\n",
       " '봄',\n",
       " '느낌',\n",
       " '의',\n",
       " '단순',\n",
       " '한',\n",
       " '허리',\n",
       " '벨트',\n",
       " '와',\n",
       " '단추',\n",
       " '포인트']"
      ]
     },
     "metadata": {},
     "execution_count": 32
    }
   ],
   "metadata": {}
  },
  {
   "cell_type": "code",
   "execution_count": 33,
   "source": [
    "stopwords = []\n",
    "with open('./data/불용어사전.txt', mode='rt', encoding='utf-8') as f:\n",
    "    for word in f.readlines():\n",
    "        word = word.strip()\n",
    "        stopwords.append(word)\n",
    "stopwords[0:2]"
   ],
   "outputs": [
    {
     "output_type": "execute_result",
     "data": {
      "text/plain": [
       "['어찌됐든', '그위에']"
      ]
     },
     "metadata": {},
     "execution_count": 33
    }
   ],
   "metadata": {}
  },
  {
   "cell_type": "code",
   "execution_count": 34,
   "source": [
    "X_data = []\n",
    "for sentence in x_data: #문장 하나 가져오고 단어 단위로 쪼개기\n",
    "    temp_X = [word for word in sentence if not word in stopwords] # 불용어 제거\n",
    "    X_data.append(temp_X)\n",
    "X_data[0]"
   ],
   "outputs": [
    {
     "output_type": "execute_result",
     "data": {
      "text/plain": [
       "['처음',\n",
       " '대학교',\n",
       " '들어가',\n",
       " '데',\n",
       " '입',\n",
       " '옷',\n",
       " '코디',\n",
       " '주',\n",
       " '세요',\n",
       " '신입',\n",
       " '생',\n",
       " '코디',\n",
       " '어울리',\n",
       " '게',\n",
       " '화사',\n",
       " '스웨터',\n",
       " '추천',\n",
       " '드릴게요',\n",
       " 'SW',\n",
       " '009',\n",
       " '옷',\n",
       " '어울리',\n",
       " '치마',\n",
       " '추천',\n",
       " '주',\n",
       " '세요',\n",
       " '고객',\n",
       " '님',\n",
       " '키',\n",
       " '사이즈',\n",
       " '맞추',\n",
       " '면',\n",
       " '옷',\n",
       " '도',\n",
       " '잘',\n",
       " '어울리',\n",
       " '실',\n",
       " '같',\n",
       " '데',\n",
       " '어떠신가요',\n",
       " 'SK',\n",
       " '016',\n",
       " '키',\n",
       " '작',\n",
       " '아서',\n",
       " '짧',\n",
       " '치마',\n",
       " '추천',\n",
       " '주',\n",
       " '세요',\n",
       " '상',\n",
       " '색상',\n",
       " '도',\n",
       " '매칭',\n",
       " '잘',\n",
       " '어울리',\n",
       " '짧',\n",
       " '치마',\n",
       " '입니다',\n",
       " 'SK',\n",
       " '052',\n",
       " '어두운',\n",
       " '계열',\n",
       " '나요',\n",
       " '언밸런스',\n",
       " '컷팅',\n",
       " '세련미',\n",
       " '돋보이',\n",
       " '게',\n",
       " '치마',\n",
       " '인데',\n",
       " '마음',\n",
       " '시',\n",
       " '나요',\n",
       " 'SK',\n",
       " '053',\n",
       " '나쁘',\n",
       " '지',\n",
       " '않',\n",
       " '네요',\n",
       " '외투',\n",
       " '도',\n",
       " '추천',\n",
       " '주',\n",
       " '시',\n",
       " '겠',\n",
       " '어요',\n",
       " '요즘',\n",
       " '계절',\n",
       " '가디건',\n",
       " '이나',\n",
       " '자켓',\n",
       " '걸치',\n",
       " '기',\n",
       " '좋',\n",
       " '은데',\n",
       " '특정',\n",
       " '종류',\n",
       " '원',\n",
       " '게',\n",
       " '있',\n",
       " '으신',\n",
       " '가요',\n",
       " '트렌치코트',\n",
       " '종류',\n",
       " '추천',\n",
       " '주',\n",
       " '세요',\n",
       " '이너',\n",
       " '색상',\n",
       " '무난',\n",
       " '게',\n",
       " '잘',\n",
       " '어울릴',\n",
       " '트렌치코트',\n",
       " '입니다',\n",
       " 'CT',\n",
       " '019',\n",
       " '신발',\n",
       " '도',\n",
       " '추천',\n",
       " '주',\n",
       " '세요',\n",
       " '스텐',\n",
       " '칼라',\n",
       " '싱글',\n",
       " '밈',\n",
       " '프론트',\n",
       " '플라이',\n",
       " '히든',\n",
       " '단추',\n",
       " '5',\n",
       " '개',\n",
       " '끈',\n",
       " '끈고리',\n",
       " '양쪽',\n",
       " '래글런',\n",
       " '손목',\n",
       " '위',\n",
       " '기장',\n",
       " '뒷',\n",
       " '판',\n",
       " '케이프',\n",
       " '트',\n",
       " '요크',\n",
       " '레인',\n",
       " '가드',\n",
       " '루즈',\n",
       " '핏',\n",
       " '형태',\n",
       " '트렌치코트',\n",
       " '무릎',\n",
       " '아래',\n",
       " '내려오',\n",
       " '긴',\n",
       " '기장',\n",
       " '허리',\n",
       " '벨트',\n",
       " '앞주머니',\n",
       " '위',\n",
       " '단추',\n",
       " '고정',\n",
       " '뚜껑',\n",
       " '주머니',\n",
       " '양쪽',\n",
       " '밑단',\n",
       " '뒷',\n",
       " '트임',\n",
       " '옆',\n",
       " '트임',\n",
       " '양쪽',\n",
       " '슬릿',\n",
       " '지퍼',\n",
       " '폴리',\n",
       " '100',\n",
       " '중간',\n",
       " '두께',\n",
       " '비침',\n",
       " '신축성',\n",
       " '가벼운',\n",
       " '손세탁',\n",
       " '가능',\n",
       " '드라이클리닝',\n",
       " '권',\n",
       " '장',\n",
       " '빳빳',\n",
       " '부드러운',\n",
       " '베이지',\n",
       " 'BEIGE',\n",
       " '탁한',\n",
       " '느낌',\n",
       " '진',\n",
       " '한색',\n",
       " '단추',\n",
       " '배색',\n",
       " '직선',\n",
       " '적',\n",
       " '인',\n",
       " '모던',\n",
       " '클래식',\n",
       " '베이직',\n",
       " '봄',\n",
       " '느낌',\n",
       " '단순',\n",
       " '허리',\n",
       " '벨트',\n",
       " '단추',\n",
       " '포인트']"
      ]
     },
     "metadata": {},
     "execution_count": 34
    }
   ],
   "metadata": {}
  },
  {
   "cell_type": "markdown",
   "source": [
    "## 1. 임베딩 레이어 활용"
   ],
   "metadata": {}
  },
  {
   "cell_type": "markdown",
   "source": [
    "### 정수 인코딩"
   ],
   "metadata": {}
  },
  {
   "cell_type": "code",
   "execution_count": 35,
   "source": [
    "from tensorflow.keras.preprocessing.text import Tokenizer\n",
    "tokenizer = Tokenizer()\n",
    "tokenizer.fit_on_texts(X_data)"
   ],
   "outputs": [],
   "metadata": {}
  },
  {
   "cell_type": "code",
   "execution_count": 36,
   "source": [
    "threshold = 6\n",
    "total_cnt = len(tokenizer.word_index) # 단어의 수\n",
    "rare_cnt = 0 # 등장 빈도수가 threshold보다 작은 단어의 개수를 카운트\n",
    "total_freq = 0 # 훈련 데이터의 전체 단어 빈도수 총 합\n",
    "rare_freq = 0 # 등장 빈도수가 threshold보다 작은 단어의 등장 빈도수의 총 합\n",
    "\n",
    "# 단어와 빈도수의 쌍(pair)을 key와 value로 받는다.\n",
    "for key, value in tokenizer.word_counts.items():\n",
    "    total_freq = total_freq + value\n",
    "\n",
    "    # 단어의 등장 빈도수가 threshold보다 작으면\n",
    "    if(value < threshold):\n",
    "        rare_cnt = rare_cnt + 1\n",
    "        rare_freq = rare_freq + value\n",
    "\n",
    "print('단어 집합(vocabulary)의 크기 :',total_cnt)\n",
    "print('등장 빈도가 %s번 이하인 희귀 단어의 수: %s'%(threshold - 1, rare_cnt))\n",
    "print(\"단어 집합에서 희귀 단어의 비율:\", (rare_cnt / total_cnt)*100)\n",
    "print(\"전체 등장 빈도에서 희귀 단어 등장 빈도 비율:\", (rare_freq / total_freq)*100)"
   ],
   "outputs": [
    {
     "output_type": "stream",
     "name": "stdout",
     "text": [
      "단어 집합(vocabulary)의 크기 : 3875\n",
      "등장 빈도가 5번 이하인 희귀 단어의 수: 1605\n",
      "단어 집합에서 희귀 단어의 비율: 41.41935483870968\n",
      "전체 등장 빈도에서 희귀 단어 등장 빈도 비율: 0.8830893127040715\n"
     ]
    }
   ],
   "metadata": {}
  },
  {
   "cell_type": "code",
   "execution_count": 37,
   "source": [
    "vocab_size = total_cnt - rare_cnt + 1 # tokenizer 함수에 들어 갈 때 영향줘서 1 추가 해야 됨\n",
    "print('단어 집합의 크기 :',vocab_size)"
   ],
   "outputs": [
    {
     "output_type": "stream",
     "name": "stdout",
     "text": [
      "단어 집합의 크기 : 2271\n"
     ]
    }
   ],
   "metadata": {}
  },
  {
   "cell_type": "markdown",
   "source": [
    "케라스 토크나이저의 정수 인코딩은 인덱스가 1부터 시작하지만,\n",
    "\n",
    "케라스 원-핫 인코딩에서 배열의 인덱스가 0부터 시작하기 때문에\n",
    "\n",
    "배열의 크기를 실제 단어 집합의 크기보다 +1로 생성해야하므로 미리 +1 선언 "
   ],
   "metadata": {}
  },
  {
   "cell_type": "markdown",
   "source": [
    "### 맨 앞자리는 비어있어야 함 (원 핫 인코딩은 정수 인코딩한 뒤 나오는 정수 값 자리에 1을 넣는 것)"
   ],
   "metadata": {}
  },
  {
   "cell_type": "code",
   "execution_count": 38,
   "source": [
    "tokenizer = Tokenizer(num_words=vocab_size - 1)\n",
    "tokenizer.fit_on_texts(X_data)\n",
    "len(tokenizer.word_index)"
   ],
   "outputs": [
    {
     "output_type": "execute_result",
     "data": {
      "text/plain": [
       "3875"
      ]
     },
     "metadata": {},
     "execution_count": 38
    }
   ],
   "metadata": {}
  },
  {
   "cell_type": "code",
   "execution_count": 39,
   "source": [
    "X_data = tokenizer.texts_to_sequences(X_data) # 단어에 정수 붙여줄 때 num_word 적용"
   ],
   "outputs": [],
   "metadata": {}
  },
  {
   "cell_type": "markdown",
   "source": [
    "위에서 num_words는 이 데이터에서 등장 빈도 순위로 몇 번째에 해당하는 단어까지만 사용할 것인지 조절\n",
    "\n",
    "예를 들어서 100이란 값을 넣으면, 등장 빈도 순위가 1~100에 해당하는 단어만 사용"
   ],
   "metadata": {}
  },
  {
   "cell_type": "code",
   "execution_count": 40,
   "source": [
    "X_data[1]"
   ],
   "outputs": [
    {
     "output_type": "execute_result",
     "data": {
      "text/plain": [
       "[1567,\n",
       " 1902,\n",
       " 815,\n",
       " 322,\n",
       " 26,\n",
       " 62,\n",
       " 6,\n",
       " 1,\n",
       " 2,\n",
       " 1903,\n",
       " 6,\n",
       " 66,\n",
       " 77,\n",
       " 340,\n",
       " 281,\n",
       " 13,\n",
       " 492,\n",
       " 158,\n",
       " 532,\n",
       " 62,\n",
       " 66,\n",
       " 71,\n",
       " 13,\n",
       " 1,\n",
       " 2,\n",
       " 181,\n",
       " 167,\n",
       " 459,\n",
       " 401,\n",
       " 1604,\n",
       " 96,\n",
       " 62,\n",
       " 24,\n",
       " 121,\n",
       " 66,\n",
       " 464,\n",
       " 45,\n",
       " 322,\n",
       " 64,\n",
       " 118,\n",
       " 488,\n",
       " 459,\n",
       " 426,\n",
       " 455,\n",
       " 259,\n",
       " 71,\n",
       " 13,\n",
       " 1,\n",
       " 2,\n",
       " 516,\n",
       " 60,\n",
       " 24,\n",
       " 605,\n",
       " 121,\n",
       " 66,\n",
       " 259,\n",
       " 71,\n",
       " 16,\n",
       " 118,\n",
       " 969,\n",
       " 341,\n",
       " 413,\n",
       " 34,\n",
       " 2057,\n",
       " 1531,\n",
       " 77,\n",
       " 71,\n",
       " 582,\n",
       " 7,\n",
       " 12,\n",
       " 34,\n",
       " 118,\n",
       " 1008,\n",
       " 1183,\n",
       " 83,\n",
       " 110,\n",
       " 44,\n",
       " 244,\n",
       " 24,\n",
       " 13,\n",
       " 1,\n",
       " 12,\n",
       " 36,\n",
       " 18,\n",
       " 544,\n",
       " 1463,\n",
       " 423,\n",
       " 375,\n",
       " 232,\n",
       " 712,\n",
       " 61,\n",
       " 20,\n",
       " 448,\n",
       " 835,\n",
       " 284,\n",
       " 77,\n",
       " 3,\n",
       " 129,\n",
       " 102,\n",
       " 85,\n",
       " 835,\n",
       " 13,\n",
       " 1,\n",
       " 2,\n",
       " 778,\n",
       " 60,\n",
       " 534,\n",
       " 77,\n",
       " 121,\n",
       " 264,\n",
       " 85,\n",
       " 16,\n",
       " 10,\n",
       " 890,\n",
       " 53,\n",
       " 24,\n",
       " 13,\n",
       " 1,\n",
       " 2,\n",
       " 1210,\n",
       " 178,\n",
       " 270,\n",
       " 743,\n",
       " 183,\n",
       " 12,\n",
       " 34,\n",
       " 822,\n",
       " 664,\n",
       " 13,\n",
       " 1,\n",
       " 2,\n",
       " 32,\n",
       " 24,\n",
       " 534,\n",
       " 77,\n",
       " 121,\n",
       " 66,\n",
       " 941,\n",
       " 73,\n",
       " 16,\n",
       " 31,\n",
       " 570,\n",
       " 506,\n",
       " 44,\n",
       " 56,\n",
       " 6,\n",
       " 1830,\n",
       " 1423,\n",
       " 74,\n",
       " 3,\n",
       " 34,\n",
       " 1160,\n",
       " 1077,\n",
       " 73,\n",
       " 56,\n",
       " 6,\n",
       " 1830,\n",
       " 451,\n",
       " 7,\n",
       " 12,\n",
       " 34,\n",
       " 10,\n",
       " 890,\n",
       " 7,\n",
       " 44,\n",
       " 287,\n",
       " 1076,\n",
       " 15,\n",
       " 88,\n",
       " 23,\n",
       " 672,\n",
       " 678,\n",
       " 260,\n",
       " 14,\n",
       " 302,\n",
       " 30,\n",
       " 246,\n",
       " 389,\n",
       " 57,\n",
       " 239,\n",
       " 262,\n",
       " 237,\n",
       " 19,\n",
       " 101,\n",
       " 153,\n",
       " 206,\n",
       " 332,\n",
       " 625,\n",
       " 1464,\n",
       " 513,\n",
       " 165,\n",
       " 28,\n",
       " 35,\n",
       " 85,\n",
       " 79,\n",
       " 137,\n",
       " 208,\n",
       " 98,\n",
       " 19,\n",
       " 22,\n",
       " 113,\n",
       " 2150,\n",
       " 237,\n",
       " 14,\n",
       " 193,\n",
       " 1102,\n",
       " 222,\n",
       " 57,\n",
       " 245,\n",
       " 101,\n",
       " 173,\n",
       " 162,\n",
       " 173,\n",
       " 57,\n",
       " 318,\n",
       " 479,\n",
       " 67,\n",
       " 94,\n",
       " 223,\n",
       " 70,\n",
       " 93,\n",
       " 111,\n",
       " 331,\n",
       " 300,\n",
       " 177,\n",
       " 103,\n",
       " 204,\n",
       " 199,\n",
       " 320,\n",
       " 146,\n",
       " 65,\n",
       " 386,\n",
       " 994,\n",
       " 11,\n",
       " 431,\n",
       " 2151,\n",
       " 14,\n",
       " 120,\n",
       " 185,\n",
       " 46,\n",
       " 33,\n",
       " 100,\n",
       " 122,\n",
       " 213,\n",
       " 255,\n",
       " 11,\n",
       " 330,\n",
       " 22,\n",
       " 113,\n",
       " 14,\n",
       " 155]"
      ]
     },
     "metadata": {},
     "execution_count": 40
    }
   ],
   "metadata": {}
  },
  {
   "cell_type": "code",
   "execution_count": 41,
   "source": [
    "print('문장 최대 길이 :',max(len(l) for l in X_data))\n",
    "print('문장의 평균 길이 :',sum(map(len, X_data))/len(X_data))\n",
    "plt.hist([len(s) for s in X_data], bins=50, color='k')\n",
    "plt.xlabel('length of samples')\n",
    "plt.ylabel('number of samples')\n",
    "plt.show()\n",
    "plt.close()"
   ],
   "outputs": [
    {
     "output_type": "stream",
     "name": "stdout",
     "text": [
      "문장 최대 길이 : 406\n",
      "문장의 평균 길이 : 194.7107887579329\n"
     ]
    },
    {
     "output_type": "display_data",
     "data": {
      "image/png": "[encoded data removed]",
      "text/plain": [
       "<Figure size 640x480 with 1 Axes>"
      ]
     },
     "metadata": {}
    }
   ],
   "metadata": {}
  },
  {
   "cell_type": "code",
   "execution_count": 42,
   "source": [
    "def below_threshold_len(max_len, nested_list):\n",
    "  cnt = 0\n",
    "  for s in nested_list:\n",
    "    if(len(s) <= max_len):\n",
    "        cnt = cnt + 1\n",
    "  print('전체 샘플 중 길이가 %s 이하인 샘플의 비율: %s'%(max_len, (cnt / len(nested_list))*100))\n",
    "\n",
    "max_len = 300\n",
    "below_threshold_len(max_len, X_data)"
   ],
   "outputs": [
    {
     "output_type": "stream",
     "name": "stdout",
     "text": [
      "전체 샘플 중 길이가 300 이하인 샘플의 비율: 96.01087941976428\n"
     ]
    }
   ],
   "metadata": {}
  },
  {
   "cell_type": "markdown",
   "source": [
    "## padding"
   ],
   "metadata": {}
  },
  {
   "cell_type": "code",
   "execution_count": 43,
   "source": [
    "from tensorflow.keras.preprocessing.sequence import pad_sequences\n",
    "X_data = pad_sequences(X_data, maxlen = max_len)"
   ],
   "outputs": [],
   "metadata": {}
  },
  {
   "cell_type": "code",
   "execution_count": 44,
   "source": [
    "print(len(X_data[1]))\n",
    "X_data[1]"
   ],
   "outputs": [
    {
     "output_type": "stream",
     "name": "stdout",
     "text": [
      "300\n"
     ]
    },
    {
     "output_type": "execute_result",
     "data": {
      "text/plain": [
       "array([   0,    0,    0,    0,    0,    0,    0,    0,    0,    0,    0,\n",
       "          0,    0,    0,    0,    0,    0,    0,    0,    0,    0,    0,\n",
       "          0,    0,    0,    0,    0,    0,    0,    0,    0,    0,    0,\n",
       "          0,    0,    0,    0,    0,    0,    0,    0,    0,    0,    0,\n",
       "          0,    0,    0,    0,    0, 1567, 1902,  815,  322,   26,   62,\n",
       "          6,    1,    2, 1903,    6,   66,   77,  340,  281,   13,  492,\n",
       "        158,  532,   62,   66,   71,   13,    1,    2,  181,  167,  459,\n",
       "        401, 1604,   96,   62,   24,  121,   66,  464,   45,  322,   64,\n",
       "        118,  488,  459,  426,  455,  259,   71,   13,    1,    2,  516,\n",
       "         60,   24,  605,  121,   66,  259,   71,   16,  118,  969,  341,\n",
       "        413,   34, 2057, 1531,   77,   71,  582,    7,   12,   34,  118,\n",
       "       1008, 1183,   83,  110,   44,  244,   24,   13,    1,   12,   36,\n",
       "         18,  544, 1463,  423,  375,  232,  712,   61,   20,  448,  835,\n",
       "        284,   77,    3,  129,  102,   85,  835,   13,    1,    2,  778,\n",
       "         60,  534,   77,  121,  264,   85,   16,   10,  890,   53,   24,\n",
       "         13,    1,    2, 1210,  178,  270,  743,  183,   12,   34,  822,\n",
       "        664,   13,    1,    2,   32,   24,  534,   77,  121,   66,  941,\n",
       "         73,   16,   31,  570,  506,   44,   56,    6, 1830, 1423,   74,\n",
       "          3,   34, 1160, 1077,   73,   56,    6, 1830,  451,    7,   12,\n",
       "         34,   10,  890,    7,   44,  287, 1076,   15,   88,   23,  672,\n",
       "        678,  260,   14,  302,   30,  246,  389,   57,  239,  262,  237,\n",
       "         19,  101,  153,  206,  332,  625, 1464,  513,  165,   28,   35,\n",
       "         85,   79,  137,  208,   98,   19,   22,  113, 2150,  237,   14,\n",
       "        193, 1102,  222,   57,  245,  101,  173,  162,  173,   57,  318,\n",
       "        479,   67,   94,  223,   70,   93,  111,  331,  300,  177,  103,\n",
       "        204,  199,  320,  146,   65,  386,  994,   11,  431, 2151,   14,\n",
       "        120,  185,   46,   33,  100,  122,  213,  255,   11,  330,   22,\n",
       "        113,   14,  155], dtype=int32)"
      ]
     },
     "metadata": {},
     "execution_count": 44
    }
   ],
   "metadata": {}
  },
  {
   "cell_type": "markdown",
   "source": [
    "# 6. LSTM 돌리기 "
   ],
   "metadata": {}
  },
  {
   "cell_type": "code",
   "execution_count": 45,
   "source": [
    "from tensorflow.keras.layers import Embedding, Dense, LSTM, Bidirectional\n",
    "from tensorflow.keras.models import Sequential\n",
    "from tensorflow.keras.models import load_model\n",
    "from tensorflow.keras.callbacks import EarlyStopping, ModelCheckpoint\n",
    "from sklearn.model_selection import train_test_split\n",
    "from tensorflow.keras.utils import to_categorical"
   ],
   "outputs": [],
   "metadata": {}
  },
  {
   "cell_type": "code",
   "execution_count": 46,
   "source": [
    "X = X_data\n",
    "y = ct_data.id.tolist()"
   ],
   "outputs": [],
   "metadata": {}
  },
  {
   "cell_type": "code",
   "execution_count": 47,
   "source": [
    "X[1]"
   ],
   "outputs": [
    {
     "output_type": "execute_result",
     "data": {
      "text/plain": [
       "array([   0,    0,    0,    0,    0,    0,    0,    0,    0,    0,    0,\n",
       "          0,    0,    0,    0,    0,    0,    0,    0,    0,    0,    0,\n",
       "          0,    0,    0,    0,    0,    0,    0,    0,    0,    0,    0,\n",
       "          0,    0,    0,    0,    0,    0,    0,    0,    0,    0,    0,\n",
       "          0,    0,    0,    0,    0, 1567, 1902,  815,  322,   26,   62,\n",
       "          6,    1,    2, 1903,    6,   66,   77,  340,  281,   13,  492,\n",
       "        158,  532,   62,   66,   71,   13,    1,    2,  181,  167,  459,\n",
       "        401, 1604,   96,   62,   24,  121,   66,  464,   45,  322,   64,\n",
       "        118,  488,  459,  426,  455,  259,   71,   13,    1,    2,  516,\n",
       "         60,   24,  605,  121,   66,  259,   71,   16,  118,  969,  341,\n",
       "        413,   34, 2057, 1531,   77,   71,  582,    7,   12,   34,  118,\n",
       "       1008, 1183,   83,  110,   44,  244,   24,   13,    1,   12,   36,\n",
       "         18,  544, 1463,  423,  375,  232,  712,   61,   20,  448,  835,\n",
       "        284,   77,    3,  129,  102,   85,  835,   13,    1,    2,  778,\n",
       "         60,  534,   77,  121,  264,   85,   16,   10,  890,   53,   24,\n",
       "         13,    1,    2, 1210,  178,  270,  743,  183,   12,   34,  822,\n",
       "        664,   13,    1,    2,   32,   24,  534,   77,  121,   66,  941,\n",
       "         73,   16,   31,  570,  506,   44,   56,    6, 1830, 1423,   74,\n",
       "          3,   34, 1160, 1077,   73,   56,    6, 1830,  451,    7,   12,\n",
       "         34,   10,  890,    7,   44,  287, 1076,   15,   88,   23,  672,\n",
       "        678,  260,   14,  302,   30,  246,  389,   57,  239,  262,  237,\n",
       "         19,  101,  153,  206,  332,  625, 1464,  513,  165,   28,   35,\n",
       "         85,   79,  137,  208,   98,   19,   22,  113, 2150,  237,   14,\n",
       "        193, 1102,  222,   57,  245,  101,  173,  162,  173,   57,  318,\n",
       "        479,   67,   94,  223,   70,   93,  111,  331,  300,  177,  103,\n",
       "        204,  199,  320,  146,   65,  386,  994,   11,  431, 2151,   14,\n",
       "        120,  185,   46,   33,  100,  122,  213,  255,   11,  330,   22,\n",
       "        113,   14,  155], dtype=int32)"
      ]
     },
     "metadata": {},
     "execution_count": 47
    }
   ],
   "metadata": {}
  },
  {
   "cell_type": "code",
   "execution_count": 48,
   "source": [
    "y[1]"
   ],
   "outputs": [
    {
     "output_type": "execute_result",
     "data": {
      "text/plain": [
       "'019'"
      ]
     },
     "metadata": {},
     "execution_count": 48
    }
   ],
   "metadata": {}
  },
  {
   "cell_type": "code",
   "execution_count": 49,
   "source": [
    "print(len(X),len(y))"
   ],
   "outputs": [
    {
     "output_type": "stream",
     "name": "stdout",
     "text": [
      "2206 2206\n"
     ]
    }
   ],
   "metadata": {}
  },
  {
   "cell_type": "code",
   "execution_count": 50,
   "source": [
    "y = to_categorical(y)"
   ],
   "outputs": [],
   "metadata": {}
  },
  {
   "cell_type": "code",
   "execution_count": 51,
   "source": [
    "print(X.shape, y.shape)"
   ],
   "outputs": [
    {
     "output_type": "stream",
     "name": "stdout",
     "text": [
      "(2206, 300) (2206, 309)\n"
     ]
    }
   ],
   "metadata": {}
  },
  {
   "cell_type": "code",
   "execution_count": 52,
   "source": [
    "x_train, x_test, y_train, y_test = train_test_split(X, y,test_size=0.3, random_state=777, stratify=y) #추천 한 번밖에 안된 애들 있어서 stratify 안됨"
   ],
   "outputs": [],
   "metadata": {}
  },
  {
   "cell_type": "code",
   "execution_count": 53,
   "source": [
    "num_class = int(max(ct_data.id)) + 1"
   ],
   "outputs": [],
   "metadata": {}
  },
  {
   "cell_type": "code",
   "execution_count": 54,
   "source": [
    "from tensorflow.keras.layers import LSTM"
   ],
   "outputs": [],
   "metadata": {}
  },
  {
   "cell_type": "code",
   "execution_count": 55,
   "source": [
    "model = Sequential()\n",
    "model.add(Embedding(vocab_size, max_len))\n",
    "model.add(Bidirectional(LSTM(max_len)))\n",
    "model.add(Dense(num_class, activation='softmax'))\n",
    "\n",
    "model.summary()"
   ],
   "outputs": [
    {
     "output_type": "stream",
     "name": "stdout",
     "text": [
      "Model: \"sequential\"\n",
      "_________________________________________________________________\n",
      "Layer (type)                 Output Shape              Param #   \n",
      "=================================================================\n",
      "embedding (Embedding)        (None, None, 300)         681300    \n",
      "_________________________________________________________________\n",
      "bidirectional (Bidirectional (None, 600)               1442400   \n",
      "_________________________________________________________________\n",
      "dense (Dense)                (None, 309)               185709    \n",
      "=================================================================\n",
      "Total params: 2,309,409\n",
      "Trainable params: 2,309,409\n",
      "Non-trainable params: 0\n",
      "_________________________________________________________________\n"
     ]
    }
   ],
   "metadata": {}
  },
  {
   "cell_type": "code",
   "execution_count": 56,
   "source": [
    "es = EarlyStopping(monitor='val_loss', mode='min', verbose=1, patience=6)\n",
    "mc = ModelCheckpoint('ct_model_lstm.h5', monitor='val_acc', mode='max', verbose=1, save_best_only=True)"
   ],
   "outputs": [],
   "metadata": {}
  },
  {
   "cell_type": "code",
   "execution_count": 57,
   "source": [
    "model.compile(optimizer='adam', loss='categorical_crossentropy', metrics=['acc'])\n",
    "history = model.fit(x_train, y_train, epochs=10, callbacks=[es, mc], batch_size=32, validation_split=0.2)\n",
    "\n",
    "print(\"테스트 셋 체크\")\n",
    "loaded_model = load_model('ct_model_lstm.h5')\n",
    "print(\"\\n 테스트 정확도: %.4f\" % (loaded_model.evaluate(x_test, y_test)[1]))"
   ],
   "outputs": [
    {
     "output_type": "stream",
     "name": "stdout",
     "text": [
      "Epoch 1/10\n",
      "39/39 [==============================] - 1101s 29s/step - loss: 5.5250 - acc: 0.0453 - val_loss: 4.4742 - val_acc: 0.1165\n",
      "\n",
      "Epoch 00001: val_acc improved from -inf to 0.11650, saving model to ct_model_lstm.h5\n",
      "Epoch 2/10\n",
      "39/39 [==============================] - 1455s 37s/step - loss: 4.0695 - acc: 0.1931 - val_loss: 3.0321 - val_acc: 0.4660\n",
      "\n",
      "Epoch 00002: val_acc improved from 0.11650 to 0.46602, saving model to ct_model_lstm.h5\n",
      "Epoch 3/10\n",
      "39/39 [==============================] - 1428s 37s/step - loss: 2.4631 - acc: 0.5514 - val_loss: 1.7593 - val_acc: 0.6926\n",
      "\n",
      "Epoch 00003: val_acc improved from 0.46602 to 0.69256, saving model to ct_model_lstm.h5\n",
      "Epoch 4/10\n",
      "39/39 [==============================] - 1414s 36s/step - loss: 1.3987 - acc: 0.7494 - val_loss: 1.1542 - val_acc: 0.8058\n",
      "\n",
      "Epoch 00004: val_acc improved from 0.69256 to 0.80583, saving model to ct_model_lstm.h5\n",
      "Epoch 5/10\n",
      "39/39 [==============================] - 978s 25s/step - loss: 0.7495 - acc: 0.8744 - val_loss: 0.7088 - val_acc: 0.9029\n",
      "\n",
      "Epoch 00005: val_acc improved from 0.80583 to 0.90291, saving model to ct_model_lstm.h5\n",
      "Epoch 6/10\n",
      "39/39 [==============================] - 1010s 26s/step - loss: 0.4437 - acc: 0.9348 - val_loss: 0.5084 - val_acc: 0.9385\n",
      "\n",
      "Epoch 00006: val_acc improved from 0.90291 to 0.93851, saving model to ct_model_lstm.h5\n",
      "Epoch 7/10\n",
      "39/39 [==============================] - 962s 25s/step - loss: 0.2599 - acc: 0.9648 - val_loss: 0.4474 - val_acc: 0.9450\n",
      "\n",
      "Epoch 00007: val_acc improved from 0.93851 to 0.94498, saving model to ct_model_lstm.h5\n",
      "Epoch 8/10\n",
      "39/39 [==============================] - 948s 24s/step - loss: 0.2285 - acc: 0.9727 - val_loss: 0.5613 - val_acc: 0.9320\n",
      "\n",
      "Epoch 00008: val_acc did not improve from 0.94498\n",
      "Epoch 9/10\n",
      "39/39 [==============================] - 743s 19s/step - loss: 0.2433 - acc: 0.9677 - val_loss: 0.3408 - val_acc: 0.9709\n",
      "\n",
      "Epoch 00009: val_acc improved from 0.94498 to 0.97087, saving model to ct_model_lstm.h5\n",
      "Epoch 10/10\n",
      "39/39 [==============================] - 238s 6s/step - loss: 0.1028 - acc: 0.9899 - val_loss: 0.2836 - val_acc: 0.9806\n",
      "\n",
      "Epoch 00010: val_acc improved from 0.97087 to 0.98058, saving model to ct_model_lstm.h5\n",
      "테스트 셋 체크\n",
      "21/21 [==============================] - 7s 319ms/step - loss: 0.1739 - acc: 0.9894\n",
      "\n",
      " 테스트 정확도: 0.9894\n"
     ]
    }
   ],
   "metadata": {}
  },
  {
   "cell_type": "markdown",
   "source": [
    "Cannot convert a symbolic Tensor -> numpy 버전 1.19.5로 바꿔줌\n",
    "\n",
    "https://wikidocs.net/45101"
   ],
   "metadata": {}
  },
  {
   "cell_type": "code",
   "execution_count": 58,
   "source": [
    "# list all data in history\n",
    "print(history.history.keys())\n",
    "# summarize history for accuracy\n",
    "plt.plot(history.history['acc'])\n",
    "plt.plot(history.history['val_acc'])\n",
    "plt.title('model accuracy')\n",
    "plt.ylabel('accuracy')\n",
    "plt.xlabel('epoch')\n",
    "plt.legend(['train', 'test'], loc='upper left')\n",
    "plt.show()\n",
    "# summarize history for loss\n",
    "plt.plot(history.history['loss'])\n",
    "plt.plot(history.history['val_loss'])\n",
    "plt.title('model loss')\n",
    "plt.ylabel('loss')\n",
    "plt.xlabel('epoch')\n",
    "plt.legend(['train', 'test'], loc='upper left')\n",
    "plt.show()"
   ],
   "outputs": [
    {
     "output_type": "stream",
     "name": "stdout",
     "text": [
      "dict_keys(['loss', 'acc', 'val_loss', 'val_acc'])\n"
     ]
    },
    {
     "output_type": "display_data",
     "data": {
      "image/png": "[encoded data removed]",
      "text/plain": [
       "<Figure size 640x480 with 1 Axes>"
      ]
     },
     "metadata": {}
    },
    {
     "output_type": "display_data",
     "data": {
      "image/png": "[encoded data removed]",
      "text/plain": [
       "<Figure size 640x480 with 1 Axes>"
      ]
     },
     "metadata": {}
    }
   ],
   "metadata": {}
  },
  {
   "cell_type": "code",
   "execution_count": null,
   "source": [],
   "outputs": [],
   "metadata": {}
  }
 ],
 "metadata": {
  "orig_nbformat": 4,
  "language_info": {
   "name": "python",
   "version": "3.8.0",
   "mimetype": "text/x-python",
   "codemirror_mode": {
    "name": "ipython",
    "version": 3
   },
   "pygments_lexer": "ipython3",
   "nbconvert_exporter": "python",
   "file_extension": ".py"
  },
  "kernelspec": {
   "name": "python3",
   "display_name": "Python 3.8.0 64-bit ('sj': conda)"
  },
  "interpreter": {
   "hash": "022eb7dab1e64abfe7845a82597d3156ee0a5d78294cf462a778b063942c3de6"
  }
 },
 "nbformat": 4,
 "nbformat_minor": 2
}