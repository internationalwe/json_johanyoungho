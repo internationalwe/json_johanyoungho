{
 "cells": [
  {
   "cell_type": "code",
   "execution_count": 1,
   "source": [
    "import pandas as pd\n",
    "\n",
    "ddata = pd.read_csv(\"./data/ddata.txt\", encoding=\"euc-kr\", sep=\"\\t\", names=[\"num\",\"speaker\",\"contents\",\"tags\"])\n",
    "mdata = pd.read_csv(\"./data/mdata.txt\", encoding=\"euc-kr\", sep=\"\\t\", names=[\"id\",\"part\",\"category\",\"exptype\",\"exp\"])\n",
    "\n",
    "ddata.head()"
   ],
   "outputs": [
    {
     "output_type": "execute_result",
     "data": {
      "text/html": [
       "<div>\n",
       "<style scoped>\n",
       "    .dataframe tbody tr th:only-of-type {\n",
       "        vertical-align: middle;\n",
       "    }\n",
       "\n",
       "    .dataframe tbody tr th {\n",
       "        vertical-align: top;\n",
       "    }\n",
       "\n",
       "    .dataframe thead th {\n",
       "        text-align: right;\n",
       "    }\n",
       "</style>\n",
       "<table border=\"1\" class=\"dataframe\">\n",
       "  <thead>\n",
       "    <tr style=\"text-align: right;\">\n",
       "      <th></th>\n",
       "      <th>num</th>\n",
       "      <th>speaker</th>\n",
       "      <th>contents</th>\n",
       "      <th>tags</th>\n",
       "    </tr>\n",
       "  </thead>\n",
       "  <tbody>\n",
       "    <tr>\n",
       "      <th>0</th>\n",
       "      <td>0</td>\n",
       "      <td>&lt;CO&gt;</td>\n",
       "      <td>어서오세요. 코디봇입니다. 무엇을 도와드릴까요?</td>\n",
       "      <td>INTRO</td>\n",
       "    </tr>\n",
       "    <tr>\n",
       "      <th>1</th>\n",
       "      <td>1</td>\n",
       "      <td>&lt;US&gt;</td>\n",
       "      <td>처음 대학교 들어가는데 입을 옷 코디해주세요.</td>\n",
       "      <td>NaN</td>\n",
       "    </tr>\n",
       "    <tr>\n",
       "      <th>2</th>\n",
       "      <td>2</td>\n",
       "      <td>&lt;CO&gt;</td>\n",
       "      <td>신입생 코디에 어울리게 화사한 스웨터를 추천해드릴게요.</td>\n",
       "      <td>EXP_RES_SITUATION;EXP_RES_DESCRIPTION</td>\n",
       "    </tr>\n",
       "    <tr>\n",
       "      <th>3</th>\n",
       "      <td>3</td>\n",
       "      <td>&lt;AC&gt;</td>\n",
       "      <td>SW-009</td>\n",
       "      <td>NaN</td>\n",
       "    </tr>\n",
       "    <tr>\n",
       "      <th>4</th>\n",
       "      <td>4</td>\n",
       "      <td>&lt;US&gt;</td>\n",
       "      <td>이 옷에 어울리는 치마로 추천해주세요.</td>\n",
       "      <td>USER_SUCCESS</td>\n",
       "    </tr>\n",
       "  </tbody>\n",
       "</table>\n",
       "</div>"
      ],
      "text/plain": [
       "   num  ...                                   tags\n",
       "0    0  ...                                  INTRO\n",
       "1    1  ...                                    NaN\n",
       "2    2  ...  EXP_RES_SITUATION;EXP_RES_DESCRIPTION\n",
       "3    3  ...                                    NaN\n",
       "4    4  ...                           USER_SUCCESS\n",
       "\n",
       "[5 rows x 4 columns]"
      ]
     },
     "metadata": {},
     "execution_count": 1
    }
   ],
   "metadata": {}
  },
  {
   "cell_type": "markdown",
   "source": [
    "# 1. 전체 대화셋 개수 카운트"
   ],
   "metadata": {}
  },
  {
   "cell_type": "code",
   "execution_count": 2,
   "source": [
    "dial_num = 0\n",
    "\n",
    "for i in range(1, len(ddata)):\n",
    "    if ddata.loc[i, \"num\"] == 0:\n",
    "        dial_num += 1\n",
    "print(\"총 대화셋 수: \",dial_num)"
   ],
   "outputs": [
    {
     "output_type": "stream",
     "name": "stdout",
     "text": [
      "총 대화셋 수:  7235\n"
     ]
    }
   ],
   "metadata": {}
  },
  {
   "cell_type": "markdown",
   "source": [
    "# 2. Mdata 합치기"
   ],
   "metadata": {}
  },
  {
   "cell_type": "markdown",
   "source": [
    "## - Part 살려서 합치기"
   ],
   "metadata": {}
  },
  {
   "cell_type": "code",
   "execution_count": 3,
   "source": [
    "c_mdata = pd.DataFrame({\"id\":[0],\"exp\":[None]})\n",
    "c_mdata.drop(0, axis=0, inplace=True)\n",
    "c_mdata"
   ],
   "outputs": [
    {
     "output_type": "execute_result",
     "data": {
      "text/html": [
       "<div>\n",
       "<style scoped>\n",
       "    .dataframe tbody tr th:only-of-type {\n",
       "        vertical-align: middle;\n",
       "    }\n",
       "\n",
       "    .dataframe tbody tr th {\n",
       "        vertical-align: top;\n",
       "    }\n",
       "\n",
       "    .dataframe thead th {\n",
       "        text-align: right;\n",
       "    }\n",
       "</style>\n",
       "<table border=\"1\" class=\"dataframe\">\n",
       "  <thead>\n",
       "    <tr style=\"text-align: right;\">\n",
       "      <th></th>\n",
       "      <th>id</th>\n",
       "      <th>exp</th>\n",
       "    </tr>\n",
       "  </thead>\n",
       "  <tbody>\n",
       "  </tbody>\n",
       "</table>\n",
       "</div>"
      ],
      "text/plain": [
       "Empty DataFrame\n",
       "Columns: [id, exp]\n",
       "Index: []"
      ]
     },
     "metadata": {},
     "execution_count": 3
    }
   ],
   "metadata": {}
  },
  {
   "cell_type": "code",
   "execution_count": 4,
   "source": [
    "id = \"\"\n",
    "idx = 0\n",
    "for i in range(len(mdata)):\n",
    "    if id == mdata.loc[i, \"id\"]:\n",
    "        c_mdata.loc[c_mdata.index[(c_mdata[\"id\"] == id)].tolist().pop(),\"exp\"] = c_mdata.loc[c_mdata.index[(c_mdata[\"id\"] == id)].tolist().pop(),\"exp\"] + \" \" + mdata.loc[i, \"exp\"]\n",
    "    \n",
    "    else:\n",
    "        id = mdata.loc[i, \"id\"]\n",
    "        c_mdata.loc[i, \"id\"] = id\n",
    "        c_mdata.loc[i, \"exp\"] = mdata.loc[i, \"exp\"]\n",
    "\n",
    "c_mdata.head()"
   ],
   "outputs": [
    {
     "output_type": "execute_result",
     "data": {
      "text/html": [
       "<div>\n",
       "<style scoped>\n",
       "    .dataframe tbody tr th:only-of-type {\n",
       "        vertical-align: middle;\n",
       "    }\n",
       "\n",
       "    .dataframe tbody tr th {\n",
       "        vertical-align: top;\n",
       "    }\n",
       "\n",
       "    .dataframe thead th {\n",
       "        text-align: right;\n",
       "    }\n",
       "</style>\n",
       "<table border=\"1\" class=\"dataframe\">\n",
       "  <thead>\n",
       "    <tr style=\"text-align: right;\">\n",
       "      <th></th>\n",
       "      <th>id</th>\n",
       "      <th>exp</th>\n",
       "    </tr>\n",
       "  </thead>\n",
       "  <tbody>\n",
       "    <tr>\n",
       "      <th>0</th>\n",
       "      <td>BL-001</td>\n",
       "      <td>단추 여밈의 전체 오픈형 스탠드 칼라와 브이넥 네크라인의 결합스타일 손목까지 내려오...</td>\n",
       "    </tr>\n",
       "    <tr>\n",
       "      <th>20</th>\n",
       "      <td>BL-002</td>\n",
       "      <td>넓은 셔츠칼라 네크라인 앞중심에 반 오픈 끈여밈있는 스타일 드롭숄더 퍼프형 소매로 ...</td>\n",
       "    </tr>\n",
       "    <tr>\n",
       "      <th>38</th>\n",
       "      <td>BL-003</td>\n",
       "      <td>앞 중심에 단추 여밈 칼라가 없는 넓고 깊게 파인 브이넥 엉덩이 밑으로 내려오는 긴...</td>\n",
       "    </tr>\n",
       "    <tr>\n",
       "      <th>63</th>\n",
       "      <td>BL-004</td>\n",
       "      <td>앞중심에 단추 여밈 칼라가 없는 라운드넥으로 골반 위에서 끝나는 짧은 기장 손목, ...</td>\n",
       "    </tr>\n",
       "    <tr>\n",
       "      <th>84</th>\n",
       "      <td>BL-005</td>\n",
       "      <td>앞단추 여밈의 전체 오픈형 칼라가 없는 라운드넥크라인 엉덩이 위에서 끝나는 짧은 기...</td>\n",
       "    </tr>\n",
       "  </tbody>\n",
       "</table>\n",
       "</div>"
      ],
      "text/plain": [
       "         id                                                exp\n",
       "0   BL-001   단추 여밈의 전체 오픈형 스탠드 칼라와 브이넥 네크라인의 결합스타일 손목까지 내려오...\n",
       "20  BL-002   넓은 셔츠칼라 네크라인 앞중심에 반 오픈 끈여밈있는 스타일 드롭숄더 퍼프형 소매로 ...\n",
       "38  BL-003   앞 중심에 단추 여밈 칼라가 없는 넓고 깊게 파인 브이넥 엉덩이 밑으로 내려오는 긴...\n",
       "63  BL-004   앞중심에 단추 여밈 칼라가 없는 라운드넥으로 골반 위에서 끝나는 짧은 기장 손목, ...\n",
       "84  BL-005   앞단추 여밈의 전체 오픈형 칼라가 없는 라운드넥크라인 엉덩이 위에서 끝나는 짧은 기..."
      ]
     },
     "metadata": {},
     "execution_count": 4
    }
   ],
   "metadata": {}
  },
  {
   "cell_type": "code",
   "execution_count": 5,
   "source": [
    "for i in range(len(c_mdata)): # id 뒤에 공백 없애기\n",
    "    c_mdata.iloc[i].id = c_mdata.iloc[i].id.strip()\n",
    "\n",
    "print(c_mdata.iloc[0].id)\n",
    "c_mdata.reset_index(drop=True,inplace=True)\n",
    "c_mdata.head()"
   ],
   "outputs": [
    {
     "output_type": "stream",
     "name": "stdout",
     "text": [
      "BL-001\n"
     ]
    },
    {
     "output_type": "execute_result",
     "data": {
      "text/html": [
       "<div>\n",
       "<style scoped>\n",
       "    .dataframe tbody tr th:only-of-type {\n",
       "        vertical-align: middle;\n",
       "    }\n",
       "\n",
       "    .dataframe tbody tr th {\n",
       "        vertical-align: top;\n",
       "    }\n",
       "\n",
       "    .dataframe thead th {\n",
       "        text-align: right;\n",
       "    }\n",
       "</style>\n",
       "<table border=\"1\" class=\"dataframe\">\n",
       "  <thead>\n",
       "    <tr style=\"text-align: right;\">\n",
       "      <th></th>\n",
       "      <th>id</th>\n",
       "      <th>exp</th>\n",
       "    </tr>\n",
       "  </thead>\n",
       "  <tbody>\n",
       "    <tr>\n",
       "      <th>0</th>\n",
       "      <td>BL-001</td>\n",
       "      <td>단추 여밈의 전체 오픈형 스탠드 칼라와 브이넥 네크라인의 결합스타일 손목까지 내려오...</td>\n",
       "    </tr>\n",
       "    <tr>\n",
       "      <th>1</th>\n",
       "      <td>BL-002</td>\n",
       "      <td>넓은 셔츠칼라 네크라인 앞중심에 반 오픈 끈여밈있는 스타일 드롭숄더 퍼프형 소매로 ...</td>\n",
       "    </tr>\n",
       "    <tr>\n",
       "      <th>2</th>\n",
       "      <td>BL-003</td>\n",
       "      <td>앞 중심에 단추 여밈 칼라가 없는 넓고 깊게 파인 브이넥 엉덩이 밑으로 내려오는 긴...</td>\n",
       "    </tr>\n",
       "    <tr>\n",
       "      <th>3</th>\n",
       "      <td>BL-004</td>\n",
       "      <td>앞중심에 단추 여밈 칼라가 없는 라운드넥으로 골반 위에서 끝나는 짧은 기장 손목, ...</td>\n",
       "    </tr>\n",
       "    <tr>\n",
       "      <th>4</th>\n",
       "      <td>BL-005</td>\n",
       "      <td>앞단추 여밈의 전체 오픈형 칼라가 없는 라운드넥크라인 엉덩이 위에서 끝나는 짧은 기...</td>\n",
       "    </tr>\n",
       "  </tbody>\n",
       "</table>\n",
       "</div>"
      ],
      "text/plain": [
       "       id                                                exp\n",
       "0  BL-001  단추 여밈의 전체 오픈형 스탠드 칼라와 브이넥 네크라인의 결합스타일 손목까지 내려오...\n",
       "1  BL-002  넓은 셔츠칼라 네크라인 앞중심에 반 오픈 끈여밈있는 스타일 드롭숄더 퍼프형 소매로 ...\n",
       "2  BL-003  앞 중심에 단추 여밈 칼라가 없는 넓고 깊게 파인 브이넥 엉덩이 밑으로 내려오는 긴...\n",
       "3  BL-004  앞중심에 단추 여밈 칼라가 없는 라운드넥으로 골반 위에서 끝나는 짧은 기장 손목, ...\n",
       "4  BL-005  앞단추 여밈의 전체 오픈형 칼라가 없는 라운드넥크라인 엉덩이 위에서 끝나는 짧은 기..."
      ]
     },
     "metadata": {},
     "execution_count": 5
    }
   ],
   "metadata": {}
  },
  {
   "cell_type": "markdown",
   "source": [
    "# 3. NaN, Null 값 확인"
   ],
   "metadata": {}
  },
  {
   "cell_type": "code",
   "execution_count": 6,
   "source": [
    "ddata.drop(ddata.index[ddata.tags == \"INTRO\"].tolist(), axis=0, inplace=True)\n",
    "ddata.reset_index(drop=True, inplace=True)\n",
    "ddata[ddata.tags == \"INTRO\"]"
   ],
   "outputs": [
    {
     "output_type": "execute_result",
     "data": {
      "text/html": [
       "<div>\n",
       "<style scoped>\n",
       "    .dataframe tbody tr th:only-of-type {\n",
       "        vertical-align: middle;\n",
       "    }\n",
       "\n",
       "    .dataframe tbody tr th {\n",
       "        vertical-align: top;\n",
       "    }\n",
       "\n",
       "    .dataframe thead th {\n",
       "        text-align: right;\n",
       "    }\n",
       "</style>\n",
       "<table border=\"1\" class=\"dataframe\">\n",
       "  <thead>\n",
       "    <tr style=\"text-align: right;\">\n",
       "      <th></th>\n",
       "      <th>num</th>\n",
       "      <th>speaker</th>\n",
       "      <th>contents</th>\n",
       "      <th>tags</th>\n",
       "    </tr>\n",
       "  </thead>\n",
       "  <tbody>\n",
       "  </tbody>\n",
       "</table>\n",
       "</div>"
      ],
      "text/plain": [
       "Empty DataFrame\n",
       "Columns: [num, speaker, contents, tags]\n",
       "Index: []"
      ]
     },
     "metadata": {},
     "execution_count": 6
    }
   ],
   "metadata": {}
  },
  {
   "cell_type": "code",
   "execution_count": 7,
   "source": [
    "ddata.isnull().sum()"
   ],
   "outputs": [
    {
     "output_type": "execute_result",
     "data": {
      "text/plain": [
       "num             0\n",
       "speaker         0\n",
       "contents        0\n",
       "tags        51927\n",
       "dtype: int64"
      ]
     },
     "metadata": {},
     "execution_count": 7
    }
   ],
   "metadata": {}
  },
  {
   "cell_type": "code",
   "execution_count": 8,
   "source": [
    "ddata.isna().sum()"
   ],
   "outputs": [
    {
     "output_type": "execute_result",
     "data": {
      "text/plain": [
       "num             0\n",
       "speaker         0\n",
       "contents        0\n",
       "tags        51927\n",
       "dtype: int64"
      ]
     },
     "metadata": {},
     "execution_count": 8
    }
   ],
   "metadata": {}
  },
  {
   "cell_type": "code",
   "execution_count": 9,
   "source": [
    "ddata.fillna(\"\", inplace=True)\n",
    "ddata.isna().sum()"
   ],
   "outputs": [
    {
     "output_type": "execute_result",
     "data": {
      "text/plain": [
       "num         0\n",
       "speaker     0\n",
       "contents    0\n",
       "tags        0\n",
       "dtype: int64"
      ]
     },
     "metadata": {},
     "execution_count": 9
    }
   ],
   "metadata": {}
  },
  {
   "cell_type": "code",
   "execution_count": 10,
   "source": [
    "mdata.isnull().sum()"
   ],
   "outputs": [
    {
     "output_type": "execute_result",
     "data": {
      "text/plain": [
       "id          0\n",
       "part        0\n",
       "category    0\n",
       "exptype     0\n",
       "exp         0\n",
       "dtype: int64"
      ]
     },
     "metadata": {},
     "execution_count": 10
    }
   ],
   "metadata": {}
  },
  {
   "cell_type": "code",
   "execution_count": 11,
   "source": [
    "c_mdata.isnull().sum()"
   ],
   "outputs": [
    {
     "output_type": "execute_result",
     "data": {
      "text/plain": [
       "id     0\n",
       "exp    0\n",
       "dtype: int64"
      ]
     },
     "metadata": {},
     "execution_count": 11
    }
   ],
   "metadata": {}
  },
  {
   "cell_type": "markdown",
   "source": [
    "# 4. 추천 성공 의상 아이디 종류 및 빈도 카운트 "
   ],
   "metadata": {}
  },
  {
   "cell_type": "markdown",
   "source": [
    "## 한 번에 추천해도 실패하면 전부 실패로 달기"
   ],
   "metadata": {}
  },
  {
   "cell_type": "code",
   "execution_count": 12,
   "source": [
    "c_data = pd.DataFrame({\"contents\":[None], \"id\":[\"xx-xxx\"]})\n",
    "c_data.drop(0,axis=0,inplace=True)\n",
    "c_data.head()"
   ],
   "outputs": [
    {
     "output_type": "execute_result",
     "data": {
      "text/html": [
       "<div>\n",
       "<style scoped>\n",
       "    .dataframe tbody tr th:only-of-type {\n",
       "        vertical-align: middle;\n",
       "    }\n",
       "\n",
       "    .dataframe tbody tr th {\n",
       "        vertical-align: top;\n",
       "    }\n",
       "\n",
       "    .dataframe thead th {\n",
       "        text-align: right;\n",
       "    }\n",
       "</style>\n",
       "<table border=\"1\" class=\"dataframe\">\n",
       "  <thead>\n",
       "    <tr style=\"text-align: right;\">\n",
       "      <th></th>\n",
       "      <th>contents</th>\n",
       "      <th>id</th>\n",
       "    </tr>\n",
       "  </thead>\n",
       "  <tbody>\n",
       "  </tbody>\n",
       "</table>\n",
       "</div>"
      ],
      "text/plain": [
       "Empty DataFrame\n",
       "Columns: [contents, id]\n",
       "Index: []"
      ]
     },
     "metadata": {},
     "execution_count": 12
    }
   ],
   "metadata": {}
  },
  {
   "cell_type": "markdown",
   "source": [
    "<코드 동작 원리>\n",
    "<br>\n",
    "\n",
    "대화문 하나씩 받아온 다음\n",
    "- AC 태그 문장이면 일단 의상 변수에 저장,\n",
    "- user_success 태그 문장이면\n",
    "\n",
    "   - 변수에 저장된 의상이 하나면\n",
    "\n",
    "      - 바로 대화문 변수랑 의상 변수 및 의상 메타데이터 합쳐서 저장 -> 레이블(id 컬럼에 저장)은 의상 코드가 됨\n",
    "\n",
    "   - 변수에 저장된 의상의 여러 개면\n",
    "\n",
    "      - 의상을 하나의 코드 단위로 쪼개서 대화문 변수랑 의상 메타데이터 합쳐서 저장\n",
    "      \n",
    "-  둘 다 아니고 일반 대화문이면 대화문 변수에 저장"
   ],
   "metadata": {}
  },
  {
   "cell_type": "code",
   "execution_count": 13,
   "source": [
    "dial = ddata.loc[0, \"contents\"].strip()\n",
    "ac = \"\"\n",
    "\n",
    "for i in range(1,len(ddata)):\n",
    "    cur_sen = ddata.loc[i,\"contents\"].strip()\n",
    "\n",
    "    if ddata.loc[i, \"num\"] > ddata.loc[i-1, \"num\"]: # 이전 대화셋에 포함된 문장인지 확인\n",
    "        \n",
    "        if ddata.loc[i,\"speaker\"] == \"<AC>\": # case 1. 의상 아이디가 나온 경우\n",
    "            if len(ac) > 1:\n",
    "                ac = ac + \" \" + cur_sen # 의상 아이디 저장\n",
    "            else:\n",
    "                ac = cur_sen\n",
    "\n",
    "        elif \"USER_SUCCESS\" == ddata.loc[i,\"tags\"]: # case 2. USER_SUCCESS 태그가 나온 경우\n",
    "            if 0 < len(ac) < 7: # 의상을 하나만 추천한 경우\n",
    "                dial = dial + \" \" + ac + \" \" + cur_sen\n",
    "                c_data.loc[i, \"contents\"] =  dial + \" \" + c_mdata.loc[c_mdata.id == ac].exp.values[0]\n",
    "                c_data.loc[i, \"id\"] = ac\n",
    "                ac = \"\"\n",
    "\n",
    "            elif len(ac) == 0:\n",
    "                dial = dial + \" \" + cur_sen\n",
    "\n",
    "            else: # 의상을 한 번에 여러 개 추천한 경우\n",
    "                idx_cnt = 0\n",
    "                for one_ac in ac.split():\n",
    "                    c_data.loc[i + idx_cnt, \"contents\"] =  dial + \" \" + one_ac + \" \"+ cur_sen + \" \" + c_mdata.loc[c_mdata.id == one_ac].exp.values[0]\n",
    "                    c_data.loc[i + idx_cnt, \"id\"] = one_ac\n",
    "                    idx_cnt += 1\n",
    "                dial = dial + \" \" + ac + \" \" + cur_sen    \n",
    "                ac = \"\"\n",
    "        \n",
    "        elif \"USER_FAIL\" in ddata.loc[i,\"tags\"]:\n",
    "            dial = dial + \" \" + ac + \" \" + cur_sen\n",
    "            ac = \"\"\n",
    "\n",
    "        else: # case 3. 그냥 대화문인 경우\n",
    "            dial = dial + \" \" + cur_sen\n",
    "    \n",
    "    else: #새로운 대화셋 시작이면 초기화\n",
    "        dial = cur_sen\n",
    "        ac = \"\""
   ],
   "outputs": [],
   "metadata": {}
  },
  {
   "cell_type": "code",
   "execution_count": 14,
   "source": [
    "print(\"전체 데이터 수: \", len(c_data))\n",
    "c_data.head()"
   ],
   "outputs": [
    {
     "output_type": "stream",
     "name": "stdout",
     "text": [
      "전체 데이터 수:  34303\n"
     ]
    },
    {
     "output_type": "execute_result",
     "data": {
      "text/html": [
       "<div>\n",
       "<style scoped>\n",
       "    .dataframe tbody tr th:only-of-type {\n",
       "        vertical-align: middle;\n",
       "    }\n",
       "\n",
       "    .dataframe tbody tr th {\n",
       "        vertical-align: top;\n",
       "    }\n",
       "\n",
       "    .dataframe thead th {\n",
       "        text-align: right;\n",
       "    }\n",
       "</style>\n",
       "<table border=\"1\" class=\"dataframe\">\n",
       "  <thead>\n",
       "    <tr style=\"text-align: right;\">\n",
       "      <th></th>\n",
       "      <th>contents</th>\n",
       "      <th>id</th>\n",
       "    </tr>\n",
       "  </thead>\n",
       "  <tbody>\n",
       "    <tr>\n",
       "      <th>3</th>\n",
       "      <td>처음 대학교 들어가는데 입을 옷 코디해주세요. 신입생 코디에 어울리게 화사한 스웨터...</td>\n",
       "      <td>SW-009</td>\n",
       "    </tr>\n",
       "    <tr>\n",
       "      <th>12</th>\n",
       "      <td>처음 대학교 들어가는데 입을 옷 코디해주세요. 신입생 코디에 어울리게 화사한 스웨터...</td>\n",
       "      <td>SK-053</td>\n",
       "    </tr>\n",
       "    <tr>\n",
       "      <th>17</th>\n",
       "      <td>처음 대학교 들어가는데 입을 옷 코디해주세요. 신입생 코디에 어울리게 화사한 스웨터...</td>\n",
       "      <td>CT-019</td>\n",
       "    </tr>\n",
       "    <tr>\n",
       "      <th>22</th>\n",
       "      <td>처음 대학교 들어가는데 입을 옷 코디해주세요. 신입생 코디에 어울리게 화사한 스웨터...</td>\n",
       "      <td>SE-039</td>\n",
       "    </tr>\n",
       "    <tr>\n",
       "      <th>26</th>\n",
       "      <td>처음 대학교 들어가는데 입을 옷 코디해주세요. 신입생 코디에 어울리게 화사한 스웨터...</td>\n",
       "      <td>CT-019</td>\n",
       "    </tr>\n",
       "  </tbody>\n",
       "</table>\n",
       "</div>"
      ],
      "text/plain": [
       "                                             contents      id\n",
       "3   처음 대학교 들어가는데 입을 옷 코디해주세요. 신입생 코디에 어울리게 화사한 스웨터...  SW-009\n",
       "12  처음 대학교 들어가는데 입을 옷 코디해주세요. 신입생 코디에 어울리게 화사한 스웨터...  SK-053\n",
       "17  처음 대학교 들어가는데 입을 옷 코디해주세요. 신입생 코디에 어울리게 화사한 스웨터...  CT-019\n",
       "22  처음 대학교 들어가는데 입을 옷 코디해주세요. 신입생 코디에 어울리게 화사한 스웨터...  SE-039\n",
       "26  처음 대학교 들어가는데 입을 옷 코디해주세요. 신입생 코디에 어울리게 화사한 스웨터...  CT-019"
      ]
     },
     "metadata": {},
     "execution_count": 14
    }
   ],
   "metadata": {}
  },
  {
   "cell_type": "code",
   "execution_count": 15,
   "source": [
    "c_data.reset_index(drop=True ,inplace=True)\n",
    "c_data.head()"
   ],
   "outputs": [
    {
     "output_type": "execute_result",
     "data": {
      "text/html": [
       "<div>\n",
       "<style scoped>\n",
       "    .dataframe tbody tr th:only-of-type {\n",
       "        vertical-align: middle;\n",
       "    }\n",
       "\n",
       "    .dataframe tbody tr th {\n",
       "        vertical-align: top;\n",
       "    }\n",
       "\n",
       "    .dataframe thead th {\n",
       "        text-align: right;\n",
       "    }\n",
       "</style>\n",
       "<table border=\"1\" class=\"dataframe\">\n",
       "  <thead>\n",
       "    <tr style=\"text-align: right;\">\n",
       "      <th></th>\n",
       "      <th>contents</th>\n",
       "      <th>id</th>\n",
       "    </tr>\n",
       "  </thead>\n",
       "  <tbody>\n",
       "    <tr>\n",
       "      <th>0</th>\n",
       "      <td>처음 대학교 들어가는데 입을 옷 코디해주세요. 신입생 코디에 어울리게 화사한 스웨터...</td>\n",
       "      <td>SW-009</td>\n",
       "    </tr>\n",
       "    <tr>\n",
       "      <th>1</th>\n",
       "      <td>처음 대학교 들어가는데 입을 옷 코디해주세요. 신입생 코디에 어울리게 화사한 스웨터...</td>\n",
       "      <td>SK-053</td>\n",
       "    </tr>\n",
       "    <tr>\n",
       "      <th>2</th>\n",
       "      <td>처음 대학교 들어가는데 입을 옷 코디해주세요. 신입생 코디에 어울리게 화사한 스웨터...</td>\n",
       "      <td>CT-019</td>\n",
       "    </tr>\n",
       "    <tr>\n",
       "      <th>3</th>\n",
       "      <td>처음 대학교 들어가는데 입을 옷 코디해주세요. 신입생 코디에 어울리게 화사한 스웨터...</td>\n",
       "      <td>SE-039</td>\n",
       "    </tr>\n",
       "    <tr>\n",
       "      <th>4</th>\n",
       "      <td>처음 대학교 들어가는데 입을 옷 코디해주세요. 신입생 코디에 어울리게 화사한 스웨터...</td>\n",
       "      <td>CT-019</td>\n",
       "    </tr>\n",
       "  </tbody>\n",
       "</table>\n",
       "</div>"
      ],
      "text/plain": [
       "                                            contents      id\n",
       "0  처음 대학교 들어가는데 입을 옷 코디해주세요. 신입생 코디에 어울리게 화사한 스웨터...  SW-009\n",
       "1  처음 대학교 들어가는데 입을 옷 코디해주세요. 신입생 코디에 어울리게 화사한 스웨터...  SK-053\n",
       "2  처음 대학교 들어가는데 입을 옷 코디해주세요. 신입생 코디에 어울리게 화사한 스웨터...  CT-019\n",
       "3  처음 대학교 들어가는데 입을 옷 코디해주세요. 신입생 코디에 어울리게 화사한 스웨터...  SE-039\n",
       "4  처음 대학교 들어가는데 입을 옷 코디해주세요. 신입생 코디에 어울리게 화사한 스웨터...  CT-019"
      ]
     },
     "metadata": {},
     "execution_count": 15
    }
   ],
   "metadata": {}
  },
  {
   "cell_type": "code",
   "execution_count": 16,
   "source": [
    "c_data.loc[0].contents"
   ],
   "outputs": [
    {
     "output_type": "execute_result",
     "data": {
      "text/plain": [
       "'처음 대학교 들어가는데 입을 옷 코디해주세요. 신입생 코디에 어울리게 화사한 스웨터를 추천해드릴게요. SW-009 이 옷에 어울리는 치마로 추천해주세요. 라운드 네크라인 여밈이 없는 풀오버 스타일 전체 케이블 조직 드롭숄더 슬리브 손등까지 오는 길이의 소매 몸에 적당히 맞는 품 엉덩이를 살짝 덮는 길이 네크라인, 소매 끝, 밑단에 고무단 처리 레이온52%,나일론20%,폴리에스터28% 꽈배기 조직, 플레인 조직이 섞여 있는 형태 드라이 크리닝 단색의 라임색 브라이트톤(고명도 고채도)의 옐로우 그린 산뜻하고 발랄한 느낌 기본의 단정한 편안한 산뜻한 발랄한 경쾌한 따뜻한 데일리룩 캠퍼스룩'"
      ]
     },
     "metadata": {},
     "execution_count": 16
    }
   ],
   "metadata": {}
  },
  {
   "cell_type": "code",
   "execution_count": 17,
   "source": [
    "kn_data = pd.DataFrame({\"contents\":[None], \"id\":[\"xx-xxx\"]})\n",
    "kn_data.drop(0,axis=0,inplace=True)\n",
    "kn_data.head()"
   ],
   "outputs": [
    {
     "output_type": "execute_result",
     "data": {
      "text/html": [
       "<div>\n",
       "<style scoped>\n",
       "    .dataframe tbody tr th:only-of-type {\n",
       "        vertical-align: middle;\n",
       "    }\n",
       "\n",
       "    .dataframe tbody tr th {\n",
       "        vertical-align: top;\n",
       "    }\n",
       "\n",
       "    .dataframe thead th {\n",
       "        text-align: right;\n",
       "    }\n",
       "</style>\n",
       "<table border=\"1\" class=\"dataframe\">\n",
       "  <thead>\n",
       "    <tr style=\"text-align: right;\">\n",
       "      <th></th>\n",
       "      <th>contents</th>\n",
       "      <th>id</th>\n",
       "    </tr>\n",
       "  </thead>\n",
       "  <tbody>\n",
       "  </tbody>\n",
       "</table>\n",
       "</div>"
      ],
      "text/plain": [
       "Empty DataFrame\n",
       "Columns: [contents, id]\n",
       "Index: []"
      ]
     },
     "metadata": {},
     "execution_count": 17
    }
   ],
   "metadata": {}
  },
  {
   "cell_type": "code",
   "execution_count": 18,
   "source": [
    "for i in range(len(c_data)):\n",
    "    if \"KN\" in c_data[\"id\"][i][0:2]:\n",
    "        kn_data = kn_data.append(c_data.iloc[i])\n",
    "\n",
    "kn_data.reset_index(drop=True, inplace=True)\n",
    "print(\"데이터 개수\",len(kn_data))\n",
    "kn_data.head()"
   ],
   "outputs": [
    {
     "output_type": "stream",
     "name": "stdout",
     "text": [
      "데이터 개수 2957\n"
     ]
    },
    {
     "output_type": "execute_result",
     "data": {
      "text/html": [
       "<div>\n",
       "<style scoped>\n",
       "    .dataframe tbody tr th:only-of-type {\n",
       "        vertical-align: middle;\n",
       "    }\n",
       "\n",
       "    .dataframe tbody tr th {\n",
       "        vertical-align: top;\n",
       "    }\n",
       "\n",
       "    .dataframe thead th {\n",
       "        text-align: right;\n",
       "    }\n",
       "</style>\n",
       "<table border=\"1\" class=\"dataframe\">\n",
       "  <thead>\n",
       "    <tr style=\"text-align: right;\">\n",
       "      <th></th>\n",
       "      <th>contents</th>\n",
       "      <th>id</th>\n",
       "    </tr>\n",
       "  </thead>\n",
       "  <tbody>\n",
       "    <tr>\n",
       "      <th>0</th>\n",
       "      <td>엠티에 입고 갈 맨투맨 보여주세요. 오른쪽 소매에 패치프린팅이 부착된 세련된 맨투맨...</td>\n",
       "      <td>KN-019</td>\n",
       "    </tr>\n",
       "    <tr>\n",
       "      <th>1</th>\n",
       "      <td>학교에서 축제하는데 입고 갈만한 옷 추천해주세요. 바지나 치마 스타일 중 어느 것을...</td>\n",
       "      <td>KN-058</td>\n",
       "    </tr>\n",
       "    <tr>\n",
       "      <th>2</th>\n",
       "      <td>카페 알바 가는데요. 활동적이면서 귀여운 바지랑 티셔츠 좀 골라주세요. 오늘 같이 ...</td>\n",
       "      <td>KN-093</td>\n",
       "    </tr>\n",
       "    <tr>\n",
       "      <th>3</th>\n",
       "      <td>비가 쏟아지는데 아르바이트를 가야하네요. 코디 좀 추천해주세요. 장마철에는 안에는 ...</td>\n",
       "      <td>KN-005</td>\n",
       "    </tr>\n",
       "    <tr>\n",
       "      <th>4</th>\n",
       "      <td>도서관에 가려고 하는데, 책 읽기에 편한 옷 스타일을 추천해주세요. 그럼 편한 티를...</td>\n",
       "      <td>KN-014</td>\n",
       "    </tr>\n",
       "  </tbody>\n",
       "</table>\n",
       "</div>"
      ],
      "text/plain": [
       "                                            contents      id\n",
       "0  엠티에 입고 갈 맨투맨 보여주세요. 오른쪽 소매에 패치프린팅이 부착된 세련된 맨투맨...  KN-019\n",
       "1  학교에서 축제하는데 입고 갈만한 옷 추천해주세요. 바지나 치마 스타일 중 어느 것을...  KN-058\n",
       "2  카페 알바 가는데요. 활동적이면서 귀여운 바지랑 티셔츠 좀 골라주세요. 오늘 같이 ...  KN-093\n",
       "3  비가 쏟아지는데 아르바이트를 가야하네요. 코디 좀 추천해주세요. 장마철에는 안에는 ...  KN-005\n",
       "4  도서관에 가려고 하는데, 책 읽기에 편한 옷 스타일을 추천해주세요. 그럼 편한 티를...  KN-014"
      ]
     },
     "metadata": {},
     "execution_count": 18
    }
   ],
   "metadata": {}
  },
  {
   "cell_type": "code",
   "execution_count": 19,
   "source": [
    "kn_data[\"contents\"] = kn_data[\"contents\"].str.replace(\"[^A-Za-z0-9ㄱ-ㅎㅏ-ㅣ가-힣 ]\",\"\")\n",
    "kn_data.head()"
   ],
   "outputs": [
    {
     "output_type": "stream",
     "name": "stderr",
     "text": [
      "<ipython-input-19-0669e37ee3a9>:1: FutureWarning: The default value of regex will change from True to False in a future version.\n",
      "  kn_data[\"contents\"] = kn_data[\"contents\"].str.replace(\"[^A-Za-z0-9ㄱ-ㅎㅏ-ㅣ가-힣 ]\",\"\")\n"
     ]
    },
    {
     "output_type": "execute_result",
     "data": {
      "text/html": [
       "<div>\n",
       "<style scoped>\n",
       "    .dataframe tbody tr th:only-of-type {\n",
       "        vertical-align: middle;\n",
       "    }\n",
       "\n",
       "    .dataframe tbody tr th {\n",
       "        vertical-align: top;\n",
       "    }\n",
       "\n",
       "    .dataframe thead th {\n",
       "        text-align: right;\n",
       "    }\n",
       "</style>\n",
       "<table border=\"1\" class=\"dataframe\">\n",
       "  <thead>\n",
       "    <tr style=\"text-align: right;\">\n",
       "      <th></th>\n",
       "      <th>contents</th>\n",
       "      <th>id</th>\n",
       "    </tr>\n",
       "  </thead>\n",
       "  <tbody>\n",
       "    <tr>\n",
       "      <th>0</th>\n",
       "      <td>엠티에 입고 갈 맨투맨 보여주세요 오른쪽 소매에 패치프린팅이 부착된 세련된 맨투맨 ...</td>\n",
       "      <td>KN-019</td>\n",
       "    </tr>\n",
       "    <tr>\n",
       "      <th>1</th>\n",
       "      <td>학교에서 축제하는데 입고 갈만한 옷 추천해주세요 바지나 치마 스타일 중 어느 것을 ...</td>\n",
       "      <td>KN-058</td>\n",
       "    </tr>\n",
       "    <tr>\n",
       "      <th>2</th>\n",
       "      <td>카페 알바 가는데요 활동적이면서 귀여운 바지랑 티셔츠 좀 골라주세요 오늘 같이 비가...</td>\n",
       "      <td>KN-093</td>\n",
       "    </tr>\n",
       "    <tr>\n",
       "      <th>3</th>\n",
       "      <td>비가 쏟아지는데 아르바이트를 가야하네요 코디 좀 추천해주세요 장마철에는 안에는 얇게...</td>\n",
       "      <td>KN-005</td>\n",
       "    </tr>\n",
       "    <tr>\n",
       "      <th>4</th>\n",
       "      <td>도서관에 가려고 하는데 책 읽기에 편한 옷 스타일을 추천해주세요 그럼 편한 티를 활...</td>\n",
       "      <td>KN-014</td>\n",
       "    </tr>\n",
       "  </tbody>\n",
       "</table>\n",
       "</div>"
      ],
      "text/plain": [
       "                                            contents      id\n",
       "0  엠티에 입고 갈 맨투맨 보여주세요 오른쪽 소매에 패치프린팅이 부착된 세련된 맨투맨 ...  KN-019\n",
       "1  학교에서 축제하는데 입고 갈만한 옷 추천해주세요 바지나 치마 스타일 중 어느 것을 ...  KN-058\n",
       "2  카페 알바 가는데요 활동적이면서 귀여운 바지랑 티셔츠 좀 골라주세요 오늘 같이 비가...  KN-093\n",
       "3  비가 쏟아지는데 아르바이트를 가야하네요 코디 좀 추천해주세요 장마철에는 안에는 얇게...  KN-005\n",
       "4  도서관에 가려고 하는데 책 읽기에 편한 옷 스타일을 추천해주세요 그럼 편한 티를 활...  KN-014"
      ]
     },
     "metadata": {},
     "execution_count": 19
    }
   ],
   "metadata": {}
  },
  {
   "cell_type": "code",
   "execution_count": 20,
   "source": [
    "kn_data[\"id\"] = kn_data[\"id\"].str.replace(\"[^0-9]\",\"\")\n",
    "\n",
    "kn_data.head()"
   ],
   "outputs": [
    {
     "output_type": "stream",
     "name": "stderr",
     "text": [
      "<ipython-input-20-33ab9f8e03ae>:1: FutureWarning: The default value of regex will change from True to False in a future version.\n",
      "  kn_data[\"id\"] = kn_data[\"id\"].str.replace(\"[^0-9]\",\"\")\n"
     ]
    },
    {
     "output_type": "execute_result",
     "data": {
      "text/html": [
       "<div>\n",
       "<style scoped>\n",
       "    .dataframe tbody tr th:only-of-type {\n",
       "        vertical-align: middle;\n",
       "    }\n",
       "\n",
       "    .dataframe tbody tr th {\n",
       "        vertical-align: top;\n",
       "    }\n",
       "\n",
       "    .dataframe thead th {\n",
       "        text-align: right;\n",
       "    }\n",
       "</style>\n",
       "<table border=\"1\" class=\"dataframe\">\n",
       "  <thead>\n",
       "    <tr style=\"text-align: right;\">\n",
       "      <th></th>\n",
       "      <th>contents</th>\n",
       "      <th>id</th>\n",
       "    </tr>\n",
       "  </thead>\n",
       "  <tbody>\n",
       "    <tr>\n",
       "      <th>0</th>\n",
       "      <td>엠티에 입고 갈 맨투맨 보여주세요 오른쪽 소매에 패치프린팅이 부착된 세련된 맨투맨 ...</td>\n",
       "      <td>019</td>\n",
       "    </tr>\n",
       "    <tr>\n",
       "      <th>1</th>\n",
       "      <td>학교에서 축제하는데 입고 갈만한 옷 추천해주세요 바지나 치마 스타일 중 어느 것을 ...</td>\n",
       "      <td>058</td>\n",
       "    </tr>\n",
       "    <tr>\n",
       "      <th>2</th>\n",
       "      <td>카페 알바 가는데요 활동적이면서 귀여운 바지랑 티셔츠 좀 골라주세요 오늘 같이 비가...</td>\n",
       "      <td>093</td>\n",
       "    </tr>\n",
       "    <tr>\n",
       "      <th>3</th>\n",
       "      <td>비가 쏟아지는데 아르바이트를 가야하네요 코디 좀 추천해주세요 장마철에는 안에는 얇게...</td>\n",
       "      <td>005</td>\n",
       "    </tr>\n",
       "    <tr>\n",
       "      <th>4</th>\n",
       "      <td>도서관에 가려고 하는데 책 읽기에 편한 옷 스타일을 추천해주세요 그럼 편한 티를 활...</td>\n",
       "      <td>014</td>\n",
       "    </tr>\n",
       "  </tbody>\n",
       "</table>\n",
       "</div>"
      ],
      "text/plain": [
       "                                            contents   id\n",
       "0  엠티에 입고 갈 맨투맨 보여주세요 오른쪽 소매에 패치프린팅이 부착된 세련된 맨투맨 ...  019\n",
       "1  학교에서 축제하는데 입고 갈만한 옷 추천해주세요 바지나 치마 스타일 중 어느 것을 ...  058\n",
       "2  카페 알바 가는데요 활동적이면서 귀여운 바지랑 티셔츠 좀 골라주세요 오늘 같이 비가...  093\n",
       "3  비가 쏟아지는데 아르바이트를 가야하네요 코디 좀 추천해주세요 장마철에는 안에는 얇게...  005\n",
       "4  도서관에 가려고 하는데 책 읽기에 편한 옷 스타일을 추천해주세요 그럼 편한 티를 활...  014"
      ]
     },
     "metadata": {},
     "execution_count": 20
    }
   ],
   "metadata": {}
  },
  {
   "cell_type": "code",
   "execution_count": 21,
   "source": [
    "from collections import Counter\n",
    "temp = kn_data[\"id\"].tolist()\n",
    "type_count = dict(Counter(temp))\n",
    "type_count"
   ],
   "outputs": [
    {
     "output_type": "execute_result",
     "data": {
      "text/plain": [
       "{'019': 12,\n",
       " '058': 11,\n",
       " '093': 20,\n",
       " '005': 51,\n",
       " '014': 29,\n",
       " '045': 18,\n",
       " '080': 11,\n",
       " '065': 21,\n",
       " '066': 2,\n",
       " '021': 29,\n",
       " '081': 18,\n",
       " '010': 22,\n",
       " '036': 28,\n",
       " '104': 15,\n",
       " '070': 10,\n",
       " '056': 62,\n",
       " '055': 104,\n",
       " '053': 10,\n",
       " '046': 8,\n",
       " '035': 27,\n",
       " '060': 45,\n",
       " '025': 5,\n",
       " '057': 38,\n",
       " '091': 25,\n",
       " '049': 1,\n",
       " '020': 19,\n",
       " '071': 12,\n",
       " '068': 8,\n",
       " '015': 3,\n",
       " '073': 35,\n",
       " '095': 6,\n",
       " '037': 22,\n",
       " '027': 7,\n",
       " '009': 24,\n",
       " '094': 21,\n",
       " '096': 3,\n",
       " '061': 7,\n",
       " '003': 22,\n",
       " '059': 15,\n",
       " '087': 9,\n",
       " '002': 38,\n",
       " '050': 10,\n",
       " '001': 41,\n",
       " '029': 28,\n",
       " '089': 19,\n",
       " '090': 15,\n",
       " '018': 8,\n",
       " '075': 25,\n",
       " '017': 5,\n",
       " '030': 12,\n",
       " '026': 11,\n",
       " '064': 38,\n",
       " '022': 61,\n",
       " '069': 4,\n",
       " '062': 6,\n",
       " '105': 21,\n",
       " '041': 6,\n",
       " '042': 8,\n",
       " '072': 6,\n",
       " '100': 9,\n",
       " '108': 13,\n",
       " '048': 7,\n",
       " '039': 6,\n",
       " '033': 6,\n",
       " '103': 11,\n",
       " '084': 6,\n",
       " '110': 27,\n",
       " '013': 8,\n",
       " '004': 43,\n",
       " '106': 18,\n",
       " '024': 16,\n",
       " '063': 33,\n",
       " '067': 6,\n",
       " '074': 11,\n",
       " '092': 15,\n",
       " '007': 15,\n",
       " '031': 5,\n",
       " '086': 11,\n",
       " '043': 19,\n",
       " '012': 8,\n",
       " '076': 11,\n",
       " '008': 25,\n",
       " '038': 12,\n",
       " '028': 21,\n",
       " '032': 15,\n",
       " '051': 8,\n",
       " '011': 8,\n",
       " '006': 8,\n",
       " '101': 2,\n",
       " '077': 5,\n",
       " '088': 17,\n",
       " '099': 5,\n",
       " '083': 4,\n",
       " '054': 4,\n",
       " '052': 3,\n",
       " '098': 4,\n",
       " '034': 7,\n",
       " '023': 13,\n",
       " '085': 2,\n",
       " '097': 7,\n",
       " '210': 25,\n",
       " '111': 11,\n",
       " '113': 18,\n",
       " '126': 9,\n",
       " '169': 3,\n",
       " '207': 30,\n",
       " '156': 19,\n",
       " '147': 18,\n",
       " '157': 19,\n",
       " '205': 39,\n",
       " '198': 13,\n",
       " '122': 15,\n",
       " '120': 35,\n",
       " '163': 6,\n",
       " '144': 10,\n",
       " '164': 50,\n",
       " '202': 25,\n",
       " '128': 19,\n",
       " '182': 9,\n",
       " '188': 9,\n",
       " '173': 18,\n",
       " '132': 6,\n",
       " '109': 21,\n",
       " '149': 5,\n",
       " '200': 37,\n",
       " '115': 28,\n",
       " '203': 12,\n",
       " '140': 44,\n",
       " '155': 13,\n",
       " '209': 11,\n",
       " '193': 12,\n",
       " '133': 2,\n",
       " '044': 11,\n",
       " '180': 5,\n",
       " '191': 33,\n",
       " '145': 20,\n",
       " '181': 6,\n",
       " '150': 8,\n",
       " '141': 25,\n",
       " '114': 15,\n",
       " '178': 10,\n",
       " '194': 13,\n",
       " '153': 7,\n",
       " '201': 17,\n",
       " '136': 7,\n",
       " '175': 4,\n",
       " '197': 10,\n",
       " '118': 13,\n",
       " '208': 14,\n",
       " '195': 23,\n",
       " '161': 6,\n",
       " '137': 10,\n",
       " '174': 6,\n",
       " '131': 24,\n",
       " '121': 12,\n",
       " '142': 3,\n",
       " '168': 8,\n",
       " '112': 3,\n",
       " '123': 10,\n",
       " '146': 4,\n",
       " '127': 3,\n",
       " '192': 2,\n",
       " '206': 11,\n",
       " '167': 21,\n",
       " '171': 3,\n",
       " '154': 14,\n",
       " '160': 5,\n",
       " '158': 5,\n",
       " '190': 14,\n",
       " '185': 5,\n",
       " '187': 9,\n",
       " '124': 12,\n",
       " '117': 13,\n",
       " '165': 8,\n",
       " '170': 1,\n",
       " '148': 12,\n",
       " '130': 13,\n",
       " '199': 5,\n",
       " '186': 3,\n",
       " '082': 6,\n",
       " '159': 6,\n",
       " '196': 3,\n",
       " '176': 2,\n",
       " '143': 8,\n",
       " '166': 4,\n",
       " '162': 11,\n",
       " '040': 8,\n",
       " '079': 2,\n",
       " '129': 3,\n",
       " '220': 9,\n",
       " '216': 6,\n",
       " '219': 7,\n",
       " '235': 10,\n",
       " '213': 5,\n",
       " '223': 5,\n",
       " '214': 8,\n",
       " '172': 2,\n",
       " '227': 8,\n",
       " '183': 4,\n",
       " '225': 3,\n",
       " '221': 3,\n",
       " '230': 3,\n",
       " '224': 3,\n",
       " '234': 10,\n",
       " '226': 7,\n",
       " '228': 7,\n",
       " '139': 7,\n",
       " '215': 7,\n",
       " '231': 3,\n",
       " '211': 3,\n",
       " '212': 6,\n",
       " '184': 2,\n",
       " '107': 2,\n",
       " '217': 2,\n",
       " '222': 2,\n",
       " '189': 1,\n",
       " '232': 3,\n",
       " '078': 4,\n",
       " '229': 2,\n",
       " '233': 5,\n",
       " '152': 1,\n",
       " '218': 1,\n",
       " '135': 4,\n",
       " '119': 1}"
      ]
     },
     "metadata": {},
     "execution_count": 21
    }
   ],
   "metadata": {}
  },
  {
   "cell_type": "code",
   "execution_count": 22,
   "source": [
    "len(type_count)"
   ],
   "outputs": [
    {
     "output_type": "execute_result",
     "data": {
      "text/plain": [
       "224"
      ]
     },
     "metadata": {},
     "execution_count": 22
    }
   ],
   "metadata": {}
  },
  {
   "cell_type": "code",
   "execution_count": 23,
   "source": [
    "del_list = []\n",
    "for i in type_count.keys():\n",
    "    if type_count.get(i) == 1:\n",
    "        del_list.append(i)\n",
    "del_list"
   ],
   "outputs": [
    {
     "output_type": "execute_result",
     "data": {
      "text/plain": [
       "['049', '170', '189', '152', '218', '119']"
      ]
     },
     "metadata": {},
     "execution_count": 23
    }
   ],
   "metadata": {}
  },
  {
   "cell_type": "code",
   "execution_count": 24,
   "source": [
    "kn_data.head()"
   ],
   "outputs": [
    {
     "output_type": "execute_result",
     "data": {
      "text/html": [
       "<div>\n",
       "<style scoped>\n",
       "    .dataframe tbody tr th:only-of-type {\n",
       "        vertical-align: middle;\n",
       "    }\n",
       "\n",
       "    .dataframe tbody tr th {\n",
       "        vertical-align: top;\n",
       "    }\n",
       "\n",
       "    .dataframe thead th {\n",
       "        text-align: right;\n",
       "    }\n",
       "</style>\n",
       "<table border=\"1\" class=\"dataframe\">\n",
       "  <thead>\n",
       "    <tr style=\"text-align: right;\">\n",
       "      <th></th>\n",
       "      <th>contents</th>\n",
       "      <th>id</th>\n",
       "    </tr>\n",
       "  </thead>\n",
       "  <tbody>\n",
       "    <tr>\n",
       "      <th>0</th>\n",
       "      <td>엠티에 입고 갈 맨투맨 보여주세요 오른쪽 소매에 패치프린팅이 부착된 세련된 맨투맨 ...</td>\n",
       "      <td>019</td>\n",
       "    </tr>\n",
       "    <tr>\n",
       "      <th>1</th>\n",
       "      <td>학교에서 축제하는데 입고 갈만한 옷 추천해주세요 바지나 치마 스타일 중 어느 것을 ...</td>\n",
       "      <td>058</td>\n",
       "    </tr>\n",
       "    <tr>\n",
       "      <th>2</th>\n",
       "      <td>카페 알바 가는데요 활동적이면서 귀여운 바지랑 티셔츠 좀 골라주세요 오늘 같이 비가...</td>\n",
       "      <td>093</td>\n",
       "    </tr>\n",
       "    <tr>\n",
       "      <th>3</th>\n",
       "      <td>비가 쏟아지는데 아르바이트를 가야하네요 코디 좀 추천해주세요 장마철에는 안에는 얇게...</td>\n",
       "      <td>005</td>\n",
       "    </tr>\n",
       "    <tr>\n",
       "      <th>4</th>\n",
       "      <td>도서관에 가려고 하는데 책 읽기에 편한 옷 스타일을 추천해주세요 그럼 편한 티를 활...</td>\n",
       "      <td>014</td>\n",
       "    </tr>\n",
       "  </tbody>\n",
       "</table>\n",
       "</div>"
      ],
      "text/plain": [
       "                                            contents   id\n",
       "0  엠티에 입고 갈 맨투맨 보여주세요 오른쪽 소매에 패치프린팅이 부착된 세련된 맨투맨 ...  019\n",
       "1  학교에서 축제하는데 입고 갈만한 옷 추천해주세요 바지나 치마 스타일 중 어느 것을 ...  058\n",
       "2  카페 알바 가는데요 활동적이면서 귀여운 바지랑 티셔츠 좀 골라주세요 오늘 같이 비가...  093\n",
       "3  비가 쏟아지는데 아르바이트를 가야하네요 코디 좀 추천해주세요 장마철에는 안에는 얇게...  005\n",
       "4  도서관에 가려고 하는데 책 읽기에 편한 옷 스타일을 추천해주세요 그럼 편한 티를 활...  014"
      ]
     },
     "metadata": {},
     "execution_count": 24
    }
   ],
   "metadata": {}
  },
  {
   "cell_type": "code",
   "execution_count": 25,
   "source": [
    "for i in del_list:\n",
    "    kn_data = kn_data[kn_data[\"id\"] != i]"
   ],
   "outputs": [],
   "metadata": {}
  },
  {
   "cell_type": "code",
   "execution_count": 26,
   "source": [
    "len(kn_data)"
   ],
   "outputs": [
    {
     "output_type": "execute_result",
     "data": {
      "text/plain": [
       "2951"
      ]
     },
     "metadata": {},
     "execution_count": 26
    }
   ],
   "metadata": {}
  },
  {
   "cell_type": "code",
   "execution_count": 27,
   "source": [
    "kn_data.reset_index(drop=True, inplace=True)"
   ],
   "outputs": [],
   "metadata": {}
  },
  {
   "cell_type": "code",
   "execution_count": 28,
   "source": [
    "import matplotlib.pyplot as plt\n",
    "plt.bar(Counter(kn_data.id).keys(),Counter(kn_data.id).values(), color='k')"
   ],
   "outputs": [
    {
     "output_type": "execute_result",
     "data": {
      "text/plain": [
       "<BarContainer object of 218 artists>"
      ]
     },
     "metadata": {},
     "execution_count": 28
    }
   ],
   "metadata": {}
  },
  {
   "cell_type": "markdown",
   "source": [
    "# 5. 형태소 분석"
   ],
   "metadata": {}
  },
  {
   "cell_type": "markdown",
   "source": [
    "## Mecab 사용"
   ],
   "metadata": {}
  },
  {
   "cell_type": "code",
   "execution_count": 29,
   "source": [
    "from konlpy.tag import Mecab\n",
    "mecab = Mecab()"
   ],
   "outputs": [],
   "metadata": {}
  },
  {
   "cell_type": "code",
   "execution_count": 30,
   "source": [
    "mecab.morphs(kn_data[\"contents\"][0])"
   ],
   "outputs": [
    {
     "output_type": "execute_result",
     "data": {
      "text/plain": [
       "['엠티',\n",
       " '에',\n",
       " '입',\n",
       " '고',\n",
       " '갈',\n",
       " '맨투맨',\n",
       " '보여',\n",
       " '주',\n",
       " '세요',\n",
       " '오른쪽',\n",
       " '소매',\n",
       " '에',\n",
       " '패치',\n",
       " '프린팅',\n",
       " '이',\n",
       " '부착',\n",
       " '된',\n",
       " '세련',\n",
       " '된',\n",
       " '맨투맨',\n",
       " '티',\n",
       " '예요',\n",
       " '어떠신가요',\n",
       " 'KN',\n",
       " '047',\n",
       " '무늬',\n",
       " '없',\n",
       " '고',\n",
       " '심플',\n",
       " '한',\n",
       " '스타일',\n",
       " '로',\n",
       " '보여',\n",
       " '주',\n",
       " '세요',\n",
       " '이런',\n",
       " '스타일',\n",
       " '은',\n",
       " '어떠세요',\n",
       " '활동',\n",
       " '성',\n",
       " '을',\n",
       " '주',\n",
       " '기',\n",
       " '때문',\n",
       " '에',\n",
       " '엠티',\n",
       " '에서',\n",
       " '도',\n",
       " '편안',\n",
       " '하',\n",
       " '게',\n",
       " '입',\n",
       " '으실',\n",
       " '수',\n",
       " '있',\n",
       " '답니다',\n",
       " 'KN',\n",
       " '002',\n",
       " '봄',\n",
       " '이',\n",
       " '니까',\n",
       " '조금',\n",
       " '밝',\n",
       " '은',\n",
       " '색',\n",
       " '으로',\n",
       " '보여',\n",
       " '주',\n",
       " '세요',\n",
       " '그렇',\n",
       " '다면',\n",
       " '봄',\n",
       " '이',\n",
       " '니까',\n",
       " '이런',\n",
       " '화사',\n",
       " '한',\n",
       " '색깔',\n",
       " '은',\n",
       " '어떠신가요',\n",
       " 'KN',\n",
       " '019',\n",
       " '네',\n",
       " '이걸로',\n",
       " '할게요',\n",
       " '라운드',\n",
       " '네크라인',\n",
       " '드',\n",
       " '랍',\n",
       " '숄더',\n",
       " '넉넉',\n",
       " '한',\n",
       " '일자',\n",
       " '형',\n",
       " '소매',\n",
       " '손등',\n",
       " '을',\n",
       " '덮',\n",
       " '는',\n",
       " '소매',\n",
       " '기장',\n",
       " '엉덩이',\n",
       " '를',\n",
       " '덮',\n",
       " '는',\n",
       " '기장',\n",
       " '앞판',\n",
       " '하단',\n",
       " '에',\n",
       " '캥거루',\n",
       " '주머니',\n",
       " '루즈',\n",
       " '한',\n",
       " '실루엣',\n",
       " '으로',\n",
       " '품',\n",
       " '이',\n",
       " '넉넉',\n",
       " '함',\n",
       " '앞',\n",
       " '뒤',\n",
       " '길',\n",
       " '이',\n",
       " '차이',\n",
       " '없',\n",
       " '는',\n",
       " '일자',\n",
       " '형',\n",
       " '밑단',\n",
       " '네크라인',\n",
       " '소매',\n",
       " '끝',\n",
       " '밑단',\n",
       " '재',\n",
       " '원단',\n",
       " '처리',\n",
       " '면',\n",
       " '100',\n",
       " '싱글',\n",
       " '저지',\n",
       " '신',\n",
       " '축선',\n",
       " '약간',\n",
       " '있',\n",
       " '음',\n",
       " '두께',\n",
       " '감',\n",
       " '보통',\n",
       " '밝',\n",
       " '은',\n",
       " '핑크',\n",
       " '브라이트',\n",
       " '톤',\n",
       " '의',\n",
       " '화사',\n",
       " '하',\n",
       " '고',\n",
       " '러블리',\n",
       " '한',\n",
       " '컬러',\n",
       " '편안',\n",
       " '한',\n",
       " '여유',\n",
       " '로운',\n",
       " '캐주얼',\n",
       " '한',\n",
       " '내추럴',\n",
       " '한',\n",
       " '화사',\n",
       " '한',\n",
       " '귀여운',\n",
       " '러블리',\n",
       " '한',\n",
       " '베이직',\n",
       " '한',\n",
       " '아이템']"
      ]
     },
     "metadata": {},
     "execution_count": 30
    }
   ],
   "metadata": {}
  },
  {
   "cell_type": "code",
   "execution_count": 31,
   "source": [
    "len(kn_data)"
   ],
   "outputs": [
    {
     "output_type": "execute_result",
     "data": {
      "text/plain": [
       "2951"
      ]
     },
     "metadata": {},
     "execution_count": 31
    }
   ],
   "metadata": {}
  },
  {
   "cell_type": "code",
   "execution_count": 32,
   "source": [
    "x_data = []\n",
    "for i in range(len(kn_data)):\n",
    "    x_data.append(mecab.morphs(kn_data[\"contents\"][i]))\n",
    "\n",
    "x_data[0]"
   ],
   "outputs": [
    {
     "output_type": "execute_result",
     "data": {
      "text/plain": [
       "['엠티',\n",
       " '에',\n",
       " '입',\n",
       " '고',\n",
       " '갈',\n",
       " '맨투맨',\n",
       " '보여',\n",
       " '주',\n",
       " '세요',\n",
       " '오른쪽',\n",
       " '소매',\n",
       " '에',\n",
       " '패치',\n",
       " '프린팅',\n",
       " '이',\n",
       " '부착',\n",
       " '된',\n",
       " '세련',\n",
       " '된',\n",
       " '맨투맨',\n",
       " '티',\n",
       " '예요',\n",
       " '어떠신가요',\n",
       " 'KN',\n",
       " '047',\n",
       " '무늬',\n",
       " '없',\n",
       " '고',\n",
       " '심플',\n",
       " '한',\n",
       " '스타일',\n",
       " '로',\n",
       " '보여',\n",
       " '주',\n",
       " '세요',\n",
       " '이런',\n",
       " '스타일',\n",
       " '은',\n",
       " '어떠세요',\n",
       " '활동',\n",
       " '성',\n",
       " '을',\n",
       " '주',\n",
       " '기',\n",
       " '때문',\n",
       " '에',\n",
       " '엠티',\n",
       " '에서',\n",
       " '도',\n",
       " '편안',\n",
       " '하',\n",
       " '게',\n",
       " '입',\n",
       " '으실',\n",
       " '수',\n",
       " '있',\n",
       " '답니다',\n",
       " 'KN',\n",
       " '002',\n",
       " '봄',\n",
       " '이',\n",
       " '니까',\n",
       " '조금',\n",
       " '밝',\n",
       " '은',\n",
       " '색',\n",
       " '으로',\n",
       " '보여',\n",
       " '주',\n",
       " '세요',\n",
       " '그렇',\n",
       " '다면',\n",
       " '봄',\n",
       " '이',\n",
       " '니까',\n",
       " '이런',\n",
       " '화사',\n",
       " '한',\n",
       " '색깔',\n",
       " '은',\n",
       " '어떠신가요',\n",
       " 'KN',\n",
       " '019',\n",
       " '네',\n",
       " '이걸로',\n",
       " '할게요',\n",
       " '라운드',\n",
       " '네크라인',\n",
       " '드',\n",
       " '랍',\n",
       " '숄더',\n",
       " '넉넉',\n",
       " '한',\n",
       " '일자',\n",
       " '형',\n",
       " '소매',\n",
       " '손등',\n",
       " '을',\n",
       " '덮',\n",
       " '는',\n",
       " '소매',\n",
       " '기장',\n",
       " '엉덩이',\n",
       " '를',\n",
       " '덮',\n",
       " '는',\n",
       " '기장',\n",
       " '앞판',\n",
       " '하단',\n",
       " '에',\n",
       " '캥거루',\n",
       " '주머니',\n",
       " '루즈',\n",
       " '한',\n",
       " '실루엣',\n",
       " '으로',\n",
       " '품',\n",
       " '이',\n",
       " '넉넉',\n",
       " '함',\n",
       " '앞',\n",
       " '뒤',\n",
       " '길',\n",
       " '이',\n",
       " '차이',\n",
       " '없',\n",
       " '는',\n",
       " '일자',\n",
       " '형',\n",
       " '밑단',\n",
       " '네크라인',\n",
       " '소매',\n",
       " '끝',\n",
       " '밑단',\n",
       " '재',\n",
       " '원단',\n",
       " '처리',\n",
       " '면',\n",
       " '100',\n",
       " '싱글',\n",
       " '저지',\n",
       " '신',\n",
       " '축선',\n",
       " '약간',\n",
       " '있',\n",
       " '음',\n",
       " '두께',\n",
       " '감',\n",
       " '보통',\n",
       " '밝',\n",
       " '은',\n",
       " '핑크',\n",
       " '브라이트',\n",
       " '톤',\n",
       " '의',\n",
       " '화사',\n",
       " '하',\n",
       " '고',\n",
       " '러블리',\n",
       " '한',\n",
       " '컬러',\n",
       " '편안',\n",
       " '한',\n",
       " '여유',\n",
       " '로운',\n",
       " '캐주얼',\n",
       " '한',\n",
       " '내추럴',\n",
       " '한',\n",
       " '화사',\n",
       " '한',\n",
       " '귀여운',\n",
       " '러블리',\n",
       " '한',\n",
       " '베이직',\n",
       " '한',\n",
       " '아이템']"
      ]
     },
     "metadata": {},
     "execution_count": 32
    }
   ],
   "metadata": {}
  },
  {
   "cell_type": "code",
   "execution_count": 33,
   "source": [
    "stopwords = []\n",
    "with open('./data/불용어사전.txt', mode='rt', encoding='utf-8') as f:\n",
    "    for word in f.readlines():\n",
    "        word = word.strip()\n",
    "        stopwords.append(word)\n",
    "stopwords[0:2]"
   ],
   "outputs": [
    {
     "output_type": "execute_result",
     "data": {
      "text/plain": [
       "['어찌됐든', '그위에']"
      ]
     },
     "metadata": {},
     "execution_count": 33
    }
   ],
   "metadata": {}
  },
  {
   "cell_type": "code",
   "execution_count": 34,
   "source": [
    "X_data = []\n",
    "for sentence in x_data: #문장 하나 가져오고 단어 단위로 쪼개기\n",
    "    temp_X = [word for word in sentence if not word in stopwords] # 불용어 제거\n",
    "    X_data.append(temp_X)\n",
    "X_data[0]"
   ],
   "outputs": [
    {
     "output_type": "execute_result",
     "data": {
      "text/plain": [
       "['엠티',\n",
       " '입',\n",
       " '고',\n",
       " '갈',\n",
       " '맨투맨',\n",
       " '보여',\n",
       " '주',\n",
       " '세요',\n",
       " '오른쪽',\n",
       " '패치',\n",
       " '프린팅',\n",
       " '부착',\n",
       " '된',\n",
       " '세련',\n",
       " '된',\n",
       " '맨투맨',\n",
       " '티',\n",
       " '예요',\n",
       " '어떠신가요',\n",
       " 'KN',\n",
       " '047',\n",
       " '무늬',\n",
       " '고',\n",
       " '심플',\n",
       " '스타일',\n",
       " '보여',\n",
       " '주',\n",
       " '세요',\n",
       " '스타일',\n",
       " '어떠세요',\n",
       " '활동',\n",
       " '성',\n",
       " '주',\n",
       " '기',\n",
       " '때문',\n",
       " '엠티',\n",
       " '도',\n",
       " '편안',\n",
       " '게',\n",
       " '입',\n",
       " '으실',\n",
       " '수',\n",
       " '있',\n",
       " '답니다',\n",
       " 'KN',\n",
       " '002',\n",
       " '봄',\n",
       " '니까',\n",
       " '밝',\n",
       " '색',\n",
       " '보여',\n",
       " '주',\n",
       " '세요',\n",
       " '그렇',\n",
       " '다면',\n",
       " '봄',\n",
       " '니까',\n",
       " '화사',\n",
       " '색깔',\n",
       " '어떠신가요',\n",
       " 'KN',\n",
       " '019',\n",
       " '이걸로',\n",
       " '할게요',\n",
       " '라운드',\n",
       " '네크라인',\n",
       " '랍',\n",
       " '숄더',\n",
       " '넉넉',\n",
       " '일자',\n",
       " '형',\n",
       " '손등',\n",
       " '덮',\n",
       " '기장',\n",
       " '엉덩이',\n",
       " '덮',\n",
       " '기장',\n",
       " '앞판',\n",
       " '하단',\n",
       " '캥거루',\n",
       " '주머니',\n",
       " '루즈',\n",
       " '실루엣',\n",
       " '품',\n",
       " '넉넉',\n",
       " '함',\n",
       " '앞',\n",
       " '뒤',\n",
       " '길',\n",
       " '차이',\n",
       " '일자',\n",
       " '형',\n",
       " '밑단',\n",
       " '네크라인',\n",
       " '끝',\n",
       " '밑단',\n",
       " '재',\n",
       " '원단',\n",
       " '처리',\n",
       " '면',\n",
       " '100',\n",
       " '싱글',\n",
       " '저지',\n",
       " '신',\n",
       " '축선',\n",
       " '있',\n",
       " '두께',\n",
       " '감',\n",
       " '보통',\n",
       " '밝',\n",
       " '핑크',\n",
       " '브라이트',\n",
       " '톤',\n",
       " '화사',\n",
       " '고',\n",
       " '러블리',\n",
       " '컬러',\n",
       " '편안',\n",
       " '여유',\n",
       " '로운',\n",
       " '캐주얼',\n",
       " '내추럴',\n",
       " '화사',\n",
       " '귀여운',\n",
       " '러블리',\n",
       " '베이직',\n",
       " '아이템']"
      ]
     },
     "metadata": {},
     "execution_count": 34
    }
   ],
   "metadata": {}
  },
  {
   "cell_type": "markdown",
   "source": [
    "## 1. 임베딩 레이어 활용"
   ],
   "metadata": {}
  },
  {
   "cell_type": "markdown",
   "source": [
    "### 정수 인코딩"
   ],
   "metadata": {}
  },
  {
   "cell_type": "code",
   "execution_count": 35,
   "source": [
    "from tensorflow.keras.preprocessing.text import Tokenizer\n",
    "tokenizer = Tokenizer()\n",
    "tokenizer.fit_on_texts(X_data)"
   ],
   "outputs": [],
   "metadata": {}
  },
  {
   "cell_type": "code",
   "execution_count": 36,
   "source": [
    "threshold = 6\n",
    "total_cnt = len(tokenizer.word_index) # 단어의 수\n",
    "rare_cnt = 0 # 등장 빈도수가 threshold보다 작은 단어의 개수를 카운트\n",
    "total_freq = 0 # 훈련 데이터의 전체 단어 빈도수 총 합\n",
    "rare_freq = 0 # 등장 빈도수가 threshold보다 작은 단어의 등장 빈도수의 총 합\n",
    "\n",
    "# 단어와 빈도수의 쌍(pair)을 key와 value로 받는다.\n",
    "for key, value in tokenizer.word_counts.items():\n",
    "    total_freq = total_freq + value\n",
    "\n",
    "    # 단어의 등장 빈도수가 threshold보다 작으면\n",
    "    if(value < threshold):\n",
    "        rare_cnt = rare_cnt + 1\n",
    "        rare_freq = rare_freq + value\n",
    "\n",
    "print('단어 집합(vocabulary)의 크기 :',total_cnt)\n",
    "print('등장 빈도가 %s번 이하인 희귀 단어의 수: %s'%(threshold - 1, rare_cnt))\n",
    "print(\"단어 집합에서 희귀 단어의 비율:\", (rare_cnt / total_cnt)*100)\n",
    "print(\"전체 등장 빈도에서 희귀 단어 등장 빈도 비율:\", (rare_freq / total_freq)*100)"
   ],
   "outputs": [
    {
     "output_type": "stream",
     "name": "stdout",
     "text": [
      "단어 집합(vocabulary)의 크기 : 4163\n",
      "등장 빈도가 5번 이하인 희귀 단어의 수: 1749\n",
      "단어 집합에서 희귀 단어의 비율: 42.01297141484506\n",
      "전체 등장 빈도에서 희귀 단어 등장 빈도 비율: 0.7507405031326354\n"
     ]
    }
   ],
   "metadata": {}
  },
  {
   "cell_type": "code",
   "execution_count": 37,
   "source": [
    "vocab_size = total_cnt - rare_cnt + 1 # tokenizer 함수에 들어 갈 때 영향줘서 1 추가 해야 됨\n",
    "print('단어 집합의 크기 :',vocab_size)"
   ],
   "outputs": [
    {
     "output_type": "stream",
     "name": "stdout",
     "text": [
      "단어 집합의 크기 : 2415\n"
     ]
    }
   ],
   "metadata": {}
  },
  {
   "cell_type": "markdown",
   "source": [
    "케라스 토크나이저의 정수 인코딩은 인덱스가 1부터 시작하지만,\n",
    "\n",
    "케라스 원-핫 인코딩에서 배열의 인덱스가 0부터 시작하기 때문에\n",
    "\n",
    "배열의 크기를 실제 단어 집합의 크기보다 +1로 생성해야하므로 미리 +1 선언 "
   ],
   "metadata": {}
  },
  {
   "cell_type": "markdown",
   "source": [
    "### 맨 앞자리는 비어있어야 함 (원 핫 인코딩은 정수 인코딩한 뒤 나오는 정수 값 자리에 1을 넣는 것)"
   ],
   "metadata": {}
  },
  {
   "cell_type": "code",
   "execution_count": 38,
   "source": [
    "tokenizer = Tokenizer(num_words=vocab_size - 1)\n",
    "tokenizer.fit_on_texts(X_data)\n",
    "len(tokenizer.word_index)"
   ],
   "outputs": [
    {
     "output_type": "execute_result",
     "data": {
      "text/plain": [
       "4163"
      ]
     },
     "metadata": {},
     "execution_count": 38
    }
   ],
   "metadata": {}
  },
  {
   "cell_type": "code",
   "execution_count": 39,
   "source": [
    "X_data = tokenizer.texts_to_sequences(X_data) # 단어에 정수 붙여줄 때 num_word 적용"
   ],
   "outputs": [],
   "metadata": {}
  },
  {
   "cell_type": "markdown",
   "source": [
    "위에서 num_words는 이 데이터에서 등장 빈도 순위로 몇 번째에 해당하는 단어까지만 사용할 것인지 조절\n",
    "\n",
    "예를 들어서 100이란 값을 넣으면, 등장 빈도 순위가 1~100에 해당하는 단어만 사용"
   ],
   "metadata": {}
  },
  {
   "cell_type": "code",
   "execution_count": 40,
   "source": [
    "X_data[1]"
   ],
   "outputs": [
    {
     "output_type": "execute_result",
     "data": {
      "text/plain": [
       "[1041,\n",
       " 638,\n",
       " 238,\n",
       " 22,\n",
       " 9,\n",
       " 128,\n",
       " 5,\n",
       " 58,\n",
       " 14,\n",
       " 1,\n",
       " 2,\n",
       " 25,\n",
       " 133,\n",
       " 18,\n",
       " 286,\n",
       " 231,\n",
       " 566,\n",
       " 26,\n",
       " 276,\n",
       " 52,\n",
       " 1,\n",
       " 2,\n",
       " 2054,\n",
       " 59,\n",
       " 84,\n",
       " 71,\n",
       " 46,\n",
       " 27,\n",
       " 50,\n",
       " 18,\n",
       " 4,\n",
       " 102,\n",
       " 139,\n",
       " 15,\n",
       " 62,\n",
       " 503,\n",
       " 577,\n",
       " 7,\n",
       " 591,\n",
       " 32,\n",
       " 831,\n",
       " 24,\n",
       " 375,\n",
       " 1225,\n",
       " 137,\n",
       " 1056,\n",
       " 87,\n",
       " 49,\n",
       " 1225,\n",
       " 360,\n",
       " 9,\n",
       " 60,\n",
       " 14,\n",
       " 1,\n",
       " 2,\n",
       " 962,\n",
       " 308,\n",
       " 17,\n",
       " 57,\n",
       " 343,\n",
       " 635,\n",
       " 3,\n",
       " 115,\n",
       " 86,\n",
       " 182,\n",
       " 19,\n",
       " 635,\n",
       " 52,\n",
       " 1,\n",
       " 2,\n",
       " 7,\n",
       " 848,\n",
       " 207,\n",
       " 19,\n",
       " 26,\n",
       " 5,\n",
       " 10,\n",
       " 1,\n",
       " 2,\n",
       " 283,\n",
       " 11,\n",
       " 754,\n",
       " 1142,\n",
       " 78,\n",
       " 13,\n",
       " 63,\n",
       " 7,\n",
       " 1057,\n",
       " 171,\n",
       " 35,\n",
       " 448,\n",
       " 531,\n",
       " 43,\n",
       " 11,\n",
       " 11,\n",
       " 125,\n",
       " 1909,\n",
       " 206,\n",
       " 27,\n",
       " 1237,\n",
       " 1910,\n",
       " 148,\n",
       " 162,\n",
       " 109,\n",
       " 81,\n",
       " 21,\n",
       " 30,\n",
       " 33,\n",
       " 3,\n",
       " 21,\n",
       " 48,\n",
       " 51,\n",
       " 72,\n",
       " 41,\n",
       " 113,\n",
       " 21,\n",
       " 118,\n",
       " 92,\n",
       " 16,\n",
       " 144,\n",
       " 283,\n",
       " 11,\n",
       " 1339,\n",
       " 619,\n",
       " 1911,\n",
       " 20,\n",
       " 42,\n",
       " 1478,\n",
       " 12,\n",
       " 1912,\n",
       " 20,\n",
       " 132,\n",
       " 186,\n",
       " 40,\n",
       " 3,\n",
       " 39,\n",
       " 34,\n",
       " 72,\n",
       " 145,\n",
       " 38,\n",
       " 218,\n",
       " 283,\n",
       " 274,\n",
       " 154,\n",
       " 754,\n",
       " 3,\n",
       " 87]"
      ]
     },
     "metadata": {},
     "execution_count": 40
    }
   ],
   "metadata": {}
  },
  {
   "cell_type": "code",
   "execution_count": 41,
   "source": [
    "print('문장 최대 길이 :',max(len(l) for l in X_data))\n",
    "print('문장의 평균 길이 :',sum(map(len, X_data))/len(X_data))\n",
    "plt.hist([len(s) for s in X_data], bins=50, color='k')\n",
    "plt.xlabel('length of samples')\n",
    "plt.ylabel('number of samples')\n",
    "plt.show()\n",
    "plt.close()"
   ],
   "outputs": [
    {
     "output_type": "stream",
     "name": "stdout",
     "text": [
      "문장 최대 길이 : 468\n",
      "문장의 평균 길이 : 172.47407658420875\n"
     ]
    },
    {
     "output_type": "display_data",
     "data": {
      "image/png": "[encoded data removed]",
      "text/plain": [
       "<Figure size 640x480 with 1 Axes>"
      ]
     },
     "metadata": {}
    }
   ],
   "metadata": {}
  },
  {
   "cell_type": "code",
   "execution_count": 42,
   "source": [
    "def below_threshold_len(max_len, nested_list):\n",
    "  cnt = 0\n",
    "  for s in nested_list:\n",
    "    if(len(s) <= max_len):\n",
    "        cnt = cnt + 1\n",
    "  print('전체 샘플 중 길이가 %s 이하인 샘플의 비율: %s'%(max_len, (cnt / len(nested_list))*100))\n",
    "\n",
    "max_len = 300\n",
    "below_threshold_len(max_len, X_data)"
   ],
   "outputs": [
    {
     "output_type": "stream",
     "name": "stdout",
     "text": [
      "전체 샘플 중 길이가 300 이하인 샘플의 비율: 99.39003727549984\n"
     ]
    }
   ],
   "metadata": {}
  },
  {
   "cell_type": "markdown",
   "source": [
    "## padding"
   ],
   "metadata": {}
  },
  {
   "cell_type": "code",
   "execution_count": 43,
   "source": [
    "from tensorflow.keras.preprocessing.sequence import pad_sequences\n",
    "X_data = pad_sequences(X_data, maxlen = max_len)"
   ],
   "outputs": [],
   "metadata": {}
  },
  {
   "cell_type": "code",
   "execution_count": 44,
   "source": [
    "print(len(X_data[1]))\n",
    "X_data[1]"
   ],
   "outputs": [
    {
     "output_type": "stream",
     "name": "stdout",
     "text": [
      "300\n"
     ]
    },
    {
     "output_type": "execute_result",
     "data": {
      "text/plain": [
       "array([   0,    0,    0,    0,    0,    0,    0,    0,    0,    0,    0,\n",
       "          0,    0,    0,    0,    0,    0,    0,    0,    0,    0,    0,\n",
       "          0,    0,    0,    0,    0,    0,    0,    0,    0,    0,    0,\n",
       "          0,    0,    0,    0,    0,    0,    0,    0,    0,    0,    0,\n",
       "          0,    0,    0,    0,    0,    0,    0,    0,    0,    0,    0,\n",
       "          0,    0,    0,    0,    0,    0,    0,    0,    0,    0,    0,\n",
       "          0,    0,    0,    0,    0,    0,    0,    0,    0,    0,    0,\n",
       "          0,    0,    0,    0,    0,    0,    0,    0,    0,    0,    0,\n",
       "          0,    0,    0,    0,    0,    0,    0,    0,    0,    0,    0,\n",
       "          0,    0,    0,    0,    0,    0,    0,    0,    0,    0,    0,\n",
       "          0,    0,    0,    0,    0,    0,    0,    0,    0,    0,    0,\n",
       "          0,    0,    0,    0,    0,    0,    0,    0,    0,    0,    0,\n",
       "          0,    0,    0,    0,    0,    0,    0,    0,    0,    0,    0,\n",
       "          0,    0,    0,    0,    0,    0,    0,    0,    0,    0, 1041,\n",
       "        638,  238,   22,    9,  128,    5,   58,   14,    1,    2,   25,\n",
       "        133,   18,  286,  231,  566,   26,  276,   52,    1,    2, 2054,\n",
       "         59,   84,   71,   46,   27,   50,   18,    4,  102,  139,   15,\n",
       "         62,  503,  577,    7,  591,   32,  831,   24,  375, 1225,  137,\n",
       "       1056,   87,   49, 1225,  360,    9,   60,   14,    1,    2,  962,\n",
       "        308,   17,   57,  343,  635,    3,  115,   86,  182,   19,  635,\n",
       "         52,    1,    2,    7,  848,  207,   19,   26,    5,   10,    1,\n",
       "          2,  283,   11,  754, 1142,   78,   13,   63,    7, 1057,  171,\n",
       "         35,  448,  531,   43,   11,   11,  125, 1909,  206,   27, 1237,\n",
       "       1910,  148,  162,  109,   81,   21,   30,   33,    3,   21,   48,\n",
       "         51,   72,   41,  113,   21,  118,   92,   16,  144,  283,   11,\n",
       "       1339,  619, 1911,   20,   42, 1478,   12, 1912,   20,  132,  186,\n",
       "         40,    3,   39,   34,   72,  145,   38,  218,  283,  274,  154,\n",
       "        754,    3,   87], dtype=int32)"
      ]
     },
     "metadata": {},
     "execution_count": 44
    }
   ],
   "metadata": {}
  },
  {
   "cell_type": "markdown",
   "source": [
    "# 6. LSTM 돌리기 "
   ],
   "metadata": {}
  },
  {
   "cell_type": "code",
   "execution_count": 45,
   "source": [
    "from tensorflow.keras.layers import Embedding, Dense, LSTM, Bidirectional\n",
    "from tensorflow.keras.models import Sequential\n",
    "from tensorflow.keras.models import load_model\n",
    "from tensorflow.keras.callbacks import EarlyStopping, ModelCheckpoint\n",
    "from sklearn.model_selection import train_test_split\n",
    "from tensorflow.keras.utils import to_categorical"
   ],
   "outputs": [],
   "metadata": {}
  },
  {
   "cell_type": "code",
   "execution_count": 46,
   "source": [
    "X = X_data\n",
    "y = kn_data.id.tolist()"
   ],
   "outputs": [],
   "metadata": {}
  },
  {
   "cell_type": "code",
   "execution_count": 47,
   "source": [
    "X[1]"
   ],
   "outputs": [
    {
     "output_type": "execute_result",
     "data": {
      "text/plain": [
       "array([   0,    0,    0,    0,    0,    0,    0,    0,    0,    0,    0,\n",
       "          0,    0,    0,    0,    0,    0,    0,    0,    0,    0,    0,\n",
       "          0,    0,    0,    0,    0,    0,    0,    0,    0,    0,    0,\n",
       "          0,    0,    0,    0,    0,    0,    0,    0,    0,    0,    0,\n",
       "          0,    0,    0,    0,    0,    0,    0,    0,    0,    0,    0,\n",
       "          0,    0,    0,    0,    0,    0,    0,    0,    0,    0,    0,\n",
       "          0,    0,    0,    0,    0,    0,    0,    0,    0,    0,    0,\n",
       "          0,    0,    0,    0,    0,    0,    0,    0,    0,    0,    0,\n",
       "          0,    0,    0,    0,    0,    0,    0,    0,    0,    0,    0,\n",
       "          0,    0,    0,    0,    0,    0,    0,    0,    0,    0,    0,\n",
       "          0,    0,    0,    0,    0,    0,    0,    0,    0,    0,    0,\n",
       "          0,    0,    0,    0,    0,    0,    0,    0,    0,    0,    0,\n",
       "          0,    0,    0,    0,    0,    0,    0,    0,    0,    0,    0,\n",
       "          0,    0,    0,    0,    0,    0,    0,    0,    0,    0, 1041,\n",
       "        638,  238,   22,    9,  128,    5,   58,   14,    1,    2,   25,\n",
       "        133,   18,  286,  231,  566,   26,  276,   52,    1,    2, 2054,\n",
       "         59,   84,   71,   46,   27,   50,   18,    4,  102,  139,   15,\n",
       "         62,  503,  577,    7,  591,   32,  831,   24,  375, 1225,  137,\n",
       "       1056,   87,   49, 1225,  360,    9,   60,   14,    1,    2,  962,\n",
       "        308,   17,   57,  343,  635,    3,  115,   86,  182,   19,  635,\n",
       "         52,    1,    2,    7,  848,  207,   19,   26,    5,   10,    1,\n",
       "          2,  283,   11,  754, 1142,   78,   13,   63,    7, 1057,  171,\n",
       "         35,  448,  531,   43,   11,   11,  125, 1909,  206,   27, 1237,\n",
       "       1910,  148,  162,  109,   81,   21,   30,   33,    3,   21,   48,\n",
       "         51,   72,   41,  113,   21,  118,   92,   16,  144,  283,   11,\n",
       "       1339,  619, 1911,   20,   42, 1478,   12, 1912,   20,  132,  186,\n",
       "         40,    3,   39,   34,   72,  145,   38,  218,  283,  274,  154,\n",
       "        754,    3,   87], dtype=int32)"
      ]
     },
     "metadata": {},
     "execution_count": 47
    }
   ],
   "metadata": {}
  },
  {
   "cell_type": "code",
   "execution_count": 48,
   "source": [
    "y[1]"
   ],
   "outputs": [
    {
     "output_type": "execute_result",
     "data": {
      "text/plain": [
       "'058'"
      ]
     },
     "metadata": {},
     "execution_count": 48
    }
   ],
   "metadata": {}
  },
  {
   "cell_type": "code",
   "execution_count": 49,
   "source": [
    "print(len(X),len(y))"
   ],
   "outputs": [
    {
     "output_type": "stream",
     "name": "stdout",
     "text": [
      "2951 2951\n"
     ]
    }
   ],
   "metadata": {}
  },
  {
   "cell_type": "code",
   "execution_count": 50,
   "source": [
    "y = to_categorical(y)"
   ],
   "outputs": [],
   "metadata": {}
  },
  {
   "cell_type": "code",
   "execution_count": 51,
   "source": [
    "print(X.shape, y.shape)"
   ],
   "outputs": [
    {
     "output_type": "stream",
     "name": "stdout",
     "text": [
      "(2951, 300) (2951, 236)\n"
     ]
    }
   ],
   "metadata": {}
  },
  {
   "cell_type": "code",
   "execution_count": 52,
   "source": [
    "x_train, x_test, y_train, y_test = train_test_split(X, y,test_size=0.3, random_state=777, stratify=y) #추천 한 번밖에 안된 애들 있어서 stratify 안됨"
   ],
   "outputs": [],
   "metadata": {}
  },
  {
   "cell_type": "code",
   "execution_count": 53,
   "source": [
    "num_class = int(max(kn_data.id)) + 1"
   ],
   "outputs": [],
   "metadata": {}
  },
  {
   "cell_type": "code",
   "execution_count": 54,
   "source": [
    "from tensorflow.keras.layers import LSTM, RNN"
   ],
   "outputs": [],
   "metadata": {}
  },
  {
   "cell_type": "code",
   "execution_count": 55,
   "source": [
    "model = Sequential()\n",
    "model.add(Embedding(vocab_size, max_len))\n",
    "model.add(LSTM(max_len))\n",
    "model.add(Dense(num_class, activation='softmax'))\n",
    "\n",
    "model.summary()"
   ],
   "outputs": [
    {
     "output_type": "stream",
     "name": "stdout",
     "text": [
      "Model: \"sequential\"\n",
      "_________________________________________________________________\n",
      "Layer (type)                 Output Shape              Param #   \n",
      "=================================================================\n",
      "embedding (Embedding)        (None, None, 300)         724500    \n",
      "_________________________________________________________________\n",
      "lstm (LSTM)                  (None, 300)               721200    \n",
      "_________________________________________________________________\n",
      "dense (Dense)                (None, 236)               71036     \n",
      "=================================================================\n",
      "Total params: 1,516,736\n",
      "Trainable params: 1,516,736\n",
      "Non-trainable params: 0\n",
      "_________________________________________________________________\n"
     ]
    }
   ],
   "metadata": {}
  },
  {
   "cell_type": "code",
   "execution_count": 56,
   "source": [
    "es = EarlyStopping(monitor='val_loss', mode='min', verbose=1, patience=6)\n",
    "mc = ModelCheckpoint('kn_model_lstm.h5', monitor='val_acc', mode='max', verbose=1, save_best_only=True)"
   ],
   "outputs": [],
   "metadata": {}
  },
  {
   "cell_type": "code",
   "execution_count": 57,
   "source": [
    "model.compile(optimizer='adam', loss='categorical_crossentropy', metrics=['acc'])\n",
    "history = model.fit(x_train, y_train, epochs=10, callbacks=[es, mc], batch_size=32, validation_split=0.2)\n",
    "\n",
    "print(\"테스트 셋 체크\")\n",
    "loaded_model = load_model('kn_model_lstm.h5')\n",
    "print(\"\\n 테스트 정확도: %.4f\" % (loaded_model.evaluate(x_test, y_test)[1]))"
   ],
   "outputs": [
    {
     "output_type": "stream",
     "name": "stdout",
     "text": [
      "Epoch 1/10\n",
      "52/52 [==============================] - 183s 3s/step - loss: 5.2730 - acc: 0.0952 - val_loss: 4.2818 - val_acc: 0.1671\n",
      "\n",
      "Epoch 00001: val_acc improved from -inf to 0.16707, saving model to kn_model_lstm.h5\n",
      "Epoch 2/10\n",
      "52/52 [==============================] - 173s 3s/step - loss: 3.6157 - acc: 0.2569 - val_loss: 2.2793 - val_acc: 0.5835\n",
      "\n",
      "Epoch 00002: val_acc improved from 0.16707 to 0.58354, saving model to kn_model_lstm.h5\n",
      "Epoch 3/10\n",
      "52/52 [==============================] - 94s 2s/step - loss: 1.5426 - acc: 0.7105 - val_loss: 1.0478 - val_acc: 0.8257\n",
      "\n",
      "Epoch 00003: val_acc improved from 0.58354 to 0.82567, saving model to kn_model_lstm.h5\n",
      "Epoch 4/10\n",
      "52/52 [==============================] - 127s 2s/step - loss: 0.7477 - acc: 0.8806 - val_loss: 0.5417 - val_acc: 0.9056\n",
      "\n",
      "Epoch 00004: val_acc improved from 0.82567 to 0.90557, saving model to kn_model_lstm.h5\n",
      "Epoch 5/10\n",
      "52/52 [==============================] - 159s 3s/step - loss: 0.2775 - acc: 0.9531 - val_loss: 0.3198 - val_acc: 0.9492\n",
      "\n",
      "Epoch 00005: val_acc improved from 0.90557 to 0.94915, saving model to kn_model_lstm.h5\n",
      "Epoch 6/10\n",
      "52/52 [==============================] - 107s 2s/step - loss: 0.1146 - acc: 0.9867 - val_loss: 0.2247 - val_acc: 0.9661\n",
      "\n",
      "Epoch 00006: val_acc improved from 0.94915 to 0.96610, saving model to kn_model_lstm.h5\n",
      "Epoch 7/10\n",
      "52/52 [==============================] - 79s 1s/step - loss: 0.0678 - acc: 0.9894 - val_loss: 0.1743 - val_acc: 0.9831\n",
      "\n",
      "Epoch 00007: val_acc improved from 0.96610 to 0.98305, saving model to kn_model_lstm.h5\n",
      "Epoch 8/10\n",
      "52/52 [==============================] - 95s 2s/step - loss: 0.0268 - acc: 0.9987 - val_loss: 0.1438 - val_acc: 0.9879\n",
      "\n",
      "Epoch 00008: val_acc improved from 0.98305 to 0.98789, saving model to kn_model_lstm.h5\n",
      "Epoch 9/10\n",
      "52/52 [==============================] - 177s 3s/step - loss: 0.0216 - acc: 0.9991 - val_loss: 0.1441 - val_acc: 0.9879\n",
      "\n",
      "Epoch 00009: val_acc did not improve from 0.98789\n",
      "Epoch 10/10\n",
      "52/52 [==============================] - 68s 1s/step - loss: 0.0114 - acc: 0.9990 - val_loss: 0.1287 - val_acc: 0.9879\n",
      "\n",
      "Epoch 00010: val_acc did not improve from 0.98789\n",
      "테스트 셋 체크\n",
      "28/28 [==============================] - 7s 228ms/step - loss: 0.0597 - acc: 0.9966\n",
      "\n",
      " 테스트 정확도: 0.9966\n"
     ]
    }
   ],
   "metadata": {}
  },
  {
   "cell_type": "markdown",
   "source": [
    "Cannot convert a symbolic Tensor -> numpy 버전 1.19.5로 바꿔줌\n",
    "\n",
    "https://wikidocs.net/45101"
   ],
   "metadata": {}
  },
  {
   "cell_type": "code",
   "execution_count": 58,
   "source": [
    "# list all data in history\n",
    "print(history.history.keys())\n",
    "# summarize history for accuracy\n",
    "plt.plot(history.history['acc'])\n",
    "plt.plot(history.history['val_acc'])\n",
    "plt.title('model accuracy')\n",
    "plt.ylabel('accuracy')\n",
    "plt.xlabel('epoch')\n",
    "plt.legend(['train', 'test'], loc='upper left')\n",
    "plt.show()\n",
    "# summarize history for loss\n",
    "plt.plot(history.history['loss'])\n",
    "plt.plot(history.history['val_loss'])\n",
    "plt.title('model loss')\n",
    "plt.ylabel('loss')\n",
    "plt.xlabel('epoch')\n",
    "plt.legend(['train', 'test'], loc='upper left')\n",
    "plt.show()"
   ],
   "outputs": [
    {
     "output_type": "stream",
     "name": "stdout",
     "text": [
      "dict_keys(['loss', 'acc', 'val_loss', 'val_acc'])\n"
     ]
    },
    {
     "output_type": "display_data",
     "data": {
      "image/png": "[encoded data removed]",
      "text/plain": [
       "<Figure size 640x480 with 1 Axes>"
      ]
     },
     "metadata": {}
    },
    {
     "output_type": "display_data",
     "data": {
      "image/png": "[encoded data removed]",
      "text/plain": [
       "<Figure size 640x480 with 1 Axes>"
      ]
     },
     "metadata": {}
    }
   ],
   "metadata": {}
  },
  {
   "cell_type": "code",
   "execution_count": null,
   "source": [],
   "outputs": [],
   "metadata": {}
  }
 ],
 "metadata": {
  "orig_nbformat": 4,
  "language_info": {
   "name": "python",
   "version": "3.8.0",
   "mimetype": "text/x-python",
   "codemirror_mode": {
    "name": "ipython",
    "version": 3
   },
   "pygments_lexer": "ipython3",
   "nbconvert_exporter": "python",
   "file_extension": ".py"
  },
  "kernelspec": {
   "name": "python3",
   "display_name": "Python 3.8.0 64-bit ('sj': conda)"
  },
  "interpreter": {
   "hash": "022eb7dab1e64abfe7845a82597d3156ee0a5d78294cf462a778b063942c3de6"
  }
 },
 "nbformat": 4,
 "nbformat_minor": 2
}