{
 "cells": [
  {
   "cell_type": "code",
   "execution_count": 1,
   "source": [
    "import pandas as pd\n",
    "\n",
    "ddata = pd.read_csv(\"./data/ddata.txt\", encoding=\"euc-kr\", sep=\"\\t\", names=[\"num\",\"speaker\",\"contents\",\"tags\"])\n",
    "mdata = pd.read_csv(\"./data/mdata.txt\", encoding=\"euc-kr\", sep=\"\\t\", names=[\"id\",\"part\",\"category\",\"exptype\",\"exp\"])\n",
    "\n",
    "ddata.head()"
   ],
   "outputs": [
    {
     "output_type": "execute_result",
     "data": {
      "text/html": [
       "<div>\n",
       "<style scoped>\n",
       "    .dataframe tbody tr th:only-of-type {\n",
       "        vertical-align: middle;\n",
       "    }\n",
       "\n",
       "    .dataframe tbody tr th {\n",
       "        vertical-align: top;\n",
       "    }\n",
       "\n",
       "    .dataframe thead th {\n",
       "        text-align: right;\n",
       "    }\n",
       "</style>\n",
       "<table border=\"1\" class=\"dataframe\">\n",
       "  <thead>\n",
       "    <tr style=\"text-align: right;\">\n",
       "      <th></th>\n",
       "      <th>num</th>\n",
       "      <th>speaker</th>\n",
       "      <th>contents</th>\n",
       "      <th>tags</th>\n",
       "    </tr>\n",
       "  </thead>\n",
       "  <tbody>\n",
       "    <tr>\n",
       "      <th>0</th>\n",
       "      <td>0</td>\n",
       "      <td>&lt;CO&gt;</td>\n",
       "      <td>어서오세요. 코디봇입니다. 무엇을 도와드릴까요?</td>\n",
       "      <td>INTRO</td>\n",
       "    </tr>\n",
       "    <tr>\n",
       "      <th>1</th>\n",
       "      <td>1</td>\n",
       "      <td>&lt;US&gt;</td>\n",
       "      <td>처음 대학교 들어가는데 입을 옷 코디해주세요.</td>\n",
       "      <td>NaN</td>\n",
       "    </tr>\n",
       "    <tr>\n",
       "      <th>2</th>\n",
       "      <td>2</td>\n",
       "      <td>&lt;CO&gt;</td>\n",
       "      <td>신입생 코디에 어울리게 화사한 스웨터를 추천해드릴게요.</td>\n",
       "      <td>EXP_RES_SITUATION;EXP_RES_DESCRIPTION</td>\n",
       "    </tr>\n",
       "    <tr>\n",
       "      <th>3</th>\n",
       "      <td>3</td>\n",
       "      <td>&lt;AC&gt;</td>\n",
       "      <td>SW-009</td>\n",
       "      <td>NaN</td>\n",
       "    </tr>\n",
       "    <tr>\n",
       "      <th>4</th>\n",
       "      <td>4</td>\n",
       "      <td>&lt;US&gt;</td>\n",
       "      <td>이 옷에 어울리는 치마로 추천해주세요.</td>\n",
       "      <td>USER_SUCCESS</td>\n",
       "    </tr>\n",
       "  </tbody>\n",
       "</table>\n",
       "</div>"
      ],
      "text/plain": [
       "   num speaker                         contents  \\\n",
       "0    0    <CO>       어서오세요. 코디봇입니다. 무엇을 도와드릴까요?   \n",
       "1    1    <US>        처음 대학교 들어가는데 입을 옷 코디해주세요.   \n",
       "2    2    <CO>   신입생 코디에 어울리게 화사한 스웨터를 추천해드릴게요.   \n",
       "3    3    <AC>                           SW-009   \n",
       "4    4    <US>            이 옷에 어울리는 치마로 추천해주세요.   \n",
       "\n",
       "                                    tags  \n",
       "0                                  INTRO  \n",
       "1                                    NaN  \n",
       "2  EXP_RES_SITUATION;EXP_RES_DESCRIPTION  \n",
       "3                                    NaN  \n",
       "4                           USER_SUCCESS  "
      ]
     },
     "metadata": {},
     "execution_count": 1
    }
   ],
   "metadata": {}
  },
  {
   "cell_type": "markdown",
   "source": [
    "# 1. 전체 대화셋 개수 카운트"
   ],
   "metadata": {}
  },
  {
   "cell_type": "code",
   "execution_count": 2,
   "source": [
    "dial_num = 0\n",
    "\n",
    "for i in range(1, len(ddata)):\n",
    "    if ddata.loc[i, \"num\"] == 0:\n",
    "        dial_num += 1\n",
    "print(\"총 대화셋 수: \",dial_num)"
   ],
   "outputs": [
    {
     "output_type": "stream",
     "name": "stdout",
     "text": [
      "총 대화셋 수:  7235\n"
     ]
    }
   ],
   "metadata": {}
  },
  {
   "cell_type": "markdown",
   "source": [
    "# 2. Mdata 합치기"
   ],
   "metadata": {}
  },
  {
   "cell_type": "markdown",
   "source": [
    "## - Part 살려서 합치기"
   ],
   "metadata": {}
  },
  {
   "cell_type": "code",
   "execution_count": 3,
   "source": [
    "c_mdata = pd.DataFrame({\"id\":[0],\"exp\":[None]})\n",
    "c_mdata.drop(0, axis=0, inplace=True)\n",
    "c_mdata"
   ],
   "outputs": [
    {
     "output_type": "execute_result",
     "data": {
      "text/html": [
       "<div>\n",
       "<style scoped>\n",
       "    .dataframe tbody tr th:only-of-type {\n",
       "        vertical-align: middle;\n",
       "    }\n",
       "\n",
       "    .dataframe tbody tr th {\n",
       "        vertical-align: top;\n",
       "    }\n",
       "\n",
       "    .dataframe thead th {\n",
       "        text-align: right;\n",
       "    }\n",
       "</style>\n",
       "<table border=\"1\" class=\"dataframe\">\n",
       "  <thead>\n",
       "    <tr style=\"text-align: right;\">\n",
       "      <th></th>\n",
       "      <th>id</th>\n",
       "      <th>exp</th>\n",
       "    </tr>\n",
       "  </thead>\n",
       "  <tbody>\n",
       "  </tbody>\n",
       "</table>\n",
       "</div>"
      ],
      "text/plain": [
       "Empty DataFrame\n",
       "Columns: [id, exp]\n",
       "Index: []"
      ]
     },
     "metadata": {},
     "execution_count": 3
    }
   ],
   "metadata": {}
  },
  {
   "cell_type": "code",
   "execution_count": 4,
   "source": [
    "id = \"\"\n",
    "idx = 0\n",
    "for i in range(len(mdata)):\n",
    "    if id == mdata.loc[i, \"id\"]:\n",
    "        c_mdata.loc[c_mdata.index[(c_mdata[\"id\"] == id)].tolist().pop(),\"exp\"] = c_mdata.loc[c_mdata.index[(c_mdata[\"id\"] == id)].tolist().pop(),\"exp\"] + \" \" + mdata.loc[i, \"exp\"]\n",
    "    \n",
    "    else:\n",
    "        id = mdata.loc[i, \"id\"]\n",
    "        c_mdata.loc[i, \"id\"] = id\n",
    "        c_mdata.loc[i, \"exp\"] = mdata.loc[i, \"exp\"]\n",
    "\n",
    "c_mdata.head()"
   ],
   "outputs": [
    {
     "output_type": "execute_result",
     "data": {
      "text/html": [
       "<div>\n",
       "<style scoped>\n",
       "    .dataframe tbody tr th:only-of-type {\n",
       "        vertical-align: middle;\n",
       "    }\n",
       "\n",
       "    .dataframe tbody tr th {\n",
       "        vertical-align: top;\n",
       "    }\n",
       "\n",
       "    .dataframe thead th {\n",
       "        text-align: right;\n",
       "    }\n",
       "</style>\n",
       "<table border=\"1\" class=\"dataframe\">\n",
       "  <thead>\n",
       "    <tr style=\"text-align: right;\">\n",
       "      <th></th>\n",
       "      <th>id</th>\n",
       "      <th>exp</th>\n",
       "    </tr>\n",
       "  </thead>\n",
       "  <tbody>\n",
       "    <tr>\n",
       "      <th>0</th>\n",
       "      <td>BL-001</td>\n",
       "      <td>단추 여밈의 전체 오픈형 스탠드 칼라와 브이넥 네크라인의 결합스타일 손목까지 내려오...</td>\n",
       "    </tr>\n",
       "    <tr>\n",
       "      <th>20</th>\n",
       "      <td>BL-002</td>\n",
       "      <td>넓은 셔츠칼라 네크라인 앞중심에 반 오픈 끈여밈있는 스타일 드롭숄더 퍼프형 소매로 ...</td>\n",
       "    </tr>\n",
       "    <tr>\n",
       "      <th>38</th>\n",
       "      <td>BL-003</td>\n",
       "      <td>앞 중심에 단추 여밈 칼라가 없는 넓고 깊게 파인 브이넥 엉덩이 밑으로 내려오는 긴...</td>\n",
       "    </tr>\n",
       "    <tr>\n",
       "      <th>63</th>\n",
       "      <td>BL-004</td>\n",
       "      <td>앞중심에 단추 여밈 칼라가 없는 라운드넥으로 골반 위에서 끝나는 짧은 기장 손목, ...</td>\n",
       "    </tr>\n",
       "    <tr>\n",
       "      <th>84</th>\n",
       "      <td>BL-005</td>\n",
       "      <td>앞단추 여밈의 전체 오픈형 칼라가 없는 라운드넥크라인 엉덩이 위에서 끝나는 짧은 기...</td>\n",
       "    </tr>\n",
       "  </tbody>\n",
       "</table>\n",
       "</div>"
      ],
      "text/plain": [
       "         id                                                exp\n",
       "0   BL-001   단추 여밈의 전체 오픈형 스탠드 칼라와 브이넥 네크라인의 결합스타일 손목까지 내려오...\n",
       "20  BL-002   넓은 셔츠칼라 네크라인 앞중심에 반 오픈 끈여밈있는 스타일 드롭숄더 퍼프형 소매로 ...\n",
       "38  BL-003   앞 중심에 단추 여밈 칼라가 없는 넓고 깊게 파인 브이넥 엉덩이 밑으로 내려오는 긴...\n",
       "63  BL-004   앞중심에 단추 여밈 칼라가 없는 라운드넥으로 골반 위에서 끝나는 짧은 기장 손목, ...\n",
       "84  BL-005   앞단추 여밈의 전체 오픈형 칼라가 없는 라운드넥크라인 엉덩이 위에서 끝나는 짧은 기..."
      ]
     },
     "metadata": {},
     "execution_count": 4
    }
   ],
   "metadata": {}
  },
  {
   "cell_type": "code",
   "execution_count": 5,
   "source": [
    "for i in range(len(c_mdata)): # id 뒤에 공백 없애기\n",
    "    c_mdata.iloc[i].id = c_mdata.iloc[i].id.strip()\n",
    "\n",
    "print(c_mdata.iloc[0].id)\n",
    "c_mdata.reset_index(drop=True,inplace=True)\n",
    "c_mdata.head()"
   ],
   "outputs": [
    {
     "output_type": "stream",
     "name": "stdout",
     "text": [
      "BL-001\n"
     ]
    },
    {
     "output_type": "execute_result",
     "data": {
      "text/html": [
       "<div>\n",
       "<style scoped>\n",
       "    .dataframe tbody tr th:only-of-type {\n",
       "        vertical-align: middle;\n",
       "    }\n",
       "\n",
       "    .dataframe tbody tr th {\n",
       "        vertical-align: top;\n",
       "    }\n",
       "\n",
       "    .dataframe thead th {\n",
       "        text-align: right;\n",
       "    }\n",
       "</style>\n",
       "<table border=\"1\" class=\"dataframe\">\n",
       "  <thead>\n",
       "    <tr style=\"text-align: right;\">\n",
       "      <th></th>\n",
       "      <th>id</th>\n",
       "      <th>exp</th>\n",
       "    </tr>\n",
       "  </thead>\n",
       "  <tbody>\n",
       "    <tr>\n",
       "      <th>0</th>\n",
       "      <td>BL-001</td>\n",
       "      <td>단추 여밈의 전체 오픈형 스탠드 칼라와 브이넥 네크라인의 결합스타일 손목까지 내려오...</td>\n",
       "    </tr>\n",
       "    <tr>\n",
       "      <th>1</th>\n",
       "      <td>BL-002</td>\n",
       "      <td>넓은 셔츠칼라 네크라인 앞중심에 반 오픈 끈여밈있는 스타일 드롭숄더 퍼프형 소매로 ...</td>\n",
       "    </tr>\n",
       "    <tr>\n",
       "      <th>2</th>\n",
       "      <td>BL-003</td>\n",
       "      <td>앞 중심에 단추 여밈 칼라가 없는 넓고 깊게 파인 브이넥 엉덩이 밑으로 내려오는 긴...</td>\n",
       "    </tr>\n",
       "    <tr>\n",
       "      <th>3</th>\n",
       "      <td>BL-004</td>\n",
       "      <td>앞중심에 단추 여밈 칼라가 없는 라운드넥으로 골반 위에서 끝나는 짧은 기장 손목, ...</td>\n",
       "    </tr>\n",
       "    <tr>\n",
       "      <th>4</th>\n",
       "      <td>BL-005</td>\n",
       "      <td>앞단추 여밈의 전체 오픈형 칼라가 없는 라운드넥크라인 엉덩이 위에서 끝나는 짧은 기...</td>\n",
       "    </tr>\n",
       "  </tbody>\n",
       "</table>\n",
       "</div>"
      ],
      "text/plain": [
       "       id                                                exp\n",
       "0  BL-001  단추 여밈의 전체 오픈형 스탠드 칼라와 브이넥 네크라인의 결합스타일 손목까지 내려오...\n",
       "1  BL-002  넓은 셔츠칼라 네크라인 앞중심에 반 오픈 끈여밈있는 스타일 드롭숄더 퍼프형 소매로 ...\n",
       "2  BL-003  앞 중심에 단추 여밈 칼라가 없는 넓고 깊게 파인 브이넥 엉덩이 밑으로 내려오는 긴...\n",
       "3  BL-004  앞중심에 단추 여밈 칼라가 없는 라운드넥으로 골반 위에서 끝나는 짧은 기장 손목, ...\n",
       "4  BL-005  앞단추 여밈의 전체 오픈형 칼라가 없는 라운드넥크라인 엉덩이 위에서 끝나는 짧은 기..."
      ]
     },
     "metadata": {},
     "execution_count": 5
    }
   ],
   "metadata": {}
  },
  {
   "cell_type": "markdown",
   "source": [
    "# 3. NaN, Null 값 확인"
   ],
   "metadata": {}
  },
  {
   "cell_type": "code",
   "execution_count": 6,
   "source": [
    "ddata.drop(ddata.index[ddata.tags == \"INTRO\"].tolist(), axis=0, inplace=True)\n",
    "ddata.reset_index(drop=True, inplace=True)\n",
    "ddata[ddata.tags == \"INTRO\"]"
   ],
   "outputs": [
    {
     "output_type": "execute_result",
     "data": {
      "text/html": [
       "<div>\n",
       "<style scoped>\n",
       "    .dataframe tbody tr th:only-of-type {\n",
       "        vertical-align: middle;\n",
       "    }\n",
       "\n",
       "    .dataframe tbody tr th {\n",
       "        vertical-align: top;\n",
       "    }\n",
       "\n",
       "    .dataframe thead th {\n",
       "        text-align: right;\n",
       "    }\n",
       "</style>\n",
       "<table border=\"1\" class=\"dataframe\">\n",
       "  <thead>\n",
       "    <tr style=\"text-align: right;\">\n",
       "      <th></th>\n",
       "      <th>num</th>\n",
       "      <th>speaker</th>\n",
       "      <th>contents</th>\n",
       "      <th>tags</th>\n",
       "    </tr>\n",
       "  </thead>\n",
       "  <tbody>\n",
       "  </tbody>\n",
       "</table>\n",
       "</div>"
      ],
      "text/plain": [
       "Empty DataFrame\n",
       "Columns: [num, speaker, contents, tags]\n",
       "Index: []"
      ]
     },
     "metadata": {},
     "execution_count": 6
    }
   ],
   "metadata": {}
  },
  {
   "cell_type": "code",
   "execution_count": 7,
   "source": [
    "ddata.isnull().sum()"
   ],
   "outputs": [
    {
     "output_type": "execute_result",
     "data": {
      "text/plain": [
       "num             0\n",
       "speaker         0\n",
       "contents        0\n",
       "tags        51927\n",
       "dtype: int64"
      ]
     },
     "metadata": {},
     "execution_count": 7
    }
   ],
   "metadata": {}
  },
  {
   "cell_type": "code",
   "execution_count": 8,
   "source": [
    "ddata.isna().sum()"
   ],
   "outputs": [
    {
     "output_type": "execute_result",
     "data": {
      "text/plain": [
       "num             0\n",
       "speaker         0\n",
       "contents        0\n",
       "tags        51927\n",
       "dtype: int64"
      ]
     },
     "metadata": {},
     "execution_count": 8
    }
   ],
   "metadata": {}
  },
  {
   "cell_type": "code",
   "execution_count": 9,
   "source": [
    "ddata.fillna(\"\", inplace=True)\n",
    "ddata.isna().sum()"
   ],
   "outputs": [
    {
     "output_type": "execute_result",
     "data": {
      "text/plain": [
       "num         0\n",
       "speaker     0\n",
       "contents    0\n",
       "tags        0\n",
       "dtype: int64"
      ]
     },
     "metadata": {},
     "execution_count": 9
    }
   ],
   "metadata": {}
  },
  {
   "cell_type": "code",
   "execution_count": 10,
   "source": [
    "mdata.isnull().sum()"
   ],
   "outputs": [
    {
     "output_type": "execute_result",
     "data": {
      "text/plain": [
       "id          0\n",
       "part        0\n",
       "category    0\n",
       "exptype     0\n",
       "exp         0\n",
       "dtype: int64"
      ]
     },
     "metadata": {},
     "execution_count": 10
    }
   ],
   "metadata": {}
  },
  {
   "cell_type": "code",
   "execution_count": 11,
   "source": [
    "c_mdata.isnull().sum()"
   ],
   "outputs": [
    {
     "output_type": "execute_result",
     "data": {
      "text/plain": [
       "id     0\n",
       "exp    0\n",
       "dtype: int64"
      ]
     },
     "metadata": {},
     "execution_count": 11
    }
   ],
   "metadata": {}
  },
  {
   "cell_type": "markdown",
   "source": [
    "# 4. 추천 성공 의상 아이디 종류 및 빈도 카운트 "
   ],
   "metadata": {}
  },
  {
   "cell_type": "markdown",
   "source": [
    "## 한 번에 추천해도 실패하면 전부 실패로 달기"
   ],
   "metadata": {}
  },
  {
   "cell_type": "code",
   "execution_count": 12,
   "source": [
    "c_data = pd.DataFrame({\"contents\":[None], \"id\":[\"xx-xxx\"]})\n",
    "c_data.drop(0,axis=0,inplace=True)\n",
    "c_data.head()"
   ],
   "outputs": [
    {
     "output_type": "execute_result",
     "data": {
      "text/html": [
       "<div>\n",
       "<style scoped>\n",
       "    .dataframe tbody tr th:only-of-type {\n",
       "        vertical-align: middle;\n",
       "    }\n",
       "\n",
       "    .dataframe tbody tr th {\n",
       "        vertical-align: top;\n",
       "    }\n",
       "\n",
       "    .dataframe thead th {\n",
       "        text-align: right;\n",
       "    }\n",
       "</style>\n",
       "<table border=\"1\" class=\"dataframe\">\n",
       "  <thead>\n",
       "    <tr style=\"text-align: right;\">\n",
       "      <th></th>\n",
       "      <th>contents</th>\n",
       "      <th>id</th>\n",
       "    </tr>\n",
       "  </thead>\n",
       "  <tbody>\n",
       "  </tbody>\n",
       "</table>\n",
       "</div>"
      ],
      "text/plain": [
       "Empty DataFrame\n",
       "Columns: [contents, id]\n",
       "Index: []"
      ]
     },
     "metadata": {},
     "execution_count": 12
    }
   ],
   "metadata": {}
  },
  {
   "cell_type": "markdown",
   "source": [
    "<코드 동작 원리>\n",
    "<br>\n",
    "\n",
    "대화문 하나씩 받아온 다음\n",
    "- AC 태그 문장이면 일단 의상 변수에 저장,\n",
    "- user_success 태그 문장이면\n",
    "\n",
    "   - 변수에 저장된 의상이 하나면\n",
    "\n",
    "      - 바로 대화문 변수랑 의상 변수 및 의상 메타데이터 합쳐서 저장 -> 레이블(id 컬럼에 저장)은 의상 코드가 됨\n",
    "\n",
    "   - 변수에 저장된 의상의 여러 개면\n",
    "\n",
    "      - 의상을 하나의 코드 단위로 쪼개서 대화문 변수랑 의상 메타데이터 합쳐서 저장\n",
    "      \n",
    "-  둘 다 아니고 일반 대화문이면 대화문 변수에 저장"
   ],
   "metadata": {}
  },
  {
   "cell_type": "code",
   "execution_count": 13,
   "source": [
    "dial = ddata.loc[0, \"contents\"].strip()\n",
    "ac = \"\"\n",
    "\n",
    "for i in range(1,len(ddata)):\n",
    "    cur_sen = ddata.loc[i,\"contents\"].strip()\n",
    "\n",
    "    if ddata.loc[i, \"num\"] > ddata.loc[i-1, \"num\"]: # 이전 대화셋에 포함된 문장인지 확인\n",
    "        \n",
    "        if ddata.loc[i,\"speaker\"] == \"<AC>\": # case 1. 의상 아이디가 나온 경우\n",
    "            if len(ac) > 1:\n",
    "                ac = ac + \" \" + cur_sen # 의상 아이디 저장\n",
    "            else:\n",
    "                ac = cur_sen\n",
    "\n",
    "        elif \"USER_SUCCESS\" == ddata.loc[i,\"tags\"]: # case 2. USER_SUCCESS 태그가 나온 경우\n",
    "            if 0 < len(ac) < 7: # 의상을 하나만 추천한 경우\n",
    "                dial = dial + \" \" + ac + \" \" + cur_sen\n",
    "                c_data.loc[i, \"contents\"] =  dial + \" \" + c_mdata.loc[c_mdata.id == ac].exp.values[0]\n",
    "                c_data.loc[i, \"id\"] = ac\n",
    "                ac = \"\"\n",
    "\n",
    "            elif len(ac) == 0:\n",
    "                dial = dial + \" \" + cur_sen\n",
    "\n",
    "            else: # 의상을 한 번에 여러 개 추천한 경우\n",
    "                idx_cnt = 0\n",
    "                for one_ac in ac.split():\n",
    "                    c_data.loc[i + idx_cnt, \"contents\"] =  dial + \" \" + one_ac + \" \"+ cur_sen + \" \" + c_mdata.loc[c_mdata.id == one_ac].exp.values[0]\n",
    "                    c_data.loc[i + idx_cnt, \"id\"] = one_ac\n",
    "                    idx_cnt += 1\n",
    "                dial = dial + \" \" + ac + \" \" + cur_sen    \n",
    "                ac = \"\"\n",
    "        \n",
    "        elif \"USER_FAIL\" in ddata.loc[i,\"tags\"]:\n",
    "            dial = dial + \" \" + ac + \" \" + cur_sen\n",
    "            ac = \"\"\n",
    "\n",
    "        else: # case 3. 그냥 대화문인 경우\n",
    "            dial = dial + \" \" + cur_sen\n",
    "    \n",
    "    else: #새로운 대화셋 시작이면 초기화\n",
    "        dial = cur_sen\n",
    "        ac = \"\""
   ],
   "outputs": [],
   "metadata": {}
  },
  {
   "cell_type": "code",
   "execution_count": 14,
   "source": [
    "print(\"전체 데이터 수: \", len(c_data))\n",
    "c_data.head()"
   ],
   "outputs": [
    {
     "output_type": "stream",
     "name": "stdout",
     "text": [
      "전체 데이터 수:  34303\n"
     ]
    },
    {
     "output_type": "execute_result",
     "data": {
      "text/html": [
       "<div>\n",
       "<style scoped>\n",
       "    .dataframe tbody tr th:only-of-type {\n",
       "        vertical-align: middle;\n",
       "    }\n",
       "\n",
       "    .dataframe tbody tr th {\n",
       "        vertical-align: top;\n",
       "    }\n",
       "\n",
       "    .dataframe thead th {\n",
       "        text-align: right;\n",
       "    }\n",
       "</style>\n",
       "<table border=\"1\" class=\"dataframe\">\n",
       "  <thead>\n",
       "    <tr style=\"text-align: right;\">\n",
       "      <th></th>\n",
       "      <th>contents</th>\n",
       "      <th>id</th>\n",
       "    </tr>\n",
       "  </thead>\n",
       "  <tbody>\n",
       "    <tr>\n",
       "      <th>3</th>\n",
       "      <td>처음 대학교 들어가는데 입을 옷 코디해주세요. 신입생 코디에 어울리게 화사한 스웨터...</td>\n",
       "      <td>SW-009</td>\n",
       "    </tr>\n",
       "    <tr>\n",
       "      <th>12</th>\n",
       "      <td>처음 대학교 들어가는데 입을 옷 코디해주세요. 신입생 코디에 어울리게 화사한 스웨터...</td>\n",
       "      <td>SK-053</td>\n",
       "    </tr>\n",
       "    <tr>\n",
       "      <th>17</th>\n",
       "      <td>처음 대학교 들어가는데 입을 옷 코디해주세요. 신입생 코디에 어울리게 화사한 스웨터...</td>\n",
       "      <td>CT-019</td>\n",
       "    </tr>\n",
       "    <tr>\n",
       "      <th>22</th>\n",
       "      <td>처음 대학교 들어가는데 입을 옷 코디해주세요. 신입생 코디에 어울리게 화사한 스웨터...</td>\n",
       "      <td>SE-039</td>\n",
       "    </tr>\n",
       "    <tr>\n",
       "      <th>26</th>\n",
       "      <td>처음 대학교 들어가는데 입을 옷 코디해주세요. 신입생 코디에 어울리게 화사한 스웨터...</td>\n",
       "      <td>CT-019</td>\n",
       "    </tr>\n",
       "  </tbody>\n",
       "</table>\n",
       "</div>"
      ],
      "text/plain": [
       "                                             contents      id\n",
       "3   처음 대학교 들어가는데 입을 옷 코디해주세요. 신입생 코디에 어울리게 화사한 스웨터...  SW-009\n",
       "12  처음 대학교 들어가는데 입을 옷 코디해주세요. 신입생 코디에 어울리게 화사한 스웨터...  SK-053\n",
       "17  처음 대학교 들어가는데 입을 옷 코디해주세요. 신입생 코디에 어울리게 화사한 스웨터...  CT-019\n",
       "22  처음 대학교 들어가는데 입을 옷 코디해주세요. 신입생 코디에 어울리게 화사한 스웨터...  SE-039\n",
       "26  처음 대학교 들어가는데 입을 옷 코디해주세요. 신입생 코디에 어울리게 화사한 스웨터...  CT-019"
      ]
     },
     "metadata": {},
     "execution_count": 14
    }
   ],
   "metadata": {}
  },
  {
   "cell_type": "code",
   "execution_count": 15,
   "source": [
    "c_data.reset_index(drop=True ,inplace=True)\n",
    "c_data.head()"
   ],
   "outputs": [
    {
     "output_type": "execute_result",
     "data": {
      "text/html": [
       "<div>\n",
       "<style scoped>\n",
       "    .dataframe tbody tr th:only-of-type {\n",
       "        vertical-align: middle;\n",
       "    }\n",
       "\n",
       "    .dataframe tbody tr th {\n",
       "        vertical-align: top;\n",
       "    }\n",
       "\n",
       "    .dataframe thead th {\n",
       "        text-align: right;\n",
       "    }\n",
       "</style>\n",
       "<table border=\"1\" class=\"dataframe\">\n",
       "  <thead>\n",
       "    <tr style=\"text-align: right;\">\n",
       "      <th></th>\n",
       "      <th>contents</th>\n",
       "      <th>id</th>\n",
       "    </tr>\n",
       "  </thead>\n",
       "  <tbody>\n",
       "    <tr>\n",
       "      <th>0</th>\n",
       "      <td>처음 대학교 들어가는데 입을 옷 코디해주세요. 신입생 코디에 어울리게 화사한 스웨터...</td>\n",
       "      <td>SW-009</td>\n",
       "    </tr>\n",
       "    <tr>\n",
       "      <th>1</th>\n",
       "      <td>처음 대학교 들어가는데 입을 옷 코디해주세요. 신입생 코디에 어울리게 화사한 스웨터...</td>\n",
       "      <td>SK-053</td>\n",
       "    </tr>\n",
       "    <tr>\n",
       "      <th>2</th>\n",
       "      <td>처음 대학교 들어가는데 입을 옷 코디해주세요. 신입생 코디에 어울리게 화사한 스웨터...</td>\n",
       "      <td>CT-019</td>\n",
       "    </tr>\n",
       "    <tr>\n",
       "      <th>3</th>\n",
       "      <td>처음 대학교 들어가는데 입을 옷 코디해주세요. 신입생 코디에 어울리게 화사한 스웨터...</td>\n",
       "      <td>SE-039</td>\n",
       "    </tr>\n",
       "    <tr>\n",
       "      <th>4</th>\n",
       "      <td>처음 대학교 들어가는데 입을 옷 코디해주세요. 신입생 코디에 어울리게 화사한 스웨터...</td>\n",
       "      <td>CT-019</td>\n",
       "    </tr>\n",
       "  </tbody>\n",
       "</table>\n",
       "</div>"
      ],
      "text/plain": [
       "                                            contents      id\n",
       "0  처음 대학교 들어가는데 입을 옷 코디해주세요. 신입생 코디에 어울리게 화사한 스웨터...  SW-009\n",
       "1  처음 대학교 들어가는데 입을 옷 코디해주세요. 신입생 코디에 어울리게 화사한 스웨터...  SK-053\n",
       "2  처음 대학교 들어가는데 입을 옷 코디해주세요. 신입생 코디에 어울리게 화사한 스웨터...  CT-019\n",
       "3  처음 대학교 들어가는데 입을 옷 코디해주세요. 신입생 코디에 어울리게 화사한 스웨터...  SE-039\n",
       "4  처음 대학교 들어가는데 입을 옷 코디해주세요. 신입생 코디에 어울리게 화사한 스웨터...  CT-019"
      ]
     },
     "metadata": {},
     "execution_count": 15
    }
   ],
   "metadata": {}
  },
  {
   "cell_type": "code",
   "execution_count": 16,
   "source": [
    "c_data.loc[0].contents"
   ],
   "outputs": [
    {
     "output_type": "execute_result",
     "data": {
      "text/plain": [
       "'처음 대학교 들어가는데 입을 옷 코디해주세요. 신입생 코디에 어울리게 화사한 스웨터를 추천해드릴게요. SW-009 이 옷에 어울리는 치마로 추천해주세요. 라운드 네크라인 여밈이 없는 풀오버 스타일 전체 케이블 조직 드롭숄더 슬리브 손등까지 오는 길이의 소매 몸에 적당히 맞는 품 엉덩이를 살짝 덮는 길이 네크라인, 소매 끝, 밑단에 고무단 처리 레이온52%,나일론20%,폴리에스터28% 꽈배기 조직, 플레인 조직이 섞여 있는 형태 드라이 크리닝 단색의 라임색 브라이트톤(고명도 고채도)의 옐로우 그린 산뜻하고 발랄한 느낌 기본의 단정한 편안한 산뜻한 발랄한 경쾌한 따뜻한 데일리룩 캠퍼스룩'"
      ]
     },
     "metadata": {},
     "execution_count": 16
    }
   ],
   "metadata": {}
  },
  {
   "cell_type": "code",
   "execution_count": 17,
   "source": [
    "se_data = pd.DataFrame({\"contents\":[None], \"id\":[\"xx-xxx\"]})\n",
    "se_data.drop(0,axis=0,inplace=True)\n",
    "se_data.head()"
   ],
   "outputs": [
    {
     "output_type": "execute_result",
     "data": {
      "text/html": [
       "<div>\n",
       "<style scoped>\n",
       "    .dataframe tbody tr th:only-of-type {\n",
       "        vertical-align: middle;\n",
       "    }\n",
       "\n",
       "    .dataframe tbody tr th {\n",
       "        vertical-align: top;\n",
       "    }\n",
       "\n",
       "    .dataframe thead th {\n",
       "        text-align: right;\n",
       "    }\n",
       "</style>\n",
       "<table border=\"1\" class=\"dataframe\">\n",
       "  <thead>\n",
       "    <tr style=\"text-align: right;\">\n",
       "      <th></th>\n",
       "      <th>contents</th>\n",
       "      <th>id</th>\n",
       "    </tr>\n",
       "  </thead>\n",
       "  <tbody>\n",
       "  </tbody>\n",
       "</table>\n",
       "</div>"
      ],
      "text/plain": [
       "Empty DataFrame\n",
       "Columns: [contents, id]\n",
       "Index: []"
      ]
     },
     "metadata": {},
     "execution_count": 17
    }
   ],
   "metadata": {}
  },
  {
   "cell_type": "code",
   "execution_count": 18,
   "source": [
    "for i in range(len(c_data)):\n",
    "    if \"SE\" in c_data[\"id\"][i][0:2]:\n",
    "        se_data = se_data.append(c_data.iloc[i])\n",
    "\n",
    "se_data.reset_index(drop=True, inplace=True)\n",
    "print(\"데이터 개수\",len(se_data))\n",
    "se_data.head()"
   ],
   "outputs": [
    {
     "output_type": "stream",
     "name": "stdout",
     "text": [
      "데이터 개수 8864\n"
     ]
    },
    {
     "output_type": "execute_result",
     "data": {
      "text/html": [
       "<div>\n",
       "<style scoped>\n",
       "    .dataframe tbody tr th:only-of-type {\n",
       "        vertical-align: middle;\n",
       "    }\n",
       "\n",
       "    .dataframe tbody tr th {\n",
       "        vertical-align: top;\n",
       "    }\n",
       "\n",
       "    .dataframe thead th {\n",
       "        text-align: right;\n",
       "    }\n",
       "</style>\n",
       "<table border=\"1\" class=\"dataframe\">\n",
       "  <thead>\n",
       "    <tr style=\"text-align: right;\">\n",
       "      <th></th>\n",
       "      <th>contents</th>\n",
       "      <th>id</th>\n",
       "    </tr>\n",
       "  </thead>\n",
       "  <tbody>\n",
       "    <tr>\n",
       "      <th>0</th>\n",
       "      <td>처음 대학교 들어가는데 입을 옷 코디해주세요. 신입생 코디에 어울리게 화사한 스웨터...</td>\n",
       "      <td>SE-039</td>\n",
       "    </tr>\n",
       "    <tr>\n",
       "      <th>1</th>\n",
       "      <td>처음 대학교 들어가는데 입을 옷 코디해주세요. 신입생 코디에 어울리게 화사한 스웨터...</td>\n",
       "      <td>SE-039</td>\n",
       "    </tr>\n",
       "    <tr>\n",
       "      <th>2</th>\n",
       "      <td>동아리에서 엠티를 가는데 옷이 필요해요. 코디좀 부탁드려요. 활동성 좋은 옷들로 구...</td>\n",
       "      <td>SE-039</td>\n",
       "    </tr>\n",
       "    <tr>\n",
       "      <th>3</th>\n",
       "      <td>상견례 자리에서 입을 옷이 필요해요. 자켓에 어울리는 코디로 추천해주세요. 상견례 ...</td>\n",
       "      <td>SE-023</td>\n",
       "    </tr>\n",
       "    <tr>\n",
       "      <th>4</th>\n",
       "      <td>친구들이랑 둘레길을 걸으려는데 산책하기 좋은 코디 추천해주세요. 편안하고 활동적인 ...</td>\n",
       "      <td>SE-039</td>\n",
       "    </tr>\n",
       "  </tbody>\n",
       "</table>\n",
       "</div>"
      ],
      "text/plain": [
       "                                            contents      id\n",
       "0  처음 대학교 들어가는데 입을 옷 코디해주세요. 신입생 코디에 어울리게 화사한 스웨터...  SE-039\n",
       "1  처음 대학교 들어가는데 입을 옷 코디해주세요. 신입생 코디에 어울리게 화사한 스웨터...  SE-039\n",
       "2  동아리에서 엠티를 가는데 옷이 필요해요. 코디좀 부탁드려요. 활동성 좋은 옷들로 구...  SE-039\n",
       "3  상견례 자리에서 입을 옷이 필요해요. 자켓에 어울리는 코디로 추천해주세요. 상견례 ...  SE-023\n",
       "4  친구들이랑 둘레길을 걸으려는데 산책하기 좋은 코디 추천해주세요. 편안하고 활동적인 ...  SE-039"
      ]
     },
     "metadata": {},
     "execution_count": 18
    }
   ],
   "metadata": {}
  },
  {
   "cell_type": "code",
   "execution_count": 19,
   "source": [
    "se_data[\"contents\"] = se_data[\"contents\"].str.replace(\"[^A-Za-z0-9ㄱ-ㅎㅏ-ㅣ가-힣 ]\",\"\")\n",
    "se_data.head()"
   ],
   "outputs": [
    {
     "output_type": "stream",
     "name": "stderr",
     "text": [
      "<ipython-input-19-b20438e65d9f>:1: FutureWarning: The default value of regex will change from True to False in a future version.\n",
      "  se_data[\"contents\"] = se_data[\"contents\"].str.replace(\"[^A-Za-z0-9ㄱ-ㅎㅏ-ㅣ가-힣 ]\",\"\")\n"
     ]
    },
    {
     "output_type": "execute_result",
     "data": {
      "text/html": [
       "<div>\n",
       "<style scoped>\n",
       "    .dataframe tbody tr th:only-of-type {\n",
       "        vertical-align: middle;\n",
       "    }\n",
       "\n",
       "    .dataframe tbody tr th {\n",
       "        vertical-align: top;\n",
       "    }\n",
       "\n",
       "    .dataframe thead th {\n",
       "        text-align: right;\n",
       "    }\n",
       "</style>\n",
       "<table border=\"1\" class=\"dataframe\">\n",
       "  <thead>\n",
       "    <tr style=\"text-align: right;\">\n",
       "      <th></th>\n",
       "      <th>contents</th>\n",
       "      <th>id</th>\n",
       "    </tr>\n",
       "  </thead>\n",
       "  <tbody>\n",
       "    <tr>\n",
       "      <th>0</th>\n",
       "      <td>처음 대학교 들어가는데 입을 옷 코디해주세요 신입생 코디에 어울리게 화사한 스웨터를...</td>\n",
       "      <td>SE-039</td>\n",
       "    </tr>\n",
       "    <tr>\n",
       "      <th>1</th>\n",
       "      <td>처음 대학교 들어가는데 입을 옷 코디해주세요 신입생 코디에 어울리게 화사한 스웨터를...</td>\n",
       "      <td>SE-039</td>\n",
       "    </tr>\n",
       "    <tr>\n",
       "      <th>2</th>\n",
       "      <td>동아리에서 엠티를 가는데 옷이 필요해요 코디좀 부탁드려요 활동성 좋은 옷들로 구성된...</td>\n",
       "      <td>SE-039</td>\n",
       "    </tr>\n",
       "    <tr>\n",
       "      <th>3</th>\n",
       "      <td>상견례 자리에서 입을 옷이 필요해요 자켓에 어울리는 코디로 추천해주세요 상견례 자리...</td>\n",
       "      <td>SE-023</td>\n",
       "    </tr>\n",
       "    <tr>\n",
       "      <th>4</th>\n",
       "      <td>친구들이랑 둘레길을 걸으려는데 산책하기 좋은 코디 추천해주세요 편안하고 활동적인 옷...</td>\n",
       "      <td>SE-039</td>\n",
       "    </tr>\n",
       "  </tbody>\n",
       "</table>\n",
       "</div>"
      ],
      "text/plain": [
       "                                            contents      id\n",
       "0  처음 대학교 들어가는데 입을 옷 코디해주세요 신입생 코디에 어울리게 화사한 스웨터를...  SE-039\n",
       "1  처음 대학교 들어가는데 입을 옷 코디해주세요 신입생 코디에 어울리게 화사한 스웨터를...  SE-039\n",
       "2  동아리에서 엠티를 가는데 옷이 필요해요 코디좀 부탁드려요 활동성 좋은 옷들로 구성된...  SE-039\n",
       "3  상견례 자리에서 입을 옷이 필요해요 자켓에 어울리는 코디로 추천해주세요 상견례 자리...  SE-023\n",
       "4  친구들이랑 둘레길을 걸으려는데 산책하기 좋은 코디 추천해주세요 편안하고 활동적인 옷...  SE-039"
      ]
     },
     "metadata": {},
     "execution_count": 19
    }
   ],
   "metadata": {}
  },
  {
   "cell_type": "code",
   "execution_count": 20,
   "source": [
    "se_data[\"id\"] = se_data[\"id\"].str.replace(\"[^0-9]\",\"\")\n",
    "\n",
    "se_data.head()"
   ],
   "outputs": [
    {
     "output_type": "stream",
     "name": "stderr",
     "text": [
      "<ipython-input-20-2d96ab614e66>:1: FutureWarning: The default value of regex will change from True to False in a future version.\n",
      "  se_data[\"id\"] = se_data[\"id\"].str.replace(\"[^0-9]\",\"\")\n"
     ]
    },
    {
     "output_type": "execute_result",
     "data": {
      "text/html": [
       "<div>\n",
       "<style scoped>\n",
       "    .dataframe tbody tr th:only-of-type {\n",
       "        vertical-align: middle;\n",
       "    }\n",
       "\n",
       "    .dataframe tbody tr th {\n",
       "        vertical-align: top;\n",
       "    }\n",
       "\n",
       "    .dataframe thead th {\n",
       "        text-align: right;\n",
       "    }\n",
       "</style>\n",
       "<table border=\"1\" class=\"dataframe\">\n",
       "  <thead>\n",
       "    <tr style=\"text-align: right;\">\n",
       "      <th></th>\n",
       "      <th>contents</th>\n",
       "      <th>id</th>\n",
       "    </tr>\n",
       "  </thead>\n",
       "  <tbody>\n",
       "    <tr>\n",
       "      <th>0</th>\n",
       "      <td>처음 대학교 들어가는데 입을 옷 코디해주세요 신입생 코디에 어울리게 화사한 스웨터를...</td>\n",
       "      <td>039</td>\n",
       "    </tr>\n",
       "    <tr>\n",
       "      <th>1</th>\n",
       "      <td>처음 대학교 들어가는데 입을 옷 코디해주세요 신입생 코디에 어울리게 화사한 스웨터를...</td>\n",
       "      <td>039</td>\n",
       "    </tr>\n",
       "    <tr>\n",
       "      <th>2</th>\n",
       "      <td>동아리에서 엠티를 가는데 옷이 필요해요 코디좀 부탁드려요 활동성 좋은 옷들로 구성된...</td>\n",
       "      <td>039</td>\n",
       "    </tr>\n",
       "    <tr>\n",
       "      <th>3</th>\n",
       "      <td>상견례 자리에서 입을 옷이 필요해요 자켓에 어울리는 코디로 추천해주세요 상견례 자리...</td>\n",
       "      <td>023</td>\n",
       "    </tr>\n",
       "    <tr>\n",
       "      <th>4</th>\n",
       "      <td>친구들이랑 둘레길을 걸으려는데 산책하기 좋은 코디 추천해주세요 편안하고 활동적인 옷...</td>\n",
       "      <td>039</td>\n",
       "    </tr>\n",
       "  </tbody>\n",
       "</table>\n",
       "</div>"
      ],
      "text/plain": [
       "                                            contents   id\n",
       "0  처음 대학교 들어가는데 입을 옷 코디해주세요 신입생 코디에 어울리게 화사한 스웨터를...  039\n",
       "1  처음 대학교 들어가는데 입을 옷 코디해주세요 신입생 코디에 어울리게 화사한 스웨터를...  039\n",
       "2  동아리에서 엠티를 가는데 옷이 필요해요 코디좀 부탁드려요 활동성 좋은 옷들로 구성된...  039\n",
       "3  상견례 자리에서 입을 옷이 필요해요 자켓에 어울리는 코디로 추천해주세요 상견례 자리...  023\n",
       "4  친구들이랑 둘레길을 걸으려는데 산책하기 좋은 코디 추천해주세요 편안하고 활동적인 옷...  039"
      ]
     },
     "metadata": {},
     "execution_count": 20
    }
   ],
   "metadata": {}
  },
  {
   "cell_type": "code",
   "execution_count": 21,
   "source": [
    "from collections import Counter\n",
    "temp = se_data[\"id\"].tolist()\n",
    "type_count = dict(Counter(temp))\n",
    "type_count"
   ],
   "outputs": [
    {
     "output_type": "execute_result",
     "data": {
      "text/plain": [
       "{'039': 370,\n",
       " '023': 147,\n",
       " '041': 70,\n",
       " '004': 130,\n",
       " '006': 332,\n",
       " '029': 123,\n",
       " '027': 103,\n",
       " '042': 189,\n",
       " '017': 136,\n",
       " '001': 27,\n",
       " '016': 114,\n",
       " '019': 75,\n",
       " '043': 156,\n",
       " '047': 37,\n",
       " '007': 209,\n",
       " '010': 70,\n",
       " '020': 144,\n",
       " '044': 320,\n",
       " '013': 103,\n",
       " '003': 273,\n",
       " '012': 147,\n",
       " '022': 94,\n",
       " '024': 108,\n",
       " '018': 62,\n",
       " '005': 98,\n",
       " '033': 52,\n",
       " '011': 218,\n",
       " '036': 135,\n",
       " '032': 113,\n",
       " '045': 56,\n",
       " '046': 161,\n",
       " '037': 82,\n",
       " '015': 100,\n",
       " '040': 141,\n",
       " '048': 126,\n",
       " '009': 100,\n",
       " '026': 126,\n",
       " '030': 45,\n",
       " '025': 101,\n",
       " '014': 38,\n",
       " '028': 61,\n",
       " '031': 106,\n",
       " '049': 31,\n",
       " '021': 137,\n",
       " '038': 83,\n",
       " '034': 39,\n",
       " '008': 42,\n",
       " '035': 73,\n",
       " '002': 74,\n",
       " '071': 18,\n",
       " '058': 46,\n",
       " '097': 59,\n",
       " '086': 129,\n",
       " '088': 63,\n",
       " '065': 27,\n",
       " '104': 48,\n",
       " '063': 61,\n",
       " '101': 136,\n",
       " '090': 39,\n",
       " '096': 19,\n",
       " '099': 45,\n",
       " '052': 77,\n",
       " '106': 88,\n",
       " '094': 20,\n",
       " '100': 66,\n",
       " '057': 66,\n",
       " '050': 45,\n",
       " '062': 32,\n",
       " '095': 62,\n",
       " '055': 78,\n",
       " '102': 62,\n",
       " '092': 80,\n",
       " '110': 62,\n",
       " '060': 40,\n",
       " '080': 93,\n",
       " '068': 47,\n",
       " '067': 22,\n",
       " '053': 37,\n",
       " '073': 8,\n",
       " '056': 59,\n",
       " '078': 32,\n",
       " '093': 58,\n",
       " '087': 47,\n",
       " '105': 27,\n",
       " '064': 50,\n",
       " '066': 20,\n",
       " '075': 45,\n",
       " '051': 59,\n",
       " '076': 17,\n",
       " '084': 12,\n",
       " '109': 61,\n",
       " '079': 7,\n",
       " '108': 20,\n",
       " '061': 44,\n",
       " '083': 21,\n",
       " '077': 33,\n",
       " '082': 26,\n",
       " '054': 20,\n",
       " '059': 71,\n",
       " '074': 39,\n",
       " '072': 26,\n",
       " '081': 15,\n",
       " '089': 28,\n",
       " '085': 56,\n",
       " '098': 26,\n",
       " '091': 34,\n",
       " '107': 15,\n",
       " '070': 8,\n",
       " '103': 34,\n",
       " '069': 17,\n",
       " '130': 21,\n",
       " '127': 10,\n",
       " '123': 16,\n",
       " '111': 15,\n",
       " '115': 35,\n",
       " '114': 19,\n",
       " '118': 29,\n",
       " '121': 12,\n",
       " '124': 14,\n",
       " '126': 14,\n",
       " '116': 2,\n",
       " '129': 24,\n",
       " '117': 11,\n",
       " '113': 11,\n",
       " '119': 17,\n",
       " '112': 5,\n",
       " '125': 12,\n",
       " '122': 5,\n",
       " '120': 9,\n",
       " '128': 4}"
      ]
     },
     "metadata": {},
     "execution_count": 21
    }
   ],
   "metadata": {}
  },
  {
   "cell_type": "code",
   "execution_count": 22,
   "source": [
    "len(type_count)"
   ],
   "outputs": [
    {
     "output_type": "execute_result",
     "data": {
      "text/plain": [
       "130"
      ]
     },
     "metadata": {},
     "execution_count": 22
    }
   ],
   "metadata": {}
  },
  {
   "cell_type": "code",
   "execution_count": 23,
   "source": [
    "del_list = []\n",
    "for i in type_count.keys():\n",
    "    if type_count.get(i) == 1:\n",
    "        del_list.append(i)\n",
    "del_list"
   ],
   "outputs": [
    {
     "output_type": "execute_result",
     "data": {
      "text/plain": [
       "[]"
      ]
     },
     "metadata": {},
     "execution_count": 23
    }
   ],
   "metadata": {}
  },
  {
   "cell_type": "code",
   "execution_count": 24,
   "source": [
    "se_data.head()"
   ],
   "outputs": [
    {
     "output_type": "execute_result",
     "data": {
      "text/html": [
       "<div>\n",
       "<style scoped>\n",
       "    .dataframe tbody tr th:only-of-type {\n",
       "        vertical-align: middle;\n",
       "    }\n",
       "\n",
       "    .dataframe tbody tr th {\n",
       "        vertical-align: top;\n",
       "    }\n",
       "\n",
       "    .dataframe thead th {\n",
       "        text-align: right;\n",
       "    }\n",
       "</style>\n",
       "<table border=\"1\" class=\"dataframe\">\n",
       "  <thead>\n",
       "    <tr style=\"text-align: right;\">\n",
       "      <th></th>\n",
       "      <th>contents</th>\n",
       "      <th>id</th>\n",
       "    </tr>\n",
       "  </thead>\n",
       "  <tbody>\n",
       "    <tr>\n",
       "      <th>0</th>\n",
       "      <td>처음 대학교 들어가는데 입을 옷 코디해주세요 신입생 코디에 어울리게 화사한 스웨터를...</td>\n",
       "      <td>039</td>\n",
       "    </tr>\n",
       "    <tr>\n",
       "      <th>1</th>\n",
       "      <td>처음 대학교 들어가는데 입을 옷 코디해주세요 신입생 코디에 어울리게 화사한 스웨터를...</td>\n",
       "      <td>039</td>\n",
       "    </tr>\n",
       "    <tr>\n",
       "      <th>2</th>\n",
       "      <td>동아리에서 엠티를 가는데 옷이 필요해요 코디좀 부탁드려요 활동성 좋은 옷들로 구성된...</td>\n",
       "      <td>039</td>\n",
       "    </tr>\n",
       "    <tr>\n",
       "      <th>3</th>\n",
       "      <td>상견례 자리에서 입을 옷이 필요해요 자켓에 어울리는 코디로 추천해주세요 상견례 자리...</td>\n",
       "      <td>023</td>\n",
       "    </tr>\n",
       "    <tr>\n",
       "      <th>4</th>\n",
       "      <td>친구들이랑 둘레길을 걸으려는데 산책하기 좋은 코디 추천해주세요 편안하고 활동적인 옷...</td>\n",
       "      <td>039</td>\n",
       "    </tr>\n",
       "  </tbody>\n",
       "</table>\n",
       "</div>"
      ],
      "text/plain": [
       "                                            contents   id\n",
       "0  처음 대학교 들어가는데 입을 옷 코디해주세요 신입생 코디에 어울리게 화사한 스웨터를...  039\n",
       "1  처음 대학교 들어가는데 입을 옷 코디해주세요 신입생 코디에 어울리게 화사한 스웨터를...  039\n",
       "2  동아리에서 엠티를 가는데 옷이 필요해요 코디좀 부탁드려요 활동성 좋은 옷들로 구성된...  039\n",
       "3  상견례 자리에서 입을 옷이 필요해요 자켓에 어울리는 코디로 추천해주세요 상견례 자리...  023\n",
       "4  친구들이랑 둘레길을 걸으려는데 산책하기 좋은 코디 추천해주세요 편안하고 활동적인 옷...  039"
      ]
     },
     "metadata": {},
     "execution_count": 24
    }
   ],
   "metadata": {}
  },
  {
   "cell_type": "code",
   "execution_count": 25,
   "source": [
    "for i in del_list:\n",
    "    se_data = se_data[se_data[\"id\"] != i]"
   ],
   "outputs": [],
   "metadata": {}
  },
  {
   "cell_type": "code",
   "execution_count": 26,
   "source": [
    "len(se_data)"
   ],
   "outputs": [
    {
     "output_type": "execute_result",
     "data": {
      "text/plain": [
       "8864"
      ]
     },
     "metadata": {},
     "execution_count": 26
    }
   ],
   "metadata": {}
  },
  {
   "cell_type": "code",
   "execution_count": 27,
   "source": [
    "se_data.reset_index(drop=True, inplace=True)"
   ],
   "outputs": [],
   "metadata": {}
  },
  {
   "cell_type": "code",
   "execution_count": 28,
   "source": [
    "import matplotlib.pyplot as plt\n",
    "plt.bar(Counter(se_data.id).keys(),Counter(se_data.id).values(), color='k')"
   ],
   "outputs": [
    {
     "output_type": "execute_result",
     "data": {
      "text/plain": [
       "<BarContainer object of 130 artists>"
      ]
     },
     "metadata": {},
     "execution_count": 28
    }
   ],
   "metadata": {}
  },
  {
   "cell_type": "markdown",
   "source": [
    "# 5. 형태소 분석"
   ],
   "metadata": {}
  },
  {
   "cell_type": "markdown",
   "source": [
    "## Mecab 사용"
   ],
   "metadata": {}
  },
  {
   "cell_type": "code",
   "execution_count": 29,
   "source": [
    "from konlpy.tag import Mecab\n",
    "mecab = Mecab()"
   ],
   "outputs": [],
   "metadata": {}
  },
  {
   "cell_type": "code",
   "execution_count": 30,
   "source": [
    "mecab.morphs(se_data[\"contents\"][0])"
   ],
   "outputs": [
    {
     "output_type": "execute_result",
     "data": {
      "text/plain": [
       "['처음',\n",
       " '대학교',\n",
       " '들어가',\n",
       " '는',\n",
       " '데',\n",
       " '입',\n",
       " '을',\n",
       " '옷',\n",
       " '코디',\n",
       " '해',\n",
       " '주',\n",
       " '세요',\n",
       " '신입',\n",
       " '생',\n",
       " '코디',\n",
       " '에',\n",
       " '어울리',\n",
       " '게',\n",
       " '화사',\n",
       " '한',\n",
       " '스웨터',\n",
       " '를',\n",
       " '추천',\n",
       " '해',\n",
       " '드릴게요',\n",
       " 'SW',\n",
       " '009',\n",
       " '이',\n",
       " '옷',\n",
       " '에',\n",
       " '어울리',\n",
       " '는',\n",
       " '치마',\n",
       " '로',\n",
       " '추천',\n",
       " '해',\n",
       " '주',\n",
       " '세요',\n",
       " '고객',\n",
       " '님',\n",
       " '의',\n",
       " '키',\n",
       " '사이즈',\n",
       " '에',\n",
       " '맞추',\n",
       " '면',\n",
       " '이런',\n",
       " '옷',\n",
       " '도',\n",
       " '잘',\n",
       " '어울리',\n",
       " '실',\n",
       " '것',\n",
       " '같',\n",
       " '은',\n",
       " '데',\n",
       " '어떠신가요',\n",
       " 'SK',\n",
       " '016',\n",
       " '제',\n",
       " '가',\n",
       " '키',\n",
       " '가',\n",
       " '작',\n",
       " '아서',\n",
       " '짧',\n",
       " '은',\n",
       " '치마',\n",
       " '로',\n",
       " '추천',\n",
       " '해',\n",
       " '주',\n",
       " '세요',\n",
       " '상',\n",
       " '의',\n",
       " '색상',\n",
       " '과',\n",
       " '도',\n",
       " '매칭',\n",
       " '이',\n",
       " '잘',\n",
       " '어울리',\n",
       " '는',\n",
       " '짧',\n",
       " '은',\n",
       " '치마',\n",
       " '입니다',\n",
       " 'SK',\n",
       " '052',\n",
       " '어두운',\n",
       " '계열',\n",
       " '은',\n",
       " '없',\n",
       " '나요',\n",
       " '언밸런스',\n",
       " '한',\n",
       " '컷팅',\n",
       " '으로',\n",
       " '세련미',\n",
       " '를',\n",
       " '돋보이',\n",
       " '게',\n",
       " '하',\n",
       " '는',\n",
       " '치마',\n",
       " '인데',\n",
       " '마음',\n",
       " '에',\n",
       " '드',\n",
       " '시',\n",
       " '나요',\n",
       " 'SK',\n",
       " '053',\n",
       " '나쁘',\n",
       " '지',\n",
       " '않',\n",
       " '네요',\n",
       " '외투',\n",
       " '도',\n",
       " '추천',\n",
       " '해',\n",
       " '주',\n",
       " '시',\n",
       " '겠',\n",
       " '어요',\n",
       " '요즘',\n",
       " '계절',\n",
       " '에',\n",
       " '는',\n",
       " '가디건',\n",
       " '이나',\n",
       " '자켓',\n",
       " '을',\n",
       " '걸치',\n",
       " '기',\n",
       " '에',\n",
       " '좋',\n",
       " '은데',\n",
       " '특정',\n",
       " '종류',\n",
       " '로',\n",
       " '원',\n",
       " '하',\n",
       " '는',\n",
       " '게',\n",
       " '있',\n",
       " '으신',\n",
       " '가요',\n",
       " '트렌치코트',\n",
       " '종류',\n",
       " '로',\n",
       " '추천',\n",
       " '해',\n",
       " '주',\n",
       " '세요',\n",
       " '이너',\n",
       " '색상',\n",
       " '과',\n",
       " '무난',\n",
       " '하',\n",
       " '게',\n",
       " '잘',\n",
       " '어울릴',\n",
       " '트렌치코트',\n",
       " '입니다',\n",
       " 'CT',\n",
       " '019',\n",
       " '신발',\n",
       " '도',\n",
       " '추천',\n",
       " '해',\n",
       " '주',\n",
       " '세요',\n",
       " '운동화',\n",
       " '나',\n",
       " '구두',\n",
       " '중',\n",
       " '어떤',\n",
       " '걸',\n",
       " '선호',\n",
       " '하',\n",
       " '시',\n",
       " '나요',\n",
       " '운동',\n",
       " '화',\n",
       " '로',\n",
       " '추천',\n",
       " '해',\n",
       " '주',\n",
       " '세요',\n",
       " '어떤',\n",
       " '스타일',\n",
       " '과',\n",
       " '도',\n",
       " '무난',\n",
       " '하',\n",
       " '게',\n",
       " '잘',\n",
       " '어울리',\n",
       " '는',\n",
       " '기본',\n",
       " '아이템',\n",
       " '입니다',\n",
       " 'SE',\n",
       " '039',\n",
       " '맘',\n",
       " '에',\n",
       " '드',\n",
       " '네요',\n",
       " '전체',\n",
       " '코디',\n",
       " '샷',\n",
       " '볼',\n",
       " '수',\n",
       " '있',\n",
       " '나요',\n",
       " '로우',\n",
       " '스니커즈',\n",
       " '앞코',\n",
       " '아웃',\n",
       " '솔',\n",
       " '밑창',\n",
       " '고무',\n",
       " '소재',\n",
       " '약간',\n",
       " '굽',\n",
       " '이',\n",
       " '있',\n",
       " '음',\n",
       " '신발',\n",
       " '끈',\n",
       " '여',\n",
       " '밈',\n",
       " '있',\n",
       " '음',\n",
       " '발',\n",
       " '폭',\n",
       " '이',\n",
       " '슬림',\n",
       " '하',\n",
       " '게',\n",
       " '나온',\n",
       " '형태',\n",
       " '면',\n",
       " '컨버스',\n",
       " '화이트',\n",
       " '솔리드',\n",
       " '컬러',\n",
       " '내추럴',\n",
       " '한',\n",
       " '캐주얼',\n",
       " '한',\n",
       " '스',\n",
       " '포티',\n",
       " '한',\n",
       " '편안',\n",
       " '한',\n",
       " '어느',\n",
       " '스타일',\n",
       " '에',\n",
       " '도',\n",
       " '어울리',\n",
       " '는',\n",
       " '기본',\n",
       " '아이템']"
      ]
     },
     "metadata": {},
     "execution_count": 30
    }
   ],
   "metadata": {}
  },
  {
   "cell_type": "code",
   "execution_count": 31,
   "source": [
    "len(se_data)"
   ],
   "outputs": [
    {
     "output_type": "execute_result",
     "data": {
      "text/plain": [
       "8864"
      ]
     },
     "metadata": {},
     "execution_count": 31
    }
   ],
   "metadata": {}
  },
  {
   "cell_type": "code",
   "execution_count": 32,
   "source": [
    "x_data = []\n",
    "for i in range(len(se_data)):\n",
    "    x_data.append(mecab.morphs(se_data[\"contents\"][i]))\n",
    "\n",
    "x_data[0]"
   ],
   "outputs": [
    {
     "output_type": "execute_result",
     "data": {
      "text/plain": [
       "['처음',\n",
       " '대학교',\n",
       " '들어가',\n",
       " '는',\n",
       " '데',\n",
       " '입',\n",
       " '을',\n",
       " '옷',\n",
       " '코디',\n",
       " '해',\n",
       " '주',\n",
       " '세요',\n",
       " '신입',\n",
       " '생',\n",
       " '코디',\n",
       " '에',\n",
       " '어울리',\n",
       " '게',\n",
       " '화사',\n",
       " '한',\n",
       " '스웨터',\n",
       " '를',\n",
       " '추천',\n",
       " '해',\n",
       " '드릴게요',\n",
       " 'SW',\n",
       " '009',\n",
       " '이',\n",
       " '옷',\n",
       " '에',\n",
       " '어울리',\n",
       " '는',\n",
       " '치마',\n",
       " '로',\n",
       " '추천',\n",
       " '해',\n",
       " '주',\n",
       " '세요',\n",
       " '고객',\n",
       " '님',\n",
       " '의',\n",
       " '키',\n",
       " '사이즈',\n",
       " '에',\n",
       " '맞추',\n",
       " '면',\n",
       " '이런',\n",
       " '옷',\n",
       " '도',\n",
       " '잘',\n",
       " '어울리',\n",
       " '실',\n",
       " '것',\n",
       " '같',\n",
       " '은',\n",
       " '데',\n",
       " '어떠신가요',\n",
       " 'SK',\n",
       " '016',\n",
       " '제',\n",
       " '가',\n",
       " '키',\n",
       " '가',\n",
       " '작',\n",
       " '아서',\n",
       " '짧',\n",
       " '은',\n",
       " '치마',\n",
       " '로',\n",
       " '추천',\n",
       " '해',\n",
       " '주',\n",
       " '세요',\n",
       " '상',\n",
       " '의',\n",
       " '색상',\n",
       " '과',\n",
       " '도',\n",
       " '매칭',\n",
       " '이',\n",
       " '잘',\n",
       " '어울리',\n",
       " '는',\n",
       " '짧',\n",
       " '은',\n",
       " '치마',\n",
       " '입니다',\n",
       " 'SK',\n",
       " '052',\n",
       " '어두운',\n",
       " '계열',\n",
       " '은',\n",
       " '없',\n",
       " '나요',\n",
       " '언밸런스',\n",
       " '한',\n",
       " '컷팅',\n",
       " '으로',\n",
       " '세련미',\n",
       " '를',\n",
       " '돋보이',\n",
       " '게',\n",
       " '하',\n",
       " '는',\n",
       " '치마',\n",
       " '인데',\n",
       " '마음',\n",
       " '에',\n",
       " '드',\n",
       " '시',\n",
       " '나요',\n",
       " 'SK',\n",
       " '053',\n",
       " '나쁘',\n",
       " '지',\n",
       " '않',\n",
       " '네요',\n",
       " '외투',\n",
       " '도',\n",
       " '추천',\n",
       " '해',\n",
       " '주',\n",
       " '시',\n",
       " '겠',\n",
       " '어요',\n",
       " '요즘',\n",
       " '계절',\n",
       " '에',\n",
       " '는',\n",
       " '가디건',\n",
       " '이나',\n",
       " '자켓',\n",
       " '을',\n",
       " '걸치',\n",
       " '기',\n",
       " '에',\n",
       " '좋',\n",
       " '은데',\n",
       " '특정',\n",
       " '종류',\n",
       " '로',\n",
       " '원',\n",
       " '하',\n",
       " '는',\n",
       " '게',\n",
       " '있',\n",
       " '으신',\n",
       " '가요',\n",
       " '트렌치코트',\n",
       " '종류',\n",
       " '로',\n",
       " '추천',\n",
       " '해',\n",
       " '주',\n",
       " '세요',\n",
       " '이너',\n",
       " '색상',\n",
       " '과',\n",
       " '무난',\n",
       " '하',\n",
       " '게',\n",
       " '잘',\n",
       " '어울릴',\n",
       " '트렌치코트',\n",
       " '입니다',\n",
       " 'CT',\n",
       " '019',\n",
       " '신발',\n",
       " '도',\n",
       " '추천',\n",
       " '해',\n",
       " '주',\n",
       " '세요',\n",
       " '운동화',\n",
       " '나',\n",
       " '구두',\n",
       " '중',\n",
       " '어떤',\n",
       " '걸',\n",
       " '선호',\n",
       " '하',\n",
       " '시',\n",
       " '나요',\n",
       " '운동',\n",
       " '화',\n",
       " '로',\n",
       " '추천',\n",
       " '해',\n",
       " '주',\n",
       " '세요',\n",
       " '어떤',\n",
       " '스타일',\n",
       " '과',\n",
       " '도',\n",
       " '무난',\n",
       " '하',\n",
       " '게',\n",
       " '잘',\n",
       " '어울리',\n",
       " '는',\n",
       " '기본',\n",
       " '아이템',\n",
       " '입니다',\n",
       " 'SE',\n",
       " '039',\n",
       " '맘',\n",
       " '에',\n",
       " '드',\n",
       " '네요',\n",
       " '전체',\n",
       " '코디',\n",
       " '샷',\n",
       " '볼',\n",
       " '수',\n",
       " '있',\n",
       " '나요',\n",
       " '로우',\n",
       " '스니커즈',\n",
       " '앞코',\n",
       " '아웃',\n",
       " '솔',\n",
       " '밑창',\n",
       " '고무',\n",
       " '소재',\n",
       " '약간',\n",
       " '굽',\n",
       " '이',\n",
       " '있',\n",
       " '음',\n",
       " '신발',\n",
       " '끈',\n",
       " '여',\n",
       " '밈',\n",
       " '있',\n",
       " '음',\n",
       " '발',\n",
       " '폭',\n",
       " '이',\n",
       " '슬림',\n",
       " '하',\n",
       " '게',\n",
       " '나온',\n",
       " '형태',\n",
       " '면',\n",
       " '컨버스',\n",
       " '화이트',\n",
       " '솔리드',\n",
       " '컬러',\n",
       " '내추럴',\n",
       " '한',\n",
       " '캐주얼',\n",
       " '한',\n",
       " '스',\n",
       " '포티',\n",
       " '한',\n",
       " '편안',\n",
       " '한',\n",
       " '어느',\n",
       " '스타일',\n",
       " '에',\n",
       " '도',\n",
       " '어울리',\n",
       " '는',\n",
       " '기본',\n",
       " '아이템']"
      ]
     },
     "metadata": {},
     "execution_count": 32
    }
   ],
   "metadata": {}
  },
  {
   "cell_type": "code",
   "execution_count": 33,
   "source": [
    "stopwords = []\n",
    "with open('./data/불용어사전.txt', mode='rt', encoding='utf-8') as f:\n",
    "    for word in f.readlines():\n",
    "        word = word.strip()\n",
    "        stopwords.append(word)\n",
    "stopwords[0:2]"
   ],
   "outputs": [
    {
     "output_type": "execute_result",
     "data": {
      "text/plain": [
       "['어찌됐든', '그위에']"
      ]
     },
     "metadata": {},
     "execution_count": 33
    }
   ],
   "metadata": {}
  },
  {
   "cell_type": "code",
   "execution_count": 34,
   "source": [
    "X_data = []\n",
    "for sentence in x_data: #문장 하나 가져오고 단어 단위로 쪼개기\n",
    "    temp_X = [word for word in sentence if not word in stopwords] # 불용어 제거\n",
    "    X_data.append(temp_X)\n",
    "X_data[0]"
   ],
   "outputs": [
    {
     "output_type": "execute_result",
     "data": {
      "text/plain": [
       "['처음',\n",
       " '대학교',\n",
       " '들어가',\n",
       " '데',\n",
       " '입',\n",
       " '옷',\n",
       " '코디',\n",
       " '주',\n",
       " '세요',\n",
       " '신입',\n",
       " '생',\n",
       " '코디',\n",
       " '어울리',\n",
       " '게',\n",
       " '화사',\n",
       " '스웨터',\n",
       " '추천',\n",
       " '드릴게요',\n",
       " 'SW',\n",
       " '009',\n",
       " '옷',\n",
       " '어울리',\n",
       " '치마',\n",
       " '추천',\n",
       " '주',\n",
       " '세요',\n",
       " '고객',\n",
       " '님',\n",
       " '키',\n",
       " '사이즈',\n",
       " '맞추',\n",
       " '면',\n",
       " '옷',\n",
       " '도',\n",
       " '잘',\n",
       " '어울리',\n",
       " '실',\n",
       " '같',\n",
       " '데',\n",
       " '어떠신가요',\n",
       " 'SK',\n",
       " '016',\n",
       " '키',\n",
       " '작',\n",
       " '아서',\n",
       " '짧',\n",
       " '치마',\n",
       " '추천',\n",
       " '주',\n",
       " '세요',\n",
       " '상',\n",
       " '색상',\n",
       " '도',\n",
       " '매칭',\n",
       " '잘',\n",
       " '어울리',\n",
       " '짧',\n",
       " '치마',\n",
       " '입니다',\n",
       " 'SK',\n",
       " '052',\n",
       " '어두운',\n",
       " '계열',\n",
       " '나요',\n",
       " '언밸런스',\n",
       " '컷팅',\n",
       " '세련미',\n",
       " '돋보이',\n",
       " '게',\n",
       " '치마',\n",
       " '인데',\n",
       " '마음',\n",
       " '시',\n",
       " '나요',\n",
       " 'SK',\n",
       " '053',\n",
       " '나쁘',\n",
       " '지',\n",
       " '않',\n",
       " '네요',\n",
       " '외투',\n",
       " '도',\n",
       " '추천',\n",
       " '주',\n",
       " '시',\n",
       " '겠',\n",
       " '어요',\n",
       " '요즘',\n",
       " '계절',\n",
       " '가디건',\n",
       " '이나',\n",
       " '자켓',\n",
       " '걸치',\n",
       " '기',\n",
       " '좋',\n",
       " '은데',\n",
       " '특정',\n",
       " '종류',\n",
       " '원',\n",
       " '게',\n",
       " '있',\n",
       " '으신',\n",
       " '가요',\n",
       " '트렌치코트',\n",
       " '종류',\n",
       " '추천',\n",
       " '주',\n",
       " '세요',\n",
       " '이너',\n",
       " '색상',\n",
       " '무난',\n",
       " '게',\n",
       " '잘',\n",
       " '어울릴',\n",
       " '트렌치코트',\n",
       " '입니다',\n",
       " 'CT',\n",
       " '019',\n",
       " '신발',\n",
       " '도',\n",
       " '추천',\n",
       " '주',\n",
       " '세요',\n",
       " '운동화',\n",
       " '구두',\n",
       " '중',\n",
       " '걸',\n",
       " '선호',\n",
       " '시',\n",
       " '나요',\n",
       " '운동',\n",
       " '화',\n",
       " '추천',\n",
       " '주',\n",
       " '세요',\n",
       " '스타일',\n",
       " '도',\n",
       " '무난',\n",
       " '게',\n",
       " '잘',\n",
       " '어울리',\n",
       " '기본',\n",
       " '아이템',\n",
       " '입니다',\n",
       " 'SE',\n",
       " '039',\n",
       " '맘',\n",
       " '네요',\n",
       " '전체',\n",
       " '코디',\n",
       " '샷',\n",
       " '볼',\n",
       " '수',\n",
       " '있',\n",
       " '나요',\n",
       " '로우',\n",
       " '스니커즈',\n",
       " '앞코',\n",
       " '아웃',\n",
       " '솔',\n",
       " '밑창',\n",
       " '고무',\n",
       " '소재',\n",
       " '굽',\n",
       " '있',\n",
       " '신발',\n",
       " '끈',\n",
       " '밈',\n",
       " '있',\n",
       " '발',\n",
       " '폭',\n",
       " '슬림',\n",
       " '게',\n",
       " '나온',\n",
       " '형태',\n",
       " '면',\n",
       " '컨버스',\n",
       " '화이트',\n",
       " '솔리드',\n",
       " '컬러',\n",
       " '내추럴',\n",
       " '캐주얼',\n",
       " '스',\n",
       " '포티',\n",
       " '편안',\n",
       " '스타일',\n",
       " '도',\n",
       " '어울리',\n",
       " '기본',\n",
       " '아이템']"
      ]
     },
     "metadata": {},
     "execution_count": 34
    }
   ],
   "metadata": {}
  },
  {
   "cell_type": "markdown",
   "source": [
    "## 1. 임베딩 레이어 활용"
   ],
   "metadata": {}
  },
  {
   "cell_type": "markdown",
   "source": [
    "### 정수 인코딩"
   ],
   "metadata": {}
  },
  {
   "cell_type": "code",
   "execution_count": 35,
   "source": [
    "from tensorflow.keras.preprocessing.text import Tokenizer\n",
    "tokenizer = Tokenizer()\n",
    "tokenizer.fit_on_texts(X_data)"
   ],
   "outputs": [],
   "metadata": {}
  },
  {
   "cell_type": "code",
   "execution_count": 36,
   "source": [
    "threshold = 6\n",
    "total_cnt = len(tokenizer.word_index) # 단어의 수\n",
    "rare_cnt = 0 # 등장 빈도수가 threshold보다 작은 단어의 개수를 카운트\n",
    "total_freq = 0 # 훈련 데이터의 전체 단어 빈도수 총 합\n",
    "rare_freq = 0 # 등장 빈도수가 threshold보다 작은 단어의 등장 빈도수의 총 합\n",
    "\n",
    "# 단어와 빈도수의 쌍(pair)을 key와 value로 받는다.\n",
    "for key, value in tokenizer.word_counts.items():\n",
    "    total_freq = total_freq + value\n",
    "\n",
    "    # 단어의 등장 빈도수가 threshold보다 작으면\n",
    "    if(value < threshold):\n",
    "        rare_cnt = rare_cnt + 1\n",
    "        rare_freq = rare_freq + value\n",
    "\n",
    "print('단어 집합(vocabulary)의 크기 :',total_cnt)\n",
    "print('등장 빈도가 %s번 이하인 희귀 단어의 수: %s'%(threshold - 1, rare_cnt))\n",
    "print(\"단어 집합에서 희귀 단어의 비율:\", (rare_cnt / total_cnt)*100)\n",
    "print(\"전체 등장 빈도에서 희귀 단어 등장 빈도 비율:\", (rare_freq / total_freq)*100)"
   ],
   "outputs": [
    {
     "output_type": "stream",
     "name": "stdout",
     "text": [
      "단어 집합(vocabulary)의 크기 : 5585\n",
      "등장 빈도가 5번 이하인 희귀 단어의 수: 2592\n",
      "단어 집합에서 희귀 단어의 비율: 46.41002685765443\n",
      "전체 등장 빈도에서 희귀 단어 등장 빈도 비율: 0.44554244579801505\n"
     ]
    }
   ],
   "metadata": {}
  },
  {
   "cell_type": "code",
   "execution_count": 37,
   "source": [
    "vocab_size = total_cnt - rare_cnt + 1 # tokenizer 함수에 들어 갈 때 영향줘서 1 추가 해야 됨\n",
    "print('단어 집합의 크기 :',vocab_size)"
   ],
   "outputs": [
    {
     "output_type": "stream",
     "name": "stdout",
     "text": [
      "단어 집합의 크기 : 2994\n"
     ]
    }
   ],
   "metadata": {}
  },
  {
   "cell_type": "markdown",
   "source": [
    "케라스 토크나이저의 정수 인코딩은 인덱스가 1부터 시작하지만,\n",
    "\n",
    "케라스 원-핫 인코딩에서 배열의 인덱스가 0부터 시작하기 때문에\n",
    "\n",
    "배열의 크기를 실제 단어 집합의 크기보다 +1로 생성해야하므로 미리 +1 선언 "
   ],
   "metadata": {}
  },
  {
   "cell_type": "markdown",
   "source": [
    "### 맨 앞자리는 비어있어야 함 (원 핫 인코딩은 정수 인코딩한 뒤 나오는 정수 값 자리에 1을 넣는 것)"
   ],
   "metadata": {}
  },
  {
   "cell_type": "code",
   "execution_count": 38,
   "source": [
    "tokenizer = Tokenizer(num_words=vocab_size - 1)\n",
    "tokenizer.fit_on_texts(X_data)\n",
    "len(tokenizer.word_index)"
   ],
   "outputs": [
    {
     "output_type": "execute_result",
     "data": {
      "text/plain": [
       "5585"
      ]
     },
     "metadata": {},
     "execution_count": 38
    }
   ],
   "metadata": {}
  },
  {
   "cell_type": "code",
   "execution_count": 39,
   "source": [
    "X_data = tokenizer.texts_to_sequences(X_data) # 단어에 정수 붙여줄 때 num_word 적용"
   ],
   "outputs": [],
   "metadata": {}
  },
  {
   "cell_type": "markdown",
   "source": [
    "위에서 num_words는 이 데이터에서 등장 빈도 순위로 몇 번째에 해당하는 단어까지만 사용할 것인지 조절\n",
    "\n",
    "예를 들어서 100이란 값을 넣으면, 등장 빈도 순위가 1~100에 해당하는 단어만 사용"
   ],
   "metadata": {}
  },
  {
   "cell_type": "code",
   "execution_count": 40,
   "source": [
    "X_data[1]"
   ],
   "outputs": [
    {
     "output_type": "execute_result",
     "data": {
      "text/plain": [
       "[1280,\n",
       " 1853,\n",
       " 866,\n",
       " 229,\n",
       " 22,\n",
       " 51,\n",
       " 3,\n",
       " 1,\n",
       " 2,\n",
       " 2471,\n",
       " 2718,\n",
       " 3,\n",
       " 33,\n",
       " 42,\n",
       " 294,\n",
       " 310,\n",
       " 9,\n",
       " 449,\n",
       " 162,\n",
       " 409,\n",
       " 51,\n",
       " 33,\n",
       " 71,\n",
       " 9,\n",
       " 1,\n",
       " 2,\n",
       " 135,\n",
       " 127,\n",
       " 299,\n",
       " 820,\n",
       " 1944,\n",
       " 119,\n",
       " 51,\n",
       " 38,\n",
       " 68,\n",
       " 33,\n",
       " 365,\n",
       " 29,\n",
       " 229,\n",
       " 46,\n",
       " 99,\n",
       " 366,\n",
       " 299,\n",
       " 479,\n",
       " 343,\n",
       " 236,\n",
       " 71,\n",
       " 9,\n",
       " 1,\n",
       " 2,\n",
       " 351,\n",
       " 41,\n",
       " 38,\n",
       " 556,\n",
       " 68,\n",
       " 33,\n",
       " 236,\n",
       " 71,\n",
       " 10,\n",
       " 99,\n",
       " 650,\n",
       " 371,\n",
       " 367,\n",
       " 18,\n",
       " 2064,\n",
       " 2141,\n",
       " 1313,\n",
       " 42,\n",
       " 71,\n",
       " 554,\n",
       " 6,\n",
       " 15,\n",
       " 18,\n",
       " 99,\n",
       " 729,\n",
       " 1203,\n",
       " 89,\n",
       " 120,\n",
       " 28,\n",
       " 198,\n",
       " 38,\n",
       " 9,\n",
       " 1,\n",
       " 15,\n",
       " 25,\n",
       " 14,\n",
       " 477,\n",
       " 1613,\n",
       " 131,\n",
       " 314,\n",
       " 111,\n",
       " 802,\n",
       " 40,\n",
       " 13,\n",
       " 327,\n",
       " 656,\n",
       " 298,\n",
       " 42,\n",
       " 7,\n",
       " 88,\n",
       " 63,\n",
       " 502,\n",
       " 656,\n",
       " 9,\n",
       " 1,\n",
       " 2,\n",
       " 1496,\n",
       " 41,\n",
       " 485,\n",
       " 42,\n",
       " 68,\n",
       " 199,\n",
       " 502,\n",
       " 10,\n",
       " 125,\n",
       " 493,\n",
       " 16,\n",
       " 38,\n",
       " 9,\n",
       " 1,\n",
       " 2,\n",
       " 399,\n",
       " 108,\n",
       " 249,\n",
       " 717,\n",
       " 142,\n",
       " 15,\n",
       " 18,\n",
       " 140,\n",
       " 87,\n",
       " 9,\n",
       " 1,\n",
       " 2,\n",
       " 26,\n",
       " 38,\n",
       " 485,\n",
       " 42,\n",
       " 68,\n",
       " 33,\n",
       " 196,\n",
       " 77,\n",
       " 10,\n",
       " 5,\n",
       " 275,\n",
       " 345,\n",
       " 28,\n",
       " 53,\n",
       " 3,\n",
       " 1725,\n",
       " 1250,\n",
       " 64,\n",
       " 7,\n",
       " 18,\n",
       " 1023,\n",
       " 2101,\n",
       " 807,\n",
       " 77,\n",
       " 53,\n",
       " 3,\n",
       " 1725,\n",
       " 2101,\n",
       " 286,\n",
       " 6,\n",
       " 15,\n",
       " 18,\n",
       " 5,\n",
       " 275,\n",
       " 6,\n",
       " 28,\n",
       " 190,\n",
       " 274,\n",
       " 118,\n",
       " 24,\n",
       " 167,\n",
       " 169,\n",
       " 59,\n",
       " 96,\n",
       " 52,\n",
       " 11,\n",
       " 7,\n",
       " 16,\n",
       " 123,\n",
       " 62,\n",
       " 7,\n",
       " 266,\n",
       " 503,\n",
       " 192,\n",
       " 42,\n",
       " 504,\n",
       " 210,\n",
       " 119,\n",
       " 378,\n",
       " 61,\n",
       " 320,\n",
       " 37,\n",
       " 183,\n",
       " 49,\n",
       " 50,\n",
       " 148,\n",
       " 20,\n",
       " 26,\n",
       " 38,\n",
       " 33,\n",
       " 196,\n",
       " 77]"
      ]
     },
     "metadata": {},
     "execution_count": 40
    }
   ],
   "metadata": {}
  },
  {
   "cell_type": "code",
   "execution_count": 41,
   "source": [
    "print('문장 최대 길이 :',max(len(l) for l in X_data))\n",
    "print('문장의 평균 길이 :',sum(map(len, X_data))/len(X_data))\n",
    "plt.hist([len(s) for s in X_data], bins=50, color='k')\n",
    "plt.xlabel('length of samples')\n",
    "plt.ylabel('number of samples')\n",
    "plt.show()\n",
    "plt.close()"
   ],
   "outputs": [
    {
     "output_type": "stream",
     "name": "stdout",
     "text": [
      "문장 최대 길이 : 462\n",
      "문장의 평균 길이 : 145.0221119133574\n"
     ]
    },
    {
     "output_type": "display_data",
     "data": {
      "image/png": "[encoded data removed]",
      "text/plain": [
       "<Figure size 640x480 with 1 Axes>"
      ]
     },
     "metadata": {}
    }
   ],
   "metadata": {}
  },
  {
   "cell_type": "code",
   "execution_count": 42,
   "source": [
    "def below_threshold_len(max_len, nested_list):\n",
    "  cnt = 0\n",
    "  for s in nested_list:\n",
    "    if(len(s) <= max_len):\n",
    "        cnt = cnt + 1\n",
    "  print('전체 샘플 중 길이가 %s 이하인 샘플의 비율: %s'%(max_len, (cnt / len(nested_list))*100))\n",
    "\n",
    "max_len = 300\n",
    "below_threshold_len(max_len, X_data)"
   ],
   "outputs": [
    {
     "output_type": "stream",
     "name": "stdout",
     "text": [
      "전체 샘플 중 길이가 300 이하인 샘플의 비율: 99.76308664259928\n"
     ]
    }
   ],
   "metadata": {}
  },
  {
   "cell_type": "markdown",
   "source": [
    "## padding"
   ],
   "metadata": {}
  },
  {
   "cell_type": "code",
   "execution_count": 43,
   "source": [
    "from tensorflow.keras.preprocessing.sequence import pad_sequences\n",
    "X_data = pad_sequences(X_data, maxlen = max_len)"
   ],
   "outputs": [],
   "metadata": {}
  },
  {
   "cell_type": "code",
   "execution_count": 44,
   "source": [
    "print(len(X_data[1]))\n",
    "X_data[1]"
   ],
   "outputs": [
    {
     "output_type": "stream",
     "name": "stdout",
     "text": [
      "300\n"
     ]
    },
    {
     "output_type": "execute_result",
     "data": {
      "text/plain": [
       "array([   0,    0,    0,    0,    0,    0,    0,    0,    0,    0,    0,\n",
       "          0,    0,    0,    0,    0,    0,    0,    0,    0,    0,    0,\n",
       "          0,    0,    0,    0,    0,    0,    0,    0,    0,    0,    0,\n",
       "          0,    0,    0,    0,    0,    0,    0,    0,    0,    0,    0,\n",
       "          0,    0,    0,    0,    0,    0,    0,    0,    0,    0,    0,\n",
       "          0,    0,    0,    0,    0,    0,    0,    0,    0,    0,    0,\n",
       "          0,    0,    0,    0,    0,    0,    0,    0,    0,    0,    0,\n",
       "          0,    0,    0,    0,    0,    0,    0,    0,    0,    0,    0,\n",
       "          0,    0,    0,    0,    0,    0,    0, 1280, 1853,  866,  229,\n",
       "         22,   51,    3,    1,    2, 2471, 2718,    3,   33,   42,  294,\n",
       "        310,    9,  449,  162,  409,   51,   33,   71,    9,    1,    2,\n",
       "        135,  127,  299,  820, 1944,  119,   51,   38,   68,   33,  365,\n",
       "         29,  229,   46,   99,  366,  299,  479,  343,  236,   71,    9,\n",
       "          1,    2,  351,   41,   38,  556,   68,   33,  236,   71,   10,\n",
       "         99,  650,  371,  367,   18, 2064, 2141, 1313,   42,   71,  554,\n",
       "          6,   15,   18,   99,  729, 1203,   89,  120,   28,  198,   38,\n",
       "          9,    1,   15,   25,   14,  477, 1613,  131,  314,  111,  802,\n",
       "         40,   13,  327,  656,  298,   42,    7,   88,   63,  502,  656,\n",
       "          9,    1,    2, 1496,   41,  485,   42,   68,  199,  502,   10,\n",
       "        125,  493,   16,   38,    9,    1,    2,  399,  108,  249,  717,\n",
       "        142,   15,   18,  140,   87,    9,    1,    2,   26,   38,  485,\n",
       "         42,   68,   33,  196,   77,   10,    5,  275,  345,   28,   53,\n",
       "          3, 1725, 1250,   64,    7,   18, 1023, 2101,  807,   77,   53,\n",
       "          3, 1725, 2101,  286,    6,   15,   18,    5,  275,    6,   28,\n",
       "        190,  274,  118,   24,  167,  169,   59,   96,   52,   11,    7,\n",
       "         16,  123,   62,    7,  266,  503,  192,   42,  504,  210,  119,\n",
       "        378,   61,  320,   37,  183,   49,   50,  148,   20,   26,   38,\n",
       "         33,  196,   77], dtype=int32)"
      ]
     },
     "metadata": {},
     "execution_count": 44
    }
   ],
   "metadata": {}
  },
  {
   "cell_type": "markdown",
   "source": [
    "# 6. LSTM 돌리기 "
   ],
   "metadata": {}
  },
  {
   "cell_type": "code",
   "execution_count": 45,
   "source": [
    "from tensorflow.keras.layers import Embedding, Dense, LSTM, Bidirectional\n",
    "from tensorflow.keras.models import Sequential\n",
    "from tensorflow.keras.models import load_model\n",
    "from tensorflow.keras.callbacks import EarlyStopping, ModelCheckpoint\n",
    "from sklearn.model_selection import train_test_split\n",
    "from tensorflow.keras.utils import to_categorical"
   ],
   "outputs": [],
   "metadata": {}
  },
  {
   "cell_type": "code",
   "execution_count": 46,
   "source": [
    "X = X_data\n",
    "y = se_data.id.tolist()"
   ],
   "outputs": [],
   "metadata": {}
  },
  {
   "cell_type": "code",
   "execution_count": 47,
   "source": [
    "X[1]"
   ],
   "outputs": [
    {
     "output_type": "execute_result",
     "data": {
      "text/plain": [
       "array([   0,    0,    0,    0,    0,    0,    0,    0,    0,    0,    0,\n",
       "          0,    0,    0,    0,    0,    0,    0,    0,    0,    0,    0,\n",
       "          0,    0,    0,    0,    0,    0,    0,    0,    0,    0,    0,\n",
       "          0,    0,    0,    0,    0,    0,    0,    0,    0,    0,    0,\n",
       "          0,    0,    0,    0,    0,    0,    0,    0,    0,    0,    0,\n",
       "          0,    0,    0,    0,    0,    0,    0,    0,    0,    0,    0,\n",
       "          0,    0,    0,    0,    0,    0,    0,    0,    0,    0,    0,\n",
       "          0,    0,    0,    0,    0,    0,    0,    0,    0,    0,    0,\n",
       "          0,    0,    0,    0,    0,    0,    0, 1280, 1853,  866,  229,\n",
       "         22,   51,    3,    1,    2, 2471, 2718,    3,   33,   42,  294,\n",
       "        310,    9,  449,  162,  409,   51,   33,   71,    9,    1,    2,\n",
       "        135,  127,  299,  820, 1944,  119,   51,   38,   68,   33,  365,\n",
       "         29,  229,   46,   99,  366,  299,  479,  343,  236,   71,    9,\n",
       "          1,    2,  351,   41,   38,  556,   68,   33,  236,   71,   10,\n",
       "         99,  650,  371,  367,   18, 2064, 2141, 1313,   42,   71,  554,\n",
       "          6,   15,   18,   99,  729, 1203,   89,  120,   28,  198,   38,\n",
       "          9,    1,   15,   25,   14,  477, 1613,  131,  314,  111,  802,\n",
       "         40,   13,  327,  656,  298,   42,    7,   88,   63,  502,  656,\n",
       "          9,    1,    2, 1496,   41,  485,   42,   68,  199,  502,   10,\n",
       "        125,  493,   16,   38,    9,    1,    2,  399,  108,  249,  717,\n",
       "        142,   15,   18,  140,   87,    9,    1,    2,   26,   38,  485,\n",
       "         42,   68,   33,  196,   77,   10,    5,  275,  345,   28,   53,\n",
       "          3, 1725, 1250,   64,    7,   18, 1023, 2101,  807,   77,   53,\n",
       "          3, 1725, 2101,  286,    6,   15,   18,    5,  275,    6,   28,\n",
       "        190,  274,  118,   24,  167,  169,   59,   96,   52,   11,    7,\n",
       "         16,  123,   62,    7,  266,  503,  192,   42,  504,  210,  119,\n",
       "        378,   61,  320,   37,  183,   49,   50,  148,   20,   26,   38,\n",
       "         33,  196,   77], dtype=int32)"
      ]
     },
     "metadata": {},
     "execution_count": 47
    }
   ],
   "metadata": {}
  },
  {
   "cell_type": "code",
   "execution_count": 48,
   "source": [
    "y[1]"
   ],
   "outputs": [
    {
     "output_type": "execute_result",
     "data": {
      "text/plain": [
       "'039'"
      ]
     },
     "metadata": {},
     "execution_count": 48
    }
   ],
   "metadata": {}
  },
  {
   "cell_type": "code",
   "execution_count": 49,
   "source": [
    "print(len(X),len(y))"
   ],
   "outputs": [
    {
     "output_type": "stream",
     "name": "stdout",
     "text": [
      "8864 8864\n"
     ]
    }
   ],
   "metadata": {}
  },
  {
   "cell_type": "code",
   "execution_count": 50,
   "source": [
    "y = to_categorical(y)"
   ],
   "outputs": [],
   "metadata": {}
  },
  {
   "cell_type": "code",
   "execution_count": 51,
   "source": [
    "print(X.shape, y.shape)"
   ],
   "outputs": [
    {
     "output_type": "stream",
     "name": "stdout",
     "text": [
      "(8864, 300) (8864, 131)\n"
     ]
    }
   ],
   "metadata": {}
  },
  {
   "cell_type": "code",
   "execution_count": 52,
   "source": [
    "x_train, x_test, y_train, y_test = train_test_split(X, y,test_size=0.3, random_state=777, stratify=y) #추천 한 번밖에 안된 애들 있어서 stratify 안됨"
   ],
   "outputs": [],
   "metadata": {}
  },
  {
   "cell_type": "code",
   "execution_count": 53,
   "source": [
    "num_class = int(max(se_data.id)) + 1"
   ],
   "outputs": [],
   "metadata": {}
  },
  {
   "cell_type": "code",
   "execution_count": 63,
   "source": [
    "from tensorflow.keras.layers import SimpleRNN"
   ],
   "outputs": [],
   "metadata": {}
  },
  {
   "cell_type": "code",
   "execution_count": 65,
   "source": [
    "model = Sequential()\n",
    "model.add(Embedding(vocab_size, max_len))\n",
    "model.add(SimpleRNN(max_len))\n",
    "model.add(Dense(num_class, activation='softmax'))\n",
    "\n",
    "model.summary()"
   ],
   "outputs": [
    {
     "output_type": "stream",
     "name": "stdout",
     "text": [
      "Model: \"sequential_5\"\n",
      "_________________________________________________________________\n",
      "Layer (type)                 Output Shape              Param #   \n",
      "=================================================================\n",
      "embedding_5 (Embedding)      (None, None, 300)         898200    \n",
      "_________________________________________________________________\n",
      "simple_rnn (SimpleRNN)       (None, 300)               180300    \n",
      "_________________________________________________________________\n",
      "dense_3 (Dense)              (None, 131)               39431     \n",
      "=================================================================\n",
      "Total params: 1,117,931\n",
      "Trainable params: 1,117,931\n",
      "Non-trainable params: 0\n",
      "_________________________________________________________________\n"
     ]
    }
   ],
   "metadata": {}
  },
  {
   "cell_type": "code",
   "execution_count": 66,
   "source": [
    "es = EarlyStopping(monitor='val_loss', mode='min', verbose=1, patience=6)\n",
    "mc = ModelCheckpoint('se_model_rnn.h5', monitor='val_acc', mode='max', verbose=1, save_best_only=True)"
   ],
   "outputs": [],
   "metadata": {}
  },
  {
   "cell_type": "code",
   "execution_count": 67,
   "source": [
    "model.compile(optimizer='adam', loss='categorical_crossentropy', metrics=['acc'])\n",
    "history = model.fit(x_train, y_train, epochs=10, callbacks=[es, mc], batch_size=32, validation_split=0.2)\n",
    "\n",
    "print(\"테스트 셋 체크\")\n",
    "loaded_model = load_model('se_model_rnn.h5')\n",
    "print(\"\\n 테스트 정확도: %.4f\" % (loaded_model.evaluate(x_test, y_test)[1]))"
   ],
   "outputs": [
    {
     "output_type": "stream",
     "name": "stdout",
     "text": [
      "Epoch 1/10\n",
      "156/156 [==============================] - 56s 351ms/step - loss: 1.9999 - acc: 0.8201 - val_loss: 0.0768 - val_acc: 0.9976\n",
      "\n",
      "Epoch 00001: val_acc improved from -inf to 0.99758, saving model to se_model_rnn.h5\n",
      "Epoch 2/10\n",
      "156/156 [==============================] - 56s 358ms/step - loss: 0.0522 - acc: 0.9986 - val_loss: 0.0169 - val_acc: 1.0000\n",
      "\n",
      "Epoch 00002: val_acc improved from 0.99758 to 1.00000, saving model to se_model_rnn.h5\n",
      "Epoch 3/10\n",
      "156/156 [==============================] - 54s 345ms/step - loss: 0.0105 - acc: 1.0000 - val_loss: 0.0081 - val_acc: 1.0000\n",
      "\n",
      "Epoch 00003: val_acc did not improve from 1.00000\n",
      "Epoch 4/10\n",
      "156/156 [==============================] - 53s 338ms/step - loss: 0.0056 - acc: 1.0000 - val_loss: 0.0045 - val_acc: 1.0000\n",
      "\n",
      "Epoch 00004: val_acc did not improve from 1.00000\n",
      "Epoch 5/10\n",
      "156/156 [==============================] - 54s 343ms/step - loss: 0.0033 - acc: 1.0000 - val_loss: 0.0032 - val_acc: 1.0000\n",
      "\n",
      "Epoch 00005: val_acc did not improve from 1.00000\n",
      "Epoch 6/10\n",
      "156/156 [==============================] - 54s 344ms/step - loss: 0.0022 - acc: 1.0000 - val_loss: 0.0023 - val_acc: 1.0000\n",
      "\n",
      "Epoch 00006: val_acc did not improve from 1.00000\n",
      "Epoch 7/10\n",
      "156/156 [==============================] - 58s 371ms/step - loss: 0.0016 - acc: 1.0000 - val_loss: 0.0018 - val_acc: 1.0000\n",
      "\n",
      "Epoch 00007: val_acc did not improve from 1.00000\n",
      "Epoch 8/10\n",
      "156/156 [==============================] - 57s 365ms/step - loss: 0.0013 - acc: 1.0000 - val_loss: 0.0014 - val_acc: 1.0000\n",
      "\n",
      "Epoch 00008: val_acc did not improve from 1.00000\n",
      "Epoch 9/10\n",
      "156/156 [==============================] - 57s 367ms/step - loss: 9.9776e-04 - acc: 1.0000 - val_loss: 0.0011 - val_acc: 1.0000\n",
      "\n",
      "Epoch 00009: val_acc did not improve from 1.00000\n",
      "Epoch 10/10\n",
      "156/156 [==============================] - 56s 358ms/step - loss: 8.3971e-04 - acc: 1.0000 - val_loss: 8.9257e-04 - val_acc: 1.0000\n",
      "\n",
      "Epoch 00010: val_acc did not improve from 1.00000\n",
      "테스트 셋 체크\n",
      "84/84 [==============================] - 9s 102ms/step - loss: 0.0144 - acc: 1.0000\n",
      "\n",
      " 테스트 정확도: 1.0000\n"
     ]
    }
   ],
   "metadata": {}
  },
  {
   "cell_type": "code",
   "execution_count": null,
   "source": [
    "# list all data in history\n",
    "print(history.history.keys())\n",
    "# summarize history for accuracy\n",
    "plt.plot(history.history['acc'])\n",
    "plt.plot(history.history['val_acc'])\n",
    "plt.title('model accuracy')\n",
    "plt.ylabel('accuracy')\n",
    "plt.xlabel('epoch')\n",
    "plt.legend(['train', 'test'], loc='upper left')\n",
    "plt.show()\n",
    "# summarize history for loss\n",
    "plt.plot(history.history['loss'])\n",
    "plt.plot(history.history['val_loss'])\n",
    "plt.title('model loss')\n",
    "plt.ylabel('loss')\n",
    "plt.xlabel('epoch')\n",
    "plt.legend(['train', 'test'], loc='upper left')\n",
    "plt.show()"
   ],
   "outputs": [
    {
     "output_type": "stream",
     "name": "stdout",
     "text": [
      "dict_keys(['loss', 'acc', 'val_loss', 'val_acc'])\n"
     ]
    },
    {
     "output_type": "display_data",
     "data": {
      "image/png": "[encoded data removed]",
      "text/plain": [
       "<Figure size 432x288 with 1 Axes>"
      ]
     },
     "metadata": {
      "needs_background": "light"
     }
    },
    {
     "output_type": "display_data",
     "data": {
      "image/png": "[encoded data removed]",
      "text/plain": [
       "<Figure size 432x288 with 1 Axes>"
      ]
     },
     "metadata": {
      "needs_background": "light"
     }
    }
   ],
   "metadata": {}
  },
  {
   "cell_type": "code",
   "execution_count": null,
   "source": [],
   "outputs": [],
   "metadata": {}
  }
 ],
 "metadata": {
  "orig_nbformat": 4,
  "language_info": {
   "name": "python",
   "version": "3.8.0",
   "mimetype": "text/x-python",
   "codemirror_mode": {
    "name": "ipython",
    "version": 3
   },
   "pygments_lexer": "ipython3",
   "nbconvert_exporter": "python",
   "file_extension": ".py"
  },
  "kernelspec": {
   "name": "python3",
   "display_name": "Python 3.8.0 64-bit ('sj': conda)"
  },
  "interpreter": {
   "hash": "022eb7dab1e64abfe7845a82597d3156ee0a5d78294cf462a778b063942c3de6"
  }
 },
 "nbformat": 4,
 "nbformat_minor": 2
}