{
 "cells": [
  {
   "cell_type": "code",
   "execution_count": 1,
   "source": [
    "import pandas as pd\n",
    "\n",
    "ddata = pd.read_csv(\"./data/ddata.txt\", encoding=\"euc-kr\", sep=\"\\t\", names=[\"num\",\"speaker\",\"contents\",\"tags\"])\n",
    "mdata = pd.read_csv(\"./data/mdata.txt\", encoding=\"euc-kr\", sep=\"\\t\", names=[\"id\",\"part\",\"category\",\"exptype\",\"exp\"])\n",
    "\n",
    "ddata.head()"
   ],
   "outputs": [
    {
     "output_type": "execute_result",
     "data": {
      "text/html": [
       "<div>\n",
       "<style scoped>\n",
       "    .dataframe tbody tr th:only-of-type {\n",
       "        vertical-align: middle;\n",
       "    }\n",
       "\n",
       "    .dataframe tbody tr th {\n",
       "        vertical-align: top;\n",
       "    }\n",
       "\n",
       "    .dataframe thead th {\n",
       "        text-align: right;\n",
       "    }\n",
       "</style>\n",
       "<table border=\"1\" class=\"dataframe\">\n",
       "  <thead>\n",
       "    <tr style=\"text-align: right;\">\n",
       "      <th></th>\n",
       "      <th>num</th>\n",
       "      <th>speaker</th>\n",
       "      <th>contents</th>\n",
       "      <th>tags</th>\n",
       "    </tr>\n",
       "  </thead>\n",
       "  <tbody>\n",
       "    <tr>\n",
       "      <th>0</th>\n",
       "      <td>0</td>\n",
       "      <td>&lt;CO&gt;</td>\n",
       "      <td>어서오세요. 코디봇입니다. 무엇을 도와드릴까요?</td>\n",
       "      <td>INTRO</td>\n",
       "    </tr>\n",
       "    <tr>\n",
       "      <th>1</th>\n",
       "      <td>1</td>\n",
       "      <td>&lt;US&gt;</td>\n",
       "      <td>처음 대학교 들어가는데 입을 옷 코디해주세요.</td>\n",
       "      <td>NaN</td>\n",
       "    </tr>\n",
       "    <tr>\n",
       "      <th>2</th>\n",
       "      <td>2</td>\n",
       "      <td>&lt;CO&gt;</td>\n",
       "      <td>신입생 코디에 어울리게 화사한 스웨터를 추천해드릴게요.</td>\n",
       "      <td>EXP_RES_SITUATION;EXP_RES_DESCRIPTION</td>\n",
       "    </tr>\n",
       "    <tr>\n",
       "      <th>3</th>\n",
       "      <td>3</td>\n",
       "      <td>&lt;AC&gt;</td>\n",
       "      <td>SW-009</td>\n",
       "      <td>NaN</td>\n",
       "    </tr>\n",
       "    <tr>\n",
       "      <th>4</th>\n",
       "      <td>4</td>\n",
       "      <td>&lt;US&gt;</td>\n",
       "      <td>이 옷에 어울리는 치마로 추천해주세요.</td>\n",
       "      <td>USER_SUCCESS</td>\n",
       "    </tr>\n",
       "  </tbody>\n",
       "</table>\n",
       "</div>"
      ],
      "text/plain": [
       "   num speaker                         contents  \\\n",
       "0    0    <CO>       어서오세요. 코디봇입니다. 무엇을 도와드릴까요?   \n",
       "1    1    <US>        처음 대학교 들어가는데 입을 옷 코디해주세요.   \n",
       "2    2    <CO>   신입생 코디에 어울리게 화사한 스웨터를 추천해드릴게요.   \n",
       "3    3    <AC>                           SW-009   \n",
       "4    4    <US>            이 옷에 어울리는 치마로 추천해주세요.   \n",
       "\n",
       "                                    tags  \n",
       "0                                  INTRO  \n",
       "1                                    NaN  \n",
       "2  EXP_RES_SITUATION;EXP_RES_DESCRIPTION  \n",
       "3                                    NaN  \n",
       "4                           USER_SUCCESS  "
      ]
     },
     "metadata": {},
     "execution_count": 1
    }
   ],
   "metadata": {}
  },
  {
   "cell_type": "markdown",
   "source": [
    "# 1. 전체 대화셋 개수 카운트"
   ],
   "metadata": {}
  },
  {
   "cell_type": "code",
   "execution_count": 2,
   "source": [
    "dial_num = 0\n",
    "\n",
    "for i in range(1, len(ddata)):\n",
    "    if ddata.loc[i, \"num\"] == 0:\n",
    "        dial_num += 1\n",
    "print(\"총 대화셋 수: \",dial_num)"
   ],
   "outputs": [
    {
     "output_type": "stream",
     "name": "stdout",
     "text": [
      "총 대화셋 수:  7235\n"
     ]
    }
   ],
   "metadata": {}
  },
  {
   "cell_type": "markdown",
   "source": [
    "# 2. Mdata 합치기"
   ],
   "metadata": {}
  },
  {
   "cell_type": "markdown",
   "source": [
    "## - Part 살려서 합치기"
   ],
   "metadata": {}
  },
  {
   "cell_type": "code",
   "execution_count": 3,
   "source": [
    "c_mdata = pd.DataFrame({\"id\":[0],\"exp\":[None]})\n",
    "c_mdata.drop(0, axis=0, inplace=True)\n",
    "c_mdata"
   ],
   "outputs": [
    {
     "output_type": "execute_result",
     "data": {
      "text/html": [
       "<div>\n",
       "<style scoped>\n",
       "    .dataframe tbody tr th:only-of-type {\n",
       "        vertical-align: middle;\n",
       "    }\n",
       "\n",
       "    .dataframe tbody tr th {\n",
       "        vertical-align: top;\n",
       "    }\n",
       "\n",
       "    .dataframe thead th {\n",
       "        text-align: right;\n",
       "    }\n",
       "</style>\n",
       "<table border=\"1\" class=\"dataframe\">\n",
       "  <thead>\n",
       "    <tr style=\"text-align: right;\">\n",
       "      <th></th>\n",
       "      <th>id</th>\n",
       "      <th>exp</th>\n",
       "    </tr>\n",
       "  </thead>\n",
       "  <tbody>\n",
       "  </tbody>\n",
       "</table>\n",
       "</div>"
      ],
      "text/plain": [
       "Empty DataFrame\n",
       "Columns: [id, exp]\n",
       "Index: []"
      ]
     },
     "metadata": {},
     "execution_count": 3
    }
   ],
   "metadata": {}
  },
  {
   "cell_type": "code",
   "execution_count": 4,
   "source": [
    "id = \"\"\n",
    "idx = 0\n",
    "for i in range(len(mdata)):\n",
    "    if id == mdata.loc[i, \"id\"]:\n",
    "        c_mdata.loc[c_mdata.index[(c_mdata[\"id\"] == id)].tolist().pop(),\"exp\"] = c_mdata.loc[c_mdata.index[(c_mdata[\"id\"] == id)].tolist().pop(),\"exp\"] + \" \" + mdata.loc[i, \"exp\"]\n",
    "    \n",
    "    else:\n",
    "        id = mdata.loc[i, \"id\"]\n",
    "        c_mdata.loc[i, \"id\"] = id\n",
    "        c_mdata.loc[i, \"exp\"] = mdata.loc[i, \"exp\"]\n",
    "\n",
    "c_mdata.head()"
   ],
   "outputs": [
    {
     "output_type": "execute_result",
     "data": {
      "text/html": [
       "<div>\n",
       "<style scoped>\n",
       "    .dataframe tbody tr th:only-of-type {\n",
       "        vertical-align: middle;\n",
       "    }\n",
       "\n",
       "    .dataframe tbody tr th {\n",
       "        vertical-align: top;\n",
       "    }\n",
       "\n",
       "    .dataframe thead th {\n",
       "        text-align: right;\n",
       "    }\n",
       "</style>\n",
       "<table border=\"1\" class=\"dataframe\">\n",
       "  <thead>\n",
       "    <tr style=\"text-align: right;\">\n",
       "      <th></th>\n",
       "      <th>id</th>\n",
       "      <th>exp</th>\n",
       "    </tr>\n",
       "  </thead>\n",
       "  <tbody>\n",
       "    <tr>\n",
       "      <th>0</th>\n",
       "      <td>BL-001</td>\n",
       "      <td>단추 여밈의 전체 오픈형 스탠드 칼라와 브이넥 네크라인의 결합스타일 손목까지 내려오...</td>\n",
       "    </tr>\n",
       "    <tr>\n",
       "      <th>20</th>\n",
       "      <td>BL-002</td>\n",
       "      <td>넓은 셔츠칼라 네크라인 앞중심에 반 오픈 끈여밈있는 스타일 드롭숄더 퍼프형 소매로 ...</td>\n",
       "    </tr>\n",
       "    <tr>\n",
       "      <th>38</th>\n",
       "      <td>BL-003</td>\n",
       "      <td>앞 중심에 단추 여밈 칼라가 없는 넓고 깊게 파인 브이넥 엉덩이 밑으로 내려오는 긴...</td>\n",
       "    </tr>\n",
       "    <tr>\n",
       "      <th>63</th>\n",
       "      <td>BL-004</td>\n",
       "      <td>앞중심에 단추 여밈 칼라가 없는 라운드넥으로 골반 위에서 끝나는 짧은 기장 손목, ...</td>\n",
       "    </tr>\n",
       "    <tr>\n",
       "      <th>84</th>\n",
       "      <td>BL-005</td>\n",
       "      <td>앞단추 여밈의 전체 오픈형 칼라가 없는 라운드넥크라인 엉덩이 위에서 끝나는 짧은 기...</td>\n",
       "    </tr>\n",
       "  </tbody>\n",
       "</table>\n",
       "</div>"
      ],
      "text/plain": [
       "         id                                                exp\n",
       "0   BL-001   단추 여밈의 전체 오픈형 스탠드 칼라와 브이넥 네크라인의 결합스타일 손목까지 내려오...\n",
       "20  BL-002   넓은 셔츠칼라 네크라인 앞중심에 반 오픈 끈여밈있는 스타일 드롭숄더 퍼프형 소매로 ...\n",
       "38  BL-003   앞 중심에 단추 여밈 칼라가 없는 넓고 깊게 파인 브이넥 엉덩이 밑으로 내려오는 긴...\n",
       "63  BL-004   앞중심에 단추 여밈 칼라가 없는 라운드넥으로 골반 위에서 끝나는 짧은 기장 손목, ...\n",
       "84  BL-005   앞단추 여밈의 전체 오픈형 칼라가 없는 라운드넥크라인 엉덩이 위에서 끝나는 짧은 기..."
      ]
     },
     "metadata": {},
     "execution_count": 4
    }
   ],
   "metadata": {}
  },
  {
   "cell_type": "code",
   "execution_count": 5,
   "source": [
    "for i in range(len(c_mdata)): # id 뒤에 공백 없애기\n",
    "    c_mdata.iloc[i].id = c_mdata.iloc[i].id.strip()\n",
    "\n",
    "print(c_mdata.iloc[0].id)\n",
    "c_mdata.reset_index(drop=True,inplace=True)\n",
    "c_mdata.head()"
   ],
   "outputs": [
    {
     "output_type": "stream",
     "name": "stdout",
     "text": [
      "BL-001\n"
     ]
    },
    {
     "output_type": "execute_result",
     "data": {
      "text/html": [
       "<div>\n",
       "<style scoped>\n",
       "    .dataframe tbody tr th:only-of-type {\n",
       "        vertical-align: middle;\n",
       "    }\n",
       "\n",
       "    .dataframe tbody tr th {\n",
       "        vertical-align: top;\n",
       "    }\n",
       "\n",
       "    .dataframe thead th {\n",
       "        text-align: right;\n",
       "    }\n",
       "</style>\n",
       "<table border=\"1\" class=\"dataframe\">\n",
       "  <thead>\n",
       "    <tr style=\"text-align: right;\">\n",
       "      <th></th>\n",
       "      <th>id</th>\n",
       "      <th>exp</th>\n",
       "    </tr>\n",
       "  </thead>\n",
       "  <tbody>\n",
       "    <tr>\n",
       "      <th>0</th>\n",
       "      <td>BL-001</td>\n",
       "      <td>단추 여밈의 전체 오픈형 스탠드 칼라와 브이넥 네크라인의 결합스타일 손목까지 내려오...</td>\n",
       "    </tr>\n",
       "    <tr>\n",
       "      <th>1</th>\n",
       "      <td>BL-002</td>\n",
       "      <td>넓은 셔츠칼라 네크라인 앞중심에 반 오픈 끈여밈있는 스타일 드롭숄더 퍼프형 소매로 ...</td>\n",
       "    </tr>\n",
       "    <tr>\n",
       "      <th>2</th>\n",
       "      <td>BL-003</td>\n",
       "      <td>앞 중심에 단추 여밈 칼라가 없는 넓고 깊게 파인 브이넥 엉덩이 밑으로 내려오는 긴...</td>\n",
       "    </tr>\n",
       "    <tr>\n",
       "      <th>3</th>\n",
       "      <td>BL-004</td>\n",
       "      <td>앞중심에 단추 여밈 칼라가 없는 라운드넥으로 골반 위에서 끝나는 짧은 기장 손목, ...</td>\n",
       "    </tr>\n",
       "    <tr>\n",
       "      <th>4</th>\n",
       "      <td>BL-005</td>\n",
       "      <td>앞단추 여밈의 전체 오픈형 칼라가 없는 라운드넥크라인 엉덩이 위에서 끝나는 짧은 기...</td>\n",
       "    </tr>\n",
       "  </tbody>\n",
       "</table>\n",
       "</div>"
      ],
      "text/plain": [
       "       id                                                exp\n",
       "0  BL-001  단추 여밈의 전체 오픈형 스탠드 칼라와 브이넥 네크라인의 결합스타일 손목까지 내려오...\n",
       "1  BL-002  넓은 셔츠칼라 네크라인 앞중심에 반 오픈 끈여밈있는 스타일 드롭숄더 퍼프형 소매로 ...\n",
       "2  BL-003  앞 중심에 단추 여밈 칼라가 없는 넓고 깊게 파인 브이넥 엉덩이 밑으로 내려오는 긴...\n",
       "3  BL-004  앞중심에 단추 여밈 칼라가 없는 라운드넥으로 골반 위에서 끝나는 짧은 기장 손목, ...\n",
       "4  BL-005  앞단추 여밈의 전체 오픈형 칼라가 없는 라운드넥크라인 엉덩이 위에서 끝나는 짧은 기..."
      ]
     },
     "metadata": {},
     "execution_count": 5
    }
   ],
   "metadata": {}
  },
  {
   "cell_type": "markdown",
   "source": [
    "# 3. NaN, Null 값 확인"
   ],
   "metadata": {}
  },
  {
   "cell_type": "code",
   "execution_count": 6,
   "source": [
    "ddata.drop(ddata.index[ddata.tags == \"INTRO\"].tolist(), axis=0, inplace=True)\n",
    "ddata.reset_index(drop=True, inplace=True)\n",
    "ddata[ddata.tags == \"INTRO\"]"
   ],
   "outputs": [
    {
     "output_type": "execute_result",
     "data": {
      "text/html": [
       "<div>\n",
       "<style scoped>\n",
       "    .dataframe tbody tr th:only-of-type {\n",
       "        vertical-align: middle;\n",
       "    }\n",
       "\n",
       "    .dataframe tbody tr th {\n",
       "        vertical-align: top;\n",
       "    }\n",
       "\n",
       "    .dataframe thead th {\n",
       "        text-align: right;\n",
       "    }\n",
       "</style>\n",
       "<table border=\"1\" class=\"dataframe\">\n",
       "  <thead>\n",
       "    <tr style=\"text-align: right;\">\n",
       "      <th></th>\n",
       "      <th>num</th>\n",
       "      <th>speaker</th>\n",
       "      <th>contents</th>\n",
       "      <th>tags</th>\n",
       "    </tr>\n",
       "  </thead>\n",
       "  <tbody>\n",
       "  </tbody>\n",
       "</table>\n",
       "</div>"
      ],
      "text/plain": [
       "Empty DataFrame\n",
       "Columns: [num, speaker, contents, tags]\n",
       "Index: []"
      ]
     },
     "metadata": {},
     "execution_count": 6
    }
   ],
   "metadata": {}
  },
  {
   "cell_type": "code",
   "execution_count": 7,
   "source": [
    "ddata.isnull().sum()"
   ],
   "outputs": [
    {
     "output_type": "execute_result",
     "data": {
      "text/plain": [
       "num             0\n",
       "speaker         0\n",
       "contents        0\n",
       "tags        51927\n",
       "dtype: int64"
      ]
     },
     "metadata": {},
     "execution_count": 7
    }
   ],
   "metadata": {}
  },
  {
   "cell_type": "code",
   "execution_count": 8,
   "source": [
    "ddata.isna().sum()"
   ],
   "outputs": [
    {
     "output_type": "execute_result",
     "data": {
      "text/plain": [
       "num             0\n",
       "speaker         0\n",
       "contents        0\n",
       "tags        51927\n",
       "dtype: int64"
      ]
     },
     "metadata": {},
     "execution_count": 8
    }
   ],
   "metadata": {}
  },
  {
   "cell_type": "code",
   "execution_count": 9,
   "source": [
    "ddata.fillna(\"\", inplace=True)\n",
    "ddata.isna().sum()"
   ],
   "outputs": [
    {
     "output_type": "execute_result",
     "data": {
      "text/plain": [
       "num         0\n",
       "speaker     0\n",
       "contents    0\n",
       "tags        0\n",
       "dtype: int64"
      ]
     },
     "metadata": {},
     "execution_count": 9
    }
   ],
   "metadata": {}
  },
  {
   "cell_type": "code",
   "execution_count": 10,
   "source": [
    "mdata.isnull().sum()"
   ],
   "outputs": [
    {
     "output_type": "execute_result",
     "data": {
      "text/plain": [
       "id          0\n",
       "part        0\n",
       "category    0\n",
       "exptype     0\n",
       "exp         0\n",
       "dtype: int64"
      ]
     },
     "metadata": {},
     "execution_count": 10
    }
   ],
   "metadata": {}
  },
  {
   "cell_type": "code",
   "execution_count": 11,
   "source": [
    "c_mdata.isnull().sum()"
   ],
   "outputs": [
    {
     "output_type": "execute_result",
     "data": {
      "text/plain": [
       "id     0\n",
       "exp    0\n",
       "dtype: int64"
      ]
     },
     "metadata": {},
     "execution_count": 11
    }
   ],
   "metadata": {}
  },
  {
   "cell_type": "markdown",
   "source": [
    "# 4. 추천 성공 의상 아이디 종류 및 빈도 카운트 "
   ],
   "metadata": {}
  },
  {
   "cell_type": "markdown",
   "source": [
    "## 한 번에 추천해도 실패하면 전부 실패로 달기"
   ],
   "metadata": {}
  },
  {
   "cell_type": "code",
   "execution_count": 12,
   "source": [
    "c_data = pd.DataFrame({\"contents\":[None], \"id\":[\"xx-xxx\"]})\n",
    "c_data.drop(0,axis=0,inplace=True)\n",
    "c_data.head()"
   ],
   "outputs": [
    {
     "output_type": "execute_result",
     "data": {
      "text/html": [
       "<div>\n",
       "<style scoped>\n",
       "    .dataframe tbody tr th:only-of-type {\n",
       "        vertical-align: middle;\n",
       "    }\n",
       "\n",
       "    .dataframe tbody tr th {\n",
       "        vertical-align: top;\n",
       "    }\n",
       "\n",
       "    .dataframe thead th {\n",
       "        text-align: right;\n",
       "    }\n",
       "</style>\n",
       "<table border=\"1\" class=\"dataframe\">\n",
       "  <thead>\n",
       "    <tr style=\"text-align: right;\">\n",
       "      <th></th>\n",
       "      <th>contents</th>\n",
       "      <th>id</th>\n",
       "    </tr>\n",
       "  </thead>\n",
       "  <tbody>\n",
       "  </tbody>\n",
       "</table>\n",
       "</div>"
      ],
      "text/plain": [
       "Empty DataFrame\n",
       "Columns: [contents, id]\n",
       "Index: []"
      ]
     },
     "metadata": {},
     "execution_count": 12
    }
   ],
   "metadata": {}
  },
  {
   "cell_type": "markdown",
   "source": [
    "<코드 동작 원리>\n",
    "<br>\n",
    "\n",
    "대화문 하나씩 받아온 다음\n",
    "- AC 태그 문장이면 일단 의상 변수에 저장,\n",
    "- user_success 태그 문장이면\n",
    "\n",
    "   - 변수에 저장된 의상이 하나면\n",
    "\n",
    "      - 바로 대화문 변수랑 의상 변수 및 의상 메타데이터 합쳐서 저장 -> 레이블(id 컬럼에 저장)은 의상 코드가 됨\n",
    "\n",
    "   - 변수에 저장된 의상의 여러 개면\n",
    "\n",
    "      - 의상을 하나의 코드 단위로 쪼개서 대화문 변수랑 의상 메타데이터 합쳐서 저장\n",
    "      \n",
    "-  둘 다 아니고 일반 대화문이면 대화문 변수에 저장"
   ],
   "metadata": {}
  },
  {
   "cell_type": "code",
   "execution_count": 13,
   "source": [
    "dial = ddata.loc[0, \"contents\"].strip()\n",
    "ac = \"\"\n",
    "\n",
    "for i in range(1,len(ddata)):\n",
    "    cur_sen = ddata.loc[i,\"contents\"].strip()\n",
    "\n",
    "    if ddata.loc[i, \"num\"] > ddata.loc[i-1, \"num\"]: # 이전 대화셋에 포함된 문장인지 확인\n",
    "        \n",
    "        if ddata.loc[i,\"speaker\"] == \"<AC>\": # case 1. 의상 아이디가 나온 경우\n",
    "            if len(ac) > 1:\n",
    "                ac = ac + \" \" + cur_sen # 의상 아이디 저장\n",
    "            else:\n",
    "                ac = cur_sen\n",
    "\n",
    "        elif \"USER_SUCCESS\" == ddata.loc[i,\"tags\"]: # case 2. USER_SUCCESS 태그가 나온 경우\n",
    "            if 0 < len(ac) < 7: # 의상을 하나만 추천한 경우\n",
    "                dial = dial + \" \" + ac + \" \" + cur_sen\n",
    "                c_data.loc[i, \"contents\"] =  dial + \" \" + c_mdata.loc[c_mdata.id == ac].exp.values[0]\n",
    "                c_data.loc[i, \"id\"] = ac\n",
    "                ac = \"\"\n",
    "\n",
    "            elif len(ac) == 0:\n",
    "                dial = dial + \" \" + cur_sen\n",
    "\n",
    "            else: # 의상을 한 번에 여러 개 추천한 경우\n",
    "                idx_cnt = 0\n",
    "                for one_ac in ac.split():\n",
    "                    c_data.loc[i + idx_cnt, \"contents\"] =  dial + \" \" + one_ac + \" \"+ cur_sen + \" \" + c_mdata.loc[c_mdata.id == one_ac].exp.values[0]\n",
    "                    c_data.loc[i + idx_cnt, \"id\"] = one_ac\n",
    "                    idx_cnt += 1\n",
    "                dial = dial + \" \" + ac + \" \" + cur_sen    \n",
    "                ac = \"\"\n",
    "        \n",
    "        elif \"USER_FAIL\" in ddata.loc[i,\"tags\"]:\n",
    "            dial = dial + \" \" + ac + \" \" + cur_sen\n",
    "            ac = \"\"\n",
    "\n",
    "        else: # case 3. 그냥 대화문인 경우\n",
    "            dial = dial + \" \" + cur_sen\n",
    "    \n",
    "    else: #새로운 대화셋 시작이면 초기화\n",
    "        dial = cur_sen\n",
    "        ac = \"\""
   ],
   "outputs": [],
   "metadata": {}
  },
  {
   "cell_type": "code",
   "execution_count": 14,
   "source": [
    "print(\"전체 데이터 수: \", len(c_data))\n",
    "c_data.head()"
   ],
   "outputs": [
    {
     "output_type": "stream",
     "name": "stdout",
     "text": [
      "전체 데이터 수:  34303\n"
     ]
    },
    {
     "output_type": "execute_result",
     "data": {
      "text/html": [
       "<div>\n",
       "<style scoped>\n",
       "    .dataframe tbody tr th:only-of-type {\n",
       "        vertical-align: middle;\n",
       "    }\n",
       "\n",
       "    .dataframe tbody tr th {\n",
       "        vertical-align: top;\n",
       "    }\n",
       "\n",
       "    .dataframe thead th {\n",
       "        text-align: right;\n",
       "    }\n",
       "</style>\n",
       "<table border=\"1\" class=\"dataframe\">\n",
       "  <thead>\n",
       "    <tr style=\"text-align: right;\">\n",
       "      <th></th>\n",
       "      <th>contents</th>\n",
       "      <th>id</th>\n",
       "    </tr>\n",
       "  </thead>\n",
       "  <tbody>\n",
       "    <tr>\n",
       "      <th>3</th>\n",
       "      <td>처음 대학교 들어가는데 입을 옷 코디해주세요. 신입생 코디에 어울리게 화사한 스웨터...</td>\n",
       "      <td>SW-009</td>\n",
       "    </tr>\n",
       "    <tr>\n",
       "      <th>12</th>\n",
       "      <td>처음 대학교 들어가는데 입을 옷 코디해주세요. 신입생 코디에 어울리게 화사한 스웨터...</td>\n",
       "      <td>SK-053</td>\n",
       "    </tr>\n",
       "    <tr>\n",
       "      <th>17</th>\n",
       "      <td>처음 대학교 들어가는데 입을 옷 코디해주세요. 신입생 코디에 어울리게 화사한 스웨터...</td>\n",
       "      <td>CT-019</td>\n",
       "    </tr>\n",
       "    <tr>\n",
       "      <th>22</th>\n",
       "      <td>처음 대학교 들어가는데 입을 옷 코디해주세요. 신입생 코디에 어울리게 화사한 스웨터...</td>\n",
       "      <td>SE-039</td>\n",
       "    </tr>\n",
       "    <tr>\n",
       "      <th>26</th>\n",
       "      <td>처음 대학교 들어가는데 입을 옷 코디해주세요. 신입생 코디에 어울리게 화사한 스웨터...</td>\n",
       "      <td>CT-019</td>\n",
       "    </tr>\n",
       "  </tbody>\n",
       "</table>\n",
       "</div>"
      ],
      "text/plain": [
       "                                             contents      id\n",
       "3   처음 대학교 들어가는데 입을 옷 코디해주세요. 신입생 코디에 어울리게 화사한 스웨터...  SW-009\n",
       "12  처음 대학교 들어가는데 입을 옷 코디해주세요. 신입생 코디에 어울리게 화사한 스웨터...  SK-053\n",
       "17  처음 대학교 들어가는데 입을 옷 코디해주세요. 신입생 코디에 어울리게 화사한 스웨터...  CT-019\n",
       "22  처음 대학교 들어가는데 입을 옷 코디해주세요. 신입생 코디에 어울리게 화사한 스웨터...  SE-039\n",
       "26  처음 대학교 들어가는데 입을 옷 코디해주세요. 신입생 코디에 어울리게 화사한 스웨터...  CT-019"
      ]
     },
     "metadata": {},
     "execution_count": 14
    }
   ],
   "metadata": {}
  },
  {
   "cell_type": "code",
   "execution_count": 15,
   "source": [
    "c_data.reset_index(drop=True ,inplace=True)\n",
    "c_data.head()"
   ],
   "outputs": [
    {
     "output_type": "execute_result",
     "data": {
      "text/html": [
       "<div>\n",
       "<style scoped>\n",
       "    .dataframe tbody tr th:only-of-type {\n",
       "        vertical-align: middle;\n",
       "    }\n",
       "\n",
       "    .dataframe tbody tr th {\n",
       "        vertical-align: top;\n",
       "    }\n",
       "\n",
       "    .dataframe thead th {\n",
       "        text-align: right;\n",
       "    }\n",
       "</style>\n",
       "<table border=\"1\" class=\"dataframe\">\n",
       "  <thead>\n",
       "    <tr style=\"text-align: right;\">\n",
       "      <th></th>\n",
       "      <th>contents</th>\n",
       "      <th>id</th>\n",
       "    </tr>\n",
       "  </thead>\n",
       "  <tbody>\n",
       "    <tr>\n",
       "      <th>0</th>\n",
       "      <td>처음 대학교 들어가는데 입을 옷 코디해주세요. 신입생 코디에 어울리게 화사한 스웨터...</td>\n",
       "      <td>SW-009</td>\n",
       "    </tr>\n",
       "    <tr>\n",
       "      <th>1</th>\n",
       "      <td>처음 대학교 들어가는데 입을 옷 코디해주세요. 신입생 코디에 어울리게 화사한 스웨터...</td>\n",
       "      <td>SK-053</td>\n",
       "    </tr>\n",
       "    <tr>\n",
       "      <th>2</th>\n",
       "      <td>처음 대학교 들어가는데 입을 옷 코디해주세요. 신입생 코디에 어울리게 화사한 스웨터...</td>\n",
       "      <td>CT-019</td>\n",
       "    </tr>\n",
       "    <tr>\n",
       "      <th>3</th>\n",
       "      <td>처음 대학교 들어가는데 입을 옷 코디해주세요. 신입생 코디에 어울리게 화사한 스웨터...</td>\n",
       "      <td>SE-039</td>\n",
       "    </tr>\n",
       "    <tr>\n",
       "      <th>4</th>\n",
       "      <td>처음 대학교 들어가는데 입을 옷 코디해주세요. 신입생 코디에 어울리게 화사한 스웨터...</td>\n",
       "      <td>CT-019</td>\n",
       "    </tr>\n",
       "  </tbody>\n",
       "</table>\n",
       "</div>"
      ],
      "text/plain": [
       "                                            contents      id\n",
       "0  처음 대학교 들어가는데 입을 옷 코디해주세요. 신입생 코디에 어울리게 화사한 스웨터...  SW-009\n",
       "1  처음 대학교 들어가는데 입을 옷 코디해주세요. 신입생 코디에 어울리게 화사한 스웨터...  SK-053\n",
       "2  처음 대학교 들어가는데 입을 옷 코디해주세요. 신입생 코디에 어울리게 화사한 스웨터...  CT-019\n",
       "3  처음 대학교 들어가는데 입을 옷 코디해주세요. 신입생 코디에 어울리게 화사한 스웨터...  SE-039\n",
       "4  처음 대학교 들어가는데 입을 옷 코디해주세요. 신입생 코디에 어울리게 화사한 스웨터...  CT-019"
      ]
     },
     "metadata": {},
     "execution_count": 15
    }
   ],
   "metadata": {}
  },
  {
   "cell_type": "code",
   "execution_count": 16,
   "source": [
    "c_data.loc[0].contents"
   ],
   "outputs": [
    {
     "output_type": "execute_result",
     "data": {
      "text/plain": [
       "'처음 대학교 들어가는데 입을 옷 코디해주세요. 신입생 코디에 어울리게 화사한 스웨터를 추천해드릴게요. SW-009 이 옷에 어울리는 치마로 추천해주세요. 라운드 네크라인 여밈이 없는 풀오버 스타일 전체 케이블 조직 드롭숄더 슬리브 손등까지 오는 길이의 소매 몸에 적당히 맞는 품 엉덩이를 살짝 덮는 길이 네크라인, 소매 끝, 밑단에 고무단 처리 레이온52%,나일론20%,폴리에스터28% 꽈배기 조직, 플레인 조직이 섞여 있는 형태 드라이 크리닝 단색의 라임색 브라이트톤(고명도 고채도)의 옐로우 그린 산뜻하고 발랄한 느낌 기본의 단정한 편안한 산뜻한 발랄한 경쾌한 따뜻한 데일리룩 캠퍼스룩'"
      ]
     },
     "metadata": {},
     "execution_count": 16
    }
   ],
   "metadata": {}
  },
  {
   "cell_type": "code",
   "execution_count": 17,
   "source": [
    "sk_data = pd.DataFrame({\"contents\":[None], \"id\":[\"xx-xxx\"]})\n",
    "sk_data.drop(0,axis=0,inplace=True)\n",
    "sk_data.head()"
   ],
   "outputs": [
    {
     "output_type": "execute_result",
     "data": {
      "text/html": [
       "<div>\n",
       "<style scoped>\n",
       "    .dataframe tbody tr th:only-of-type {\n",
       "        vertical-align: middle;\n",
       "    }\n",
       "\n",
       "    .dataframe tbody tr th {\n",
       "        vertical-align: top;\n",
       "    }\n",
       "\n",
       "    .dataframe thead th {\n",
       "        text-align: right;\n",
       "    }\n",
       "</style>\n",
       "<table border=\"1\" class=\"dataframe\">\n",
       "  <thead>\n",
       "    <tr style=\"text-align: right;\">\n",
       "      <th></th>\n",
       "      <th>contents</th>\n",
       "      <th>id</th>\n",
       "    </tr>\n",
       "  </thead>\n",
       "  <tbody>\n",
       "  </tbody>\n",
       "</table>\n",
       "</div>"
      ],
      "text/plain": [
       "Empty DataFrame\n",
       "Columns: [contents, id]\n",
       "Index: []"
      ]
     },
     "metadata": {},
     "execution_count": 17
    }
   ],
   "metadata": {}
  },
  {
   "cell_type": "code",
   "execution_count": 18,
   "source": [
    "for i in range(len(c_data)):\n",
    "    if \"SK\" in c_data[\"id\"][i][0:2]:\n",
    "        sk_data = sk_data.append(c_data.iloc[i])\n",
    "\n",
    "sk_data.reset_index(drop=True, inplace=True)\n",
    "print(\"데이터 개수\",len(sk_data))\n",
    "sk_data.head()"
   ],
   "outputs": [
    {
     "output_type": "stream",
     "name": "stdout",
     "text": [
      "데이터 개수 2500\n"
     ]
    },
    {
     "output_type": "execute_result",
     "data": {
      "text/html": [
       "<div>\n",
       "<style scoped>\n",
       "    .dataframe tbody tr th:only-of-type {\n",
       "        vertical-align: middle;\n",
       "    }\n",
       "\n",
       "    .dataframe tbody tr th {\n",
       "        vertical-align: top;\n",
       "    }\n",
       "\n",
       "    .dataframe thead th {\n",
       "        text-align: right;\n",
       "    }\n",
       "</style>\n",
       "<table border=\"1\" class=\"dataframe\">\n",
       "  <thead>\n",
       "    <tr style=\"text-align: right;\">\n",
       "      <th></th>\n",
       "      <th>contents</th>\n",
       "      <th>id</th>\n",
       "    </tr>\n",
       "  </thead>\n",
       "  <tbody>\n",
       "    <tr>\n",
       "      <th>0</th>\n",
       "      <td>처음 대학교 들어가는데 입을 옷 코디해주세요. 신입생 코디에 어울리게 화사한 스웨터...</td>\n",
       "      <td>SK-053</td>\n",
       "    </tr>\n",
       "    <tr>\n",
       "      <th>1</th>\n",
       "      <td>처음 대학교 들어가는데 입을 옷 코디해주세요. 신입생 코디에 어울리게 화사한 스웨터...</td>\n",
       "      <td>SK-053</td>\n",
       "    </tr>\n",
       "    <tr>\n",
       "      <th>2</th>\n",
       "      <td>데이트 갈 건데 코디부탁합니다. 화사한 꽃무늬 블라우스가 돋보이는 코디입니다. 마음...</td>\n",
       "      <td>SK-082</td>\n",
       "    </tr>\n",
       "    <tr>\n",
       "      <th>3</th>\n",
       "      <td>추석에 할머니댁 가는데 깔끔한 옷 추천해주세요. 가을 분위기를 내는 아우터에 포멀한...</td>\n",
       "      <td>SK-061</td>\n",
       "    </tr>\n",
       "    <tr>\n",
       "      <th>4</th>\n",
       "      <td>카페에 알바를 가려고 하는데 면접 복장을 추천해주세요. 여름 옷으로 보여주세요. 네...</td>\n",
       "      <td>SK-048</td>\n",
       "    </tr>\n",
       "  </tbody>\n",
       "</table>\n",
       "</div>"
      ],
      "text/plain": [
       "                                            contents      id\n",
       "0  처음 대학교 들어가는데 입을 옷 코디해주세요. 신입생 코디에 어울리게 화사한 스웨터...  SK-053\n",
       "1  처음 대학교 들어가는데 입을 옷 코디해주세요. 신입생 코디에 어울리게 화사한 스웨터...  SK-053\n",
       "2  데이트 갈 건데 코디부탁합니다. 화사한 꽃무늬 블라우스가 돋보이는 코디입니다. 마음...  SK-082\n",
       "3  추석에 할머니댁 가는데 깔끔한 옷 추천해주세요. 가을 분위기를 내는 아우터에 포멀한...  SK-061\n",
       "4  카페에 알바를 가려고 하는데 면접 복장을 추천해주세요. 여름 옷으로 보여주세요. 네...  SK-048"
      ]
     },
     "metadata": {},
     "execution_count": 18
    }
   ],
   "metadata": {}
  },
  {
   "cell_type": "code",
   "execution_count": 19,
   "source": [
    "sk_data[\"contents\"] = sk_data[\"contents\"].str.replace(\"[^A-Za-z0-9ㄱ-ㅎㅏ-ㅣ가-힣 ]\",\"\")\n",
    "sk_data.head()"
   ],
   "outputs": [
    {
     "output_type": "stream",
     "name": "stderr",
     "text": [
      "<ipython-input-19-b3f752366706>:1: FutureWarning: The default value of regex will change from True to False in a future version.\n",
      "  sk_data[\"contents\"] = sk_data[\"contents\"].str.replace(\"[^A-Za-z0-9ㄱ-ㅎㅏ-ㅣ가-힣 ]\",\"\")\n"
     ]
    },
    {
     "output_type": "execute_result",
     "data": {
      "text/html": [
       "<div>\n",
       "<style scoped>\n",
       "    .dataframe tbody tr th:only-of-type {\n",
       "        vertical-align: middle;\n",
       "    }\n",
       "\n",
       "    .dataframe tbody tr th {\n",
       "        vertical-align: top;\n",
       "    }\n",
       "\n",
       "    .dataframe thead th {\n",
       "        text-align: right;\n",
       "    }\n",
       "</style>\n",
       "<table border=\"1\" class=\"dataframe\">\n",
       "  <thead>\n",
       "    <tr style=\"text-align: right;\">\n",
       "      <th></th>\n",
       "      <th>contents</th>\n",
       "      <th>id</th>\n",
       "    </tr>\n",
       "  </thead>\n",
       "  <tbody>\n",
       "    <tr>\n",
       "      <th>0</th>\n",
       "      <td>처음 대학교 들어가는데 입을 옷 코디해주세요 신입생 코디에 어울리게 화사한 스웨터를...</td>\n",
       "      <td>SK-053</td>\n",
       "    </tr>\n",
       "    <tr>\n",
       "      <th>1</th>\n",
       "      <td>처음 대학교 들어가는데 입을 옷 코디해주세요 신입생 코디에 어울리게 화사한 스웨터를...</td>\n",
       "      <td>SK-053</td>\n",
       "    </tr>\n",
       "    <tr>\n",
       "      <th>2</th>\n",
       "      <td>데이트 갈 건데 코디부탁합니다 화사한 꽃무늬 블라우스가 돋보이는 코디입니다 마음에 ...</td>\n",
       "      <td>SK-082</td>\n",
       "    </tr>\n",
       "    <tr>\n",
       "      <th>3</th>\n",
       "      <td>추석에 할머니댁 가는데 깔끔한 옷 추천해주세요 가을 분위기를 내는 아우터에 포멀한 ...</td>\n",
       "      <td>SK-061</td>\n",
       "    </tr>\n",
       "    <tr>\n",
       "      <th>4</th>\n",
       "      <td>카페에 알바를 가려고 하는데 면접 복장을 추천해주세요 여름 옷으로 보여주세요 네 그...</td>\n",
       "      <td>SK-048</td>\n",
       "    </tr>\n",
       "  </tbody>\n",
       "</table>\n",
       "</div>"
      ],
      "text/plain": [
       "                                            contents      id\n",
       "0  처음 대학교 들어가는데 입을 옷 코디해주세요 신입생 코디에 어울리게 화사한 스웨터를...  SK-053\n",
       "1  처음 대학교 들어가는데 입을 옷 코디해주세요 신입생 코디에 어울리게 화사한 스웨터를...  SK-053\n",
       "2  데이트 갈 건데 코디부탁합니다 화사한 꽃무늬 블라우스가 돋보이는 코디입니다 마음에 ...  SK-082\n",
       "3  추석에 할머니댁 가는데 깔끔한 옷 추천해주세요 가을 분위기를 내는 아우터에 포멀한 ...  SK-061\n",
       "4  카페에 알바를 가려고 하는데 면접 복장을 추천해주세요 여름 옷으로 보여주세요 네 그...  SK-048"
      ]
     },
     "metadata": {},
     "execution_count": 19
    }
   ],
   "metadata": {}
  },
  {
   "cell_type": "code",
   "execution_count": 20,
   "source": [
    "sk_data[\"id\"] = sk_data[\"id\"].str.replace(\"[^0-9]\",\"\")\n",
    "\n",
    "sk_data.head()"
   ],
   "outputs": [
    {
     "output_type": "stream",
     "name": "stderr",
     "text": [
      "<ipython-input-20-8c58e4c007a4>:1: FutureWarning: The default value of regex will change from True to False in a future version.\n",
      "  sk_data[\"id\"] = sk_data[\"id\"].str.replace(\"[^0-9]\",\"\")\n"
     ]
    },
    {
     "output_type": "execute_result",
     "data": {
      "text/html": [
       "<div>\n",
       "<style scoped>\n",
       "    .dataframe tbody tr th:only-of-type {\n",
       "        vertical-align: middle;\n",
       "    }\n",
       "\n",
       "    .dataframe tbody tr th {\n",
       "        vertical-align: top;\n",
       "    }\n",
       "\n",
       "    .dataframe thead th {\n",
       "        text-align: right;\n",
       "    }\n",
       "</style>\n",
       "<table border=\"1\" class=\"dataframe\">\n",
       "  <thead>\n",
       "    <tr style=\"text-align: right;\">\n",
       "      <th></th>\n",
       "      <th>contents</th>\n",
       "      <th>id</th>\n",
       "    </tr>\n",
       "  </thead>\n",
       "  <tbody>\n",
       "    <tr>\n",
       "      <th>0</th>\n",
       "      <td>처음 대학교 들어가는데 입을 옷 코디해주세요 신입생 코디에 어울리게 화사한 스웨터를...</td>\n",
       "      <td>053</td>\n",
       "    </tr>\n",
       "    <tr>\n",
       "      <th>1</th>\n",
       "      <td>처음 대학교 들어가는데 입을 옷 코디해주세요 신입생 코디에 어울리게 화사한 스웨터를...</td>\n",
       "      <td>053</td>\n",
       "    </tr>\n",
       "    <tr>\n",
       "      <th>2</th>\n",
       "      <td>데이트 갈 건데 코디부탁합니다 화사한 꽃무늬 블라우스가 돋보이는 코디입니다 마음에 ...</td>\n",
       "      <td>082</td>\n",
       "    </tr>\n",
       "    <tr>\n",
       "      <th>3</th>\n",
       "      <td>추석에 할머니댁 가는데 깔끔한 옷 추천해주세요 가을 분위기를 내는 아우터에 포멀한 ...</td>\n",
       "      <td>061</td>\n",
       "    </tr>\n",
       "    <tr>\n",
       "      <th>4</th>\n",
       "      <td>카페에 알바를 가려고 하는데 면접 복장을 추천해주세요 여름 옷으로 보여주세요 네 그...</td>\n",
       "      <td>048</td>\n",
       "    </tr>\n",
       "  </tbody>\n",
       "</table>\n",
       "</div>"
      ],
      "text/plain": [
       "                                            contents   id\n",
       "0  처음 대학교 들어가는데 입을 옷 코디해주세요 신입생 코디에 어울리게 화사한 스웨터를...  053\n",
       "1  처음 대학교 들어가는데 입을 옷 코디해주세요 신입생 코디에 어울리게 화사한 스웨터를...  053\n",
       "2  데이트 갈 건데 코디부탁합니다 화사한 꽃무늬 블라우스가 돋보이는 코디입니다 마음에 ...  082\n",
       "3  추석에 할머니댁 가는데 깔끔한 옷 추천해주세요 가을 분위기를 내는 아우터에 포멀한 ...  061\n",
       "4  카페에 알바를 가려고 하는데 면접 복장을 추천해주세요 여름 옷으로 보여주세요 네 그...  048"
      ]
     },
     "metadata": {},
     "execution_count": 20
    }
   ],
   "metadata": {}
  },
  {
   "cell_type": "code",
   "execution_count": 21,
   "source": [
    "from collections import Counter\n",
    "temp = sk_data[\"id\"].tolist()\n",
    "type_count = dict(Counter(temp))\n",
    "type_count"
   ],
   "outputs": [
    {
     "output_type": "execute_result",
     "data": {
      "text/plain": [
       "{'053': 26,\n",
       " '082': 28,\n",
       " '061': 8,\n",
       " '048': 25,\n",
       " '055': 13,\n",
       " '014': 10,\n",
       " '034': 31,\n",
       " '027': 9,\n",
       " '100': 3,\n",
       " '062': 20,\n",
       " '072': 16,\n",
       " '043': 38,\n",
       " '091': 5,\n",
       " '099': 21,\n",
       " '081': 3,\n",
       " '073': 13,\n",
       " '085': 140,\n",
       " '092': 21,\n",
       " '087': 7,\n",
       " '023': 13,\n",
       " '080': 17,\n",
       " '059': 23,\n",
       " '095': 8,\n",
       " '069': 28,\n",
       " '002': 18,\n",
       " '010': 38,\n",
       " '012': 10,\n",
       " '001': 30,\n",
       " '063': 10,\n",
       " '044': 17,\n",
       " '084': 52,\n",
       " '052': 13,\n",
       " '047': 22,\n",
       " '035': 12,\n",
       " '097': 10,\n",
       " '086': 7,\n",
       " '060': 10,\n",
       " '009': 47,\n",
       " '096': 17,\n",
       " '016': 8,\n",
       " '078': 13,\n",
       " '041': 53,\n",
       " '089': 10,\n",
       " '049': 13,\n",
       " '031': 20,\n",
       " '064': 16,\n",
       " '051': 20,\n",
       " '037': 13,\n",
       " '021': 12,\n",
       " '065': 20,\n",
       " '033': 15,\n",
       " '005': 12,\n",
       " '019': 12,\n",
       " '032': 26,\n",
       " '071': 9,\n",
       " '026': 16,\n",
       " '046': 8,\n",
       " '090': 7,\n",
       " '056': 11,\n",
       " '020': 38,\n",
       " '075': 2,\n",
       " '068': 15,\n",
       " '015': 3,\n",
       " '006': 18,\n",
       " '076': 4,\n",
       " '070': 8,\n",
       " '067': 18,\n",
       " '058': 18,\n",
       " '088': 8,\n",
       " '093': 5,\n",
       " '066': 6,\n",
       " '074': 8,\n",
       " '038': 36,\n",
       " '042': 8,\n",
       " '018': 4,\n",
       " '098': 4,\n",
       " '045': 14,\n",
       " '083': 27,\n",
       " '003': 13,\n",
       " '040': 4,\n",
       " '022': 7,\n",
       " '039': 18,\n",
       " '057': 8,\n",
       " '024': 2,\n",
       " '004': 8,\n",
       " '011': 18,\n",
       " '007': 15,\n",
       " '054': 10,\n",
       " '029': 8,\n",
       " '025': 4,\n",
       " '017': 2,\n",
       " '013': 4,\n",
       " '106': 14,\n",
       " '195': 8,\n",
       " '174': 8,\n",
       " '194': 13,\n",
       " '110': 14,\n",
       " '114': 15,\n",
       " '130': 6,\n",
       " '136': 4,\n",
       " '145': 9,\n",
       " '131': 41,\n",
       " '144': 11,\n",
       " '156': 18,\n",
       " '165': 19,\n",
       " '157': 16,\n",
       " '159': 13,\n",
       " '137': 27,\n",
       " '120': 9,\n",
       " '179': 17,\n",
       " '128': 21,\n",
       " '185': 4,\n",
       " '141': 9,\n",
       " '050': 1,\n",
       " '127': 18,\n",
       " '153': 1,\n",
       " '133': 4,\n",
       " '121': 10,\n",
       " '116': 9,\n",
       " '197': 5,\n",
       " '173': 8,\n",
       " '161': 2,\n",
       " '149': 5,\n",
       " '129': 15,\n",
       " '102': 9,\n",
       " '139': 8,\n",
       " '155': 15,\n",
       " '115': 14,\n",
       " '138': 11,\n",
       " '112': 25,\n",
       " '175': 8,\n",
       " '140': 4,\n",
       " '101': 8,\n",
       " '104': 6,\n",
       " '109': 10,\n",
       " '169': 3,\n",
       " '135': 5,\n",
       " '168': 4,\n",
       " '094': 3,\n",
       " '008': 9,\n",
       " '188': 1,\n",
       " '142': 1,\n",
       " '166': 3,\n",
       " '187': 3,\n",
       " '118': 19,\n",
       " '184': 8,\n",
       " '122': 7,\n",
       " '113': 7,\n",
       " '132': 8,\n",
       " '036': 3,\n",
       " '192': 7,\n",
       " '030': 6,\n",
       " '177': 5,\n",
       " '170': 1,\n",
       " '152': 10,\n",
       " '143': 2,\n",
       " '105': 8,\n",
       " '146': 10,\n",
       " '124': 6,\n",
       " '160': 4,\n",
       " '196': 6,\n",
       " '154': 9,\n",
       " '164': 11,\n",
       " '151': 2,\n",
       " '111': 7,\n",
       " '162': 4,\n",
       " '134': 2,\n",
       " '198': 6,\n",
       " '180': 8,\n",
       " '079': 2,\n",
       " '103': 3,\n",
       " '123': 2,\n",
       " '209': 13,\n",
       " '208': 5,\n",
       " '172': 4,\n",
       " '221': 8,\n",
       " '230': 2,\n",
       " '223': 10,\n",
       " '227': 6,\n",
       " '217': 13,\n",
       " '150': 2,\n",
       " '212': 5,\n",
       " '219': 9,\n",
       " '202': 10,\n",
       " '226': 12,\n",
       " '148': 5,\n",
       " '213': 18,\n",
       " '214': 5,\n",
       " '167': 4,\n",
       " '201': 5,\n",
       " '222': 9,\n",
       " '224': 7,\n",
       " '077': 3,\n",
       " '178': 5,\n",
       " '210': 7,\n",
       " '216': 3,\n",
       " '206': 14,\n",
       " '229': 1,\n",
       " '225': 5,\n",
       " '199': 9,\n",
       " '204': 4,\n",
       " '203': 9,\n",
       " '228': 3,\n",
       " '220': 3,\n",
       " '215': 7,\n",
       " '211': 5,\n",
       " '147': 4,\n",
       " '193': 1,\n",
       " '182': 1,\n",
       " '183': 2,\n",
       " '158': 2,\n",
       " '207': 5,\n",
       " '200': 2,\n",
       " '218': 9,\n",
       " '190': 3,\n",
       " '176': 4,\n",
       " '186': 6,\n",
       " '117': 2,\n",
       " '108': 4,\n",
       " '107': 3,\n",
       " '205': 4,\n",
       " '189': 2,\n",
       " '191': 1}"
      ]
     },
     "metadata": {},
     "execution_count": 21
    }
   ],
   "metadata": {}
  },
  {
   "cell_type": "code",
   "execution_count": 22,
   "source": [
    "len(type_count)"
   ],
   "outputs": [
    {
     "output_type": "execute_result",
     "data": {
      "text/plain": [
       "223"
      ]
     },
     "metadata": {},
     "execution_count": 22
    }
   ],
   "metadata": {}
  },
  {
   "cell_type": "code",
   "execution_count": 23,
   "source": [
    "del_list = []\n",
    "for i in type_count.keys():\n",
    "    if type_count.get(i) == 1:\n",
    "        del_list.append(i)\n",
    "del_list"
   ],
   "outputs": [
    {
     "output_type": "execute_result",
     "data": {
      "text/plain": [
       "['050', '153', '188', '142', '170', '229', '193', '182', '191']"
      ]
     },
     "metadata": {},
     "execution_count": 23
    }
   ],
   "metadata": {}
  },
  {
   "cell_type": "code",
   "execution_count": 24,
   "source": [
    "sk_data.head()"
   ],
   "outputs": [
    {
     "output_type": "execute_result",
     "data": {
      "text/html": [
       "<div>\n",
       "<style scoped>\n",
       "    .dataframe tbody tr th:only-of-type {\n",
       "        vertical-align: middle;\n",
       "    }\n",
       "\n",
       "    .dataframe tbody tr th {\n",
       "        vertical-align: top;\n",
       "    }\n",
       "\n",
       "    .dataframe thead th {\n",
       "        text-align: right;\n",
       "    }\n",
       "</style>\n",
       "<table border=\"1\" class=\"dataframe\">\n",
       "  <thead>\n",
       "    <tr style=\"text-align: right;\">\n",
       "      <th></th>\n",
       "      <th>contents</th>\n",
       "      <th>id</th>\n",
       "    </tr>\n",
       "  </thead>\n",
       "  <tbody>\n",
       "    <tr>\n",
       "      <th>0</th>\n",
       "      <td>처음 대학교 들어가는데 입을 옷 코디해주세요 신입생 코디에 어울리게 화사한 스웨터를...</td>\n",
       "      <td>053</td>\n",
       "    </tr>\n",
       "    <tr>\n",
       "      <th>1</th>\n",
       "      <td>처음 대학교 들어가는데 입을 옷 코디해주세요 신입생 코디에 어울리게 화사한 스웨터를...</td>\n",
       "      <td>053</td>\n",
       "    </tr>\n",
       "    <tr>\n",
       "      <th>2</th>\n",
       "      <td>데이트 갈 건데 코디부탁합니다 화사한 꽃무늬 블라우스가 돋보이는 코디입니다 마음에 ...</td>\n",
       "      <td>082</td>\n",
       "    </tr>\n",
       "    <tr>\n",
       "      <th>3</th>\n",
       "      <td>추석에 할머니댁 가는데 깔끔한 옷 추천해주세요 가을 분위기를 내는 아우터에 포멀한 ...</td>\n",
       "      <td>061</td>\n",
       "    </tr>\n",
       "    <tr>\n",
       "      <th>4</th>\n",
       "      <td>카페에 알바를 가려고 하는데 면접 복장을 추천해주세요 여름 옷으로 보여주세요 네 그...</td>\n",
       "      <td>048</td>\n",
       "    </tr>\n",
       "  </tbody>\n",
       "</table>\n",
       "</div>"
      ],
      "text/plain": [
       "                                            contents   id\n",
       "0  처음 대학교 들어가는데 입을 옷 코디해주세요 신입생 코디에 어울리게 화사한 스웨터를...  053\n",
       "1  처음 대학교 들어가는데 입을 옷 코디해주세요 신입생 코디에 어울리게 화사한 스웨터를...  053\n",
       "2  데이트 갈 건데 코디부탁합니다 화사한 꽃무늬 블라우스가 돋보이는 코디입니다 마음에 ...  082\n",
       "3  추석에 할머니댁 가는데 깔끔한 옷 추천해주세요 가을 분위기를 내는 아우터에 포멀한 ...  061\n",
       "4  카페에 알바를 가려고 하는데 면접 복장을 추천해주세요 여름 옷으로 보여주세요 네 그...  048"
      ]
     },
     "metadata": {},
     "execution_count": 24
    }
   ],
   "metadata": {}
  },
  {
   "cell_type": "code",
   "execution_count": 25,
   "source": [
    "for i in del_list:\n",
    "    sk_data = sk_data[sk_data[\"id\"] != i]"
   ],
   "outputs": [],
   "metadata": {}
  },
  {
   "cell_type": "code",
   "execution_count": 26,
   "source": [
    "len(sk_data)"
   ],
   "outputs": [
    {
     "output_type": "execute_result",
     "data": {
      "text/plain": [
       "2491"
      ]
     },
     "metadata": {},
     "execution_count": 26
    }
   ],
   "metadata": {}
  },
  {
   "cell_type": "code",
   "execution_count": 27,
   "source": [
    "sk_data.reset_index(drop=True, inplace=True)"
   ],
   "outputs": [],
   "metadata": {}
  },
  {
   "cell_type": "code",
   "execution_count": 28,
   "source": [
    "import matplotlib.pyplot as plt\n",
    "plt.bar(Counter(sk_data.id).keys(),Counter(sk_data.id).values(), color='k')"
   ],
   "outputs": [
    {
     "output_type": "execute_result",
     "data": {
      "text/plain": [
       "<BarContainer object of 214 artists>"
      ]
     },
     "metadata": {},
     "execution_count": 28
    }
   ],
   "metadata": {}
  },
  {
   "cell_type": "markdown",
   "source": [
    "# 5. 형태소 분석"
   ],
   "metadata": {}
  },
  {
   "cell_type": "markdown",
   "source": [
    "## Mecab 사용"
   ],
   "metadata": {}
  },
  {
   "cell_type": "code",
   "execution_count": 30,
   "source": [
    "from konlpy.tag import Mecab\n",
    "mecab = Mecab()"
   ],
   "outputs": [],
   "metadata": {}
  },
  {
   "cell_type": "code",
   "execution_count": 31,
   "source": [
    "mecab.morphs(sk_data[\"contents\"][0])"
   ],
   "outputs": [
    {
     "output_type": "execute_result",
     "data": {
      "text/plain": [
       "['처음',\n",
       " '대학교',\n",
       " '들어가',\n",
       " '는',\n",
       " '데',\n",
       " '입',\n",
       " '을',\n",
       " '옷',\n",
       " '코디',\n",
       " '해',\n",
       " '주',\n",
       " '세요',\n",
       " '신입',\n",
       " '생',\n",
       " '코디',\n",
       " '에',\n",
       " '어울리',\n",
       " '게',\n",
       " '화사',\n",
       " '한',\n",
       " '스웨터',\n",
       " '를',\n",
       " '추천',\n",
       " '해',\n",
       " '드릴게요',\n",
       " 'SW',\n",
       " '009',\n",
       " '이',\n",
       " '옷',\n",
       " '에',\n",
       " '어울리',\n",
       " '는',\n",
       " '치마',\n",
       " '로',\n",
       " '추천',\n",
       " '해',\n",
       " '주',\n",
       " '세요',\n",
       " '고객',\n",
       " '님',\n",
       " '의',\n",
       " '키',\n",
       " '사이즈',\n",
       " '에',\n",
       " '맞추',\n",
       " '면',\n",
       " '이런',\n",
       " '옷',\n",
       " '도',\n",
       " '잘',\n",
       " '어울리',\n",
       " '실',\n",
       " '것',\n",
       " '같',\n",
       " '은',\n",
       " '데',\n",
       " '어떠신가요',\n",
       " 'SK',\n",
       " '016',\n",
       " '제',\n",
       " '가',\n",
       " '키',\n",
       " '가',\n",
       " '작',\n",
       " '아서',\n",
       " '짧',\n",
       " '은',\n",
       " '치마',\n",
       " '로',\n",
       " '추천',\n",
       " '해',\n",
       " '주',\n",
       " '세요',\n",
       " '상',\n",
       " '의',\n",
       " '색상',\n",
       " '과',\n",
       " '도',\n",
       " '매칭',\n",
       " '이',\n",
       " '잘',\n",
       " '어울리',\n",
       " '는',\n",
       " '짧',\n",
       " '은',\n",
       " '치마',\n",
       " '입니다',\n",
       " 'SK',\n",
       " '052',\n",
       " '어두운',\n",
       " '계열',\n",
       " '은',\n",
       " '없',\n",
       " '나요',\n",
       " '언밸런스',\n",
       " '한',\n",
       " '컷팅',\n",
       " '으로',\n",
       " '세련미',\n",
       " '를',\n",
       " '돋보이',\n",
       " '게',\n",
       " '하',\n",
       " '는',\n",
       " '치마',\n",
       " '인데',\n",
       " '마음',\n",
       " '에',\n",
       " '드',\n",
       " '시',\n",
       " '나요',\n",
       " 'SK',\n",
       " '053',\n",
       " '나쁘',\n",
       " '지',\n",
       " '않',\n",
       " '네요',\n",
       " '외투',\n",
       " '도',\n",
       " '추천',\n",
       " '해',\n",
       " '주',\n",
       " '시',\n",
       " '겠',\n",
       " '어요',\n",
       " '오른쪽',\n",
       " '허벅지',\n",
       " '중간',\n",
       " '에서',\n",
       " '왼쪽',\n",
       " '무릎',\n",
       " '위',\n",
       " '사선',\n",
       " '으로',\n",
       " '내려오',\n",
       " '는',\n",
       " '길',\n",
       " '이',\n",
       " '폭',\n",
       " '좁',\n",
       " '은',\n",
       " 'A',\n",
       " '라인',\n",
       " '실루엣',\n",
       " '허벅지',\n",
       " '위쪽',\n",
       " '에서',\n",
       " '절개',\n",
       " '되',\n",
       " '어',\n",
       " '밑단',\n",
       " '좌우',\n",
       " '양쪽',\n",
       " '플리츠',\n",
       " '주름',\n",
       " '있',\n",
       " '음',\n",
       " '허리',\n",
       " '왼쪽',\n",
       " '지퍼',\n",
       " '여',\n",
       " '밈',\n",
       " '오른쪽',\n",
       " '에서',\n",
       " '왼쪽',\n",
       " '으로',\n",
       " '길',\n",
       " '어',\n",
       " '지',\n",
       " '는',\n",
       " '언밸런스',\n",
       " '한',\n",
       " '밑단',\n",
       " '앞',\n",
       " '뒤',\n",
       " '면',\n",
       " '허리',\n",
       " '라인',\n",
       " '양쪽',\n",
       " '에',\n",
       " '다트',\n",
       " '폴리에스테르',\n",
       " '97',\n",
       " '스판덱스',\n",
       " '3',\n",
       " '차갑',\n",
       " '고',\n",
       " '매끈',\n",
       " '함',\n",
       " '신축성',\n",
       " '없',\n",
       " '음',\n",
       " '두께',\n",
       " '감',\n",
       " '보통',\n",
       " '비침',\n",
       " '없',\n",
       " '음',\n",
       " '손세탁',\n",
       " '미온수',\n",
       " '세탁',\n",
       " '산소',\n",
       " '표백',\n",
       " '가능',\n",
       " '블랙',\n",
       " '감각',\n",
       " '적',\n",
       " '인',\n",
       " '하객',\n",
       " '룩',\n",
       " '오피스',\n",
       " '룩',\n",
       " '깔끔',\n",
       " '한']"
      ]
     },
     "metadata": {},
     "execution_count": 31
    }
   ],
   "metadata": {}
  },
  {
   "cell_type": "code",
   "execution_count": 32,
   "source": [
    "len(sk_data)"
   ],
   "outputs": [
    {
     "output_type": "execute_result",
     "data": {
      "text/plain": [
       "2491"
      ]
     },
     "metadata": {},
     "execution_count": 32
    }
   ],
   "metadata": {}
  },
  {
   "cell_type": "code",
   "execution_count": 33,
   "source": [
    "x_data = []\n",
    "for i in range(len(sk_data)):\n",
    "    x_data.append(mecab.morphs(sk_data[\"contents\"][i]))\n",
    "\n",
    "x_data[0]"
   ],
   "outputs": [
    {
     "output_type": "execute_result",
     "data": {
      "text/plain": [
       "['처음',\n",
       " '대학교',\n",
       " '들어가',\n",
       " '는',\n",
       " '데',\n",
       " '입',\n",
       " '을',\n",
       " '옷',\n",
       " '코디',\n",
       " '해',\n",
       " '주',\n",
       " '세요',\n",
       " '신입',\n",
       " '생',\n",
       " '코디',\n",
       " '에',\n",
       " '어울리',\n",
       " '게',\n",
       " '화사',\n",
       " '한',\n",
       " '스웨터',\n",
       " '를',\n",
       " '추천',\n",
       " '해',\n",
       " '드릴게요',\n",
       " 'SW',\n",
       " '009',\n",
       " '이',\n",
       " '옷',\n",
       " '에',\n",
       " '어울리',\n",
       " '는',\n",
       " '치마',\n",
       " '로',\n",
       " '추천',\n",
       " '해',\n",
       " '주',\n",
       " '세요',\n",
       " '고객',\n",
       " '님',\n",
       " '의',\n",
       " '키',\n",
       " '사이즈',\n",
       " '에',\n",
       " '맞추',\n",
       " '면',\n",
       " '이런',\n",
       " '옷',\n",
       " '도',\n",
       " '잘',\n",
       " '어울리',\n",
       " '실',\n",
       " '것',\n",
       " '같',\n",
       " '은',\n",
       " '데',\n",
       " '어떠신가요',\n",
       " 'SK',\n",
       " '016',\n",
       " '제',\n",
       " '가',\n",
       " '키',\n",
       " '가',\n",
       " '작',\n",
       " '아서',\n",
       " '짧',\n",
       " '은',\n",
       " '치마',\n",
       " '로',\n",
       " '추천',\n",
       " '해',\n",
       " '주',\n",
       " '세요',\n",
       " '상',\n",
       " '의',\n",
       " '색상',\n",
       " '과',\n",
       " '도',\n",
       " '매칭',\n",
       " '이',\n",
       " '잘',\n",
       " '어울리',\n",
       " '는',\n",
       " '짧',\n",
       " '은',\n",
       " '치마',\n",
       " '입니다',\n",
       " 'SK',\n",
       " '052',\n",
       " '어두운',\n",
       " '계열',\n",
       " '은',\n",
       " '없',\n",
       " '나요',\n",
       " '언밸런스',\n",
       " '한',\n",
       " '컷팅',\n",
       " '으로',\n",
       " '세련미',\n",
       " '를',\n",
       " '돋보이',\n",
       " '게',\n",
       " '하',\n",
       " '는',\n",
       " '치마',\n",
       " '인데',\n",
       " '마음',\n",
       " '에',\n",
       " '드',\n",
       " '시',\n",
       " '나요',\n",
       " 'SK',\n",
       " '053',\n",
       " '나쁘',\n",
       " '지',\n",
       " '않',\n",
       " '네요',\n",
       " '외투',\n",
       " '도',\n",
       " '추천',\n",
       " '해',\n",
       " '주',\n",
       " '시',\n",
       " '겠',\n",
       " '어요',\n",
       " '오른쪽',\n",
       " '허벅지',\n",
       " '중간',\n",
       " '에서',\n",
       " '왼쪽',\n",
       " '무릎',\n",
       " '위',\n",
       " '사선',\n",
       " '으로',\n",
       " '내려오',\n",
       " '는',\n",
       " '길',\n",
       " '이',\n",
       " '폭',\n",
       " '좁',\n",
       " '은',\n",
       " 'A',\n",
       " '라인',\n",
       " '실루엣',\n",
       " '허벅지',\n",
       " '위쪽',\n",
       " '에서',\n",
       " '절개',\n",
       " '되',\n",
       " '어',\n",
       " '밑단',\n",
       " '좌우',\n",
       " '양쪽',\n",
       " '플리츠',\n",
       " '주름',\n",
       " '있',\n",
       " '음',\n",
       " '허리',\n",
       " '왼쪽',\n",
       " '지퍼',\n",
       " '여',\n",
       " '밈',\n",
       " '오른쪽',\n",
       " '에서',\n",
       " '왼쪽',\n",
       " '으로',\n",
       " '길',\n",
       " '어',\n",
       " '지',\n",
       " '는',\n",
       " '언밸런스',\n",
       " '한',\n",
       " '밑단',\n",
       " '앞',\n",
       " '뒤',\n",
       " '면',\n",
       " '허리',\n",
       " '라인',\n",
       " '양쪽',\n",
       " '에',\n",
       " '다트',\n",
       " '폴리에스테르',\n",
       " '97',\n",
       " '스판덱스',\n",
       " '3',\n",
       " '차갑',\n",
       " '고',\n",
       " '매끈',\n",
       " '함',\n",
       " '신축성',\n",
       " '없',\n",
       " '음',\n",
       " '두께',\n",
       " '감',\n",
       " '보통',\n",
       " '비침',\n",
       " '없',\n",
       " '음',\n",
       " '손세탁',\n",
       " '미온수',\n",
       " '세탁',\n",
       " '산소',\n",
       " '표백',\n",
       " '가능',\n",
       " '블랙',\n",
       " '감각',\n",
       " '적',\n",
       " '인',\n",
       " '하객',\n",
       " '룩',\n",
       " '오피스',\n",
       " '룩',\n",
       " '깔끔',\n",
       " '한']"
      ]
     },
     "metadata": {},
     "execution_count": 33
    }
   ],
   "metadata": {}
  },
  {
   "cell_type": "code",
   "execution_count": 34,
   "source": [
    "stopwords = []\n",
    "with open('./data/불용어사전.txt', mode='rt', encoding='utf-8') as f:\n",
    "    for word in f.readlines():\n",
    "        word = word.strip()\n",
    "        stopwords.append(word)\n",
    "stopwords[0:2]"
   ],
   "outputs": [
    {
     "output_type": "execute_result",
     "data": {
      "text/plain": [
       "['어찌됐든', '그위에']"
      ]
     },
     "metadata": {},
     "execution_count": 34
    }
   ],
   "metadata": {}
  },
  {
   "cell_type": "code",
   "execution_count": 35,
   "source": [
    "X_data = []\n",
    "for sentence in x_data: #문장 하나 가져오고 단어 단위로 쪼개기\n",
    "    temp_X = [word for word in sentence if not word in stopwords] # 불용어 제거\n",
    "    X_data.append(temp_X)\n",
    "X_data[0]"
   ],
   "outputs": [
    {
     "output_type": "execute_result",
     "data": {
      "text/plain": [
       "['처음',\n",
       " '대학교',\n",
       " '들어가',\n",
       " '데',\n",
       " '입',\n",
       " '옷',\n",
       " '코디',\n",
       " '주',\n",
       " '세요',\n",
       " '신입',\n",
       " '생',\n",
       " '코디',\n",
       " '어울리',\n",
       " '게',\n",
       " '화사',\n",
       " '스웨터',\n",
       " '추천',\n",
       " '드릴게요',\n",
       " 'SW',\n",
       " '009',\n",
       " '옷',\n",
       " '어울리',\n",
       " '치마',\n",
       " '추천',\n",
       " '주',\n",
       " '세요',\n",
       " '고객',\n",
       " '님',\n",
       " '키',\n",
       " '사이즈',\n",
       " '맞추',\n",
       " '면',\n",
       " '옷',\n",
       " '도',\n",
       " '잘',\n",
       " '어울리',\n",
       " '실',\n",
       " '같',\n",
       " '데',\n",
       " '어떠신가요',\n",
       " 'SK',\n",
       " '016',\n",
       " '키',\n",
       " '작',\n",
       " '아서',\n",
       " '짧',\n",
       " '치마',\n",
       " '추천',\n",
       " '주',\n",
       " '세요',\n",
       " '상',\n",
       " '색상',\n",
       " '도',\n",
       " '매칭',\n",
       " '잘',\n",
       " '어울리',\n",
       " '짧',\n",
       " '치마',\n",
       " '입니다',\n",
       " 'SK',\n",
       " '052',\n",
       " '어두운',\n",
       " '계열',\n",
       " '나요',\n",
       " '언밸런스',\n",
       " '컷팅',\n",
       " '세련미',\n",
       " '돋보이',\n",
       " '게',\n",
       " '치마',\n",
       " '인데',\n",
       " '마음',\n",
       " '시',\n",
       " '나요',\n",
       " 'SK',\n",
       " '053',\n",
       " '나쁘',\n",
       " '지',\n",
       " '않',\n",
       " '네요',\n",
       " '외투',\n",
       " '도',\n",
       " '추천',\n",
       " '주',\n",
       " '시',\n",
       " '겠',\n",
       " '어요',\n",
       " '오른쪽',\n",
       " '허벅지',\n",
       " '중간',\n",
       " '왼쪽',\n",
       " '무릎',\n",
       " '위',\n",
       " '사선',\n",
       " '내려오',\n",
       " '길',\n",
       " '폭',\n",
       " '좁',\n",
       " 'A',\n",
       " '라인',\n",
       " '실루엣',\n",
       " '허벅지',\n",
       " '위쪽',\n",
       " '절개',\n",
       " '되',\n",
       " '밑단',\n",
       " '좌우',\n",
       " '양쪽',\n",
       " '플리츠',\n",
       " '주름',\n",
       " '있',\n",
       " '허리',\n",
       " '왼쪽',\n",
       " '지퍼',\n",
       " '밈',\n",
       " '오른쪽',\n",
       " '왼쪽',\n",
       " '길',\n",
       " '지',\n",
       " '언밸런스',\n",
       " '밑단',\n",
       " '앞',\n",
       " '뒤',\n",
       " '면',\n",
       " '허리',\n",
       " '라인',\n",
       " '양쪽',\n",
       " '다트',\n",
       " '폴리에스테르',\n",
       " '97',\n",
       " '스판덱스',\n",
       " '3',\n",
       " '차갑',\n",
       " '고',\n",
       " '매끈',\n",
       " '함',\n",
       " '신축성',\n",
       " '두께',\n",
       " '감',\n",
       " '보통',\n",
       " '비침',\n",
       " '손세탁',\n",
       " '미온수',\n",
       " '세탁',\n",
       " '산소',\n",
       " '표백',\n",
       " '가능',\n",
       " '블랙',\n",
       " '감각',\n",
       " '적',\n",
       " '인',\n",
       " '하객',\n",
       " '룩',\n",
       " '오피스',\n",
       " '룩',\n",
       " '깔끔']"
      ]
     },
     "metadata": {},
     "execution_count": 35
    }
   ],
   "metadata": {}
  },
  {
   "cell_type": "markdown",
   "source": [
    "## 1. 임베딩 레이어 활용"
   ],
   "metadata": {}
  },
  {
   "cell_type": "markdown",
   "source": [
    "### 정수 인코딩"
   ],
   "metadata": {}
  },
  {
   "cell_type": "code",
   "execution_count": 36,
   "source": [
    "from tensorflow.keras.preprocessing.text import Tokenizer\n",
    "tokenizer = Tokenizer()\n",
    "tokenizer.fit_on_texts(X_data)"
   ],
   "outputs": [],
   "metadata": {}
  },
  {
   "cell_type": "code",
   "execution_count": 37,
   "source": [
    "threshold = 6\n",
    "total_cnt = len(tokenizer.word_index) # 단어의 수\n",
    "rare_cnt = 0 # 등장 빈도수가 threshold보다 작은 단어의 개수를 카운트\n",
    "total_freq = 0 # 훈련 데이터의 전체 단어 빈도수 총 합\n",
    "rare_freq = 0 # 등장 빈도수가 threshold보다 작은 단어의 등장 빈도수의 총 합\n",
    "\n",
    "# 단어와 빈도수의 쌍(pair)을 key와 value로 받는다.\n",
    "for key, value in tokenizer.word_counts.items():\n",
    "    total_freq = total_freq + value\n",
    "\n",
    "    # 단어의 등장 빈도수가 threshold보다 작으면\n",
    "    if(value < threshold):\n",
    "        rare_cnt = rare_cnt + 1\n",
    "        rare_freq = rare_freq + value\n",
    "\n",
    "print('단어 집합(vocabulary)의 크기 :',total_cnt)\n",
    "print('등장 빈도가 %s번 이하인 희귀 단어의 수: %s'%(threshold - 1, rare_cnt))\n",
    "print(\"단어 집합에서 희귀 단어의 비율:\", (rare_cnt / total_cnt)*100)\n",
    "print(\"전체 등장 빈도에서 희귀 단어 등장 빈도 비율:\", (rare_freq / total_freq)*100)"
   ],
   "outputs": [
    {
     "output_type": "stream",
     "name": "stdout",
     "text": [
      "단어 집합(vocabulary)의 크기 : 3835\n",
      "등장 빈도가 5번 이하인 희귀 단어의 수: 1623\n",
      "단어 집합에서 희귀 단어의 비율: 42.32073011734029\n",
      "전체 등장 빈도에서 희귀 단어 등장 빈도 비율: 0.8975760207213546\n"
     ]
    }
   ],
   "metadata": {}
  },
  {
   "cell_type": "code",
   "execution_count": 38,
   "source": [
    "vocab_size = total_cnt - rare_cnt + 1 # tokenizer 함수에 들어 갈 때 영향줘서 1 추가 해야 됨\n",
    "print('단어 집합의 크기 :',vocab_size)"
   ],
   "outputs": [
    {
     "output_type": "stream",
     "name": "stdout",
     "text": [
      "단어 집합의 크기 : 2213\n"
     ]
    }
   ],
   "metadata": {}
  },
  {
   "cell_type": "markdown",
   "source": [
    "케라스 토크나이저의 정수 인코딩은 인덱스가 1부터 시작하지만,\n",
    "\n",
    "케라스 원-핫 인코딩에서 배열의 인덱스가 0부터 시작하기 때문에\n",
    "\n",
    "배열의 크기를 실제 단어 집합의 크기보다 +1로 생성해야하므로 미리 +1 선언 "
   ],
   "metadata": {}
  },
  {
   "cell_type": "markdown",
   "source": [
    "### 맨 앞자리는 비어있어야 함 (원 핫 인코딩은 정수 인코딩한 뒤 나오는 정수 값 자리에 1을 넣는 것)"
   ],
   "metadata": {}
  },
  {
   "cell_type": "code",
   "execution_count": 39,
   "source": [
    "tokenizer = Tokenizer(num_words=vocab_size - 1)\n",
    "tokenizer.fit_on_texts(X_data)\n",
    "len(tokenizer.word_index)"
   ],
   "outputs": [
    {
     "output_type": "execute_result",
     "data": {
      "text/plain": [
       "3835"
      ]
     },
     "metadata": {},
     "execution_count": 39
    }
   ],
   "metadata": {}
  },
  {
   "cell_type": "code",
   "execution_count": 40,
   "source": [
    "X_data = tokenizer.texts_to_sequences(X_data) # 단어에 정수 붙여줄 때 num_word 적용"
   ],
   "outputs": [],
   "metadata": {}
  },
  {
   "cell_type": "markdown",
   "source": [
    "위에서 num_words는 이 데이터에서 등장 빈도 순위로 몇 번째에 해당하는 단어까지만 사용할 것인지 조절\n",
    "\n",
    "예를 들어서 100이란 값을 넣으면, 등장 빈도 순위가 1~100에 해당하는 단어만 사용"
   ],
   "metadata": {}
  },
  {
   "cell_type": "code",
   "execution_count": 41,
   "source": [
    "X_data[1]"
   ],
   "outputs": [
    {
     "output_type": "execute_result",
     "data": {
      "text/plain": [
       "[1633,\n",
       " 1634,\n",
       " 928,\n",
       " 281,\n",
       " 26,\n",
       " 50,\n",
       " 3,\n",
       " 1,\n",
       " 2,\n",
       " 2107,\n",
       " 3,\n",
       " 40,\n",
       " 66,\n",
       " 240,\n",
       " 302,\n",
       " 13,\n",
       " 469,\n",
       " 168,\n",
       " 343,\n",
       " 50,\n",
       " 40,\n",
       " 14,\n",
       " 13,\n",
       " 1,\n",
       " 2,\n",
       " 147,\n",
       " 137,\n",
       " 539,\n",
       " 680,\n",
       " 1735,\n",
       " 51,\n",
       " 50,\n",
       " 24,\n",
       " 80,\n",
       " 40,\n",
       " 374,\n",
       " 34,\n",
       " 281,\n",
       " 48,\n",
       " 8,\n",
       " 470,\n",
       " 539,\n",
       " 507,\n",
       " 434,\n",
       " 172,\n",
       " 14,\n",
       " 13,\n",
       " 1,\n",
       " 2,\n",
       " 330,\n",
       " 41,\n",
       " 24,\n",
       " 511,\n",
       " 80,\n",
       " 40,\n",
       " 172,\n",
       " 14,\n",
       " 16,\n",
       " 8,\n",
       " 811,\n",
       " 391,\n",
       " 435,\n",
       " 23,\n",
       " 340,\n",
       " 1544,\n",
       " 430,\n",
       " 66,\n",
       " 14,\n",
       " 459,\n",
       " 7,\n",
       " 20,\n",
       " 23,\n",
       " 8,\n",
       " 635,\n",
       " 1205,\n",
       " 94,\n",
       " 114,\n",
       " 37,\n",
       " 255,\n",
       " 24,\n",
       " 13,\n",
       " 1,\n",
       " 20,\n",
       " 30,\n",
       " 17,\n",
       " 522,\n",
       " 1863,\n",
       " 181,\n",
       " 350,\n",
       " 98,\n",
       " 1162,\n",
       " 77,\n",
       " 18,\n",
       " 367,\n",
       " 774,\n",
       " 309,\n",
       " 66,\n",
       " 5,\n",
       " 115,\n",
       " 84,\n",
       " 384,\n",
       " 774,\n",
       " 13,\n",
       " 1,\n",
       " 2,\n",
       " 1334,\n",
       " 41,\n",
       " 748,\n",
       " 66,\n",
       " 80,\n",
       " 202,\n",
       " 384,\n",
       " 16,\n",
       " 112,\n",
       " 596,\n",
       " 44,\n",
       " 24,\n",
       " 13,\n",
       " 1,\n",
       " 2,\n",
       " 1208,\n",
       " 140,\n",
       " 229,\n",
       " 453,\n",
       " 157,\n",
       " 20,\n",
       " 23,\n",
       " 762,\n",
       " 691,\n",
       " 13,\n",
       " 1,\n",
       " 2,\n",
       " 27,\n",
       " 24,\n",
       " 748,\n",
       " 66,\n",
       " 80,\n",
       " 40,\n",
       " 607,\n",
       " 70,\n",
       " 16,\n",
       " 22,\n",
       " 536,\n",
       " 415,\n",
       " 37,\n",
       " 52,\n",
       " 3,\n",
       " 1736,\n",
       " 1335,\n",
       " 101,\n",
       " 5,\n",
       " 23,\n",
       " 1113,\n",
       " 2108,\n",
       " 944,\n",
       " 70,\n",
       " 52,\n",
       " 3,\n",
       " 1736,\n",
       " 2108,\n",
       " 404,\n",
       " 7,\n",
       " 20,\n",
       " 23,\n",
       " 8,\n",
       " 635,\n",
       " 7,\n",
       " 37,\n",
       " 241,\n",
       " 189,\n",
       " 74,\n",
       " 108,\n",
       " 56,\n",
       " 49,\n",
       " 99,\n",
       " 272,\n",
       " 105,\n",
       " 21,\n",
       " 333,\n",
       " 381,\n",
       " 57,\n",
       " 19,\n",
       " 54,\n",
       " 74,\n",
       " 324,\n",
       " 228,\n",
       " 107,\n",
       " 93,\n",
       " 1206,\n",
       " 71,\n",
       " 252,\n",
       " 119,\n",
       " 5,\n",
       " 11,\n",
       " 56,\n",
       " 43,\n",
       " 47,\n",
       " 189,\n",
       " 56,\n",
       " 21,\n",
       " 94,\n",
       " 340,\n",
       " 93,\n",
       " 85,\n",
       " 193,\n",
       " 51,\n",
       " 11,\n",
       " 19,\n",
       " 71,\n",
       " 156,\n",
       " 109,\n",
       " 233,\n",
       " 239,\n",
       " 190,\n",
       " 1207,\n",
       " 12,\n",
       " 1112,\n",
       " 219,\n",
       " 29,\n",
       " 46,\n",
       " 33,\n",
       " 67,\n",
       " 25,\n",
       " 69,\n",
       " 288,\n",
       " 169,\n",
       " 398,\n",
       " 213,\n",
       " 164,\n",
       " 59,\n",
       " 1048,\n",
       " 88,\n",
       " 110,\n",
       " 194,\n",
       " 10,\n",
       " 100,\n",
       " 10,\n",
       " 42]"
      ]
     },
     "metadata": {},
     "execution_count": 41
    }
   ],
   "metadata": {}
  },
  {
   "cell_type": "code",
   "execution_count": 42,
   "source": [
    "print('문장 최대 길이 :',max(len(l) for l in X_data))\n",
    "print('문장의 평균 길이 :',sum(map(len, X_data))/len(X_data))\n",
    "plt.hist([len(s) for s in X_data], bins=50, color='k')\n",
    "plt.xlabel('length of samples')\n",
    "plt.ylabel('number of samples')\n",
    "plt.show()\n",
    "plt.close()"
   ],
   "outputs": [
    {
     "output_type": "stream",
     "name": "stdout",
     "text": [
      "문장 최대 길이 : 475\n",
      "문장의 평균 길이 : 159.43115214773184\n"
     ]
    },
    {
     "output_type": "display_data",
     "data": {
      "image/png": "[encoded data removed]",
      "text/plain": [
       "<Figure size 640x480 with 1 Axes>"
      ]
     },
     "metadata": {}
    }
   ],
   "metadata": {}
  },
  {
   "cell_type": "code",
   "execution_count": 43,
   "source": [
    "def below_threshold_len(max_len, nested_list):\n",
    "  cnt = 0\n",
    "  for s in nested_list:\n",
    "    if(len(s) <= max_len):\n",
    "        cnt = cnt + 1\n",
    "  print('전체 샘플 중 길이가 %s 이하인 샘플의 비율: %s'%(max_len, (cnt / len(nested_list))*100))\n",
    "\n",
    "max_len = 300\n",
    "below_threshold_len(max_len, X_data)"
   ],
   "outputs": [
    {
     "output_type": "stream",
     "name": "stdout",
     "text": [
      "전체 샘플 중 길이가 300 이하인 샘플의 비율: 99.63869931754316\n"
     ]
    }
   ],
   "metadata": {}
  },
  {
   "cell_type": "markdown",
   "source": [
    "## padding"
   ],
   "metadata": {}
  },
  {
   "cell_type": "code",
   "execution_count": 44,
   "source": [
    "from tensorflow.keras.preprocessing.sequence import pad_sequences\n",
    "X_data = pad_sequences(X_data, maxlen = max_len)"
   ],
   "outputs": [],
   "metadata": {}
  },
  {
   "cell_type": "code",
   "execution_count": 45,
   "source": [
    "print(len(X_data[1]))\n",
    "X_data[1]"
   ],
   "outputs": [
    {
     "output_type": "stream",
     "name": "stdout",
     "text": [
      "300\n"
     ]
    },
    {
     "output_type": "execute_result",
     "data": {
      "text/plain": [
       "array([   0,    0,    0,    0,    0,    0,    0,    0,    0,    0,    0,\n",
       "          0,    0,    0,    0,    0,    0,    0,    0,    0,    0,    0,\n",
       "          0,    0,    0,    0,    0,    0,    0,    0,    0,    0,    0,\n",
       "          0,    0,    0,    0,    0,    0,    0,    0,    0,    0,    0,\n",
       "          0,    0,    0,    0,    0,    0,    0,    0,    0,    0,    0,\n",
       "          0,    0,    0,    0,    0,    0,    0, 1633, 1634,  928,  281,\n",
       "         26,   50,    3,    1,    2, 2107,    3,   40,   66,  240,  302,\n",
       "         13,  469,  168,  343,   50,   40,   14,   13,    1,    2,  147,\n",
       "        137,  539,  680, 1735,   51,   50,   24,   80,   40,  374,   34,\n",
       "        281,   48,    8,  470,  539,  507,  434,  172,   14,   13,    1,\n",
       "          2,  330,   41,   24,  511,   80,   40,  172,   14,   16,    8,\n",
       "        811,  391,  435,   23,  340, 1544,  430,   66,   14,  459,    7,\n",
       "         20,   23,    8,  635, 1205,   94,  114,   37,  255,   24,   13,\n",
       "          1,   20,   30,   17,  522, 1863,  181,  350,   98, 1162,   77,\n",
       "         18,  367,  774,  309,   66,    5,  115,   84,  384,  774,   13,\n",
       "          1,    2, 1334,   41,  748,   66,   80,  202,  384,   16,  112,\n",
       "        596,   44,   24,   13,    1,    2, 1208,  140,  229,  453,  157,\n",
       "         20,   23,  762,  691,   13,    1,    2,   27,   24,  748,   66,\n",
       "         80,   40,  607,   70,   16,   22,  536,  415,   37,   52,    3,\n",
       "       1736, 1335,  101,    5,   23, 1113, 2108,  944,   70,   52,    3,\n",
       "       1736, 2108,  404,    7,   20,   23,    8,  635,    7,   37,  241,\n",
       "        189,   74,  108,   56,   49,   99,  272,  105,   21,  333,  381,\n",
       "         57,   19,   54,   74,  324,  228,  107,   93, 1206,   71,  252,\n",
       "        119,    5,   11,   56,   43,   47,  189,   56,   21,   94,  340,\n",
       "         93,   85,  193,   51,   11,   19,   71,  156,  109,  233,  239,\n",
       "        190, 1207,   12, 1112,  219,   29,   46,   33,   67,   25,   69,\n",
       "        288,  169,  398,  213,  164,   59, 1048,   88,  110,  194,   10,\n",
       "        100,   10,   42], dtype=int32)"
      ]
     },
     "metadata": {},
     "execution_count": 45
    }
   ],
   "metadata": {}
  },
  {
   "cell_type": "markdown",
   "source": [
    "# 6. LSTM 돌리기 "
   ],
   "metadata": {}
  },
  {
   "cell_type": "code",
   "execution_count": 46,
   "source": [
    "from tensorflow.keras.layers import Embedding, Dense, GRU\n",
    "from tensorflow.keras.models import Sequential\n",
    "from tensorflow.keras.models import load_model\n",
    "from tensorflow.keras.callbacks import EarlyStopping, ModelCheckpoint\n",
    "from sklearn.model_selection import train_test_split\n",
    "from tensorflow.keras.utils import to_categorical"
   ],
   "outputs": [],
   "metadata": {}
  },
  {
   "cell_type": "code",
   "execution_count": 47,
   "source": [
    "X = X_data\n",
    "y = sk_data.id.tolist()"
   ],
   "outputs": [],
   "metadata": {}
  },
  {
   "cell_type": "code",
   "execution_count": 48,
   "source": [
    "X[1]"
   ],
   "outputs": [
    {
     "output_type": "execute_result",
     "data": {
      "text/plain": [
       "array([   0,    0,    0,    0,    0,    0,    0,    0,    0,    0,    0,\n",
       "          0,    0,    0,    0,    0,    0,    0,    0,    0,    0,    0,\n",
       "          0,    0,    0,    0,    0,    0,    0,    0,    0,    0,    0,\n",
       "          0,    0,    0,    0,    0,    0,    0,    0,    0,    0,    0,\n",
       "          0,    0,    0,    0,    0,    0,    0,    0,    0,    0,    0,\n",
       "          0,    0,    0,    0,    0,    0,    0, 1633, 1634,  928,  281,\n",
       "         26,   50,    3,    1,    2, 2107,    3,   40,   66,  240,  302,\n",
       "         13,  469,  168,  343,   50,   40,   14,   13,    1,    2,  147,\n",
       "        137,  539,  680, 1735,   51,   50,   24,   80,   40,  374,   34,\n",
       "        281,   48,    8,  470,  539,  507,  434,  172,   14,   13,    1,\n",
       "          2,  330,   41,   24,  511,   80,   40,  172,   14,   16,    8,\n",
       "        811,  391,  435,   23,  340, 1544,  430,   66,   14,  459,    7,\n",
       "         20,   23,    8,  635, 1205,   94,  114,   37,  255,   24,   13,\n",
       "          1,   20,   30,   17,  522, 1863,  181,  350,   98, 1162,   77,\n",
       "         18,  367,  774,  309,   66,    5,  115,   84,  384,  774,   13,\n",
       "          1,    2, 1334,   41,  748,   66,   80,  202,  384,   16,  112,\n",
       "        596,   44,   24,   13,    1,    2, 1208,  140,  229,  453,  157,\n",
       "         20,   23,  762,  691,   13,    1,    2,   27,   24,  748,   66,\n",
       "         80,   40,  607,   70,   16,   22,  536,  415,   37,   52,    3,\n",
       "       1736, 1335,  101,    5,   23, 1113, 2108,  944,   70,   52,    3,\n",
       "       1736, 2108,  404,    7,   20,   23,    8,  635,    7,   37,  241,\n",
       "        189,   74,  108,   56,   49,   99,  272,  105,   21,  333,  381,\n",
       "         57,   19,   54,   74,  324,  228,  107,   93, 1206,   71,  252,\n",
       "        119,    5,   11,   56,   43,   47,  189,   56,   21,   94,  340,\n",
       "         93,   85,  193,   51,   11,   19,   71,  156,  109,  233,  239,\n",
       "        190, 1207,   12, 1112,  219,   29,   46,   33,   67,   25,   69,\n",
       "        288,  169,  398,  213,  164,   59, 1048,   88,  110,  194,   10,\n",
       "        100,   10,   42], dtype=int32)"
      ]
     },
     "metadata": {},
     "execution_count": 48
    }
   ],
   "metadata": {}
  },
  {
   "cell_type": "code",
   "execution_count": 49,
   "source": [
    "y[1]"
   ],
   "outputs": [
    {
     "output_type": "execute_result",
     "data": {
      "text/plain": [
       "'053'"
      ]
     },
     "metadata": {},
     "execution_count": 49
    }
   ],
   "metadata": {}
  },
  {
   "cell_type": "code",
   "execution_count": 50,
   "source": [
    "print(len(X),len(y))"
   ],
   "outputs": [
    {
     "output_type": "stream",
     "name": "stdout",
     "text": [
      "2491 2491\n"
     ]
    }
   ],
   "metadata": {}
  },
  {
   "cell_type": "code",
   "execution_count": 51,
   "source": [
    "y = to_categorical(y)"
   ],
   "outputs": [],
   "metadata": {}
  },
  {
   "cell_type": "code",
   "execution_count": 52,
   "source": [
    "print(X.shape, y.shape)"
   ],
   "outputs": [
    {
     "output_type": "stream",
     "name": "stdout",
     "text": [
      "(2491, 300) (2491, 231)\n"
     ]
    }
   ],
   "metadata": {}
  },
  {
   "cell_type": "code",
   "execution_count": 53,
   "source": [
    "x_train, x_test, y_train, y_test = train_test_split(X, y,test_size=0.3, random_state=777, stratify=y) #추천 한 번밖에 안된 애들 있어서 stratify 안됨"
   ],
   "outputs": [],
   "metadata": {}
  },
  {
   "cell_type": "code",
   "execution_count": 54,
   "source": [
    "num_class = int(max(sk_data.id)) + 1"
   ],
   "outputs": [],
   "metadata": {}
  },
  {
   "cell_type": "code",
   "execution_count": 55,
   "source": [
    "from tensorflow.keras.layers import LSTM"
   ],
   "outputs": [],
   "metadata": {}
  },
  {
   "cell_type": "code",
   "execution_count": 56,
   "source": [
    "model = Sequential()\n",
    "model.add(Embedding(vocab_size, max_len))\n",
    "model.add(LSTM(max_len))\n",
    "model.add(Dense(num_class, activation='softmax'))\n",
    "\n",
    "model.summary()"
   ],
   "outputs": [
    {
     "output_type": "stream",
     "name": "stdout",
     "text": [
      "Model: \"sequential\"\n",
      "_________________________________________________________________\n",
      "Layer (type)                 Output Shape              Param #   \n",
      "=================================================================\n",
      "embedding (Embedding)        (None, None, 300)         663900    \n",
      "_________________________________________________________________\n",
      "lstm (LSTM)                  (None, 300)               721200    \n",
      "_________________________________________________________________\n",
      "dense (Dense)                (None, 231)               69531     \n",
      "=================================================================\n",
      "Total params: 1,454,631\n",
      "Trainable params: 1,454,631\n",
      "Non-trainable params: 0\n",
      "_________________________________________________________________\n"
     ]
    }
   ],
   "metadata": {}
  },
  {
   "cell_type": "code",
   "execution_count": 57,
   "source": [
    "es = EarlyStopping(monitor='val_loss', mode='min', verbose=1, patience=6)\n",
    "mc = ModelCheckpoint('sk_model_lstm.h5', monitor='val_acc', mode='max', verbose=1, save_best_only=True)"
   ],
   "outputs": [],
   "metadata": {}
  },
  {
   "cell_type": "code",
   "execution_count": 58,
   "source": [
    "model.compile(optimizer='adam', loss='categorical_crossentropy', metrics=['acc'])\n",
    "history = model.fit(x_train, y_train, epochs=10, callbacks=[es, mc], batch_size=32, validation_split=0.2)\n",
    "\n",
    "print(\"테스트 셋 체크\")\n",
    "loaded_model = load_model('sk_model_lstm.h5')\n",
    "print(\"\\n 테스트 정확도: %.4f\" % (loaded_model.evaluate(x_test, y_test)[1]))"
   ],
   "outputs": [
    {
     "output_type": "stream",
     "name": "stdout",
     "text": [
      "Epoch 1/10\n",
      "44/44 [==============================] - 145s 3s/step - loss: 5.2527 - acc: 0.0954 - val_loss: 4.4663 - val_acc: 0.0802\n",
      "\n",
      "Epoch 00001: val_acc improved from -inf to 0.08023, saving model to sk_model_lstm.h5\n",
      "Epoch 2/10\n",
      "44/44 [==============================] - 161s 4s/step - loss: 3.9681 - acc: 0.1802 - val_loss: 2.8816 - val_acc: 0.4413\n",
      "\n",
      "Epoch 00002: val_acc improved from 0.08023 to 0.44126, saving model to sk_model_lstm.h5\n",
      "Epoch 3/10\n",
      "44/44 [==============================] - 130s 3s/step - loss: 2.1729 - acc: 0.5669 - val_loss: 1.7007 - val_acc: 0.7077\n",
      "\n",
      "Epoch 00003: val_acc improved from 0.44126 to 0.70774, saving model to sk_model_lstm.h5\n",
      "Epoch 4/10\n",
      "44/44 [==============================] - 167s 4s/step - loss: 1.0262 - acc: 0.8210 - val_loss: 0.9038 - val_acc: 0.8625\n",
      "\n",
      "Epoch 00004: val_acc improved from 0.70774 to 0.86246, saving model to sk_model_lstm.h5\n",
      "Epoch 5/10\n",
      "44/44 [==============================] - 92s 2s/step - loss: 0.4004 - acc: 0.9400 - val_loss: 0.5534 - val_acc: 0.9341\n",
      "\n",
      "Epoch 00005: val_acc improved from 0.86246 to 0.93410, saving model to sk_model_lstm.h5\n",
      "Epoch 6/10\n",
      "44/44 [==============================] - 200s 5s/step - loss: 0.1845 - acc: 0.9771 - val_loss: 0.4056 - val_acc: 0.9599\n",
      "\n",
      "Epoch 00006: val_acc improved from 0.93410 to 0.95989, saving model to sk_model_lstm.h5\n",
      "Epoch 7/10\n",
      "44/44 [==============================] - 98s 2s/step - loss: 0.0864 - acc: 0.9877 - val_loss: 0.3540 - val_acc: 0.9685\n",
      "\n",
      "Epoch 00007: val_acc improved from 0.95989 to 0.96848, saving model to sk_model_lstm.h5\n",
      "Epoch 8/10\n",
      "44/44 [==============================] - 166s 4s/step - loss: 0.0339 - acc: 0.9976 - val_loss: 0.3290 - val_acc: 0.9771\n",
      "\n",
      "Epoch 00008: val_acc improved from 0.96848 to 0.97708, saving model to sk_model_lstm.h5\n",
      "Epoch 9/10\n",
      "44/44 [==============================] - 240s 5s/step - loss: 0.0256 - acc: 0.9984 - val_loss: 0.3129 - val_acc: 0.9771\n",
      "\n",
      "Epoch 00009: val_acc did not improve from 0.97708\n",
      "Epoch 10/10\n",
      "44/44 [==============================] - 89s 2s/step - loss: 0.0215 - acc: 1.0000 - val_loss: 0.3164 - val_acc: 0.9771\n",
      "\n",
      "Epoch 00010: val_acc did not improve from 0.97708\n",
      "테스트 셋 체크\n",
      "24/24 [==============================] - 6s 236ms/step - loss: 0.1366 - acc: 0.9906\n",
      "\n",
      " 테스트 정확도: 0.9906\n"
     ]
    }
   ],
   "metadata": {}
  },
  {
   "cell_type": "markdown",
   "source": [
    "Cannot convert a symbolic Tensor -> numpy 버전 1.19.5로 바꿔줌\n",
    "\n",
    "https://wikidocs.net/45101"
   ],
   "metadata": {}
  },
  {
   "cell_type": "code",
   "execution_count": 59,
   "source": [
    "# list all data in history\n",
    "print(history.history.keys())\n",
    "# summarize history for accuracy\n",
    "plt.plot(history.history['acc'])\n",
    "plt.plot(history.history['val_acc'])\n",
    "plt.title('model accuracy')\n",
    "plt.ylabel('accuracy')\n",
    "plt.xlabel('epoch')\n",
    "plt.legend(['train', 'test'], loc='upper left')\n",
    "plt.show()\n",
    "# summarize history for loss\n",
    "plt.plot(history.history['loss'])\n",
    "plt.plot(history.history['val_loss'])\n",
    "plt.title('model loss')\n",
    "plt.ylabel('loss')\n",
    "plt.xlabel('epoch')\n",
    "plt.legend(['train', 'test'], loc='upper left')\n",
    "plt.show()"
   ],
   "outputs": [
    {
     "output_type": "stream",
     "name": "stdout",
     "text": [
      "dict_keys(['loss', 'acc', 'val_loss', 'val_acc'])\n"
     ]
    },
    {
     "output_type": "display_data",
     "data": {
      "image/png": "[encoded data removed]",
      "text/plain": [
       "<Figure size 640x480 with 1 Axes>"
      ]
     },
     "metadata": {}
    },
    {
     "output_type": "display_data",
     "data": {
      "image/png": "[encoded data removed]",
      "text/plain": [
       "<Figure size 640x480 with 1 Axes>"
      ]
     },
     "metadata": {}
    }
   ],
   "metadata": {}
  },
  {
   "cell_type": "code",
   "execution_count": null,
   "source": [],
   "outputs": [],
   "metadata": {}
  }
 ],
 "metadata": {
  "orig_nbformat": 4,
  "language_info": {
   "name": "python",
   "version": "3.8.0",
   "mimetype": "text/x-python",
   "codemirror_mode": {
    "name": "ipython",
    "version": 3
   },
   "pygments_lexer": "ipython3",
   "nbconvert_exporter": "python",
   "file_extension": ".py"
  },
  "kernelspec": {
   "name": "python3",
   "display_name": "Python 3.8.0 64-bit ('sj': conda)"
  },
  "interpreter": {
   "hash": "022eb7dab1e64abfe7845a82597d3156ee0a5d78294cf462a778b063942c3de6"
  }
 },
 "nbformat": 4,
 "nbformat_minor": 2
}