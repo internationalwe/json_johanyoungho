{
 "cells": [
  {
   "cell_type": "code",
   "execution_count": 1,
   "source": [
    "import pandas as pd\r\n",
    "\r\n",
    "ddata = pd.read_csv(\"./data/ddata.txt\", encoding=\"euc-kr\", sep=\"\\t\", names=[\"num\",\"speaker\",\"contents\",\"tags\"])\r\n",
    "mdata = pd.read_csv(\"./data/mdata.txt\", encoding=\"euc-kr\", sep=\"\\t\", names=[\"id\",\"part\",\"category\",\"exptype\",\"exp\"])\r\n",
    "\r\n",
    "ddata.head()"
   ],
   "outputs": [
    {
     "output_type": "execute_result",
     "data": {
      "text/html": [
       "<div>\n",
       "<style scoped>\n",
       "    .dataframe tbody tr th:only-of-type {\n",
       "        vertical-align: middle;\n",
       "    }\n",
       "\n",
       "    .dataframe tbody tr th {\n",
       "        vertical-align: top;\n",
       "    }\n",
       "\n",
       "    .dataframe thead th {\n",
       "        text-align: right;\n",
       "    }\n",
       "</style>\n",
       "<table border=\"1\" class=\"dataframe\">\n",
       "  <thead>\n",
       "    <tr style=\"text-align: right;\">\n",
       "      <th></th>\n",
       "      <th>num</th>\n",
       "      <th>speaker</th>\n",
       "      <th>contents</th>\n",
       "      <th>tags</th>\n",
       "    </tr>\n",
       "  </thead>\n",
       "  <tbody>\n",
       "    <tr>\n",
       "      <th>0</th>\n",
       "      <td>0</td>\n",
       "      <td>&lt;CO&gt;</td>\n",
       "      <td>어서오세요. 코디봇입니다. 무엇을 도와드릴까요?</td>\n",
       "      <td>INTRO</td>\n",
       "    </tr>\n",
       "    <tr>\n",
       "      <th>1</th>\n",
       "      <td>1</td>\n",
       "      <td>&lt;US&gt;</td>\n",
       "      <td>처음 대학교 들어가는데 입을 옷 코디해주세요.</td>\n",
       "      <td>NaN</td>\n",
       "    </tr>\n",
       "    <tr>\n",
       "      <th>2</th>\n",
       "      <td>2</td>\n",
       "      <td>&lt;CO&gt;</td>\n",
       "      <td>신입생 코디에 어울리게 화사한 스웨터를 추천해드릴게요.</td>\n",
       "      <td>EXP_RES_SITUATION;EXP_RES_DESCRIPTION</td>\n",
       "    </tr>\n",
       "    <tr>\n",
       "      <th>3</th>\n",
       "      <td>3</td>\n",
       "      <td>&lt;AC&gt;</td>\n",
       "      <td>SW-009</td>\n",
       "      <td>NaN</td>\n",
       "    </tr>\n",
       "    <tr>\n",
       "      <th>4</th>\n",
       "      <td>4</td>\n",
       "      <td>&lt;US&gt;</td>\n",
       "      <td>이 옷에 어울리는 치마로 추천해주세요.</td>\n",
       "      <td>USER_SUCCESS</td>\n",
       "    </tr>\n",
       "  </tbody>\n",
       "</table>\n",
       "</div>"
      ],
      "text/plain": [
       "   num speaker                         contents  \\\n",
       "0    0    <CO>       어서오세요. 코디봇입니다. 무엇을 도와드릴까요?   \n",
       "1    1    <US>        처음 대학교 들어가는데 입을 옷 코디해주세요.   \n",
       "2    2    <CO>   신입생 코디에 어울리게 화사한 스웨터를 추천해드릴게요.   \n",
       "3    3    <AC>                           SW-009   \n",
       "4    4    <US>            이 옷에 어울리는 치마로 추천해주세요.   \n",
       "\n",
       "                                    tags  \n",
       "0                                  INTRO  \n",
       "1                                    NaN  \n",
       "2  EXP_RES_SITUATION;EXP_RES_DESCRIPTION  \n",
       "3                                    NaN  \n",
       "4                           USER_SUCCESS  "
      ]
     },
     "metadata": {},
     "execution_count": 1
    }
   ],
   "metadata": {}
  },
  {
   "cell_type": "markdown",
   "source": [
    "# 1. 전체 대화셋 개수 카운트"
   ],
   "metadata": {}
  },
  {
   "cell_type": "code",
   "execution_count": 2,
   "source": [
    "dial_num = 0\r\n",
    "\r\n",
    "for i in range(1, len(ddata)):\r\n",
    "    if ddata.loc[i, \"num\"] == 0:\r\n",
    "        dial_num += 1\r\n",
    "print(\"총 대화셋 수: \",dial_num)"
   ],
   "outputs": [
    {
     "output_type": "stream",
     "name": "stdout",
     "text": [
      "총 대화셋 수:  7235\n"
     ]
    }
   ],
   "metadata": {}
  },
  {
   "cell_type": "markdown",
   "source": [
    "# 2. Mdata 합치기"
   ],
   "metadata": {}
  },
  {
   "cell_type": "markdown",
   "source": [
    "## - Part 살려서 합치기"
   ],
   "metadata": {}
  },
  {
   "cell_type": "code",
   "execution_count": 3,
   "source": [
    "c_mdata = pd.DataFrame({\"id\":[0],\"exp\":[None]})\r\n",
    "c_mdata.drop(0, axis=0, inplace=True)\r\n",
    "c_mdata"
   ],
   "outputs": [
    {
     "output_type": "execute_result",
     "data": {
      "text/html": [
       "<div>\n",
       "<style scoped>\n",
       "    .dataframe tbody tr th:only-of-type {\n",
       "        vertical-align: middle;\n",
       "    }\n",
       "\n",
       "    .dataframe tbody tr th {\n",
       "        vertical-align: top;\n",
       "    }\n",
       "\n",
       "    .dataframe thead th {\n",
       "        text-align: right;\n",
       "    }\n",
       "</style>\n",
       "<table border=\"1\" class=\"dataframe\">\n",
       "  <thead>\n",
       "    <tr style=\"text-align: right;\">\n",
       "      <th></th>\n",
       "      <th>id</th>\n",
       "      <th>exp</th>\n",
       "    </tr>\n",
       "  </thead>\n",
       "  <tbody>\n",
       "  </tbody>\n",
       "</table>\n",
       "</div>"
      ],
      "text/plain": [
       "Empty DataFrame\n",
       "Columns: [id, exp]\n",
       "Index: []"
      ]
     },
     "metadata": {},
     "execution_count": 3
    }
   ],
   "metadata": {}
  },
  {
   "cell_type": "code",
   "execution_count": 4,
   "source": [
    "id = \"\"\r\n",
    "idx = 0\r\n",
    "for i in range(len(mdata)):\r\n",
    "    if id == mdata.loc[i, \"id\"]:\r\n",
    "        c_mdata.loc[c_mdata.index[(c_mdata[\"id\"] == id)].tolist().pop(),\"exp\"] = c_mdata.loc[c_mdata.index[(c_mdata[\"id\"] == id)].tolist().pop(),\"exp\"] + \" \" + mdata.loc[i, \"exp\"]\r\n",
    "    \r\n",
    "    else:\r\n",
    "        id = mdata.loc[i, \"id\"]\r\n",
    "        c_mdata.loc[i, \"id\"] = id\r\n",
    "        c_mdata.loc[i, \"exp\"] = mdata.loc[i, \"exp\"]\r\n",
    "\r\n",
    "c_mdata.head()"
   ],
   "outputs": [
    {
     "output_type": "execute_result",
     "data": {
      "text/html": [
       "<div>\n",
       "<style scoped>\n",
       "    .dataframe tbody tr th:only-of-type {\n",
       "        vertical-align: middle;\n",
       "    }\n",
       "\n",
       "    .dataframe tbody tr th {\n",
       "        vertical-align: top;\n",
       "    }\n",
       "\n",
       "    .dataframe thead th {\n",
       "        text-align: right;\n",
       "    }\n",
       "</style>\n",
       "<table border=\"1\" class=\"dataframe\">\n",
       "  <thead>\n",
       "    <tr style=\"text-align: right;\">\n",
       "      <th></th>\n",
       "      <th>id</th>\n",
       "      <th>exp</th>\n",
       "    </tr>\n",
       "  </thead>\n",
       "  <tbody>\n",
       "    <tr>\n",
       "      <th>0</th>\n",
       "      <td>BL-001</td>\n",
       "      <td>단추 여밈의 전체 오픈형 스탠드 칼라와 브이넥 네크라인의 결합스타일 손목까지 내려오...</td>\n",
       "    </tr>\n",
       "    <tr>\n",
       "      <th>20</th>\n",
       "      <td>BL-002</td>\n",
       "      <td>넓은 셔츠칼라 네크라인 앞중심에 반 오픈 끈여밈있는 스타일 드롭숄더 퍼프형 소매로 ...</td>\n",
       "    </tr>\n",
       "    <tr>\n",
       "      <th>38</th>\n",
       "      <td>BL-003</td>\n",
       "      <td>앞 중심에 단추 여밈 칼라가 없는 넓고 깊게 파인 브이넥 엉덩이 밑으로 내려오는 긴...</td>\n",
       "    </tr>\n",
       "    <tr>\n",
       "      <th>63</th>\n",
       "      <td>BL-004</td>\n",
       "      <td>앞중심에 단추 여밈 칼라가 없는 라운드넥으로 골반 위에서 끝나는 짧은 기장 손목, ...</td>\n",
       "    </tr>\n",
       "    <tr>\n",
       "      <th>84</th>\n",
       "      <td>BL-005</td>\n",
       "      <td>앞단추 여밈의 전체 오픈형 칼라가 없는 라운드넥크라인 엉덩이 위에서 끝나는 짧은 기...</td>\n",
       "    </tr>\n",
       "  </tbody>\n",
       "</table>\n",
       "</div>"
      ],
      "text/plain": [
       "         id                                                exp\n",
       "0   BL-001   단추 여밈의 전체 오픈형 스탠드 칼라와 브이넥 네크라인의 결합스타일 손목까지 내려오...\n",
       "20  BL-002   넓은 셔츠칼라 네크라인 앞중심에 반 오픈 끈여밈있는 스타일 드롭숄더 퍼프형 소매로 ...\n",
       "38  BL-003   앞 중심에 단추 여밈 칼라가 없는 넓고 깊게 파인 브이넥 엉덩이 밑으로 내려오는 긴...\n",
       "63  BL-004   앞중심에 단추 여밈 칼라가 없는 라운드넥으로 골반 위에서 끝나는 짧은 기장 손목, ...\n",
       "84  BL-005   앞단추 여밈의 전체 오픈형 칼라가 없는 라운드넥크라인 엉덩이 위에서 끝나는 짧은 기..."
      ]
     },
     "metadata": {},
     "execution_count": 4
    }
   ],
   "metadata": {}
  },
  {
   "cell_type": "code",
   "execution_count": 5,
   "source": [
    "for i in range(len(c_mdata)): # id 뒤에 공백 없애기\r\n",
    "    c_mdata.iloc[i].id = c_mdata.iloc[i].id.strip()\r\n",
    "\r\n",
    "print(c_mdata.iloc[0].id)\r\n",
    "c_mdata.reset_index(drop=True,inplace=True)\r\n",
    "c_mdata.head()"
   ],
   "outputs": [
    {
     "output_type": "stream",
     "name": "stdout",
     "text": [
      "BL-001\n"
     ]
    },
    {
     "output_type": "execute_result",
     "data": {
      "text/html": [
       "<div>\n",
       "<style scoped>\n",
       "    .dataframe tbody tr th:only-of-type {\n",
       "        vertical-align: middle;\n",
       "    }\n",
       "\n",
       "    .dataframe tbody tr th {\n",
       "        vertical-align: top;\n",
       "    }\n",
       "\n",
       "    .dataframe thead th {\n",
       "        text-align: right;\n",
       "    }\n",
       "</style>\n",
       "<table border=\"1\" class=\"dataframe\">\n",
       "  <thead>\n",
       "    <tr style=\"text-align: right;\">\n",
       "      <th></th>\n",
       "      <th>id</th>\n",
       "      <th>exp</th>\n",
       "    </tr>\n",
       "  </thead>\n",
       "  <tbody>\n",
       "    <tr>\n",
       "      <th>0</th>\n",
       "      <td>BL-001</td>\n",
       "      <td>단추 여밈의 전체 오픈형 스탠드 칼라와 브이넥 네크라인의 결합스타일 손목까지 내려오...</td>\n",
       "    </tr>\n",
       "    <tr>\n",
       "      <th>1</th>\n",
       "      <td>BL-002</td>\n",
       "      <td>넓은 셔츠칼라 네크라인 앞중심에 반 오픈 끈여밈있는 스타일 드롭숄더 퍼프형 소매로 ...</td>\n",
       "    </tr>\n",
       "    <tr>\n",
       "      <th>2</th>\n",
       "      <td>BL-003</td>\n",
       "      <td>앞 중심에 단추 여밈 칼라가 없는 넓고 깊게 파인 브이넥 엉덩이 밑으로 내려오는 긴...</td>\n",
       "    </tr>\n",
       "    <tr>\n",
       "      <th>3</th>\n",
       "      <td>BL-004</td>\n",
       "      <td>앞중심에 단추 여밈 칼라가 없는 라운드넥으로 골반 위에서 끝나는 짧은 기장 손목, ...</td>\n",
       "    </tr>\n",
       "    <tr>\n",
       "      <th>4</th>\n",
       "      <td>BL-005</td>\n",
       "      <td>앞단추 여밈의 전체 오픈형 칼라가 없는 라운드넥크라인 엉덩이 위에서 끝나는 짧은 기...</td>\n",
       "    </tr>\n",
       "  </tbody>\n",
       "</table>\n",
       "</div>"
      ],
      "text/plain": [
       "       id                                                exp\n",
       "0  BL-001  단추 여밈의 전체 오픈형 스탠드 칼라와 브이넥 네크라인의 결합스타일 손목까지 내려오...\n",
       "1  BL-002  넓은 셔츠칼라 네크라인 앞중심에 반 오픈 끈여밈있는 스타일 드롭숄더 퍼프형 소매로 ...\n",
       "2  BL-003  앞 중심에 단추 여밈 칼라가 없는 넓고 깊게 파인 브이넥 엉덩이 밑으로 내려오는 긴...\n",
       "3  BL-004  앞중심에 단추 여밈 칼라가 없는 라운드넥으로 골반 위에서 끝나는 짧은 기장 손목, ...\n",
       "4  BL-005  앞단추 여밈의 전체 오픈형 칼라가 없는 라운드넥크라인 엉덩이 위에서 끝나는 짧은 기..."
      ]
     },
     "metadata": {},
     "execution_count": 5
    }
   ],
   "metadata": {}
  },
  {
   "cell_type": "markdown",
   "source": [
    "# 3. NaN, Null 값 확인"
   ],
   "metadata": {}
  },
  {
   "cell_type": "code",
   "execution_count": 6,
   "source": [
    "ddata.drop(ddata.index[ddata.tags == \"INTRO\"].tolist(), axis=0, inplace=True)\r\n",
    "ddata.reset_index(drop=True, inplace=True)\r\n",
    "ddata[ddata.tags == \"INTRO\"]"
   ],
   "outputs": [
    {
     "output_type": "execute_result",
     "data": {
      "text/html": [
       "<div>\n",
       "<style scoped>\n",
       "    .dataframe tbody tr th:only-of-type {\n",
       "        vertical-align: middle;\n",
       "    }\n",
       "\n",
       "    .dataframe tbody tr th {\n",
       "        vertical-align: top;\n",
       "    }\n",
       "\n",
       "    .dataframe thead th {\n",
       "        text-align: right;\n",
       "    }\n",
       "</style>\n",
       "<table border=\"1\" class=\"dataframe\">\n",
       "  <thead>\n",
       "    <tr style=\"text-align: right;\">\n",
       "      <th></th>\n",
       "      <th>num</th>\n",
       "      <th>speaker</th>\n",
       "      <th>contents</th>\n",
       "      <th>tags</th>\n",
       "    </tr>\n",
       "  </thead>\n",
       "  <tbody>\n",
       "  </tbody>\n",
       "</table>\n",
       "</div>"
      ],
      "text/plain": [
       "Empty DataFrame\n",
       "Columns: [num, speaker, contents, tags]\n",
       "Index: []"
      ]
     },
     "metadata": {},
     "execution_count": 6
    }
   ],
   "metadata": {}
  },
  {
   "cell_type": "code",
   "execution_count": 7,
   "source": [
    "ddata.isnull().sum()"
   ],
   "outputs": [
    {
     "output_type": "execute_result",
     "data": {
      "text/plain": [
       "num             0\n",
       "speaker         0\n",
       "contents        0\n",
       "tags        51927\n",
       "dtype: int64"
      ]
     },
     "metadata": {},
     "execution_count": 7
    }
   ],
   "metadata": {}
  },
  {
   "cell_type": "code",
   "execution_count": 8,
   "source": [
    "ddata.isna().sum()"
   ],
   "outputs": [
    {
     "output_type": "execute_result",
     "data": {
      "text/plain": [
       "num             0\n",
       "speaker         0\n",
       "contents        0\n",
       "tags        51927\n",
       "dtype: int64"
      ]
     },
     "metadata": {},
     "execution_count": 8
    }
   ],
   "metadata": {}
  },
  {
   "cell_type": "code",
   "execution_count": 9,
   "source": [
    "ddata.fillna(\"\", inplace=True)\r\n",
    "ddata.isna().sum()"
   ],
   "outputs": [
    {
     "output_type": "execute_result",
     "data": {
      "text/plain": [
       "num         0\n",
       "speaker     0\n",
       "contents    0\n",
       "tags        0\n",
       "dtype: int64"
      ]
     },
     "metadata": {},
     "execution_count": 9
    }
   ],
   "metadata": {}
  },
  {
   "cell_type": "code",
   "execution_count": 10,
   "source": [
    "mdata.isnull().sum()"
   ],
   "outputs": [
    {
     "output_type": "execute_result",
     "data": {
      "text/plain": [
       "id          0\n",
       "part        0\n",
       "category    0\n",
       "exptype     0\n",
       "exp         0\n",
       "dtype: int64"
      ]
     },
     "metadata": {},
     "execution_count": 10
    }
   ],
   "metadata": {}
  },
  {
   "cell_type": "code",
   "execution_count": 11,
   "source": [
    "c_mdata.isnull().sum()"
   ],
   "outputs": [
    {
     "output_type": "execute_result",
     "data": {
      "text/plain": [
       "id     0\n",
       "exp    0\n",
       "dtype: int64"
      ]
     },
     "metadata": {},
     "execution_count": 11
    }
   ],
   "metadata": {}
  },
  {
   "cell_type": "markdown",
   "source": [
    "# 4. 추천 성공 의상 아이디 종류 및 빈도 카운트 "
   ],
   "metadata": {}
  },
  {
   "cell_type": "markdown",
   "source": [
    "## 한 번에 추천해도 실패하면 전부 실패로 달기"
   ],
   "metadata": {}
  },
  {
   "cell_type": "code",
   "execution_count": 12,
   "source": [
    "c_data = pd.DataFrame({\"contents\":[None], \"id\":[\"xx-xxx\"]})\r\n",
    "c_data.drop(0,axis=0,inplace=True)\r\n",
    "c_data.head()"
   ],
   "outputs": [
    {
     "output_type": "execute_result",
     "data": {
      "text/html": [
       "<div>\n",
       "<style scoped>\n",
       "    .dataframe tbody tr th:only-of-type {\n",
       "        vertical-align: middle;\n",
       "    }\n",
       "\n",
       "    .dataframe tbody tr th {\n",
       "        vertical-align: top;\n",
       "    }\n",
       "\n",
       "    .dataframe thead th {\n",
       "        text-align: right;\n",
       "    }\n",
       "</style>\n",
       "<table border=\"1\" class=\"dataframe\">\n",
       "  <thead>\n",
       "    <tr style=\"text-align: right;\">\n",
       "      <th></th>\n",
       "      <th>contents</th>\n",
       "      <th>id</th>\n",
       "    </tr>\n",
       "  </thead>\n",
       "  <tbody>\n",
       "  </tbody>\n",
       "</table>\n",
       "</div>"
      ],
      "text/plain": [
       "Empty DataFrame\n",
       "Columns: [contents, id]\n",
       "Index: []"
      ]
     },
     "metadata": {},
     "execution_count": 12
    }
   ],
   "metadata": {}
  },
  {
   "cell_type": "markdown",
   "source": [
    "<코드 동작 원리>\n",
    "<br>\n",
    "\n",
    "대화문 하나씩 받아온 다음\n",
    "- AC 태그 문장이면 일단 의상 변수에 저장,\n",
    "- user_success 태그 문장이면\n",
    "\n",
    "   - 변수에 저장된 의상이 하나면\n",
    "\n",
    "      - 바로 대화문 변수랑 의상 변수 및 의상 메타데이터 합쳐서 저장 -> 레이블(id 컬럼에 저장)은 의상 코드가 됨\n",
    "\n",
    "   - 변수에 저장된 의상의 여러 개면\n",
    "\n",
    "      - 의상을 하나의 코드 단위로 쪼개서 대화문 변수랑 의상 메타데이터 합쳐서 저장\n",
    "      \n",
    "-  둘 다 아니고 일반 대화문이면 대화문 변수에 저장"
   ],
   "metadata": {}
  },
  {
   "cell_type": "code",
   "execution_count": 13,
   "source": [
    "dial = ddata.loc[0, \"contents\"].strip()\r\n",
    "ac = \"\"\r\n",
    "\r\n",
    "for i in range(1,len(ddata)):\r\n",
    "    cur_sen = ddata.loc[i,\"contents\"].strip()\r\n",
    "\r\n",
    "    if ddata.loc[i, \"num\"] > ddata.loc[i-1, \"num\"]: # 이전 대화셋에 포함된 문장인지 확인\r\n",
    "        \r\n",
    "        if ddata.loc[i,\"speaker\"] == \"<AC>\": # case 1. 의상 아이디가 나온 경우\r\n",
    "            if len(ac) > 1:\r\n",
    "                ac = ac + \" \" + cur_sen # 의상 아이디 저장\r\n",
    "            else:\r\n",
    "                ac = cur_sen\r\n",
    "\r\n",
    "        elif \"USER_SUCCESS\" == ddata.loc[i,\"tags\"]: # case 2. USER_SUCCESS 태그가 나온 경우\r\n",
    "            if 0 < len(ac) < 7: # 의상을 하나만 추천한 경우\r\n",
    "                dial = dial + \" \" + ac + \" \" + cur_sen\r\n",
    "                c_data.loc[i, \"contents\"] =  dial + \" \" + c_mdata.loc[c_mdata.id == ac].exp.values[0]\r\n",
    "                c_data.loc[i, \"id\"] = ac\r\n",
    "                ac = \"\"\r\n",
    "\r\n",
    "            elif len(ac) == 0:\r\n",
    "                dial = dial + \" \" + cur_sen\r\n",
    "\r\n",
    "            else: # 의상을 한 번에 여러 개 추천한 경우\r\n",
    "                idx_cnt = 0\r\n",
    "                for one_ac in ac.split():\r\n",
    "                    c_data.loc[i + idx_cnt, \"contents\"] =  dial + \" \" + one_ac + \" \"+ cur_sen + \" \" + c_mdata.loc[c_mdata.id == one_ac].exp.values[0]\r\n",
    "                    c_data.loc[i + idx_cnt, \"id\"] = one_ac\r\n",
    "                    idx_cnt += 1\r\n",
    "                dial = dial + \" \" + ac + \" \" + cur_sen    \r\n",
    "                ac = \"\"\r\n",
    "        \r\n",
    "        elif \"USER_FAIL\" in ddata.loc[i,\"tags\"]:\r\n",
    "            dial = dial + \" \" + ac + \" \" + cur_sen\r\n",
    "            ac = \"\"\r\n",
    "\r\n",
    "        else: # case 3. 그냥 대화문인 경우\r\n",
    "            dial = dial + \" \" + cur_sen\r\n",
    "    \r\n",
    "    else: #새로운 대화셋 시작이면 초기화\r\n",
    "        dial = cur_sen\r\n",
    "        ac = \"\""
   ],
   "outputs": [],
   "metadata": {}
  },
  {
   "cell_type": "code",
   "execution_count": 14,
   "source": [
    "print(\"전체 데이터 수: \", len(c_data))\r\n",
    "c_data.head()"
   ],
   "outputs": [
    {
     "output_type": "stream",
     "name": "stdout",
     "text": [
      "전체 데이터 수:  34303\n"
     ]
    },
    {
     "output_type": "execute_result",
     "data": {
      "text/html": [
       "<div>\n",
       "<style scoped>\n",
       "    .dataframe tbody tr th:only-of-type {\n",
       "        vertical-align: middle;\n",
       "    }\n",
       "\n",
       "    .dataframe tbody tr th {\n",
       "        vertical-align: top;\n",
       "    }\n",
       "\n",
       "    .dataframe thead th {\n",
       "        text-align: right;\n",
       "    }\n",
       "</style>\n",
       "<table border=\"1\" class=\"dataframe\">\n",
       "  <thead>\n",
       "    <tr style=\"text-align: right;\">\n",
       "      <th></th>\n",
       "      <th>contents</th>\n",
       "      <th>id</th>\n",
       "    </tr>\n",
       "  </thead>\n",
       "  <tbody>\n",
       "    <tr>\n",
       "      <th>3</th>\n",
       "      <td>처음 대학교 들어가는데 입을 옷 코디해주세요. 신입생 코디에 어울리게 화사한 스웨터...</td>\n",
       "      <td>SW-009</td>\n",
       "    </tr>\n",
       "    <tr>\n",
       "      <th>12</th>\n",
       "      <td>처음 대학교 들어가는데 입을 옷 코디해주세요. 신입생 코디에 어울리게 화사한 스웨터...</td>\n",
       "      <td>SK-053</td>\n",
       "    </tr>\n",
       "    <tr>\n",
       "      <th>17</th>\n",
       "      <td>처음 대학교 들어가는데 입을 옷 코디해주세요. 신입생 코디에 어울리게 화사한 스웨터...</td>\n",
       "      <td>CT-019</td>\n",
       "    </tr>\n",
       "    <tr>\n",
       "      <th>22</th>\n",
       "      <td>처음 대학교 들어가는데 입을 옷 코디해주세요. 신입생 코디에 어울리게 화사한 스웨터...</td>\n",
       "      <td>SE-039</td>\n",
       "    </tr>\n",
       "    <tr>\n",
       "      <th>26</th>\n",
       "      <td>처음 대학교 들어가는데 입을 옷 코디해주세요. 신입생 코디에 어울리게 화사한 스웨터...</td>\n",
       "      <td>CT-019</td>\n",
       "    </tr>\n",
       "  </tbody>\n",
       "</table>\n",
       "</div>"
      ],
      "text/plain": [
       "                                             contents      id\n",
       "3   처음 대학교 들어가는데 입을 옷 코디해주세요. 신입생 코디에 어울리게 화사한 스웨터...  SW-009\n",
       "12  처음 대학교 들어가는데 입을 옷 코디해주세요. 신입생 코디에 어울리게 화사한 스웨터...  SK-053\n",
       "17  처음 대학교 들어가는데 입을 옷 코디해주세요. 신입생 코디에 어울리게 화사한 스웨터...  CT-019\n",
       "22  처음 대학교 들어가는데 입을 옷 코디해주세요. 신입생 코디에 어울리게 화사한 스웨터...  SE-039\n",
       "26  처음 대학교 들어가는데 입을 옷 코디해주세요. 신입생 코디에 어울리게 화사한 스웨터...  CT-019"
      ]
     },
     "metadata": {},
     "execution_count": 14
    }
   ],
   "metadata": {}
  },
  {
   "cell_type": "code",
   "execution_count": 15,
   "source": [
    "c_data.reset_index(drop=True ,inplace=True)\r\n",
    "c_data.head()"
   ],
   "outputs": [
    {
     "output_type": "execute_result",
     "data": {
      "text/html": [
       "<div>\n",
       "<style scoped>\n",
       "    .dataframe tbody tr th:only-of-type {\n",
       "        vertical-align: middle;\n",
       "    }\n",
       "\n",
       "    .dataframe tbody tr th {\n",
       "        vertical-align: top;\n",
       "    }\n",
       "\n",
       "    .dataframe thead th {\n",
       "        text-align: right;\n",
       "    }\n",
       "</style>\n",
       "<table border=\"1\" class=\"dataframe\">\n",
       "  <thead>\n",
       "    <tr style=\"text-align: right;\">\n",
       "      <th></th>\n",
       "      <th>contents</th>\n",
       "      <th>id</th>\n",
       "    </tr>\n",
       "  </thead>\n",
       "  <tbody>\n",
       "    <tr>\n",
       "      <th>0</th>\n",
       "      <td>처음 대학교 들어가는데 입을 옷 코디해주세요. 신입생 코디에 어울리게 화사한 스웨터...</td>\n",
       "      <td>SW-009</td>\n",
       "    </tr>\n",
       "    <tr>\n",
       "      <th>1</th>\n",
       "      <td>처음 대학교 들어가는데 입을 옷 코디해주세요. 신입생 코디에 어울리게 화사한 스웨터...</td>\n",
       "      <td>SK-053</td>\n",
       "    </tr>\n",
       "    <tr>\n",
       "      <th>2</th>\n",
       "      <td>처음 대학교 들어가는데 입을 옷 코디해주세요. 신입생 코디에 어울리게 화사한 스웨터...</td>\n",
       "      <td>CT-019</td>\n",
       "    </tr>\n",
       "    <tr>\n",
       "      <th>3</th>\n",
       "      <td>처음 대학교 들어가는데 입을 옷 코디해주세요. 신입생 코디에 어울리게 화사한 스웨터...</td>\n",
       "      <td>SE-039</td>\n",
       "    </tr>\n",
       "    <tr>\n",
       "      <th>4</th>\n",
       "      <td>처음 대학교 들어가는데 입을 옷 코디해주세요. 신입생 코디에 어울리게 화사한 스웨터...</td>\n",
       "      <td>CT-019</td>\n",
       "    </tr>\n",
       "  </tbody>\n",
       "</table>\n",
       "</div>"
      ],
      "text/plain": [
       "                                            contents      id\n",
       "0  처음 대학교 들어가는데 입을 옷 코디해주세요. 신입생 코디에 어울리게 화사한 스웨터...  SW-009\n",
       "1  처음 대학교 들어가는데 입을 옷 코디해주세요. 신입생 코디에 어울리게 화사한 스웨터...  SK-053\n",
       "2  처음 대학교 들어가는데 입을 옷 코디해주세요. 신입생 코디에 어울리게 화사한 스웨터...  CT-019\n",
       "3  처음 대학교 들어가는데 입을 옷 코디해주세요. 신입생 코디에 어울리게 화사한 스웨터...  SE-039\n",
       "4  처음 대학교 들어가는데 입을 옷 코디해주세요. 신입생 코디에 어울리게 화사한 스웨터...  CT-019"
      ]
     },
     "metadata": {},
     "execution_count": 15
    }
   ],
   "metadata": {}
  },
  {
   "cell_type": "code",
   "execution_count": 16,
   "source": [
    "c_data.loc[0].contents"
   ],
   "outputs": [
    {
     "output_type": "execute_result",
     "data": {
      "text/plain": [
       "'처음 대학교 들어가는데 입을 옷 코디해주세요. 신입생 코디에 어울리게 화사한 스웨터를 추천해드릴게요. SW-009 이 옷에 어울리는 치마로 추천해주세요. 라운드 네크라인 여밈이 없는 풀오버 스타일 전체 케이블 조직 드롭숄더 슬리브 손등까지 오는 길이의 소매 몸에 적당히 맞는 품 엉덩이를 살짝 덮는 길이 네크라인, 소매 끝, 밑단에 고무단 처리 레이온52%,나일론20%,폴리에스터28% 꽈배기 조직, 플레인 조직이 섞여 있는 형태 드라이 크리닝 단색의 라임색 브라이트톤(고명도 고채도)의 옐로우 그린 산뜻하고 발랄한 느낌 기본의 단정한 편안한 산뜻한 발랄한 경쾌한 따뜻한 데일리룩 캠퍼스룩'"
      ]
     },
     "metadata": {},
     "execution_count": 16
    }
   ],
   "metadata": {}
  },
  {
   "cell_type": "code",
   "execution_count": 17,
   "source": [
    "sw_data = pd.DataFrame({\"contents\":[None], \"id\":[\"xx-xxx\"]})\r\n",
    "sw_data.drop(0,axis=0,inplace=True)\r\n",
    "sw_data.head()"
   ],
   "outputs": [
    {
     "output_type": "execute_result",
     "data": {
      "text/html": [
       "<div>\n",
       "<style scoped>\n",
       "    .dataframe tbody tr th:only-of-type {\n",
       "        vertical-align: middle;\n",
       "    }\n",
       "\n",
       "    .dataframe tbody tr th {\n",
       "        vertical-align: top;\n",
       "    }\n",
       "\n",
       "    .dataframe thead th {\n",
       "        text-align: right;\n",
       "    }\n",
       "</style>\n",
       "<table border=\"1\" class=\"dataframe\">\n",
       "  <thead>\n",
       "    <tr style=\"text-align: right;\">\n",
       "      <th></th>\n",
       "      <th>contents</th>\n",
       "      <th>id</th>\n",
       "    </tr>\n",
       "  </thead>\n",
       "  <tbody>\n",
       "  </tbody>\n",
       "</table>\n",
       "</div>"
      ],
      "text/plain": [
       "Empty DataFrame\n",
       "Columns: [contents, id]\n",
       "Index: []"
      ]
     },
     "metadata": {},
     "execution_count": 17
    }
   ],
   "metadata": {}
  },
  {
   "cell_type": "code",
   "execution_count": 18,
   "source": [
    "for i in range(len(c_data)):\r\n",
    "    if \"SW\" in c_data[\"id\"][i][0:2]:\r\n",
    "        sw_data = sw_data.append(c_data.iloc[i])\r\n",
    "\r\n",
    "sw_data.reset_index(drop=True, inplace=True)\r\n",
    "print(\"데이터 개수\",len(sw_data))\r\n",
    "sw_data.head()"
   ],
   "outputs": [
    {
     "output_type": "stream",
     "name": "stdout",
     "text": [
      "데이터 개수 1731\n"
     ]
    },
    {
     "output_type": "execute_result",
     "data": {
      "text/html": [
       "<div>\n",
       "<style scoped>\n",
       "    .dataframe tbody tr th:only-of-type {\n",
       "        vertical-align: middle;\n",
       "    }\n",
       "\n",
       "    .dataframe tbody tr th {\n",
       "        vertical-align: top;\n",
       "    }\n",
       "\n",
       "    .dataframe thead th {\n",
       "        text-align: right;\n",
       "    }\n",
       "</style>\n",
       "<table border=\"1\" class=\"dataframe\">\n",
       "  <thead>\n",
       "    <tr style=\"text-align: right;\">\n",
       "      <th></th>\n",
       "      <th>contents</th>\n",
       "      <th>id</th>\n",
       "    </tr>\n",
       "  </thead>\n",
       "  <tbody>\n",
       "    <tr>\n",
       "      <th>0</th>\n",
       "      <td>처음 대학교 들어가는데 입을 옷 코디해주세요. 신입생 코디에 어울리게 화사한 스웨터...</td>\n",
       "      <td>SW-009</td>\n",
       "    </tr>\n",
       "    <tr>\n",
       "      <th>1</th>\n",
       "      <td>처음 대학교 들어가는데 입을 옷 코디해주세요. 신입생 코디에 어울리게 화사한 스웨터...</td>\n",
       "      <td>SW-009</td>\n",
       "    </tr>\n",
       "    <tr>\n",
       "      <th>2</th>\n",
       "      <td>소개팅하러 갈 때 입을만한 옷 추천해주세요. 네. 그럼 따뜻하고 러블리한 코트 코디...</td>\n",
       "      <td>SW-010</td>\n",
       "    </tr>\n",
       "    <tr>\n",
       "      <th>3</th>\n",
       "      <td>야근할 예정이라 직장에서 좀 편하게 입을 옷을 추천해줘. 네. 잠시만 기다려주세요....</td>\n",
       "      <td>SW-041</td>\n",
       "    </tr>\n",
       "    <tr>\n",
       "      <th>4</th>\n",
       "      <td>추석때 입고 갈 편안하고 얌전한 옷으로 추천해줘. 네. 잠시만 기다려주세요. 깔끔하...</td>\n",
       "      <td>SW-037</td>\n",
       "    </tr>\n",
       "  </tbody>\n",
       "</table>\n",
       "</div>"
      ],
      "text/plain": [
       "                                            contents      id\n",
       "0  처음 대학교 들어가는데 입을 옷 코디해주세요. 신입생 코디에 어울리게 화사한 스웨터...  SW-009\n",
       "1  처음 대학교 들어가는데 입을 옷 코디해주세요. 신입생 코디에 어울리게 화사한 스웨터...  SW-009\n",
       "2  소개팅하러 갈 때 입을만한 옷 추천해주세요. 네. 그럼 따뜻하고 러블리한 코트 코디...  SW-010\n",
       "3  야근할 예정이라 직장에서 좀 편하게 입을 옷을 추천해줘. 네. 잠시만 기다려주세요....  SW-041\n",
       "4  추석때 입고 갈 편안하고 얌전한 옷으로 추천해줘. 네. 잠시만 기다려주세요. 깔끔하...  SW-037"
      ]
     },
     "metadata": {},
     "execution_count": 18
    }
   ],
   "metadata": {}
  },
  {
   "cell_type": "code",
   "execution_count": 19,
   "source": [
    "sw_data[\"contents\"] = sw_data[\"contents\"].str.replace(\"[^A-Za-z0-9ㄱ-ㅎㅏ-ㅣ가-힣 ]\",\"\")\r\n",
    "sw_data.head()"
   ],
   "outputs": [
    {
     "output_type": "stream",
     "name": "stderr",
     "text": [
      "C:\\Users\\nipa008\\AppData\\Local\\Temp/ipykernel_5452/962482553.py:1: FutureWarning: The default value of regex will change from True to False in a future version.\n",
      "  sw_data[\"contents\"] = sw_data[\"contents\"].str.replace(\"[^A-Za-z0-9ㄱ-ㅎㅏ-ㅣ가-힣 ]\",\"\")\n"
     ]
    },
    {
     "output_type": "execute_result",
     "data": {
      "text/html": [
       "<div>\n",
       "<style scoped>\n",
       "    .dataframe tbody tr th:only-of-type {\n",
       "        vertical-align: middle;\n",
       "    }\n",
       "\n",
       "    .dataframe tbody tr th {\n",
       "        vertical-align: top;\n",
       "    }\n",
       "\n",
       "    .dataframe thead th {\n",
       "        text-align: right;\n",
       "    }\n",
       "</style>\n",
       "<table border=\"1\" class=\"dataframe\">\n",
       "  <thead>\n",
       "    <tr style=\"text-align: right;\">\n",
       "      <th></th>\n",
       "      <th>contents</th>\n",
       "      <th>id</th>\n",
       "    </tr>\n",
       "  </thead>\n",
       "  <tbody>\n",
       "    <tr>\n",
       "      <th>0</th>\n",
       "      <td>처음 대학교 들어가는데 입을 옷 코디해주세요 신입생 코디에 어울리게 화사한 스웨터를...</td>\n",
       "      <td>SW-009</td>\n",
       "    </tr>\n",
       "    <tr>\n",
       "      <th>1</th>\n",
       "      <td>처음 대학교 들어가는데 입을 옷 코디해주세요 신입생 코디에 어울리게 화사한 스웨터를...</td>\n",
       "      <td>SW-009</td>\n",
       "    </tr>\n",
       "    <tr>\n",
       "      <th>2</th>\n",
       "      <td>소개팅하러 갈 때 입을만한 옷 추천해주세요 네 그럼 따뜻하고 러블리한 코트 코디는 ...</td>\n",
       "      <td>SW-010</td>\n",
       "    </tr>\n",
       "    <tr>\n",
       "      <th>3</th>\n",
       "      <td>야근할 예정이라 직장에서 좀 편하게 입을 옷을 추천해줘 네 잠시만 기다려주세요 따뜻...</td>\n",
       "      <td>SW-041</td>\n",
       "    </tr>\n",
       "    <tr>\n",
       "      <th>4</th>\n",
       "      <td>추석때 입고 갈 편안하고 얌전한 옷으로 추천해줘 네 잠시만 기다려주세요 깔끔하고 단...</td>\n",
       "      <td>SW-037</td>\n",
       "    </tr>\n",
       "  </tbody>\n",
       "</table>\n",
       "</div>"
      ],
      "text/plain": [
       "                                            contents      id\n",
       "0  처음 대학교 들어가는데 입을 옷 코디해주세요 신입생 코디에 어울리게 화사한 스웨터를...  SW-009\n",
       "1  처음 대학교 들어가는데 입을 옷 코디해주세요 신입생 코디에 어울리게 화사한 스웨터를...  SW-009\n",
       "2  소개팅하러 갈 때 입을만한 옷 추천해주세요 네 그럼 따뜻하고 러블리한 코트 코디는 ...  SW-010\n",
       "3  야근할 예정이라 직장에서 좀 편하게 입을 옷을 추천해줘 네 잠시만 기다려주세요 따뜻...  SW-041\n",
       "4  추석때 입고 갈 편안하고 얌전한 옷으로 추천해줘 네 잠시만 기다려주세요 깔끔하고 단...  SW-037"
      ]
     },
     "metadata": {},
     "execution_count": 19
    }
   ],
   "metadata": {}
  },
  {
   "cell_type": "code",
   "execution_count": 20,
   "source": [
    "sw_data[\"id\"] = sw_data[\"id\"].str.replace(\"[^0-9]\",\"\")\r\n",
    "\r\n",
    "sw_data.head()"
   ],
   "outputs": [
    {
     "output_type": "stream",
     "name": "stderr",
     "text": [
      "C:\\Users\\nipa008\\AppData\\Local\\Temp/ipykernel_5452/1002372394.py:1: FutureWarning: The default value of regex will change from True to False in a future version.\n",
      "  sw_data[\"id\"] = sw_data[\"id\"].str.replace(\"[^0-9]\",\"\")\n"
     ]
    },
    {
     "output_type": "execute_result",
     "data": {
      "text/html": [
       "<div>\n",
       "<style scoped>\n",
       "    .dataframe tbody tr th:only-of-type {\n",
       "        vertical-align: middle;\n",
       "    }\n",
       "\n",
       "    .dataframe tbody tr th {\n",
       "        vertical-align: top;\n",
       "    }\n",
       "\n",
       "    .dataframe thead th {\n",
       "        text-align: right;\n",
       "    }\n",
       "</style>\n",
       "<table border=\"1\" class=\"dataframe\">\n",
       "  <thead>\n",
       "    <tr style=\"text-align: right;\">\n",
       "      <th></th>\n",
       "      <th>contents</th>\n",
       "      <th>id</th>\n",
       "    </tr>\n",
       "  </thead>\n",
       "  <tbody>\n",
       "    <tr>\n",
       "      <th>0</th>\n",
       "      <td>처음 대학교 들어가는데 입을 옷 코디해주세요 신입생 코디에 어울리게 화사한 스웨터를...</td>\n",
       "      <td>009</td>\n",
       "    </tr>\n",
       "    <tr>\n",
       "      <th>1</th>\n",
       "      <td>처음 대학교 들어가는데 입을 옷 코디해주세요 신입생 코디에 어울리게 화사한 스웨터를...</td>\n",
       "      <td>009</td>\n",
       "    </tr>\n",
       "    <tr>\n",
       "      <th>2</th>\n",
       "      <td>소개팅하러 갈 때 입을만한 옷 추천해주세요 네 그럼 따뜻하고 러블리한 코트 코디는 ...</td>\n",
       "      <td>010</td>\n",
       "    </tr>\n",
       "    <tr>\n",
       "      <th>3</th>\n",
       "      <td>야근할 예정이라 직장에서 좀 편하게 입을 옷을 추천해줘 네 잠시만 기다려주세요 따뜻...</td>\n",
       "      <td>041</td>\n",
       "    </tr>\n",
       "    <tr>\n",
       "      <th>4</th>\n",
       "      <td>추석때 입고 갈 편안하고 얌전한 옷으로 추천해줘 네 잠시만 기다려주세요 깔끔하고 단...</td>\n",
       "      <td>037</td>\n",
       "    </tr>\n",
       "  </tbody>\n",
       "</table>\n",
       "</div>"
      ],
      "text/plain": [
       "                                            contents   id\n",
       "0  처음 대학교 들어가는데 입을 옷 코디해주세요 신입생 코디에 어울리게 화사한 스웨터를...  009\n",
       "1  처음 대학교 들어가는데 입을 옷 코디해주세요 신입생 코디에 어울리게 화사한 스웨터를...  009\n",
       "2  소개팅하러 갈 때 입을만한 옷 추천해주세요 네 그럼 따뜻하고 러블리한 코트 코디는 ...  010\n",
       "3  야근할 예정이라 직장에서 좀 편하게 입을 옷을 추천해줘 네 잠시만 기다려주세요 따뜻...  041\n",
       "4  추석때 입고 갈 편안하고 얌전한 옷으로 추천해줘 네 잠시만 기다려주세요 깔끔하고 단...  037"
      ]
     },
     "metadata": {},
     "execution_count": 20
    }
   ],
   "metadata": {}
  },
  {
   "cell_type": "code",
   "execution_count": 21,
   "source": [
    "from collections import Counter\r\n",
    "temp = sw_data[\"id\"].tolist()\r\n",
    "type_count = dict(Counter(temp))\r\n",
    "type_count"
   ],
   "outputs": [
    {
     "output_type": "execute_result",
     "data": {
      "text/plain": [
       "{'009': 4,\n",
       " '010': 32,\n",
       " '041': 20,\n",
       " '037': 21,\n",
       " '033': 37,\n",
       " '024': 32,\n",
       " '050': 8,\n",
       " '023': 20,\n",
       " '031': 24,\n",
       " '016': 49,\n",
       " '011': 7,\n",
       " '027': 28,\n",
       " '001': 30,\n",
       " '002': 34,\n",
       " '042': 3,\n",
       " '017': 18,\n",
       " '019': 63,\n",
       " '048': 7,\n",
       " '026': 20,\n",
       " '028': 16,\n",
       " '013': 6,\n",
       " '030': 34,\n",
       " '049': 4,\n",
       " '039': 12,\n",
       " '038': 13,\n",
       " '005': 7,\n",
       " '003': 5,\n",
       " '015': 41,\n",
       " '043': 10,\n",
       " '044': 19,\n",
       " '036': 32,\n",
       " '022': 12,\n",
       " '006': 35,\n",
       " '034': 4,\n",
       " '025': 15,\n",
       " '047': 6,\n",
       " '004': 1,\n",
       " '046': 5,\n",
       " '008': 16,\n",
       " '035': 6,\n",
       " '045': 4,\n",
       " '018': 8,\n",
       " '040': 11,\n",
       " '007': 13,\n",
       " '032': 3,\n",
       " '012': 7,\n",
       " '014': 13,\n",
       " '021': 8,\n",
       " '077': 8,\n",
       " '055': 59,\n",
       " '093': 16,\n",
       " '062': 28,\n",
       " '060': 46,\n",
       " '099': 11,\n",
       " '091': 19,\n",
       " '096': 15,\n",
       " '094': 14,\n",
       " '029': 4,\n",
       " '089': 4,\n",
       " '080': 9,\n",
       " '051': 11,\n",
       " '064': 12,\n",
       " '095': 16,\n",
       " '069': 25,\n",
       " '083': 3,\n",
       " '076': 9,\n",
       " '086': 11,\n",
       " '067': 7,\n",
       " '058': 44,\n",
       " '081': 9,\n",
       " '074': 10,\n",
       " '085': 33,\n",
       " '065': 15,\n",
       " '075': 37,\n",
       " '068': 8,\n",
       " '078': 6,\n",
       " '079': 19,\n",
       " '070': 2,\n",
       " '053': 10,\n",
       " '073': 5,\n",
       " '098': 5,\n",
       " '088': 5,\n",
       " '063': 7,\n",
       " '084': 3,\n",
       " '052': 5,\n",
       " '057': 7,\n",
       " '071': 1,\n",
       " '082': 3,\n",
       " '090': 3,\n",
       " '124': 11,\n",
       " '145': 8,\n",
       " '136': 15,\n",
       " '138': 7,\n",
       " '144': 5,\n",
       " '101': 24,\n",
       " '103': 6,\n",
       " '116': 4,\n",
       " '056': 1,\n",
       " '105': 4,\n",
       " '112': 14,\n",
       " '061': 5,\n",
       " '159': 4,\n",
       " '160': 7,\n",
       " '155': 13,\n",
       " '097': 5,\n",
       " '122': 13,\n",
       " '113': 17,\n",
       " '120': 8,\n",
       " '125': 5,\n",
       " '149': 4,\n",
       " '100': 10,\n",
       " '130': 6,\n",
       " '147': 6,\n",
       " '106': 5,\n",
       " '108': 9,\n",
       " '133': 3,\n",
       " '153': 4,\n",
       " '110': 4,\n",
       " '151': 3,\n",
       " '117': 5,\n",
       " '139': 1,\n",
       " '123': 7,\n",
       " '127': 4,\n",
       " '152': 7,\n",
       " '114': 6,\n",
       " '102': 1,\n",
       " '118': 7,\n",
       " '109': 5,\n",
       " '115': 5,\n",
       " '121': 4,\n",
       " '104': 5,\n",
       " '107': 4,\n",
       " '141': 5,\n",
       " '072': 3,\n",
       " '111': 8,\n",
       " '119': 3,\n",
       " '134': 2,\n",
       " '126': 5,\n",
       " '129': 2,\n",
       " '087': 2,\n",
       " '137': 4,\n",
       " '150': 1,\n",
       " '132': 4,\n",
       " '148': 3,\n",
       " '157': 4,\n",
       " '059': 1,\n",
       " '054': 1,\n",
       " '135': 1,\n",
       " '146': 2,\n",
       " '128': 2}"
      ]
     },
     "metadata": {},
     "execution_count": 21
    }
   ],
   "metadata": {}
  },
  {
   "cell_type": "code",
   "execution_count": 22,
   "source": [
    "len(type_count)"
   ],
   "outputs": [
    {
     "output_type": "execute_result",
     "data": {
      "text/plain": [
       "150"
      ]
     },
     "metadata": {},
     "execution_count": 22
    }
   ],
   "metadata": {}
  },
  {
   "cell_type": "code",
   "execution_count": 23,
   "source": [
    "del_list = []\r\n",
    "for i in type_count.keys():\r\n",
    "    if type_count.get(i) == 1:\r\n",
    "        del_list.append(i)\r\n",
    "del_list"
   ],
   "outputs": [
    {
     "output_type": "execute_result",
     "data": {
      "text/plain": [
       "['004', '071', '056', '139', '102', '150', '059', '054', '135']"
      ]
     },
     "metadata": {},
     "execution_count": 23
    }
   ],
   "metadata": {}
  },
  {
   "cell_type": "code",
   "execution_count": 24,
   "source": [
    "sw_data.head()"
   ],
   "outputs": [
    {
     "output_type": "execute_result",
     "data": {
      "text/html": [
       "<div>\n",
       "<style scoped>\n",
       "    .dataframe tbody tr th:only-of-type {\n",
       "        vertical-align: middle;\n",
       "    }\n",
       "\n",
       "    .dataframe tbody tr th {\n",
       "        vertical-align: top;\n",
       "    }\n",
       "\n",
       "    .dataframe thead th {\n",
       "        text-align: right;\n",
       "    }\n",
       "</style>\n",
       "<table border=\"1\" class=\"dataframe\">\n",
       "  <thead>\n",
       "    <tr style=\"text-align: right;\">\n",
       "      <th></th>\n",
       "      <th>contents</th>\n",
       "      <th>id</th>\n",
       "    </tr>\n",
       "  </thead>\n",
       "  <tbody>\n",
       "    <tr>\n",
       "      <th>0</th>\n",
       "      <td>처음 대학교 들어가는데 입을 옷 코디해주세요 신입생 코디에 어울리게 화사한 스웨터를...</td>\n",
       "      <td>009</td>\n",
       "    </tr>\n",
       "    <tr>\n",
       "      <th>1</th>\n",
       "      <td>처음 대학교 들어가는데 입을 옷 코디해주세요 신입생 코디에 어울리게 화사한 스웨터를...</td>\n",
       "      <td>009</td>\n",
       "    </tr>\n",
       "    <tr>\n",
       "      <th>2</th>\n",
       "      <td>소개팅하러 갈 때 입을만한 옷 추천해주세요 네 그럼 따뜻하고 러블리한 코트 코디는 ...</td>\n",
       "      <td>010</td>\n",
       "    </tr>\n",
       "    <tr>\n",
       "      <th>3</th>\n",
       "      <td>야근할 예정이라 직장에서 좀 편하게 입을 옷을 추천해줘 네 잠시만 기다려주세요 따뜻...</td>\n",
       "      <td>041</td>\n",
       "    </tr>\n",
       "    <tr>\n",
       "      <th>4</th>\n",
       "      <td>추석때 입고 갈 편안하고 얌전한 옷으로 추천해줘 네 잠시만 기다려주세요 깔끔하고 단...</td>\n",
       "      <td>037</td>\n",
       "    </tr>\n",
       "  </tbody>\n",
       "</table>\n",
       "</div>"
      ],
      "text/plain": [
       "                                            contents   id\n",
       "0  처음 대학교 들어가는데 입을 옷 코디해주세요 신입생 코디에 어울리게 화사한 스웨터를...  009\n",
       "1  처음 대학교 들어가는데 입을 옷 코디해주세요 신입생 코디에 어울리게 화사한 스웨터를...  009\n",
       "2  소개팅하러 갈 때 입을만한 옷 추천해주세요 네 그럼 따뜻하고 러블리한 코트 코디는 ...  010\n",
       "3  야근할 예정이라 직장에서 좀 편하게 입을 옷을 추천해줘 네 잠시만 기다려주세요 따뜻...  041\n",
       "4  추석때 입고 갈 편안하고 얌전한 옷으로 추천해줘 네 잠시만 기다려주세요 깔끔하고 단...  037"
      ]
     },
     "metadata": {},
     "execution_count": 24
    }
   ],
   "metadata": {}
  },
  {
   "cell_type": "code",
   "execution_count": 25,
   "source": [
    "for i in del_list:\r\n",
    "    sw_data = sw_data[sw_data[\"id\"] != i]"
   ],
   "outputs": [],
   "metadata": {}
  },
  {
   "cell_type": "code",
   "execution_count": 26,
   "source": [
    "len(sw_data)"
   ],
   "outputs": [
    {
     "output_type": "execute_result",
     "data": {
      "text/plain": [
       "1722"
      ]
     },
     "metadata": {},
     "execution_count": 26
    }
   ],
   "metadata": {}
  },
  {
   "cell_type": "code",
   "execution_count": 27,
   "source": [
    "sw_data.reset_index(drop=True, inplace=True)"
   ],
   "outputs": [],
   "metadata": {}
  },
  {
   "cell_type": "code",
   "execution_count": 28,
   "source": [
    "import matplotlib.pyplot as plt\r\n",
    "plt.bar(Counter(sw_data.id).keys(),Counter(sw_data.id).values(), color='k')"
   ],
   "outputs": [
    {
     "output_type": "execute_result",
     "data": {
      "text/plain": [
       "<BarContainer object of 141 artists>"
      ]
     },
     "metadata": {},
     "execution_count": 28
    },
    {
     "output_type": "display_data",
     "data": {
      "image/png": "[encoded data removed]",
      "text/plain": [
       "<Figure size 432x288 with 1 Axes>"
      ]
     },
     "metadata": {
      "needs_background": "light"
     }
    }
   ],
   "metadata": {}
  },
  {
   "cell_type": "markdown",
   "source": [
    "# 5. 형태소 분석"
   ],
   "metadata": {}
  },
  {
   "cell_type": "markdown",
   "source": [
    "## Mecab 사용"
   ],
   "metadata": {}
  },
  {
   "cell_type": "code",
   "execution_count": 29,
   "source": [
    "from eunjeon import Mecab\r\n",
    "mecab = Mecab()"
   ],
   "outputs": [],
   "metadata": {}
  },
  {
   "cell_type": "code",
   "execution_count": 30,
   "source": [
    "mecab.morphs(sw_data[\"contents\"][0])"
   ],
   "outputs": [
    {
     "output_type": "execute_result",
     "data": {
      "text/plain": [
       "['처음',\n",
       " '대학교',\n",
       " '들어가',\n",
       " '는',\n",
       " '데',\n",
       " '입',\n",
       " '을',\n",
       " '옷',\n",
       " '코디',\n",
       " '해',\n",
       " '주',\n",
       " '세요',\n",
       " '신입',\n",
       " '생',\n",
       " '코디',\n",
       " '에',\n",
       " '어울리',\n",
       " '게',\n",
       " '화사',\n",
       " '한',\n",
       " '스웨터',\n",
       " '를',\n",
       " '추천',\n",
       " '해',\n",
       " '드릴게요',\n",
       " 'SW',\n",
       " '009',\n",
       " '이',\n",
       " '옷',\n",
       " '에',\n",
       " '어울리',\n",
       " '는',\n",
       " '치마',\n",
       " '로',\n",
       " '추천',\n",
       " '해',\n",
       " '주',\n",
       " '세요',\n",
       " '라운드',\n",
       " '네크라인',\n",
       " '여',\n",
       " '밈',\n",
       " '이',\n",
       " '없',\n",
       " '는',\n",
       " '풀오버',\n",
       " '스타일',\n",
       " '전체',\n",
       " '케이블',\n",
       " '조직',\n",
       " '드롭',\n",
       " '숄더',\n",
       " '슬리브',\n",
       " '손등',\n",
       " '까지',\n",
       " '오',\n",
       " '는',\n",
       " '길이',\n",
       " '의',\n",
       " '소매',\n",
       " '몸',\n",
       " '에',\n",
       " '적당히',\n",
       " '맞',\n",
       " '는',\n",
       " '품',\n",
       " '엉덩이',\n",
       " '를',\n",
       " '살짝',\n",
       " '덮',\n",
       " '는',\n",
       " '길',\n",
       " '이',\n",
       " '네크라인',\n",
       " '소매',\n",
       " '끝',\n",
       " '밑단',\n",
       " '에',\n",
       " '고무단',\n",
       " '처리',\n",
       " '레이온',\n",
       " '52',\n",
       " '나일론',\n",
       " '20',\n",
       " '폴리에스터',\n",
       " '28',\n",
       " '꽈배기',\n",
       " '조직',\n",
       " '플레인',\n",
       " '조직',\n",
       " '이',\n",
       " '섞여',\n",
       " '있',\n",
       " '는',\n",
       " '형태',\n",
       " '드라이',\n",
       " '크리',\n",
       " '닝',\n",
       " '단색',\n",
       " '의',\n",
       " '라임색',\n",
       " '브라이트',\n",
       " '톤',\n",
       " '고명',\n",
       " '도',\n",
       " '고',\n",
       " '채도',\n",
       " '의',\n",
       " '옐로우',\n",
       " '그린',\n",
       " '산뜻',\n",
       " '하',\n",
       " '고',\n",
       " '발랄',\n",
       " '한',\n",
       " '느낌',\n",
       " '기본',\n",
       " '의',\n",
       " '단정',\n",
       " '한',\n",
       " '편안',\n",
       " '한',\n",
       " '산뜻',\n",
       " '한',\n",
       " '발랄',\n",
       " '한',\n",
       " '경쾌',\n",
       " '한',\n",
       " '따뜻',\n",
       " '한',\n",
       " '데일리',\n",
       " '룩',\n",
       " '캠퍼스',\n",
       " '룩']"
      ]
     },
     "metadata": {},
     "execution_count": 30
    }
   ],
   "metadata": {}
  },
  {
   "cell_type": "code",
   "execution_count": 31,
   "source": [
    "len(sw_data)"
   ],
   "outputs": [
    {
     "output_type": "execute_result",
     "data": {
      "text/plain": [
       "1722"
      ]
     },
     "metadata": {},
     "execution_count": 31
    }
   ],
   "metadata": {}
  },
  {
   "cell_type": "code",
   "execution_count": 32,
   "source": [
    "x_data = []\r\n",
    "for i in range(len(sw_data)):\r\n",
    "    x_data.append(mecab.morphs(sw_data[\"contents\"][i]))\r\n",
    "\r\n",
    "x_data[0]"
   ],
   "outputs": [
    {
     "output_type": "execute_result",
     "data": {
      "text/plain": [
       "['처음',\n",
       " '대학교',\n",
       " '들어가',\n",
       " '는',\n",
       " '데',\n",
       " '입',\n",
       " '을',\n",
       " '옷',\n",
       " '코디',\n",
       " '해',\n",
       " '주',\n",
       " '세요',\n",
       " '신입',\n",
       " '생',\n",
       " '코디',\n",
       " '에',\n",
       " '어울리',\n",
       " '게',\n",
       " '화사',\n",
       " '한',\n",
       " '스웨터',\n",
       " '를',\n",
       " '추천',\n",
       " '해',\n",
       " '드릴게요',\n",
       " 'SW',\n",
       " '009',\n",
       " '이',\n",
       " '옷',\n",
       " '에',\n",
       " '어울리',\n",
       " '는',\n",
       " '치마',\n",
       " '로',\n",
       " '추천',\n",
       " '해',\n",
       " '주',\n",
       " '세요',\n",
       " '라운드',\n",
       " '네크라인',\n",
       " '여',\n",
       " '밈',\n",
       " '이',\n",
       " '없',\n",
       " '는',\n",
       " '풀오버',\n",
       " '스타일',\n",
       " '전체',\n",
       " '케이블',\n",
       " '조직',\n",
       " '드롭',\n",
       " '숄더',\n",
       " '슬리브',\n",
       " '손등',\n",
       " '까지',\n",
       " '오',\n",
       " '는',\n",
       " '길이',\n",
       " '의',\n",
       " '소매',\n",
       " '몸',\n",
       " '에',\n",
       " '적당히',\n",
       " '맞',\n",
       " '는',\n",
       " '품',\n",
       " '엉덩이',\n",
       " '를',\n",
       " '살짝',\n",
       " '덮',\n",
       " '는',\n",
       " '길',\n",
       " '이',\n",
       " '네크라인',\n",
       " '소매',\n",
       " '끝',\n",
       " '밑단',\n",
       " '에',\n",
       " '고무단',\n",
       " '처리',\n",
       " '레이온',\n",
       " '52',\n",
       " '나일론',\n",
       " '20',\n",
       " '폴리에스터',\n",
       " '28',\n",
       " '꽈배기',\n",
       " '조직',\n",
       " '플레인',\n",
       " '조직',\n",
       " '이',\n",
       " '섞여',\n",
       " '있',\n",
       " '는',\n",
       " '형태',\n",
       " '드라이',\n",
       " '크리',\n",
       " '닝',\n",
       " '단색',\n",
       " '의',\n",
       " '라임색',\n",
       " '브라이트',\n",
       " '톤',\n",
       " '고명',\n",
       " '도',\n",
       " '고',\n",
       " '채도',\n",
       " '의',\n",
       " '옐로우',\n",
       " '그린',\n",
       " '산뜻',\n",
       " '하',\n",
       " '고',\n",
       " '발랄',\n",
       " '한',\n",
       " '느낌',\n",
       " '기본',\n",
       " '의',\n",
       " '단정',\n",
       " '한',\n",
       " '편안',\n",
       " '한',\n",
       " '산뜻',\n",
       " '한',\n",
       " '발랄',\n",
       " '한',\n",
       " '경쾌',\n",
       " '한',\n",
       " '따뜻',\n",
       " '한',\n",
       " '데일리',\n",
       " '룩',\n",
       " '캠퍼스',\n",
       " '룩']"
      ]
     },
     "metadata": {},
     "execution_count": 32
    }
   ],
   "metadata": {}
  },
  {
   "cell_type": "code",
   "execution_count": 33,
   "source": [
    "stopwords = []\r\n",
    "with open('./data/불용어사전.txt', mode='rt', encoding='utf-8') as f:\r\n",
    "    for word in f.readlines():\r\n",
    "        word = word.strip()\r\n",
    "        stopwords.append(word)\r\n",
    "stopwords[0:2]"
   ],
   "outputs": [
    {
     "output_type": "execute_result",
     "data": {
      "text/plain": [
       "['어찌됐든', '그위에']"
      ]
     },
     "metadata": {},
     "execution_count": 33
    }
   ],
   "metadata": {}
  },
  {
   "cell_type": "code",
   "execution_count": 34,
   "source": [
    "X_data = []\r\n",
    "for sentence in x_data: #문장 하나 가져오고 단어 단위로 쪼개기\r\n",
    "    temp_X = [word for word in sentence if not word in stopwords] # 불용어 제거\r\n",
    "    X_data.append(temp_X)\r\n",
    "X_data[0]"
   ],
   "outputs": [
    {
     "output_type": "execute_result",
     "data": {
      "text/plain": [
       "['처음',\n",
       " '대학교',\n",
       " '들어가',\n",
       " '데',\n",
       " '입',\n",
       " '옷',\n",
       " '코디',\n",
       " '주',\n",
       " '세요',\n",
       " '신입',\n",
       " '생',\n",
       " '코디',\n",
       " '어울리',\n",
       " '게',\n",
       " '화사',\n",
       " '스웨터',\n",
       " '추천',\n",
       " '드릴게요',\n",
       " 'SW',\n",
       " '009',\n",
       " '옷',\n",
       " '어울리',\n",
       " '치마',\n",
       " '추천',\n",
       " '주',\n",
       " '세요',\n",
       " '라운드',\n",
       " '네크라인',\n",
       " '밈',\n",
       " '풀오버',\n",
       " '스타일',\n",
       " '전체',\n",
       " '케이블',\n",
       " '조직',\n",
       " '드롭',\n",
       " '숄더',\n",
       " '슬리브',\n",
       " '손등',\n",
       " '길이',\n",
       " '몸',\n",
       " '적당히',\n",
       " '맞',\n",
       " '품',\n",
       " '엉덩이',\n",
       " '살짝',\n",
       " '덮',\n",
       " '길',\n",
       " '네크라인',\n",
       " '끝',\n",
       " '밑단',\n",
       " '고무단',\n",
       " '처리',\n",
       " '레이온',\n",
       " '52',\n",
       " '나일론',\n",
       " '20',\n",
       " '폴리에스터',\n",
       " '28',\n",
       " '꽈배기',\n",
       " '조직',\n",
       " '플레인',\n",
       " '조직',\n",
       " '섞여',\n",
       " '있',\n",
       " '형태',\n",
       " '드라이',\n",
       " '크리',\n",
       " '닝',\n",
       " '단색',\n",
       " '라임색',\n",
       " '브라이트',\n",
       " '톤',\n",
       " '고명',\n",
       " '도',\n",
       " '고',\n",
       " '채도',\n",
       " '옐로우',\n",
       " '그린',\n",
       " '산뜻',\n",
       " '고',\n",
       " '발랄',\n",
       " '느낌',\n",
       " '기본',\n",
       " '단정',\n",
       " '편안',\n",
       " '산뜻',\n",
       " '발랄',\n",
       " '경쾌',\n",
       " '따뜻',\n",
       " '데일리',\n",
       " '룩',\n",
       " '캠퍼스',\n",
       " '룩']"
      ]
     },
     "metadata": {},
     "execution_count": 34
    }
   ],
   "metadata": {}
  },
  {
   "cell_type": "markdown",
   "source": [
    "## 1. 임베딩 레이어 활용"
   ],
   "metadata": {}
  },
  {
   "cell_type": "markdown",
   "source": [
    "### 정수 인코딩"
   ],
   "metadata": {}
  },
  {
   "cell_type": "code",
   "execution_count": 35,
   "source": [
    "from tensorflow.keras.preprocessing.text import Tokenizer\r\n",
    "tokenizer = Tokenizer()\r\n",
    "tokenizer.fit_on_texts(X_data)"
   ],
   "outputs": [],
   "metadata": {}
  },
  {
   "cell_type": "code",
   "execution_count": 36,
   "source": [
    "threshold = 6\r\n",
    "total_cnt = len(tokenizer.word_index) # 단어의 수\r\n",
    "rare_cnt = 0 # 등장 빈도수가 threshold보다 작은 단어의 개수를 카운트\r\n",
    "total_freq = 0 # 훈련 데이터의 전체 단어 빈도수 총 합\r\n",
    "rare_freq = 0 # 등장 빈도수가 threshold보다 작은 단어의 등장 빈도수의 총 합\r\n",
    "\r\n",
    "# 단어와 빈도수의 쌍(pair)을 key와 value로 받는다.\r\n",
    "for key, value in tokenizer.word_counts.items():\r\n",
    "    total_freq = total_freq + value\r\n",
    "\r\n",
    "    # 단어의 등장 빈도수가 threshold보다 작으면\r\n",
    "    if(value < threshold):\r\n",
    "        rare_cnt = rare_cnt + 1\r\n",
    "        rare_freq = rare_freq + value\r\n",
    "\r\n",
    "print('단어 집합(vocabulary)의 크기 :',total_cnt)\r\n",
    "print('등장 빈도가 %s번 이하인 희귀 단어의 수: %s'%(threshold - 1, rare_cnt))\r\n",
    "print(\"단어 집합에서 희귀 단어의 비율:\", (rare_cnt / total_cnt)*100)\r\n",
    "print(\"전체 등장 빈도에서 희귀 단어 등장 빈도 비율:\", (rare_freq / total_freq)*100)"
   ],
   "outputs": [
    {
     "output_type": "stream",
     "name": "stdout",
     "text": [
      "단어 집합(vocabulary)의 크기 : 3495\n",
      "등장 빈도가 5번 이하인 희귀 단어의 수: 1570\n",
      "단어 집합에서 희귀 단어의 비율: 44.92131616595136\n",
      "전체 등장 빈도에서 희귀 단어 등장 빈도 비율: 1.1163176181823977\n"
     ]
    }
   ],
   "metadata": {}
  },
  {
   "cell_type": "code",
   "execution_count": 37,
   "source": [
    "vocab_size = total_cnt - rare_cnt + 1 # tokenizer 함수에 들어 갈 때 영향줘서 1 추가 해야 됨\r\n",
    "print('단어 집합의 크기 :',vocab_size)"
   ],
   "outputs": [
    {
     "output_type": "stream",
     "name": "stdout",
     "text": [
      "단어 집합의 크기 : 1926\n"
     ]
    }
   ],
   "metadata": {}
  },
  {
   "cell_type": "markdown",
   "source": [
    "케라스 토크나이저의 정수 인코딩은 인덱스가 1부터 시작하지만,\n",
    "\n",
    "케라스 원-핫 인코딩에서 배열의 인덱스가 0부터 시작하기 때문에\n",
    "\n",
    "배열의 크기를 실제 단어 집합의 크기보다 +1로 생성해야하므로 미리 +1 선언 "
   ],
   "metadata": {}
  },
  {
   "cell_type": "markdown",
   "source": [
    "### 맨 앞자리는 비어있어야 함 (원 핫 인코딩은 정수 인코딩한 뒤 나오는 정수 값 자리에 1을 넣는 것)"
   ],
   "metadata": {}
  },
  {
   "cell_type": "code",
   "execution_count": 38,
   "source": [
    "tokenizer = Tokenizer(num_words=vocab_size - 1)\r\n",
    "tokenizer.fit_on_texts(X_data)\r\n",
    "len(tokenizer.word_index)"
   ],
   "outputs": [
    {
     "output_type": "execute_result",
     "data": {
      "text/plain": [
       "3495"
      ]
     },
     "metadata": {},
     "execution_count": 38
    }
   ],
   "metadata": {}
  },
  {
   "cell_type": "code",
   "execution_count": 39,
   "source": [
    "X_data = tokenizer.texts_to_sequences(X_data) # 단어에 정수 붙여줄 때 num_word 적용"
   ],
   "outputs": [],
   "metadata": {}
  },
  {
   "cell_type": "markdown",
   "source": [
    "위에서 num_words는 이 데이터에서 등장 빈도 순위로 몇 번째에 해당하는 단어까지만 사용할 것인지 조절\n",
    "\n",
    "예를 들어서 100이란 값을 넣으면, 등장 빈도 순위가 1~100에 해당하는 단어만 사용"
   ],
   "metadata": {}
  },
  {
   "cell_type": "code",
   "execution_count": 40,
   "source": [
    "X_data[1]"
   ],
   "outputs": [
    {
     "output_type": "execute_result",
     "data": {
      "text/plain": [
       "[1390,\n",
       " 1658,\n",
       " 719,\n",
       " 296,\n",
       " 18,\n",
       " 64,\n",
       " 6,\n",
       " 1,\n",
       " 2,\n",
       " 6,\n",
       " 88,\n",
       " 33,\n",
       " 259,\n",
       " 85,\n",
       " 14,\n",
       " 542,\n",
       " 11,\n",
       " 681,\n",
       " 64,\n",
       " 88,\n",
       " 74,\n",
       " 14,\n",
       " 1,\n",
       " 2,\n",
       " 5,\n",
       " 802,\n",
       " 502,\n",
       " 1081,\n",
       " 188,\n",
       " 64,\n",
       " 65,\n",
       " 159,\n",
       " 88,\n",
       " 407,\n",
       " 51,\n",
       " 296,\n",
       " 68,\n",
       " 125,\n",
       " 329,\n",
       " 502,\n",
       " 460,\n",
       " 397,\n",
       " 204,\n",
       " 74,\n",
       " 14,\n",
       " 1,\n",
       " 2,\n",
       " 341,\n",
       " 66,\n",
       " 65,\n",
       " 628,\n",
       " 159,\n",
       " 88,\n",
       " 204,\n",
       " 74,\n",
       " 16,\n",
       " 125,\n",
       " 967,\n",
       " 503,\n",
       " 562,\n",
       " 27,\n",
       " 1659,\n",
       " 33,\n",
       " 74,\n",
       " 583,\n",
       " 8,\n",
       " 19,\n",
       " 27,\n",
       " 125,\n",
       " 741,\n",
       " 1197,\n",
       " 78,\n",
       " 115,\n",
       " 45,\n",
       " 264,\n",
       " 65,\n",
       " 14,\n",
       " 1,\n",
       " 19,\n",
       " 39,\n",
       " 20,\n",
       " 466,\n",
       " 1528,\n",
       " 253,\n",
       " 418,\n",
       " 185,\n",
       " 1171,\n",
       " 23,\n",
       " 4,\n",
       " 354,\n",
       " 750,\n",
       " 326,\n",
       " 33,\n",
       " 3,\n",
       " 128,\n",
       " 97,\n",
       " 793,\n",
       " 750,\n",
       " 14,\n",
       " 1,\n",
       " 2,\n",
       " 1480,\n",
       " 66,\n",
       " 733,\n",
       " 33,\n",
       " 159,\n",
       " 267,\n",
       " 793,\n",
       " 16,\n",
       " 114,\n",
       " 376,\n",
       " 58,\n",
       " 65,\n",
       " 14,\n",
       " 1,\n",
       " 2,\n",
       " 420,\n",
       " 347,\n",
       " 282,\n",
       " 181,\n",
       " 878,\n",
       " 160,\n",
       " 19,\n",
       " 27,\n",
       " 420,\n",
       " 347,\n",
       " 14,\n",
       " 1,\n",
       " 2,\n",
       " 10,\n",
       " 65,\n",
       " 733,\n",
       " 33,\n",
       " 159,\n",
       " 88,\n",
       " 254,\n",
       " 127,\n",
       " 16,\n",
       " 28,\n",
       " 473,\n",
       " 419,\n",
       " 45,\n",
       " 26,\n",
       " 6,\n",
       " 1391,\n",
       " 1314,\n",
       " 73,\n",
       " 3,\n",
       " 27,\n",
       " 1055,\n",
       " 1817,\n",
       " 879,\n",
       " 127,\n",
       " 26,\n",
       " 6,\n",
       " 1391,\n",
       " 1817,\n",
       " 324,\n",
       " 8,\n",
       " 19,\n",
       " 27,\n",
       " 11,\n",
       " 681,\n",
       " 8,\n",
       " 45,\n",
       " 266,\n",
       " 77,\n",
       " 13,\n",
       " 44,\n",
       " 43,\n",
       " 10,\n",
       " 26,\n",
       " 449,\n",
       " 15,\n",
       " 109,\n",
       " 75,\n",
       " 84,\n",
       " 110,\n",
       " 72,\n",
       " 93,\n",
       " 936,\n",
       " 441,\n",
       " 70,\n",
       " 67,\n",
       " 142,\n",
       " 35,\n",
       " 37,\n",
       " 13,\n",
       " 53,\n",
       " 24,\n",
       " 140,\n",
       " 47,\n",
       " 323,\n",
       " 1080,\n",
       " 164,\n",
       " 338,\n",
       " 582,\n",
       " 431,\n",
       " 200,\n",
       " 15,\n",
       " 82,\n",
       " 15,\n",
       " 685,\n",
       " 3,\n",
       " 143,\n",
       " 168,\n",
       " 217,\n",
       " 218,\n",
       " 60,\n",
       " 1816,\n",
       " 530,\n",
       " 116,\n",
       " 412,\n",
       " 65,\n",
       " 5,\n",
       " 237,\n",
       " 1148,\n",
       " 351,\n",
       " 387,\n",
       " 5,\n",
       " 246,\n",
       " 9,\n",
       " 254,\n",
       " 105,\n",
       " 25,\n",
       " 387,\n",
       " 246,\n",
       " 269,\n",
       " 17,\n",
       " 123,\n",
       " 30,\n",
       " 187,\n",
       " 30]"
      ]
     },
     "metadata": {},
     "execution_count": 40
    }
   ],
   "metadata": {}
  },
  {
   "cell_type": "code",
   "execution_count": 41,
   "source": [
    "print('문장 최대 길이 :',max(len(l) for l in X_data))\r\n",
    "print('문장의 평균 길이 :',sum(map(len, X_data))/len(X_data))\r\n",
    "plt.hist([len(s) for s in X_data], bins=50, color='k')\r\n",
    "plt.xlabel('length of samples')\r\n",
    "plt.ylabel('number of samples')\r\n",
    "plt.show()\r\n",
    "plt.close()"
   ],
   "outputs": [
    {
     "output_type": "stream",
     "name": "stdout",
     "text": [
      "문장 최대 길이 : 379\n",
      "문장의 평균 길이 : 180.1405342624855\n"
     ]
    },
    {
     "output_type": "display_data",
     "data": {
      "image/png": "[encoded data removed]",
      "text/plain": [
       "<Figure size 432x288 with 1 Axes>"
      ]
     },
     "metadata": {
      "needs_background": "light"
     }
    }
   ],
   "metadata": {}
  },
  {
   "cell_type": "code",
   "execution_count": 42,
   "source": [
    "def below_threshold_len(max_len, nested_list):\r\n",
    "  cnt = 0\r\n",
    "  for s in nested_list:\r\n",
    "    if(len(s) <= max_len):\r\n",
    "        cnt = cnt + 1\r\n",
    "  print('전체 샘플 중 길이가 %s 이하인 샘플의 비율: %s'%(max_len, (cnt / len(nested_list))*100))\r\n",
    "\r\n",
    "max_len = 300\r\n",
    "below_threshold_len(max_len, X_data)"
   ],
   "outputs": [
    {
     "output_type": "stream",
     "name": "stdout",
     "text": [
      "전체 샘플 중 길이가 300 이하인 샘플의 비율: 99.30313588850174\n"
     ]
    }
   ],
   "metadata": {}
  },
  {
   "cell_type": "markdown",
   "source": [
    "## padding"
   ],
   "metadata": {}
  },
  {
   "cell_type": "code",
   "execution_count": 43,
   "source": [
    "from tensorflow.keras.preprocessing.sequence import pad_sequences\r\n",
    "X_data = pad_sequences(X_data, maxlen = max_len)"
   ],
   "outputs": [],
   "metadata": {}
  },
  {
   "cell_type": "code",
   "execution_count": 44,
   "source": [
    "print(len(X_data[1]))\r\n",
    "X_data[1]"
   ],
   "outputs": [
    {
     "output_type": "stream",
     "name": "stdout",
     "text": [
      "300\n"
     ]
    },
    {
     "output_type": "execute_result",
     "data": {
      "text/plain": [
       "array([   0,    0,    0,    0,    0,    0,    0,    0,    0,    0,    0,\n",
       "          0,    0,    0,    0,    0,    0,    0,    0,    0,    0,    0,\n",
       "          0,    0,    0,    0,    0,    0,    0,    0,    0,    0,    0,\n",
       "          0,    0,    0,    0,    0,    0,    0,    0,    0,    0,    0,\n",
       "          0,    0,    0,    0,    0,    0,    0,    0,    0,    0,    0,\n",
       "          0,    0,    0,    0,    0,    0,    0,    0,    0,    0,    0,\n",
       "          0, 1390, 1658,  719,  296,   18,   64,    6,    1,    2,    6,\n",
       "         88,   33,  259,   85,   14,  542,   11,  681,   64,   88,   74,\n",
       "         14,    1,    2,    5,  802,  502, 1081,  188,   64,   65,  159,\n",
       "         88,  407,   51,  296,   68,  125,  329,  502,  460,  397,  204,\n",
       "         74,   14,    1,    2,  341,   66,   65,  628,  159,   88,  204,\n",
       "         74,   16,  125,  967,  503,  562,   27, 1659,   33,   74,  583,\n",
       "          8,   19,   27,  125,  741, 1197,   78,  115,   45,  264,   65,\n",
       "         14,    1,   19,   39,   20,  466, 1528,  253,  418,  185, 1171,\n",
       "         23,    4,  354,  750,  326,   33,    3,  128,   97,  793,  750,\n",
       "         14,    1,    2, 1480,   66,  733,   33,  159,  267,  793,   16,\n",
       "        114,  376,   58,   65,   14,    1,    2,  420,  347,  282,  181,\n",
       "        878,  160,   19,   27,  420,  347,   14,    1,    2,   10,   65,\n",
       "        733,   33,  159,   88,  254,  127,   16,   28,  473,  419,   45,\n",
       "         26,    6, 1391, 1314,   73,    3,   27, 1055, 1817,  879,  127,\n",
       "         26,    6, 1391, 1817,  324,    8,   19,   27,   11,  681,    8,\n",
       "         45,  266,   77,   13,   44,   43,   10,   26,  449,   15,  109,\n",
       "         75,   84,  110,   72,   93,  936,  441,   70,   67,  142,   35,\n",
       "         37,   13,   53,   24,  140,   47,  323, 1080,  164,  338,  582,\n",
       "        431,  200,   15,   82,   15,  685,    3,  143,  168,  217,  218,\n",
       "         60, 1816,  530,  116,  412,   65,    5,  237, 1148,  351,  387,\n",
       "          5,  246,    9,  254,  105,   25,  387,  246,  269,   17,  123,\n",
       "         30,  187,   30])"
      ]
     },
     "metadata": {},
     "execution_count": 44
    }
   ],
   "metadata": {}
  },
  {
   "cell_type": "markdown",
   "source": [
    "# 6. LSTM 돌리기 "
   ],
   "metadata": {}
  },
  {
   "cell_type": "code",
   "execution_count": 45,
   "source": [
    "from tensorflow.keras.layers import Embedding, Dense, GRU\r\n",
    "from tensorflow.keras.models import Sequential\r\n",
    "from tensorflow.keras.models import load_model\r\n",
    "from tensorflow.keras.callbacks import EarlyStopping, ModelCheckpoint\r\n",
    "from sklearn.model_selection import train_test_split\r\n",
    "from tensorflow.keras.utils import to_categorical"
   ],
   "outputs": [],
   "metadata": {}
  },
  {
   "cell_type": "code",
   "execution_count": 46,
   "source": [
    "X = X_data\r\n",
    "y = sw_data.id.tolist()"
   ],
   "outputs": [],
   "metadata": {}
  },
  {
   "cell_type": "code",
   "execution_count": 47,
   "source": [
    "X[1]"
   ],
   "outputs": [
    {
     "output_type": "execute_result",
     "data": {
      "text/plain": [
       "array([   0,    0,    0,    0,    0,    0,    0,    0,    0,    0,    0,\n",
       "          0,    0,    0,    0,    0,    0,    0,    0,    0,    0,    0,\n",
       "          0,    0,    0,    0,    0,    0,    0,    0,    0,    0,    0,\n",
       "          0,    0,    0,    0,    0,    0,    0,    0,    0,    0,    0,\n",
       "          0,    0,    0,    0,    0,    0,    0,    0,    0,    0,    0,\n",
       "          0,    0,    0,    0,    0,    0,    0,    0,    0,    0,    0,\n",
       "          0, 1390, 1658,  719,  296,   18,   64,    6,    1,    2,    6,\n",
       "         88,   33,  259,   85,   14,  542,   11,  681,   64,   88,   74,\n",
       "         14,    1,    2,    5,  802,  502, 1081,  188,   64,   65,  159,\n",
       "         88,  407,   51,  296,   68,  125,  329,  502,  460,  397,  204,\n",
       "         74,   14,    1,    2,  341,   66,   65,  628,  159,   88,  204,\n",
       "         74,   16,  125,  967,  503,  562,   27, 1659,   33,   74,  583,\n",
       "          8,   19,   27,  125,  741, 1197,   78,  115,   45,  264,   65,\n",
       "         14,    1,   19,   39,   20,  466, 1528,  253,  418,  185, 1171,\n",
       "         23,    4,  354,  750,  326,   33,    3,  128,   97,  793,  750,\n",
       "         14,    1,    2, 1480,   66,  733,   33,  159,  267,  793,   16,\n",
       "        114,  376,   58,   65,   14,    1,    2,  420,  347,  282,  181,\n",
       "        878,  160,   19,   27,  420,  347,   14,    1,    2,   10,   65,\n",
       "        733,   33,  159,   88,  254,  127,   16,   28,  473,  419,   45,\n",
       "         26,    6, 1391, 1314,   73,    3,   27, 1055, 1817,  879,  127,\n",
       "         26,    6, 1391, 1817,  324,    8,   19,   27,   11,  681,    8,\n",
       "         45,  266,   77,   13,   44,   43,   10,   26,  449,   15,  109,\n",
       "         75,   84,  110,   72,   93,  936,  441,   70,   67,  142,   35,\n",
       "         37,   13,   53,   24,  140,   47,  323, 1080,  164,  338,  582,\n",
       "        431,  200,   15,   82,   15,  685,    3,  143,  168,  217,  218,\n",
       "         60, 1816,  530,  116,  412,   65,    5,  237, 1148,  351,  387,\n",
       "          5,  246,    9,  254,  105,   25,  387,  246,  269,   17,  123,\n",
       "         30,  187,   30])"
      ]
     },
     "metadata": {},
     "execution_count": 47
    }
   ],
   "metadata": {}
  },
  {
   "cell_type": "code",
   "execution_count": 48,
   "source": [
    "y[1]"
   ],
   "outputs": [
    {
     "output_type": "execute_result",
     "data": {
      "text/plain": [
       "'009'"
      ]
     },
     "metadata": {},
     "execution_count": 48
    }
   ],
   "metadata": {}
  },
  {
   "cell_type": "code",
   "execution_count": 49,
   "source": [
    "print(len(X),len(y))"
   ],
   "outputs": [
    {
     "output_type": "stream",
     "name": "stdout",
     "text": [
      "1722 1722\n"
     ]
    }
   ],
   "metadata": {}
  },
  {
   "cell_type": "code",
   "execution_count": 50,
   "source": [
    "y = to_categorical(y)"
   ],
   "outputs": [],
   "metadata": {}
  },
  {
   "cell_type": "code",
   "execution_count": 51,
   "source": [
    "print(X.shape, y.shape)"
   ],
   "outputs": [
    {
     "output_type": "stream",
     "name": "stdout",
     "text": [
      "(1722, 300) (1722, 161)\n"
     ]
    }
   ],
   "metadata": {}
  },
  {
   "cell_type": "code",
   "execution_count": 52,
   "source": [
    "x_train, x_test, y_train, y_test = train_test_split(X, y,test_size=0.3, random_state=777, stratify=y) #추천 한 번밖에 안된 애들 있어서 stratify 안됨"
   ],
   "outputs": [],
   "metadata": {}
  },
  {
   "cell_type": "code",
   "execution_count": 53,
   "source": [
    "num_class = int(max(sw_data.id)) + 1"
   ],
   "outputs": [],
   "metadata": {}
  },
  {
   "cell_type": "code",
   "execution_count": 54,
   "source": [
    "from tensorflow.keras.layers import LSTM"
   ],
   "outputs": [],
   "metadata": {}
  },
  {
   "cell_type": "code",
   "execution_count": 55,
   "source": [
    "model = Sequential()\r\n",
    "model.add(Embedding(vocab_size, max_len))\r\n",
    "model.add(LSTM(max_len))\r\n",
    "model.add(Dense(num_class, activation='softmax'))\r\n",
    "\r\n",
    "model.summary()"
   ],
   "outputs": [
    {
     "output_type": "stream",
     "name": "stdout",
     "text": [
      "Model: \"sequential\"\n",
      "_________________________________________________________________\n",
      "Layer (type)                 Output Shape              Param #   \n",
      "=================================================================\n",
      "embedding (Embedding)        (None, None, 300)         577800    \n",
      "_________________________________________________________________\n",
      "lstm (LSTM)                  (None, 300)               721200    \n",
      "_________________________________________________________________\n",
      "dense (Dense)                (None, 161)               48461     \n",
      "=================================================================\n",
      "Total params: 1,347,461\n",
      "Trainable params: 1,347,461\n",
      "Non-trainable params: 0\n",
      "_________________________________________________________________\n"
     ]
    }
   ],
   "metadata": {}
  },
  {
   "cell_type": "code",
   "execution_count": 56,
   "source": [
    "es = EarlyStopping(monitor='val_loss', mode='min', verbose=1, patience=6)\r\n",
    "mc = ModelCheckpoint('sw_model_lstm.h5', monitor='val_acc', mode='max', verbose=1, save_best_only=True)"
   ],
   "outputs": [],
   "metadata": {}
  },
  {
   "cell_type": "code",
   "execution_count": 57,
   "source": [
    "model.compile(optimizer='adam', loss='categorical_crossentropy', metrics=['acc'])\r\n",
    "history = model.fit(x_train, y_train, epochs=10, callbacks=[es, mc], batch_size=32, validation_split=0.2)\r\n",
    "\r\n",
    "print(\"테스트 셋 체크\")\r\n",
    "loaded_model = load_model('sw_model_lstm.h5')\r\n",
    "print(\"\\n 테스트 정확도: %.4f\" % (loaded_model.evaluate(x_test, y_test)[1]))"
   ],
   "outputs": [
    {
     "output_type": "stream",
     "name": "stdout",
     "text": [
      "Epoch 1/10\n",
      "31/31 [==============================] - ETA: 0s - loss: 4.7676 - acc: 0.1162\n",
      "Epoch 00001: val_acc improved from -inf to 0.06224, saving model to sw_model_lstm.h5\n",
      "31/31 [==============================] - 45s 1s/step - loss: 4.7676 - acc: 0.1162 - val_loss: 4.3863 - val_acc: 0.0622\n",
      "Epoch 2/10\n",
      "31/31 [==============================] - ETA: 0s - loss: 3.5352 - acc: 0.2624\n",
      "Epoch 00002: val_acc improved from 0.06224 to 0.46058, saving model to sw_model_lstm.h5\n",
      "31/31 [==============================] - 46s 1s/step - loss: 3.5352 - acc: 0.2624 - val_loss: 2.6771 - val_acc: 0.4606\n",
      "Epoch 3/10\n",
      "31/31 [==============================] - ETA: 0s - loss: 2.0647 - acc: 0.5519\n",
      "Epoch 00003: val_acc improved from 0.46058 to 0.63485, saving model to sw_model_lstm.h5\n",
      "31/31 [==============================] - 49s 2s/step - loss: 2.0647 - acc: 0.5519 - val_loss: 1.6931 - val_acc: 0.6349\n",
      "Epoch 4/10\n",
      "31/31 [==============================] - ETA: 0s - loss: 1.1803 - acc: 0.7521\n",
      "Epoch 00004: val_acc improved from 0.63485 to 0.77178, saving model to sw_model_lstm.h5\n",
      "31/31 [==============================] - 48s 2s/step - loss: 1.1803 - acc: 0.7521 - val_loss: 1.0910 - val_acc: 0.7718\n",
      "Epoch 5/10\n",
      "31/31 [==============================] - ETA: 0s - loss: 0.7276 - acc: 0.8579\n",
      "Epoch 00005: val_acc improved from 0.77178 to 0.83817, saving model to sw_model_lstm.h5\n",
      "31/31 [==============================] - 58s 2s/step - loss: 0.7276 - acc: 0.8579 - val_loss: 0.8161 - val_acc: 0.8382\n",
      "Epoch 6/10\n",
      "31/31 [==============================] - ETA: 0s - loss: 0.4644 - acc: 0.9170\n",
      "Epoch 00006: val_acc improved from 0.83817 to 0.88797, saving model to sw_model_lstm.h5\n",
      "31/31 [==============================] - 63s 2s/step - loss: 0.4644 - acc: 0.9170 - val_loss: 0.5350 - val_acc: 0.8880\n",
      "Epoch 7/10\n",
      "31/31 [==============================] - ETA: 0s - loss: 0.2482 - acc: 0.9544\n",
      "Epoch 00007: val_acc improved from 0.88797 to 0.92946, saving model to sw_model_lstm.h5\n",
      "31/31 [==============================] - 61s 2s/step - loss: 0.2482 - acc: 0.9544 - val_loss: 0.3856 - val_acc: 0.9295\n",
      "Epoch 8/10\n",
      "31/31 [==============================] - ETA: 0s - loss: 0.1368 - acc: 0.9782\n",
      "Epoch 00008: val_acc improved from 0.92946 to 0.97510, saving model to sw_model_lstm.h5\n",
      "31/31 [==============================] - 57s 2s/step - loss: 0.1368 - acc: 0.9782 - val_loss: 0.2527 - val_acc: 0.9751\n",
      "Epoch 9/10\n",
      "31/31 [==============================] - ETA: 0s - loss: 0.0909 - acc: 0.9886\n",
      "Epoch 00009: val_acc did not improve from 0.97510\n",
      "31/31 [==============================] - 51s 2s/step - loss: 0.0909 - acc: 0.9886 - val_loss: 0.2202 - val_acc: 0.9751\n",
      "Epoch 10/10\n",
      "31/31 [==============================] - ETA: 0s - loss: 0.0484 - acc: 0.9927\n",
      "Epoch 00010: val_acc improved from 0.97510 to 0.98340, saving model to sw_model_lstm.h5\n",
      "31/31 [==============================] - 51s 2s/step - loss: 0.0484 - acc: 0.9927 - val_loss: 0.1723 - val_acc: 0.9834\n",
      "테스트 셋 체크\n",
      "17/17 [==============================] - 11s 637ms/step - loss: 0.0855 - acc: 0.9903\n",
      "\n",
      " 테스트 정확도: 0.9903\n"
     ]
    }
   ],
   "metadata": {}
  },
  {
   "cell_type": "markdown",
   "source": [
    "Cannot convert a symbolic Tensor -> numpy 버전 1.19.5로 바꿔줌\n",
    "\n",
    "https://wikidocs.net/45101"
   ],
   "metadata": {}
  },
  {
   "cell_type": "code",
   "execution_count": 58,
   "source": [
    "# list all data in history\r\n",
    "print(history.history.keys())\r\n",
    "# summarize history for accuracy\r\n",
    "plt.plot(history.history['acc'])\r\n",
    "plt.plot(history.history['val_acc'])\r\n",
    "plt.title('model accuracy')\r\n",
    "plt.ylabel('accuracy')\r\n",
    "plt.xlabel('epoch')\r\n",
    "plt.legend(['train', 'test'], loc='upper left')\r\n",
    "plt.show()\r\n",
    "# summarize history for loss\r\n",
    "plt.plot(history.history['loss'])\r\n",
    "plt.plot(history.history['val_loss'])\r\n",
    "plt.title('model loss')\r\n",
    "plt.ylabel('loss')\r\n",
    "plt.xlabel('epoch')\r\n",
    "plt.legend(['train', 'test'], loc='upper left')\r\n",
    "plt.show()"
   ],
   "outputs": [
    {
     "output_type": "stream",
     "name": "stdout",
     "text": [
      "dict_keys(['loss', 'acc', 'val_loss', 'val_acc'])\n"
     ]
    },
    {
     "output_type": "display_data",
     "data": {
      "image/png": "[encoded data removed]",
      "text/plain": [
       "<Figure size 432x288 with 1 Axes>"
      ]
     },
     "metadata": {
      "needs_background": "light"
     }
    },
    {
     "output_type": "display_data",
     "data": {
      "image/png": "[encoded data removed]",
      "text/plain": [
       "<Figure size 432x288 with 1 Axes>"
      ]
     },
     "metadata": {
      "needs_background": "light"
     }
    }
   ],
   "metadata": {}
  },
  {
   "cell_type": "code",
   "execution_count": null,
   "source": [],
   "outputs": [],
   "metadata": {}
  }
 ],
 "metadata": {
  "orig_nbformat": 4,
  "language_info": {
   "name": "python",
   "version": "3.8.11",
   "mimetype": "text/x-python",
   "codemirror_mode": {
    "name": "ipython",
    "version": 3
   },
   "pygments_lexer": "ipython3",
   "nbconvert_exporter": "python",
   "file_extension": ".py"
  },
  "kernelspec": {
   "name": "python3",
   "display_name": "Python 3.8.11 64-bit ('project': conda)"
  },
  "interpreter": {
   "hash": "3c72b3a1d2099a1008e3bc500dd268b9e9c6cd21287ce07be0cbf18dc1c8e707"
  }
 },
 "nbformat": 4,
 "nbformat_minor": 2
}