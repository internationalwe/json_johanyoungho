{
 "cells": [
  {
   "cell_type": "code",
   "execution_count": 1,
   "source": [
    "import pandas as pd\n",
    "\n",
    "ddata = pd.read_csv(\"./data/ddata.txt\", encoding=\"euc-kr\", sep=\"\\t\", names=[\"num\",\"speaker\",\"contents\",\"tags\"])\n",
    "mdata = pd.read_csv(\"./data/mdata.txt\", encoding=\"euc-kr\", sep=\"\\t\", names=[\"id\",\"part\",\"category\",\"exptype\",\"exp\"])\n",
    "\n",
    "ddata.head()"
   ],
   "outputs": [
    {
     "output_type": "execute_result",
     "data": {
      "text/html": [
       "<div>\n",
       "<style scoped>\n",
       "    .dataframe tbody tr th:only-of-type {\n",
       "        vertical-align: middle;\n",
       "    }\n",
       "\n",
       "    .dataframe tbody tr th {\n",
       "        vertical-align: top;\n",
       "    }\n",
       "\n",
       "    .dataframe thead th {\n",
       "        text-align: right;\n",
       "    }\n",
       "</style>\n",
       "<table border=\"1\" class=\"dataframe\">\n",
       "  <thead>\n",
       "    <tr style=\"text-align: right;\">\n",
       "      <th></th>\n",
       "      <th>num</th>\n",
       "      <th>speaker</th>\n",
       "      <th>contents</th>\n",
       "      <th>tags</th>\n",
       "    </tr>\n",
       "  </thead>\n",
       "  <tbody>\n",
       "    <tr>\n",
       "      <th>0</th>\n",
       "      <td>0</td>\n",
       "      <td>&lt;CO&gt;</td>\n",
       "      <td>어서오세요. 코디봇입니다. 무엇을 도와드릴까요?</td>\n",
       "      <td>INTRO</td>\n",
       "    </tr>\n",
       "    <tr>\n",
       "      <th>1</th>\n",
       "      <td>1</td>\n",
       "      <td>&lt;US&gt;</td>\n",
       "      <td>처음 대학교 들어가는데 입을 옷 코디해주세요.</td>\n",
       "      <td>NaN</td>\n",
       "    </tr>\n",
       "    <tr>\n",
       "      <th>2</th>\n",
       "      <td>2</td>\n",
       "      <td>&lt;CO&gt;</td>\n",
       "      <td>신입생 코디에 어울리게 화사한 스웨터를 추천해드릴게요.</td>\n",
       "      <td>EXP_RES_SITUATION;EXP_RES_DESCRIPTION</td>\n",
       "    </tr>\n",
       "    <tr>\n",
       "      <th>3</th>\n",
       "      <td>3</td>\n",
       "      <td>&lt;AC&gt;</td>\n",
       "      <td>SW-009</td>\n",
       "      <td>NaN</td>\n",
       "    </tr>\n",
       "    <tr>\n",
       "      <th>4</th>\n",
       "      <td>4</td>\n",
       "      <td>&lt;US&gt;</td>\n",
       "      <td>이 옷에 어울리는 치마로 추천해주세요.</td>\n",
       "      <td>USER_SUCCESS</td>\n",
       "    </tr>\n",
       "  </tbody>\n",
       "</table>\n",
       "</div>"
      ],
      "text/plain": [
       "   num speaker                         contents  \\\n",
       "0    0    <CO>       어서오세요. 코디봇입니다. 무엇을 도와드릴까요?   \n",
       "1    1    <US>        처음 대학교 들어가는데 입을 옷 코디해주세요.   \n",
       "2    2    <CO>   신입생 코디에 어울리게 화사한 스웨터를 추천해드릴게요.   \n",
       "3    3    <AC>                           SW-009   \n",
       "4    4    <US>            이 옷에 어울리는 치마로 추천해주세요.   \n",
       "\n",
       "                                    tags  \n",
       "0                                  INTRO  \n",
       "1                                    NaN  \n",
       "2  EXP_RES_SITUATION;EXP_RES_DESCRIPTION  \n",
       "3                                    NaN  \n",
       "4                           USER_SUCCESS  "
      ]
     },
     "metadata": {},
     "execution_count": 1
    }
   ],
   "metadata": {}
  },
  {
   "cell_type": "markdown",
   "source": [
    "# 1. 전체 대화셋 개수 카운트"
   ],
   "metadata": {}
  },
  {
   "cell_type": "code",
   "execution_count": 2,
   "source": [
    "dial_num = 0\n",
    "\n",
    "for i in range(1, len(ddata)):\n",
    "    if ddata.loc[i, \"num\"] == 0:\n",
    "        dial_num += 1\n",
    "print(\"총 대화셋 수: \",dial_num)"
   ],
   "outputs": [
    {
     "output_type": "stream",
     "name": "stdout",
     "text": [
      "총 대화셋 수:  7235\n"
     ]
    }
   ],
   "metadata": {}
  },
  {
   "cell_type": "markdown",
   "source": [
    "# 2. Mdata 합치기"
   ],
   "metadata": {}
  },
  {
   "cell_type": "markdown",
   "source": [
    "## - Part 살려서 합치기"
   ],
   "metadata": {}
  },
  {
   "cell_type": "code",
   "execution_count": 3,
   "source": [
    "c_mdata = pd.DataFrame({\"id\":[0],\"exp\":[None]})\n",
    "c_mdata.drop(0, axis=0, inplace=True)\n",
    "c_mdata"
   ],
   "outputs": [
    {
     "output_type": "execute_result",
     "data": {
      "text/html": [
       "<div>\n",
       "<style scoped>\n",
       "    .dataframe tbody tr th:only-of-type {\n",
       "        vertical-align: middle;\n",
       "    }\n",
       "\n",
       "    .dataframe tbody tr th {\n",
       "        vertical-align: top;\n",
       "    }\n",
       "\n",
       "    .dataframe thead th {\n",
       "        text-align: right;\n",
       "    }\n",
       "</style>\n",
       "<table border=\"1\" class=\"dataframe\">\n",
       "  <thead>\n",
       "    <tr style=\"text-align: right;\">\n",
       "      <th></th>\n",
       "      <th>id</th>\n",
       "      <th>exp</th>\n",
       "    </tr>\n",
       "  </thead>\n",
       "  <tbody>\n",
       "  </tbody>\n",
       "</table>\n",
       "</div>"
      ],
      "text/plain": [
       "Empty DataFrame\n",
       "Columns: [id, exp]\n",
       "Index: []"
      ]
     },
     "metadata": {},
     "execution_count": 3
    }
   ],
   "metadata": {}
  },
  {
   "cell_type": "code",
   "execution_count": 4,
   "source": [
    "id = \"\"\n",
    "idx = 0\n",
    "for i in range(len(mdata)):\n",
    "    if id == mdata.loc[i, \"id\"]:\n",
    "        c_mdata.loc[c_mdata.index[(c_mdata[\"id\"] == id)].tolist().pop(),\"exp\"] = c_mdata.loc[c_mdata.index[(c_mdata[\"id\"] == id)].tolist().pop(),\"exp\"] + \" \" + mdata.loc[i, \"exp\"]\n",
    "    \n",
    "    else:\n",
    "        id = mdata.loc[i, \"id\"]\n",
    "        c_mdata.loc[i, \"id\"] = id\n",
    "        c_mdata.loc[i, \"exp\"] = mdata.loc[i, \"exp\"]\n",
    "\n",
    "c_mdata.head()"
   ],
   "outputs": [
    {
     "output_type": "execute_result",
     "data": {
      "text/html": [
       "<div>\n",
       "<style scoped>\n",
       "    .dataframe tbody tr th:only-of-type {\n",
       "        vertical-align: middle;\n",
       "    }\n",
       "\n",
       "    .dataframe tbody tr th {\n",
       "        vertical-align: top;\n",
       "    }\n",
       "\n",
       "    .dataframe thead th {\n",
       "        text-align: right;\n",
       "    }\n",
       "</style>\n",
       "<table border=\"1\" class=\"dataframe\">\n",
       "  <thead>\n",
       "    <tr style=\"text-align: right;\">\n",
       "      <th></th>\n",
       "      <th>id</th>\n",
       "      <th>exp</th>\n",
       "    </tr>\n",
       "  </thead>\n",
       "  <tbody>\n",
       "    <tr>\n",
       "      <th>0</th>\n",
       "      <td>BL-001</td>\n",
       "      <td>단추 여밈의 전체 오픈형 스탠드 칼라와 브이넥 네크라인의 결합스타일 손목까지 내려오...</td>\n",
       "    </tr>\n",
       "    <tr>\n",
       "      <th>20</th>\n",
       "      <td>BL-002</td>\n",
       "      <td>넓은 셔츠칼라 네크라인 앞중심에 반 오픈 끈여밈있는 스타일 드롭숄더 퍼프형 소매로 ...</td>\n",
       "    </tr>\n",
       "    <tr>\n",
       "      <th>38</th>\n",
       "      <td>BL-003</td>\n",
       "      <td>앞 중심에 단추 여밈 칼라가 없는 넓고 깊게 파인 브이넥 엉덩이 밑으로 내려오는 긴...</td>\n",
       "    </tr>\n",
       "    <tr>\n",
       "      <th>63</th>\n",
       "      <td>BL-004</td>\n",
       "      <td>앞중심에 단추 여밈 칼라가 없는 라운드넥으로 골반 위에서 끝나는 짧은 기장 손목, ...</td>\n",
       "    </tr>\n",
       "    <tr>\n",
       "      <th>84</th>\n",
       "      <td>BL-005</td>\n",
       "      <td>앞단추 여밈의 전체 오픈형 칼라가 없는 라운드넥크라인 엉덩이 위에서 끝나는 짧은 기...</td>\n",
       "    </tr>\n",
       "  </tbody>\n",
       "</table>\n",
       "</div>"
      ],
      "text/plain": [
       "         id                                                exp\n",
       "0   BL-001   단추 여밈의 전체 오픈형 스탠드 칼라와 브이넥 네크라인의 결합스타일 손목까지 내려오...\n",
       "20  BL-002   넓은 셔츠칼라 네크라인 앞중심에 반 오픈 끈여밈있는 스타일 드롭숄더 퍼프형 소매로 ...\n",
       "38  BL-003   앞 중심에 단추 여밈 칼라가 없는 넓고 깊게 파인 브이넥 엉덩이 밑으로 내려오는 긴...\n",
       "63  BL-004   앞중심에 단추 여밈 칼라가 없는 라운드넥으로 골반 위에서 끝나는 짧은 기장 손목, ...\n",
       "84  BL-005   앞단추 여밈의 전체 오픈형 칼라가 없는 라운드넥크라인 엉덩이 위에서 끝나는 짧은 기..."
      ]
     },
     "metadata": {},
     "execution_count": 4
    }
   ],
   "metadata": {}
  },
  {
   "cell_type": "code",
   "execution_count": 5,
   "source": [
    "for i in range(len(c_mdata)): # id 뒤에 공백 없애기\n",
    "    c_mdata.iloc[i].id = c_mdata.iloc[i].id.strip()\n",
    "\n",
    "print(c_mdata.iloc[0].id)\n",
    "c_mdata.reset_index(drop=True,inplace=True)\n",
    "c_mdata.head()"
   ],
   "outputs": [
    {
     "output_type": "stream",
     "name": "stdout",
     "text": [
      "BL-001\n"
     ]
    },
    {
     "output_type": "execute_result",
     "data": {
      "text/html": [
       "<div>\n",
       "<style scoped>\n",
       "    .dataframe tbody tr th:only-of-type {\n",
       "        vertical-align: middle;\n",
       "    }\n",
       "\n",
       "    .dataframe tbody tr th {\n",
       "        vertical-align: top;\n",
       "    }\n",
       "\n",
       "    .dataframe thead th {\n",
       "        text-align: right;\n",
       "    }\n",
       "</style>\n",
       "<table border=\"1\" class=\"dataframe\">\n",
       "  <thead>\n",
       "    <tr style=\"text-align: right;\">\n",
       "      <th></th>\n",
       "      <th>id</th>\n",
       "      <th>exp</th>\n",
       "    </tr>\n",
       "  </thead>\n",
       "  <tbody>\n",
       "    <tr>\n",
       "      <th>0</th>\n",
       "      <td>BL-001</td>\n",
       "      <td>단추 여밈의 전체 오픈형 스탠드 칼라와 브이넥 네크라인의 결합스타일 손목까지 내려오...</td>\n",
       "    </tr>\n",
       "    <tr>\n",
       "      <th>1</th>\n",
       "      <td>BL-002</td>\n",
       "      <td>넓은 셔츠칼라 네크라인 앞중심에 반 오픈 끈여밈있는 스타일 드롭숄더 퍼프형 소매로 ...</td>\n",
       "    </tr>\n",
       "    <tr>\n",
       "      <th>2</th>\n",
       "      <td>BL-003</td>\n",
       "      <td>앞 중심에 단추 여밈 칼라가 없는 넓고 깊게 파인 브이넥 엉덩이 밑으로 내려오는 긴...</td>\n",
       "    </tr>\n",
       "    <tr>\n",
       "      <th>3</th>\n",
       "      <td>BL-004</td>\n",
       "      <td>앞중심에 단추 여밈 칼라가 없는 라운드넥으로 골반 위에서 끝나는 짧은 기장 손목, ...</td>\n",
       "    </tr>\n",
       "    <tr>\n",
       "      <th>4</th>\n",
       "      <td>BL-005</td>\n",
       "      <td>앞단추 여밈의 전체 오픈형 칼라가 없는 라운드넥크라인 엉덩이 위에서 끝나는 짧은 기...</td>\n",
       "    </tr>\n",
       "  </tbody>\n",
       "</table>\n",
       "</div>"
      ],
      "text/plain": [
       "       id                                                exp\n",
       "0  BL-001  단추 여밈의 전체 오픈형 스탠드 칼라와 브이넥 네크라인의 결합스타일 손목까지 내려오...\n",
       "1  BL-002  넓은 셔츠칼라 네크라인 앞중심에 반 오픈 끈여밈있는 스타일 드롭숄더 퍼프형 소매로 ...\n",
       "2  BL-003  앞 중심에 단추 여밈 칼라가 없는 넓고 깊게 파인 브이넥 엉덩이 밑으로 내려오는 긴...\n",
       "3  BL-004  앞중심에 단추 여밈 칼라가 없는 라운드넥으로 골반 위에서 끝나는 짧은 기장 손목, ...\n",
       "4  BL-005  앞단추 여밈의 전체 오픈형 칼라가 없는 라운드넥크라인 엉덩이 위에서 끝나는 짧은 기..."
      ]
     },
     "metadata": {},
     "execution_count": 5
    }
   ],
   "metadata": {}
  },
  {
   "cell_type": "markdown",
   "source": [
    "# 3. NaN, Null 값 확인"
   ],
   "metadata": {}
  },
  {
   "cell_type": "code",
   "execution_count": 6,
   "source": [
    "ddata.drop(ddata.index[ddata.tags == \"INTRO\"].tolist(), axis=0, inplace=True)\n",
    "ddata.reset_index(drop=True, inplace=True)\n",
    "ddata[ddata.tags == \"INTRO\"]"
   ],
   "outputs": [
    {
     "output_type": "execute_result",
     "data": {
      "text/html": [
       "<div>\n",
       "<style scoped>\n",
       "    .dataframe tbody tr th:only-of-type {\n",
       "        vertical-align: middle;\n",
       "    }\n",
       "\n",
       "    .dataframe tbody tr th {\n",
       "        vertical-align: top;\n",
       "    }\n",
       "\n",
       "    .dataframe thead th {\n",
       "        text-align: right;\n",
       "    }\n",
       "</style>\n",
       "<table border=\"1\" class=\"dataframe\">\n",
       "  <thead>\n",
       "    <tr style=\"text-align: right;\">\n",
       "      <th></th>\n",
       "      <th>num</th>\n",
       "      <th>speaker</th>\n",
       "      <th>contents</th>\n",
       "      <th>tags</th>\n",
       "    </tr>\n",
       "  </thead>\n",
       "  <tbody>\n",
       "  </tbody>\n",
       "</table>\n",
       "</div>"
      ],
      "text/plain": [
       "Empty DataFrame\n",
       "Columns: [num, speaker, contents, tags]\n",
       "Index: []"
      ]
     },
     "metadata": {},
     "execution_count": 6
    }
   ],
   "metadata": {}
  },
  {
   "cell_type": "code",
   "execution_count": 7,
   "source": [
    "ddata.isnull().sum()"
   ],
   "outputs": [
    {
     "output_type": "execute_result",
     "data": {
      "text/plain": [
       "num             0\n",
       "speaker         0\n",
       "contents        0\n",
       "tags        51927\n",
       "dtype: int64"
      ]
     },
     "metadata": {},
     "execution_count": 7
    }
   ],
   "metadata": {}
  },
  {
   "cell_type": "code",
   "execution_count": 8,
   "source": [
    "ddata.isna().sum()"
   ],
   "outputs": [
    {
     "output_type": "execute_result",
     "data": {
      "text/plain": [
       "num             0\n",
       "speaker         0\n",
       "contents        0\n",
       "tags        51927\n",
       "dtype: int64"
      ]
     },
     "metadata": {},
     "execution_count": 8
    }
   ],
   "metadata": {}
  },
  {
   "cell_type": "code",
   "execution_count": 9,
   "source": [
    "ddata.fillna(\"\", inplace=True)\n",
    "ddata.isna().sum()"
   ],
   "outputs": [
    {
     "output_type": "execute_result",
     "data": {
      "text/plain": [
       "num         0\n",
       "speaker     0\n",
       "contents    0\n",
       "tags        0\n",
       "dtype: int64"
      ]
     },
     "metadata": {},
     "execution_count": 9
    }
   ],
   "metadata": {}
  },
  {
   "cell_type": "code",
   "execution_count": 10,
   "source": [
    "mdata.isnull().sum()"
   ],
   "outputs": [
    {
     "output_type": "execute_result",
     "data": {
      "text/plain": [
       "id          0\n",
       "part        0\n",
       "category    0\n",
       "exptype     0\n",
       "exp         0\n",
       "dtype: int64"
      ]
     },
     "metadata": {},
     "execution_count": 10
    }
   ],
   "metadata": {}
  },
  {
   "cell_type": "code",
   "execution_count": 11,
   "source": [
    "c_mdata.isnull().sum()"
   ],
   "outputs": [
    {
     "output_type": "execute_result",
     "data": {
      "text/plain": [
       "id     0\n",
       "exp    0\n",
       "dtype: int64"
      ]
     },
     "metadata": {},
     "execution_count": 11
    }
   ],
   "metadata": {}
  },
  {
   "cell_type": "markdown",
   "source": [
    "# 4. 추천 성공 의상 아이디 종류 및 빈도 카운트 "
   ],
   "metadata": {}
  },
  {
   "cell_type": "markdown",
   "source": [
    "## 한 번에 추천해도 실패하면 전부 실패로 달기"
   ],
   "metadata": {}
  },
  {
   "cell_type": "code",
   "execution_count": 12,
   "source": [
    "c_data = pd.DataFrame({\"contents\":[None], \"id\":[\"xx-xxx\"]})\n",
    "c_data.drop(0,axis=0,inplace=True)\n",
    "c_data.head()"
   ],
   "outputs": [
    {
     "output_type": "execute_result",
     "data": {
      "text/html": [
       "<div>\n",
       "<style scoped>\n",
       "    .dataframe tbody tr th:only-of-type {\n",
       "        vertical-align: middle;\n",
       "    }\n",
       "\n",
       "    .dataframe tbody tr th {\n",
       "        vertical-align: top;\n",
       "    }\n",
       "\n",
       "    .dataframe thead th {\n",
       "        text-align: right;\n",
       "    }\n",
       "</style>\n",
       "<table border=\"1\" class=\"dataframe\">\n",
       "  <thead>\n",
       "    <tr style=\"text-align: right;\">\n",
       "      <th></th>\n",
       "      <th>contents</th>\n",
       "      <th>id</th>\n",
       "    </tr>\n",
       "  </thead>\n",
       "  <tbody>\n",
       "  </tbody>\n",
       "</table>\n",
       "</div>"
      ],
      "text/plain": [
       "Empty DataFrame\n",
       "Columns: [contents, id]\n",
       "Index: []"
      ]
     },
     "metadata": {},
     "execution_count": 12
    }
   ],
   "metadata": {}
  },
  {
   "cell_type": "markdown",
   "source": [
    "<코드 동작 원리>\n",
    "<br>\n",
    "\n",
    "대화문 하나씩 받아온 다음\n",
    "- AC 태그 문장이면 일단 의상 변수에 저장,\n",
    "- user_success 태그 문장이면\n",
    "\n",
    "   - 변수에 저장된 의상이 하나면\n",
    "\n",
    "      - 바로 대화문 변수랑 의상 변수 및 의상 메타데이터 합쳐서 저장 -> 레이블(id 컬럼에 저장)은 의상 코드가 됨\n",
    "\n",
    "   - 변수에 저장된 의상의 여러 개면\n",
    "\n",
    "      - 의상을 하나의 코드 단위로 쪼개서 대화문 변수랑 의상 메타데이터 합쳐서 저장\n",
    "      \n",
    "-  둘 다 아니고 일반 대화문이면 대화문 변수에 저장"
   ],
   "metadata": {}
  },
  {
   "cell_type": "code",
   "execution_count": 13,
   "source": [
    "dial = ddata.loc[0, \"contents\"].strip()\n",
    "ac = \"\"\n",
    "\n",
    "for i in range(1,len(ddata)):\n",
    "    cur_sen = ddata.loc[i,\"contents\"].strip()\n",
    "\n",
    "    if ddata.loc[i, \"num\"] > ddata.loc[i-1, \"num\"]: # 이전 대화셋에 포함된 문장인지 확인\n",
    "        \n",
    "        if ddata.loc[i,\"speaker\"] == \"<AC>\": # case 1. 의상 아이디가 나온 경우\n",
    "            if len(ac) > 1:\n",
    "                ac = ac + \" \" + cur_sen # 의상 아이디 저장\n",
    "            else:\n",
    "                ac = cur_sen\n",
    "\n",
    "        elif \"USER_SUCCESS\" == ddata.loc[i,\"tags\"]: # case 2. USER_SUCCESS 태그가 나온 경우\n",
    "            if 0 < len(ac) < 7: # 의상을 하나만 추천한 경우\n",
    "                dial = dial + \" \" + ac + \" \" + cur_sen\n",
    "                c_data.loc[i, \"contents\"] =  dial + \" \" + c_mdata.loc[c_mdata.id == ac].exp.values[0]\n",
    "                c_data.loc[i, \"id\"] = ac\n",
    "                ac = \"\"\n",
    "\n",
    "            elif len(ac) == 0:\n",
    "                dial = dial + \" \" + cur_sen\n",
    "\n",
    "            else: # 의상을 한 번에 여러 개 추천한 경우\n",
    "                idx_cnt = 0\n",
    "                for one_ac in ac.split():\n",
    "                    c_data.loc[i + idx_cnt, \"contents\"] =  dial + \" \" + one_ac + \" \"+ cur_sen + \" \" + c_mdata.loc[c_mdata.id == one_ac].exp.values[0]\n",
    "                    c_data.loc[i + idx_cnt, \"id\"] = one_ac\n",
    "                    idx_cnt += 1\n",
    "                dial = dial + \" \" + ac + \" \" + cur_sen    \n",
    "                ac = \"\"\n",
    "        \n",
    "        elif \"USER_FAIL\" in ddata.loc[i,\"tags\"]:\n",
    "            dial = dial + \" \" + ac + \" \" + cur_sen\n",
    "            ac = \"\"\n",
    "\n",
    "        else: # case 3. 그냥 대화문인 경우\n",
    "            dial = dial + \" \" + cur_sen\n",
    "    \n",
    "    else: #새로운 대화셋 시작이면 초기화\n",
    "        dial = cur_sen\n",
    "        ac = \"\""
   ],
   "outputs": [],
   "metadata": {}
  },
  {
   "cell_type": "code",
   "execution_count": 14,
   "source": [
    "print(\"전체 데이터 수: \", len(c_data))\n",
    "c_data.head()"
   ],
   "outputs": [
    {
     "output_type": "stream",
     "name": "stdout",
     "text": [
      "전체 데이터 수:  34303\n"
     ]
    },
    {
     "output_type": "execute_result",
     "data": {
      "text/html": [
       "<div>\n",
       "<style scoped>\n",
       "    .dataframe tbody tr th:only-of-type {\n",
       "        vertical-align: middle;\n",
       "    }\n",
       "\n",
       "    .dataframe tbody tr th {\n",
       "        vertical-align: top;\n",
       "    }\n",
       "\n",
       "    .dataframe thead th {\n",
       "        text-align: right;\n",
       "    }\n",
       "</style>\n",
       "<table border=\"1\" class=\"dataframe\">\n",
       "  <thead>\n",
       "    <tr style=\"text-align: right;\">\n",
       "      <th></th>\n",
       "      <th>contents</th>\n",
       "      <th>id</th>\n",
       "    </tr>\n",
       "  </thead>\n",
       "  <tbody>\n",
       "    <tr>\n",
       "      <th>3</th>\n",
       "      <td>처음 대학교 들어가는데 입을 옷 코디해주세요. 신입생 코디에 어울리게 화사한 스웨터...</td>\n",
       "      <td>SW-009</td>\n",
       "    </tr>\n",
       "    <tr>\n",
       "      <th>12</th>\n",
       "      <td>처음 대학교 들어가는데 입을 옷 코디해주세요. 신입생 코디에 어울리게 화사한 스웨터...</td>\n",
       "      <td>SK-053</td>\n",
       "    </tr>\n",
       "    <tr>\n",
       "      <th>17</th>\n",
       "      <td>처음 대학교 들어가는데 입을 옷 코디해주세요. 신입생 코디에 어울리게 화사한 스웨터...</td>\n",
       "      <td>CT-019</td>\n",
       "    </tr>\n",
       "    <tr>\n",
       "      <th>22</th>\n",
       "      <td>처음 대학교 들어가는데 입을 옷 코디해주세요. 신입생 코디에 어울리게 화사한 스웨터...</td>\n",
       "      <td>SE-039</td>\n",
       "    </tr>\n",
       "    <tr>\n",
       "      <th>26</th>\n",
       "      <td>처음 대학교 들어가는데 입을 옷 코디해주세요. 신입생 코디에 어울리게 화사한 스웨터...</td>\n",
       "      <td>CT-019</td>\n",
       "    </tr>\n",
       "  </tbody>\n",
       "</table>\n",
       "</div>"
      ],
      "text/plain": [
       "                                             contents      id\n",
       "3   처음 대학교 들어가는데 입을 옷 코디해주세요. 신입생 코디에 어울리게 화사한 스웨터...  SW-009\n",
       "12  처음 대학교 들어가는데 입을 옷 코디해주세요. 신입생 코디에 어울리게 화사한 스웨터...  SK-053\n",
       "17  처음 대학교 들어가는데 입을 옷 코디해주세요. 신입생 코디에 어울리게 화사한 스웨터...  CT-019\n",
       "22  처음 대학교 들어가는데 입을 옷 코디해주세요. 신입생 코디에 어울리게 화사한 스웨터...  SE-039\n",
       "26  처음 대학교 들어가는데 입을 옷 코디해주세요. 신입생 코디에 어울리게 화사한 스웨터...  CT-019"
      ]
     },
     "metadata": {},
     "execution_count": 14
    }
   ],
   "metadata": {}
  },
  {
   "cell_type": "code",
   "execution_count": 15,
   "source": [
    "c_data.reset_index(drop=True ,inplace=True)\n",
    "c_data.head()"
   ],
   "outputs": [
    {
     "output_type": "execute_result",
     "data": {
      "text/html": [
       "<div>\n",
       "<style scoped>\n",
       "    .dataframe tbody tr th:only-of-type {\n",
       "        vertical-align: middle;\n",
       "    }\n",
       "\n",
       "    .dataframe tbody tr th {\n",
       "        vertical-align: top;\n",
       "    }\n",
       "\n",
       "    .dataframe thead th {\n",
       "        text-align: right;\n",
       "    }\n",
       "</style>\n",
       "<table border=\"1\" class=\"dataframe\">\n",
       "  <thead>\n",
       "    <tr style=\"text-align: right;\">\n",
       "      <th></th>\n",
       "      <th>contents</th>\n",
       "      <th>id</th>\n",
       "    </tr>\n",
       "  </thead>\n",
       "  <tbody>\n",
       "    <tr>\n",
       "      <th>0</th>\n",
       "      <td>처음 대학교 들어가는데 입을 옷 코디해주세요. 신입생 코디에 어울리게 화사한 스웨터...</td>\n",
       "      <td>SW-009</td>\n",
       "    </tr>\n",
       "    <tr>\n",
       "      <th>1</th>\n",
       "      <td>처음 대학교 들어가는데 입을 옷 코디해주세요. 신입생 코디에 어울리게 화사한 스웨터...</td>\n",
       "      <td>SK-053</td>\n",
       "    </tr>\n",
       "    <tr>\n",
       "      <th>2</th>\n",
       "      <td>처음 대학교 들어가는데 입을 옷 코디해주세요. 신입생 코디에 어울리게 화사한 스웨터...</td>\n",
       "      <td>CT-019</td>\n",
       "    </tr>\n",
       "    <tr>\n",
       "      <th>3</th>\n",
       "      <td>처음 대학교 들어가는데 입을 옷 코디해주세요. 신입생 코디에 어울리게 화사한 스웨터...</td>\n",
       "      <td>SE-039</td>\n",
       "    </tr>\n",
       "    <tr>\n",
       "      <th>4</th>\n",
       "      <td>처음 대학교 들어가는데 입을 옷 코디해주세요. 신입생 코디에 어울리게 화사한 스웨터...</td>\n",
       "      <td>CT-019</td>\n",
       "    </tr>\n",
       "  </tbody>\n",
       "</table>\n",
       "</div>"
      ],
      "text/plain": [
       "                                            contents      id\n",
       "0  처음 대학교 들어가는데 입을 옷 코디해주세요. 신입생 코디에 어울리게 화사한 스웨터...  SW-009\n",
       "1  처음 대학교 들어가는데 입을 옷 코디해주세요. 신입생 코디에 어울리게 화사한 스웨터...  SK-053\n",
       "2  처음 대학교 들어가는데 입을 옷 코디해주세요. 신입생 코디에 어울리게 화사한 스웨터...  CT-019\n",
       "3  처음 대학교 들어가는데 입을 옷 코디해주세요. 신입생 코디에 어울리게 화사한 스웨터...  SE-039\n",
       "4  처음 대학교 들어가는데 입을 옷 코디해주세요. 신입생 코디에 어울리게 화사한 스웨터...  CT-019"
      ]
     },
     "metadata": {},
     "execution_count": 15
    }
   ],
   "metadata": {}
  },
  {
   "cell_type": "code",
   "execution_count": 16,
   "source": [
    "c_data.loc[0].contents"
   ],
   "outputs": [
    {
     "output_type": "execute_result",
     "data": {
      "text/plain": [
       "'처음 대학교 들어가는데 입을 옷 코디해주세요. 신입생 코디에 어울리게 화사한 스웨터를 추천해드릴게요. SW-009 이 옷에 어울리는 치마로 추천해주세요. 라운드 네크라인 여밈이 없는 풀오버 스타일 전체 케이블 조직 드롭숄더 슬리브 손등까지 오는 길이의 소매 몸에 적당히 맞는 품 엉덩이를 살짝 덮는 길이 네크라인, 소매 끝, 밑단에 고무단 처리 레이온52%,나일론20%,폴리에스터28% 꽈배기 조직, 플레인 조직이 섞여 있는 형태 드라이 크리닝 단색의 라임색 브라이트톤(고명도 고채도)의 옐로우 그린 산뜻하고 발랄한 느낌 기본의 단정한 편안한 산뜻한 발랄한 경쾌한 따뜻한 데일리룩 캠퍼스룩'"
      ]
     },
     "metadata": {},
     "execution_count": 16
    }
   ],
   "metadata": {}
  },
  {
   "cell_type": "code",
   "execution_count": 17,
   "source": [
    "vt_data = pd.DataFrame({\"contents\":[None], \"id\":[\"xx-xxx\"]})\n",
    "vt_data.drop(0,axis=0,inplace=True)\n",
    "vt_data.head()"
   ],
   "outputs": [
    {
     "output_type": "execute_result",
     "data": {
      "text/html": [
       "<div>\n",
       "<style scoped>\n",
       "    .dataframe tbody tr th:only-of-type {\n",
       "        vertical-align: middle;\n",
       "    }\n",
       "\n",
       "    .dataframe tbody tr th {\n",
       "        vertical-align: top;\n",
       "    }\n",
       "\n",
       "    .dataframe thead th {\n",
       "        text-align: right;\n",
       "    }\n",
       "</style>\n",
       "<table border=\"1\" class=\"dataframe\">\n",
       "  <thead>\n",
       "    <tr style=\"text-align: right;\">\n",
       "      <th></th>\n",
       "      <th>contents</th>\n",
       "      <th>id</th>\n",
       "    </tr>\n",
       "  </thead>\n",
       "  <tbody>\n",
       "  </tbody>\n",
       "</table>\n",
       "</div>"
      ],
      "text/plain": [
       "Empty DataFrame\n",
       "Columns: [contents, id]\n",
       "Index: []"
      ]
     },
     "metadata": {},
     "execution_count": 17
    }
   ],
   "metadata": {}
  },
  {
   "cell_type": "code",
   "execution_count": 18,
   "source": [
    "for i in range(len(c_data)):\n",
    "    if \"VT\" in c_data[\"id\"][i][0:2]:\n",
    "        vt_data = vt_data.append(c_data.iloc[i])\n",
    "\n",
    "vt_data.reset_index(drop=True, inplace=True)\n",
    "print(\"데이터 개수\",len(vt_data))\n",
    "vt_data.head()"
   ],
   "outputs": [
    {
     "output_type": "stream",
     "name": "stdout",
     "text": [
      "데이터 개수 272\n"
     ]
    },
    {
     "output_type": "execute_result",
     "data": {
      "text/html": [
       "<div>\n",
       "<style scoped>\n",
       "    .dataframe tbody tr th:only-of-type {\n",
       "        vertical-align: middle;\n",
       "    }\n",
       "\n",
       "    .dataframe tbody tr th {\n",
       "        vertical-align: top;\n",
       "    }\n",
       "\n",
       "    .dataframe thead th {\n",
       "        text-align: right;\n",
       "    }\n",
       "</style>\n",
       "<table border=\"1\" class=\"dataframe\">\n",
       "  <thead>\n",
       "    <tr style=\"text-align: right;\">\n",
       "      <th></th>\n",
       "      <th>contents</th>\n",
       "      <th>id</th>\n",
       "    </tr>\n",
       "  </thead>\n",
       "  <tbody>\n",
       "    <tr>\n",
       "      <th>0</th>\n",
       "      <td>크리스마스에 소개팅 할 거예요. 귀여워보이는 옷으로 주세요. 네. 잠시만 기다려주세...</td>\n",
       "      <td>VT-029</td>\n",
       "    </tr>\n",
       "    <tr>\n",
       "      <th>1</th>\n",
       "      <td>면접 때 입을만한 오피스룩을 찾고 있는데, 단정하면서도 세련된 오피스룩이 있을까요?...</td>\n",
       "      <td>VT-021</td>\n",
       "    </tr>\n",
       "    <tr>\n",
       "      <th>2</th>\n",
       "      <td>면접 때 입을만한 오피스룩을 찾고 있는데, 단정하면서도 세련된 오피스룩이 있을까요?...</td>\n",
       "      <td>VT-021</td>\n",
       "    </tr>\n",
       "    <tr>\n",
       "      <th>3</th>\n",
       "      <td>지역 꽃축제에 진행을 맡게 되었어요. 나이에 맞는 깔끔한 옷을 원해요. 깔끔한 스커...</td>\n",
       "      <td>VT-024</td>\n",
       "    </tr>\n",
       "    <tr>\n",
       "      <th>4</th>\n",
       "      <td>이번 주말에 자전거 타러 갈 때 입을 옷 추천바랍니다. 활동하시기에 부담 없이 편안...</td>\n",
       "      <td>VT-004</td>\n",
       "    </tr>\n",
       "  </tbody>\n",
       "</table>\n",
       "</div>"
      ],
      "text/plain": [
       "                                            contents      id\n",
       "0  크리스마스에 소개팅 할 거예요. 귀여워보이는 옷으로 주세요. 네. 잠시만 기다려주세...  VT-029\n",
       "1  면접 때 입을만한 오피스룩을 찾고 있는데, 단정하면서도 세련된 오피스룩이 있을까요?...  VT-021\n",
       "2  면접 때 입을만한 오피스룩을 찾고 있는데, 단정하면서도 세련된 오피스룩이 있을까요?...  VT-021\n",
       "3  지역 꽃축제에 진행을 맡게 되었어요. 나이에 맞는 깔끔한 옷을 원해요. 깔끔한 스커...  VT-024\n",
       "4  이번 주말에 자전거 타러 갈 때 입을 옷 추천바랍니다. 활동하시기에 부담 없이 편안...  VT-004"
      ]
     },
     "metadata": {},
     "execution_count": 18
    }
   ],
   "metadata": {}
  },
  {
   "cell_type": "code",
   "execution_count": 19,
   "source": [
    "vt_data[\"contents\"] = vt_data[\"contents\"].str.replace(\"[^A-Za-z0-9ㄱ-ㅎㅏ-ㅣ가-힣 ]\",\"\")\n",
    "vt_data.head()"
   ],
   "outputs": [
    {
     "output_type": "stream",
     "name": "stderr",
     "text": [
      "<ipython-input-19-58d1bec83174>:1: FutureWarning: The default value of regex will change from True to False in a future version.\n",
      "  vt_data[\"contents\"] = vt_data[\"contents\"].str.replace(\"[^A-Za-z0-9ㄱ-ㅎㅏ-ㅣ가-힣 ]\",\"\")\n"
     ]
    },
    {
     "output_type": "execute_result",
     "data": {
      "text/html": [
       "<div>\n",
       "<style scoped>\n",
       "    .dataframe tbody tr th:only-of-type {\n",
       "        vertical-align: middle;\n",
       "    }\n",
       "\n",
       "    .dataframe tbody tr th {\n",
       "        vertical-align: top;\n",
       "    }\n",
       "\n",
       "    .dataframe thead th {\n",
       "        text-align: right;\n",
       "    }\n",
       "</style>\n",
       "<table border=\"1\" class=\"dataframe\">\n",
       "  <thead>\n",
       "    <tr style=\"text-align: right;\">\n",
       "      <th></th>\n",
       "      <th>contents</th>\n",
       "      <th>id</th>\n",
       "    </tr>\n",
       "  </thead>\n",
       "  <tbody>\n",
       "    <tr>\n",
       "      <th>0</th>\n",
       "      <td>크리스마스에 소개팅 할 거예요 귀여워보이는 옷으로 주세요 네 잠시만 기다려주세요 핑...</td>\n",
       "      <td>VT-029</td>\n",
       "    </tr>\n",
       "    <tr>\n",
       "      <th>1</th>\n",
       "      <td>면접 때 입을만한 오피스룩을 찾고 있는데 단정하면서도 세련된 오피스룩이 있을까요 상...</td>\n",
       "      <td>VT-021</td>\n",
       "    </tr>\n",
       "    <tr>\n",
       "      <th>2</th>\n",
       "      <td>면접 때 입을만한 오피스룩을 찾고 있는데 단정하면서도 세련된 오피스룩이 있을까요 상...</td>\n",
       "      <td>VT-021</td>\n",
       "    </tr>\n",
       "    <tr>\n",
       "      <th>3</th>\n",
       "      <td>지역 꽃축제에 진행을 맡게 되었어요 나이에 맞는 깔끔한 옷을 원해요 깔끔한 스커트에...</td>\n",
       "      <td>VT-024</td>\n",
       "    </tr>\n",
       "    <tr>\n",
       "      <th>4</th>\n",
       "      <td>이번 주말에 자전거 타러 갈 때 입을 옷 추천바랍니다 활동하시기에 부담 없이 편안한...</td>\n",
       "      <td>VT-004</td>\n",
       "    </tr>\n",
       "  </tbody>\n",
       "</table>\n",
       "</div>"
      ],
      "text/plain": [
       "                                            contents      id\n",
       "0  크리스마스에 소개팅 할 거예요 귀여워보이는 옷으로 주세요 네 잠시만 기다려주세요 핑...  VT-029\n",
       "1  면접 때 입을만한 오피스룩을 찾고 있는데 단정하면서도 세련된 오피스룩이 있을까요 상...  VT-021\n",
       "2  면접 때 입을만한 오피스룩을 찾고 있는데 단정하면서도 세련된 오피스룩이 있을까요 상...  VT-021\n",
       "3  지역 꽃축제에 진행을 맡게 되었어요 나이에 맞는 깔끔한 옷을 원해요 깔끔한 스커트에...  VT-024\n",
       "4  이번 주말에 자전거 타러 갈 때 입을 옷 추천바랍니다 활동하시기에 부담 없이 편안한...  VT-004"
      ]
     },
     "metadata": {},
     "execution_count": 19
    }
   ],
   "metadata": {}
  },
  {
   "cell_type": "code",
   "execution_count": 20,
   "source": [
    "vt_data[\"id\"] = vt_data[\"id\"].str.replace(\"[^0-9]\",\"\")\n",
    "\n",
    "vt_data.head()"
   ],
   "outputs": [
    {
     "output_type": "stream",
     "name": "stderr",
     "text": [
      "<ipython-input-20-cc1cdf373f86>:1: FutureWarning: The default value of regex will change from True to False in a future version.\n",
      "  vt_data[\"id\"] = vt_data[\"id\"].str.replace(\"[^0-9]\",\"\")\n"
     ]
    },
    {
     "output_type": "execute_result",
     "data": {
      "text/html": [
       "<div>\n",
       "<style scoped>\n",
       "    .dataframe tbody tr th:only-of-type {\n",
       "        vertical-align: middle;\n",
       "    }\n",
       "\n",
       "    .dataframe tbody tr th {\n",
       "        vertical-align: top;\n",
       "    }\n",
       "\n",
       "    .dataframe thead th {\n",
       "        text-align: right;\n",
       "    }\n",
       "</style>\n",
       "<table border=\"1\" class=\"dataframe\">\n",
       "  <thead>\n",
       "    <tr style=\"text-align: right;\">\n",
       "      <th></th>\n",
       "      <th>contents</th>\n",
       "      <th>id</th>\n",
       "    </tr>\n",
       "  </thead>\n",
       "  <tbody>\n",
       "    <tr>\n",
       "      <th>0</th>\n",
       "      <td>크리스마스에 소개팅 할 거예요 귀여워보이는 옷으로 주세요 네 잠시만 기다려주세요 핑...</td>\n",
       "      <td>029</td>\n",
       "    </tr>\n",
       "    <tr>\n",
       "      <th>1</th>\n",
       "      <td>면접 때 입을만한 오피스룩을 찾고 있는데 단정하면서도 세련된 오피스룩이 있을까요 상...</td>\n",
       "      <td>021</td>\n",
       "    </tr>\n",
       "    <tr>\n",
       "      <th>2</th>\n",
       "      <td>면접 때 입을만한 오피스룩을 찾고 있는데 단정하면서도 세련된 오피스룩이 있을까요 상...</td>\n",
       "      <td>021</td>\n",
       "    </tr>\n",
       "    <tr>\n",
       "      <th>3</th>\n",
       "      <td>지역 꽃축제에 진행을 맡게 되었어요 나이에 맞는 깔끔한 옷을 원해요 깔끔한 스커트에...</td>\n",
       "      <td>024</td>\n",
       "    </tr>\n",
       "    <tr>\n",
       "      <th>4</th>\n",
       "      <td>이번 주말에 자전거 타러 갈 때 입을 옷 추천바랍니다 활동하시기에 부담 없이 편안한...</td>\n",
       "      <td>004</td>\n",
       "    </tr>\n",
       "  </tbody>\n",
       "</table>\n",
       "</div>"
      ],
      "text/plain": [
       "                                            contents   id\n",
       "0  크리스마스에 소개팅 할 거예요 귀여워보이는 옷으로 주세요 네 잠시만 기다려주세요 핑...  029\n",
       "1  면접 때 입을만한 오피스룩을 찾고 있는데 단정하면서도 세련된 오피스룩이 있을까요 상...  021\n",
       "2  면접 때 입을만한 오피스룩을 찾고 있는데 단정하면서도 세련된 오피스룩이 있을까요 상...  021\n",
       "3  지역 꽃축제에 진행을 맡게 되었어요 나이에 맞는 깔끔한 옷을 원해요 깔끔한 스커트에...  024\n",
       "4  이번 주말에 자전거 타러 갈 때 입을 옷 추천바랍니다 활동하시기에 부담 없이 편안한...  004"
      ]
     },
     "metadata": {},
     "execution_count": 20
    }
   ],
   "metadata": {}
  },
  {
   "cell_type": "code",
   "execution_count": 21,
   "source": [
    "from collections import Counter\n",
    "temp = vt_data[\"id\"].tolist()\n",
    "type_count = dict(Counter(temp))\n",
    "type_count"
   ],
   "outputs": [
    {
     "output_type": "execute_result",
     "data": {
      "text/plain": [
       "{'029': 15,\n",
       " '021': 10,\n",
       " '024': 3,\n",
       " '004': 16,\n",
       " '023': 10,\n",
       " '030': 4,\n",
       " '022': 1,\n",
       " '002': 7,\n",
       " '018': 5,\n",
       " '003': 2,\n",
       " '014': 4,\n",
       " '012': 4,\n",
       " '015': 4,\n",
       " '001': 7,\n",
       " '031': 2,\n",
       " '026': 7,\n",
       " '010': 9,\n",
       " '009': 5,\n",
       " '017': 4,\n",
       " '020': 4,\n",
       " '008': 5,\n",
       " '007': 2,\n",
       " '027': 2,\n",
       " '005': 3,\n",
       " '013': 2,\n",
       " '028': 1,\n",
       " '006': 1,\n",
       " '025': 1,\n",
       " '061': 10,\n",
       " '051': 12,\n",
       " '034': 2,\n",
       " '056': 12,\n",
       " '046': 1,\n",
       " '037': 2,\n",
       " '059': 4,\n",
       " '042': 4,\n",
       " '055': 4,\n",
       " '058': 1,\n",
       " '050': 1,\n",
       " '035': 4,\n",
       " '060': 3,\n",
       " '039': 5,\n",
       " '064': 2,\n",
       " '072': 4,\n",
       " '103': 2,\n",
       " '052': 2,\n",
       " '063': 4,\n",
       " '084': 1,\n",
       " '105': 1,\n",
       " '067': 7,\n",
       " '076': 2,\n",
       " '109': 5,\n",
       " '077': 3,\n",
       " '065': 3,\n",
       " '111': 4,\n",
       " '075': 3,\n",
       " '019': 2,\n",
       " '085': 1,\n",
       " '094': 1,\n",
       " '106': 3,\n",
       " '066': 1,\n",
       " '016': 4,\n",
       " '068': 2,\n",
       " '057': 2,\n",
       " '093': 2,\n",
       " '062': 1,\n",
       " '011': 1,\n",
       " '104': 1,\n",
       " '033': 1,\n",
       " '107': 1,\n",
       " '080': 1}"
      ]
     },
     "metadata": {},
     "execution_count": 21
    }
   ],
   "metadata": {}
  },
  {
   "cell_type": "code",
   "execution_count": 22,
   "source": [
    "len(type_count)"
   ],
   "outputs": [
    {
     "output_type": "execute_result",
     "data": {
      "text/plain": [
       "71"
      ]
     },
     "metadata": {},
     "execution_count": 22
    }
   ],
   "metadata": {}
  },
  {
   "cell_type": "code",
   "execution_count": 23,
   "source": [
    "del_list = []\n",
    "for i in type_count.keys():\n",
    "    if type_count.get(i) == 1:\n",
    "        del_list.append(i)\n",
    "del_list"
   ],
   "outputs": [
    {
     "output_type": "execute_result",
     "data": {
      "text/plain": [
       "['022',\n",
       " '028',\n",
       " '006',\n",
       " '025',\n",
       " '046',\n",
       " '058',\n",
       " '050',\n",
       " '084',\n",
       " '105',\n",
       " '085',\n",
       " '094',\n",
       " '066',\n",
       " '062',\n",
       " '011',\n",
       " '104',\n",
       " '033',\n",
       " '107',\n",
       " '080']"
      ]
     },
     "metadata": {},
     "execution_count": 23
    }
   ],
   "metadata": {}
  },
  {
   "cell_type": "code",
   "execution_count": 24,
   "source": [
    "vt_data.head()"
   ],
   "outputs": [
    {
     "output_type": "execute_result",
     "data": {
      "text/html": [
       "<div>\n",
       "<style scoped>\n",
       "    .dataframe tbody tr th:only-of-type {\n",
       "        vertical-align: middle;\n",
       "    }\n",
       "\n",
       "    .dataframe tbody tr th {\n",
       "        vertical-align: top;\n",
       "    }\n",
       "\n",
       "    .dataframe thead th {\n",
       "        text-align: right;\n",
       "    }\n",
       "</style>\n",
       "<table border=\"1\" class=\"dataframe\">\n",
       "  <thead>\n",
       "    <tr style=\"text-align: right;\">\n",
       "      <th></th>\n",
       "      <th>contents</th>\n",
       "      <th>id</th>\n",
       "    </tr>\n",
       "  </thead>\n",
       "  <tbody>\n",
       "    <tr>\n",
       "      <th>0</th>\n",
       "      <td>크리스마스에 소개팅 할 거예요 귀여워보이는 옷으로 주세요 네 잠시만 기다려주세요 핑...</td>\n",
       "      <td>029</td>\n",
       "    </tr>\n",
       "    <tr>\n",
       "      <th>1</th>\n",
       "      <td>면접 때 입을만한 오피스룩을 찾고 있는데 단정하면서도 세련된 오피스룩이 있을까요 상...</td>\n",
       "      <td>021</td>\n",
       "    </tr>\n",
       "    <tr>\n",
       "      <th>2</th>\n",
       "      <td>면접 때 입을만한 오피스룩을 찾고 있는데 단정하면서도 세련된 오피스룩이 있을까요 상...</td>\n",
       "      <td>021</td>\n",
       "    </tr>\n",
       "    <tr>\n",
       "      <th>3</th>\n",
       "      <td>지역 꽃축제에 진행을 맡게 되었어요 나이에 맞는 깔끔한 옷을 원해요 깔끔한 스커트에...</td>\n",
       "      <td>024</td>\n",
       "    </tr>\n",
       "    <tr>\n",
       "      <th>4</th>\n",
       "      <td>이번 주말에 자전거 타러 갈 때 입을 옷 추천바랍니다 활동하시기에 부담 없이 편안한...</td>\n",
       "      <td>004</td>\n",
       "    </tr>\n",
       "  </tbody>\n",
       "</table>\n",
       "</div>"
      ],
      "text/plain": [
       "                                            contents   id\n",
       "0  크리스마스에 소개팅 할 거예요 귀여워보이는 옷으로 주세요 네 잠시만 기다려주세요 핑...  029\n",
       "1  면접 때 입을만한 오피스룩을 찾고 있는데 단정하면서도 세련된 오피스룩이 있을까요 상...  021\n",
       "2  면접 때 입을만한 오피스룩을 찾고 있는데 단정하면서도 세련된 오피스룩이 있을까요 상...  021\n",
       "3  지역 꽃축제에 진행을 맡게 되었어요 나이에 맞는 깔끔한 옷을 원해요 깔끔한 스커트에...  024\n",
       "4  이번 주말에 자전거 타러 갈 때 입을 옷 추천바랍니다 활동하시기에 부담 없이 편안한...  004"
      ]
     },
     "metadata": {},
     "execution_count": 24
    }
   ],
   "metadata": {}
  },
  {
   "cell_type": "code",
   "execution_count": 25,
   "source": [
    "for i in del_list:\n",
    "    vt_data = vt_data[vt_data[\"id\"] != i]"
   ],
   "outputs": [],
   "metadata": {}
  },
  {
   "cell_type": "code",
   "execution_count": 26,
   "source": [
    "len(vt_data)"
   ],
   "outputs": [
    {
     "output_type": "execute_result",
     "data": {
      "text/plain": [
       "254"
      ]
     },
     "metadata": {},
     "execution_count": 26
    }
   ],
   "metadata": {}
  },
  {
   "cell_type": "code",
   "execution_count": 27,
   "source": [
    "vt_data.reset_index(drop=True, inplace=True)"
   ],
   "outputs": [],
   "metadata": {}
  },
  {
   "cell_type": "code",
   "execution_count": 28,
   "source": [
    "import matplotlib.pyplot as plt\n",
    "plt.bar(Counter(vt_data.id).keys(),Counter(vt_data.id).values(), color='k')"
   ],
   "outputs": [
    {
     "output_type": "execute_result",
     "data": {
      "text/plain": [
       "<BarContainer object of 53 artists>"
      ]
     },
     "metadata": {},
     "execution_count": 28
    }
   ],
   "metadata": {}
  },
  {
   "cell_type": "markdown",
   "source": [
    "# 5. 형태소 분석"
   ],
   "metadata": {}
  },
  {
   "cell_type": "markdown",
   "source": [
    "## Mecab 사용"
   ],
   "metadata": {}
  },
  {
   "cell_type": "code",
   "execution_count": 29,
   "source": [
    "from konlpy.tag import Mecab\n",
    "mecab = Mecab()"
   ],
   "outputs": [],
   "metadata": {}
  },
  {
   "cell_type": "code",
   "execution_count": 30,
   "source": [
    "mecab.morphs(vt_data[\"contents\"][0])"
   ],
   "outputs": [
    {
     "output_type": "execute_result",
     "data": {
      "text/plain": [
       "['크리스마스',\n",
       " '에',\n",
       " '소개팅',\n",
       " '할',\n",
       " '거',\n",
       " '예요',\n",
       " '귀여워',\n",
       " '보이',\n",
       " '는',\n",
       " '옷',\n",
       " '으로',\n",
       " '주세요',\n",
       " '네',\n",
       " '잠시',\n",
       " '만',\n",
       " '기다려',\n",
       " '주',\n",
       " '세요',\n",
       " '핑크',\n",
       " '색',\n",
       " '의',\n",
       " '귀여운',\n",
       " '코트',\n",
       " '가',\n",
       " '포함',\n",
       " '된',\n",
       " '코디',\n",
       " '입니다',\n",
       " 'CT',\n",
       " '052',\n",
       " 'SW',\n",
       " '050',\n",
       " 'PT',\n",
       " '037',\n",
       " 'SE',\n",
       " '029',\n",
       " '리본',\n",
       " '이',\n",
       " '있',\n",
       " '는',\n",
       " '셔츠',\n",
       " '는',\n",
       " '없',\n",
       " '나요',\n",
       " '니트',\n",
       " '랑',\n",
       " '셔츠',\n",
       " '를',\n",
       " '레이어드',\n",
       " '하',\n",
       " '고',\n",
       " '싶',\n",
       " '은데요',\n",
       " '네',\n",
       " '잠시',\n",
       " '만',\n",
       " '기다려',\n",
       " '주',\n",
       " '세요',\n",
       " '리본',\n",
       " '이',\n",
       " '있',\n",
       " '는',\n",
       " '셔츠',\n",
       " '와',\n",
       " '니트',\n",
       " '조끼',\n",
       " '를',\n",
       " '추천',\n",
       " '해',\n",
       " '드립니다',\n",
       " '전',\n",
       " '에',\n",
       " '보여',\n",
       " '주',\n",
       " '신',\n",
       " '니트',\n",
       " '에',\n",
       " '레이어드',\n",
       " '할',\n",
       " '셔츠',\n",
       " '를',\n",
       " '보여',\n",
       " '주',\n",
       " '세요',\n",
       " '네',\n",
       " '잠시',\n",
       " '만',\n",
       " '기다려',\n",
       " '주',\n",
       " '세요',\n",
       " '리본',\n",
       " '이',\n",
       " '있',\n",
       " '는',\n",
       " '하얀색',\n",
       " '의',\n",
       " '셔츠',\n",
       " '는',\n",
       " '어떠신가요',\n",
       " 'VT',\n",
       " '029',\n",
       " '좋',\n",
       " '습니다',\n",
       " '이',\n",
       " '셔츠',\n",
       " '와',\n",
       " '니트로',\n",
       " '할게요',\n",
       " '니',\n",
       " '크',\n",
       " '조끼',\n",
       " 'V',\n",
       " '네크라인',\n",
       " '베스트',\n",
       " '여',\n",
       " '밈',\n",
       " '없',\n",
       " '는',\n",
       " '풀오버',\n",
       " '스타일',\n",
       " '드롭',\n",
       " '숄더',\n",
       " '형태',\n",
       " '전체',\n",
       " '적',\n",
       " '으로',\n",
       " '넉넉',\n",
       " '한',\n",
       " '품',\n",
       " '뒤',\n",
       " '가',\n",
       " '앞',\n",
       " '보다',\n",
       " '더',\n",
       " '긴',\n",
       " '언',\n",
       " '발란스',\n",
       " '형태',\n",
       " '앞',\n",
       " '은',\n",
       " '골반',\n",
       " '까지',\n",
       " '오',\n",
       " '고',\n",
       " '뒤',\n",
       " '는',\n",
       " '엉덩이',\n",
       " '를',\n",
       " '덮',\n",
       " '는',\n",
       " '길',\n",
       " '이',\n",
       " '네크라인',\n",
       " '소매',\n",
       " '끝',\n",
       " '밑단',\n",
       " 'RIB',\n",
       " '처리',\n",
       " '몸통',\n",
       " '옆',\n",
       " '선',\n",
       " '에',\n",
       " '트임',\n",
       " '있',\n",
       " '음',\n",
       " '아크릴',\n",
       " '75',\n",
       " '나일론',\n",
       " '10',\n",
       " '레이온',\n",
       " '10',\n",
       " '울',\n",
       " '5',\n",
       " '플레인',\n",
       " '조직',\n",
       " '울',\n",
       " '함유',\n",
       " '로',\n",
       " '보온성',\n",
       " '을',\n",
       " '높여줌',\n",
       " '비침',\n",
       " '없',\n",
       " '음',\n",
       " '활동',\n",
       " '이',\n",
       " '편안',\n",
       " '함',\n",
       " '드라이',\n",
       " '크리',\n",
       " '닝',\n",
       " '연한',\n",
       " '베이지',\n",
       " '블루',\n",
       " '그레이',\n",
       " '브라운',\n",
       " '컬러',\n",
       " '의',\n",
       " '아가',\n",
       " '일',\n",
       " '패턴',\n",
       " '컬러',\n",
       " '배색',\n",
       " '이',\n",
       " '따뜻',\n",
       " '하',\n",
       " '고',\n",
       " '포근',\n",
       " '한',\n",
       " '느낌',\n",
       " '세련',\n",
       " '된',\n",
       " '단정',\n",
       " '한',\n",
       " '모던',\n",
       " '한',\n",
       " '클래식',\n",
       " '한',\n",
       " '편안',\n",
       " '한',\n",
       " '포근',\n",
       " '한',\n",
       " '따뜻',\n",
       " '한',\n",
       " '다양',\n",
       " '한',\n",
       " '룩',\n",
       " '과',\n",
       " '레이어드',\n",
       " '하',\n",
       " '기',\n",
       " '좋',\n",
       " '은',\n",
       " '가을',\n",
       " '겨울',\n",
       " '에',\n",
       " '입',\n",
       " '기',\n",
       " '좋',\n",
       " '은']"
      ]
     },
     "metadata": {},
     "execution_count": 30
    }
   ],
   "metadata": {}
  },
  {
   "cell_type": "code",
   "execution_count": 31,
   "source": [
    "len(vt_data)"
   ],
   "outputs": [
    {
     "output_type": "execute_result",
     "data": {
      "text/plain": [
       "254"
      ]
     },
     "metadata": {},
     "execution_count": 31
    }
   ],
   "metadata": {}
  },
  {
   "cell_type": "code",
   "execution_count": 32,
   "source": [
    "x_data = []\n",
    "for i in range(len(vt_data)):\n",
    "    x_data.append(mecab.morphs(vt_data[\"contents\"][i]))\n",
    "\n",
    "x_data[0]"
   ],
   "outputs": [
    {
     "output_type": "execute_result",
     "data": {
      "text/plain": [
       "['크리스마스',\n",
       " '에',\n",
       " '소개팅',\n",
       " '할',\n",
       " '거',\n",
       " '예요',\n",
       " '귀여워',\n",
       " '보이',\n",
       " '는',\n",
       " '옷',\n",
       " '으로',\n",
       " '주세요',\n",
       " '네',\n",
       " '잠시',\n",
       " '만',\n",
       " '기다려',\n",
       " '주',\n",
       " '세요',\n",
       " '핑크',\n",
       " '색',\n",
       " '의',\n",
       " '귀여운',\n",
       " '코트',\n",
       " '가',\n",
       " '포함',\n",
       " '된',\n",
       " '코디',\n",
       " '입니다',\n",
       " 'CT',\n",
       " '052',\n",
       " 'SW',\n",
       " '050',\n",
       " 'PT',\n",
       " '037',\n",
       " 'SE',\n",
       " '029',\n",
       " '리본',\n",
       " '이',\n",
       " '있',\n",
       " '는',\n",
       " '셔츠',\n",
       " '는',\n",
       " '없',\n",
       " '나요',\n",
       " '니트',\n",
       " '랑',\n",
       " '셔츠',\n",
       " '를',\n",
       " '레이어드',\n",
       " '하',\n",
       " '고',\n",
       " '싶',\n",
       " '은데요',\n",
       " '네',\n",
       " '잠시',\n",
       " '만',\n",
       " '기다려',\n",
       " '주',\n",
       " '세요',\n",
       " '리본',\n",
       " '이',\n",
       " '있',\n",
       " '는',\n",
       " '셔츠',\n",
       " '와',\n",
       " '니트',\n",
       " '조끼',\n",
       " '를',\n",
       " '추천',\n",
       " '해',\n",
       " '드립니다',\n",
       " '전',\n",
       " '에',\n",
       " '보여',\n",
       " '주',\n",
       " '신',\n",
       " '니트',\n",
       " '에',\n",
       " '레이어드',\n",
       " '할',\n",
       " '셔츠',\n",
       " '를',\n",
       " '보여',\n",
       " '주',\n",
       " '세요',\n",
       " '네',\n",
       " '잠시',\n",
       " '만',\n",
       " '기다려',\n",
       " '주',\n",
       " '세요',\n",
       " '리본',\n",
       " '이',\n",
       " '있',\n",
       " '는',\n",
       " '하얀색',\n",
       " '의',\n",
       " '셔츠',\n",
       " '는',\n",
       " '어떠신가요',\n",
       " 'VT',\n",
       " '029',\n",
       " '좋',\n",
       " '습니다',\n",
       " '이',\n",
       " '셔츠',\n",
       " '와',\n",
       " '니트로',\n",
       " '할게요',\n",
       " '니',\n",
       " '크',\n",
       " '조끼',\n",
       " 'V',\n",
       " '네크라인',\n",
       " '베스트',\n",
       " '여',\n",
       " '밈',\n",
       " '없',\n",
       " '는',\n",
       " '풀오버',\n",
       " '스타일',\n",
       " '드롭',\n",
       " '숄더',\n",
       " '형태',\n",
       " '전체',\n",
       " '적',\n",
       " '으로',\n",
       " '넉넉',\n",
       " '한',\n",
       " '품',\n",
       " '뒤',\n",
       " '가',\n",
       " '앞',\n",
       " '보다',\n",
       " '더',\n",
       " '긴',\n",
       " '언',\n",
       " '발란스',\n",
       " '형태',\n",
       " '앞',\n",
       " '은',\n",
       " '골반',\n",
       " '까지',\n",
       " '오',\n",
       " '고',\n",
       " '뒤',\n",
       " '는',\n",
       " '엉덩이',\n",
       " '를',\n",
       " '덮',\n",
       " '는',\n",
       " '길',\n",
       " '이',\n",
       " '네크라인',\n",
       " '소매',\n",
       " '끝',\n",
       " '밑단',\n",
       " 'RIB',\n",
       " '처리',\n",
       " '몸통',\n",
       " '옆',\n",
       " '선',\n",
       " '에',\n",
       " '트임',\n",
       " '있',\n",
       " '음',\n",
       " '아크릴',\n",
       " '75',\n",
       " '나일론',\n",
       " '10',\n",
       " '레이온',\n",
       " '10',\n",
       " '울',\n",
       " '5',\n",
       " '플레인',\n",
       " '조직',\n",
       " '울',\n",
       " '함유',\n",
       " '로',\n",
       " '보온성',\n",
       " '을',\n",
       " '높여줌',\n",
       " '비침',\n",
       " '없',\n",
       " '음',\n",
       " '활동',\n",
       " '이',\n",
       " '편안',\n",
       " '함',\n",
       " '드라이',\n",
       " '크리',\n",
       " '닝',\n",
       " '연한',\n",
       " '베이지',\n",
       " '블루',\n",
       " '그레이',\n",
       " '브라운',\n",
       " '컬러',\n",
       " '의',\n",
       " '아가',\n",
       " '일',\n",
       " '패턴',\n",
       " '컬러',\n",
       " '배색',\n",
       " '이',\n",
       " '따뜻',\n",
       " '하',\n",
       " '고',\n",
       " '포근',\n",
       " '한',\n",
       " '느낌',\n",
       " '세련',\n",
       " '된',\n",
       " '단정',\n",
       " '한',\n",
       " '모던',\n",
       " '한',\n",
       " '클래식',\n",
       " '한',\n",
       " '편안',\n",
       " '한',\n",
       " '포근',\n",
       " '한',\n",
       " '따뜻',\n",
       " '한',\n",
       " '다양',\n",
       " '한',\n",
       " '룩',\n",
       " '과',\n",
       " '레이어드',\n",
       " '하',\n",
       " '기',\n",
       " '좋',\n",
       " '은',\n",
       " '가을',\n",
       " '겨울',\n",
       " '에',\n",
       " '입',\n",
       " '기',\n",
       " '좋',\n",
       " '은']"
      ]
     },
     "metadata": {},
     "execution_count": 32
    }
   ],
   "metadata": {}
  },
  {
   "cell_type": "code",
   "execution_count": 33,
   "source": [
    "stopwords = []\n",
    "with open('./data/불용어사전.txt', mode='rt', encoding='utf-8') as f:\n",
    "    for word in f.readlines():\n",
    "        word = word.strip()\n",
    "        stopwords.append(word)\n",
    "stopwords[0:2]"
   ],
   "outputs": [
    {
     "output_type": "execute_result",
     "data": {
      "text/plain": [
       "['어찌됐든', '그위에']"
      ]
     },
     "metadata": {},
     "execution_count": 33
    }
   ],
   "metadata": {}
  },
  {
   "cell_type": "code",
   "execution_count": 34,
   "source": [
    "X_data = []\n",
    "for sentence in x_data: #문장 하나 가져오고 단어 단위로 쪼개기\n",
    "    temp_X = [word for word in sentence if not word in stopwords] # 불용어 제거\n",
    "    X_data.append(temp_X)\n",
    "X_data[0]"
   ],
   "outputs": [
    {
     "output_type": "execute_result",
     "data": {
      "text/plain": [
       "['크리스마스',\n",
       " '소개팅',\n",
       " '거',\n",
       " '예요',\n",
       " '귀여워',\n",
       " '보이',\n",
       " '옷',\n",
       " '주세요',\n",
       " '만',\n",
       " '기다려',\n",
       " '주',\n",
       " '세요',\n",
       " '핑크',\n",
       " '색',\n",
       " '귀여운',\n",
       " '코트',\n",
       " '포함',\n",
       " '된',\n",
       " '코디',\n",
       " '입니다',\n",
       " 'CT',\n",
       " '052',\n",
       " 'SW',\n",
       " '050',\n",
       " 'PT',\n",
       " '037',\n",
       " 'SE',\n",
       " '029',\n",
       " '리본',\n",
       " '있',\n",
       " '셔츠',\n",
       " '나요',\n",
       " '니트',\n",
       " '랑',\n",
       " '셔츠',\n",
       " '레이어드',\n",
       " '고',\n",
       " '싶',\n",
       " '은데요',\n",
       " '만',\n",
       " '기다려',\n",
       " '주',\n",
       " '세요',\n",
       " '리본',\n",
       " '있',\n",
       " '셔츠',\n",
       " '니트',\n",
       " '조끼',\n",
       " '추천',\n",
       " '드립니다',\n",
       " '전',\n",
       " '보여',\n",
       " '주',\n",
       " '신',\n",
       " '니트',\n",
       " '레이어드',\n",
       " '셔츠',\n",
       " '보여',\n",
       " '주',\n",
       " '세요',\n",
       " '만',\n",
       " '기다려',\n",
       " '주',\n",
       " '세요',\n",
       " '리본',\n",
       " '있',\n",
       " '하얀색',\n",
       " '셔츠',\n",
       " '어떠신가요',\n",
       " 'VT',\n",
       " '029',\n",
       " '좋',\n",
       " '셔츠',\n",
       " '니트로',\n",
       " '할게요',\n",
       " '니',\n",
       " '크',\n",
       " '조끼',\n",
       " 'V',\n",
       " '네크라인',\n",
       " '베스트',\n",
       " '밈',\n",
       " '풀오버',\n",
       " '스타일',\n",
       " '드롭',\n",
       " '숄더',\n",
       " '형태',\n",
       " '전체',\n",
       " '적',\n",
       " '넉넉',\n",
       " '품',\n",
       " '뒤',\n",
       " '앞',\n",
       " '보다',\n",
       " '더',\n",
       " '긴',\n",
       " '언',\n",
       " '발란스',\n",
       " '형태',\n",
       " '앞',\n",
       " '골반',\n",
       " '고',\n",
       " '뒤',\n",
       " '엉덩이',\n",
       " '덮',\n",
       " '길',\n",
       " '네크라인',\n",
       " '끝',\n",
       " '밑단',\n",
       " 'RIB',\n",
       " '처리',\n",
       " '몸통',\n",
       " '옆',\n",
       " '선',\n",
       " '트임',\n",
       " '있',\n",
       " '아크릴',\n",
       " '75',\n",
       " '나일론',\n",
       " '10',\n",
       " '레이온',\n",
       " '10',\n",
       " '울',\n",
       " '5',\n",
       " '플레인',\n",
       " '조직',\n",
       " '울',\n",
       " '함유',\n",
       " '보온성',\n",
       " '높여줌',\n",
       " '비침',\n",
       " '활동',\n",
       " '편안',\n",
       " '함',\n",
       " '드라이',\n",
       " '크리',\n",
       " '닝',\n",
       " '연한',\n",
       " '베이지',\n",
       " '블루',\n",
       " '그레이',\n",
       " '브라운',\n",
       " '컬러',\n",
       " '아가',\n",
       " '패턴',\n",
       " '컬러',\n",
       " '배색',\n",
       " '따뜻',\n",
       " '고',\n",
       " '포근',\n",
       " '느낌',\n",
       " '세련',\n",
       " '된',\n",
       " '단정',\n",
       " '모던',\n",
       " '클래식',\n",
       " '편안',\n",
       " '포근',\n",
       " '따뜻',\n",
       " '다양',\n",
       " '룩',\n",
       " '레이어드',\n",
       " '기',\n",
       " '좋',\n",
       " '가을',\n",
       " '겨울',\n",
       " '입',\n",
       " '기',\n",
       " '좋']"
      ]
     },
     "metadata": {},
     "execution_count": 34
    }
   ],
   "metadata": {}
  },
  {
   "cell_type": "markdown",
   "source": [
    "## 1. 임베딩 레이어 활용"
   ],
   "metadata": {}
  },
  {
   "cell_type": "markdown",
   "source": [
    "### 정수 인코딩"
   ],
   "metadata": {}
  },
  {
   "cell_type": "code",
   "execution_count": 35,
   "source": [
    "from tensorflow.keras.preprocessing.text import Tokenizer\n",
    "tokenizer = Tokenizer()\n",
    "tokenizer.fit_on_texts(X_data)"
   ],
   "outputs": [],
   "metadata": {}
  },
  {
   "cell_type": "code",
   "execution_count": 36,
   "source": [
    "threshold = 6\n",
    "total_cnt = len(tokenizer.word_index) # 단어의 수\n",
    "rare_cnt = 0 # 등장 빈도수가 threshold보다 작은 단어의 개수를 카운트\n",
    "total_freq = 0 # 훈련 데이터의 전체 단어 빈도수 총 합\n",
    "rare_freq = 0 # 등장 빈도수가 threshold보다 작은 단어의 등장 빈도수의 총 합\n",
    "\n",
    "# 단어와 빈도수의 쌍(pair)을 key와 value로 받는다.\n",
    "for key, value in tokenizer.word_counts.items():\n",
    "    total_freq = total_freq + value\n",
    "\n",
    "    # 단어의 등장 빈도수가 threshold보다 작으면\n",
    "    if(value < threshold):\n",
    "        rare_cnt = rare_cnt + 1\n",
    "        rare_freq = rare_freq + value\n",
    "\n",
    "print('단어 집합(vocabulary)의 크기 :',total_cnt)\n",
    "print('등장 빈도가 %s번 이하인 희귀 단어의 수: %s'%(threshold - 1, rare_cnt))\n",
    "print(\"단어 집합에서 희귀 단어의 비율:\", (rare_cnt / total_cnt)*100)\n",
    "print(\"전체 등장 빈도에서 희귀 단어 등장 빈도 비율:\", (rare_freq / total_freq)*100)"
   ],
   "outputs": [
    {
     "output_type": "stream",
     "name": "stdout",
     "text": [
      "단어 집합(vocabulary)의 크기 : 1894\n",
      "등장 빈도가 5번 이하인 희귀 단어의 수: 1059\n",
      "단어 집합에서 희귀 단어의 비율: 55.91341077085533\n",
      "전체 등장 빈도에서 희귀 단어 등장 빈도 비율: 5.767415518217859\n"
     ]
    }
   ],
   "metadata": {}
  },
  {
   "cell_type": "code",
   "execution_count": 37,
   "source": [
    "vocab_size = total_cnt - rare_cnt + 1 # tokenizer 함수에 들어 갈 때 영향줘서 1 추가 해야 됨\n",
    "print('단어 집합의 크기 :',vocab_size)"
   ],
   "outputs": [
    {
     "output_type": "stream",
     "name": "stdout",
     "text": [
      "단어 집합의 크기 : 836\n"
     ]
    }
   ],
   "metadata": {}
  },
  {
   "cell_type": "markdown",
   "source": [
    "케라스 토크나이저의 정수 인코딩은 인덱스가 1부터 시작하지만,\n",
    "\n",
    "케라스 원-핫 인코딩에서 배열의 인덱스가 0부터 시작하기 때문에\n",
    "\n",
    "배열의 크기를 실제 단어 집합의 크기보다 +1로 생성해야하므로 미리 +1 선언 "
   ],
   "metadata": {}
  },
  {
   "cell_type": "markdown",
   "source": [
    "### 맨 앞자리는 비어있어야 함 (원 핫 인코딩은 정수 인코딩한 뒤 나오는 정수 값 자리에 1을 넣는 것)"
   ],
   "metadata": {}
  },
  {
   "cell_type": "code",
   "execution_count": 38,
   "source": [
    "tokenizer = Tokenizer(num_words=vocab_size - 1)\n",
    "tokenizer.fit_on_texts(X_data)\n",
    "len(tokenizer.word_index)"
   ],
   "outputs": [
    {
     "output_type": "execute_result",
     "data": {
      "text/plain": [
       "1894"
      ]
     },
     "metadata": {},
     "execution_count": 38
    }
   ],
   "metadata": {}
  },
  {
   "cell_type": "code",
   "execution_count": 39,
   "source": [
    "X_data = tokenizer.texts_to_sequences(X_data) # 단어에 정수 붙여줄 때 num_word 적용"
   ],
   "outputs": [],
   "metadata": {}
  },
  {
   "cell_type": "markdown",
   "source": [
    "위에서 num_words는 이 데이터에서 등장 빈도 순위로 몇 번째에 해당하는 단어까지만 사용할 것인지 조절\n",
    "\n",
    "예를 들어서 100이란 값을 넣으면, 등장 빈도 순위가 1~100에 해당하는 단어만 사용"
   ],
   "metadata": {}
  },
  {
   "cell_type": "code",
   "execution_count": 40,
   "source": [
    "X_data[1]"
   ],
   "outputs": [
    {
     "output_type": "execute_result",
     "data": {
      "text/plain": [
       "[520,\n",
       " 10,\n",
       " 7,\n",
       " 500,\n",
       " 106,\n",
       " 227,\n",
       " 19,\n",
       " 4,\n",
       " 92,\n",
       " 152,\n",
       " 85,\n",
       " 39,\n",
       " 237,\n",
       " 36,\n",
       " 500,\n",
       " 106,\n",
       " 4,\n",
       " 333,\n",
       " 776,\n",
       " 411,\n",
       " 5,\n",
       " 120,\n",
       " 33,\n",
       " 7,\n",
       " 9,\n",
       " 1,\n",
       " 2,\n",
       " 438,\n",
       " 371,\n",
       " 71,\n",
       " 557,\n",
       " 45,\n",
       " 4,\n",
       " 31,\n",
       " 500,\n",
       " 106,\n",
       " 5,\n",
       " 120,\n",
       " 158,\n",
       " 13,\n",
       " 6,\n",
       " 17,\n",
       " 22,\n",
       " 11,\n",
       " 439,\n",
       " 259,\n",
       " 777,\n",
       " 162,\n",
       " 346,\n",
       " 29,\n",
       " 584,\n",
       " 121,\n",
       " 260,\n",
       " 426,\n",
       " 159,\n",
       " 3,\n",
       " 33,\n",
       " 13,\n",
       " 81,\n",
       " 79,\n",
       " 23,\n",
       " 5,\n",
       " 192,\n",
       " 159,\n",
       " 176,\n",
       " 42,\n",
       " 1,\n",
       " 2,\n",
       " 520,\n",
       " 347,\n",
       " 24,\n",
       " 121,\n",
       " 176,\n",
       " 5,\n",
       " 120,\n",
       " 158,\n",
       " 13,\n",
       " 24,\n",
       " 54,\n",
       " 121,\n",
       " 277,\n",
       " 270,\n",
       " 47,\n",
       " 520,\n",
       " 83,\n",
       " 88,\n",
       " 115,\n",
       " 244,\n",
       " 76,\n",
       " 227,\n",
       " 1,\n",
       " 2,\n",
       " 323,\n",
       " 17,\n",
       " 244,\n",
       " 76,\n",
       " 372,\n",
       " 120,\n",
       " 158,\n",
       " 13,\n",
       " 28,\n",
       " 32,\n",
       " 249,\n",
       " 23,\n",
       " 520,\n",
       " 776,\n",
       " 132,\n",
       " 241,\n",
       " 27,\n",
       " 253,\n",
       " 54,\n",
       " 142,\n",
       " 49,\n",
       " 8,\n",
       " 28,\n",
       " 120,\n",
       " 19,\n",
       " 178,\n",
       " 13,\n",
       " 6,\n",
       " 17,\n",
       " 22,\n",
       " 11,\n",
       " 373,\n",
       " 520,\n",
       " 49,\n",
       " 778,\n",
       " 26,\n",
       " 8,\n",
       " 126,\n",
       " 25,\n",
       " 16,\n",
       " 16,\n",
       " 27,\n",
       " 585,\n",
       " 56,\n",
       " 20,\n",
       " 127,\n",
       " 90,\n",
       " 56,\n",
       " 20,\n",
       " 52,\n",
       " 55,\n",
       " 38,\n",
       " 214,\n",
       " 52,\n",
       " 144,\n",
       " 55,\n",
       " 53,\n",
       " 60,\n",
       " 138,\n",
       " 183,\n",
       " 91,\n",
       " 59,\n",
       " 99,\n",
       " 40,\n",
       " 90,\n",
       " 56,\n",
       " 20,\n",
       " 296,\n",
       " 586,\n",
       " 205,\n",
       " 481,\n",
       " 12,\n",
       " 587,\n",
       " 36,\n",
       " 78,\n",
       " 26,\n",
       " 98,\n",
       " 82,\n",
       " 63,\n",
       " 34,\n",
       " 3,\n",
       " 46,\n",
       " 324,\n",
       " 153,\n",
       " 154,\n",
       " 84,\n",
       " 588,\n",
       " 440,\n",
       " 261,\n",
       " 1,\n",
       " 296,\n",
       " 398,\n",
       " 374,\n",
       " 39,\n",
       " 125,\n",
       " 43,\n",
       " 358,\n",
       " 71,\n",
       " 23,\n",
       " 5,\n",
       " 12,\n",
       " 291,\n",
       " 39,\n",
       " 132,\n",
       " 83,\n",
       " 50,\n",
       " 310,\n",
       " 199]"
      ]
     },
     "metadata": {},
     "execution_count": 40
    }
   ],
   "metadata": {}
  },
  {
   "cell_type": "code",
   "execution_count": 41,
   "source": [
    "print('문장 최대 길이 :',max(len(l) for l in X_data))\n",
    "print('문장의 평균 길이 :',sum(map(len, X_data))/len(X_data))\n",
    "plt.hist([len(s) for s in X_data], bins=50, color='k')\n",
    "plt.xlabel('length of samples')\n",
    "plt.ylabel('number of samples')\n",
    "plt.show()\n",
    "plt.close()"
   ],
   "outputs": [
    {
     "output_type": "stream",
     "name": "stdout",
     "text": [
      "문장 최대 길이 : 292\n",
      "문장의 평균 길이 : 157.18897637795277\n"
     ]
    },
    {
     "output_type": "display_data",
     "data": {
      "image/png": "[encoded data removed]",
      "text/plain": [
       "<Figure size 640x480 with 1 Axes>"
      ]
     },
     "metadata": {}
    }
   ],
   "metadata": {}
  },
  {
   "cell_type": "code",
   "execution_count": 42,
   "source": [
    "def below_threshold_len(max_len, nested_list):\n",
    "  cnt = 0\n",
    "  for s in nested_list:\n",
    "    if(len(s) <= max_len):\n",
    "        cnt = cnt + 1\n",
    "  print('전체 샘플 중 길이가 %s 이하인 샘플의 비율: %s'%(max_len, (cnt / len(nested_list))*100))\n",
    "\n",
    "max_len = 300\n",
    "below_threshold_len(max_len, X_data)"
   ],
   "outputs": [
    {
     "output_type": "stream",
     "name": "stdout",
     "text": [
      "전체 샘플 중 길이가 300 이하인 샘플의 비율: 100.0\n"
     ]
    }
   ],
   "metadata": {}
  },
  {
   "cell_type": "markdown",
   "source": [
    "## padding"
   ],
   "metadata": {}
  },
  {
   "cell_type": "code",
   "execution_count": 43,
   "source": [
    "from tensorflow.keras.preprocessing.sequence import pad_sequences\n",
    "X_data = pad_sequences(X_data, maxlen = max_len)"
   ],
   "outputs": [],
   "metadata": {}
  },
  {
   "cell_type": "code",
   "execution_count": 44,
   "source": [
    "print(len(X_data[1]))\n",
    "X_data[1]"
   ],
   "outputs": [
    {
     "output_type": "stream",
     "name": "stdout",
     "text": [
      "300\n"
     ]
    },
    {
     "output_type": "execute_result",
     "data": {
      "text/plain": [
       "array([  0,   0,   0,   0,   0,   0,   0,   0,   0,   0,   0,   0,   0,\n",
       "         0,   0,   0,   0,   0,   0,   0,   0,   0,   0,   0,   0,   0,\n",
       "         0,   0,   0,   0,   0,   0,   0,   0,   0,   0,   0,   0,   0,\n",
       "         0,   0,   0,   0,   0,   0,   0,   0,   0,   0,   0,   0,   0,\n",
       "         0,   0,   0,   0,   0,   0,   0,   0,   0,   0,   0,   0,   0,\n",
       "         0,   0,   0,   0,   0,   0,   0,   0,   0,   0,   0,   0,   0,\n",
       "         0,   0,   0,   0,   0,   0,   0,   0,   0,   0,   0,   0,   0,\n",
       "         0,   0,   0,   0,   0,   0,   0,   0,   0, 520,  10,   7, 500,\n",
       "       106, 227,  19,   4,  92, 152,  85,  39, 237,  36, 500, 106,   4,\n",
       "       333, 776, 411,   5, 120,  33,   7,   9,   1,   2, 438, 371,  71,\n",
       "       557,  45,   4,  31, 500, 106,   5, 120, 158,  13,   6,  17,  22,\n",
       "        11, 439, 259, 777, 162, 346,  29, 584, 121, 260, 426, 159,   3,\n",
       "        33,  13,  81,  79,  23,   5, 192, 159, 176,  42,   1,   2, 520,\n",
       "       347,  24, 121, 176,   5, 120, 158,  13,  24,  54, 121, 277, 270,\n",
       "        47, 520,  83,  88, 115, 244,  76, 227,   1,   2, 323,  17, 244,\n",
       "        76, 372, 120, 158,  13,  28,  32, 249,  23, 520, 776, 132, 241,\n",
       "        27, 253,  54, 142,  49,   8,  28, 120,  19, 178,  13,   6,  17,\n",
       "        22,  11, 373, 520,  49, 778,  26,   8, 126,  25,  16,  16,  27,\n",
       "       585,  56,  20, 127,  90,  56,  20,  52,  55,  38, 214,  52, 144,\n",
       "        55,  53,  60, 138, 183,  91,  59,  99,  40,  90,  56,  20, 296,\n",
       "       586, 205, 481,  12, 587,  36,  78,  26,  98,  82,  63,  34,   3,\n",
       "        46, 324, 153, 154,  84, 588, 440, 261,   1, 296, 398, 374,  39,\n",
       "       125,  43, 358,  71,  23,   5,  12, 291,  39, 132,  83,  50, 310,\n",
       "       199], dtype=int32)"
      ]
     },
     "metadata": {},
     "execution_count": 44
    }
   ],
   "metadata": {}
  },
  {
   "cell_type": "markdown",
   "source": [
    "# 6. LSTM 돌리기 "
   ],
   "metadata": {}
  },
  {
   "cell_type": "code",
   "execution_count": 45,
   "source": [
    "from tensorflow.keras.layers import Embedding, Dense, LSTM, Bidirectional\n",
    "from tensorflow.keras.models import Sequential\n",
    "from tensorflow.keras.models import load_model\n",
    "from tensorflow.keras.callbacks import EarlyStopping, ModelCheckpoint\n",
    "from sklearn.model_selection import train_test_split\n",
    "from tensorflow.keras.utils import to_categorical"
   ],
   "outputs": [],
   "metadata": {}
  },
  {
   "cell_type": "code",
   "execution_count": 46,
   "source": [
    "X = X_data\n",
    "y = vt_data.id.tolist()"
   ],
   "outputs": [],
   "metadata": {}
  },
  {
   "cell_type": "code",
   "execution_count": 47,
   "source": [
    "X[1]"
   ],
   "outputs": [
    {
     "output_type": "execute_result",
     "data": {
      "text/plain": [
       "array([  0,   0,   0,   0,   0,   0,   0,   0,   0,   0,   0,   0,   0,\n",
       "         0,   0,   0,   0,   0,   0,   0,   0,   0,   0,   0,   0,   0,\n",
       "         0,   0,   0,   0,   0,   0,   0,   0,   0,   0,   0,   0,   0,\n",
       "         0,   0,   0,   0,   0,   0,   0,   0,   0,   0,   0,   0,   0,\n",
       "         0,   0,   0,   0,   0,   0,   0,   0,   0,   0,   0,   0,   0,\n",
       "         0,   0,   0,   0,   0,   0,   0,   0,   0,   0,   0,   0,   0,\n",
       "         0,   0,   0,   0,   0,   0,   0,   0,   0,   0,   0,   0,   0,\n",
       "         0,   0,   0,   0,   0,   0,   0,   0,   0, 520,  10,   7, 500,\n",
       "       106, 227,  19,   4,  92, 152,  85,  39, 237,  36, 500, 106,   4,\n",
       "       333, 776, 411,   5, 120,  33,   7,   9,   1,   2, 438, 371,  71,\n",
       "       557,  45,   4,  31, 500, 106,   5, 120, 158,  13,   6,  17,  22,\n",
       "        11, 439, 259, 777, 162, 346,  29, 584, 121, 260, 426, 159,   3,\n",
       "        33,  13,  81,  79,  23,   5, 192, 159, 176,  42,   1,   2, 520,\n",
       "       347,  24, 121, 176,   5, 120, 158,  13,  24,  54, 121, 277, 270,\n",
       "        47, 520,  83,  88, 115, 244,  76, 227,   1,   2, 323,  17, 244,\n",
       "        76, 372, 120, 158,  13,  28,  32, 249,  23, 520, 776, 132, 241,\n",
       "        27, 253,  54, 142,  49,   8,  28, 120,  19, 178,  13,   6,  17,\n",
       "        22,  11, 373, 520,  49, 778,  26,   8, 126,  25,  16,  16,  27,\n",
       "       585,  56,  20, 127,  90,  56,  20,  52,  55,  38, 214,  52, 144,\n",
       "        55,  53,  60, 138, 183,  91,  59,  99,  40,  90,  56,  20, 296,\n",
       "       586, 205, 481,  12, 587,  36,  78,  26,  98,  82,  63,  34,   3,\n",
       "        46, 324, 153, 154,  84, 588, 440, 261,   1, 296, 398, 374,  39,\n",
       "       125,  43, 358,  71,  23,   5,  12, 291,  39, 132,  83,  50, 310,\n",
       "       199], dtype=int32)"
      ]
     },
     "metadata": {},
     "execution_count": 47
    }
   ],
   "metadata": {}
  },
  {
   "cell_type": "code",
   "execution_count": 48,
   "source": [
    "y[1]"
   ],
   "outputs": [
    {
     "output_type": "execute_result",
     "data": {
      "text/plain": [
       "'021'"
      ]
     },
     "metadata": {},
     "execution_count": 48
    }
   ],
   "metadata": {}
  },
  {
   "cell_type": "code",
   "execution_count": 49,
   "source": [
    "print(len(X),len(y))"
   ],
   "outputs": [
    {
     "output_type": "stream",
     "name": "stdout",
     "text": [
      "254 254\n"
     ]
    }
   ],
   "metadata": {}
  },
  {
   "cell_type": "code",
   "execution_count": 50,
   "source": [
    "y = to_categorical(y)"
   ],
   "outputs": [],
   "metadata": {}
  },
  {
   "cell_type": "code",
   "execution_count": 51,
   "source": [
    "print(X.shape, y.shape)"
   ],
   "outputs": [
    {
     "output_type": "stream",
     "name": "stdout",
     "text": [
      "(254, 300) (254, 112)\n"
     ]
    }
   ],
   "metadata": {}
  },
  {
   "cell_type": "code",
   "execution_count": 52,
   "source": [
    "x_train, x_test, y_train, y_test = train_test_split(X, y,test_size=0.3, random_state=777, stratify=y) #추천 한 번밖에 안된 애들 있어서 stratify 안됨"
   ],
   "outputs": [],
   "metadata": {}
  },
  {
   "cell_type": "code",
   "execution_count": 53,
   "source": [
    "num_class = int(max(vt_data.id)) + 1"
   ],
   "outputs": [],
   "metadata": {}
  },
  {
   "cell_type": "code",
   "execution_count": 67,
   "source": [
    "from tensorflow.keras.layers import LSTM, SimpleRNN, GRU"
   ],
   "outputs": [],
   "metadata": {}
  },
  {
   "cell_type": "code",
   "execution_count": 72,
   "source": [
    "model = Sequential()\n",
    "model.add(Embedding(vocab_size, max_len))\n",
    "model.add(SimpleRNN(max_len))\n",
    "model.add(Dense(num_class, activation='softmax'))\n",
    "\n",
    "model.summary()"
   ],
   "outputs": [
    {
     "output_type": "stream",
     "name": "stdout",
     "text": [
      "Model: \"sequential_4\"\n",
      "_________________________________________________________________\n",
      "Layer (type)                 Output Shape              Param #   \n",
      "=================================================================\n",
      "embedding_4 (Embedding)      (None, None, 300)         250800    \n",
      "_________________________________________________________________\n",
      "simple_rnn_2 (SimpleRNN)     (None, 300)               180300    \n",
      "_________________________________________________________________\n",
      "dense_4 (Dense)              (None, 112)               33712     \n",
      "=================================================================\n",
      "Total params: 464,812\n",
      "Trainable params: 464,812\n",
      "Non-trainable params: 0\n",
      "_________________________________________________________________\n"
     ]
    }
   ],
   "metadata": {}
  },
  {
   "cell_type": "code",
   "execution_count": 73,
   "source": [
    "es = EarlyStopping(monitor='val_loss', mode='min', verbose=1, patience=6)\n",
    "mc = ModelCheckpoint('vt_model_rnn.h5', monitor='val_acc', mode='max', verbose=1, save_best_only=True)"
   ],
   "outputs": [],
   "metadata": {}
  },
  {
   "cell_type": "code",
   "execution_count": 74,
   "source": [
    "model.compile(optimizer='adam', loss='categorical_crossentropy', metrics=['acc'])\n",
    "history = model.fit(x_train, y_train, epochs=10, callbacks=[es, mc], batch_size=32, validation_split=0.2)\n",
    "\n",
    "print(\"테스트 셋 체크\")\n",
    "loaded_model = load_model('vt_model_rnn.h5')\n",
    "print(\"\\n 테스트 정확도: %.4f\" % (loaded_model.evaluate(x_test, y_test)[1]))"
   ],
   "outputs": [
    {
     "output_type": "stream",
     "name": "stdout",
     "text": [
      "Epoch 1/10\n",
      "5/5 [==============================] - 4s 560ms/step - loss: 4.2448 - acc: 0.3391 - val_loss: 3.4729 - val_acc: 0.6389\n",
      "\n",
      "Epoch 00001: val_acc improved from -inf to 0.63889, saving model to vt_model_rnn.h5\n",
      "Epoch 2/10\n",
      "5/5 [==============================] - 2s 428ms/step - loss: 2.5803 - acc: 0.9379 - val_loss: 2.7185 - val_acc: 0.7778\n",
      "\n",
      "Epoch 00002: val_acc improved from 0.63889 to 0.77778, saving model to vt_model_rnn.h5\n",
      "Epoch 3/10\n",
      "5/5 [==============================] - 2s 419ms/step - loss: 1.6230 - acc: 0.9868 - val_loss: 2.3267 - val_acc: 0.8056\n",
      "\n",
      "Epoch 00003: val_acc improved from 0.77778 to 0.80556, saving model to vt_model_rnn.h5\n",
      "Epoch 4/10\n",
      "5/5 [==============================] - 2s 454ms/step - loss: 1.1334 - acc: 0.9920 - val_loss: 1.9276 - val_acc: 0.8056\n",
      "\n",
      "Epoch 00004: val_acc did not improve from 0.80556\n",
      "Epoch 5/10\n",
      "5/5 [==============================] - 2s 353ms/step - loss: 0.8115 - acc: 1.0000 - val_loss: 1.6526 - val_acc: 0.8056\n",
      "\n",
      "Epoch 00005: val_acc did not improve from 0.80556\n",
      "Epoch 6/10\n",
      "5/5 [==============================] - 2s 373ms/step - loss: 0.5153 - acc: 1.0000 - val_loss: 1.4455 - val_acc: 0.8056\n",
      "\n",
      "Epoch 00006: val_acc did not improve from 0.80556\n",
      "Epoch 7/10\n",
      "5/5 [==============================] - 2s 337ms/step - loss: 0.3603 - acc: 1.0000 - val_loss: 1.2795 - val_acc: 0.8056\n",
      "\n",
      "Epoch 00007: val_acc did not improve from 0.80556\n",
      "Epoch 8/10\n",
      "5/5 [==============================] - 2s 449ms/step - loss: 0.2536 - acc: 1.0000 - val_loss: 1.1938 - val_acc: 0.8056\n",
      "\n",
      "Epoch 00008: val_acc did not improve from 0.80556\n",
      "Epoch 9/10\n",
      "5/5 [==============================] - 2s 477ms/step - loss: 0.1711 - acc: 1.0000 - val_loss: 1.1377 - val_acc: 0.8056\n",
      "\n",
      "Epoch 00009: val_acc did not improve from 0.80556\n",
      "Epoch 10/10\n",
      "5/5 [==============================] - 2s 431ms/step - loss: 0.1105 - acc: 1.0000 - val_loss: 1.0976 - val_acc: 0.8056\n",
      "\n",
      "Epoch 00010: val_acc did not improve from 0.80556\n",
      "테스트 셋 체크\n",
      "3/3 [==============================] - 1s 92ms/step - loss: 1.7713 - acc: 0.8961\n",
      "\n",
      " 테스트 정확도: 0.8961\n"
     ]
    }
   ],
   "metadata": {}
  },
  {
   "cell_type": "markdown",
   "source": [
    "Cannot convert a symbolic Tensor -> numpy 버전 1.19.5로 바꿔줌\n",
    "\n",
    "https://wikidocs.net/45101"
   ],
   "metadata": {}
  },
  {
   "cell_type": "code",
   "execution_count": 58,
   "source": [
    "# list all data in history\n",
    "print(history.history.keys())\n",
    "# summarize history for accuracy\n",
    "plt.plot(history.history['acc'])\n",
    "plt.plot(history.history['val_acc'])\n",
    "plt.title('model accuracy')\n",
    "plt.ylabel('accuracy')\n",
    "plt.xlabel('epoch')\n",
    "plt.legend(['train', 'test'], loc='upper left')\n",
    "plt.show()\n",
    "# summarize history for loss\n",
    "plt.plot(history.history['loss'])\n",
    "plt.plot(history.history['val_loss'])\n",
    "plt.title('model loss')\n",
    "plt.ylabel('loss')\n",
    "plt.xlabel('epoch')\n",
    "plt.legend(['train', 'test'], loc='upper left')\n",
    "plt.show()"
   ],
   "outputs": [
    {
     "output_type": "stream",
     "name": "stdout",
     "text": [
      "dict_keys(['loss', 'acc', 'val_loss', 'val_acc'])\n"
     ]
    },
    {
     "output_type": "display_data",
     "data": {
      "image/png": "[encoded data removed]",
      "text/plain": [
       "<Figure size 640x480 with 1 Axes>"
      ]
     },
     "metadata": {}
    },
    {
     "output_type": "display_data",
     "data": {
      "image/png": "[encoded data removed]",
      "text/plain": [
       "<Figure size 640x480 with 1 Axes>"
      ]
     },
     "metadata": {}
    }
   ],
   "metadata": {}
  },
  {
   "cell_type": "code",
   "execution_count": null,
   "source": [],
   "outputs": [],
   "metadata": {}
  }
 ],
 "metadata": {
  "orig_nbformat": 4,
  "language_info": {
   "name": "python",
   "version": "3.8.0",
   "mimetype": "text/x-python",
   "codemirror_mode": {
    "name": "ipython",
    "version": 3
   },
   "pygments_lexer": "ipython3",
   "nbconvert_exporter": "python",
   "file_extension": ".py"
  },
  "kernelspec": {
   "name": "python3",
   "display_name": "Python 3.8.0 64-bit ('sj': conda)"
  },
  "interpreter": {
   "hash": "022eb7dab1e64abfe7845a82597d3156ee0a5d78294cf462a778b063942c3de6"
  }
 },
 "nbformat": 4,
 "nbformat_minor": 2
}