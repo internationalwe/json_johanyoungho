{
 "cells": [
  {
   "cell_type": "code",
   "execution_count": 6,
   "metadata": {
    "collapsed": true
   },
   "outputs": [],
   "source": [
    "import pandas as pd\n",
    "import re\n",
    "import matplotlib.pyplot as plt\n",
    "import numpy as np\n",
    "import seaborn as sns\n",
    "import tensorflow as tf\n",
    "from tensorflow.keras.preprocessing.text import Tokenizer\n",
    "from tensorflow.keras.preprocessing.sequence import pad_sequences\n",
    "import argparse\n",
    "from gensim.models import fasttext\n",
    "import io\n",
    "import datetime"
   ]
  },
  {
   "cell_type": "code",
   "execution_count": 7,
   "outputs": [],
   "source": [
    "dlg_list = []\n",
    "with io.open(\"data/textandembedding/allmorptok_inputtextfile.txt\", encoding='euc-kr', mode='r') as f:\n",
    "    for a in f:\n",
    "        dlg_list.append(a.strip().split('\\t'))\n",
    "dlg_list = pd.DataFrame(dlg_list,columns=[\"dlg\",\"check\"])"
   ],
   "metadata": {
    "collapsed": false,
    "pycharm": {
     "name": "#%%\n"
    }
   }
  },
  {
   "cell_type": "code",
   "execution_count": 15,
   "outputs": [
    {
     "name": "stdout",
     "output_type": "stream",
     "text": [
      "2206\n",
      "8951\n"
     ]
    }
   ],
   "source": [
    "max = 0\n",
    "max_idx = 0\n",
    "for idx, text1 in enumerate(dlg_list[\"dlg\"]):\n",
    "    if max < len(text1):\n",
    "        max = len(text1)\n",
    "        max_idx = idx\n",
    "print(max)\n",
    "print(max_idx)"
   ],
   "metadata": {
    "collapsed": false,
    "pycharm": {
     "name": "#%%\n"
    }
   }
  },
  {
   "cell_type": "code",
   "execution_count": 16,
   "outputs": [
    {
     "name": "stdout",
     "output_type": "stream",
     "text": [
      "안녕 하 세요 코디 봇 입니다 무엇 을 도와 드릴까요 서당 에 서예 체험 하 러 가요 서예 할 때 입 기 편한 옷 을 추천 해 주 세요 네 잠시 만 기다려 주 세요 무릎 을 꿇 어야 할 수 도 있 으니 바지 가 좋 겠 어요 네 바지 로 구성 해 볼게요 면 으로 만들 어 진 톤 다운 된 그레이 컬러 로 단정 하 고 차분 한 느낌 을 주 는 바지 를 활용 한 코디 입니다 전체 적 으로 차분 한 느낌 을 강조 하 였 습니다 어떠신가요 차분 한 느낌 은 좋 은데요 바지 의 소재 가 뭔지 알 수 있 을까요 지금 보 기 에 는 주름 이 잘 생길 거 같 아요 면 100 % 입니다 음 그럼 괜찮 을 거 같 네요 바지 는 면 이 라 편할 거 같 으니 기본 적 으로 두 고 아우 터 와 상의 를 좀 더 봄 느낌 에 맞 는 옷 이 었 으면 해요 지금 은 너무 칙칙 해 보이 네요 네 잠시 만 기다려 주 세요 카멜 색상 의 밝 은 아우 터 와 캐주얼 한 면 티 로 변경 해 보 았 습니다 어떠신가요 음 아 우터 랑 상의 가 바지 와 는 안 어울려 보이 네요 바지 와 좀 더 어울리 는 아이템 을 보여 주 세요 네 두 아이템 을 모두 변경 해드릴까요 네 아우 터 와 상 의 모두 변경 해 주 세요 네 잠시 만 기다려 주 세요 깔끔 하 면서 단정 한 느낌 을 주 는 가디건 과 스퀘어 네크라인 의 브라운 티셔츠 로 변경 해 보 았 습니다 어떠신가요 아우 터 가 포근 하 고 단정 한 느낌 을 줘서 마음 에 드 네요 상의 는 바지 하 고 아우 터 와 같이 입 었 을 때 색깔 이 안 어울릴 거 같 네요 다른 옷 으로 추천 해 주 세요 네 원 하 시 는 색상 이 있 으신 가요 음 바지 와 어울릴 만 한 색깔 은 무채색 계열 이 좋 겠 어요 아니면 하얀색 이 깔끔 해 보일 수 있 겠 네요 네 잠시 만 기다려 주 세요 여성 스러워 보이 는 밝 은 아이보리 색 의 쉬 폰 티 입니다 소매 끝 리본 장식 이 포인트 에 요 어떠신가요 음 소재 가 아우 터 하 고 어울릴 거 같 지 않 네요 다른 소재 로 보여 주 세요 얇 은 면 으로 디자인 된 스트라이프 가 특징 인 티셔츠 입니다 캐주얼 한 느낌 을 더 해 줘요 이 티셔츠 는 어떠신가요 이런 줄무늬 티셔츠 는 더욱 아우 터 하고 안 어울릴 거 같 아요 부드러우 면서 도 여성 스러워 보이 는 브라운 티셔츠 입니다 이거 는 어떠신가요 디자인 은 괜찮 은데 아무리 봄 이 어도 반팔 은 좀 무리 일 거 같 네요 네 긴팔 의 아이템 으로 재 탐색 해 볼게요 편안 하 면서 도 차분 한 스트라이트 티셔츠 입니다 어떠신가요 아까 보여준 스트라이프 티 처럼 스트라이프 무늬 가 들어간 옷 은 아우 터 하고 안 어울릴 거 같 아요 네 무늬 가 없 는 아이템 을 찾 아 볼게요 얇 은 소재 로 편하 게 착용 이 가능 한 그레이 차이나 카라 셔츠 입니다 수수 한 느낌 을 더 해 줘요 어떠신가요 소재 가 너무 얇 지 않 나 싶 은데요 여름 에 나 입 을 수 있 을 거 같 아요 네 다른 아이템 을 찾아볼 게 요 깔끔 하 면서 내추럴 한 느낌 을 주 는 베이지 색 카라 면 셔츠 입니다 어떠신가요 음 셔츠 자체 는 깔끔 해 보이 고 소재 도 너무 얇 지 않 은 거 같 네요 전체 적 인 모습 을 한번 보여 주 시 겠 어요 셔츠 를 추가 한 전체 코디 모습 이 에요 이런 미안 하 지만 지금 보 니 아우 터 하 고 바지 에 는 셔츠 보다 는 단추 가 없 는 상의 가 더 어울릴 거 같 아요 네 티셔츠 로 다시 보여 드릴까요 네 그래 주 세요 부드러운 면 으로 디자인 된 다크 그레 이쉬 톤 의 티셔츠 입니다 어떠신가요 이런 아우 터 와 잘 어울릴 거 같 고 깔끔 해서 마음 에 들 지만 색깔 이 바지 와 안 어울릴 거 같 아요 원 하 시 는 색깔 이 있 으신 가요 가늠 하 기 가 어렵 네요 네 그러면 마지막 아이템 을 추천 해 드릴게요 네 한 번 보여 주 세요 브이넥 네크라인 으로 디자인 된 화이트 베이직 티셔츠 에 요 앞판 과 뒤판 이 모두 깊 은 브이 네크라인 소매통 넉넉 한 일자 형 소매 기장 은 손등 까지 내려오 는 디자인 허리선 까지 내려오 는 기장 네크라인 재 원단 마무리 소매 끝 과 밑단 은 삼봉 봉제 처리 앞 , 뒤 길 이 차이 없 는 일자 형 밑단 전체 적 으로 여유 롭 고 편안 한 티셔츠 솔리드 색상 의 심플 하고 깔끔 한 스타일 면 100 % 싱글 저지 신축성 좋 음 두께 감 얇 음 오프 화이트 베이지 덜 톤 의 내추럴 한 컬러 차분 하 고 클래식 편안 한 캐주얼 여유 로운 심플 한 깔끔 한 내추럴 한\n"
     ]
    }
   ],
   "source": [
    "print(dlg_list[\"dlg\"][8951])"
   ],
   "metadata": {
    "collapsed": false,
    "pycharm": {
     "name": "#%%\n"
    }
   }
  },
  {
   "cell_type": "code",
   "execution_count": null,
   "outputs": [],
   "source": [
    "dlg_list['sentence'] = dlg_list[\"dlg\"].apply(lambda x : len(x.split()))"
   ],
   "metadata": {
    "collapsed": false,
    "pycharm": {
     "name": "#%%\n"
    }
   }
  },
  {
   "cell_type": "code",
   "execution_count": 10,
   "outputs": [
    {
     "data": {
      "text/plain": "822"
     },
     "execution_count": 10,
     "metadata": {},
     "output_type": "execute_result"
    }
   ],
   "source": [
    "dlg_list['sentence'].max()"
   ],
   "metadata": {
    "collapsed": false,
    "pycharm": {
     "name": "#%%\n"
    }
   }
  },
  {
   "cell_type": "code",
   "execution_count": 11,
   "outputs": [
    {
     "name": "stderr",
     "output_type": "stream",
     "text": [
      "C:\\Users\\tlsgh\\anaconda3\\envs\\fashionhow\\lib\\site-packages\\seaborn\\distributions.py:2619: FutureWarning: `distplot` is a deprecated function and will be removed in a future version. Please adapt your code to use either `displot` (a figure-level function with similar flexibility) or `histplot` (an axes-level function for histograms).\n",
      "  warnings.warn(msg, FutureWarning)\n"
     ]
    },
    {
     "data": {
      "text/plain": "<Figure size 432x288 with 1 Axes>",
      "image/png": "[encoded data removed]"
     },
     "metadata": {
      "needs_background": "light"
     },
     "output_type": "display_data"
    },
    {
     "name": "stdout",
     "output_type": "stream",
     "text": [
      "가장 긴 문장 내 단어의 수 : 822\n",
      "가장 짧은 문장 내 단어의 수 : 50\n",
      "평균 문장 내 단어의 수 : 204\n"
     ]
    }
   ],
   "source": [
    "def plot_sentence_length(data):\n",
    "    mean_seq_len = np.round(data['sentence'].mean()).astype(int)\n",
    "    sns.distplot(tuple(data['sentence']), hist=True, kde=True, label='Sentence length')\n",
    "    plt.axvline(x=mean_seq_len, color='k', linestyle='--', label=f'Sequence length mean:{mean_seq_len}')\n",
    "    plt.title('Sentence length')\n",
    "    plt.legend()\n",
    "    plt.show()\n",
    "    print(f\"가장 긴 문장 내 단어의 수 : {data['sentence'].max()}\")\n",
    "    print(f\"가장 짧은 문장 내 단어의 수 : {data['sentence'].min()}\")\n",
    "    print(f\"평균 문장 내 단어의 수 : {mean_seq_len}\")\n",
    "\n",
    "plot_sentence_length(dlg_list)"
   ],
   "metadata": {
    "collapsed": false,
    "pycharm": {
     "name": "#%%\n"
    }
   }
  },
  {
   "cell_type": "code",
   "execution_count": 6,
   "outputs": [],
   "source": [
    "X = dlg_list[\"dlg\"]\n",
    "y = pd.to_numeric(dlg_list[\"check\"])"
   ],
   "metadata": {
    "collapsed": false,
    "pycharm": {
     "name": "#%%\n"
    }
   }
  },
  {
   "cell_type": "code",
   "execution_count": 7,
   "outputs": [
    {
     "data": {
      "text/plain": "0    어서 오 세요 코디 봇 입니다 무엇 을 도와 드릴까요 처음 대학교 들어가 는 데 입...\n1    어서 오 세요 코디 봇 입니다 무엇 을 도와 드릴까요 처음 대학교 들어가 는 데 입...\n2    어서 오 세요 코디 봇 입니다 무엇 을 도와 드릴까요 처음 대학교 들어가 는 데 입...\n3    어서 오 세요 코디 봇 입니다 무엇 을 도와 드릴까요 처음 대학교 들어가 는 데 입...\n4    어서 오 세요 코디 봇 입니다 무엇 을 도와 드릴까요 처음 대학교 들어가 는 데 입...\n5    어서 오 세요 코디 봇 입니다 무엇 을 도와 드릴까요 처음 대학교 들어가 는 데 입...\n6    어서 오 세요 코디 봇 입니다 무엇 을 도와 드릴까요 처음 대학교 들어가 는 데 입...\n7    어서 오 세요 코디 봇 입니다 무엇 을 도와 드릴까요 처음 대학교 들어가 는 데 입...\n8    어서 오 세요 코디 봇 입니다 무엇 을 도와 드릴까요 처음 대학교 들어가 는 데 입...\n9    어서 오 세요 코디 봇 입니다 무엇 을 도와 드릴까요 처음 대학교 들어가 는 데 입...\nName: dlg, dtype: object"
     },
     "execution_count": 7,
     "metadata": {},
     "output_type": "execute_result"
    }
   ],
   "source": [
    "dlg_list[:10]\n",
    "X[:10]"
   ],
   "metadata": {
    "collapsed": false,
    "pycharm": {
     "name": "#%%\n"
    }
   }
  },
  {
   "cell_type": "code",
   "execution_count": 8,
   "outputs": [],
   "source": [
    "fl = 1000\n",
    "t = Tokenizer(num_words=fl+1)\n",
    "t.fit_on_texts(X)\n",
    "vocab_size = len(t.word_index) + 1"
   ],
   "metadata": {
    "collapsed": false,
    "pycharm": {
     "name": "#%%\n"
    }
   }
  },
  {
   "cell_type": "code",
   "execution_count": 9,
   "outputs": [
    {
     "name": "stdout",
     "output_type": "stream",
     "text": [
      "7239\n"
     ]
    }
   ],
   "source": [
    "print(vocab_size)"
   ],
   "metadata": {
    "collapsed": false,
    "pycharm": {
     "name": "#%%\n"
    }
   }
  },
  {
   "cell_type": "code",
   "execution_count": 10,
   "outputs": [
    {
     "name": "stdout",
     "output_type": "stream",
     "text": [
      "61234\n"
     ]
    }
   ],
   "source": [
    "dlg_sequence = t.texts_to_sequences(X)\n",
    "print(len(dlg_sequence))"
   ],
   "metadata": {
    "collapsed": false,
    "pycharm": {
     "name": "#%%\n"
    }
   }
  },
  {
   "cell_type": "code",
   "execution_count": 11,
   "outputs": [
    {
     "name": "stdout",
     "output_type": "stream",
     "text": [
      "762\n"
     ]
    }
   ],
   "source": [
    "max_len = max(len(l) for l in dlg_sequence)\n",
    "print(max_len)"
   ],
   "metadata": {
    "collapsed": false,
    "pycharm": {
     "name": "#%%\n"
    }
   }
  },
  {
   "cell_type": "code",
   "execution_count": 12,
   "outputs": [
    {
     "name": "stdout",
     "output_type": "stream",
     "text": [
      "[[133  75   3 ...   0   0   0]\n",
      " [133  75   3 ...   0   0   0]\n",
      " [133  75   3 ...   0   0   0]\n",
      " ...\n",
      " [133  75   3 ...   0   0   0]\n",
      " [133  75   3 ...   0   0   0]\n",
      " [133  75   3 ...   0   0   0]]\n"
     ]
    }
   ],
   "source": [
    "dlg_padding= pad_sequences(dlg_sequence,padding='post',maxlen=max_len)\n",
    "print(dlg_padding[:10])"
   ],
   "metadata": {
    "collapsed": false,
    "pycharm": {
     "name": "#%%\n"
    }
   }
  },
  {
   "cell_type": "code",
   "execution_count": 12,
   "outputs": [],
   "source": [],
   "metadata": {
    "collapsed": false,
    "pycharm": {
     "name": "#%%\n"
    }
   }
  },
  {
   "cell_type": "code",
   "execution_count": 13,
   "outputs": [
    {
     "name": "stdout",
     "output_type": "stream",
     "text": [
      "== LOAD fasttext START at 2021-09-01 17:01:11.551088\n",
      "== LOAD fasttext   END at 2021-09-01 17:02:55.347680\n"
     ]
    }
   ],
   "source": [
    "print(f\"== LOAD fasttext START at {datetime.datetime.now()}\")\n",
    "ft = fasttext.load_facebook_model(\"data/textandembedding/cc.ko.300.bin\")\n",
    "print(f\"== LOAD fasttext   END at {datetime.datetime.now()}\")"
   ],
   "metadata": {
    "collapsed": false,
    "pycharm": {
     "name": "#%%\n"
    }
   }
  },
  {
   "cell_type": "code",
   "execution_count": 14,
   "outputs": [],
   "source": [
    "embedding_dim=300\n",
    "embedding_matrix = np.zeros((vocab_size, embedding_dim))"
   ],
   "metadata": {
    "collapsed": false,
    "pycharm": {
     "name": "#%%\n"
    }
   }
  },
  {
   "cell_type": "code",
   "execution_count": 15,
   "outputs": [
    {
     "data": {
      "text/plain": "array([-6.54214108e-03, -7.56616471e-03,  7.70846615e-03, -9.05489828e-03,\n        7.67194666e-03, -1.52929814e-03,  5.17068151e-03,  1.20648826e-02,\n       -4.53215139e-03,  1.15391081e-02,  2.44196365e-03, -2.32876022e-03,\n        3.91044043e-04, -7.33211823e-03, -1.76302611e-03,  7.53582222e-03,\n        9.51858144e-03,  1.33824060e-02, -1.27239497e-02,  5.16738323e-03,\n       -2.23919447e-03, -5.59783913e-03, -8.22756346e-03,  1.26554864e-02,\n       -4.43653623e-03,  5.37651666e-02,  6.34058705e-03,  2.70937872e-03,\n       -1.98347066e-02,  2.87783943e-04,  7.40830740e-03,  1.08837299e-02,\n        4.48352750e-03, -2.14772839e-02,  5.72171435e-03,  3.79122496e-02,\n       -1.47992047e-02,  7.54602766e-03, -1.30680129e-02, -5.44041104e-04,\n       -4.33749892e-03, -1.93862896e-02, -6.43471815e-03, -1.23484768e-02,\n        1.85693055e-02, -2.43177917e-03,  1.83054013e-04, -7.36260042e-03,\n        1.66769326e-02, -1.86709745e-03, -7.61663029e-03,  1.25203719e-02,\n       -4.88790497e-03, -3.53911892e-04, -1.09071573e-02,  8.92809257e-05,\n        1.59070771e-02,  1.96940475e-03, -5.51414229e-02, -1.19264452e-02,\n        1.48973959e-02, -1.11235930e-02,  6.55166199e-03,  1.74057614e-02,\n        1.63850784e-02,  3.40108909e-02,  3.97674786e-03, -4.03924426e-03,\n       -2.29341146e-02, -1.06698386e-02, -6.48065330e-03, -6.29319064e-03,\n        5.54045662e-04,  8.02612212e-03, -1.47663988e-04, -2.48633139e-03,\n        4.21165768e-03, -6.06517633e-03, -5.52341901e-03, -2.78072804e-03,\n       -1.00845331e-02,  4.90291044e-04, -1.04985237e-02,  1.92600545e-02,\n       -3.18510574e-03,  8.85014143e-03, -4.37029731e-03,  8.66389181e-03,\n       -9.18335223e-04,  9.65315849e-03,  4.16623382e-03, -6.36138534e-03,\n       -6.73161400e-03,  5.90976514e-02,  1.40660198e-03,  1.28354540e-03,\n       -1.56283956e-02,  1.12657035e-02,  3.21090291e-03,  1.96134695e-03,\n        1.58551335e-03, -1.96101759e-02,  5.44698397e-03, -1.31334795e-03,\n        4.02903184e-03, -9.81000345e-03,  3.82452435e-03,  5.87997818e-03,\n        5.98980056e-04,  7.30048073e-03, -3.48295793e-02,  1.18166115e-03,\n       -3.58785060e-03, -1.96342380e-03, -8.56009778e-03, -7.81645719e-03,\n       -1.73867401e-02,  1.22676929e-02, -1.89763177e-05,  8.43930244e-03,\n       -4.15105140e-03,  1.04206754e-02, -2.00616214e-02, -3.31769581e-03,\n        4.38656332e-03, -1.36221275e-02,  8.39850691e-04,  2.50819791e-03,\n        2.33225524e-04, -6.26150810e-04,  1.02009913e-02, -1.33123314e-02,\n        2.44307276e-02,  1.68097531e-03, -3.31887789e-03, -4.25070385e-03,\n       -3.86196584e-03,  1.36770622e-03,  4.16662777e-03,  2.01050751e-03,\n        1.14569096e-02,  1.12519944e-02, -1.59868842e-03, -4.71071660e-04,\n        1.59183759e-02, -2.13913471e-02, -1.94978248e-03, -5.22870198e-03,\n       -3.40398736e-02, -1.08310422e-02,  6.86293514e-03,  3.53459059e-03,\n       -1.31602436e-02, -6.76753419e-03,  2.87506892e-03, -2.78736767e-03,\n        1.71385799e-02, -1.29786627e-02,  8.91384576e-03,  1.06159300e-02,\n       -5.10705030e-03,  9.78359301e-03, -1.42065401e-03,  3.57571268e-03,\n        6.13376917e-03,  9.90084372e-03,  1.88542891e-03, -1.11985451e-03,\n        2.85664271e-03, -1.92873308e-03, -1.57511178e-02, -1.12927677e-02,\n        2.52750274e-02, -2.13672756e-03, -4.82368603e-04, -4.43092221e-03,\n       -8.43984447e-03, -5.95474383e-03, -1.94136359e-04,  1.70046445e-02,\n       -8.34685471e-03,  1.41419424e-02, -2.01659650e-03, -2.55459175e-03,\n        3.00705875e-03, -1.61080975e-02, -1.76764501e-03,  1.06341823e-03,\n        5.21207275e-03, -1.77789666e-02, -1.60698164e-02,  8.91794544e-03,\n        9.47308633e-03,  7.51889870e-03,  1.15028361e-03,  1.58449113e-02,\n       -3.88507079e-03, -2.46666698e-03, -1.22421952e-02,  2.10133893e-03,\n       -5.87150967e-03, -2.65738205e-03,  6.10645674e-03, -1.54664414e-02,\n       -1.28411325e-02,  3.48489149e-03,  1.92046631e-02, -8.45619198e-03,\n       -2.98669282e-03, -3.48318857e-03, -2.06180965e-03, -2.80706901e-02,\n        4.02748352e-03,  2.47321348e-03,  7.07685994e-03, -1.69258064e-03,\n       -8.46892130e-03,  2.22237352e-02,  1.08712697e-02,  4.36026230e-03,\n        3.76306921e-02,  8.43482185e-03,  7.12786103e-03, -6.77970191e-03,\n        2.14100629e-02, -1.25612086e-03, -6.31826138e-03,  3.10087968e-02,\n       -6.51056692e-03,  9.65186674e-03, -3.49108316e-03, -1.80990482e-03,\n       -3.29124206e-03,  5.34542883e-03, -8.71882960e-03,  2.37408397e-03,\n       -2.79620104e-03,  4.73017246e-03, -6.74384693e-03,  1.07892873e-02,\n       -5.33453422e-03,  1.14049362e-02, -4.47939988e-03, -1.90326981e-02,\n        6.85571460e-03,  2.31970847e-02, -1.37967952e-02,  3.45541484e-04,\n       -2.89775431e-04, -3.40055637e-02,  8.34130868e-03, -4.92595183e-03,\n       -5.37624443e-03,  2.42403056e-02,  8.03609751e-03,  8.28785449e-03,\n       -9.12549999e-03, -5.75337745e-03,  6.78341510e-03,  6.97298720e-03,\n        2.32880539e-03, -1.15688508e-02,  3.50436196e-03,  9.42208164e-04,\n       -1.27016976e-02, -7.44298985e-03, -6.98298216e-03,  1.17029622e-02,\n        7.72156799e-03,  1.56056415e-03,  2.05728170e-02,  1.48965672e-04,\n       -7.85922259e-03,  1.03187738e-02, -3.68333631e-03, -2.63147242e-03,\n        3.96272354e-03, -6.52376236e-03,  2.81027728e-03, -6.00571686e-04,\n       -1.68651659e-02,  4.98059066e-03,  3.79905812e-02,  1.39308423e-02,\n       -6.02890551e-03, -5.44467615e-03, -7.48909218e-03,  5.33004664e-03,\n        3.29419062e-03,  6.67735795e-03, -7.47114047e-03,  1.79825705e-02,\n        5.63672453e-04, -1.19541166e-02,  1.73789468e-02, -2.90975295e-04,\n       -6.09147316e-03,  4.43892693e-03, -1.25124992e-03, -8.31294525e-03],\n      dtype=float32)"
     },
     "execution_count": 15,
     "metadata": {},
     "output_type": "execute_result"
    }
   ],
   "source": [
    "ft.wv[\"<OOV>\"]"
   ],
   "metadata": {
    "collapsed": false,
    "pycharm": {
     "name": "#%%\n"
    }
   }
  },
  {
   "cell_type": "code",
   "execution_count": 16,
   "outputs": [
    {
     "name": "stdout",
     "output_type": "stream",
     "text": [
      "[0. 0. 0. 0. 0. 0. 0. 0. 0. 0. 0. 0. 0. 0. 0. 0. 0. 0. 0. 0. 0. 0. 0. 0.\n",
      " 0. 0. 0. 0. 0. 0. 0. 0. 0. 0. 0. 0. 0. 0. 0. 0. 0. 0. 0. 0. 0. 0. 0. 0.\n",
      " 0. 0. 0. 0. 0. 0. 0. 0. 0. 0. 0. 0. 0. 0. 0. 0. 0. 0. 0. 0. 0. 0. 0. 0.\n",
      " 0. 0. 0. 0. 0. 0. 0. 0. 0. 0. 0. 0. 0. 0. 0. 0. 0. 0. 0. 0. 0. 0. 0. 0.\n",
      " 0. 0. 0. 0. 0. 0. 0. 0. 0. 0. 0. 0. 0. 0. 0. 0. 0. 0. 0. 0. 0. 0. 0. 0.\n",
      " 0. 0. 0. 0. 0. 0. 0. 0. 0. 0. 0. 0. 0. 0. 0. 0. 0. 0. 0. 0. 0. 0. 0. 0.\n",
      " 0. 0. 0. 0. 0. 0. 0. 0. 0. 0. 0. 0. 0. 0. 0. 0. 0. 0. 0. 0. 0. 0. 0. 0.\n",
      " 0. 0. 0. 0. 0. 0. 0. 0. 0. 0. 0. 0. 0. 0. 0. 0. 0. 0. 0. 0. 0. 0. 0. 0.\n",
      " 0. 0. 0. 0. 0. 0. 0. 0. 0. 0. 0. 0. 0. 0. 0. 0. 0. 0. 0. 0. 0. 0. 0. 0.\n",
      " 0. 0. 0. 0. 0. 0. 0. 0. 0. 0. 0. 0. 0. 0. 0. 0. 0. 0. 0. 0. 0. 0. 0. 0.\n",
      " 0. 0. 0. 0. 0. 0. 0. 0. 0. 0. 0. 0. 0. 0. 0. 0. 0. 0. 0. 0. 0. 0. 0. 0.\n",
      " 0. 0. 0. 0. 0. 0. 0. 0. 0. 0. 0. 0. 0. 0. 0. 0. 0. 0. 0. 0. 0. 0. 0. 0.\n",
      " 0. 0. 0. 0. 0. 0. 0. 0. 0. 0. 0. 0.]\n"
     ]
    }
   ],
   "source": [
    "print(embedding_matrix[13])"
   ],
   "metadata": {
    "collapsed": false,
    "pycharm": {
     "name": "#%%\n"
    }
   }
  },
  {
   "cell_type": "code",
   "execution_count": 17,
   "outputs": [],
   "source": [
    "for word, i in t.word_index.items(): # 훈련 데이터의 단어 집합에서 단어와 정수 인덱스를 1개씩 꺼내온다.\n",
    "    temp = ft.wv[word] # 단어(key) 해당되는 임베딩 벡터의 값(value)를 temp에 저장\n",
    "    if temp is not None: # 만약 temp가 None이 아니라면 임베딩 벡터의 값을 리턴받은 것이므로\n",
    "        embedding_matrix[i] = temp # embedding_matrix의 해당 단어 위치의 행에 벡터의 값을 저장한다."
   ],
   "metadata": {
    "collapsed": false,
    "pycharm": {
     "name": "#%%\n"
    }
   }
  },
  {
   "cell_type": "code",
   "execution_count": 18,
   "outputs": [
    {
     "data": {
      "text/plain": "array([ 4.89382781e-02, -1.73490774e-02, -1.08951427e-01,  1.26801476e-01,\n        6.52566031e-02,  2.43210942e-01,  1.18720911e-01,  7.12593570e-02,\n       -5.76393753e-02, -6.75969273e-02, -1.98910944e-02,  4.02295589e-02,\n       -4.10502180e-02, -1.09803274e-01,  5.78368548e-03, -1.50344186e-02,\n        3.29012722e-02, -1.03318825e-01,  8.21772367e-02, -8.73394981e-02,\n        2.62525119e-02, -1.23591252e-01, -2.90258396e-02,  3.89796868e-03,\n       -6.56969473e-02,  4.69460934e-01,  4.97056097e-02,  6.38224930e-02,\n        9.24233273e-02, -5.40442169e-02, -1.72629412e-02, -1.25243828e-01,\n       -3.66453975e-02,  1.38018057e-01, -1.22470185e-01, -1.17100207e-02,\n        1.19671216e-02,  1.33716818e-02,  2.18556076e-02,  5.87066077e-03,\n        5.04442165e-03,  5.47819324e-02, -1.45379886e-01,  5.61977364e-02,\n        4.26588431e-02,  4.41179276e-02, -1.07390299e-01,  6.62875772e-02,\n        5.63718639e-02, -2.37071402e-02, -3.51297632e-02,  1.93061959e-02,\n        2.24167411e-03,  6.11941293e-02,  1.37484029e-01, -5.93154989e-02,\n       -2.31120259e-01,  1.55079141e-01, -1.26465827e-01, -2.05742363e-02,\n       -8.60948786e-02, -5.71969338e-02,  6.39817864e-02,  1.78737432e-01,\n       -3.36684883e-01, -2.76362360e-03,  5.30501045e-02, -6.55081943e-02,\n        1.35211974e-01,  6.02220409e-02, -1.03657290e-01, -1.24153510e-01,\n       -1.37192845e-01, -2.40566209e-02,  8.83957148e-02,  1.80590719e-01,\n        5.21174073e-02, -5.15098460e-02,  5.52773140e-02, -1.40286371e-01,\n        8.37268084e-02,  8.15119743e-02,  2.94986949e-03, -2.96056330e-01,\n        5.36756292e-02, -2.72152852e-02, -1.46696921e-02, -6.06663674e-02,\n        6.61251396e-02, -2.74469182e-02, -1.53403578e-03, -1.00148670e-01,\n       -1.36744246e-01,  6.19169399e-02, -7.86259845e-02, -3.33862379e-02,\n       -1.65775660e-02,  9.37042832e-02, -7.00029880e-02,  5.18146828e-02,\n        6.91336170e-02, -2.41781063e-02,  6.99671134e-02, -4.53187339e-02,\n        2.11289413e-02, -1.12685040e-01, -1.64895222e-01, -5.30927330e-02,\n        2.34920662e-02, -4.35540006e-02, -1.57913100e-02, -7.66621623e-03,\n        1.90845821e-02, -3.46295014e-02, -1.03427447e-01,  4.47860174e-02,\n       -1.21588156e-01,  3.31961699e-02, -2.55863100e-01, -7.30895773e-02,\n        5.33912778e-02,  4.77728322e-02, -2.05960572e-02, -5.05197719e-02,\n        3.08271986e-03, -5.48253348e-03, -4.32505123e-02,  6.59490675e-02,\n       -7.99912587e-03,  3.10318917e-02,  8.42167884e-02,  1.03625529e-01,\n       -1.12158842e-01,  8.17021355e-03, -1.00997485e-01,  6.46361113e-02,\n        1.82988141e-02,  4.40428481e-02,  1.29108310e-01, -6.15797602e-02,\n        1.42670363e-01, -9.00481939e-02,  1.06604353e-01,  1.95168495e-01,\n        1.45314364e-02,  5.16915089e-03, -1.53985666e-02, -1.09589044e-02,\n       -4.74264145e-01,  5.01356274e-02, -6.30639568e-02,  4.41908501e-02,\n        4.07367162e-02,  8.74852911e-02, -5.21912985e-02,  5.01214676e-02,\n        2.80202087e-02,  5.60295470e-02,  5.64288832e-02, -2.59228032e-02,\n       -1.97874270e-02, -2.27143634e-02,  1.98719241e-02,  1.33548871e-01,\n        1.12039015e-01,  2.40591243e-02,  5.50885424e-02,  6.55787587e-02,\n       -1.28269181e-01, -3.87889184e-02,  6.55830279e-02,  2.44310394e-01,\n        4.15802486e-02, -7.34995827e-02, -6.25575185e-02,  7.11412057e-02,\n        3.02473027e-02, -3.28487083e-02,  6.07288964e-02, -6.18524551e-02,\n       -7.47864023e-02,  1.16544910e-01,  1.63832605e-01, -4.50089201e-02,\n        6.44633099e-02,  1.61942225e-02,  8.06702226e-02, -4.94566746e-02,\n        1.07815443e-02,  2.31911048e-01, -5.93906678e-02,  1.58422254e-02,\n        9.95816663e-02, -1.09135486e-01, -2.81994883e-02,  2.14640051e-03,\n       -2.21612491e-02,  8.16166997e-02, -8.76861289e-02, -1.38969630e-01,\n        9.66515392e-02,  2.32716687e-02,  2.42857318e-02,  3.86333466e-03,\n       -7.33309016e-02, -1.37846693e-01, -1.03599310e-01,  5.75868078e-02,\n       -1.06327124e-02,  7.07390532e-02,  1.09662369e-01,  1.99744731e-01,\n        1.18523538e-01,  4.51517999e-02,  8.73130858e-02,  7.00529013e-03,\n        8.71402696e-02, -4.16371152e-02, -1.90105870e-01, -3.34739499e-02,\n        2.05549728e-02, -6.39917329e-02,  1.49709120e-01,  7.18220994e-02,\n       -1.32692987e-02, -5.50249266e-03,  2.26648692e-02,  1.16163723e-01,\n        3.04941591e-02, -3.91495675e-02, -9.69975144e-02, -1.06514059e-01,\n       -2.75102686e-02,  1.97329614e-02,  2.52767988e-02, -2.37149559e-02,\n        6.99086338e-02, -1.56986251e-01, -6.01577461e-02,  1.97253563e-02,\n       -7.75172338e-02, -4.76774611e-02, -1.11482345e-01,  5.51642757e-03,\n       -2.09775567e-01, -2.93879975e-02,  6.29253387e-02,  1.08506240e-01,\n       -3.45235952e-04,  1.38187274e-01, -2.09586620e-01,  3.77058028e-03,\n       -9.57174152e-02, -1.52294710e-01, -5.36943711e-02,  7.46783242e-02,\n        9.98718441e-02,  3.97080481e-02, -1.04057685e-01, -1.81150064e-02,\n        2.25747153e-01,  7.65413344e-02, -1.83060125e-01, -1.04954019e-01,\n        1.34992540e-01, -1.16044190e-03,  7.89747536e-02, -4.77012321e-02,\n       -1.00938715e-01, -2.29302540e-01,  1.01284310e-01,  3.23041379e-02,\n       -6.90098703e-02, -5.51628508e-02,  1.32552534e-01, -3.77533212e-03,\n        1.03512069e-03, -7.09277540e-02,  1.01717956e-01,  2.09745467e-02,\n       -3.20778340e-02,  2.07652822e-02,  1.45160211e-02,  4.19437559e-03,\n       -2.57900488e-02, -5.19075505e-02, -1.97570890e-01,  4.77616340e-02,\n        2.28994880e-02, -1.11974049e-02,  6.62274063e-02, -7.61731900e-03,\n       -1.26336422e-02,  1.07283838e-01,  2.46560350e-02,  8.78060386e-02,\n        4.41083647e-02,  3.99456434e-02, -4.53711436e-05, -1.52658552e-01])"
     },
     "execution_count": 18,
     "metadata": {},
     "output_type": "execute_result"
    }
   ],
   "source": [
    "embedding_matrix[1]"
   ],
   "metadata": {
    "collapsed": false,
    "pycharm": {
     "name": "#%%\n"
    }
   }
  },
  {
   "cell_type": "code",
   "execution_count": 19,
   "outputs": [],
   "source": [
    "from tensorflow.keras.callbacks import EarlyStopping\n",
    "\n",
    "early_stop = EarlyStopping(monitor='val_loss', patience=2, verbose=1)\n",
    "\n"
   ],
   "metadata": {
    "collapsed": false,
    "pycharm": {
     "name": "#%%\n"
    }
   }
  },
  {
   "cell_type": "code",
   "execution_count": 1,
   "outputs": [
    {
     "ename": "NameError",
     "evalue": "name 'tf' is not defined",
     "output_type": "error",
     "traceback": [
      "\u001B[1;31m---------------------------------------------------------------------------\u001B[0m",
      "\u001B[1;31mNameError\u001B[0m                                 Traceback (most recent call last)",
      "\u001B[1;32m~\\AppData\\Local\\Temp/ipykernel_23008/2397470416.py\u001B[0m in \u001B[0;36m<module>\u001B[1;34m\u001B[0m\n\u001B[1;32m----> 1\u001B[1;33m model_bilstm = tf.keras.Sequential([\n\u001B[0m\u001B[0;32m      2\u001B[0m     \u001B[0mtf\u001B[0m\u001B[1;33m.\u001B[0m\u001B[0mkeras\u001B[0m\u001B[1;33m.\u001B[0m\u001B[0mlayers\u001B[0m\u001B[1;33m.\u001B[0m\u001B[0mEmbedding\u001B[0m\u001B[1;33m(\u001B[0m\u001B[0mvocab_size\u001B[0m\u001B[1;33m,\u001B[0m \u001B[0membedding_dim\u001B[0m\u001B[1;33m,\u001B[0m \u001B[0mweights\u001B[0m\u001B[1;33m=\u001B[0m\u001B[1;33m[\u001B[0m\u001B[0membedding_matrix\u001B[0m\u001B[1;33m]\u001B[0m\u001B[1;33m,\u001B[0m \u001B[0minput_length\u001B[0m\u001B[1;33m=\u001B[0m\u001B[0mmax_len\u001B[0m\u001B[1;33m)\u001B[0m\u001B[1;33m,\u001B[0m\u001B[1;33m\u001B[0m\u001B[1;33m\u001B[0m\u001B[0m\n\u001B[0;32m      3\u001B[0m     \u001B[0mtf\u001B[0m\u001B[1;33m.\u001B[0m\u001B[0mkeras\u001B[0m\u001B[1;33m.\u001B[0m\u001B[0mlayers\u001B[0m\u001B[1;33m.\u001B[0m\u001B[0mDropout\u001B[0m\u001B[1;33m(\u001B[0m\u001B[0mrate\u001B[0m\u001B[1;33m=\u001B[0m\u001B[1;36m0.4\u001B[0m\u001B[1;33m)\u001B[0m\u001B[1;33m,\u001B[0m\u001B[1;33m\u001B[0m\u001B[1;33m\u001B[0m\u001B[0m\n\u001B[0;32m      4\u001B[0m     \u001B[0mtf\u001B[0m\u001B[1;33m.\u001B[0m\u001B[0mkeras\u001B[0m\u001B[1;33m.\u001B[0m\u001B[0mlayers\u001B[0m\u001B[1;33m.\u001B[0m\u001B[0mConv1D\u001B[0m\u001B[1;33m(\u001B[0m\u001B[0mfilters\u001B[0m\u001B[1;33m=\u001B[0m\u001B[1;36m32\u001B[0m\u001B[1;33m,\u001B[0m \u001B[0mkernel_size\u001B[0m\u001B[1;33m=\u001B[0m\u001B[1;36m3\u001B[0m\u001B[1;33m,\u001B[0m \u001B[0mpadding\u001B[0m\u001B[1;33m=\u001B[0m\u001B[1;34m'same'\u001B[0m\u001B[1;33m,\u001B[0m \u001B[0mactivation\u001B[0m\u001B[1;33m=\u001B[0m\u001B[1;34m'relu'\u001B[0m\u001B[1;33m)\u001B[0m\u001B[1;33m,\u001B[0m\u001B[1;33m\u001B[0m\u001B[1;33m\u001B[0m\u001B[0m\n\u001B[0;32m      5\u001B[0m     \u001B[0mtf\u001B[0m\u001B[1;33m.\u001B[0m\u001B[0mkeras\u001B[0m\u001B[1;33m.\u001B[0m\u001B[0mlayers\u001B[0m\u001B[1;33m.\u001B[0m\u001B[0mGlobalMaxPooling1D\u001B[0m\u001B[1;33m(\u001B[0m\u001B[1;33m)\u001B[0m\u001B[1;33m,\u001B[0m\u001B[1;33m\u001B[0m\u001B[1;33m\u001B[0m\u001B[0m\n",
      "\u001B[1;31mNameError\u001B[0m: name 'tf' is not defined"
     ]
    }
   ],
   "source": [
    "model_bilstm = tf.keras.Sequential([\n",
    "    tf.keras.layers.Embedding(vocab_size, embedding_dim, weights=[embedding_matrix], input_length=max_len),\n",
    "    tf.keras.layers.Dropout(rate=0.4),\n",
    "    tf.keras.layers.Conv1D(filters=32, kernel_size=3, padding='same', activation='relu'),\n",
    "    tf.keras.layers.GlobalMaxPooling1D(),\n",
    "    tf.keras.layers.Dropout(rate=0.5),\n",
    "    tf.keras.layers.Dense(units=128, activation='relu'),\n",
    "    tf.keras.layers.Dropout(rate=0.5),\n",
    "    tf.keras.layers.Dense(1, activation=\"sigmoid\")\n",
    "])\n",
    "model_bilstm.compile(loss='binary_crossentropy',\n",
    "                 optimizer='adam',\n",
    "                 metrics=['accuracy'])\n",
    "history = model_bilstm.fit(dlg_padding, y,\n",
    "                epochs=10,validation_split=0.2,\n",
    "                batch_size=8,use_multiprocessing=True,callbacks=early_stop)\n"
   ],
   "metadata": {
    "collapsed": false,
    "pycharm": {
     "name": "#%%\n"
    }
   }
  },
  {
   "cell_type": "code",
   "execution_count": 26,
   "outputs": [
    {
     "data": {
      "text/plain": "[name: \"/device:CPU:0\"\n device_type: \"CPU\"\n memory_limit: 268435456\n locality {\n }\n incarnation: 1929654702046704181,\n name: \"/device:XLA_CPU:0\"\n device_type: \"XLA_CPU\"\n memory_limit: 17179869184\n locality {\n }\n incarnation: 12018909857476404327\n physical_device_desc: \"device: XLA_CPU device\",\n name: \"/device:GPU:0\"\n device_type: \"GPU\"\n memory_limit: 6918604064\n locality {\n   bus_id: 1\n   links {\n   }\n }\n incarnation: 1811201017180677678\n physical_device_desc: \"device: 0, name: NVIDIA GeForce RTX 2080 SUPER, pci bus id: 0000:09:00.0, compute capability: 7.5\",\n name: \"/device:XLA_GPU:0\"\n device_type: \"XLA_GPU\"\n memory_limit: 17179869184\n locality {\n }\n incarnation: 7310982709101044615\n physical_device_desc: \"device: XLA_GPU device\"]"
     },
     "execution_count": 26,
     "metadata": {},
     "output_type": "execute_result"
    }
   ],
   "source": [
    "from tensorflow.python.client import device_lib\n",
    "device_lib.list_local_devices()"
   ],
   "metadata": {
    "collapsed": false,
    "pycharm": {
     "name": "#%%\n"
    }
   }
  },
  {
   "cell_type": "code",
   "execution_count": 3,
   "outputs": [
    {
     "data": {
      "text/plain": "True"
     },
     "execution_count": 3,
     "metadata": {},
     "output_type": "execute_result"
    }
   ],
   "source": [
    "import tensorflow as tf\n",
    "tf.test.is_built_with_cuda()"
   ],
   "metadata": {
    "collapsed": false,
    "pycharm": {
     "name": "#%%\n"
    }
   }
  },
  {
   "cell_type": "code",
   "execution_count": 4,
   "outputs": [
    {
     "data": {
      "text/plain": "'2.3.0'"
     },
     "execution_count": 4,
     "metadata": {},
     "output_type": "execute_result"
    }
   ],
   "source": [
    "tf.__version__\n"
   ],
   "metadata": {
    "collapsed": false,
    "pycharm": {
     "name": "#%%\n"
    }
   }
  },
  {
   "cell_type": "code",
   "execution_count": 27,
   "outputs": [
    {
     "data": {
      "text/plain": "True"
     },
     "execution_count": 27,
     "metadata": {},
     "output_type": "execute_result"
    }
   ],
   "source": [
    "import tensorflow as tf\n",
    "tf.test.is_gpu_available( cuda_only=False, min_cuda_compute_capability=None )\n",
    "\n"
   ],
   "metadata": {
    "collapsed": false,
    "pycharm": {
     "name": "#%%\n"
    }
   }
  },
  {
   "cell_type": "code",
   "execution_count": 28,
   "outputs": [
    {
     "name": "stdout",
     "output_type": "stream",
     "text": [
      "[name: \"/device:CPU:0\"\n",
      "device_type: \"CPU\"\n",
      "memory_limit: 268435456\n",
      "locality {\n",
      "}\n",
      "incarnation: 14280220399292160498\n",
      ", name: \"/device:XLA_CPU:0\"\n",
      "device_type: \"XLA_CPU\"\n",
      "memory_limit: 17179869184\n",
      "locality {\n",
      "}\n",
      "incarnation: 16406887856951587258\n",
      "physical_device_desc: \"device: XLA_CPU device\"\n",
      ", name: \"/device:GPU:0\"\n",
      "device_type: \"GPU\"\n",
      "memory_limit: 6918604064\n",
      "locality {\n",
      "  bus_id: 1\n",
      "  links {\n",
      "  }\n",
      "}\n",
      "incarnation: 4697821684733195425\n",
      "physical_device_desc: \"device: 0, name: NVIDIA GeForce RTX 2080 SUPER, pci bus id: 0000:09:00.0, compute capability: 7.5\"\n",
      ", name: \"/device:XLA_GPU:0\"\n",
      "device_type: \"XLA_GPU\"\n",
      "memory_limit: 17179869184\n",
      "locality {\n",
      "}\n",
      "incarnation: 16012728856588518054\n",
      "physical_device_desc: \"device: XLA_GPU device\"\n",
      "]\n"
     ]
    }
   ],
   "source": [
    "from tensorflow.python.client import device_lib\n",
    "\n",
    "print(device_lib.list_local_devices())\n"
   ],
   "metadata": {
    "collapsed": false,
    "pycharm": {
     "name": "#%%\n"
    }
   }
  },
  {
   "cell_type": "code",
   "execution_count": 29,
   "outputs": [
    {
     "name": "stdout",
     "output_type": "stream",
     "text": [
      "Executing op MatMul in device /job:localhost/replica:0/task:0/device:GPU:0\n",
      "tf.Tensor(\n",
      "[[22. 28.]\n",
      " [49. 64.]], shape=(2, 2), dtype=float32)\n"
     ]
    }
   ],
   "source": [
    "import tensorflow as tf\n",
    "\n",
    "tf.debugging.set_log_device_placement(True)\n",
    "\n",
    "# 텐서 생성\n",
    "a = tf.constant([[1.0, 2.0, 3.0], [4.0, 5.0, 6.0]])\n",
    "b = tf.constant([[1.0, 2.0], [3.0, 4.0], [5.0, 6.0]])\n",
    "c = tf.matmul(a, b)\n",
    "\n",
    "print(c)"
   ],
   "metadata": {
    "collapsed": false,
    "pycharm": {
     "name": "#%%\n"
    }
   }
  },
  {
   "cell_type": "code",
   "execution_count": null,
   "outputs": [],
   "source": [],
   "metadata": {
    "collapsed": false,
    "pycharm": {
     "name": "#%%\n"
    }
   }
  }
 ],
 "metadata": {
  "kernelspec": {
   "name": "pycharm-2b894917",
   "language": "python",
   "display_name": "PyCharm (pythonProject2)"
  },
  "language_info": {
   "codemirror_mode": {
    "name": "ipython",
    "version": 2
   },
   "file_extension": ".py",
   "mimetype": "text/x-python",
   "name": "python",
   "nbconvert_exporter": "python",
   "pygments_lexer": "ipython2",
   "version": "2.7.6"
  }
 },
 "nbformat": 4,
 "nbformat_minor": 0
}