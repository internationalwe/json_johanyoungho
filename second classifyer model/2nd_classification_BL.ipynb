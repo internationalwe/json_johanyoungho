{
 "cells": [
  {
   "cell_type": "code",
   "execution_count": 1,
   "source": [
    "import pandas as pd\n",
    "\n",
    "ddata = pd.read_csv(\"./data/ddata.txt\", encoding=\"euc-kr\", sep=\"\\t\", names=[\"num\",\"speaker\",\"contents\",\"tags\"])\n",
    "mdata = pd.read_csv(\"./data/mdata.txt\", encoding=\"euc-kr\", sep=\"\\t\", names=[\"id\",\"part\",\"category\",\"exptype\",\"exp\"])\n",
    "\n",
    "ddata.head()"
   ],
   "outputs": [
    {
     "output_type": "execute_result",
     "data": {
      "text/html": [
       "<div>\n",
       "<style scoped>\n",
       "    .dataframe tbody tr th:only-of-type {\n",
       "        vertical-align: middle;\n",
       "    }\n",
       "\n",
       "    .dataframe tbody tr th {\n",
       "        vertical-align: top;\n",
       "    }\n",
       "\n",
       "    .dataframe thead th {\n",
       "        text-align: right;\n",
       "    }\n",
       "</style>\n",
       "<table border=\"1\" class=\"dataframe\">\n",
       "  <thead>\n",
       "    <tr style=\"text-align: right;\">\n",
       "      <th></th>\n",
       "      <th>num</th>\n",
       "      <th>speaker</th>\n",
       "      <th>contents</th>\n",
       "      <th>tags</th>\n",
       "    </tr>\n",
       "  </thead>\n",
       "  <tbody>\n",
       "    <tr>\n",
       "      <th>0</th>\n",
       "      <td>0</td>\n",
       "      <td>&lt;CO&gt;</td>\n",
       "      <td>어서오세요. 코디봇입니다. 무엇을 도와드릴까요?</td>\n",
       "      <td>INTRO</td>\n",
       "    </tr>\n",
       "    <tr>\n",
       "      <th>1</th>\n",
       "      <td>1</td>\n",
       "      <td>&lt;US&gt;</td>\n",
       "      <td>처음 대학교 들어가는데 입을 옷 코디해주세요.</td>\n",
       "      <td>NaN</td>\n",
       "    </tr>\n",
       "    <tr>\n",
       "      <th>2</th>\n",
       "      <td>2</td>\n",
       "      <td>&lt;CO&gt;</td>\n",
       "      <td>신입생 코디에 어울리게 화사한 스웨터를 추천해드릴게요.</td>\n",
       "      <td>EXP_RES_SITUATION;EXP_RES_DESCRIPTION</td>\n",
       "    </tr>\n",
       "    <tr>\n",
       "      <th>3</th>\n",
       "      <td>3</td>\n",
       "      <td>&lt;AC&gt;</td>\n",
       "      <td>SW-009</td>\n",
       "      <td>NaN</td>\n",
       "    </tr>\n",
       "    <tr>\n",
       "      <th>4</th>\n",
       "      <td>4</td>\n",
       "      <td>&lt;US&gt;</td>\n",
       "      <td>이 옷에 어울리는 치마로 추천해주세요.</td>\n",
       "      <td>USER_SUCCESS</td>\n",
       "    </tr>\n",
       "  </tbody>\n",
       "</table>\n",
       "</div>"
      ],
      "text/plain": [
       "   num speaker                         contents  \\\n",
       "0    0    <CO>       어서오세요. 코디봇입니다. 무엇을 도와드릴까요?   \n",
       "1    1    <US>        처음 대학교 들어가는데 입을 옷 코디해주세요.   \n",
       "2    2    <CO>   신입생 코디에 어울리게 화사한 스웨터를 추천해드릴게요.   \n",
       "3    3    <AC>                           SW-009   \n",
       "4    4    <US>            이 옷에 어울리는 치마로 추천해주세요.   \n",
       "\n",
       "                                    tags  \n",
       "0                                  INTRO  \n",
       "1                                    NaN  \n",
       "2  EXP_RES_SITUATION;EXP_RES_DESCRIPTION  \n",
       "3                                    NaN  \n",
       "4                           USER_SUCCESS  "
      ]
     },
     "metadata": {},
     "execution_count": 1
    }
   ],
   "metadata": {}
  },
  {
   "cell_type": "markdown",
   "source": [
    "# 1. 전체 대화셋 개수 카운트"
   ],
   "metadata": {}
  },
  {
   "cell_type": "code",
   "execution_count": 2,
   "source": [
    "dial_num = 0\n",
    "\n",
    "for i in range(1, len(ddata)):\n",
    "    if ddata.loc[i, \"num\"] == 0:\n",
    "        dial_num += 1\n",
    "print(\"총 대화셋 수: \",dial_num)"
   ],
   "outputs": [
    {
     "output_type": "stream",
     "name": "stdout",
     "text": [
      "총 대화셋 수:  7235\n"
     ]
    }
   ],
   "metadata": {}
  },
  {
   "cell_type": "markdown",
   "source": [
    "# 2. Mdata 합치기"
   ],
   "metadata": {}
  },
  {
   "cell_type": "markdown",
   "source": [
    "## - Part 살려서 합치기"
   ],
   "metadata": {}
  },
  {
   "cell_type": "code",
   "execution_count": 3,
   "source": [
    "c_mdata = pd.DataFrame({\"id\":[0],\"exp\":[None]})\n",
    "c_mdata.drop(0, axis=0, inplace=True)\n",
    "c_mdata"
   ],
   "outputs": [
    {
     "output_type": "execute_result",
     "data": {
      "text/html": [
       "<div>\n",
       "<style scoped>\n",
       "    .dataframe tbody tr th:only-of-type {\n",
       "        vertical-align: middle;\n",
       "    }\n",
       "\n",
       "    .dataframe tbody tr th {\n",
       "        vertical-align: top;\n",
       "    }\n",
       "\n",
       "    .dataframe thead th {\n",
       "        text-align: right;\n",
       "    }\n",
       "</style>\n",
       "<table border=\"1\" class=\"dataframe\">\n",
       "  <thead>\n",
       "    <tr style=\"text-align: right;\">\n",
       "      <th></th>\n",
       "      <th>id</th>\n",
       "      <th>exp</th>\n",
       "    </tr>\n",
       "  </thead>\n",
       "  <tbody>\n",
       "  </tbody>\n",
       "</table>\n",
       "</div>"
      ],
      "text/plain": [
       "Empty DataFrame\n",
       "Columns: [id, exp]\n",
       "Index: []"
      ]
     },
     "metadata": {},
     "execution_count": 3
    }
   ],
   "metadata": {}
  },
  {
   "cell_type": "code",
   "execution_count": 4,
   "source": [
    "id = \"\"\n",
    "idx = 0\n",
    "for i in range(len(mdata)):\n",
    "    if id == mdata.loc[i, \"id\"]:\n",
    "        c_mdata.loc[c_mdata.index[(c_mdata[\"id\"] == id)].tolist().pop(),\"exp\"] = c_mdata.loc[c_mdata.index[(c_mdata[\"id\"] == id)].tolist().pop(),\"exp\"] + \" \" + mdata.loc[i, \"exp\"]\n",
    "    \n",
    "    else:\n",
    "        id = mdata.loc[i, \"id\"]\n",
    "        c_mdata.loc[i, \"id\"] = id\n",
    "        c_mdata.loc[i, \"exp\"] = mdata.loc[i, \"exp\"]\n",
    "\n",
    "c_mdata.head()"
   ],
   "outputs": [
    {
     "output_type": "execute_result",
     "data": {
      "text/html": [
       "<div>\n",
       "<style scoped>\n",
       "    .dataframe tbody tr th:only-of-type {\n",
       "        vertical-align: middle;\n",
       "    }\n",
       "\n",
       "    .dataframe tbody tr th {\n",
       "        vertical-align: top;\n",
       "    }\n",
       "\n",
       "    .dataframe thead th {\n",
       "        text-align: right;\n",
       "    }\n",
       "</style>\n",
       "<table border=\"1\" class=\"dataframe\">\n",
       "  <thead>\n",
       "    <tr style=\"text-align: right;\">\n",
       "      <th></th>\n",
       "      <th>id</th>\n",
       "      <th>exp</th>\n",
       "    </tr>\n",
       "  </thead>\n",
       "  <tbody>\n",
       "    <tr>\n",
       "      <th>0</th>\n",
       "      <td>BL-001</td>\n",
       "      <td>단추 여밈의 전체 오픈형 스탠드 칼라와 브이넥 네크라인의 결합스타일 손목까지 내려오...</td>\n",
       "    </tr>\n",
       "    <tr>\n",
       "      <th>20</th>\n",
       "      <td>BL-002</td>\n",
       "      <td>넓은 셔츠칼라 네크라인 앞중심에 반 오픈 끈여밈있는 스타일 드롭숄더 퍼프형 소매로 ...</td>\n",
       "    </tr>\n",
       "    <tr>\n",
       "      <th>38</th>\n",
       "      <td>BL-003</td>\n",
       "      <td>앞 중심에 단추 여밈 칼라가 없는 넓고 깊게 파인 브이넥 엉덩이 밑으로 내려오는 긴...</td>\n",
       "    </tr>\n",
       "    <tr>\n",
       "      <th>63</th>\n",
       "      <td>BL-004</td>\n",
       "      <td>앞중심에 단추 여밈 칼라가 없는 라운드넥으로 골반 위에서 끝나는 짧은 기장 손목, ...</td>\n",
       "    </tr>\n",
       "    <tr>\n",
       "      <th>84</th>\n",
       "      <td>BL-005</td>\n",
       "      <td>앞단추 여밈의 전체 오픈형 칼라가 없는 라운드넥크라인 엉덩이 위에서 끝나는 짧은 기...</td>\n",
       "    </tr>\n",
       "  </tbody>\n",
       "</table>\n",
       "</div>"
      ],
      "text/plain": [
       "         id                                                exp\n",
       "0   BL-001   단추 여밈의 전체 오픈형 스탠드 칼라와 브이넥 네크라인의 결합스타일 손목까지 내려오...\n",
       "20  BL-002   넓은 셔츠칼라 네크라인 앞중심에 반 오픈 끈여밈있는 스타일 드롭숄더 퍼프형 소매로 ...\n",
       "38  BL-003   앞 중심에 단추 여밈 칼라가 없는 넓고 깊게 파인 브이넥 엉덩이 밑으로 내려오는 긴...\n",
       "63  BL-004   앞중심에 단추 여밈 칼라가 없는 라운드넥으로 골반 위에서 끝나는 짧은 기장 손목, ...\n",
       "84  BL-005   앞단추 여밈의 전체 오픈형 칼라가 없는 라운드넥크라인 엉덩이 위에서 끝나는 짧은 기..."
      ]
     },
     "metadata": {},
     "execution_count": 4
    }
   ],
   "metadata": {}
  },
  {
   "cell_type": "code",
   "execution_count": 5,
   "source": [
    "for i in range(len(c_mdata)): # id 뒤에 공백 없애기\n",
    "    c_mdata.iloc[i].id = c_mdata.iloc[i].id.strip()\n",
    "\n",
    "print(c_mdata.iloc[0].id)\n",
    "c_mdata.reset_index(drop=True,inplace=True)\n",
    "c_mdata.head()"
   ],
   "outputs": [
    {
     "output_type": "stream",
     "name": "stdout",
     "text": [
      "BL-001\n"
     ]
    },
    {
     "output_type": "execute_result",
     "data": {
      "text/html": [
       "<div>\n",
       "<style scoped>\n",
       "    .dataframe tbody tr th:only-of-type {\n",
       "        vertical-align: middle;\n",
       "    }\n",
       "\n",
       "    .dataframe tbody tr th {\n",
       "        vertical-align: top;\n",
       "    }\n",
       "\n",
       "    .dataframe thead th {\n",
       "        text-align: right;\n",
       "    }\n",
       "</style>\n",
       "<table border=\"1\" class=\"dataframe\">\n",
       "  <thead>\n",
       "    <tr style=\"text-align: right;\">\n",
       "      <th></th>\n",
       "      <th>id</th>\n",
       "      <th>exp</th>\n",
       "    </tr>\n",
       "  </thead>\n",
       "  <tbody>\n",
       "    <tr>\n",
       "      <th>0</th>\n",
       "      <td>BL-001</td>\n",
       "      <td>단추 여밈의 전체 오픈형 스탠드 칼라와 브이넥 네크라인의 결합스타일 손목까지 내려오...</td>\n",
       "    </tr>\n",
       "    <tr>\n",
       "      <th>1</th>\n",
       "      <td>BL-002</td>\n",
       "      <td>넓은 셔츠칼라 네크라인 앞중심에 반 오픈 끈여밈있는 스타일 드롭숄더 퍼프형 소매로 ...</td>\n",
       "    </tr>\n",
       "    <tr>\n",
       "      <th>2</th>\n",
       "      <td>BL-003</td>\n",
       "      <td>앞 중심에 단추 여밈 칼라가 없는 넓고 깊게 파인 브이넥 엉덩이 밑으로 내려오는 긴...</td>\n",
       "    </tr>\n",
       "    <tr>\n",
       "      <th>3</th>\n",
       "      <td>BL-004</td>\n",
       "      <td>앞중심에 단추 여밈 칼라가 없는 라운드넥으로 골반 위에서 끝나는 짧은 기장 손목, ...</td>\n",
       "    </tr>\n",
       "    <tr>\n",
       "      <th>4</th>\n",
       "      <td>BL-005</td>\n",
       "      <td>앞단추 여밈의 전체 오픈형 칼라가 없는 라운드넥크라인 엉덩이 위에서 끝나는 짧은 기...</td>\n",
       "    </tr>\n",
       "  </tbody>\n",
       "</table>\n",
       "</div>"
      ],
      "text/plain": [
       "       id                                                exp\n",
       "0  BL-001  단추 여밈의 전체 오픈형 스탠드 칼라와 브이넥 네크라인의 결합스타일 손목까지 내려오...\n",
       "1  BL-002  넓은 셔츠칼라 네크라인 앞중심에 반 오픈 끈여밈있는 스타일 드롭숄더 퍼프형 소매로 ...\n",
       "2  BL-003  앞 중심에 단추 여밈 칼라가 없는 넓고 깊게 파인 브이넥 엉덩이 밑으로 내려오는 긴...\n",
       "3  BL-004  앞중심에 단추 여밈 칼라가 없는 라운드넥으로 골반 위에서 끝나는 짧은 기장 손목, ...\n",
       "4  BL-005  앞단추 여밈의 전체 오픈형 칼라가 없는 라운드넥크라인 엉덩이 위에서 끝나는 짧은 기..."
      ]
     },
     "metadata": {},
     "execution_count": 5
    }
   ],
   "metadata": {}
  },
  {
   "cell_type": "markdown",
   "source": [
    "# 3. NaN, Null 값 확인"
   ],
   "metadata": {}
  },
  {
   "cell_type": "code",
   "execution_count": 6,
   "source": [
    "ddata.drop(ddata.index[ddata.tags == \"INTRO\"].tolist(), axis=0, inplace=True)\n",
    "ddata.reset_index(drop=True, inplace=True)\n",
    "ddata[ddata.tags == \"INTRO\"]"
   ],
   "outputs": [
    {
     "output_type": "execute_result",
     "data": {
      "text/html": [
       "<div>\n",
       "<style scoped>\n",
       "    .dataframe tbody tr th:only-of-type {\n",
       "        vertical-align: middle;\n",
       "    }\n",
       "\n",
       "    .dataframe tbody tr th {\n",
       "        vertical-align: top;\n",
       "    }\n",
       "\n",
       "    .dataframe thead th {\n",
       "        text-align: right;\n",
       "    }\n",
       "</style>\n",
       "<table border=\"1\" class=\"dataframe\">\n",
       "  <thead>\n",
       "    <tr style=\"text-align: right;\">\n",
       "      <th></th>\n",
       "      <th>num</th>\n",
       "      <th>speaker</th>\n",
       "      <th>contents</th>\n",
       "      <th>tags</th>\n",
       "    </tr>\n",
       "  </thead>\n",
       "  <tbody>\n",
       "  </tbody>\n",
       "</table>\n",
       "</div>"
      ],
      "text/plain": [
       "Empty DataFrame\n",
       "Columns: [num, speaker, contents, tags]\n",
       "Index: []"
      ]
     },
     "metadata": {},
     "execution_count": 6
    }
   ],
   "metadata": {}
  },
  {
   "cell_type": "code",
   "execution_count": 7,
   "source": [
    "ddata.isnull().sum()"
   ],
   "outputs": [
    {
     "output_type": "execute_result",
     "data": {
      "text/plain": [
       "num             0\n",
       "speaker         0\n",
       "contents        0\n",
       "tags        51927\n",
       "dtype: int64"
      ]
     },
     "metadata": {},
     "execution_count": 7
    }
   ],
   "metadata": {}
  },
  {
   "cell_type": "code",
   "execution_count": 8,
   "source": [
    "ddata.isna().sum()"
   ],
   "outputs": [
    {
     "output_type": "execute_result",
     "data": {
      "text/plain": [
       "num             0\n",
       "speaker         0\n",
       "contents        0\n",
       "tags        51927\n",
       "dtype: int64"
      ]
     },
     "metadata": {},
     "execution_count": 8
    }
   ],
   "metadata": {}
  },
  {
   "cell_type": "code",
   "execution_count": 9,
   "source": [
    "ddata.fillna(\"\", inplace=True)\n",
    "ddata.isna().sum()"
   ],
   "outputs": [
    {
     "output_type": "execute_result",
     "data": {
      "text/plain": [
       "num         0\n",
       "speaker     0\n",
       "contents    0\n",
       "tags        0\n",
       "dtype: int64"
      ]
     },
     "metadata": {},
     "execution_count": 9
    }
   ],
   "metadata": {}
  },
  {
   "cell_type": "code",
   "execution_count": 10,
   "source": [
    "mdata.isnull().sum()"
   ],
   "outputs": [
    {
     "output_type": "execute_result",
     "data": {
      "text/plain": [
       "id          0\n",
       "part        0\n",
       "category    0\n",
       "exptype     0\n",
       "exp         0\n",
       "dtype: int64"
      ]
     },
     "metadata": {},
     "execution_count": 10
    }
   ],
   "metadata": {}
  },
  {
   "cell_type": "code",
   "execution_count": 11,
   "source": [
    "c_mdata.isnull().sum()"
   ],
   "outputs": [
    {
     "output_type": "execute_result",
     "data": {
      "text/plain": [
       "id     0\n",
       "exp    0\n",
       "dtype: int64"
      ]
     },
     "metadata": {},
     "execution_count": 11
    }
   ],
   "metadata": {}
  },
  {
   "cell_type": "markdown",
   "source": [
    "# 4. 추천 성공 의상 아이디 종류 및 빈도 카운트 "
   ],
   "metadata": {}
  },
  {
   "cell_type": "markdown",
   "source": [
    "## 한 번에 추천해도 실패하면 전부 실패로 달기"
   ],
   "metadata": {}
  },
  {
   "cell_type": "code",
   "execution_count": 12,
   "source": [
    "c_data = pd.DataFrame({\"contents\":[None], \"id\":[\"xx-xxx\"]})\n",
    "c_data.drop(0,axis=0,inplace=True)\n",
    "c_data.head()"
   ],
   "outputs": [
    {
     "output_type": "execute_result",
     "data": {
      "text/html": [
       "<div>\n",
       "<style scoped>\n",
       "    .dataframe tbody tr th:only-of-type {\n",
       "        vertical-align: middle;\n",
       "    }\n",
       "\n",
       "    .dataframe tbody tr th {\n",
       "        vertical-align: top;\n",
       "    }\n",
       "\n",
       "    .dataframe thead th {\n",
       "        text-align: right;\n",
       "    }\n",
       "</style>\n",
       "<table border=\"1\" class=\"dataframe\">\n",
       "  <thead>\n",
       "    <tr style=\"text-align: right;\">\n",
       "      <th></th>\n",
       "      <th>contents</th>\n",
       "      <th>id</th>\n",
       "    </tr>\n",
       "  </thead>\n",
       "  <tbody>\n",
       "  </tbody>\n",
       "</table>\n",
       "</div>"
      ],
      "text/plain": [
       "Empty DataFrame\n",
       "Columns: [contents, id]\n",
       "Index: []"
      ]
     },
     "metadata": {},
     "execution_count": 12
    }
   ],
   "metadata": {}
  },
  {
   "cell_type": "markdown",
   "source": [
    "<코드 동작 원리>\n",
    "<br>\n",
    "\n",
    "대화문 하나씩 받아온 다음\n",
    "- AC 태그 문장이면 일단 의상 변수에 저장,\n",
    "- user_success 태그 문장이면\n",
    "\n",
    "   - 변수에 저장된 의상이 하나면\n",
    "\n",
    "      - 바로 대화문 변수랑 의상 변수 및 의상 메타데이터 합쳐서 저장 -> 레이블(id 컬럼에 저장)은 의상 코드가 됨\n",
    "\n",
    "   - 변수에 저장된 의상의 여러 개면\n",
    "\n",
    "      - 의상을 하나의 코드 단위로 쪼개서 대화문 변수랑 의상 메타데이터 합쳐서 저장\n",
    "      \n",
    "-  둘 다 아니고 일반 대화문이면 대화문 변수에 저장"
   ],
   "metadata": {}
  },
  {
   "cell_type": "code",
   "execution_count": 13,
   "source": [
    "dial = ddata.loc[0, \"contents\"].strip()\n",
    "ac = \"\"\n",
    "\n",
    "for i in range(1,len(ddata)):\n",
    "    cur_sen = ddata.loc[i,\"contents\"].strip()\n",
    "\n",
    "    if ddata.loc[i, \"num\"] > ddata.loc[i-1, \"num\"]: # 이전 대화셋에 포함된 문장인지 확인\n",
    "        \n",
    "        if ddata.loc[i,\"speaker\"] == \"<AC>\": # case 1. 의상 아이디가 나온 경우\n",
    "            if len(ac) > 1:\n",
    "                ac = ac + \" \" + cur_sen # 의상 아이디 저장\n",
    "            else:\n",
    "                ac = cur_sen\n",
    "\n",
    "        elif \"USER_SUCCESS\" == ddata.loc[i,\"tags\"]: # case 2. USER_SUCCESS 태그가 나온 경우\n",
    "            if 0 < len(ac) < 7: # 의상을 하나만 추천한 경우\n",
    "                dial = dial + \" \" + ac + \" \" + cur_sen\n",
    "                c_data.loc[i, \"contents\"] =  dial + \" \" + c_mdata.loc[c_mdata.id == ac].exp.values[0]\n",
    "                c_data.loc[i, \"id\"] = ac\n",
    "                ac = \"\"\n",
    "\n",
    "            elif len(ac) == 0:\n",
    "                dial = dial + \" \" + cur_sen\n",
    "\n",
    "            else: # 의상을 한 번에 여러 개 추천한 경우\n",
    "                idx_cnt = 0\n",
    "                for one_ac in ac.split():\n",
    "                    c_data.loc[i + idx_cnt, \"contents\"] =  dial + \" \" + one_ac + \" \"+ cur_sen + \" \" + c_mdata.loc[c_mdata.id == one_ac].exp.values[0]\n",
    "                    c_data.loc[i + idx_cnt, \"id\"] = one_ac\n",
    "                    idx_cnt += 1\n",
    "                dial = dial + \" \" + ac + \" \" + cur_sen    \n",
    "                ac = \"\"\n",
    "        \n",
    "        elif \"USER_FAIL\" in ddata.loc[i,\"tags\"]:\n",
    "            dial = dial + \" \" + ac + \" \" + cur_sen\n",
    "            ac = \"\"\n",
    "\n",
    "        else: # case 3. 그냥 대화문인 경우\n",
    "            dial = dial + \" \" + cur_sen\n",
    "    \n",
    "    else: #새로운 대화셋 시작이면 초기화\n",
    "        dial = cur_sen\n",
    "        ac = \"\""
   ],
   "outputs": [],
   "metadata": {}
  },
  {
   "cell_type": "code",
   "execution_count": 14,
   "source": [
    "print(\"전체 데이터 수: \", len(c_data))\n",
    "c_data.head()"
   ],
   "outputs": [
    {
     "output_type": "stream",
     "name": "stdout",
     "text": [
      "전체 데이터 수:  34303\n"
     ]
    },
    {
     "output_type": "execute_result",
     "data": {
      "text/html": [
       "<div>\n",
       "<style scoped>\n",
       "    .dataframe tbody tr th:only-of-type {\n",
       "        vertical-align: middle;\n",
       "    }\n",
       "\n",
       "    .dataframe tbody tr th {\n",
       "        vertical-align: top;\n",
       "    }\n",
       "\n",
       "    .dataframe thead th {\n",
       "        text-align: right;\n",
       "    }\n",
       "</style>\n",
       "<table border=\"1\" class=\"dataframe\">\n",
       "  <thead>\n",
       "    <tr style=\"text-align: right;\">\n",
       "      <th></th>\n",
       "      <th>contents</th>\n",
       "      <th>id</th>\n",
       "    </tr>\n",
       "  </thead>\n",
       "  <tbody>\n",
       "    <tr>\n",
       "      <th>3</th>\n",
       "      <td>처음 대학교 들어가는데 입을 옷 코디해주세요. 신입생 코디에 어울리게 화사한 스웨터...</td>\n",
       "      <td>SW-009</td>\n",
       "    </tr>\n",
       "    <tr>\n",
       "      <th>12</th>\n",
       "      <td>처음 대학교 들어가는데 입을 옷 코디해주세요. 신입생 코디에 어울리게 화사한 스웨터...</td>\n",
       "      <td>SK-053</td>\n",
       "    </tr>\n",
       "    <tr>\n",
       "      <th>17</th>\n",
       "      <td>처음 대학교 들어가는데 입을 옷 코디해주세요. 신입생 코디에 어울리게 화사한 스웨터...</td>\n",
       "      <td>CT-019</td>\n",
       "    </tr>\n",
       "    <tr>\n",
       "      <th>22</th>\n",
       "      <td>처음 대학교 들어가는데 입을 옷 코디해주세요. 신입생 코디에 어울리게 화사한 스웨터...</td>\n",
       "      <td>SE-039</td>\n",
       "    </tr>\n",
       "    <tr>\n",
       "      <th>26</th>\n",
       "      <td>처음 대학교 들어가는데 입을 옷 코디해주세요. 신입생 코디에 어울리게 화사한 스웨터...</td>\n",
       "      <td>CT-019</td>\n",
       "    </tr>\n",
       "  </tbody>\n",
       "</table>\n",
       "</div>"
      ],
      "text/plain": [
       "                                             contents      id\n",
       "3   처음 대학교 들어가는데 입을 옷 코디해주세요. 신입생 코디에 어울리게 화사한 스웨터...  SW-009\n",
       "12  처음 대학교 들어가는데 입을 옷 코디해주세요. 신입생 코디에 어울리게 화사한 스웨터...  SK-053\n",
       "17  처음 대학교 들어가는데 입을 옷 코디해주세요. 신입생 코디에 어울리게 화사한 스웨터...  CT-019\n",
       "22  처음 대학교 들어가는데 입을 옷 코디해주세요. 신입생 코디에 어울리게 화사한 스웨터...  SE-039\n",
       "26  처음 대학교 들어가는데 입을 옷 코디해주세요. 신입생 코디에 어울리게 화사한 스웨터...  CT-019"
      ]
     },
     "metadata": {},
     "execution_count": 14
    }
   ],
   "metadata": {}
  },
  {
   "cell_type": "code",
   "execution_count": 15,
   "source": [
    "c_data.reset_index(drop=True ,inplace=True)\n",
    "c_data.head()"
   ],
   "outputs": [
    {
     "output_type": "execute_result",
     "data": {
      "text/html": [
       "<div>\n",
       "<style scoped>\n",
       "    .dataframe tbody tr th:only-of-type {\n",
       "        vertical-align: middle;\n",
       "    }\n",
       "\n",
       "    .dataframe tbody tr th {\n",
       "        vertical-align: top;\n",
       "    }\n",
       "\n",
       "    .dataframe thead th {\n",
       "        text-align: right;\n",
       "    }\n",
       "</style>\n",
       "<table border=\"1\" class=\"dataframe\">\n",
       "  <thead>\n",
       "    <tr style=\"text-align: right;\">\n",
       "      <th></th>\n",
       "      <th>contents</th>\n",
       "      <th>id</th>\n",
       "    </tr>\n",
       "  </thead>\n",
       "  <tbody>\n",
       "    <tr>\n",
       "      <th>0</th>\n",
       "      <td>처음 대학교 들어가는데 입을 옷 코디해주세요. 신입생 코디에 어울리게 화사한 스웨터...</td>\n",
       "      <td>SW-009</td>\n",
       "    </tr>\n",
       "    <tr>\n",
       "      <th>1</th>\n",
       "      <td>처음 대학교 들어가는데 입을 옷 코디해주세요. 신입생 코디에 어울리게 화사한 스웨터...</td>\n",
       "      <td>SK-053</td>\n",
       "    </tr>\n",
       "    <tr>\n",
       "      <th>2</th>\n",
       "      <td>처음 대학교 들어가는데 입을 옷 코디해주세요. 신입생 코디에 어울리게 화사한 스웨터...</td>\n",
       "      <td>CT-019</td>\n",
       "    </tr>\n",
       "    <tr>\n",
       "      <th>3</th>\n",
       "      <td>처음 대학교 들어가는데 입을 옷 코디해주세요. 신입생 코디에 어울리게 화사한 스웨터...</td>\n",
       "      <td>SE-039</td>\n",
       "    </tr>\n",
       "    <tr>\n",
       "      <th>4</th>\n",
       "      <td>처음 대학교 들어가는데 입을 옷 코디해주세요. 신입생 코디에 어울리게 화사한 스웨터...</td>\n",
       "      <td>CT-019</td>\n",
       "    </tr>\n",
       "  </tbody>\n",
       "</table>\n",
       "</div>"
      ],
      "text/plain": [
       "                                            contents      id\n",
       "0  처음 대학교 들어가는데 입을 옷 코디해주세요. 신입생 코디에 어울리게 화사한 스웨터...  SW-009\n",
       "1  처음 대학교 들어가는데 입을 옷 코디해주세요. 신입생 코디에 어울리게 화사한 스웨터...  SK-053\n",
       "2  처음 대학교 들어가는데 입을 옷 코디해주세요. 신입생 코디에 어울리게 화사한 스웨터...  CT-019\n",
       "3  처음 대학교 들어가는데 입을 옷 코디해주세요. 신입생 코디에 어울리게 화사한 스웨터...  SE-039\n",
       "4  처음 대학교 들어가는데 입을 옷 코디해주세요. 신입생 코디에 어울리게 화사한 스웨터...  CT-019"
      ]
     },
     "metadata": {},
     "execution_count": 15
    }
   ],
   "metadata": {}
  },
  {
   "cell_type": "code",
   "execution_count": 16,
   "source": [
    "c_data.loc[0].contents"
   ],
   "outputs": [
    {
     "output_type": "execute_result",
     "data": {
      "text/plain": [
       "'처음 대학교 들어가는데 입을 옷 코디해주세요. 신입생 코디에 어울리게 화사한 스웨터를 추천해드릴게요. SW-009 이 옷에 어울리는 치마로 추천해주세요. 라운드 네크라인 여밈이 없는 풀오버 스타일 전체 케이블 조직 드롭숄더 슬리브 손등까지 오는 길이의 소매 몸에 적당히 맞는 품 엉덩이를 살짝 덮는 길이 네크라인, 소매 끝, 밑단에 고무단 처리 레이온52%,나일론20%,폴리에스터28% 꽈배기 조직, 플레인 조직이 섞여 있는 형태 드라이 크리닝 단색의 라임색 브라이트톤(고명도 고채도)의 옐로우 그린 산뜻하고 발랄한 느낌 기본의 단정한 편안한 산뜻한 발랄한 경쾌한 따뜻한 데일리룩 캠퍼스룩'"
      ]
     },
     "metadata": {},
     "execution_count": 16
    }
   ],
   "metadata": {}
  },
  {
   "cell_type": "code",
   "execution_count": 17,
   "source": [
    "bl_data = pd.DataFrame({\"contents\":[None], \"id\":[\"xx-xxx\"]})\n",
    "bl_data.drop(0,axis=0,inplace=True)\n",
    "bl_data.head()"
   ],
   "outputs": [
    {
     "output_type": "execute_result",
     "data": {
      "text/html": [
       "<div>\n",
       "<style scoped>\n",
       "    .dataframe tbody tr th:only-of-type {\n",
       "        vertical-align: middle;\n",
       "    }\n",
       "\n",
       "    .dataframe tbody tr th {\n",
       "        vertical-align: top;\n",
       "    }\n",
       "\n",
       "    .dataframe thead th {\n",
       "        text-align: right;\n",
       "    }\n",
       "</style>\n",
       "<table border=\"1\" class=\"dataframe\">\n",
       "  <thead>\n",
       "    <tr style=\"text-align: right;\">\n",
       "      <th></th>\n",
       "      <th>contents</th>\n",
       "      <th>id</th>\n",
       "    </tr>\n",
       "  </thead>\n",
       "  <tbody>\n",
       "  </tbody>\n",
       "</table>\n",
       "</div>"
      ],
      "text/plain": [
       "Empty DataFrame\n",
       "Columns: [contents, id]\n",
       "Index: []"
      ]
     },
     "metadata": {},
     "execution_count": 17
    }
   ],
   "metadata": {}
  },
  {
   "cell_type": "code",
   "execution_count": 18,
   "source": [
    "for i in range(len(c_data)):\n",
    "    if \"BL\" in c_data[\"id\"][i][0:2]:\n",
    "        bl_data = bl_data.append(c_data.iloc[i])\n",
    "\n",
    "bl_data.reset_index(drop=True, inplace=True)\n",
    "print(\"데이터 개수\",len(bl_data))\n",
    "bl_data.head()"
   ],
   "outputs": [
    {
     "output_type": "stream",
     "name": "stdout",
     "text": [
      "데이터 개수 1970\n"
     ]
    },
    {
     "output_type": "execute_result",
     "data": {
      "text/html": [
       "<div>\n",
       "<style scoped>\n",
       "    .dataframe tbody tr th:only-of-type {\n",
       "        vertical-align: middle;\n",
       "    }\n",
       "\n",
       "    .dataframe tbody tr th {\n",
       "        vertical-align: top;\n",
       "    }\n",
       "\n",
       "    .dataframe thead th {\n",
       "        text-align: right;\n",
       "    }\n",
       "</style>\n",
       "<table border=\"1\" class=\"dataframe\">\n",
       "  <thead>\n",
       "    <tr style=\"text-align: right;\">\n",
       "      <th></th>\n",
       "      <th>contents</th>\n",
       "      <th>id</th>\n",
       "    </tr>\n",
       "  </thead>\n",
       "  <tbody>\n",
       "    <tr>\n",
       "      <th>0</th>\n",
       "      <td>친구들과 기차여행 가는데 편하고 활동성 좋은 여행복장 추천해주세요. 고객님께서는 캐...</td>\n",
       "      <td>BL-054</td>\n",
       "    </tr>\n",
       "    <tr>\n",
       "      <th>1</th>\n",
       "      <td>남자친구와 기념일 데이트 하는데 여성스러운 데이트룩 추천해주세요. 기념일에 맞춰 사...</td>\n",
       "      <td>BL-046</td>\n",
       "    </tr>\n",
       "    <tr>\n",
       "      <th>2</th>\n",
       "      <td>친구들과 바다로 놀러가기로했어요. 어울리는 상의를 추천해주세요. 캐주얼하면서도 귀여...</td>\n",
       "      <td>BL-050</td>\n",
       "    </tr>\n",
       "    <tr>\n",
       "      <th>3</th>\n",
       "      <td>친구들과 바다로 놀러가기로했어요. 어울리는 상의를 추천해주세요. 캐주얼하면서도 귀여...</td>\n",
       "      <td>BL-050</td>\n",
       "    </tr>\n",
       "    <tr>\n",
       "      <th>4</th>\n",
       "      <td>카페에 알바를 가려고 하는데 면접 복장을 추천해주세요. 여름 옷으로 보여주세요. 네...</td>\n",
       "      <td>BL-027</td>\n",
       "    </tr>\n",
       "  </tbody>\n",
       "</table>\n",
       "</div>"
      ],
      "text/plain": [
       "                                            contents      id\n",
       "0  친구들과 기차여행 가는데 편하고 활동성 좋은 여행복장 추천해주세요. 고객님께서는 캐...  BL-054\n",
       "1  남자친구와 기념일 데이트 하는데 여성스러운 데이트룩 추천해주세요. 기념일에 맞춰 사...  BL-046\n",
       "2  친구들과 바다로 놀러가기로했어요. 어울리는 상의를 추천해주세요. 캐주얼하면서도 귀여...  BL-050\n",
       "3  친구들과 바다로 놀러가기로했어요. 어울리는 상의를 추천해주세요. 캐주얼하면서도 귀여...  BL-050\n",
       "4  카페에 알바를 가려고 하는데 면접 복장을 추천해주세요. 여름 옷으로 보여주세요. 네...  BL-027"
      ]
     },
     "metadata": {},
     "execution_count": 18
    }
   ],
   "metadata": {}
  },
  {
   "cell_type": "code",
   "execution_count": 19,
   "source": [
    "bl_data[\"contents\"] = bl_data[\"contents\"].str.replace(\"[^A-Za-z0-9ㄱ-ㅎㅏ-ㅣ가-힣 ]\",\"\")\n",
    "bl_data.head()"
   ],
   "outputs": [
    {
     "output_type": "stream",
     "name": "stderr",
     "text": [
      "<ipython-input-19-a8e9c8029809>:1: FutureWarning: The default value of regex will change from True to False in a future version.\n",
      "  bl_data[\"contents\"] = bl_data[\"contents\"].str.replace(\"[^A-Za-z0-9ㄱ-ㅎㅏ-ㅣ가-힣 ]\",\"\")\n"
     ]
    },
    {
     "output_type": "execute_result",
     "data": {
      "text/html": [
       "<div>\n",
       "<style scoped>\n",
       "    .dataframe tbody tr th:only-of-type {\n",
       "        vertical-align: middle;\n",
       "    }\n",
       "\n",
       "    .dataframe tbody tr th {\n",
       "        vertical-align: top;\n",
       "    }\n",
       "\n",
       "    .dataframe thead th {\n",
       "        text-align: right;\n",
       "    }\n",
       "</style>\n",
       "<table border=\"1\" class=\"dataframe\">\n",
       "  <thead>\n",
       "    <tr style=\"text-align: right;\">\n",
       "      <th></th>\n",
       "      <th>contents</th>\n",
       "      <th>id</th>\n",
       "    </tr>\n",
       "  </thead>\n",
       "  <tbody>\n",
       "    <tr>\n",
       "      <th>0</th>\n",
       "      <td>친구들과 기차여행 가는데 편하고 활동성 좋은 여행복장 추천해주세요 고객님께서는 캐주...</td>\n",
       "      <td>BL-054</td>\n",
       "    </tr>\n",
       "    <tr>\n",
       "      <th>1</th>\n",
       "      <td>남자친구와 기념일 데이트 하는데 여성스러운 데이트룩 추천해주세요 기념일에 맞춰 사랑...</td>\n",
       "      <td>BL-046</td>\n",
       "    </tr>\n",
       "    <tr>\n",
       "      <th>2</th>\n",
       "      <td>친구들과 바다로 놀러가기로했어요 어울리는 상의를 추천해주세요 캐주얼하면서도 귀여운 ...</td>\n",
       "      <td>BL-050</td>\n",
       "    </tr>\n",
       "    <tr>\n",
       "      <th>3</th>\n",
       "      <td>친구들과 바다로 놀러가기로했어요 어울리는 상의를 추천해주세요 캐주얼하면서도 귀여운 ...</td>\n",
       "      <td>BL-050</td>\n",
       "    </tr>\n",
       "    <tr>\n",
       "      <th>4</th>\n",
       "      <td>카페에 알바를 가려고 하는데 면접 복장을 추천해주세요 여름 옷으로 보여주세요 네 그...</td>\n",
       "      <td>BL-027</td>\n",
       "    </tr>\n",
       "  </tbody>\n",
       "</table>\n",
       "</div>"
      ],
      "text/plain": [
       "                                            contents      id\n",
       "0  친구들과 기차여행 가는데 편하고 활동성 좋은 여행복장 추천해주세요 고객님께서는 캐주...  BL-054\n",
       "1  남자친구와 기념일 데이트 하는데 여성스러운 데이트룩 추천해주세요 기념일에 맞춰 사랑...  BL-046\n",
       "2  친구들과 바다로 놀러가기로했어요 어울리는 상의를 추천해주세요 캐주얼하면서도 귀여운 ...  BL-050\n",
       "3  친구들과 바다로 놀러가기로했어요 어울리는 상의를 추천해주세요 캐주얼하면서도 귀여운 ...  BL-050\n",
       "4  카페에 알바를 가려고 하는데 면접 복장을 추천해주세요 여름 옷으로 보여주세요 네 그...  BL-027"
      ]
     },
     "metadata": {},
     "execution_count": 19
    }
   ],
   "metadata": {}
  },
  {
   "cell_type": "code",
   "execution_count": 20,
   "source": [
    "bl_data[\"id\"] = bl_data[\"id\"].str.replace(\"[^0-9]\",\"\")\n",
    "\n",
    "bl_data.head()"
   ],
   "outputs": [
    {
     "output_type": "stream",
     "name": "stderr",
     "text": [
      "<ipython-input-20-adabc0dbfae6>:1: FutureWarning: The default value of regex will change from True to False in a future version.\n",
      "  bl_data[\"id\"] = bl_data[\"id\"].str.replace(\"[^0-9]\",\"\")\n"
     ]
    },
    {
     "output_type": "execute_result",
     "data": {
      "text/html": [
       "<div>\n",
       "<style scoped>\n",
       "    .dataframe tbody tr th:only-of-type {\n",
       "        vertical-align: middle;\n",
       "    }\n",
       "\n",
       "    .dataframe tbody tr th {\n",
       "        vertical-align: top;\n",
       "    }\n",
       "\n",
       "    .dataframe thead th {\n",
       "        text-align: right;\n",
       "    }\n",
       "</style>\n",
       "<table border=\"1\" class=\"dataframe\">\n",
       "  <thead>\n",
       "    <tr style=\"text-align: right;\">\n",
       "      <th></th>\n",
       "      <th>contents</th>\n",
       "      <th>id</th>\n",
       "    </tr>\n",
       "  </thead>\n",
       "  <tbody>\n",
       "    <tr>\n",
       "      <th>0</th>\n",
       "      <td>친구들과 기차여행 가는데 편하고 활동성 좋은 여행복장 추천해주세요 고객님께서는 캐주...</td>\n",
       "      <td>054</td>\n",
       "    </tr>\n",
       "    <tr>\n",
       "      <th>1</th>\n",
       "      <td>남자친구와 기념일 데이트 하는데 여성스러운 데이트룩 추천해주세요 기념일에 맞춰 사랑...</td>\n",
       "      <td>046</td>\n",
       "    </tr>\n",
       "    <tr>\n",
       "      <th>2</th>\n",
       "      <td>친구들과 바다로 놀러가기로했어요 어울리는 상의를 추천해주세요 캐주얼하면서도 귀여운 ...</td>\n",
       "      <td>050</td>\n",
       "    </tr>\n",
       "    <tr>\n",
       "      <th>3</th>\n",
       "      <td>친구들과 바다로 놀러가기로했어요 어울리는 상의를 추천해주세요 캐주얼하면서도 귀여운 ...</td>\n",
       "      <td>050</td>\n",
       "    </tr>\n",
       "    <tr>\n",
       "      <th>4</th>\n",
       "      <td>카페에 알바를 가려고 하는데 면접 복장을 추천해주세요 여름 옷으로 보여주세요 네 그...</td>\n",
       "      <td>027</td>\n",
       "    </tr>\n",
       "  </tbody>\n",
       "</table>\n",
       "</div>"
      ],
      "text/plain": [
       "                                            contents   id\n",
       "0  친구들과 기차여행 가는데 편하고 활동성 좋은 여행복장 추천해주세요 고객님께서는 캐주...  054\n",
       "1  남자친구와 기념일 데이트 하는데 여성스러운 데이트룩 추천해주세요 기념일에 맞춰 사랑...  046\n",
       "2  친구들과 바다로 놀러가기로했어요 어울리는 상의를 추천해주세요 캐주얼하면서도 귀여운 ...  050\n",
       "3  친구들과 바다로 놀러가기로했어요 어울리는 상의를 추천해주세요 캐주얼하면서도 귀여운 ...  050\n",
       "4  카페에 알바를 가려고 하는데 면접 복장을 추천해주세요 여름 옷으로 보여주세요 네 그...  027"
      ]
     },
     "metadata": {},
     "execution_count": 20
    }
   ],
   "metadata": {}
  },
  {
   "cell_type": "code",
   "execution_count": 21,
   "source": [
    "from collections import Counter\n",
    "temp = bl_data[\"id\"].tolist()\n",
    "type_count = dict(Counter(temp))\n",
    "type_count"
   ],
   "outputs": [
    {
     "output_type": "execute_result",
     "data": {
      "text/plain": [
       "{'054': 22,\n",
       " '046': 11,\n",
       " '050': 29,\n",
       " '027': 159,\n",
       " '005': 59,\n",
       " '055': 14,\n",
       " '016': 17,\n",
       " '053': 10,\n",
       " '022': 9,\n",
       " '018': 24,\n",
       " '013': 4,\n",
       " '037': 11,\n",
       " '041': 15,\n",
       " '036': 8,\n",
       " '048': 14,\n",
       " '006': 24,\n",
       " '021': 17,\n",
       " '003': 13,\n",
       " '038': 11,\n",
       " '042': 19,\n",
       " '025': 15,\n",
       " '007': 32,\n",
       " '009': 15,\n",
       " '052': 16,\n",
       " '028': 17,\n",
       " '015': 18,\n",
       " '010': 29,\n",
       " '004': 21,\n",
       " '031': 32,\n",
       " '029': 27,\n",
       " '002': 24,\n",
       " '032': 22,\n",
       " '051': 3,\n",
       " '056': 17,\n",
       " '034': 23,\n",
       " '017': 10,\n",
       " '026': 15,\n",
       " '024': 11,\n",
       " '047': 10,\n",
       " '057': 21,\n",
       " '012': 10,\n",
       " '040': 9,\n",
       " '019': 9,\n",
       " '014': 2,\n",
       " '008': 9,\n",
       " '011': 22,\n",
       " '001': 5,\n",
       " '039': 21,\n",
       " '043': 9,\n",
       " '020': 4,\n",
       " '030': 7,\n",
       " '049': 5,\n",
       " '059': 2,\n",
       " '060': 11,\n",
       " '033': 6,\n",
       " '094': 38,\n",
       " '073': 30,\n",
       " '135': 21,\n",
       " '119': 37,\n",
       " '138': 38,\n",
       " '089': 34,\n",
       " '072': 24,\n",
       " '137': 19,\n",
       " '088': 20,\n",
       " '113': 26,\n",
       " '101': 28,\n",
       " '061': 10,\n",
       " '064': 17,\n",
       " '071': 10,\n",
       " '118': 10,\n",
       " '112': 21,\n",
       " '096': 1,\n",
       " '111': 28,\n",
       " '125': 5,\n",
       " '127': 4,\n",
       " '074': 41,\n",
       " '128': 11,\n",
       " '103': 6,\n",
       " '090': 11,\n",
       " '092': 20,\n",
       " '108': 25,\n",
       " '044': 11,\n",
       " '120': 15,\n",
       " '114': 18,\n",
       " '087': 11,\n",
       " '091': 2,\n",
       " '075': 7,\n",
       " '063': 9,\n",
       " '109': 12,\n",
       " '116': 14,\n",
       " '105': 8,\n",
       " '132': 1,\n",
       " '130': 24,\n",
       " '069': 11,\n",
       " '107': 32,\n",
       " '122': 14,\n",
       " '129': 14,\n",
       " '082': 7,\n",
       " '124': 3,\n",
       " '045': 5,\n",
       " '095': 7,\n",
       " '067': 9,\n",
       " '134': 4,\n",
       " '086': 8,\n",
       " '102': 16,\n",
       " '098': 6,\n",
       " '058': 1,\n",
       " '065': 8,\n",
       " '139': 5,\n",
       " '068': 2,\n",
       " '104': 5,\n",
       " '117': 2,\n",
       " '133': 16,\n",
       " '070': 4,\n",
       " '126': 8,\n",
       " '106': 3,\n",
       " '076': 2,\n",
       " '115': 3,\n",
       " '100': 4,\n",
       " '140': 8,\n",
       " '084': 4,\n",
       " '097': 5,\n",
       " '066': 1,\n",
       " '121': 3,\n",
       " '078': 1,\n",
       " '080': 1,\n",
       " '110': 3,\n",
       " '062': 4,\n",
       " '099': 6,\n",
       " '146': 9,\n",
       " '143': 18,\n",
       " '142': 6,\n",
       " '141': 15,\n",
       " '147': 4,\n",
       " '077': 2,\n",
       " '093': 2,\n",
       " '023': 3,\n",
       " '085': 1,\n",
       " '144': 3,\n",
       " '148': 4,\n",
       " '136': 1,\n",
       " '035': 1}"
      ]
     },
     "metadata": {},
     "execution_count": 21
    }
   ],
   "metadata": {}
  },
  {
   "cell_type": "code",
   "execution_count": 22,
   "source": [
    "len(type_count)"
   ],
   "outputs": [
    {
     "output_type": "execute_result",
     "data": {
      "text/plain": [
       "142"
      ]
     },
     "metadata": {},
     "execution_count": 22
    }
   ],
   "metadata": {}
  },
  {
   "cell_type": "code",
   "execution_count": 23,
   "source": [
    "del_list = []\n",
    "for i in type_count.keys():\n",
    "    if type_count.get(i) == 1:\n",
    "        del_list.append(i)\n",
    "del_list"
   ],
   "outputs": [
    {
     "output_type": "execute_result",
     "data": {
      "text/plain": [
       "['096', '132', '058', '066', '078', '080', '085', '136', '035']"
      ]
     },
     "metadata": {},
     "execution_count": 23
    }
   ],
   "metadata": {}
  },
  {
   "cell_type": "code",
   "execution_count": 24,
   "source": [
    "bl_data.head()"
   ],
   "outputs": [
    {
     "output_type": "execute_result",
     "data": {
      "text/html": [
       "<div>\n",
       "<style scoped>\n",
       "    .dataframe tbody tr th:only-of-type {\n",
       "        vertical-align: middle;\n",
       "    }\n",
       "\n",
       "    .dataframe tbody tr th {\n",
       "        vertical-align: top;\n",
       "    }\n",
       "\n",
       "    .dataframe thead th {\n",
       "        text-align: right;\n",
       "    }\n",
       "</style>\n",
       "<table border=\"1\" class=\"dataframe\">\n",
       "  <thead>\n",
       "    <tr style=\"text-align: right;\">\n",
       "      <th></th>\n",
       "      <th>contents</th>\n",
       "      <th>id</th>\n",
       "    </tr>\n",
       "  </thead>\n",
       "  <tbody>\n",
       "    <tr>\n",
       "      <th>0</th>\n",
       "      <td>친구들과 기차여행 가는데 편하고 활동성 좋은 여행복장 추천해주세요 고객님께서는 캐주...</td>\n",
       "      <td>054</td>\n",
       "    </tr>\n",
       "    <tr>\n",
       "      <th>1</th>\n",
       "      <td>남자친구와 기념일 데이트 하는데 여성스러운 데이트룩 추천해주세요 기념일에 맞춰 사랑...</td>\n",
       "      <td>046</td>\n",
       "    </tr>\n",
       "    <tr>\n",
       "      <th>2</th>\n",
       "      <td>친구들과 바다로 놀러가기로했어요 어울리는 상의를 추천해주세요 캐주얼하면서도 귀여운 ...</td>\n",
       "      <td>050</td>\n",
       "    </tr>\n",
       "    <tr>\n",
       "      <th>3</th>\n",
       "      <td>친구들과 바다로 놀러가기로했어요 어울리는 상의를 추천해주세요 캐주얼하면서도 귀여운 ...</td>\n",
       "      <td>050</td>\n",
       "    </tr>\n",
       "    <tr>\n",
       "      <th>4</th>\n",
       "      <td>카페에 알바를 가려고 하는데 면접 복장을 추천해주세요 여름 옷으로 보여주세요 네 그...</td>\n",
       "      <td>027</td>\n",
       "    </tr>\n",
       "  </tbody>\n",
       "</table>\n",
       "</div>"
      ],
      "text/plain": [
       "                                            contents   id\n",
       "0  친구들과 기차여행 가는데 편하고 활동성 좋은 여행복장 추천해주세요 고객님께서는 캐주...  054\n",
       "1  남자친구와 기념일 데이트 하는데 여성스러운 데이트룩 추천해주세요 기념일에 맞춰 사랑...  046\n",
       "2  친구들과 바다로 놀러가기로했어요 어울리는 상의를 추천해주세요 캐주얼하면서도 귀여운 ...  050\n",
       "3  친구들과 바다로 놀러가기로했어요 어울리는 상의를 추천해주세요 캐주얼하면서도 귀여운 ...  050\n",
       "4  카페에 알바를 가려고 하는데 면접 복장을 추천해주세요 여름 옷으로 보여주세요 네 그...  027"
      ]
     },
     "metadata": {},
     "execution_count": 24
    }
   ],
   "metadata": {}
  },
  {
   "cell_type": "code",
   "execution_count": 25,
   "source": [
    "for i in del_list:\n",
    "    bl_data = bl_data[bl_data[\"id\"] != i]"
   ],
   "outputs": [],
   "metadata": {}
  },
  {
   "cell_type": "code",
   "execution_count": 26,
   "source": [
    "len(bl_data)"
   ],
   "outputs": [
    {
     "output_type": "execute_result",
     "data": {
      "text/plain": [
       "1961"
      ]
     },
     "metadata": {},
     "execution_count": 26
    }
   ],
   "metadata": {}
  },
  {
   "cell_type": "code",
   "execution_count": 27,
   "source": [
    "bl_data.reset_index(drop=True, inplace=True)"
   ],
   "outputs": [],
   "metadata": {}
  },
  {
   "cell_type": "code",
   "execution_count": 28,
   "source": [
    "import matplotlib.pyplot as plt\n",
    "plt.bar(Counter(bl_data.id).keys(),Counter(bl_data.id).values(), color='k')"
   ],
   "outputs": [
    {
     "output_type": "execute_result",
     "data": {
      "text/plain": [
       "<BarContainer object of 133 artists>"
      ]
     },
     "metadata": {},
     "execution_count": 28
    }
   ],
   "metadata": {}
  },
  {
   "cell_type": "markdown",
   "source": [
    "# 5. 형태소 분석"
   ],
   "metadata": {}
  },
  {
   "cell_type": "markdown",
   "source": [
    "## Mecab 사용"
   ],
   "metadata": {}
  },
  {
   "cell_type": "code",
   "execution_count": 29,
   "source": [
    "from konlpy.tag import Mecab\n",
    "mecab = Mecab()"
   ],
   "outputs": [],
   "metadata": {}
  },
  {
   "cell_type": "code",
   "execution_count": 30,
   "source": [
    "mecab.morphs(bl_data[\"contents\"][0])"
   ],
   "outputs": [
    {
     "output_type": "execute_result",
     "data": {
      "text/plain": [
       "['친구',\n",
       " '들',\n",
       " '과',\n",
       " '기차',\n",
       " '여행',\n",
       " '가',\n",
       " '는',\n",
       " '데',\n",
       " '편하',\n",
       " '고',\n",
       " '활동',\n",
       " '성',\n",
       " '좋',\n",
       " '은',\n",
       " '여행',\n",
       " '복장',\n",
       " '추천',\n",
       " '해',\n",
       " '주',\n",
       " '세요',\n",
       " '고객',\n",
       " '님',\n",
       " '께서',\n",
       " '는',\n",
       " '캐주얼',\n",
       " '한',\n",
       " '취향',\n",
       " '이',\n",
       " '시',\n",
       " '니',\n",
       " '원피스',\n",
       " '에',\n",
       " '이런',\n",
       " '스타일',\n",
       " '을',\n",
       " '매',\n",
       " '칭해',\n",
       " '보',\n",
       " '는',\n",
       " '걸',\n",
       " '추천',\n",
       " '해',\n",
       " '드려요',\n",
       " '마음',\n",
       " '에',\n",
       " '드',\n",
       " '시',\n",
       " '나요',\n",
       " 'JP',\n",
       " '006',\n",
       " 'OP',\n",
       " '083',\n",
       " 'SE',\n",
       " '048',\n",
       " '원피스',\n",
       " '말',\n",
       " '고',\n",
       " '상의',\n",
       " '와',\n",
       " '반바지',\n",
       " '로',\n",
       " '추천',\n",
       " '해',\n",
       " '주',\n",
       " '세요',\n",
       " '상의',\n",
       " '와',\n",
       " '반바지',\n",
       " '를',\n",
       " '각각',\n",
       " '한꺼번에',\n",
       " '보여',\n",
       " '드릴게요',\n",
       " '잠시',\n",
       " '만',\n",
       " '기다려',\n",
       " '주',\n",
       " '세요',\n",
       " '야외',\n",
       " '활동',\n",
       " '에',\n",
       " '부담없이',\n",
       " '입',\n",
       " '기',\n",
       " '좋',\n",
       " '은',\n",
       " '반바지',\n",
       " '스타일',\n",
       " '과',\n",
       " '시원',\n",
       " '해',\n",
       " '보이',\n",
       " '고',\n",
       " '휴양지',\n",
       " '느낌',\n",
       " '을',\n",
       " '주',\n",
       " '는',\n",
       " '바캉스',\n",
       " '룩',\n",
       " '의',\n",
       " '블라우스',\n",
       " '를',\n",
       " '추천',\n",
       " '해',\n",
       " '드립니다',\n",
       " 'BL',\n",
       " '054',\n",
       " '둘',\n",
       " '다',\n",
       " '마음',\n",
       " '에',\n",
       " '드',\n",
       " '네요',\n",
       " '뒷',\n",
       " '지퍼',\n",
       " '여',\n",
       " '밈',\n",
       " '칼라',\n",
       " '가',\n",
       " '없',\n",
       " '는',\n",
       " '라운드',\n",
       " '네크라인',\n",
       " '셋',\n",
       " '인',\n",
       " '슬리브',\n",
       " '골반',\n",
       " '을',\n",
       " '살짝',\n",
       " '덮',\n",
       " '는',\n",
       " '기장',\n",
       " '팔꿈치',\n",
       " '위',\n",
       " '길이',\n",
       " '의',\n",
       " '일자',\n",
       " '형',\n",
       " '소매',\n",
       " '품',\n",
       " '이',\n",
       " '여유',\n",
       " '로운',\n",
       " '약간',\n",
       " '비침',\n",
       " '이',\n",
       " '있',\n",
       " '는',\n",
       " '소매',\n",
       " '윗부분',\n",
       " '에',\n",
       " '주름',\n",
       " '을',\n",
       " '잡',\n",
       " '아서',\n",
       " '볼륨',\n",
       " '을',\n",
       " '줌',\n",
       " '안단',\n",
       " '있',\n",
       " '음',\n",
       " '뒷',\n",
       " '중심',\n",
       " '에',\n",
       " '절',\n",
       " '개선',\n",
       " '전체',\n",
       " '내추럴',\n",
       " '한',\n",
       " '그린',\n",
       " '꽃무늬',\n",
       " '프린트',\n",
       " '면',\n",
       " '50',\n",
       " '레이온',\n",
       " '50',\n",
       " '평직',\n",
       " '약간',\n",
       " '비침',\n",
       " '이',\n",
       " '있',\n",
       " '는',\n",
       " '시원',\n",
       " '해',\n",
       " '보이',\n",
       " '는',\n",
       " '까슬까슬',\n",
       " '한',\n",
       " '느낌',\n",
       " '구김',\n",
       " '이',\n",
       " '가',\n",
       " '기',\n",
       " '쉬운',\n",
       " '세로',\n",
       " '줄무늬',\n",
       " '가',\n",
       " '보이',\n",
       " '는',\n",
       " '드라이클리닝',\n",
       " '권',\n",
       " '장',\n",
       " '부드러운',\n",
       " '백',\n",
       " '아이보리',\n",
       " '컬러',\n",
       " '바탕',\n",
       " '덜',\n",
       " '톤',\n",
       " '의',\n",
       " '그린',\n",
       " '컬러',\n",
       " '인',\n",
       " '플',\n",
       " '로럴',\n",
       " '리프',\n",
       " '무늬',\n",
       " '편안',\n",
       " '한',\n",
       " '이국',\n",
       " '적',\n",
       " '인',\n",
       " '에콜',\n",
       " '로지',\n",
       " '의',\n",
       " '시원',\n",
       " '해',\n",
       " '보이',\n",
       " '는',\n",
       " '내추럴',\n",
       " '한',\n",
       " '휴양지',\n",
       " '느낌',\n",
       " '의',\n",
       " '바캉스',\n",
       " '룩']"
      ]
     },
     "metadata": {},
     "execution_count": 30
    }
   ],
   "metadata": {}
  },
  {
   "cell_type": "code",
   "execution_count": 31,
   "source": [
    "len(bl_data)"
   ],
   "outputs": [
    {
     "output_type": "execute_result",
     "data": {
      "text/plain": [
       "1961"
      ]
     },
     "metadata": {},
     "execution_count": 31
    }
   ],
   "metadata": {}
  },
  {
   "cell_type": "code",
   "execution_count": 32,
   "source": [
    "x_data = []\n",
    "for i in range(len(bl_data)):\n",
    "    x_data.append(mecab.morphs(bl_data[\"contents\"][i]))\n",
    "\n",
    "x_data[0]"
   ],
   "outputs": [
    {
     "output_type": "execute_result",
     "data": {
      "text/plain": [
       "['친구',\n",
       " '들',\n",
       " '과',\n",
       " '기차',\n",
       " '여행',\n",
       " '가',\n",
       " '는',\n",
       " '데',\n",
       " '편하',\n",
       " '고',\n",
       " '활동',\n",
       " '성',\n",
       " '좋',\n",
       " '은',\n",
       " '여행',\n",
       " '복장',\n",
       " '추천',\n",
       " '해',\n",
       " '주',\n",
       " '세요',\n",
       " '고객',\n",
       " '님',\n",
       " '께서',\n",
       " '는',\n",
       " '캐주얼',\n",
       " '한',\n",
       " '취향',\n",
       " '이',\n",
       " '시',\n",
       " '니',\n",
       " '원피스',\n",
       " '에',\n",
       " '이런',\n",
       " '스타일',\n",
       " '을',\n",
       " '매',\n",
       " '칭해',\n",
       " '보',\n",
       " '는',\n",
       " '걸',\n",
       " '추천',\n",
       " '해',\n",
       " '드려요',\n",
       " '마음',\n",
       " '에',\n",
       " '드',\n",
       " '시',\n",
       " '나요',\n",
       " 'JP',\n",
       " '006',\n",
       " 'OP',\n",
       " '083',\n",
       " 'SE',\n",
       " '048',\n",
       " '원피스',\n",
       " '말',\n",
       " '고',\n",
       " '상의',\n",
       " '와',\n",
       " '반바지',\n",
       " '로',\n",
       " '추천',\n",
       " '해',\n",
       " '주',\n",
       " '세요',\n",
       " '상의',\n",
       " '와',\n",
       " '반바지',\n",
       " '를',\n",
       " '각각',\n",
       " '한꺼번에',\n",
       " '보여',\n",
       " '드릴게요',\n",
       " '잠시',\n",
       " '만',\n",
       " '기다려',\n",
       " '주',\n",
       " '세요',\n",
       " '야외',\n",
       " '활동',\n",
       " '에',\n",
       " '부담없이',\n",
       " '입',\n",
       " '기',\n",
       " '좋',\n",
       " '은',\n",
       " '반바지',\n",
       " '스타일',\n",
       " '과',\n",
       " '시원',\n",
       " '해',\n",
       " '보이',\n",
       " '고',\n",
       " '휴양지',\n",
       " '느낌',\n",
       " '을',\n",
       " '주',\n",
       " '는',\n",
       " '바캉스',\n",
       " '룩',\n",
       " '의',\n",
       " '블라우스',\n",
       " '를',\n",
       " '추천',\n",
       " '해',\n",
       " '드립니다',\n",
       " 'BL',\n",
       " '054',\n",
       " '둘',\n",
       " '다',\n",
       " '마음',\n",
       " '에',\n",
       " '드',\n",
       " '네요',\n",
       " '뒷',\n",
       " '지퍼',\n",
       " '여',\n",
       " '밈',\n",
       " '칼라',\n",
       " '가',\n",
       " '없',\n",
       " '는',\n",
       " '라운드',\n",
       " '네크라인',\n",
       " '셋',\n",
       " '인',\n",
       " '슬리브',\n",
       " '골반',\n",
       " '을',\n",
       " '살짝',\n",
       " '덮',\n",
       " '는',\n",
       " '기장',\n",
       " '팔꿈치',\n",
       " '위',\n",
       " '길이',\n",
       " '의',\n",
       " '일자',\n",
       " '형',\n",
       " '소매',\n",
       " '품',\n",
       " '이',\n",
       " '여유',\n",
       " '로운',\n",
       " '약간',\n",
       " '비침',\n",
       " '이',\n",
       " '있',\n",
       " '는',\n",
       " '소매',\n",
       " '윗부분',\n",
       " '에',\n",
       " '주름',\n",
       " '을',\n",
       " '잡',\n",
       " '아서',\n",
       " '볼륨',\n",
       " '을',\n",
       " '줌',\n",
       " '안단',\n",
       " '있',\n",
       " '음',\n",
       " '뒷',\n",
       " '중심',\n",
       " '에',\n",
       " '절',\n",
       " '개선',\n",
       " '전체',\n",
       " '내추럴',\n",
       " '한',\n",
       " '그린',\n",
       " '꽃무늬',\n",
       " '프린트',\n",
       " '면',\n",
       " '50',\n",
       " '레이온',\n",
       " '50',\n",
       " '평직',\n",
       " '약간',\n",
       " '비침',\n",
       " '이',\n",
       " '있',\n",
       " '는',\n",
       " '시원',\n",
       " '해',\n",
       " '보이',\n",
       " '는',\n",
       " '까슬까슬',\n",
       " '한',\n",
       " '느낌',\n",
       " '구김',\n",
       " '이',\n",
       " '가',\n",
       " '기',\n",
       " '쉬운',\n",
       " '세로',\n",
       " '줄무늬',\n",
       " '가',\n",
       " '보이',\n",
       " '는',\n",
       " '드라이클리닝',\n",
       " '권',\n",
       " '장',\n",
       " '부드러운',\n",
       " '백',\n",
       " '아이보리',\n",
       " '컬러',\n",
       " '바탕',\n",
       " '덜',\n",
       " '톤',\n",
       " '의',\n",
       " '그린',\n",
       " '컬러',\n",
       " '인',\n",
       " '플',\n",
       " '로럴',\n",
       " '리프',\n",
       " '무늬',\n",
       " '편안',\n",
       " '한',\n",
       " '이국',\n",
       " '적',\n",
       " '인',\n",
       " '에콜',\n",
       " '로지',\n",
       " '의',\n",
       " '시원',\n",
       " '해',\n",
       " '보이',\n",
       " '는',\n",
       " '내추럴',\n",
       " '한',\n",
       " '휴양지',\n",
       " '느낌',\n",
       " '의',\n",
       " '바캉스',\n",
       " '룩']"
      ]
     },
     "metadata": {},
     "execution_count": 32
    }
   ],
   "metadata": {}
  },
  {
   "cell_type": "code",
   "execution_count": 33,
   "source": [
    "stopwords = []\n",
    "with open('./data/불용어사전.txt', mode='rt', encoding='utf-8') as f:\n",
    "    for word in f.readlines():\n",
    "        word = word.strip()\n",
    "        stopwords.append(word)\n",
    "stopwords[0:2]"
   ],
   "outputs": [
    {
     "output_type": "execute_result",
     "data": {
      "text/plain": [
       "['어찌됐든', '그위에']"
      ]
     },
     "metadata": {},
     "execution_count": 33
    }
   ],
   "metadata": {}
  },
  {
   "cell_type": "code",
   "execution_count": 34,
   "source": [
    "X_data = []\n",
    "for sentence in x_data: #문장 하나 가져오고 단어 단위로 쪼개기\n",
    "    temp_X = [word for word in sentence if not word in stopwords] # 불용어 제거\n",
    "    X_data.append(temp_X)\n",
    "X_data[0]"
   ],
   "outputs": [
    {
     "output_type": "execute_result",
     "data": {
      "text/plain": [
       "['친구',\n",
       " '기차',\n",
       " '여행',\n",
       " '데',\n",
       " '편하',\n",
       " '고',\n",
       " '활동',\n",
       " '성',\n",
       " '좋',\n",
       " '여행',\n",
       " '복장',\n",
       " '추천',\n",
       " '주',\n",
       " '세요',\n",
       " '고객',\n",
       " '님',\n",
       " '께서',\n",
       " '캐주얼',\n",
       " '취향',\n",
       " '시',\n",
       " '니',\n",
       " '원피스',\n",
       " '스타일',\n",
       " '칭해',\n",
       " '보',\n",
       " '걸',\n",
       " '추천',\n",
       " '드려요',\n",
       " '마음',\n",
       " '시',\n",
       " '나요',\n",
       " 'JP',\n",
       " '006',\n",
       " 'OP',\n",
       " '083',\n",
       " 'SE',\n",
       " '048',\n",
       " '원피스',\n",
       " '말',\n",
       " '고',\n",
       " '상의',\n",
       " '반바지',\n",
       " '추천',\n",
       " '주',\n",
       " '세요',\n",
       " '상의',\n",
       " '반바지',\n",
       " '한꺼번에',\n",
       " '보여',\n",
       " '드릴게요',\n",
       " '만',\n",
       " '기다려',\n",
       " '주',\n",
       " '세요',\n",
       " '야외',\n",
       " '활동',\n",
       " '부담없이',\n",
       " '입',\n",
       " '기',\n",
       " '좋',\n",
       " '반바지',\n",
       " '스타일',\n",
       " '시원',\n",
       " '보이',\n",
       " '고',\n",
       " '휴양지',\n",
       " '느낌',\n",
       " '주',\n",
       " '바캉스',\n",
       " '룩',\n",
       " '블라우스',\n",
       " '추천',\n",
       " '드립니다',\n",
       " 'BL',\n",
       " '054',\n",
       " '둘',\n",
       " '다',\n",
       " '마음',\n",
       " '네요',\n",
       " '뒷',\n",
       " '지퍼',\n",
       " '밈',\n",
       " '칼라',\n",
       " '라운드',\n",
       " '네크라인',\n",
       " '셋',\n",
       " '인',\n",
       " '슬리브',\n",
       " '골반',\n",
       " '살짝',\n",
       " '덮',\n",
       " '기장',\n",
       " '팔꿈치',\n",
       " '위',\n",
       " '길이',\n",
       " '일자',\n",
       " '형',\n",
       " '품',\n",
       " '여유',\n",
       " '로운',\n",
       " '비침',\n",
       " '있',\n",
       " '윗부분',\n",
       " '주름',\n",
       " '잡',\n",
       " '아서',\n",
       " '볼륨',\n",
       " '줌',\n",
       " '안단',\n",
       " '있',\n",
       " '뒷',\n",
       " '중심',\n",
       " '절',\n",
       " '개선',\n",
       " '전체',\n",
       " '내추럴',\n",
       " '그린',\n",
       " '꽃무늬',\n",
       " '프린트',\n",
       " '면',\n",
       " '50',\n",
       " '레이온',\n",
       " '50',\n",
       " '평직',\n",
       " '비침',\n",
       " '있',\n",
       " '시원',\n",
       " '보이',\n",
       " '까슬까슬',\n",
       " '느낌',\n",
       " '구김',\n",
       " '기',\n",
       " '쉬운',\n",
       " '세로',\n",
       " '줄무늬',\n",
       " '보이',\n",
       " '드라이클리닝',\n",
       " '권',\n",
       " '장',\n",
       " '부드러운',\n",
       " '백',\n",
       " '아이보리',\n",
       " '컬러',\n",
       " '바탕',\n",
       " '덜',\n",
       " '톤',\n",
       " '그린',\n",
       " '컬러',\n",
       " '인',\n",
       " '플',\n",
       " '로럴',\n",
       " '리프',\n",
       " '무늬',\n",
       " '편안',\n",
       " '이국',\n",
       " '적',\n",
       " '인',\n",
       " '에콜',\n",
       " '로지',\n",
       " '시원',\n",
       " '보이',\n",
       " '내추럴',\n",
       " '휴양지',\n",
       " '느낌',\n",
       " '바캉스',\n",
       " '룩']"
      ]
     },
     "metadata": {},
     "execution_count": 34
    }
   ],
   "metadata": {}
  },
  {
   "cell_type": "markdown",
   "source": [
    "## 1. 임베딩 레이어 활용"
   ],
   "metadata": {}
  },
  {
   "cell_type": "markdown",
   "source": [
    "### 정수 인코딩"
   ],
   "metadata": {}
  },
  {
   "cell_type": "code",
   "execution_count": 35,
   "source": [
    "from tensorflow.keras.preprocessing.text import Tokenizer\n",
    "tokenizer = Tokenizer()\n",
    "tokenizer.fit_on_texts(X_data)"
   ],
   "outputs": [],
   "metadata": {}
  },
  {
   "cell_type": "code",
   "execution_count": 36,
   "source": [
    "threshold = 6\n",
    "total_cnt = len(tokenizer.word_index) # 단어의 수\n",
    "rare_cnt = 0 # 등장 빈도수가 threshold보다 작은 단어의 개수를 카운트\n",
    "total_freq = 0 # 훈련 데이터의 전체 단어 빈도수 총 합\n",
    "rare_freq = 0 # 등장 빈도수가 threshold보다 작은 단어의 등장 빈도수의 총 합\n",
    "\n",
    "# 단어와 빈도수의 쌍(pair)을 key와 value로 받는다.\n",
    "for key, value in tokenizer.word_counts.items():\n",
    "    total_freq = total_freq + value\n",
    "\n",
    "    # 단어의 등장 빈도수가 threshold보다 작으면\n",
    "    if(value < threshold):\n",
    "        rare_cnt = rare_cnt + 1\n",
    "        rare_freq = rare_freq + value\n",
    "\n",
    "print('단어 집합(vocabulary)의 크기 :',total_cnt)\n",
    "print('등장 빈도가 %s번 이하인 희귀 단어의 수: %s'%(threshold - 1, rare_cnt))\n",
    "print(\"단어 집합에서 희귀 단어의 비율:\", (rare_cnt / total_cnt)*100)\n",
    "print(\"전체 등장 빈도에서 희귀 단어 등장 빈도 비율:\", (rare_freq / total_freq)*100)"
   ],
   "outputs": [
    {
     "output_type": "stream",
     "name": "stdout",
     "text": [
      "단어 집합(vocabulary)의 크기 : 3546\n",
      "등장 빈도가 5번 이하인 희귀 단어의 수: 1538\n",
      "단어 집합에서 희귀 단어의 비율: 43.372814438804284\n",
      "전체 등장 빈도에서 희귀 단어 등장 빈도 비율: 0.9316217067857682\n"
     ]
    }
   ],
   "metadata": {}
  },
  {
   "cell_type": "code",
   "execution_count": 37,
   "source": [
    "vocab_size = total_cnt - rare_cnt + 1 # tokenizer 함수에 들어 갈 때 영향줘서 1 추가 해야 됨\n",
    "print('단어 집합의 크기 :',vocab_size)"
   ],
   "outputs": [
    {
     "output_type": "stream",
     "name": "stdout",
     "text": [
      "단어 집합의 크기 : 2009\n"
     ]
    }
   ],
   "metadata": {}
  },
  {
   "cell_type": "markdown",
   "source": [
    "케라스 토크나이저의 정수 인코딩은 인덱스가 1부터 시작하지만,\n",
    "\n",
    "케라스 원-핫 인코딩에서 배열의 인덱스가 0부터 시작하기 때문에\n",
    "\n",
    "배열의 크기를 실제 단어 집합의 크기보다 +1로 생성해야하므로 미리 +1 선언 "
   ],
   "metadata": {}
  },
  {
   "cell_type": "markdown",
   "source": [
    "### 맨 앞자리는 비어있어야 함 (원 핫 인코딩은 정수 인코딩한 뒤 나오는 정수 값 자리에 1을 넣는 것)"
   ],
   "metadata": {}
  },
  {
   "cell_type": "code",
   "execution_count": 38,
   "source": [
    "tokenizer = Tokenizer(num_words=vocab_size - 1)\n",
    "tokenizer.fit_on_texts(X_data)\n",
    "len(tokenizer.word_index)"
   ],
   "outputs": [
    {
     "output_type": "execute_result",
     "data": {
      "text/plain": [
       "3546"
      ]
     },
     "metadata": {},
     "execution_count": 38
    }
   ],
   "metadata": {}
  },
  {
   "cell_type": "code",
   "execution_count": 39,
   "source": [
    "X_data = tokenizer.texts_to_sequences(X_data) # 단어에 정수 붙여줄 때 num_word 적용"
   ],
   "outputs": [],
   "metadata": {}
  },
  {
   "cell_type": "markdown",
   "source": [
    "위에서 num_words는 이 데이터에서 등장 빈도 순위로 몇 번째에 해당하는 단어까지만 사용할 것인지 조절\n",
    "\n",
    "예를 들어서 100이란 값을 넣으면, 등장 빈도 순위가 1~100에 해당하는 단어만 사용"
   ],
   "metadata": {}
  },
  {
   "cell_type": "code",
   "execution_count": 40,
   "source": [
    "X_data[1]"
   ],
   "outputs": [
    {
     "output_type": "execute_result",
     "data": {
      "text/plain": [
       "[578,\n",
       " 270,\n",
       " 1732,\n",
       " 130,\n",
       " 321,\n",
       " 24,\n",
       " 20,\n",
       " 130,\n",
       " 26,\n",
       " 12,\n",
       " 1,\n",
       " 3,\n",
       " 1732,\n",
       " 1085,\n",
       " 193,\n",
       " 292,\n",
       " 47,\n",
       " 847,\n",
       " 103,\n",
       " 2,\n",
       " 316,\n",
       " 130,\n",
       " 26,\n",
       " 4,\n",
       " 13,\n",
       " 6,\n",
       " 21,\n",
       " 32,\n",
       " 229,\n",
       " 476,\n",
       " 8,\n",
       " 644,\n",
       " 74,\n",
       " 612,\n",
       " 27,\n",
       " 607,\n",
       " 340,\n",
       " 330,\n",
       " 363,\n",
       " 51,\n",
       " 84,\n",
       " 287,\n",
       " 1,\n",
       " 3,\n",
       " 102,\n",
       " 24,\n",
       " 292,\n",
       " 7,\n",
       " 157,\n",
       " 9,\n",
       " 11,\n",
       " 454,\n",
       " 801,\n",
       " 61,\n",
       " 8,\n",
       " 822,\n",
       " 177,\n",
       " 9,\n",
       " 24,\n",
       " 20,\n",
       " 11,\n",
       " 32,\n",
       " 5,\n",
       " 10,\n",
       " 1,\n",
       " 3,\n",
       " 319,\n",
       " 82,\n",
       " 89,\n",
       " 24,\n",
       " 477,\n",
       " 1368,\n",
       " 11,\n",
       " 454,\n",
       " 57,\n",
       " 8,\n",
       " 573,\n",
       " 1059,\n",
       " 210,\n",
       " 51,\n",
       " 52,\n",
       " 603,\n",
       " 590,\n",
       " 33,\n",
       " 255,\n",
       " 34,\n",
       " 652,\n",
       " 207,\n",
       " 29,\n",
       " 1480,\n",
       " 1530,\n",
       " 236,\n",
       " 145,\n",
       " 176,\n",
       " 286,\n",
       " 283,\n",
       " 43,\n",
       " 48,\n",
       " 115,\n",
       " 312,\n",
       " 48,\n",
       " 146,\n",
       " 212,\n",
       " 44,\n",
       " 67,\n",
       " 64,\n",
       " 183,\n",
       " 184,\n",
       " 153,\n",
       " 70,\n",
       " 9,\n",
       " 265,\n",
       " 97,\n",
       " 64,\n",
       " 277,\n",
       " 227,\n",
       " 531,\n",
       " 176,\n",
       " 313,\n",
       " 314,\n",
       " 41,\n",
       " 38,\n",
       " 2,\n",
       " 15,\n",
       " 25,\n",
       " 290,\n",
       " 9,\n",
       " 55,\n",
       " 40,\n",
       " 213,\n",
       " 127,\n",
       " 112,\n",
       " 110,\n",
       " 86,\n",
       " 234,\n",
       " 126,\n",
       " 22,\n",
       " 70,\n",
       " 177,\n",
       " 271,\n",
       " 319,\n",
       " 24,\n",
       " 20,\n",
       " 15]"
      ]
     },
     "metadata": {},
     "execution_count": 40
    }
   ],
   "metadata": {}
  },
  {
   "cell_type": "code",
   "execution_count": 41,
   "source": [
    "print('문장 최대 길이 :',max(len(l) for l in X_data))\n",
    "print('문장의 평균 길이 :',sum(map(len, X_data))/len(X_data))\n",
    "plt.hist([len(s) for s in X_data], bins=50, color='k')\n",
    "plt.xlabel('length of samples')\n",
    "plt.ylabel('number of samples')\n",
    "plt.show()\n",
    "plt.close()"
   ],
   "outputs": [
    {
     "output_type": "stream",
     "name": "stdout",
     "text": [
      "문장 최대 길이 : 359\n",
      "문장의 평균 길이 : 184.3697093319735\n"
     ]
    },
    {
     "output_type": "display_data",
     "data": {
      "image/png": "[encoded data removed]",
      "text/plain": [
       "<Figure size 640x480 with 1 Axes>"
      ]
     },
     "metadata": {}
    }
   ],
   "metadata": {}
  },
  {
   "cell_type": "code",
   "execution_count": 42,
   "source": [
    "def below_threshold_len(max_len, nested_list):\n",
    "  cnt = 0\n",
    "  for s in nested_list:\n",
    "    if(len(s) <= max_len):\n",
    "        cnt = cnt + 1\n",
    "  print('전체 샘플 중 길이가 %s 이하인 샘플의 비율: %s'%(max_len, (cnt / len(nested_list))*100))\n",
    "\n",
    "max_len = 300\n",
    "below_threshold_len(max_len, X_data)"
   ],
   "outputs": [
    {
     "output_type": "stream",
     "name": "stdout",
     "text": [
      "전체 샘플 중 길이가 300 이하인 샘플의 비율: 98.62315145334013\n"
     ]
    }
   ],
   "metadata": {}
  },
  {
   "cell_type": "markdown",
   "source": [
    "## padding"
   ],
   "metadata": {}
  },
  {
   "cell_type": "code",
   "execution_count": 43,
   "source": [
    "from tensorflow.keras.preprocessing.sequence import pad_sequences\n",
    "X_data = pad_sequences(X_data, maxlen = max_len)"
   ],
   "outputs": [],
   "metadata": {}
  },
  {
   "cell_type": "code",
   "execution_count": 44,
   "source": [
    "print(len(X_data[1]))\n",
    "X_data[1]"
   ],
   "outputs": [
    {
     "output_type": "stream",
     "name": "stdout",
     "text": [
      "300\n"
     ]
    },
    {
     "output_type": "execute_result",
     "data": {
      "text/plain": [
       "array([   0,    0,    0,    0,    0,    0,    0,    0,    0,    0,    0,\n",
       "          0,    0,    0,    0,    0,    0,    0,    0,    0,    0,    0,\n",
       "          0,    0,    0,    0,    0,    0,    0,    0,    0,    0,    0,\n",
       "          0,    0,    0,    0,    0,    0,    0,    0,    0,    0,    0,\n",
       "          0,    0,    0,    0,    0,    0,    0,    0,    0,    0,    0,\n",
       "          0,    0,    0,    0,    0,    0,    0,    0,    0,    0,    0,\n",
       "          0,    0,    0,    0,    0,    0,    0,    0,    0,    0,    0,\n",
       "          0,    0,    0,    0,    0,    0,    0,    0,    0,    0,    0,\n",
       "          0,    0,    0,    0,    0,    0,    0,    0,    0,    0,    0,\n",
       "          0,    0,    0,    0,    0,    0,    0,    0,    0,    0,    0,\n",
       "          0,    0,    0,    0,    0,    0,    0,    0,    0,    0,    0,\n",
       "          0,    0,    0,    0,    0,    0,    0,    0,    0,    0,    0,\n",
       "          0,    0,    0,    0,    0,    0,    0,    0,    0,    0,    0,\n",
       "          0,    0,    0,    0,    0,    0,    0,    0,    0,    0,    0,\n",
       "          0,    0,  578,  270, 1732,  130,  321,   24,   20,  130,   26,\n",
       "         12,    1,    3, 1732, 1085,  193,  292,   47,  847,  103,    2,\n",
       "        316,  130,   26,    4,   13,    6,   21,   32,  229,  476,    8,\n",
       "        644,   74,  612,   27,  607,  340,  330,  363,   51,   84,  287,\n",
       "          1,    3,  102,   24,  292,    7,  157,    9,   11,  454,  801,\n",
       "         61,    8,  822,  177,    9,   24,   20,   11,   32,    5,   10,\n",
       "          1,    3,  319,   82,   89,   24,  477, 1368,   11,  454,   57,\n",
       "          8,  573, 1059,  210,   51,   52,  603,  590,   33,  255,   34,\n",
       "        652,  207,   29, 1480, 1530,  236,  145,  176,  286,  283,   43,\n",
       "         48,  115,  312,   48,  146,  212,   44,   67,   64,  183,  184,\n",
       "        153,   70,    9,  265,   97,   64,  277,  227,  531,  176,  313,\n",
       "        314,   41,   38,    2,   15,   25,  290,    9,   55,   40,  213,\n",
       "        127,  112,  110,   86,  234,  126,   22,   70,  177,  271,  319,\n",
       "         24,   20,   15], dtype=int32)"
      ]
     },
     "metadata": {},
     "execution_count": 44
    }
   ],
   "metadata": {}
  },
  {
   "cell_type": "markdown",
   "source": [
    "# 6. LSTM 돌리기 "
   ],
   "metadata": {}
  },
  {
   "cell_type": "code",
   "execution_count": 45,
   "source": [
    "from tensorflow.keras.layers import Embedding, Dense, LSTM, Bidirectional\n",
    "from tensorflow.keras.models import Sequential\n",
    "from tensorflow.keras.models import load_model\n",
    "from tensorflow.keras.callbacks import EarlyStopping, ModelCheckpoint\n",
    "from sklearn.model_selection import train_test_split\n",
    "from tensorflow.keras.utils import to_categorical"
   ],
   "outputs": [],
   "metadata": {}
  },
  {
   "cell_type": "code",
   "execution_count": 46,
   "source": [
    "X = X_data\n",
    "y = bl_data.id.tolist()"
   ],
   "outputs": [],
   "metadata": {}
  },
  {
   "cell_type": "code",
   "execution_count": 47,
   "source": [
    "X[1]"
   ],
   "outputs": [
    {
     "output_type": "execute_result",
     "data": {
      "text/plain": [
       "array([   0,    0,    0,    0,    0,    0,    0,    0,    0,    0,    0,\n",
       "          0,    0,    0,    0,    0,    0,    0,    0,    0,    0,    0,\n",
       "          0,    0,    0,    0,    0,    0,    0,    0,    0,    0,    0,\n",
       "          0,    0,    0,    0,    0,    0,    0,    0,    0,    0,    0,\n",
       "          0,    0,    0,    0,    0,    0,    0,    0,    0,    0,    0,\n",
       "          0,    0,    0,    0,    0,    0,    0,    0,    0,    0,    0,\n",
       "          0,    0,    0,    0,    0,    0,    0,    0,    0,    0,    0,\n",
       "          0,    0,    0,    0,    0,    0,    0,    0,    0,    0,    0,\n",
       "          0,    0,    0,    0,    0,    0,    0,    0,    0,    0,    0,\n",
       "          0,    0,    0,    0,    0,    0,    0,    0,    0,    0,    0,\n",
       "          0,    0,    0,    0,    0,    0,    0,    0,    0,    0,    0,\n",
       "          0,    0,    0,    0,    0,    0,    0,    0,    0,    0,    0,\n",
       "          0,    0,    0,    0,    0,    0,    0,    0,    0,    0,    0,\n",
       "          0,    0,    0,    0,    0,    0,    0,    0,    0,    0,    0,\n",
       "          0,    0,  578,  270, 1732,  130,  321,   24,   20,  130,   26,\n",
       "         12,    1,    3, 1732, 1085,  193,  292,   47,  847,  103,    2,\n",
       "        316,  130,   26,    4,   13,    6,   21,   32,  229,  476,    8,\n",
       "        644,   74,  612,   27,  607,  340,  330,  363,   51,   84,  287,\n",
       "          1,    3,  102,   24,  292,    7,  157,    9,   11,  454,  801,\n",
       "         61,    8,  822,  177,    9,   24,   20,   11,   32,    5,   10,\n",
       "          1,    3,  319,   82,   89,   24,  477, 1368,   11,  454,   57,\n",
       "          8,  573, 1059,  210,   51,   52,  603,  590,   33,  255,   34,\n",
       "        652,  207,   29, 1480, 1530,  236,  145,  176,  286,  283,   43,\n",
       "         48,  115,  312,   48,  146,  212,   44,   67,   64,  183,  184,\n",
       "        153,   70,    9,  265,   97,   64,  277,  227,  531,  176,  313,\n",
       "        314,   41,   38,    2,   15,   25,  290,    9,   55,   40,  213,\n",
       "        127,  112,  110,   86,  234,  126,   22,   70,  177,  271,  319,\n",
       "         24,   20,   15], dtype=int32)"
      ]
     },
     "metadata": {},
     "execution_count": 47
    }
   ],
   "metadata": {}
  },
  {
   "cell_type": "code",
   "execution_count": 48,
   "source": [
    "y[1]"
   ],
   "outputs": [
    {
     "output_type": "execute_result",
     "data": {
      "text/plain": [
       "'046'"
      ]
     },
     "metadata": {},
     "execution_count": 48
    }
   ],
   "metadata": {}
  },
  {
   "cell_type": "code",
   "execution_count": 49,
   "source": [
    "print(len(X),len(y))"
   ],
   "outputs": [
    {
     "output_type": "stream",
     "name": "stdout",
     "text": [
      "1961 1961\n"
     ]
    }
   ],
   "metadata": {}
  },
  {
   "cell_type": "code",
   "execution_count": 50,
   "source": [
    "y = to_categorical(y)"
   ],
   "outputs": [],
   "metadata": {}
  },
  {
   "cell_type": "code",
   "execution_count": 51,
   "source": [
    "print(X.shape, y.shape)"
   ],
   "outputs": [
    {
     "output_type": "stream",
     "name": "stdout",
     "text": [
      "(1961, 300) (1961, 149)\n"
     ]
    }
   ],
   "metadata": {}
  },
  {
   "cell_type": "code",
   "execution_count": 52,
   "source": [
    "x_train, x_test, y_train, y_test = train_test_split(X, y,test_size=0.3, random_state=777, stratify=y) #추천 한 번밖에 안된 애들 있어서 stratify 안됨"
   ],
   "outputs": [],
   "metadata": {}
  },
  {
   "cell_type": "code",
   "execution_count": 53,
   "source": [
    "num_class = int(max(bl_data.id)) + 1"
   ],
   "outputs": [],
   "metadata": {}
  },
  {
   "cell_type": "code",
   "execution_count": 54,
   "source": [
    "from tensorflow.keras.layers import SimpleRNN"
   ],
   "outputs": [],
   "metadata": {}
  },
  {
   "cell_type": "code",
   "execution_count": 55,
   "source": [
    "model = Sequential()\n",
    "model.add(Embedding(vocab_size, max_len))\n",
    "model.add(SimpleRNN(max_len))\n",
    "model.add(Dense(num_class, activation='softmax'))\n",
    "\n",
    "model.summary()"
   ],
   "outputs": [
    {
     "output_type": "stream",
     "name": "stdout",
     "text": [
      "Model: \"sequential\"\n",
      "_________________________________________________________________\n",
      "Layer (type)                 Output Shape              Param #   \n",
      "=================================================================\n",
      "embedding (Embedding)        (None, None, 300)         602700    \n",
      "_________________________________________________________________\n",
      "simple_rnn (SimpleRNN)       (None, 300)               180300    \n",
      "_________________________________________________________________\n",
      "dense (Dense)                (None, 149)               44849     \n",
      "=================================================================\n",
      "Total params: 827,849\n",
      "Trainable params: 827,849\n",
      "Non-trainable params: 0\n",
      "_________________________________________________________________\n"
     ]
    }
   ],
   "metadata": {}
  },
  {
   "cell_type": "code",
   "execution_count": 56,
   "source": [
    "es = EarlyStopping(monitor='val_loss', mode='min', verbose=1, patience=6)\n",
    "mc = ModelCheckpoint('bl_model_lstm.h5', monitor='val_acc', mode='max', verbose=1, save_best_only=True)"
   ],
   "outputs": [],
   "metadata": {}
  },
  {
   "cell_type": "code",
   "execution_count": 57,
   "source": [
    "model.compile(optimizer='adam', loss='categorical_crossentropy', metrics=['acc'])\n",
    "history = model.fit(x_train, y_train, epochs=10, callbacks=[es, mc], batch_size=32, validation_split=0.2)\n",
    "\n",
    "print(\"테스트 셋 체크\")\n",
    "loaded_model = load_model('bl_model_lstm.h5')\n",
    "print(\"\\n 테스트 정확도: %.4f\" % (loaded_model.evaluate(x_test, y_test)[1]))"
   ],
   "outputs": [
    {
     "output_type": "stream",
     "name": "stdout",
     "text": [
      "Epoch 1/10\n",
      "35/35 [==============================] - 14s 375ms/step - loss: 3.7414 - acc: 0.5553 - val_loss: 1.7481 - val_acc: 0.9127\n",
      "\n",
      "Epoch 00001: val_acc improved from -inf to 0.91273, saving model to bl_model_lstm.h5\n",
      "Epoch 2/10\n",
      "35/35 [==============================] - 13s 367ms/step - loss: 1.1090 - acc: 0.9765 - val_loss: 0.5951 - val_acc: 0.9564\n",
      "\n",
      "Epoch 00002: val_acc improved from 0.91273 to 0.95636, saving model to bl_model_lstm.h5\n",
      "Epoch 3/10\n",
      "35/35 [==============================] - 14s 386ms/step - loss: 0.3119 - acc: 0.9929 - val_loss: 0.3425 - val_acc: 0.9818\n",
      "\n",
      "Epoch 00003: val_acc improved from 0.95636 to 0.98182, saving model to bl_model_lstm.h5\n",
      "Epoch 4/10\n",
      "35/35 [==============================] - 13s 374ms/step - loss: 0.1323 - acc: 0.9991 - val_loss: 0.2289 - val_acc: 0.9818\n",
      "\n",
      "Epoch 00004: val_acc did not improve from 0.98182\n",
      "Epoch 5/10\n",
      "35/35 [==============================] - 13s 374ms/step - loss: 0.0596 - acc: 1.0000 - val_loss: 0.1730 - val_acc: 0.9818\n",
      "\n",
      "Epoch 00005: val_acc did not improve from 0.98182\n",
      "Epoch 6/10\n",
      "35/35 [==============================] - 14s 401ms/step - loss: 0.0341 - acc: 1.0000 - val_loss: 0.1516 - val_acc: 0.9818\n",
      "\n",
      "Epoch 00006: val_acc did not improve from 0.98182\n",
      "Epoch 7/10\n",
      "35/35 [==============================] - 13s 369ms/step - loss: 0.0240 - acc: 1.0000 - val_loss: 0.1350 - val_acc: 0.9818\n",
      "\n",
      "Epoch 00007: val_acc did not improve from 0.98182\n",
      "Epoch 8/10\n",
      "35/35 [==============================] - 13s 380ms/step - loss: 0.0163 - acc: 1.0000 - val_loss: 0.1288 - val_acc: 0.9818\n",
      "\n",
      "Epoch 00008: val_acc did not improve from 0.98182\n",
      "Epoch 9/10\n",
      "35/35 [==============================] - 14s 403ms/step - loss: 0.0131 - acc: 1.0000 - val_loss: 0.1239 - val_acc: 0.9818\n",
      "\n",
      "Epoch 00009: val_acc did not improve from 0.98182\n",
      "Epoch 10/10\n",
      "35/35 [==============================] - 15s 417ms/step - loss: 0.0102 - acc: 1.0000 - val_loss: 0.1211 - val_acc: 0.9818\n",
      "\n",
      "Epoch 00010: val_acc did not improve from 0.98182\n",
      "테스트 셋 체크\n",
      "19/19 [==============================] - 2s 110ms/step - loss: 0.2261 - acc: 0.9915\n",
      "\n",
      " 테스트 정확도: 0.9915\n"
     ]
    }
   ],
   "metadata": {}
  },
  {
   "cell_type": "markdown",
   "source": [
    "Cannot convert a symbolic Tensor -> numpy 버전 1.19.5로 바꿔줌\n",
    "\n",
    "https://wikidocs.net/45101"
   ],
   "metadata": {}
  },
  {
   "cell_type": "code",
   "execution_count": 58,
   "source": [
    "# list all data in history\n",
    "print(history.history.keys())\n",
    "# summarize history for accuracy\n",
    "plt.plot(history.history['acc'])\n",
    "plt.plot(history.history['val_acc'])\n",
    "plt.title('model accuracy')\n",
    "plt.ylabel('accuracy')\n",
    "plt.xlabel('epoch')\n",
    "plt.legend(['train', 'test'], loc='upper left')\n",
    "plt.show()\n",
    "# summarize history for loss\n",
    "plt.plot(history.history['loss'])\n",
    "plt.plot(history.history['val_loss'])\n",
    "plt.title('model loss')\n",
    "plt.ylabel('loss')\n",
    "plt.xlabel('epoch')\n",
    "plt.legend(['train', 'test'], loc='upper left')\n",
    "plt.show()"
   ],
   "outputs": [
    {
     "output_type": "stream",
     "name": "stdout",
     "text": [
      "dict_keys(['loss', 'acc', 'val_loss', 'val_acc'])\n"
     ]
    },
    {
     "output_type": "display_data",
     "data": {
      "image/png": "[encoded data removed]",
      "text/plain": [
       "<Figure size 640x480 with 1 Axes>"
      ]
     },
     "metadata": {}
    },
    {
     "output_type": "display_data",
     "data": {
      "image/png": "[encoded data removed]",
      "text/plain": [
       "<Figure size 640x480 with 1 Axes>"
      ]
     },
     "metadata": {}
    }
   ],
   "metadata": {}
  },
  {
   "cell_type": "code",
   "execution_count": null,
   "source": [],
   "outputs": [],
   "metadata": {}
  }
 ],
 "metadata": {
  "orig_nbformat": 4,
  "language_info": {
   "name": "python",
   "version": "3.8.0",
   "mimetype": "text/x-python",
   "codemirror_mode": {
    "name": "ipython",
    "version": 3
   },
   "pygments_lexer": "ipython3",
   "nbconvert_exporter": "python",
   "file_extension": ".py"
  },
  "kernelspec": {
   "name": "python3",
   "display_name": "Python 3.8.0 64-bit ('sj': conda)"
  },
  "interpreter": {
   "hash": "022eb7dab1e64abfe7845a82597d3156ee0a5d78294cf462a778b063942c3de6"
  }
 },
 "nbformat": 4,
 "nbformat_minor": 2
}