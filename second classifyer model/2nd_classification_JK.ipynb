{
 "cells": [
  {
   "cell_type": "code",
   "execution_count": 1,
   "source": [
    "import pandas as pd\r\n",
    "\r\n",
    "ddata = pd.read_csv(\"./data/ddata.txt\", encoding=\"euc-kr\", sep=\"\\t\", names=[\"num\",\"speaker\",\"contents\",\"tags\"])\r\n",
    "mdata = pd.read_csv(\"./data/mdata.txt\", encoding=\"euc-kr\", sep=\"\\t\", names=[\"id\",\"part\",\"category\",\"exptype\",\"exp\"])\r\n",
    "\r\n",
    "ddata.head()"
   ],
   "outputs": [
    {
     "output_type": "execute_result",
     "data": {
      "text/html": [
       "<div>\n",
       "<style scoped>\n",
       "    .dataframe tbody tr th:only-of-type {\n",
       "        vertical-align: middle;\n",
       "    }\n",
       "\n",
       "    .dataframe tbody tr th {\n",
       "        vertical-align: top;\n",
       "    }\n",
       "\n",
       "    .dataframe thead th {\n",
       "        text-align: right;\n",
       "    }\n",
       "</style>\n",
       "<table border=\"1\" class=\"dataframe\">\n",
       "  <thead>\n",
       "    <tr style=\"text-align: right;\">\n",
       "      <th></th>\n",
       "      <th>num</th>\n",
       "      <th>speaker</th>\n",
       "      <th>contents</th>\n",
       "      <th>tags</th>\n",
       "    </tr>\n",
       "  </thead>\n",
       "  <tbody>\n",
       "    <tr>\n",
       "      <th>0</th>\n",
       "      <td>0</td>\n",
       "      <td>&lt;CO&gt;</td>\n",
       "      <td>어서오세요. 코디봇입니다. 무엇을 도와드릴까요?</td>\n",
       "      <td>INTRO</td>\n",
       "    </tr>\n",
       "    <tr>\n",
       "      <th>1</th>\n",
       "      <td>1</td>\n",
       "      <td>&lt;US&gt;</td>\n",
       "      <td>처음 대학교 들어가는데 입을 옷 코디해주세요.</td>\n",
       "      <td>NaN</td>\n",
       "    </tr>\n",
       "    <tr>\n",
       "      <th>2</th>\n",
       "      <td>2</td>\n",
       "      <td>&lt;CO&gt;</td>\n",
       "      <td>신입생 코디에 어울리게 화사한 스웨터를 추천해드릴게요.</td>\n",
       "      <td>EXP_RES_SITUATION;EXP_RES_DESCRIPTION</td>\n",
       "    </tr>\n",
       "    <tr>\n",
       "      <th>3</th>\n",
       "      <td>3</td>\n",
       "      <td>&lt;AC&gt;</td>\n",
       "      <td>SW-009</td>\n",
       "      <td>NaN</td>\n",
       "    </tr>\n",
       "    <tr>\n",
       "      <th>4</th>\n",
       "      <td>4</td>\n",
       "      <td>&lt;US&gt;</td>\n",
       "      <td>이 옷에 어울리는 치마로 추천해주세요.</td>\n",
       "      <td>USER_SUCCESS</td>\n",
       "    </tr>\n",
       "  </tbody>\n",
       "</table>\n",
       "</div>"
      ],
      "text/plain": [
       "   num speaker                         contents  \\\n",
       "0    0    <CO>       어서오세요. 코디봇입니다. 무엇을 도와드릴까요?   \n",
       "1    1    <US>        처음 대학교 들어가는데 입을 옷 코디해주세요.   \n",
       "2    2    <CO>   신입생 코디에 어울리게 화사한 스웨터를 추천해드릴게요.   \n",
       "3    3    <AC>                           SW-009   \n",
       "4    4    <US>            이 옷에 어울리는 치마로 추천해주세요.   \n",
       "\n",
       "                                    tags  \n",
       "0                                  INTRO  \n",
       "1                                    NaN  \n",
       "2  EXP_RES_SITUATION;EXP_RES_DESCRIPTION  \n",
       "3                                    NaN  \n",
       "4                           USER_SUCCESS  "
      ]
     },
     "metadata": {},
     "execution_count": 1
    }
   ],
   "metadata": {}
  },
  {
   "cell_type": "markdown",
   "source": [
    "# 1. 전체 대화셋 개수 카운트"
   ],
   "metadata": {}
  },
  {
   "cell_type": "code",
   "execution_count": 2,
   "source": [
    "dial_num = 0\r\n",
    "\r\n",
    "for i in range(1, len(ddata)):\r\n",
    "    if ddata.loc[i, \"num\"] == 0:\r\n",
    "        dial_num += 1\r\n",
    "print(\"총 대화셋 수: \",dial_num)"
   ],
   "outputs": [
    {
     "output_type": "stream",
     "name": "stdout",
     "text": [
      "총 대화셋 수:  7235\n"
     ]
    }
   ],
   "metadata": {}
  },
  {
   "cell_type": "markdown",
   "source": [
    "# 2. Mdata 합치기"
   ],
   "metadata": {}
  },
  {
   "cell_type": "markdown",
   "source": [
    "## - Part 살려서 합치기"
   ],
   "metadata": {}
  },
  {
   "cell_type": "code",
   "execution_count": 3,
   "source": [
    "c_mdata = pd.DataFrame({\"id\":[0],\"exp\":[None]})\r\n",
    "c_mdata.drop(0, axis=0, inplace=True)\r\n",
    "c_mdata"
   ],
   "outputs": [
    {
     "output_type": "execute_result",
     "data": {
      "text/html": [
       "<div>\n",
       "<style scoped>\n",
       "    .dataframe tbody tr th:only-of-type {\n",
       "        vertical-align: middle;\n",
       "    }\n",
       "\n",
       "    .dataframe tbody tr th {\n",
       "        vertical-align: top;\n",
       "    }\n",
       "\n",
       "    .dataframe thead th {\n",
       "        text-align: right;\n",
       "    }\n",
       "</style>\n",
       "<table border=\"1\" class=\"dataframe\">\n",
       "  <thead>\n",
       "    <tr style=\"text-align: right;\">\n",
       "      <th></th>\n",
       "      <th>id</th>\n",
       "      <th>exp</th>\n",
       "    </tr>\n",
       "  </thead>\n",
       "  <tbody>\n",
       "  </tbody>\n",
       "</table>\n",
       "</div>"
      ],
      "text/plain": [
       "Empty DataFrame\n",
       "Columns: [id, exp]\n",
       "Index: []"
      ]
     },
     "metadata": {},
     "execution_count": 3
    }
   ],
   "metadata": {}
  },
  {
   "cell_type": "code",
   "execution_count": 4,
   "source": [
    "id = \"\"\r\n",
    "idx = 0\r\n",
    "for i in range(len(mdata)):\r\n",
    "    if id == mdata.loc[i, \"id\"]:\r\n",
    "        c_mdata.loc[c_mdata.index[(c_mdata[\"id\"] == id)].tolist().pop(),\"exp\"] = c_mdata.loc[c_mdata.index[(c_mdata[\"id\"] == id)].tolist().pop(),\"exp\"] + \" \" + mdata.loc[i, \"exp\"]\r\n",
    "    \r\n",
    "    else:\r\n",
    "        id = mdata.loc[i, \"id\"]\r\n",
    "        c_mdata.loc[i, \"id\"] = id\r\n",
    "        c_mdata.loc[i, \"exp\"] = mdata.loc[i, \"exp\"]\r\n",
    "\r\n",
    "c_mdata.head()"
   ],
   "outputs": [
    {
     "output_type": "execute_result",
     "data": {
      "text/html": [
       "<div>\n",
       "<style scoped>\n",
       "    .dataframe tbody tr th:only-of-type {\n",
       "        vertical-align: middle;\n",
       "    }\n",
       "\n",
       "    .dataframe tbody tr th {\n",
       "        vertical-align: top;\n",
       "    }\n",
       "\n",
       "    .dataframe thead th {\n",
       "        text-align: right;\n",
       "    }\n",
       "</style>\n",
       "<table border=\"1\" class=\"dataframe\">\n",
       "  <thead>\n",
       "    <tr style=\"text-align: right;\">\n",
       "      <th></th>\n",
       "      <th>id</th>\n",
       "      <th>exp</th>\n",
       "    </tr>\n",
       "  </thead>\n",
       "  <tbody>\n",
       "    <tr>\n",
       "      <th>0</th>\n",
       "      <td>BL-001</td>\n",
       "      <td>단추 여밈의 전체 오픈형 스탠드 칼라와 브이넥 네크라인의 결합스타일 손목까지 내려오...</td>\n",
       "    </tr>\n",
       "    <tr>\n",
       "      <th>20</th>\n",
       "      <td>BL-002</td>\n",
       "      <td>넓은 셔츠칼라 네크라인 앞중심에 반 오픈 끈여밈있는 스타일 드롭숄더 퍼프형 소매로 ...</td>\n",
       "    </tr>\n",
       "    <tr>\n",
       "      <th>38</th>\n",
       "      <td>BL-003</td>\n",
       "      <td>앞 중심에 단추 여밈 칼라가 없는 넓고 깊게 파인 브이넥 엉덩이 밑으로 내려오는 긴...</td>\n",
       "    </tr>\n",
       "    <tr>\n",
       "      <th>63</th>\n",
       "      <td>BL-004</td>\n",
       "      <td>앞중심에 단추 여밈 칼라가 없는 라운드넥으로 골반 위에서 끝나는 짧은 기장 손목, ...</td>\n",
       "    </tr>\n",
       "    <tr>\n",
       "      <th>84</th>\n",
       "      <td>BL-005</td>\n",
       "      <td>앞단추 여밈의 전체 오픈형 칼라가 없는 라운드넥크라인 엉덩이 위에서 끝나는 짧은 기...</td>\n",
       "    </tr>\n",
       "  </tbody>\n",
       "</table>\n",
       "</div>"
      ],
      "text/plain": [
       "         id                                                exp\n",
       "0   BL-001   단추 여밈의 전체 오픈형 스탠드 칼라와 브이넥 네크라인의 결합스타일 손목까지 내려오...\n",
       "20  BL-002   넓은 셔츠칼라 네크라인 앞중심에 반 오픈 끈여밈있는 스타일 드롭숄더 퍼프형 소매로 ...\n",
       "38  BL-003   앞 중심에 단추 여밈 칼라가 없는 넓고 깊게 파인 브이넥 엉덩이 밑으로 내려오는 긴...\n",
       "63  BL-004   앞중심에 단추 여밈 칼라가 없는 라운드넥으로 골반 위에서 끝나는 짧은 기장 손목, ...\n",
       "84  BL-005   앞단추 여밈의 전체 오픈형 칼라가 없는 라운드넥크라인 엉덩이 위에서 끝나는 짧은 기..."
      ]
     },
     "metadata": {},
     "execution_count": 4
    }
   ],
   "metadata": {}
  },
  {
   "cell_type": "code",
   "execution_count": 5,
   "source": [
    "for i in range(len(c_mdata)): # id 뒤에 공백 없애기\r\n",
    "    c_mdata.iloc[i].id = c_mdata.iloc[i].id.strip()\r\n",
    "\r\n",
    "print(c_mdata.iloc[0].id)\r\n",
    "c_mdata.reset_index(drop=True,inplace=True)\r\n",
    "c_mdata.head()"
   ],
   "outputs": [
    {
     "output_type": "stream",
     "name": "stdout",
     "text": [
      "BL-001\n"
     ]
    },
    {
     "output_type": "execute_result",
     "data": {
      "text/html": [
       "<div>\n",
       "<style scoped>\n",
       "    .dataframe tbody tr th:only-of-type {\n",
       "        vertical-align: middle;\n",
       "    }\n",
       "\n",
       "    .dataframe tbody tr th {\n",
       "        vertical-align: top;\n",
       "    }\n",
       "\n",
       "    .dataframe thead th {\n",
       "        text-align: right;\n",
       "    }\n",
       "</style>\n",
       "<table border=\"1\" class=\"dataframe\">\n",
       "  <thead>\n",
       "    <tr style=\"text-align: right;\">\n",
       "      <th></th>\n",
       "      <th>id</th>\n",
       "      <th>exp</th>\n",
       "    </tr>\n",
       "  </thead>\n",
       "  <tbody>\n",
       "    <tr>\n",
       "      <th>0</th>\n",
       "      <td>BL-001</td>\n",
       "      <td>단추 여밈의 전체 오픈형 스탠드 칼라와 브이넥 네크라인의 결합스타일 손목까지 내려오...</td>\n",
       "    </tr>\n",
       "    <tr>\n",
       "      <th>1</th>\n",
       "      <td>BL-002</td>\n",
       "      <td>넓은 셔츠칼라 네크라인 앞중심에 반 오픈 끈여밈있는 스타일 드롭숄더 퍼프형 소매로 ...</td>\n",
       "    </tr>\n",
       "    <tr>\n",
       "      <th>2</th>\n",
       "      <td>BL-003</td>\n",
       "      <td>앞 중심에 단추 여밈 칼라가 없는 넓고 깊게 파인 브이넥 엉덩이 밑으로 내려오는 긴...</td>\n",
       "    </tr>\n",
       "    <tr>\n",
       "      <th>3</th>\n",
       "      <td>BL-004</td>\n",
       "      <td>앞중심에 단추 여밈 칼라가 없는 라운드넥으로 골반 위에서 끝나는 짧은 기장 손목, ...</td>\n",
       "    </tr>\n",
       "    <tr>\n",
       "      <th>4</th>\n",
       "      <td>BL-005</td>\n",
       "      <td>앞단추 여밈의 전체 오픈형 칼라가 없는 라운드넥크라인 엉덩이 위에서 끝나는 짧은 기...</td>\n",
       "    </tr>\n",
       "  </tbody>\n",
       "</table>\n",
       "</div>"
      ],
      "text/plain": [
       "       id                                                exp\n",
       "0  BL-001  단추 여밈의 전체 오픈형 스탠드 칼라와 브이넥 네크라인의 결합스타일 손목까지 내려오...\n",
       "1  BL-002  넓은 셔츠칼라 네크라인 앞중심에 반 오픈 끈여밈있는 스타일 드롭숄더 퍼프형 소매로 ...\n",
       "2  BL-003  앞 중심에 단추 여밈 칼라가 없는 넓고 깊게 파인 브이넥 엉덩이 밑으로 내려오는 긴...\n",
       "3  BL-004  앞중심에 단추 여밈 칼라가 없는 라운드넥으로 골반 위에서 끝나는 짧은 기장 손목, ...\n",
       "4  BL-005  앞단추 여밈의 전체 오픈형 칼라가 없는 라운드넥크라인 엉덩이 위에서 끝나는 짧은 기..."
      ]
     },
     "metadata": {},
     "execution_count": 5
    }
   ],
   "metadata": {}
  },
  {
   "cell_type": "markdown",
   "source": [
    "# 3. NaN, Null 값 확인"
   ],
   "metadata": {}
  },
  {
   "cell_type": "code",
   "execution_count": 6,
   "source": [
    "ddata.drop(ddata.index[ddata.tags == \"INTRO\"].tolist(), axis=0, inplace=True)\r\n",
    "ddata.reset_index(drop=True, inplace=True)\r\n",
    "ddata[ddata.tags == \"INTRO\"]"
   ],
   "outputs": [
    {
     "output_type": "execute_result",
     "data": {
      "text/html": [
       "<div>\n",
       "<style scoped>\n",
       "    .dataframe tbody tr th:only-of-type {\n",
       "        vertical-align: middle;\n",
       "    }\n",
       "\n",
       "    .dataframe tbody tr th {\n",
       "        vertical-align: top;\n",
       "    }\n",
       "\n",
       "    .dataframe thead th {\n",
       "        text-align: right;\n",
       "    }\n",
       "</style>\n",
       "<table border=\"1\" class=\"dataframe\">\n",
       "  <thead>\n",
       "    <tr style=\"text-align: right;\">\n",
       "      <th></th>\n",
       "      <th>num</th>\n",
       "      <th>speaker</th>\n",
       "      <th>contents</th>\n",
       "      <th>tags</th>\n",
       "    </tr>\n",
       "  </thead>\n",
       "  <tbody>\n",
       "  </tbody>\n",
       "</table>\n",
       "</div>"
      ],
      "text/plain": [
       "Empty DataFrame\n",
       "Columns: [num, speaker, contents, tags]\n",
       "Index: []"
      ]
     },
     "metadata": {},
     "execution_count": 6
    }
   ],
   "metadata": {}
  },
  {
   "cell_type": "code",
   "execution_count": 7,
   "source": [
    "ddata.isnull().sum()"
   ],
   "outputs": [
    {
     "output_type": "execute_result",
     "data": {
      "text/plain": [
       "num             0\n",
       "speaker         0\n",
       "contents        0\n",
       "tags        51927\n",
       "dtype: int64"
      ]
     },
     "metadata": {},
     "execution_count": 7
    }
   ],
   "metadata": {}
  },
  {
   "cell_type": "code",
   "execution_count": 8,
   "source": [
    "ddata.isna().sum()"
   ],
   "outputs": [
    {
     "output_type": "execute_result",
     "data": {
      "text/plain": [
       "num             0\n",
       "speaker         0\n",
       "contents        0\n",
       "tags        51927\n",
       "dtype: int64"
      ]
     },
     "metadata": {},
     "execution_count": 8
    }
   ],
   "metadata": {}
  },
  {
   "cell_type": "code",
   "execution_count": 9,
   "source": [
    "ddata.fillna(\"\", inplace=True)\r\n",
    "ddata.isna().sum()"
   ],
   "outputs": [
    {
     "output_type": "execute_result",
     "data": {
      "text/plain": [
       "num         0\n",
       "speaker     0\n",
       "contents    0\n",
       "tags        0\n",
       "dtype: int64"
      ]
     },
     "metadata": {},
     "execution_count": 9
    }
   ],
   "metadata": {}
  },
  {
   "cell_type": "code",
   "execution_count": 10,
   "source": [
    "mdata.isnull().sum()"
   ],
   "outputs": [
    {
     "output_type": "execute_result",
     "data": {
      "text/plain": [
       "id          0\n",
       "part        0\n",
       "category    0\n",
       "exptype     0\n",
       "exp         0\n",
       "dtype: int64"
      ]
     },
     "metadata": {},
     "execution_count": 10
    }
   ],
   "metadata": {}
  },
  {
   "cell_type": "code",
   "execution_count": 11,
   "source": [
    "c_mdata.isnull().sum()"
   ],
   "outputs": [
    {
     "output_type": "execute_result",
     "data": {
      "text/plain": [
       "id     0\n",
       "exp    0\n",
       "dtype: int64"
      ]
     },
     "metadata": {},
     "execution_count": 11
    }
   ],
   "metadata": {}
  },
  {
   "cell_type": "markdown",
   "source": [
    "# 4. 추천 성공 의상 아이디 종류 및 빈도 카운트 "
   ],
   "metadata": {}
  },
  {
   "cell_type": "markdown",
   "source": [
    "## 한 번에 추천해도 실패하면 전부 실패로 달기"
   ],
   "metadata": {}
  },
  {
   "cell_type": "code",
   "execution_count": 12,
   "source": [
    "c_data = pd.DataFrame({\"contents\":[None], \"id\":[\"xx-xxx\"]})\r\n",
    "c_data.drop(0,axis=0,inplace=True)\r\n",
    "c_data.head()"
   ],
   "outputs": [
    {
     "output_type": "execute_result",
     "data": {
      "text/html": [
       "<div>\n",
       "<style scoped>\n",
       "    .dataframe tbody tr th:only-of-type {\n",
       "        vertical-align: middle;\n",
       "    }\n",
       "\n",
       "    .dataframe tbody tr th {\n",
       "        vertical-align: top;\n",
       "    }\n",
       "\n",
       "    .dataframe thead th {\n",
       "        text-align: right;\n",
       "    }\n",
       "</style>\n",
       "<table border=\"1\" class=\"dataframe\">\n",
       "  <thead>\n",
       "    <tr style=\"text-align: right;\">\n",
       "      <th></th>\n",
       "      <th>contents</th>\n",
       "      <th>id</th>\n",
       "    </tr>\n",
       "  </thead>\n",
       "  <tbody>\n",
       "  </tbody>\n",
       "</table>\n",
       "</div>"
      ],
      "text/plain": [
       "Empty DataFrame\n",
       "Columns: [contents, id]\n",
       "Index: []"
      ]
     },
     "metadata": {},
     "execution_count": 12
    }
   ],
   "metadata": {}
  },
  {
   "cell_type": "markdown",
   "source": [
    "<코드 동작 원리>\n",
    "<br>\n",
    "\n",
    "대화문 하나씩 받아온 다음\n",
    "- AC 태그 문장이면 일단 의상 변수에 저장,\n",
    "- user_success 태그 문장이면\n",
    "\n",
    "   - 변수에 저장된 의상이 하나면\n",
    "\n",
    "      - 바로 대화문 변수랑 의상 변수 및 의상 메타데이터 합쳐서 저장 -> 레이블(id 컬럼에 저장)은 의상 코드가 됨\n",
    "\n",
    "   - 변수에 저장된 의상의 여러 개면\n",
    "\n",
    "      - 의상을 하나의 코드 단위로 쪼개서 대화문 변수랑 의상 메타데이터 합쳐서 저장\n",
    "      \n",
    "-  둘 다 아니고 일반 대화문이면 대화문 변수에 저장"
   ],
   "metadata": {}
  },
  {
   "cell_type": "code",
   "execution_count": 13,
   "source": [
    "dial = ddata.loc[0, \"contents\"].strip()\r\n",
    "ac = \"\"\r\n",
    "\r\n",
    "for i in range(1,len(ddata)):\r\n",
    "    cur_sen = ddata.loc[i,\"contents\"].strip()\r\n",
    "\r\n",
    "    if ddata.loc[i, \"num\"] > ddata.loc[i-1, \"num\"]: # 이전 대화셋에 포함된 문장인지 확인\r\n",
    "        \r\n",
    "        if ddata.loc[i,\"speaker\"] == \"<AC>\": # case 1. 의상 아이디가 나온 경우\r\n",
    "            if len(ac) > 1:\r\n",
    "                ac = ac + \" \" + cur_sen # 의상 아이디 저장\r\n",
    "            else:\r\n",
    "                ac = cur_sen\r\n",
    "\r\n",
    "        elif \"USER_SUCCESS\" == ddata.loc[i,\"tags\"]: # case 2. USER_SUCCESS 태그가 나온 경우\r\n",
    "            if 0 < len(ac) < 7: # 의상을 하나만 추천한 경우\r\n",
    "                dial = dial + \" \" + ac + \" \" + cur_sen\r\n",
    "                c_data.loc[i, \"contents\"] =  dial + \" \" + c_mdata.loc[c_mdata.id == ac].exp.values[0]\r\n",
    "                c_data.loc[i, \"id\"] = ac\r\n",
    "                ac = \"\"\r\n",
    "\r\n",
    "            elif len(ac) == 0:\r\n",
    "                dial = dial + \" \" + cur_sen\r\n",
    "\r\n",
    "            else: # 의상을 한 번에 여러 개 추천한 경우\r\n",
    "                idx_cnt = 0\r\n",
    "                for one_ac in ac.split():\r\n",
    "                    c_data.loc[i + idx_cnt, \"contents\"] =  dial + \" \" + one_ac + \" \"+ cur_sen + \" \" + c_mdata.loc[c_mdata.id == one_ac].exp.values[0]\r\n",
    "                    c_data.loc[i + idx_cnt, \"id\"] = one_ac\r\n",
    "                    idx_cnt += 1\r\n",
    "                dial = dial + \" \" + ac + \" \" + cur_sen    \r\n",
    "                ac = \"\"\r\n",
    "        \r\n",
    "        elif \"USER_FAIL\" in ddata.loc[i,\"tags\"]:\r\n",
    "            dial = dial + \" \" + ac + \" \" + cur_sen\r\n",
    "            ac = \"\"\r\n",
    "\r\n",
    "        else: # case 3. 그냥 대화문인 경우\r\n",
    "            dial = dial + \" \" + cur_sen\r\n",
    "    \r\n",
    "    else: #새로운 대화셋 시작이면 초기화\r\n",
    "        dial = cur_sen\r\n",
    "        ac = \"\""
   ],
   "outputs": [],
   "metadata": {}
  },
  {
   "cell_type": "code",
   "execution_count": 14,
   "source": [
    "print(\"전체 데이터 수: \", len(c_data))\r\n",
    "c_data.head()"
   ],
   "outputs": [
    {
     "output_type": "stream",
     "name": "stdout",
     "text": [
      "전체 데이터 수:  34303\n"
     ]
    },
    {
     "output_type": "execute_result",
     "data": {
      "text/html": [
       "<div>\n",
       "<style scoped>\n",
       "    .dataframe tbody tr th:only-of-type {\n",
       "        vertical-align: middle;\n",
       "    }\n",
       "\n",
       "    .dataframe tbody tr th {\n",
       "        vertical-align: top;\n",
       "    }\n",
       "\n",
       "    .dataframe thead th {\n",
       "        text-align: right;\n",
       "    }\n",
       "</style>\n",
       "<table border=\"1\" class=\"dataframe\">\n",
       "  <thead>\n",
       "    <tr style=\"text-align: right;\">\n",
       "      <th></th>\n",
       "      <th>contents</th>\n",
       "      <th>id</th>\n",
       "    </tr>\n",
       "  </thead>\n",
       "  <tbody>\n",
       "    <tr>\n",
       "      <th>3</th>\n",
       "      <td>처음 대학교 들어가는데 입을 옷 코디해주세요. 신입생 코디에 어울리게 화사한 스웨터...</td>\n",
       "      <td>SW-009</td>\n",
       "    </tr>\n",
       "    <tr>\n",
       "      <th>12</th>\n",
       "      <td>처음 대학교 들어가는데 입을 옷 코디해주세요. 신입생 코디에 어울리게 화사한 스웨터...</td>\n",
       "      <td>SK-053</td>\n",
       "    </tr>\n",
       "    <tr>\n",
       "      <th>17</th>\n",
       "      <td>처음 대학교 들어가는데 입을 옷 코디해주세요. 신입생 코디에 어울리게 화사한 스웨터...</td>\n",
       "      <td>CT-019</td>\n",
       "    </tr>\n",
       "    <tr>\n",
       "      <th>22</th>\n",
       "      <td>처음 대학교 들어가는데 입을 옷 코디해주세요. 신입생 코디에 어울리게 화사한 스웨터...</td>\n",
       "      <td>SE-039</td>\n",
       "    </tr>\n",
       "    <tr>\n",
       "      <th>26</th>\n",
       "      <td>처음 대학교 들어가는데 입을 옷 코디해주세요. 신입생 코디에 어울리게 화사한 스웨터...</td>\n",
       "      <td>CT-019</td>\n",
       "    </tr>\n",
       "  </tbody>\n",
       "</table>\n",
       "</div>"
      ],
      "text/plain": [
       "                                             contents      id\n",
       "3   처음 대학교 들어가는데 입을 옷 코디해주세요. 신입생 코디에 어울리게 화사한 스웨터...  SW-009\n",
       "12  처음 대학교 들어가는데 입을 옷 코디해주세요. 신입생 코디에 어울리게 화사한 스웨터...  SK-053\n",
       "17  처음 대학교 들어가는데 입을 옷 코디해주세요. 신입생 코디에 어울리게 화사한 스웨터...  CT-019\n",
       "22  처음 대학교 들어가는데 입을 옷 코디해주세요. 신입생 코디에 어울리게 화사한 스웨터...  SE-039\n",
       "26  처음 대학교 들어가는데 입을 옷 코디해주세요. 신입생 코디에 어울리게 화사한 스웨터...  CT-019"
      ]
     },
     "metadata": {},
     "execution_count": 14
    }
   ],
   "metadata": {}
  },
  {
   "cell_type": "code",
   "execution_count": 15,
   "source": [
    "c_data.reset_index(drop=True ,inplace=True)\r\n",
    "c_data.head()"
   ],
   "outputs": [
    {
     "output_type": "execute_result",
     "data": {
      "text/html": [
       "<div>\n",
       "<style scoped>\n",
       "    .dataframe tbody tr th:only-of-type {\n",
       "        vertical-align: middle;\n",
       "    }\n",
       "\n",
       "    .dataframe tbody tr th {\n",
       "        vertical-align: top;\n",
       "    }\n",
       "\n",
       "    .dataframe thead th {\n",
       "        text-align: right;\n",
       "    }\n",
       "</style>\n",
       "<table border=\"1\" class=\"dataframe\">\n",
       "  <thead>\n",
       "    <tr style=\"text-align: right;\">\n",
       "      <th></th>\n",
       "      <th>contents</th>\n",
       "      <th>id</th>\n",
       "    </tr>\n",
       "  </thead>\n",
       "  <tbody>\n",
       "    <tr>\n",
       "      <th>0</th>\n",
       "      <td>처음 대학교 들어가는데 입을 옷 코디해주세요. 신입생 코디에 어울리게 화사한 스웨터...</td>\n",
       "      <td>SW-009</td>\n",
       "    </tr>\n",
       "    <tr>\n",
       "      <th>1</th>\n",
       "      <td>처음 대학교 들어가는데 입을 옷 코디해주세요. 신입생 코디에 어울리게 화사한 스웨터...</td>\n",
       "      <td>SK-053</td>\n",
       "    </tr>\n",
       "    <tr>\n",
       "      <th>2</th>\n",
       "      <td>처음 대학교 들어가는데 입을 옷 코디해주세요. 신입생 코디에 어울리게 화사한 스웨터...</td>\n",
       "      <td>CT-019</td>\n",
       "    </tr>\n",
       "    <tr>\n",
       "      <th>3</th>\n",
       "      <td>처음 대학교 들어가는데 입을 옷 코디해주세요. 신입생 코디에 어울리게 화사한 스웨터...</td>\n",
       "      <td>SE-039</td>\n",
       "    </tr>\n",
       "    <tr>\n",
       "      <th>4</th>\n",
       "      <td>처음 대학교 들어가는데 입을 옷 코디해주세요. 신입생 코디에 어울리게 화사한 스웨터...</td>\n",
       "      <td>CT-019</td>\n",
       "    </tr>\n",
       "  </tbody>\n",
       "</table>\n",
       "</div>"
      ],
      "text/plain": [
       "                                            contents      id\n",
       "0  처음 대학교 들어가는데 입을 옷 코디해주세요. 신입생 코디에 어울리게 화사한 스웨터...  SW-009\n",
       "1  처음 대학교 들어가는데 입을 옷 코디해주세요. 신입생 코디에 어울리게 화사한 스웨터...  SK-053\n",
       "2  처음 대학교 들어가는데 입을 옷 코디해주세요. 신입생 코디에 어울리게 화사한 스웨터...  CT-019\n",
       "3  처음 대학교 들어가는데 입을 옷 코디해주세요. 신입생 코디에 어울리게 화사한 스웨터...  SE-039\n",
       "4  처음 대학교 들어가는데 입을 옷 코디해주세요. 신입생 코디에 어울리게 화사한 스웨터...  CT-019"
      ]
     },
     "metadata": {},
     "execution_count": 15
    }
   ],
   "metadata": {}
  },
  {
   "cell_type": "code",
   "execution_count": 16,
   "source": [
    "c_data.loc[0].contents"
   ],
   "outputs": [
    {
     "output_type": "execute_result",
     "data": {
      "text/plain": [
       "'처음 대학교 들어가는데 입을 옷 코디해주세요. 신입생 코디에 어울리게 화사한 스웨터를 추천해드릴게요. SW-009 이 옷에 어울리는 치마로 추천해주세요. 라운드 네크라인 여밈이 없는 풀오버 스타일 전체 케이블 조직 드롭숄더 슬리브 손등까지 오는 길이의 소매 몸에 적당히 맞는 품 엉덩이를 살짝 덮는 길이 네크라인, 소매 끝, 밑단에 고무단 처리 레이온52%,나일론20%,폴리에스터28% 꽈배기 조직, 플레인 조직이 섞여 있는 형태 드라이 크리닝 단색의 라임색 브라이트톤(고명도 고채도)의 옐로우 그린 산뜻하고 발랄한 느낌 기본의 단정한 편안한 산뜻한 발랄한 경쾌한 따뜻한 데일리룩 캠퍼스룩'"
      ]
     },
     "metadata": {},
     "execution_count": 16
    }
   ],
   "metadata": {}
  },
  {
   "cell_type": "code",
   "execution_count": 17,
   "source": [
    "jk_data = pd.DataFrame({\"contents\":[None], \"id\":[\"xx-xxx\"]})\r\n",
    "jk_data.drop(0,axis=0,inplace=True)\r\n",
    "jk_data.head()"
   ],
   "outputs": [
    {
     "output_type": "execute_result",
     "data": {
      "text/html": [
       "<div>\n",
       "<style scoped>\n",
       "    .dataframe tbody tr th:only-of-type {\n",
       "        vertical-align: middle;\n",
       "    }\n",
       "\n",
       "    .dataframe tbody tr th {\n",
       "        vertical-align: top;\n",
       "    }\n",
       "\n",
       "    .dataframe thead th {\n",
       "        text-align: right;\n",
       "    }\n",
       "</style>\n",
       "<table border=\"1\" class=\"dataframe\">\n",
       "  <thead>\n",
       "    <tr style=\"text-align: right;\">\n",
       "      <th></th>\n",
       "      <th>contents</th>\n",
       "      <th>id</th>\n",
       "    </tr>\n",
       "  </thead>\n",
       "  <tbody>\n",
       "  </tbody>\n",
       "</table>\n",
       "</div>"
      ],
      "text/plain": [
       "Empty DataFrame\n",
       "Columns: [contents, id]\n",
       "Index: []"
      ]
     },
     "metadata": {},
     "execution_count": 17
    }
   ],
   "metadata": {}
  },
  {
   "cell_type": "code",
   "execution_count": 18,
   "source": [
    "for i in range(len(c_data)):\r\n",
    "    if \"JK\" in c_data[\"id\"][i][0:2]:\r\n",
    "        jk_data = jk_data.append(c_data.iloc[i])\r\n",
    "\r\n",
    "jk_data.reset_index(drop=True, inplace=True)\r\n",
    "print(\"데이터 개수\",len(jk_data))\r\n",
    "jk_data.head()"
   ],
   "outputs": [
    {
     "output_type": "stream",
     "name": "stdout",
     "text": [
      "데이터 개수 1966\n"
     ]
    },
    {
     "output_type": "execute_result",
     "data": {
      "text/html": [
       "<div>\n",
       "<style scoped>\n",
       "    .dataframe tbody tr th:only-of-type {\n",
       "        vertical-align: middle;\n",
       "    }\n",
       "\n",
       "    .dataframe tbody tr th {\n",
       "        vertical-align: top;\n",
       "    }\n",
       "\n",
       "    .dataframe thead th {\n",
       "        text-align: right;\n",
       "    }\n",
       "</style>\n",
       "<table border=\"1\" class=\"dataframe\">\n",
       "  <thead>\n",
       "    <tr style=\"text-align: right;\">\n",
       "      <th></th>\n",
       "      <th>contents</th>\n",
       "      <th>id</th>\n",
       "    </tr>\n",
       "  </thead>\n",
       "  <tbody>\n",
       "    <tr>\n",
       "      <th>0</th>\n",
       "      <td>추석에 할머니댁 가는데 깔끔한 옷 추천해주세요. 가을 분위기를 내는 아우터에 포멀한...</td>\n",
       "      <td>JK-035</td>\n",
       "    </tr>\n",
       "    <tr>\n",
       "      <th>1</th>\n",
       "      <td>지금 카페에 놀러가려고 하는데, 옷 좀 추천해주세요. 원하시는 스타일이 따로 있으신...</td>\n",
       "      <td>JK-047</td>\n",
       "    </tr>\n",
       "    <tr>\n",
       "      <th>2</th>\n",
       "      <td>애인과 이탈리안 레스토랑에서 데이트 할 건데 격식 있는 옷 좀 추천해주세요. 그럼 ...</td>\n",
       "      <td>JK-013</td>\n",
       "    </tr>\n",
       "    <tr>\n",
       "      <th>3</th>\n",
       "      <td>애인과 이탈리안 레스토랑에서 데이트 할 건데 격식 있는 옷 좀 추천해주세요. 그럼 ...</td>\n",
       "      <td>JK-013</td>\n",
       "    </tr>\n",
       "    <tr>\n",
       "      <th>4</th>\n",
       "      <td>소개팅에 입고 갈 옷을 추천해줘. 선호하시는 스타일이나 색상이 있으신가요? 여성스럽...</td>\n",
       "      <td>JK-091</td>\n",
       "    </tr>\n",
       "  </tbody>\n",
       "</table>\n",
       "</div>"
      ],
      "text/plain": [
       "                                            contents      id\n",
       "0  추석에 할머니댁 가는데 깔끔한 옷 추천해주세요. 가을 분위기를 내는 아우터에 포멀한...  JK-035\n",
       "1  지금 카페에 놀러가려고 하는데, 옷 좀 추천해주세요. 원하시는 스타일이 따로 있으신...  JK-047\n",
       "2  애인과 이탈리안 레스토랑에서 데이트 할 건데 격식 있는 옷 좀 추천해주세요. 그럼 ...  JK-013\n",
       "3  애인과 이탈리안 레스토랑에서 데이트 할 건데 격식 있는 옷 좀 추천해주세요. 그럼 ...  JK-013\n",
       "4  소개팅에 입고 갈 옷을 추천해줘. 선호하시는 스타일이나 색상이 있으신가요? 여성스럽...  JK-091"
      ]
     },
     "metadata": {},
     "execution_count": 18
    }
   ],
   "metadata": {}
  },
  {
   "cell_type": "code",
   "execution_count": 19,
   "source": [
    "jk_data[\"contents\"] = jk_data[\"contents\"].str.replace(\"[^A-Za-z0-9ㄱ-ㅎㅏ-ㅣ가-힣 ]\",\"\")\r\n",
    "jk_data.head()"
   ],
   "outputs": [
    {
     "output_type": "stream",
     "name": "stderr",
     "text": [
      "C:\\Users\\nipa008\\AppData\\Local\\Temp/ipykernel_4704/929356756.py:1: FutureWarning: The default value of regex will change from True to False in a future version.\n",
      "  jk_data[\"contents\"] = jk_data[\"contents\"].str.replace(\"[^A-Za-z0-9ㄱ-ㅎㅏ-ㅣ가-힣 ]\",\"\")\n"
     ]
    },
    {
     "output_type": "execute_result",
     "data": {
      "text/html": [
       "<div>\n",
       "<style scoped>\n",
       "    .dataframe tbody tr th:only-of-type {\n",
       "        vertical-align: middle;\n",
       "    }\n",
       "\n",
       "    .dataframe tbody tr th {\n",
       "        vertical-align: top;\n",
       "    }\n",
       "\n",
       "    .dataframe thead th {\n",
       "        text-align: right;\n",
       "    }\n",
       "</style>\n",
       "<table border=\"1\" class=\"dataframe\">\n",
       "  <thead>\n",
       "    <tr style=\"text-align: right;\">\n",
       "      <th></th>\n",
       "      <th>contents</th>\n",
       "      <th>id</th>\n",
       "    </tr>\n",
       "  </thead>\n",
       "  <tbody>\n",
       "    <tr>\n",
       "      <th>0</th>\n",
       "      <td>추석에 할머니댁 가는데 깔끔한 옷 추천해주세요 가을 분위기를 내는 아우터에 포멀한 ...</td>\n",
       "      <td>JK-035</td>\n",
       "    </tr>\n",
       "    <tr>\n",
       "      <th>1</th>\n",
       "      <td>지금 카페에 놀러가려고 하는데 옷 좀 추천해주세요 원하시는 스타일이 따로 있으신가요...</td>\n",
       "      <td>JK-047</td>\n",
       "    </tr>\n",
       "    <tr>\n",
       "      <th>2</th>\n",
       "      <td>애인과 이탈리안 레스토랑에서 데이트 할 건데 격식 있는 옷 좀 추천해주세요 그럼 사...</td>\n",
       "      <td>JK-013</td>\n",
       "    </tr>\n",
       "    <tr>\n",
       "      <th>3</th>\n",
       "      <td>애인과 이탈리안 레스토랑에서 데이트 할 건데 격식 있는 옷 좀 추천해주세요 그럼 사...</td>\n",
       "      <td>JK-013</td>\n",
       "    </tr>\n",
       "    <tr>\n",
       "      <th>4</th>\n",
       "      <td>소개팅에 입고 갈 옷을 추천해줘 선호하시는 스타일이나 색상이 있으신가요 여성스럽고 ...</td>\n",
       "      <td>JK-091</td>\n",
       "    </tr>\n",
       "  </tbody>\n",
       "</table>\n",
       "</div>"
      ],
      "text/plain": [
       "                                            contents      id\n",
       "0  추석에 할머니댁 가는데 깔끔한 옷 추천해주세요 가을 분위기를 내는 아우터에 포멀한 ...  JK-035\n",
       "1  지금 카페에 놀러가려고 하는데 옷 좀 추천해주세요 원하시는 스타일이 따로 있으신가요...  JK-047\n",
       "2  애인과 이탈리안 레스토랑에서 데이트 할 건데 격식 있는 옷 좀 추천해주세요 그럼 사...  JK-013\n",
       "3  애인과 이탈리안 레스토랑에서 데이트 할 건데 격식 있는 옷 좀 추천해주세요 그럼 사...  JK-013\n",
       "4  소개팅에 입고 갈 옷을 추천해줘 선호하시는 스타일이나 색상이 있으신가요 여성스럽고 ...  JK-091"
      ]
     },
     "metadata": {},
     "execution_count": 19
    }
   ],
   "metadata": {}
  },
  {
   "cell_type": "code",
   "execution_count": 20,
   "source": [
    "jk_data[\"id\"] = jk_data[\"id\"].str.replace(\"[^0-9]\",\"\")\r\n",
    "\r\n",
    "jk_data.head()"
   ],
   "outputs": [
    {
     "output_type": "stream",
     "name": "stderr",
     "text": [
      "C:\\Users\\nipa008\\AppData\\Local\\Temp/ipykernel_4704/2818055859.py:1: FutureWarning: The default value of regex will change from True to False in a future version.\n",
      "  jk_data[\"id\"] = jk_data[\"id\"].str.replace(\"[^0-9]\",\"\")\n"
     ]
    },
    {
     "output_type": "execute_result",
     "data": {
      "text/html": [
       "<div>\n",
       "<style scoped>\n",
       "    .dataframe tbody tr th:only-of-type {\n",
       "        vertical-align: middle;\n",
       "    }\n",
       "\n",
       "    .dataframe tbody tr th {\n",
       "        vertical-align: top;\n",
       "    }\n",
       "\n",
       "    .dataframe thead th {\n",
       "        text-align: right;\n",
       "    }\n",
       "</style>\n",
       "<table border=\"1\" class=\"dataframe\">\n",
       "  <thead>\n",
       "    <tr style=\"text-align: right;\">\n",
       "      <th></th>\n",
       "      <th>contents</th>\n",
       "      <th>id</th>\n",
       "    </tr>\n",
       "  </thead>\n",
       "  <tbody>\n",
       "    <tr>\n",
       "      <th>0</th>\n",
       "      <td>추석에 할머니댁 가는데 깔끔한 옷 추천해주세요 가을 분위기를 내는 아우터에 포멀한 ...</td>\n",
       "      <td>035</td>\n",
       "    </tr>\n",
       "    <tr>\n",
       "      <th>1</th>\n",
       "      <td>지금 카페에 놀러가려고 하는데 옷 좀 추천해주세요 원하시는 스타일이 따로 있으신가요...</td>\n",
       "      <td>047</td>\n",
       "    </tr>\n",
       "    <tr>\n",
       "      <th>2</th>\n",
       "      <td>애인과 이탈리안 레스토랑에서 데이트 할 건데 격식 있는 옷 좀 추천해주세요 그럼 사...</td>\n",
       "      <td>013</td>\n",
       "    </tr>\n",
       "    <tr>\n",
       "      <th>3</th>\n",
       "      <td>애인과 이탈리안 레스토랑에서 데이트 할 건데 격식 있는 옷 좀 추천해주세요 그럼 사...</td>\n",
       "      <td>013</td>\n",
       "    </tr>\n",
       "    <tr>\n",
       "      <th>4</th>\n",
       "      <td>소개팅에 입고 갈 옷을 추천해줘 선호하시는 스타일이나 색상이 있으신가요 여성스럽고 ...</td>\n",
       "      <td>091</td>\n",
       "    </tr>\n",
       "  </tbody>\n",
       "</table>\n",
       "</div>"
      ],
      "text/plain": [
       "                                            contents   id\n",
       "0  추석에 할머니댁 가는데 깔끔한 옷 추천해주세요 가을 분위기를 내는 아우터에 포멀한 ...  035\n",
       "1  지금 카페에 놀러가려고 하는데 옷 좀 추천해주세요 원하시는 스타일이 따로 있으신가요...  047\n",
       "2  애인과 이탈리안 레스토랑에서 데이트 할 건데 격식 있는 옷 좀 추천해주세요 그럼 사...  013\n",
       "3  애인과 이탈리안 레스토랑에서 데이트 할 건데 격식 있는 옷 좀 추천해주세요 그럼 사...  013\n",
       "4  소개팅에 입고 갈 옷을 추천해줘 선호하시는 스타일이나 색상이 있으신가요 여성스럽고 ...  091"
      ]
     },
     "metadata": {},
     "execution_count": 20
    }
   ],
   "metadata": {}
  },
  {
   "cell_type": "code",
   "execution_count": 21,
   "source": [
    "from collections import Counter\r\n",
    "temp = jk_data[\"id\"].tolist()\r\n",
    "type_count = dict(Counter(temp))\r\n",
    "type_count"
   ],
   "outputs": [
    {
     "output_type": "execute_result",
     "data": {
      "text/plain": [
       "{'035': 25,\n",
       " '047': 16,\n",
       " '013': 60,\n",
       " '091': 7,\n",
       " '026': 31,\n",
       " '077': 25,\n",
       " '010': 67,\n",
       " '017': 11,\n",
       " '011': 26,\n",
       " '100': 27,\n",
       " '006': 16,\n",
       " '034': 20,\n",
       " '094': 13,\n",
       " '066': 8,\n",
       " '028': 9,\n",
       " '001': 10,\n",
       " '061': 4,\n",
       " '014': 63,\n",
       " '043': 9,\n",
       " '056': 9,\n",
       " '022': 8,\n",
       " '030': 11,\n",
       " '036': 8,\n",
       " '088': 38,\n",
       " '089': 11,\n",
       " '050': 12,\n",
       " '069': 14,\n",
       " '045': 16,\n",
       " '007': 70,\n",
       " '003': 22,\n",
       " '044': 16,\n",
       " '084': 4,\n",
       " '002': 34,\n",
       " '067': 8,\n",
       " '098': 4,\n",
       " '053': 9,\n",
       " '038': 16,\n",
       " '054': 15,\n",
       " '046': 16,\n",
       " '037': 6,\n",
       " '016': 9,\n",
       " '099': 7,\n",
       " '005': 17,\n",
       " '070': 15,\n",
       " '008': 10,\n",
       " '073': 4,\n",
       " '021': 11,\n",
       " '068': 27,\n",
       " '079': 1,\n",
       " '042': 20,\n",
       " '065': 20,\n",
       " '015': 7,\n",
       " '009': 20,\n",
       " '095': 17,\n",
       " '004': 48,\n",
       " '083': 8,\n",
       " '092': 12,\n",
       " '059': 6,\n",
       " '087': 6,\n",
       " '075': 9,\n",
       " '033': 5,\n",
       " '024': 18,\n",
       " '076': 13,\n",
       " '051': 17,\n",
       " '096': 8,\n",
       " '020': 7,\n",
       " '097': 7,\n",
       " '041': 6,\n",
       " '048': 9,\n",
       " '029': 16,\n",
       " '082': 2,\n",
       " '049': 8,\n",
       " '060': 2,\n",
       " '032': 11,\n",
       " '057': 2,\n",
       " '086': 1,\n",
       " '012': 4,\n",
       " '031': 5,\n",
       " '081': 5,\n",
       " '027': 5,\n",
       " '106': 3,\n",
       " '197': 6,\n",
       " '142': 20,\n",
       " '101': 14,\n",
       " '182': 22,\n",
       " '121': 19,\n",
       " '145': 18,\n",
       " '188': 2,\n",
       " '139': 10,\n",
       " '195': 4,\n",
       " '186': 3,\n",
       " '177': 7,\n",
       " '157': 8,\n",
       " '110': 14,\n",
       " '138': 6,\n",
       " '159': 7,\n",
       " '025': 5,\n",
       " '111': 14,\n",
       " '199': 5,\n",
       " '122': 28,\n",
       " '143': 4,\n",
       " '112': 12,\n",
       " '181': 7,\n",
       " '132': 7,\n",
       " '146': 3,\n",
       " '178': 8,\n",
       " '144': 1,\n",
       " '115': 5,\n",
       " '102': 25,\n",
       " '200': 4,\n",
       " '154': 7,\n",
       " '150': 18,\n",
       " '170': 2,\n",
       " '128': 2,\n",
       " '140': 12,\n",
       " '109': 7,\n",
       " '141': 4,\n",
       " '148': 6,\n",
       " '129': 1,\n",
       " '158': 9,\n",
       " '183': 9,\n",
       " '124': 3,\n",
       " '134': 10,\n",
       " '160': 4,\n",
       " '125': 5,\n",
       " '179': 4,\n",
       " '155': 6,\n",
       " '193': 3,\n",
       " '135': 7,\n",
       " '114': 9,\n",
       " '120': 4,\n",
       " '164': 10,\n",
       " '105': 13,\n",
       " '175': 4,\n",
       " '104': 12,\n",
       " '156': 7,\n",
       " '151': 3,\n",
       " '198': 2,\n",
       " '023': 3,\n",
       " '063': 6,\n",
       " '136': 10,\n",
       " '093': 1,\n",
       " '123': 6,\n",
       " '090': 2,\n",
       " '133': 5,\n",
       " '127': 4,\n",
       " '072': 5,\n",
       " '062': 2,\n",
       " '163': 4,\n",
       " '149': 5,\n",
       " '167': 2,\n",
       " '118': 2,\n",
       " '103': 11,\n",
       " '162': 4,\n",
       " '172': 2,\n",
       " '058': 2,\n",
       " '298': 5,\n",
       " '052': 3,\n",
       " '085': 4,\n",
       " '212': 7,\n",
       " '222': 2,\n",
       " '196': 7,\n",
       " '272': 6,\n",
       " '286': 1,\n",
       " '279': 5,\n",
       " '265': 2,\n",
       " '260': 5,\n",
       " '256': 2,\n",
       " '189': 3,\n",
       " '064': 1,\n",
       " '307': 6,\n",
       " '251': 2,\n",
       " '147': 4,\n",
       " '271': 1,\n",
       " '291': 2,\n",
       " '219': 3,\n",
       " '161': 5,\n",
       " '217': 2,\n",
       " '209': 2,\n",
       " '296': 2,\n",
       " '304': 9,\n",
       " '305': 2,\n",
       " '055': 4,\n",
       " '224': 1,\n",
       " '237': 2,\n",
       " '165': 2,\n",
       " '215': 1,\n",
       " '227': 2,\n",
       " '228': 1,\n",
       " '226': 4,\n",
       " '285': 1,\n",
       " '293': 1,\n",
       " '288': 1,\n",
       " '216': 1,\n",
       " '262': 1,\n",
       " '290': 2,\n",
       " '253': 1,\n",
       " '221': 1,\n",
       " '255': 1,\n",
       " '119': 2,\n",
       " '241': 1,\n",
       " '201': 2,\n",
       " '210': 4,\n",
       " '248': 2,\n",
       " '310': 1,\n",
       " '308': 1,\n",
       " '206': 1,\n",
       " '203': 1,\n",
       " '302': 2,\n",
       " '180': 2,\n",
       " '309': 5,\n",
       " '264': 3,\n",
       " '301': 3,\n",
       " '289': 2,\n",
       " '300': 2,\n",
       " '213': 3,\n",
       " '218': 2,\n",
       " '019': 1,\n",
       " '250': 4,\n",
       " '276': 1,\n",
       " '240': 2,\n",
       " '303': 3,\n",
       " '174': 6,\n",
       " '039': 2,\n",
       " '238': 4,\n",
       " '261': 3,\n",
       " '259': 2,\n",
       " '282': 2,\n",
       " '232': 1,\n",
       " '236': 2,\n",
       " '295': 1,\n",
       " '202': 1,\n",
       " '268': 1,\n",
       " '204': 2}"
      ]
     },
     "metadata": {},
     "execution_count": 21
    }
   ],
   "metadata": {}
  },
  {
   "cell_type": "code",
   "execution_count": 22,
   "source": [
    "len(type_count)"
   ],
   "outputs": [
    {
     "output_type": "execute_result",
     "data": {
      "text/plain": [
       "234"
      ]
     },
     "metadata": {},
     "execution_count": 22
    }
   ],
   "metadata": {}
  },
  {
   "cell_type": "code",
   "execution_count": 23,
   "source": [
    "del_list = []\r\n",
    "for i in type_count.keys():\r\n",
    "    if type_count.get(i) == 1:\r\n",
    "        del_list.append(i)\r\n",
    "del_list"
   ],
   "outputs": [
    {
     "output_type": "execute_result",
     "data": {
      "text/plain": [
       "['079',\n",
       " '086',\n",
       " '144',\n",
       " '129',\n",
       " '093',\n",
       " '286',\n",
       " '064',\n",
       " '271',\n",
       " '224',\n",
       " '215',\n",
       " '228',\n",
       " '285',\n",
       " '293',\n",
       " '288',\n",
       " '216',\n",
       " '262',\n",
       " '253',\n",
       " '221',\n",
       " '255',\n",
       " '241',\n",
       " '310',\n",
       " '308',\n",
       " '206',\n",
       " '203',\n",
       " '019',\n",
       " '276',\n",
       " '232',\n",
       " '295',\n",
       " '202',\n",
       " '268']"
      ]
     },
     "metadata": {},
     "execution_count": 23
    }
   ],
   "metadata": {}
  },
  {
   "cell_type": "code",
   "execution_count": 24,
   "source": [
    "jk_data.head()"
   ],
   "outputs": [
    {
     "output_type": "execute_result",
     "data": {
      "text/html": [
       "<div>\n",
       "<style scoped>\n",
       "    .dataframe tbody tr th:only-of-type {\n",
       "        vertical-align: middle;\n",
       "    }\n",
       "\n",
       "    .dataframe tbody tr th {\n",
       "        vertical-align: top;\n",
       "    }\n",
       "\n",
       "    .dataframe thead th {\n",
       "        text-align: right;\n",
       "    }\n",
       "</style>\n",
       "<table border=\"1\" class=\"dataframe\">\n",
       "  <thead>\n",
       "    <tr style=\"text-align: right;\">\n",
       "      <th></th>\n",
       "      <th>contents</th>\n",
       "      <th>id</th>\n",
       "    </tr>\n",
       "  </thead>\n",
       "  <tbody>\n",
       "    <tr>\n",
       "      <th>0</th>\n",
       "      <td>추석에 할머니댁 가는데 깔끔한 옷 추천해주세요 가을 분위기를 내는 아우터에 포멀한 ...</td>\n",
       "      <td>035</td>\n",
       "    </tr>\n",
       "    <tr>\n",
       "      <th>1</th>\n",
       "      <td>지금 카페에 놀러가려고 하는데 옷 좀 추천해주세요 원하시는 스타일이 따로 있으신가요...</td>\n",
       "      <td>047</td>\n",
       "    </tr>\n",
       "    <tr>\n",
       "      <th>2</th>\n",
       "      <td>애인과 이탈리안 레스토랑에서 데이트 할 건데 격식 있는 옷 좀 추천해주세요 그럼 사...</td>\n",
       "      <td>013</td>\n",
       "    </tr>\n",
       "    <tr>\n",
       "      <th>3</th>\n",
       "      <td>애인과 이탈리안 레스토랑에서 데이트 할 건데 격식 있는 옷 좀 추천해주세요 그럼 사...</td>\n",
       "      <td>013</td>\n",
       "    </tr>\n",
       "    <tr>\n",
       "      <th>4</th>\n",
       "      <td>소개팅에 입고 갈 옷을 추천해줘 선호하시는 스타일이나 색상이 있으신가요 여성스럽고 ...</td>\n",
       "      <td>091</td>\n",
       "    </tr>\n",
       "  </tbody>\n",
       "</table>\n",
       "</div>"
      ],
      "text/plain": [
       "                                            contents   id\n",
       "0  추석에 할머니댁 가는데 깔끔한 옷 추천해주세요 가을 분위기를 내는 아우터에 포멀한 ...  035\n",
       "1  지금 카페에 놀러가려고 하는데 옷 좀 추천해주세요 원하시는 스타일이 따로 있으신가요...  047\n",
       "2  애인과 이탈리안 레스토랑에서 데이트 할 건데 격식 있는 옷 좀 추천해주세요 그럼 사...  013\n",
       "3  애인과 이탈리안 레스토랑에서 데이트 할 건데 격식 있는 옷 좀 추천해주세요 그럼 사...  013\n",
       "4  소개팅에 입고 갈 옷을 추천해줘 선호하시는 스타일이나 색상이 있으신가요 여성스럽고 ...  091"
      ]
     },
     "metadata": {},
     "execution_count": 24
    }
   ],
   "metadata": {}
  },
  {
   "cell_type": "code",
   "execution_count": 25,
   "source": [
    "for i in del_list:\r\n",
    "    jk_data = jk_data[jk_data[\"id\"] != i]"
   ],
   "outputs": [],
   "metadata": {}
  },
  {
   "cell_type": "code",
   "execution_count": 26,
   "source": [
    "len(jk_data)"
   ],
   "outputs": [
    {
     "output_type": "execute_result",
     "data": {
      "text/plain": [
       "1936"
      ]
     },
     "metadata": {},
     "execution_count": 26
    }
   ],
   "metadata": {}
  },
  {
   "cell_type": "code",
   "execution_count": 27,
   "source": [
    "jk_data.reset_index(drop=True, inplace=True)"
   ],
   "outputs": [],
   "metadata": {}
  },
  {
   "cell_type": "code",
   "execution_count": 28,
   "source": [
    "import matplotlib.pyplot as plt\r\n",
    "plt.bar(Counter(jk_data.id).keys(),Counter(jk_data.id).values(), color='k')"
   ],
   "outputs": [
    {
     "output_type": "execute_result",
     "data": {
      "text/plain": [
       "<BarContainer object of 204 artists>"
      ]
     },
     "metadata": {},
     "execution_count": 28
    },
    {
     "output_type": "display_data",
     "data": {
      "image/png": "[encoded data removed]",
      "text/plain": [
       "<Figure size 432x288 with 1 Axes>"
      ]
     },
     "metadata": {
      "needs_background": "light"
     }
    }
   ],
   "metadata": {}
  },
  {
   "cell_type": "markdown",
   "source": [
    "# 5. 형태소 분석"
   ],
   "metadata": {}
  },
  {
   "cell_type": "markdown",
   "source": [
    "## Mecab 사용"
   ],
   "metadata": {}
  },
  {
   "cell_type": "code",
   "execution_count": 29,
   "source": [
    "from eunjeon import Mecab\r\n",
    "mecab = Mecab()"
   ],
   "outputs": [],
   "metadata": {}
  },
  {
   "cell_type": "code",
   "execution_count": 30,
   "source": [
    "mecab.morphs(jk_data[\"contents\"][0])"
   ],
   "outputs": [
    {
     "output_type": "execute_result",
     "data": {
      "text/plain": [
       "['추석',\n",
       " '에',\n",
       " '할머니',\n",
       " '댁',\n",
       " '가',\n",
       " '는데',\n",
       " '깔끔',\n",
       " '한',\n",
       " '옷',\n",
       " '추천',\n",
       " '해',\n",
       " '주',\n",
       " '세요',\n",
       " '가을',\n",
       " '분위기',\n",
       " '를',\n",
       " '내',\n",
       " '는',\n",
       " '아우',\n",
       " '터',\n",
       " '에',\n",
       " '포',\n",
       " '멀',\n",
       " '한',\n",
       " '스타일',\n",
       " '을',\n",
       " '코디',\n",
       " '하',\n",
       " '여',\n",
       " '보',\n",
       " '았',\n",
       " '습니다',\n",
       " '마음',\n",
       " '에',\n",
       " '드',\n",
       " '시',\n",
       " '나요',\n",
       " 'CD',\n",
       " '047',\n",
       " 'SH',\n",
       " '004',\n",
       " 'PT',\n",
       " '016',\n",
       " 'SE',\n",
       " '027',\n",
       " '전부',\n",
       " '다',\n",
       " '너무',\n",
       " '마음',\n",
       " '에',\n",
       " '안',\n",
       " '드',\n",
       " '는데',\n",
       " '다른',\n",
       " '스타일',\n",
       " '은',\n",
       " '없',\n",
       " '나요',\n",
       " '잠시',\n",
       " '만',\n",
       " '기다려',\n",
       " '주',\n",
       " '세요',\n",
       " '다른',\n",
       " '코디',\n",
       " '를',\n",
       " '찾아보',\n",
       " '겠',\n",
       " '습니다',\n",
       " '좀',\n",
       " '더',\n",
       " '러블리',\n",
       " '한',\n",
       " '이미지',\n",
       " '를',\n",
       " '연출',\n",
       " '하',\n",
       " '면서',\n",
       " '도',\n",
       " '캐주얼',\n",
       " '하',\n",
       " '게',\n",
       " '코디',\n",
       " '할',\n",
       " '수',\n",
       " '있',\n",
       " '는',\n",
       " '스타일',\n",
       " '이',\n",
       " '에요',\n",
       " '이건',\n",
       " '어떠신가요',\n",
       " 'JK',\n",
       " '035',\n",
       " 'KN',\n",
       " '027',\n",
       " 'SK',\n",
       " '061',\n",
       " 'SE',\n",
       " '041',\n",
       " '상의',\n",
       " '를',\n",
       " '셔츠',\n",
       " '나',\n",
       " '블라우스',\n",
       " '로',\n",
       " '바꿔',\n",
       " '주',\n",
       " '시',\n",
       " '겠',\n",
       " '어요',\n",
       " '내추럴',\n",
       " '한',\n",
       " '느낌',\n",
       " '의',\n",
       " '셔츠',\n",
       " '인데',\n",
       " '치마',\n",
       " '와',\n",
       " '매칭',\n",
       " '하',\n",
       " '기',\n",
       " '에',\n",
       " '도',\n",
       " '잘',\n",
       " '어울릴',\n",
       " '것',\n",
       " '같',\n",
       " '아요',\n",
       " '마음',\n",
       " '에',\n",
       " '드',\n",
       " '시',\n",
       " '나요',\n",
       " 'JK',\n",
       " '035',\n",
       " 'SH',\n",
       " '035',\n",
       " 'SK',\n",
       " '061',\n",
       " 'SE',\n",
       " '041',\n",
       " '상의',\n",
       " '가',\n",
       " '좀',\n",
       " '얌전',\n",
       " '한',\n",
       " '스타일',\n",
       " '이',\n",
       " '었',\n",
       " '으면',\n",
       " '좋',\n",
       " '겠',\n",
       " '습니다',\n",
       " '다른',\n",
       " '것',\n",
       " '으로',\n",
       " '보여',\n",
       " '주',\n",
       " '세요',\n",
       " '단정',\n",
       " '하',\n",
       " '고',\n",
       " '심플',\n",
       " '한',\n",
       " '스타일',\n",
       " '을',\n",
       " '찾',\n",
       " '으시',\n",
       " '는군요',\n",
       " '잠시',\n",
       " '만',\n",
       " '기다려',\n",
       " '주',\n",
       " '세요',\n",
       " '가을',\n",
       " '분위기',\n",
       " '를',\n",
       " '한껏',\n",
       " '뽐낼',\n",
       " '수',\n",
       " '있',\n",
       " '는',\n",
       " '스타일',\n",
       " '입니다',\n",
       " '심플',\n",
       " '한',\n",
       " '스타일',\n",
       " '을',\n",
       " '원하',\n",
       " '시',\n",
       " '는',\n",
       " '고객',\n",
       " '님',\n",
       " '께',\n",
       " '잘',\n",
       " '어울릴',\n",
       " '것',\n",
       " '같',\n",
       " '아요',\n",
       " 'JK',\n",
       " '035',\n",
       " '마음',\n",
       " '에',\n",
       " '듭니다',\n",
       " '이걸로',\n",
       " '정하',\n",
       " '겠',\n",
       " '습니다',\n",
       " '테일러',\n",
       " '드',\n",
       " '칼라',\n",
       " '너치',\n",
       " '드',\n",
       " '칼라',\n",
       " '싱글',\n",
       " '여',\n",
       " '밈',\n",
       " '으로',\n",
       " '전체',\n",
       " '오픈',\n",
       " '형',\n",
       " '단추',\n",
       " '두',\n",
       " '개',\n",
       " '셋',\n",
       " '인',\n",
       " '슬리브',\n",
       " '손등',\n",
       " '을',\n",
       " '덮',\n",
       " '는',\n",
       " '소매길이',\n",
       " '소매',\n",
       " '접',\n",
       " '어서',\n",
       " '연출',\n",
       " '박시',\n",
       " '한',\n",
       " '핏',\n",
       " '엉덩이',\n",
       " '를',\n",
       " '완전히',\n",
       " '덮',\n",
       " '는',\n",
       " '길',\n",
       " '이',\n",
       " '좌우',\n",
       " '아래',\n",
       " '에',\n",
       " '패치',\n",
       " '포켓',\n",
       " '앞',\n",
       " '여',\n",
       " '밈',\n",
       " '둥그렇',\n",
       " '게',\n",
       " '단',\n",
       " '처리',\n",
       " '직선',\n",
       " '적',\n",
       " '인',\n",
       " '면',\n",
       " '100',\n",
       " '봄',\n",
       " '가을',\n",
       " '간',\n",
       " '절기',\n",
       " '용',\n",
       " '비침',\n",
       " '없',\n",
       " '음',\n",
       " '신축',\n",
       " '성',\n",
       " '없',\n",
       " '음',\n",
       " '차분',\n",
       " '한',\n",
       " '브라운',\n",
       " '색',\n",
       " '단추',\n",
       " '고동색',\n",
       " '차분',\n",
       " '한',\n",
       " '깔끔',\n",
       " '한',\n",
       " '여유',\n",
       " '로운',\n",
       " '편안',\n",
       " '한',\n",
       " '캐주얼',\n",
       " '한',\n",
       " '데일리',\n",
       " '룩']"
      ]
     },
     "metadata": {},
     "execution_count": 30
    }
   ],
   "metadata": {}
  },
  {
   "cell_type": "code",
   "execution_count": 31,
   "source": [
    "len(jk_data)"
   ],
   "outputs": [
    {
     "output_type": "execute_result",
     "data": {
      "text/plain": [
       "1936"
      ]
     },
     "metadata": {},
     "execution_count": 31
    }
   ],
   "metadata": {}
  },
  {
   "cell_type": "code",
   "execution_count": 32,
   "source": [
    "x_data = []\r\n",
    "for i in range(len(jk_data)):\r\n",
    "    x_data.append(mecab.morphs(jk_data[\"contents\"][i]))\r\n",
    "\r\n",
    "x_data[0]"
   ],
   "outputs": [
    {
     "output_type": "execute_result",
     "data": {
      "text/plain": [
       "['추석',\n",
       " '에',\n",
       " '할머니',\n",
       " '댁',\n",
       " '가',\n",
       " '는데',\n",
       " '깔끔',\n",
       " '한',\n",
       " '옷',\n",
       " '추천',\n",
       " '해',\n",
       " '주',\n",
       " '세요',\n",
       " '가을',\n",
       " '분위기',\n",
       " '를',\n",
       " '내',\n",
       " '는',\n",
       " '아우',\n",
       " '터',\n",
       " '에',\n",
       " '포',\n",
       " '멀',\n",
       " '한',\n",
       " '스타일',\n",
       " '을',\n",
       " '코디',\n",
       " '하',\n",
       " '여',\n",
       " '보',\n",
       " '았',\n",
       " '습니다',\n",
       " '마음',\n",
       " '에',\n",
       " '드',\n",
       " '시',\n",
       " '나요',\n",
       " 'CD',\n",
       " '047',\n",
       " 'SH',\n",
       " '004',\n",
       " 'PT',\n",
       " '016',\n",
       " 'SE',\n",
       " '027',\n",
       " '전부',\n",
       " '다',\n",
       " '너무',\n",
       " '마음',\n",
       " '에',\n",
       " '안',\n",
       " '드',\n",
       " '는데',\n",
       " '다른',\n",
       " '스타일',\n",
       " '은',\n",
       " '없',\n",
       " '나요',\n",
       " '잠시',\n",
       " '만',\n",
       " '기다려',\n",
       " '주',\n",
       " '세요',\n",
       " '다른',\n",
       " '코디',\n",
       " '를',\n",
       " '찾아보',\n",
       " '겠',\n",
       " '습니다',\n",
       " '좀',\n",
       " '더',\n",
       " '러블리',\n",
       " '한',\n",
       " '이미지',\n",
       " '를',\n",
       " '연출',\n",
       " '하',\n",
       " '면서',\n",
       " '도',\n",
       " '캐주얼',\n",
       " '하',\n",
       " '게',\n",
       " '코디',\n",
       " '할',\n",
       " '수',\n",
       " '있',\n",
       " '는',\n",
       " '스타일',\n",
       " '이',\n",
       " '에요',\n",
       " '이건',\n",
       " '어떠신가요',\n",
       " 'JK',\n",
       " '035',\n",
       " 'KN',\n",
       " '027',\n",
       " 'SK',\n",
       " '061',\n",
       " 'SE',\n",
       " '041',\n",
       " '상의',\n",
       " '를',\n",
       " '셔츠',\n",
       " '나',\n",
       " '블라우스',\n",
       " '로',\n",
       " '바꿔',\n",
       " '주',\n",
       " '시',\n",
       " '겠',\n",
       " '어요',\n",
       " '내추럴',\n",
       " '한',\n",
       " '느낌',\n",
       " '의',\n",
       " '셔츠',\n",
       " '인데',\n",
       " '치마',\n",
       " '와',\n",
       " '매칭',\n",
       " '하',\n",
       " '기',\n",
       " '에',\n",
       " '도',\n",
       " '잘',\n",
       " '어울릴',\n",
       " '것',\n",
       " '같',\n",
       " '아요',\n",
       " '마음',\n",
       " '에',\n",
       " '드',\n",
       " '시',\n",
       " '나요',\n",
       " 'JK',\n",
       " '035',\n",
       " 'SH',\n",
       " '035',\n",
       " 'SK',\n",
       " '061',\n",
       " 'SE',\n",
       " '041',\n",
       " '상의',\n",
       " '가',\n",
       " '좀',\n",
       " '얌전',\n",
       " '한',\n",
       " '스타일',\n",
       " '이',\n",
       " '었',\n",
       " '으면',\n",
       " '좋',\n",
       " '겠',\n",
       " '습니다',\n",
       " '다른',\n",
       " '것',\n",
       " '으로',\n",
       " '보여',\n",
       " '주',\n",
       " '세요',\n",
       " '단정',\n",
       " '하',\n",
       " '고',\n",
       " '심플',\n",
       " '한',\n",
       " '스타일',\n",
       " '을',\n",
       " '찾',\n",
       " '으시',\n",
       " '는군요',\n",
       " '잠시',\n",
       " '만',\n",
       " '기다려',\n",
       " '주',\n",
       " '세요',\n",
       " '가을',\n",
       " '분위기',\n",
       " '를',\n",
       " '한껏',\n",
       " '뽐낼',\n",
       " '수',\n",
       " '있',\n",
       " '는',\n",
       " '스타일',\n",
       " '입니다',\n",
       " '심플',\n",
       " '한',\n",
       " '스타일',\n",
       " '을',\n",
       " '원하',\n",
       " '시',\n",
       " '는',\n",
       " '고객',\n",
       " '님',\n",
       " '께',\n",
       " '잘',\n",
       " '어울릴',\n",
       " '것',\n",
       " '같',\n",
       " '아요',\n",
       " 'JK',\n",
       " '035',\n",
       " '마음',\n",
       " '에',\n",
       " '듭니다',\n",
       " '이걸로',\n",
       " '정하',\n",
       " '겠',\n",
       " '습니다',\n",
       " '테일러',\n",
       " '드',\n",
       " '칼라',\n",
       " '너치',\n",
       " '드',\n",
       " '칼라',\n",
       " '싱글',\n",
       " '여',\n",
       " '밈',\n",
       " '으로',\n",
       " '전체',\n",
       " '오픈',\n",
       " '형',\n",
       " '단추',\n",
       " '두',\n",
       " '개',\n",
       " '셋',\n",
       " '인',\n",
       " '슬리브',\n",
       " '손등',\n",
       " '을',\n",
       " '덮',\n",
       " '는',\n",
       " '소매길이',\n",
       " '소매',\n",
       " '접',\n",
       " '어서',\n",
       " '연출',\n",
       " '박시',\n",
       " '한',\n",
       " '핏',\n",
       " '엉덩이',\n",
       " '를',\n",
       " '완전히',\n",
       " '덮',\n",
       " '는',\n",
       " '길',\n",
       " '이',\n",
       " '좌우',\n",
       " '아래',\n",
       " '에',\n",
       " '패치',\n",
       " '포켓',\n",
       " '앞',\n",
       " '여',\n",
       " '밈',\n",
       " '둥그렇',\n",
       " '게',\n",
       " '단',\n",
       " '처리',\n",
       " '직선',\n",
       " '적',\n",
       " '인',\n",
       " '면',\n",
       " '100',\n",
       " '봄',\n",
       " '가을',\n",
       " '간',\n",
       " '절기',\n",
       " '용',\n",
       " '비침',\n",
       " '없',\n",
       " '음',\n",
       " '신축',\n",
       " '성',\n",
       " '없',\n",
       " '음',\n",
       " '차분',\n",
       " '한',\n",
       " '브라운',\n",
       " '색',\n",
       " '단추',\n",
       " '고동색',\n",
       " '차분',\n",
       " '한',\n",
       " '깔끔',\n",
       " '한',\n",
       " '여유',\n",
       " '로운',\n",
       " '편안',\n",
       " '한',\n",
       " '캐주얼',\n",
       " '한',\n",
       " '데일리',\n",
       " '룩']"
      ]
     },
     "metadata": {},
     "execution_count": 32
    }
   ],
   "metadata": {}
  },
  {
   "cell_type": "code",
   "execution_count": 33,
   "source": [
    "stopwords = []\r\n",
    "with open('./data/불용어사전.txt', mode='rt', encoding='utf-8') as f:\r\n",
    "    for word in f.readlines():\r\n",
    "        word = word.strip()\r\n",
    "        stopwords.append(word)\r\n",
    "stopwords[0:2]"
   ],
   "outputs": [
    {
     "output_type": "execute_result",
     "data": {
      "text/plain": [
       "['어찌됐든', '그위에']"
      ]
     },
     "metadata": {},
     "execution_count": 33
    }
   ],
   "metadata": {}
  },
  {
   "cell_type": "code",
   "execution_count": 34,
   "source": [
    "X_data = []\r\n",
    "for sentence in x_data: #문장 하나 가져오고 단어 단위로 쪼개기\r\n",
    "    temp_X = [word for word in sentence if not word in stopwords] # 불용어 제거\r\n",
    "    X_data.append(temp_X)\r\n",
    "X_data[0]"
   ],
   "outputs": [
    {
     "output_type": "execute_result",
     "data": {
      "text/plain": [
       "['추석',\n",
       " '할머니',\n",
       " '댁',\n",
       " '는데',\n",
       " '깔끔',\n",
       " '옷',\n",
       " '추천',\n",
       " '주',\n",
       " '세요',\n",
       " '가을',\n",
       " '분위기',\n",
       " '내',\n",
       " '아우',\n",
       " '터',\n",
       " '포',\n",
       " '멀',\n",
       " '스타일',\n",
       " '코디',\n",
       " '보',\n",
       " '았',\n",
       " '마음',\n",
       " '시',\n",
       " '나요',\n",
       " 'CD',\n",
       " '047',\n",
       " 'SH',\n",
       " '004',\n",
       " 'PT',\n",
       " '016',\n",
       " 'SE',\n",
       " '027',\n",
       " '전부',\n",
       " '다',\n",
       " '너무',\n",
       " '마음',\n",
       " '안',\n",
       " '는데',\n",
       " '스타일',\n",
       " '나요',\n",
       " '만',\n",
       " '기다려',\n",
       " '주',\n",
       " '세요',\n",
       " '코디',\n",
       " '찾아보',\n",
       " '겠',\n",
       " '더',\n",
       " '러블리',\n",
       " '이미지',\n",
       " '연출',\n",
       " '면서',\n",
       " '도',\n",
       " '캐주얼',\n",
       " '게',\n",
       " '코디',\n",
       " '수',\n",
       " '있',\n",
       " '스타일',\n",
       " '에요',\n",
       " '이건',\n",
       " '어떠신가요',\n",
       " 'JK',\n",
       " '035',\n",
       " 'KN',\n",
       " '027',\n",
       " 'SK',\n",
       " '061',\n",
       " 'SE',\n",
       " '041',\n",
       " '상의',\n",
       " '셔츠',\n",
       " '블라우스',\n",
       " '바꿔',\n",
       " '주',\n",
       " '시',\n",
       " '겠',\n",
       " '어요',\n",
       " '내추럴',\n",
       " '느낌',\n",
       " '셔츠',\n",
       " '인데',\n",
       " '치마',\n",
       " '매칭',\n",
       " '기',\n",
       " '도',\n",
       " '잘',\n",
       " '어울릴',\n",
       " '같',\n",
       " '아요',\n",
       " '마음',\n",
       " '시',\n",
       " '나요',\n",
       " 'JK',\n",
       " '035',\n",
       " 'SH',\n",
       " '035',\n",
       " 'SK',\n",
       " '061',\n",
       " 'SE',\n",
       " '041',\n",
       " '상의',\n",
       " '얌전',\n",
       " '스타일',\n",
       " '었',\n",
       " '으면',\n",
       " '좋',\n",
       " '겠',\n",
       " '보여',\n",
       " '주',\n",
       " '세요',\n",
       " '단정',\n",
       " '고',\n",
       " '심플',\n",
       " '스타일',\n",
       " '찾',\n",
       " '으시',\n",
       " '는군요',\n",
       " '만',\n",
       " '기다려',\n",
       " '주',\n",
       " '세요',\n",
       " '가을',\n",
       " '분위기',\n",
       " '한껏',\n",
       " '뽐낼',\n",
       " '수',\n",
       " '있',\n",
       " '스타일',\n",
       " '입니다',\n",
       " '심플',\n",
       " '스타일',\n",
       " '원하',\n",
       " '시',\n",
       " '고객',\n",
       " '님',\n",
       " '께',\n",
       " '잘',\n",
       " '어울릴',\n",
       " '같',\n",
       " '아요',\n",
       " 'JK',\n",
       " '035',\n",
       " '마음',\n",
       " '듭니다',\n",
       " '이걸로',\n",
       " '정하',\n",
       " '겠',\n",
       " '테일러',\n",
       " '칼라',\n",
       " '너치',\n",
       " '칼라',\n",
       " '싱글',\n",
       " '밈',\n",
       " '전체',\n",
       " '오픈',\n",
       " '형',\n",
       " '단추',\n",
       " '두',\n",
       " '개',\n",
       " '셋',\n",
       " '인',\n",
       " '슬리브',\n",
       " '손등',\n",
       " '덮',\n",
       " '소매길이',\n",
       " '접',\n",
       " '어서',\n",
       " '연출',\n",
       " '박시',\n",
       " '핏',\n",
       " '엉덩이',\n",
       " '완전히',\n",
       " '덮',\n",
       " '길',\n",
       " '좌우',\n",
       " '아래',\n",
       " '패치',\n",
       " '포켓',\n",
       " '앞',\n",
       " '밈',\n",
       " '둥그렇',\n",
       " '게',\n",
       " '단',\n",
       " '처리',\n",
       " '직선',\n",
       " '적',\n",
       " '인',\n",
       " '면',\n",
       " '100',\n",
       " '봄',\n",
       " '가을',\n",
       " '간',\n",
       " '절기',\n",
       " '용',\n",
       " '비침',\n",
       " '신축',\n",
       " '성',\n",
       " '차분',\n",
       " '브라운',\n",
       " '색',\n",
       " '단추',\n",
       " '고동색',\n",
       " '차분',\n",
       " '깔끔',\n",
       " '여유',\n",
       " '로운',\n",
       " '편안',\n",
       " '캐주얼',\n",
       " '데일리',\n",
       " '룩']"
      ]
     },
     "metadata": {},
     "execution_count": 34
    }
   ],
   "metadata": {}
  },
  {
   "cell_type": "markdown",
   "source": [
    "## 1. 임베딩 레이어 활용"
   ],
   "metadata": {}
  },
  {
   "cell_type": "markdown",
   "source": [
    "### 정수 인코딩"
   ],
   "metadata": {}
  },
  {
   "cell_type": "code",
   "execution_count": 35,
   "source": [
    "from tensorflow.keras.preprocessing.text import Tokenizer\r\n",
    "tokenizer = Tokenizer()\r\n",
    "tokenizer.fit_on_texts(X_data)"
   ],
   "outputs": [],
   "metadata": {}
  },
  {
   "cell_type": "code",
   "execution_count": 36,
   "source": [
    "threshold = 6\r\n",
    "total_cnt = len(tokenizer.word_index) # 단어의 수\r\n",
    "rare_cnt = 0 # 등장 빈도수가 threshold보다 작은 단어의 개수를 카운트\r\n",
    "total_freq = 0 # 훈련 데이터의 전체 단어 빈도수 총 합\r\n",
    "rare_freq = 0 # 등장 빈도수가 threshold보다 작은 단어의 등장 빈도수의 총 합\r\n",
    "\r\n",
    "# 단어와 빈도수의 쌍(pair)을 key와 value로 받는다.\r\n",
    "for key, value in tokenizer.word_counts.items():\r\n",
    "    total_freq = total_freq + value\r\n",
    "\r\n",
    "    # 단어의 등장 빈도수가 threshold보다 작으면\r\n",
    "    if(value < threshold):\r\n",
    "        rare_cnt = rare_cnt + 1\r\n",
    "        rare_freq = rare_freq + value\r\n",
    "\r\n",
    "print('단어 집합(vocabulary)의 크기 :',total_cnt)\r\n",
    "print('등장 빈도가 %s번 이하인 희귀 단어의 수: %s'%(threshold - 1, rare_cnt))\r\n",
    "print(\"단어 집합에서 희귀 단어의 비율:\", (rare_cnt / total_cnt)*100)\r\n",
    "print(\"전체 등장 빈도에서 희귀 단어 등장 빈도 비율:\", (rare_freq / total_freq)*100)"
   ],
   "outputs": [
    {
     "output_type": "stream",
     "name": "stdout",
     "text": [
      "단어 집합(vocabulary)의 크기 : 3757\n",
      "등장 빈도가 5번 이하인 희귀 단어의 수: 1588\n",
      "단어 집합에서 희귀 단어의 비율: 42.267766835240884\n",
      "전체 등장 빈도에서 희귀 단어 등장 빈도 비율: 0.978957172999791\n"
     ]
    }
   ],
   "metadata": {}
  },
  {
   "cell_type": "code",
   "execution_count": 37,
   "source": [
    "vocab_size = total_cnt - rare_cnt + 1 # tokenizer 함수에 들어 갈 때 영향줘서 1 추가 해야 됨\r\n",
    "print('단어 집합의 크기 :',vocab_size)"
   ],
   "outputs": [
    {
     "output_type": "stream",
     "name": "stdout",
     "text": [
      "단어 집합의 크기 : 2170\n"
     ]
    }
   ],
   "metadata": {}
  },
  {
   "cell_type": "markdown",
   "source": [
    "케라스 토크나이저의 정수 인코딩은 인덱스가 1부터 시작하지만,\n",
    "\n",
    "케라스 원-핫 인코딩에서 배열의 인덱스가 0부터 시작하기 때문에\n",
    "\n",
    "배열의 크기를 실제 단어 집합의 크기보다 +1로 생성해야하므로 미리 +1 선언 "
   ],
   "metadata": {}
  },
  {
   "cell_type": "markdown",
   "source": [
    "### 맨 앞자리는 비어있어야 함 (원 핫 인코딩은 정수 인코딩한 뒤 나오는 정수 값 자리에 1을 넣는 것)"
   ],
   "metadata": {}
  },
  {
   "cell_type": "code",
   "execution_count": 38,
   "source": [
    "tokenizer = Tokenizer(num_words=vocab_size - 1)\r\n",
    "tokenizer.fit_on_texts(X_data)\r\n",
    "len(tokenizer.word_index)"
   ],
   "outputs": [
    {
     "output_type": "execute_result",
     "data": {
      "text/plain": [
       "3757"
      ]
     },
     "metadata": {},
     "execution_count": 38
    }
   ],
   "metadata": {}
  },
  {
   "cell_type": "code",
   "execution_count": 39,
   "source": [
    "X_data = tokenizer.texts_to_sequences(X_data) # 단어에 정수 붙여줄 때 num_word 적용"
   ],
   "outputs": [],
   "metadata": {}
  },
  {
   "cell_type": "markdown",
   "source": [
    "위에서 num_words는 이 데이터에서 등장 빈도 순위로 몇 번째에 해당하는 단어까지만 사용할 것인지 조절\n",
    "\n",
    "예를 들어서 100이란 값을 넣으면, 등장 빈도 순위가 1~100에 해당하는 단어만 사용"
   ],
   "metadata": {}
  },
  {
   "cell_type": "code",
   "execution_count": 40,
   "source": [
    "X_data[1]"
   ],
   "outputs": [
    {
     "output_type": "execute_result",
     "data": {
      "text/plain": [
       "[1165,\n",
       " 610,\n",
       " 743,\n",
       " 234,\n",
       " 537,\n",
       " 97,\n",
       " 71,\n",
       " 14,\n",
       " 1,\n",
       " 2,\n",
       " 247,\n",
       " 23,\n",
       " 34,\n",
       " 1687,\n",
       " 7,\n",
       " 140,\n",
       " 109,\n",
       " 167,\n",
       " 7,\n",
       " 289,\n",
       " 185,\n",
       " 17,\n",
       " 92,\n",
       " 815,\n",
       " 48,\n",
       " 1,\n",
       " 2,\n",
       " 92,\n",
       " 3,\n",
       " 48,\n",
       " 504,\n",
       " 145,\n",
       " 135,\n",
       " 92,\n",
       " 395,\n",
       " 284,\n",
       " 3,\n",
       " 19,\n",
       " 399,\n",
       " 664,\n",
       " 217,\n",
       " 747,\n",
       " 30,\n",
       " 590,\n",
       " 558,\n",
       " 122,\n",
       " 1796,\n",
       " 126,\n",
       " 25,\n",
       " 92,\n",
       " 260,\n",
       " 185,\n",
       " 250,\n",
       " 582,\n",
       " 82,\n",
       " 122,\n",
       " 259,\n",
       " 1166,\n",
       " 20,\n",
       " 39,\n",
       " 996,\n",
       " 247,\n",
       " 23,\n",
       " 92,\n",
       " 262,\n",
       " 48,\n",
       " 504,\n",
       " 122,\n",
       " 900,\n",
       " 22,\n",
       " 918,\n",
       " 92,\n",
       " 19,\n",
       " 62,\n",
       " 217,\n",
       " 997,\n",
       " 25,\n",
       " 8,\n",
       " 97,\n",
       " 582,\n",
       " 387,\n",
       " 40,\n",
       " 122,\n",
       " 235,\n",
       " 582,\n",
       " 48,\n",
       " 149,\n",
       " 1,\n",
       " 2,\n",
       " 259,\n",
       " 92,\n",
       " 19,\n",
       " 900,\n",
       " 22,\n",
       " 918,\n",
       " 122,\n",
       " 1743,\n",
       " 99,\n",
       " 92,\n",
       " 315,\n",
       " 217,\n",
       " 758,\n",
       " 8,\n",
       " 40,\n",
       " 122,\n",
       " 330,\n",
       " 96,\n",
       " 91,\n",
       " 7,\n",
       " 140,\n",
       " 109,\n",
       " 1165,\n",
       " 71,\n",
       " 1412,\n",
       " 220,\n",
       " 253,\n",
       " 251,\n",
       " 54,\n",
       " 309,\n",
       " 1871,\n",
       " 14,\n",
       " 1,\n",
       " 39,\n",
       " 21,\n",
       " 1412,\n",
       " 220,\n",
       " 253,\n",
       " 262,\n",
       " 263,\n",
       " 504,\n",
       " 81,\n",
       " 82,\n",
       " 316,\n",
       " 122,\n",
       " 7,\n",
       " 289,\n",
       " 185,\n",
       " 250,\n",
       " 5,\n",
       " 11,\n",
       " 1,\n",
       " 2,\n",
       " 889,\n",
       " 220,\n",
       " 253,\n",
       " 1481,\n",
       " 17,\n",
       " 316,\n",
       " 87,\n",
       " 3,\n",
       " 19,\n",
       " 10,\n",
       " 664,\n",
       " 316,\n",
       " 8,\n",
       " 40,\n",
       " 890,\n",
       " 12,\n",
       " 12,\n",
       " 173,\n",
       " 331,\n",
       " 852,\n",
       " 211,\n",
       " 868,\n",
       " 174,\n",
       " 65,\n",
       " 379,\n",
       " 266,\n",
       " 374,\n",
       " 9,\n",
       " 304,\n",
       " 18,\n",
       " 193,\n",
       " 744,\n",
       " 53,\n",
       " 36,\n",
       " 374,\n",
       " 9,\n",
       " 277,\n",
       " 18,\n",
       " 112,\n",
       " 37,\n",
       " 22,\n",
       " 41,\n",
       " 184,\n",
       " 111,\n",
       " 604,\n",
       " 24,\n",
       " 43,\n",
       " 232,\n",
       " 348,\n",
       " 213,\n",
       " 4,\n",
       " 4,\n",
       " 264,\n",
       " 221,\n",
       " 171,\n",
       " 16,\n",
       " 69,\n",
       " 222,\n",
       " 964,\n",
       " 71,\n",
       " 67,\n",
       " 37,\n",
       " 1376,\n",
       " 37,\n",
       " 274,\n",
       " 193,\n",
       " 964,\n",
       " 156,\n",
       " 69,\n",
       " 190,\n",
       " 67,\n",
       " 26,\n",
       " 222,\n",
       " 84,\n",
       " 160,\n",
       " 292,\n",
       " 94,\n",
       " 68,\n",
       " 98,\n",
       " 45,\n",
       " 281,\n",
       " 79,\n",
       " 58,\n",
       " 46,\n",
       " 213,\n",
       " 61,\n",
       " 102,\n",
       " 6,\n",
       " 792,\n",
       " 422,\n",
       " 437,\n",
       " 438,\n",
       " 196,\n",
       " 722,\n",
       " 6,\n",
       " 1444,\n",
       " 147,\n",
       " 201,\n",
       " 331,\n",
       " 852,\n",
       " 783,\n",
       " 1100,\n",
       " 321,\n",
       " 201,\n",
       " 235,\n",
       " 215,\n",
       " 390,\n",
       " 102,\n",
       " 294,\n",
       " 891,\n",
       " 945,\n",
       " 29,\n",
       " 60,\n",
       " 20,\n",
       " 102,\n",
       " 160,\n",
       " 1030,\n",
       " 33,\n",
       " 428,\n",
       " 211,\n",
       " 27,\n",
       " 13,\n",
       " 213,\n",
       " 4]"
      ]
     },
     "metadata": {},
     "execution_count": 40
    }
   ],
   "metadata": {}
  },
  {
   "cell_type": "code",
   "execution_count": 41,
   "source": [
    "print('문장 최대 길이 :',max(len(l) for l in X_data))\r\n",
    "print('문장의 평균 길이 :',sum(map(len, X_data))/len(X_data))\r\n",
    "plt.hist([len(s) for s in X_data], bins=50, color='k')\r\n",
    "plt.xlabel('length of samples')\r\n",
    "plt.ylabel('number of samples')\r\n",
    "plt.show()\r\n",
    "plt.close()"
   ],
   "outputs": [
    {
     "output_type": "stream",
     "name": "stdout",
     "text": [
      "문장 최대 길이 : 337\n",
      "문장의 평균 길이 : 188.34607438016528\n"
     ]
    },
    {
     "output_type": "display_data",
     "data": {
      "image/png": "[encoded data removed]",
      "text/plain": [
       "<Figure size 432x288 with 1 Axes>"
      ]
     },
     "metadata": {
      "needs_background": "light"
     }
    }
   ],
   "metadata": {}
  },
  {
   "cell_type": "code",
   "execution_count": 42,
   "source": [
    "def below_threshold_len(max_len, nested_list):\r\n",
    "  cnt = 0\r\n",
    "  for s in nested_list:\r\n",
    "    if(len(s) <= max_len):\r\n",
    "        cnt = cnt + 1\r\n",
    "  print('전체 샘플 중 길이가 %s 이하인 샘플의 비율: %s'%(max_len, (cnt / len(nested_list))*100))\r\n",
    "\r\n",
    "max_len = 300\r\n",
    "below_threshold_len(max_len, X_data)"
   ],
   "outputs": [
    {
     "output_type": "stream",
     "name": "stdout",
     "text": [
      "전체 샘플 중 길이가 300 이하인 샘플의 비율: 98.91528925619835\n"
     ]
    }
   ],
   "metadata": {}
  },
  {
   "cell_type": "markdown",
   "source": [
    "## padding"
   ],
   "metadata": {}
  },
  {
   "cell_type": "code",
   "execution_count": 43,
   "source": [
    "from tensorflow.keras.preprocessing.sequence import pad_sequences\r\n",
    "X_data = pad_sequences(X_data, maxlen = max_len)"
   ],
   "outputs": [],
   "metadata": {}
  },
  {
   "cell_type": "code",
   "execution_count": 44,
   "source": [
    "print(len(X_data[1]))\r\n",
    "X_data[1]"
   ],
   "outputs": [
    {
     "output_type": "stream",
     "name": "stdout",
     "text": [
      "300\n"
     ]
    },
    {
     "output_type": "execute_result",
     "data": {
      "text/plain": [
       "array([   0,    0,    0,    0,    0,    0,    0,    0,    0,    0,    0,\n",
       "          0,    0,    0,    0,    0,    0,    0,    0,    0,    0,    0,\n",
       "          0,    0,    0,    0,    0,    0,    0,    0,    0,    0,    0,\n",
       "          0, 1165,  610,  743,  234,  537,   97,   71,   14,    1,    2,\n",
       "        247,   23,   34, 1687,    7,  140,  109,  167,    7,  289,  185,\n",
       "         17,   92,  815,   48,    1,    2,   92,    3,   48,  504,  145,\n",
       "        135,   92,  395,  284,    3,   19,  399,  664,  217,  747,   30,\n",
       "        590,  558,  122, 1796,  126,   25,   92,  260,  185,  250,  582,\n",
       "         82,  122,  259, 1166,   20,   39,  996,  247,   23,   92,  262,\n",
       "         48,  504,  122,  900,   22,  918,   92,   19,   62,  217,  997,\n",
       "         25,    8,   97,  582,  387,   40,  122,  235,  582,   48,  149,\n",
       "          1,    2,  259,   92,   19,  900,   22,  918,  122, 1743,   99,\n",
       "         92,  315,  217,  758,    8,   40,  122,  330,   96,   91,    7,\n",
       "        140,  109, 1165,   71, 1412,  220,  253,  251,   54,  309, 1871,\n",
       "         14,    1,   39,   21, 1412,  220,  253,  262,  263,  504,   81,\n",
       "         82,  316,  122,    7,  289,  185,  250,    5,   11,    1,    2,\n",
       "        889,  220,  253, 1481,   17,  316,   87,    3,   19,   10,  664,\n",
       "        316,    8,   40,  890,   12,   12,  173,  331,  852,  211,  868,\n",
       "        174,   65,  379,  266,  374,    9,  304,   18,  193,  744,   53,\n",
       "         36,  374,    9,  277,   18,  112,   37,   22,   41,  184,  111,\n",
       "        604,   24,   43,  232,  348,  213,    4,    4,  264,  221,  171,\n",
       "         16,   69,  222,  964,   71,   67,   37, 1376,   37,  274,  193,\n",
       "        964,  156,   69,  190,   67,   26,  222,   84,  160,  292,   94,\n",
       "         68,   98,   45,  281,   79,   58,   46,  213,   61,  102,    6,\n",
       "        792,  422,  437,  438,  196,  722,    6, 1444,  147,  201,  331,\n",
       "        852,  783, 1100,  321,  201,  235,  215,  390,  102,  294,  891,\n",
       "        945,   29,   60,   20,  102,  160, 1030,   33,  428,  211,   27,\n",
       "         13,  213,    4])"
      ]
     },
     "metadata": {},
     "execution_count": 44
    }
   ],
   "metadata": {}
  },
  {
   "cell_type": "markdown",
   "source": [
    "# 6. LSTM 돌리기 "
   ],
   "metadata": {}
  },
  {
   "cell_type": "code",
   "execution_count": 45,
   "source": [
    "from tensorflow.keras.layers import Embedding, Dense, GRU\r\n",
    "from tensorflow.keras.models import Sequential\r\n",
    "from tensorflow.keras.models import load_model\r\n",
    "from tensorflow.keras.callbacks import EarlyStopping, ModelCheckpoint\r\n",
    "from sklearn.model_selection import train_test_split\r\n",
    "from tensorflow.keras.utils import to_categorical"
   ],
   "outputs": [],
   "metadata": {}
  },
  {
   "cell_type": "code",
   "execution_count": 46,
   "source": [
    "X = X_data\r\n",
    "y = jk_data.id.tolist()"
   ],
   "outputs": [],
   "metadata": {}
  },
  {
   "cell_type": "code",
   "execution_count": 47,
   "source": [
    "X[1]"
   ],
   "outputs": [
    {
     "output_type": "execute_result",
     "data": {
      "text/plain": [
       "array([   0,    0,    0,    0,    0,    0,    0,    0,    0,    0,    0,\n",
       "          0,    0,    0,    0,    0,    0,    0,    0,    0,    0,    0,\n",
       "          0,    0,    0,    0,    0,    0,    0,    0,    0,    0,    0,\n",
       "          0, 1165,  610,  743,  234,  537,   97,   71,   14,    1,    2,\n",
       "        247,   23,   34, 1687,    7,  140,  109,  167,    7,  289,  185,\n",
       "         17,   92,  815,   48,    1,    2,   92,    3,   48,  504,  145,\n",
       "        135,   92,  395,  284,    3,   19,  399,  664,  217,  747,   30,\n",
       "        590,  558,  122, 1796,  126,   25,   92,  260,  185,  250,  582,\n",
       "         82,  122,  259, 1166,   20,   39,  996,  247,   23,   92,  262,\n",
       "         48,  504,  122,  900,   22,  918,   92,   19,   62,  217,  997,\n",
       "         25,    8,   97,  582,  387,   40,  122,  235,  582,   48,  149,\n",
       "          1,    2,  259,   92,   19,  900,   22,  918,  122, 1743,   99,\n",
       "         92,  315,  217,  758,    8,   40,  122,  330,   96,   91,    7,\n",
       "        140,  109, 1165,   71, 1412,  220,  253,  251,   54,  309, 1871,\n",
       "         14,    1,   39,   21, 1412,  220,  253,  262,  263,  504,   81,\n",
       "         82,  316,  122,    7,  289,  185,  250,    5,   11,    1,    2,\n",
       "        889,  220,  253, 1481,   17,  316,   87,    3,   19,   10,  664,\n",
       "        316,    8,   40,  890,   12,   12,  173,  331,  852,  211,  868,\n",
       "        174,   65,  379,  266,  374,    9,  304,   18,  193,  744,   53,\n",
       "         36,  374,    9,  277,   18,  112,   37,   22,   41,  184,  111,\n",
       "        604,   24,   43,  232,  348,  213,    4,    4,  264,  221,  171,\n",
       "         16,   69,  222,  964,   71,   67,   37, 1376,   37,  274,  193,\n",
       "        964,  156,   69,  190,   67,   26,  222,   84,  160,  292,   94,\n",
       "         68,   98,   45,  281,   79,   58,   46,  213,   61,  102,    6,\n",
       "        792,  422,  437,  438,  196,  722,    6, 1444,  147,  201,  331,\n",
       "        852,  783, 1100,  321,  201,  235,  215,  390,  102,  294,  891,\n",
       "        945,   29,   60,   20,  102,  160, 1030,   33,  428,  211,   27,\n",
       "         13,  213,    4])"
      ]
     },
     "metadata": {},
     "execution_count": 47
    }
   ],
   "metadata": {}
  },
  {
   "cell_type": "code",
   "execution_count": 48,
   "source": [
    "y[1]"
   ],
   "outputs": [
    {
     "output_type": "execute_result",
     "data": {
      "text/plain": [
       "'047'"
      ]
     },
     "metadata": {},
     "execution_count": 48
    }
   ],
   "metadata": {}
  },
  {
   "cell_type": "code",
   "execution_count": 49,
   "source": [
    "print(len(X),len(y))"
   ],
   "outputs": [
    {
     "output_type": "stream",
     "name": "stdout",
     "text": [
      "1936 1936\n"
     ]
    }
   ],
   "metadata": {}
  },
  {
   "cell_type": "code",
   "execution_count": 50,
   "source": [
    "y = to_categorical(y)"
   ],
   "outputs": [],
   "metadata": {}
  },
  {
   "cell_type": "code",
   "execution_count": 51,
   "source": [
    "print(X.shape, y.shape)"
   ],
   "outputs": [
    {
     "output_type": "stream",
     "name": "stdout",
     "text": [
      "(1936, 300) (1936, 310)\n"
     ]
    }
   ],
   "metadata": {}
  },
  {
   "cell_type": "code",
   "execution_count": 52,
   "source": [
    "x_train, x_test, y_train, y_test = train_test_split(X, y,test_size=0.3, random_state=777, stratify=y) #추천 한 번밖에 안된 애들 있어서 stratify 안됨"
   ],
   "outputs": [],
   "metadata": {}
  },
  {
   "cell_type": "code",
   "execution_count": 53,
   "source": [
    "num_class = int(max(jk_data.id)) + 1"
   ],
   "outputs": [],
   "metadata": {}
  },
  {
   "cell_type": "code",
   "execution_count": 58,
   "source": [
    "from tensorflow.keras.layers import LSTM, Bidirectional"
   ],
   "outputs": [],
   "metadata": {}
  },
  {
   "cell_type": "code",
   "execution_count": 63,
   "source": [
    "model = Sequential()\r\n",
    "model.add(Embedding(vocab_size, max_len))\r\n",
    "model.add(LSTM(max_len))\r\n",
    "model.add(Dense(num_class, activation='softmax'))\r\n",
    "\r\n",
    "model.summary()"
   ],
   "outputs": [
    {
     "output_type": "stream",
     "name": "stdout",
     "text": [
      "Model: \"sequential_4\"\n",
      "_________________________________________________________________\n",
      "Layer (type)                 Output Shape              Param #   \n",
      "=================================================================\n",
      "embedding_4 (Embedding)      (None, None, 300)         651000    \n",
      "_________________________________________________________________\n",
      "lstm_1 (LSTM)                (None, 300)               721200    \n",
      "_________________________________________________________________\n",
      "dense_1 (Dense)              (None, 310)               93310     \n",
      "=================================================================\n",
      "Total params: 1,465,510\n",
      "Trainable params: 1,465,510\n",
      "Non-trainable params: 0\n",
      "_________________________________________________________________\n"
     ]
    }
   ],
   "metadata": {}
  },
  {
   "cell_type": "code",
   "execution_count": 64,
   "source": [
    "es = EarlyStopping(monitor='val_loss', mode='min', verbose=1, patience=6)\r\n",
    "mc = ModelCheckpoint('jk_model_lstm.h5', monitor='val_acc', mode='max', verbose=1, save_best_only=True)"
   ],
   "outputs": [],
   "metadata": {}
  },
  {
   "cell_type": "code",
   "execution_count": 65,
   "source": [
    "model.compile(optimizer='adam', loss='categorical_crossentropy', metrics=['acc'])\r\n",
    "history = model.fit(x_train, y_train, epochs=10, callbacks=[es, mc], batch_size=32, validation_split=0.2)\r\n",
    "\r\n",
    "print(\"테스트 셋 체크\")\r\n",
    "loaded_model = load_model('jk_model_lstm.h5')\r\n",
    "print(\"\\n 테스트 정확도: %.4f\" % (loaded_model.evaluate(x_test, y_test)[1]))"
   ],
   "outputs": [
    {
     "output_type": "stream",
     "name": "stdout",
     "text": [
      "Epoch 1/10\n",
      "34/34 [==============================] - ETA: 0s - loss: 5.3113 - acc: 0.0923\n",
      "Epoch 00001: val_acc improved from -inf to 0.09225, saving model to jk_model_lstm.h5\n",
      "34/34 [==============================] - 62s 2s/step - loss: 5.3113 - acc: 0.0923 - val_loss: 5.0270 - val_acc: 0.0923\n",
      "Epoch 2/10\n",
      "34/34 [==============================] - ETA: 0s - loss: 4.1841 - acc: 0.1928\n",
      "Epoch 00002: val_acc improved from 0.09225 to 0.25461, saving model to jk_model_lstm.h5\n",
      "34/34 [==============================] - 59s 2s/step - loss: 4.1841 - acc: 0.1928 - val_loss: 3.7325 - val_acc: 0.2546\n",
      "Epoch 3/10\n",
      "34/34 [==============================] - ETA: 0s - loss: 2.5556 - acc: 0.5157\n",
      "Epoch 00003: val_acc improved from 0.25461 to 0.61624, saving model to jk_model_lstm.h5\n",
      "34/34 [==============================] - 60s 2s/step - loss: 2.5556 - acc: 0.5157 - val_loss: 2.1167 - val_acc: 0.6162\n",
      "Epoch 4/10\n",
      "34/34 [==============================] - ETA: 0s - loss: 1.2440 - acc: 0.7887\n",
      "Epoch 00004: val_acc improved from 0.61624 to 0.80443, saving model to jk_model_lstm.h5\n",
      "34/34 [==============================] - 60s 2s/step - loss: 1.2440 - acc: 0.7887 - val_loss: 1.1760 - val_acc: 0.8044\n",
      "Epoch 5/10\n",
      "34/34 [==============================] - ETA: 0s - loss: 0.5856 - acc: 0.9142\n",
      "Epoch 00005: val_acc improved from 0.80443 to 0.89668, saving model to jk_model_lstm.h5\n",
      "34/34 [==============================] - 60s 2s/step - loss: 0.5856 - acc: 0.9142 - val_loss: 0.7251 - val_acc: 0.8967\n",
      "Epoch 6/10\n",
      "34/34 [==============================] - ETA: 0s - loss: 0.2998 - acc: 0.9493\n",
      "Epoch 00006: val_acc improved from 0.89668 to 0.94465, saving model to jk_model_lstm.h5\n",
      "34/34 [==============================] - 66s 2s/step - loss: 0.2998 - acc: 0.9493 - val_loss: 0.4906 - val_acc: 0.9446\n",
      "Epoch 7/10\n",
      "34/34 [==============================] - ETA: 0s - loss: 0.1544 - acc: 0.9769\n",
      "Epoch 00007: val_acc improved from 0.94465 to 0.96310, saving model to jk_model_lstm.h5\n",
      "34/34 [==============================] - 70s 2s/step - loss: 0.1544 - acc: 0.9769 - val_loss: 0.3947 - val_acc: 0.9631\n",
      "Epoch 8/10\n",
      "34/34 [==============================] - ETA: 0s - loss: 0.0899 - acc: 0.9945\n",
      "Epoch 00008: val_acc improved from 0.96310 to 0.97048, saving model to jk_model_lstm.h5\n",
      "34/34 [==============================] - 61s 2s/step - loss: 0.0899 - acc: 0.9945 - val_loss: 0.3739 - val_acc: 0.9705\n",
      "Epoch 9/10\n",
      "34/34 [==============================] - ETA: 0s - loss: 0.0479 - acc: 1.0000\n",
      "Epoch 00009: val_acc did not improve from 0.97048\n",
      "34/34 [==============================] - 64s 2s/step - loss: 0.0479 - acc: 1.0000 - val_loss: 0.3489 - val_acc: 0.9705\n",
      "Epoch 10/10\n",
      "34/34 [==============================] - ETA: 0s - loss: 0.0243 - acc: 1.0000\n",
      "Epoch 00010: val_acc did not improve from 0.97048\n",
      "34/34 [==============================] - 70s 2s/step - loss: 0.0243 - acc: 1.0000 - val_loss: 0.3509 - val_acc: 0.9705\n",
      "테스트 셋 체크\n",
      "19/19 [==============================] - 10s 552ms/step - loss: 0.2185 - acc: 0.9845\n",
      "\n",
      " 테스트 정확도: 0.9845\n"
     ]
    }
   ],
   "metadata": {}
  },
  {
   "cell_type": "markdown",
   "source": [],
   "metadata": {}
  },
  {
   "cell_type": "markdown",
   "source": [
    "Cannot convert a symbolic Tensor -> numpy 버전 1.19.5로 바꿔줌\n",
    "\n",
    "https://wikidocs.net/45101"
   ],
   "metadata": {}
  },
  {
   "cell_type": "code",
   "execution_count": null,
   "source": [
    "# list all data in history\r\n",
    "print(history.history.keys())\r\n",
    "# summarize history for accuracy\r\n",
    "plt.plot(history.history['acc'])\r\n",
    "plt.plot(history.history['val_acc'])\r\n",
    "plt.title('model accuracy')\r\n",
    "plt.ylabel('accuracy')\r\n",
    "plt.xlabel('epoch')\r\n",
    "plt.legend(['train', 'test'], loc='upper left')\r\n",
    "plt.show()\r\n",
    "# summarize history for loss\r\n",
    "plt.plot(history.history['loss'])\r\n",
    "plt.plot(history.history['val_loss'])\r\n",
    "plt.title('model loss')\r\n",
    "plt.ylabel('loss')\r\n",
    "plt.xlabel('epoch')\r\n",
    "plt.legend(['train', 'test'], loc='upper left')\r\n",
    "plt.show()"
   ],
   "outputs": [
    {
     "output_type": "stream",
     "name": "stdout",
     "text": [
      "dict_keys(['loss', 'acc', 'val_loss', 'val_acc'])\n"
     ]
    },
    {
     "output_type": "display_data",
     "data": {
      "image/png": "[encoded data removed]",
      "text/plain": [
       "<Figure size 432x288 with 1 Axes>"
      ]
     },
     "metadata": {
      "needs_background": "light"
     }
    },
    {
     "output_type": "display_data",
     "data": {
      "image/png": "[encoded data removed]",
      "text/plain": [
       "<Figure size 432x288 with 1 Axes>"
      ]
     },
     "metadata": {
      "needs_background": "light"
     }
    }
   ],
   "metadata": {}
  },
  {
   "cell_type": "code",
   "execution_count": null,
   "source": [],
   "outputs": [],
   "metadata": {}
  }
 ],
 "metadata": {
  "orig_nbformat": 4,
  "language_info": {
   "name": "python",
   "version": "3.8.11",
   "mimetype": "text/x-python",
   "codemirror_mode": {
    "name": "ipython",
    "version": 3
   },
   "pygments_lexer": "ipython3",
   "nbconvert_exporter": "python",
   "file_extension": ".py"
  },
  "kernelspec": {
   "name": "python3",
   "display_name": "Python 3.8.11 64-bit ('project': conda)"
  },
  "interpreter": {
   "hash": "3c72b3a1d2099a1008e3bc500dd268b9e9c6cd21287ce07be0cbf18dc1c8e707"
  }
 },
 "nbformat": 4,
 "nbformat_minor": 2
}