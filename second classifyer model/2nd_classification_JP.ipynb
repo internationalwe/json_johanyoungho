{
 "cells": [
  {
   "cell_type": "code",
   "execution_count": 1,
   "source": [
    "import pandas as pd\n",
    "\n",
    "ddata = pd.read_csv(\"./data/ddata.txt\", encoding=\"euc-kr\", sep=\"\\t\", names=[\"num\",\"speaker\",\"contents\",\"tags\"])\n",
    "mdata = pd.read_csv(\"./data/mdata.txt\", encoding=\"euc-kr\", sep=\"\\t\", names=[\"id\",\"part\",\"category\",\"exptype\",\"exp\"])\n",
    "\n",
    "ddata.head()"
   ],
   "outputs": [
    {
     "output_type": "execute_result",
     "data": {
      "text/html": [
       "<div>\n",
       "<style scoped>\n",
       "    .dataframe tbody tr th:only-of-type {\n",
       "        vertical-align: middle;\n",
       "    }\n",
       "\n",
       "    .dataframe tbody tr th {\n",
       "        vertical-align: top;\n",
       "    }\n",
       "\n",
       "    .dataframe thead th {\n",
       "        text-align: right;\n",
       "    }\n",
       "</style>\n",
       "<table border=\"1\" class=\"dataframe\">\n",
       "  <thead>\n",
       "    <tr style=\"text-align: right;\">\n",
       "      <th></th>\n",
       "      <th>num</th>\n",
       "      <th>speaker</th>\n",
       "      <th>contents</th>\n",
       "      <th>tags</th>\n",
       "    </tr>\n",
       "  </thead>\n",
       "  <tbody>\n",
       "    <tr>\n",
       "      <th>0</th>\n",
       "      <td>0</td>\n",
       "      <td>&lt;CO&gt;</td>\n",
       "      <td>어서오세요. 코디봇입니다. 무엇을 도와드릴까요?</td>\n",
       "      <td>INTRO</td>\n",
       "    </tr>\n",
       "    <tr>\n",
       "      <th>1</th>\n",
       "      <td>1</td>\n",
       "      <td>&lt;US&gt;</td>\n",
       "      <td>처음 대학교 들어가는데 입을 옷 코디해주세요.</td>\n",
       "      <td>NaN</td>\n",
       "    </tr>\n",
       "    <tr>\n",
       "      <th>2</th>\n",
       "      <td>2</td>\n",
       "      <td>&lt;CO&gt;</td>\n",
       "      <td>신입생 코디에 어울리게 화사한 스웨터를 추천해드릴게요.</td>\n",
       "      <td>EXP_RES_SITUATION;EXP_RES_DESCRIPTION</td>\n",
       "    </tr>\n",
       "    <tr>\n",
       "      <th>3</th>\n",
       "      <td>3</td>\n",
       "      <td>&lt;AC&gt;</td>\n",
       "      <td>SW-009</td>\n",
       "      <td>NaN</td>\n",
       "    </tr>\n",
       "    <tr>\n",
       "      <th>4</th>\n",
       "      <td>4</td>\n",
       "      <td>&lt;US&gt;</td>\n",
       "      <td>이 옷에 어울리는 치마로 추천해주세요.</td>\n",
       "      <td>USER_SUCCESS</td>\n",
       "    </tr>\n",
       "  </tbody>\n",
       "</table>\n",
       "</div>"
      ],
      "text/plain": [
       "   num speaker                         contents  \\\n",
       "0    0    <CO>       어서오세요. 코디봇입니다. 무엇을 도와드릴까요?   \n",
       "1    1    <US>        처음 대학교 들어가는데 입을 옷 코디해주세요.   \n",
       "2    2    <CO>   신입생 코디에 어울리게 화사한 스웨터를 추천해드릴게요.   \n",
       "3    3    <AC>                           SW-009   \n",
       "4    4    <US>            이 옷에 어울리는 치마로 추천해주세요.   \n",
       "\n",
       "                                    tags  \n",
       "0                                  INTRO  \n",
       "1                                    NaN  \n",
       "2  EXP_RES_SITUATION;EXP_RES_DESCRIPTION  \n",
       "3                                    NaN  \n",
       "4                           USER_SUCCESS  "
      ]
     },
     "metadata": {},
     "execution_count": 1
    }
   ],
   "metadata": {}
  },
  {
   "cell_type": "markdown",
   "source": [
    "# 1. 전체 대화셋 개수 카운트"
   ],
   "metadata": {}
  },
  {
   "cell_type": "code",
   "execution_count": 2,
   "source": [
    "dial_num = 0\n",
    "\n",
    "for i in range(1, len(ddata)):\n",
    "    if ddata.loc[i, \"num\"] == 0:\n",
    "        dial_num += 1\n",
    "print(\"총 대화셋 수: \",dial_num)"
   ],
   "outputs": [
    {
     "output_type": "stream",
     "name": "stdout",
     "text": [
      "총 대화셋 수:  7235\n"
     ]
    }
   ],
   "metadata": {}
  },
  {
   "cell_type": "markdown",
   "source": [
    "# 2. Mdata 합치기"
   ],
   "metadata": {}
  },
  {
   "cell_type": "markdown",
   "source": [
    "## - Part 살려서 합치기"
   ],
   "metadata": {}
  },
  {
   "cell_type": "code",
   "execution_count": 3,
   "source": [
    "c_mdata = pd.DataFrame({\"id\":[0],\"exp\":[None]})\n",
    "c_mdata.drop(0, axis=0, inplace=True)\n",
    "c_mdata"
   ],
   "outputs": [
    {
     "output_type": "execute_result",
     "data": {
      "text/html": [
       "<div>\n",
       "<style scoped>\n",
       "    .dataframe tbody tr th:only-of-type {\n",
       "        vertical-align: middle;\n",
       "    }\n",
       "\n",
       "    .dataframe tbody tr th {\n",
       "        vertical-align: top;\n",
       "    }\n",
       "\n",
       "    .dataframe thead th {\n",
       "        text-align: right;\n",
       "    }\n",
       "</style>\n",
       "<table border=\"1\" class=\"dataframe\">\n",
       "  <thead>\n",
       "    <tr style=\"text-align: right;\">\n",
       "      <th></th>\n",
       "      <th>id</th>\n",
       "      <th>exp</th>\n",
       "    </tr>\n",
       "  </thead>\n",
       "  <tbody>\n",
       "  </tbody>\n",
       "</table>\n",
       "</div>"
      ],
      "text/plain": [
       "Empty DataFrame\n",
       "Columns: [id, exp]\n",
       "Index: []"
      ]
     },
     "metadata": {},
     "execution_count": 3
    }
   ],
   "metadata": {}
  },
  {
   "cell_type": "code",
   "execution_count": 4,
   "source": [
    "id = \"\"\n",
    "idx = 0\n",
    "for i in range(len(mdata)):\n",
    "    if id == mdata.loc[i, \"id\"]:\n",
    "        c_mdata.loc[c_mdata.index[(c_mdata[\"id\"] == id)].tolist().pop(),\"exp\"] = c_mdata.loc[c_mdata.index[(c_mdata[\"id\"] == id)].tolist().pop(),\"exp\"] + \" \" + mdata.loc[i, \"exp\"]\n",
    "    \n",
    "    else:\n",
    "        id = mdata.loc[i, \"id\"]\n",
    "        c_mdata.loc[i, \"id\"] = id\n",
    "        c_mdata.loc[i, \"exp\"] = mdata.loc[i, \"exp\"]\n",
    "\n",
    "c_mdata.head()"
   ],
   "outputs": [
    {
     "output_type": "execute_result",
     "data": {
      "text/html": [
       "<div>\n",
       "<style scoped>\n",
       "    .dataframe tbody tr th:only-of-type {\n",
       "        vertical-align: middle;\n",
       "    }\n",
       "\n",
       "    .dataframe tbody tr th {\n",
       "        vertical-align: top;\n",
       "    }\n",
       "\n",
       "    .dataframe thead th {\n",
       "        text-align: right;\n",
       "    }\n",
       "</style>\n",
       "<table border=\"1\" class=\"dataframe\">\n",
       "  <thead>\n",
       "    <tr style=\"text-align: right;\">\n",
       "      <th></th>\n",
       "      <th>id</th>\n",
       "      <th>exp</th>\n",
       "    </tr>\n",
       "  </thead>\n",
       "  <tbody>\n",
       "    <tr>\n",
       "      <th>0</th>\n",
       "      <td>BL-001</td>\n",
       "      <td>단추 여밈의 전체 오픈형 스탠드 칼라와 브이넥 네크라인의 결합스타일 손목까지 내려오...</td>\n",
       "    </tr>\n",
       "    <tr>\n",
       "      <th>20</th>\n",
       "      <td>BL-002</td>\n",
       "      <td>넓은 셔츠칼라 네크라인 앞중심에 반 오픈 끈여밈있는 스타일 드롭숄더 퍼프형 소매로 ...</td>\n",
       "    </tr>\n",
       "    <tr>\n",
       "      <th>38</th>\n",
       "      <td>BL-003</td>\n",
       "      <td>앞 중심에 단추 여밈 칼라가 없는 넓고 깊게 파인 브이넥 엉덩이 밑으로 내려오는 긴...</td>\n",
       "    </tr>\n",
       "    <tr>\n",
       "      <th>63</th>\n",
       "      <td>BL-004</td>\n",
       "      <td>앞중심에 단추 여밈 칼라가 없는 라운드넥으로 골반 위에서 끝나는 짧은 기장 손목, ...</td>\n",
       "    </tr>\n",
       "    <tr>\n",
       "      <th>84</th>\n",
       "      <td>BL-005</td>\n",
       "      <td>앞단추 여밈의 전체 오픈형 칼라가 없는 라운드넥크라인 엉덩이 위에서 끝나는 짧은 기...</td>\n",
       "    </tr>\n",
       "  </tbody>\n",
       "</table>\n",
       "</div>"
      ],
      "text/plain": [
       "         id                                                exp\n",
       "0   BL-001   단추 여밈의 전체 오픈형 스탠드 칼라와 브이넥 네크라인의 결합스타일 손목까지 내려오...\n",
       "20  BL-002   넓은 셔츠칼라 네크라인 앞중심에 반 오픈 끈여밈있는 스타일 드롭숄더 퍼프형 소매로 ...\n",
       "38  BL-003   앞 중심에 단추 여밈 칼라가 없는 넓고 깊게 파인 브이넥 엉덩이 밑으로 내려오는 긴...\n",
       "63  BL-004   앞중심에 단추 여밈 칼라가 없는 라운드넥으로 골반 위에서 끝나는 짧은 기장 손목, ...\n",
       "84  BL-005   앞단추 여밈의 전체 오픈형 칼라가 없는 라운드넥크라인 엉덩이 위에서 끝나는 짧은 기..."
      ]
     },
     "metadata": {},
     "execution_count": 4
    }
   ],
   "metadata": {}
  },
  {
   "cell_type": "code",
   "execution_count": 5,
   "source": [
    "for i in range(len(c_mdata)): # id 뒤에 공백 없애기\n",
    "    c_mdata.iloc[i].id = c_mdata.iloc[i].id.strip()\n",
    "\n",
    "print(c_mdata.iloc[0].id)\n",
    "c_mdata.reset_index(drop=True,inplace=True)\n",
    "c_mdata.head()"
   ],
   "outputs": [
    {
     "output_type": "stream",
     "name": "stdout",
     "text": [
      "BL-001\n"
     ]
    },
    {
     "output_type": "execute_result",
     "data": {
      "text/html": [
       "<div>\n",
       "<style scoped>\n",
       "    .dataframe tbody tr th:only-of-type {\n",
       "        vertical-align: middle;\n",
       "    }\n",
       "\n",
       "    .dataframe tbody tr th {\n",
       "        vertical-align: top;\n",
       "    }\n",
       "\n",
       "    .dataframe thead th {\n",
       "        text-align: right;\n",
       "    }\n",
       "</style>\n",
       "<table border=\"1\" class=\"dataframe\">\n",
       "  <thead>\n",
       "    <tr style=\"text-align: right;\">\n",
       "      <th></th>\n",
       "      <th>id</th>\n",
       "      <th>exp</th>\n",
       "    </tr>\n",
       "  </thead>\n",
       "  <tbody>\n",
       "    <tr>\n",
       "      <th>0</th>\n",
       "      <td>BL-001</td>\n",
       "      <td>단추 여밈의 전체 오픈형 스탠드 칼라와 브이넥 네크라인의 결합스타일 손목까지 내려오...</td>\n",
       "    </tr>\n",
       "    <tr>\n",
       "      <th>1</th>\n",
       "      <td>BL-002</td>\n",
       "      <td>넓은 셔츠칼라 네크라인 앞중심에 반 오픈 끈여밈있는 스타일 드롭숄더 퍼프형 소매로 ...</td>\n",
       "    </tr>\n",
       "    <tr>\n",
       "      <th>2</th>\n",
       "      <td>BL-003</td>\n",
       "      <td>앞 중심에 단추 여밈 칼라가 없는 넓고 깊게 파인 브이넥 엉덩이 밑으로 내려오는 긴...</td>\n",
       "    </tr>\n",
       "    <tr>\n",
       "      <th>3</th>\n",
       "      <td>BL-004</td>\n",
       "      <td>앞중심에 단추 여밈 칼라가 없는 라운드넥으로 골반 위에서 끝나는 짧은 기장 손목, ...</td>\n",
       "    </tr>\n",
       "    <tr>\n",
       "      <th>4</th>\n",
       "      <td>BL-005</td>\n",
       "      <td>앞단추 여밈의 전체 오픈형 칼라가 없는 라운드넥크라인 엉덩이 위에서 끝나는 짧은 기...</td>\n",
       "    </tr>\n",
       "  </tbody>\n",
       "</table>\n",
       "</div>"
      ],
      "text/plain": [
       "       id                                                exp\n",
       "0  BL-001  단추 여밈의 전체 오픈형 스탠드 칼라와 브이넥 네크라인의 결합스타일 손목까지 내려오...\n",
       "1  BL-002  넓은 셔츠칼라 네크라인 앞중심에 반 오픈 끈여밈있는 스타일 드롭숄더 퍼프형 소매로 ...\n",
       "2  BL-003  앞 중심에 단추 여밈 칼라가 없는 넓고 깊게 파인 브이넥 엉덩이 밑으로 내려오는 긴...\n",
       "3  BL-004  앞중심에 단추 여밈 칼라가 없는 라운드넥으로 골반 위에서 끝나는 짧은 기장 손목, ...\n",
       "4  BL-005  앞단추 여밈의 전체 오픈형 칼라가 없는 라운드넥크라인 엉덩이 위에서 끝나는 짧은 기..."
      ]
     },
     "metadata": {},
     "execution_count": 5
    }
   ],
   "metadata": {}
  },
  {
   "cell_type": "markdown",
   "source": [
    "# 3. NaN, Null 값 확인"
   ],
   "metadata": {}
  },
  {
   "cell_type": "code",
   "execution_count": 6,
   "source": [
    "ddata.drop(ddata.index[ddata.tags == \"INTRO\"].tolist(), axis=0, inplace=True)\n",
    "ddata.reset_index(drop=True, inplace=True)\n",
    "ddata[ddata.tags == \"INTRO\"]"
   ],
   "outputs": [
    {
     "output_type": "execute_result",
     "data": {
      "text/html": [
       "<div>\n",
       "<style scoped>\n",
       "    .dataframe tbody tr th:only-of-type {\n",
       "        vertical-align: middle;\n",
       "    }\n",
       "\n",
       "    .dataframe tbody tr th {\n",
       "        vertical-align: top;\n",
       "    }\n",
       "\n",
       "    .dataframe thead th {\n",
       "        text-align: right;\n",
       "    }\n",
       "</style>\n",
       "<table border=\"1\" class=\"dataframe\">\n",
       "  <thead>\n",
       "    <tr style=\"text-align: right;\">\n",
       "      <th></th>\n",
       "      <th>num</th>\n",
       "      <th>speaker</th>\n",
       "      <th>contents</th>\n",
       "      <th>tags</th>\n",
       "    </tr>\n",
       "  </thead>\n",
       "  <tbody>\n",
       "  </tbody>\n",
       "</table>\n",
       "</div>"
      ],
      "text/plain": [
       "Empty DataFrame\n",
       "Columns: [num, speaker, contents, tags]\n",
       "Index: []"
      ]
     },
     "metadata": {},
     "execution_count": 6
    }
   ],
   "metadata": {}
  },
  {
   "cell_type": "code",
   "execution_count": 7,
   "source": [
    "ddata.isnull().sum()"
   ],
   "outputs": [
    {
     "output_type": "execute_result",
     "data": {
      "text/plain": [
       "num             0\n",
       "speaker         0\n",
       "contents        0\n",
       "tags        51927\n",
       "dtype: int64"
      ]
     },
     "metadata": {},
     "execution_count": 7
    }
   ],
   "metadata": {}
  },
  {
   "cell_type": "code",
   "execution_count": 8,
   "source": [
    "ddata.isna().sum()"
   ],
   "outputs": [
    {
     "output_type": "execute_result",
     "data": {
      "text/plain": [
       "num             0\n",
       "speaker         0\n",
       "contents        0\n",
       "tags        51927\n",
       "dtype: int64"
      ]
     },
     "metadata": {},
     "execution_count": 8
    }
   ],
   "metadata": {}
  },
  {
   "cell_type": "code",
   "execution_count": 9,
   "source": [
    "ddata.fillna(\"\", inplace=True)\n",
    "ddata.isna().sum()"
   ],
   "outputs": [
    {
     "output_type": "execute_result",
     "data": {
      "text/plain": [
       "num         0\n",
       "speaker     0\n",
       "contents    0\n",
       "tags        0\n",
       "dtype: int64"
      ]
     },
     "metadata": {},
     "execution_count": 9
    }
   ],
   "metadata": {}
  },
  {
   "cell_type": "code",
   "execution_count": 10,
   "source": [
    "mdata.isnull().sum()"
   ],
   "outputs": [
    {
     "output_type": "execute_result",
     "data": {
      "text/plain": [
       "id          0\n",
       "part        0\n",
       "category    0\n",
       "exptype     0\n",
       "exp         0\n",
       "dtype: int64"
      ]
     },
     "metadata": {},
     "execution_count": 10
    }
   ],
   "metadata": {}
  },
  {
   "cell_type": "code",
   "execution_count": 11,
   "source": [
    "c_mdata.isnull().sum()"
   ],
   "outputs": [
    {
     "output_type": "execute_result",
     "data": {
      "text/plain": [
       "id     0\n",
       "exp    0\n",
       "dtype: int64"
      ]
     },
     "metadata": {},
     "execution_count": 11
    }
   ],
   "metadata": {}
  },
  {
   "cell_type": "markdown",
   "source": [
    "# 4. 추천 성공 의상 아이디 종류 및 빈도 카운트 "
   ],
   "metadata": {}
  },
  {
   "cell_type": "markdown",
   "source": [
    "## 한 번에 추천해도 실패하면 전부 실패로 달기"
   ],
   "metadata": {}
  },
  {
   "cell_type": "code",
   "execution_count": 12,
   "source": [
    "c_data = pd.DataFrame({\"contents\":[None], \"id\":[\"xx-xxx\"]})\n",
    "c_data.drop(0,axis=0,inplace=True)\n",
    "c_data.head()"
   ],
   "outputs": [
    {
     "output_type": "execute_result",
     "data": {
      "text/html": [
       "<div>\n",
       "<style scoped>\n",
       "    .dataframe tbody tr th:only-of-type {\n",
       "        vertical-align: middle;\n",
       "    }\n",
       "\n",
       "    .dataframe tbody tr th {\n",
       "        vertical-align: top;\n",
       "    }\n",
       "\n",
       "    .dataframe thead th {\n",
       "        text-align: right;\n",
       "    }\n",
       "</style>\n",
       "<table border=\"1\" class=\"dataframe\">\n",
       "  <thead>\n",
       "    <tr style=\"text-align: right;\">\n",
       "      <th></th>\n",
       "      <th>contents</th>\n",
       "      <th>id</th>\n",
       "    </tr>\n",
       "  </thead>\n",
       "  <tbody>\n",
       "  </tbody>\n",
       "</table>\n",
       "</div>"
      ],
      "text/plain": [
       "Empty DataFrame\n",
       "Columns: [contents, id]\n",
       "Index: []"
      ]
     },
     "metadata": {},
     "execution_count": 12
    }
   ],
   "metadata": {}
  },
  {
   "cell_type": "markdown",
   "source": [
    "<코드 동작 원리>\n",
    "<br>\n",
    "\n",
    "대화문 하나씩 받아온 다음\n",
    "- AC 태그 문장이면 일단 의상 변수에 저장,\n",
    "- user_success 태그 문장이면\n",
    "\n",
    "   - 변수에 저장된 의상이 하나면\n",
    "\n",
    "      - 바로 대화문 변수랑 의상 변수 및 의상 메타데이터 합쳐서 저장 -> 레이블(id 컬럼에 저장)은 의상 코드가 됨\n",
    "\n",
    "   - 변수에 저장된 의상의 여러 개면\n",
    "\n",
    "      - 의상을 하나의 코드 단위로 쪼개서 대화문 변수랑 의상 메타데이터 합쳐서 저장\n",
    "      \n",
    "-  둘 다 아니고 일반 대화문이면 대화문 변수에 저장"
   ],
   "metadata": {}
  },
  {
   "cell_type": "code",
   "execution_count": 13,
   "source": [
    "dial = ddata.loc[0, \"contents\"].strip()\n",
    "ac = \"\"\n",
    "\n",
    "for i in range(1,len(ddata)):\n",
    "    cur_sen = ddata.loc[i,\"contents\"].strip()\n",
    "\n",
    "    if ddata.loc[i, \"num\"] > ddata.loc[i-1, \"num\"]: # 이전 대화셋에 포함된 문장인지 확인\n",
    "        \n",
    "        if ddata.loc[i,\"speaker\"] == \"<AC>\": # case 1. 의상 아이디가 나온 경우\n",
    "            if len(ac) > 1:\n",
    "                ac = ac + \" \" + cur_sen # 의상 아이디 저장\n",
    "            else:\n",
    "                ac = cur_sen\n",
    "\n",
    "        elif \"USER_SUCCESS\" == ddata.loc[i,\"tags\"]: # case 2. USER_SUCCESS 태그가 나온 경우\n",
    "            if 0 < len(ac) < 7: # 의상을 하나만 추천한 경우\n",
    "                dial = dial + \" \" + ac + \" \" + cur_sen\n",
    "                c_data.loc[i, \"contents\"] =  dial + \" \" + c_mdata.loc[c_mdata.id == ac].exp.values[0]\n",
    "                c_data.loc[i, \"id\"] = ac\n",
    "                ac = \"\"\n",
    "\n",
    "            elif len(ac) == 0:\n",
    "                dial = dial + \" \" + cur_sen\n",
    "\n",
    "            else: # 의상을 한 번에 여러 개 추천한 경우\n",
    "                idx_cnt = 0\n",
    "                for one_ac in ac.split():\n",
    "                    c_data.loc[i + idx_cnt, \"contents\"] =  dial + \" \" + one_ac + \" \"+ cur_sen + \" \" + c_mdata.loc[c_mdata.id == one_ac].exp.values[0]\n",
    "                    c_data.loc[i + idx_cnt, \"id\"] = one_ac\n",
    "                    idx_cnt += 1\n",
    "                dial = dial + \" \" + ac + \" \" + cur_sen    \n",
    "                ac = \"\"\n",
    "        \n",
    "        elif \"USER_FAIL\" in ddata.loc[i,\"tags\"]:\n",
    "            dial = dial + \" \" + ac + \" \" + cur_sen\n",
    "            ac = \"\"\n",
    "\n",
    "        else: # case 3. 그냥 대화문인 경우\n",
    "            dial = dial + \" \" + cur_sen\n",
    "    \n",
    "    else: #새로운 대화셋 시작이면 초기화\n",
    "        dial = cur_sen\n",
    "        ac = \"\""
   ],
   "outputs": [],
   "metadata": {}
  },
  {
   "cell_type": "code",
   "execution_count": 14,
   "source": [
    "print(\"전체 데이터 수: \", len(c_data))\n",
    "c_data.head()"
   ],
   "outputs": [
    {
     "output_type": "stream",
     "name": "stdout",
     "text": [
      "전체 데이터 수:  34303\n"
     ]
    },
    {
     "output_type": "execute_result",
     "data": {
      "text/html": [
       "<div>\n",
       "<style scoped>\n",
       "    .dataframe tbody tr th:only-of-type {\n",
       "        vertical-align: middle;\n",
       "    }\n",
       "\n",
       "    .dataframe tbody tr th {\n",
       "        vertical-align: top;\n",
       "    }\n",
       "\n",
       "    .dataframe thead th {\n",
       "        text-align: right;\n",
       "    }\n",
       "</style>\n",
       "<table border=\"1\" class=\"dataframe\">\n",
       "  <thead>\n",
       "    <tr style=\"text-align: right;\">\n",
       "      <th></th>\n",
       "      <th>contents</th>\n",
       "      <th>id</th>\n",
       "    </tr>\n",
       "  </thead>\n",
       "  <tbody>\n",
       "    <tr>\n",
       "      <th>3</th>\n",
       "      <td>처음 대학교 들어가는데 입을 옷 코디해주세요. 신입생 코디에 어울리게 화사한 스웨터...</td>\n",
       "      <td>SW-009</td>\n",
       "    </tr>\n",
       "    <tr>\n",
       "      <th>12</th>\n",
       "      <td>처음 대학교 들어가는데 입을 옷 코디해주세요. 신입생 코디에 어울리게 화사한 스웨터...</td>\n",
       "      <td>SK-053</td>\n",
       "    </tr>\n",
       "    <tr>\n",
       "      <th>17</th>\n",
       "      <td>처음 대학교 들어가는데 입을 옷 코디해주세요. 신입생 코디에 어울리게 화사한 스웨터...</td>\n",
       "      <td>CT-019</td>\n",
       "    </tr>\n",
       "    <tr>\n",
       "      <th>22</th>\n",
       "      <td>처음 대학교 들어가는데 입을 옷 코디해주세요. 신입생 코디에 어울리게 화사한 스웨터...</td>\n",
       "      <td>SE-039</td>\n",
       "    </tr>\n",
       "    <tr>\n",
       "      <th>26</th>\n",
       "      <td>처음 대학교 들어가는데 입을 옷 코디해주세요. 신입생 코디에 어울리게 화사한 스웨터...</td>\n",
       "      <td>CT-019</td>\n",
       "    </tr>\n",
       "  </tbody>\n",
       "</table>\n",
       "</div>"
      ],
      "text/plain": [
       "                                             contents      id\n",
       "3   처음 대학교 들어가는데 입을 옷 코디해주세요. 신입생 코디에 어울리게 화사한 스웨터...  SW-009\n",
       "12  처음 대학교 들어가는데 입을 옷 코디해주세요. 신입생 코디에 어울리게 화사한 스웨터...  SK-053\n",
       "17  처음 대학교 들어가는데 입을 옷 코디해주세요. 신입생 코디에 어울리게 화사한 스웨터...  CT-019\n",
       "22  처음 대학교 들어가는데 입을 옷 코디해주세요. 신입생 코디에 어울리게 화사한 스웨터...  SE-039\n",
       "26  처음 대학교 들어가는데 입을 옷 코디해주세요. 신입생 코디에 어울리게 화사한 스웨터...  CT-019"
      ]
     },
     "metadata": {},
     "execution_count": 14
    }
   ],
   "metadata": {}
  },
  {
   "cell_type": "code",
   "execution_count": 15,
   "source": [
    "c_data.reset_index(drop=True ,inplace=True)\n",
    "c_data.head()"
   ],
   "outputs": [
    {
     "output_type": "execute_result",
     "data": {
      "text/html": [
       "<div>\n",
       "<style scoped>\n",
       "    .dataframe tbody tr th:only-of-type {\n",
       "        vertical-align: middle;\n",
       "    }\n",
       "\n",
       "    .dataframe tbody tr th {\n",
       "        vertical-align: top;\n",
       "    }\n",
       "\n",
       "    .dataframe thead th {\n",
       "        text-align: right;\n",
       "    }\n",
       "</style>\n",
       "<table border=\"1\" class=\"dataframe\">\n",
       "  <thead>\n",
       "    <tr style=\"text-align: right;\">\n",
       "      <th></th>\n",
       "      <th>contents</th>\n",
       "      <th>id</th>\n",
       "    </tr>\n",
       "  </thead>\n",
       "  <tbody>\n",
       "    <tr>\n",
       "      <th>0</th>\n",
       "      <td>처음 대학교 들어가는데 입을 옷 코디해주세요. 신입생 코디에 어울리게 화사한 스웨터...</td>\n",
       "      <td>SW-009</td>\n",
       "    </tr>\n",
       "    <tr>\n",
       "      <th>1</th>\n",
       "      <td>처음 대학교 들어가는데 입을 옷 코디해주세요. 신입생 코디에 어울리게 화사한 스웨터...</td>\n",
       "      <td>SK-053</td>\n",
       "    </tr>\n",
       "    <tr>\n",
       "      <th>2</th>\n",
       "      <td>처음 대학교 들어가는데 입을 옷 코디해주세요. 신입생 코디에 어울리게 화사한 스웨터...</td>\n",
       "      <td>CT-019</td>\n",
       "    </tr>\n",
       "    <tr>\n",
       "      <th>3</th>\n",
       "      <td>처음 대학교 들어가는데 입을 옷 코디해주세요. 신입생 코디에 어울리게 화사한 스웨터...</td>\n",
       "      <td>SE-039</td>\n",
       "    </tr>\n",
       "    <tr>\n",
       "      <th>4</th>\n",
       "      <td>처음 대학교 들어가는데 입을 옷 코디해주세요. 신입생 코디에 어울리게 화사한 스웨터...</td>\n",
       "      <td>CT-019</td>\n",
       "    </tr>\n",
       "  </tbody>\n",
       "</table>\n",
       "</div>"
      ],
      "text/plain": [
       "                                            contents      id\n",
       "0  처음 대학교 들어가는데 입을 옷 코디해주세요. 신입생 코디에 어울리게 화사한 스웨터...  SW-009\n",
       "1  처음 대학교 들어가는데 입을 옷 코디해주세요. 신입생 코디에 어울리게 화사한 스웨터...  SK-053\n",
       "2  처음 대학교 들어가는데 입을 옷 코디해주세요. 신입생 코디에 어울리게 화사한 스웨터...  CT-019\n",
       "3  처음 대학교 들어가는데 입을 옷 코디해주세요. 신입생 코디에 어울리게 화사한 스웨터...  SE-039\n",
       "4  처음 대학교 들어가는데 입을 옷 코디해주세요. 신입생 코디에 어울리게 화사한 스웨터...  CT-019"
      ]
     },
     "metadata": {},
     "execution_count": 15
    }
   ],
   "metadata": {}
  },
  {
   "cell_type": "code",
   "execution_count": 16,
   "source": [
    "c_data.loc[0].contents"
   ],
   "outputs": [
    {
     "output_type": "execute_result",
     "data": {
      "text/plain": [
       "'처음 대학교 들어가는데 입을 옷 코디해주세요. 신입생 코디에 어울리게 화사한 스웨터를 추천해드릴게요. SW-009 이 옷에 어울리는 치마로 추천해주세요. 라운드 네크라인 여밈이 없는 풀오버 스타일 전체 케이블 조직 드롭숄더 슬리브 손등까지 오는 길이의 소매 몸에 적당히 맞는 품 엉덩이를 살짝 덮는 길이 네크라인, 소매 끝, 밑단에 고무단 처리 레이온52%,나일론20%,폴리에스터28% 꽈배기 조직, 플레인 조직이 섞여 있는 형태 드라이 크리닝 단색의 라임색 브라이트톤(고명도 고채도)의 옐로우 그린 산뜻하고 발랄한 느낌 기본의 단정한 편안한 산뜻한 발랄한 경쾌한 따뜻한 데일리룩 캠퍼스룩'"
      ]
     },
     "metadata": {},
     "execution_count": 16
    }
   ],
   "metadata": {}
  },
  {
   "cell_type": "code",
   "execution_count": 17,
   "source": [
    "jp_data = pd.DataFrame({\"contents\":[None], \"id\":[\"xx-xxx\"]})\n",
    "jp_data.drop(0,axis=0,inplace=True)\n",
    "jp_data.head()"
   ],
   "outputs": [
    {
     "output_type": "execute_result",
     "data": {
      "text/html": [
       "<div>\n",
       "<style scoped>\n",
       "    .dataframe tbody tr th:only-of-type {\n",
       "        vertical-align: middle;\n",
       "    }\n",
       "\n",
       "    .dataframe tbody tr th {\n",
       "        vertical-align: top;\n",
       "    }\n",
       "\n",
       "    .dataframe thead th {\n",
       "        text-align: right;\n",
       "    }\n",
       "</style>\n",
       "<table border=\"1\" class=\"dataframe\">\n",
       "  <thead>\n",
       "    <tr style=\"text-align: right;\">\n",
       "      <th></th>\n",
       "      <th>contents</th>\n",
       "      <th>id</th>\n",
       "    </tr>\n",
       "  </thead>\n",
       "  <tbody>\n",
       "  </tbody>\n",
       "</table>\n",
       "</div>"
      ],
      "text/plain": [
       "Empty DataFrame\n",
       "Columns: [contents, id]\n",
       "Index: []"
      ]
     },
     "metadata": {},
     "execution_count": 17
    }
   ],
   "metadata": {}
  },
  {
   "cell_type": "code",
   "execution_count": 18,
   "source": [
    "for i in range(len(c_data)):\n",
    "    if \"JP\" in c_data[\"id\"][i][0:2]:\n",
    "        jp_data = jp_data.append(c_data.iloc[i])\n",
    "\n",
    "jp_data.reset_index(drop=True, inplace=True)\n",
    "print(\"데이터 개수\",len(jp_data))\n",
    "jp_data.head()"
   ],
   "outputs": [
    {
     "output_type": "stream",
     "name": "stdout",
     "text": [
      "데이터 개수 1826\n"
     ]
    },
    {
     "output_type": "execute_result",
     "data": {
      "text/html": [
       "<div>\n",
       "<style scoped>\n",
       "    .dataframe tbody tr th:only-of-type {\n",
       "        vertical-align: middle;\n",
       "    }\n",
       "\n",
       "    .dataframe tbody tr th {\n",
       "        vertical-align: top;\n",
       "    }\n",
       "\n",
       "    .dataframe thead th {\n",
       "        text-align: right;\n",
       "    }\n",
       "</style>\n",
       "<table border=\"1\" class=\"dataframe\">\n",
       "  <thead>\n",
       "    <tr style=\"text-align: right;\">\n",
       "      <th></th>\n",
       "      <th>contents</th>\n",
       "      <th>id</th>\n",
       "    </tr>\n",
       "  </thead>\n",
       "  <tbody>\n",
       "    <tr>\n",
       "      <th>0</th>\n",
       "      <td>동아리에서 엠티를 가는데 옷이 필요해요. 코디좀 부탁드려요. 활동성 좋은 옷들로 구...</td>\n",
       "      <td>JP-047</td>\n",
       "    </tr>\n",
       "    <tr>\n",
       "      <th>1</th>\n",
       "      <td>야외에서 자전거타려고 하는 데 활동성 좋은 복장 추천해주세요. 요즘 같이 낮에는 기...</td>\n",
       "      <td>JP-074</td>\n",
       "    </tr>\n",
       "    <tr>\n",
       "      <th>2</th>\n",
       "      <td>주말에 남자친구랑 놀이동산 가려고 하는데 코디 추천해주세요. 야외에서 활동하기에 부...</td>\n",
       "      <td>JP-062</td>\n",
       "    </tr>\n",
       "    <tr>\n",
       "      <th>3</th>\n",
       "      <td>너무 더워서 밤에 한강에 피서 가려고 하는데 입을만한 시원하고 편한 옷 추천해주세요...</td>\n",
       "      <td>JP-072</td>\n",
       "    </tr>\n",
       "    <tr>\n",
       "      <th>4</th>\n",
       "      <td>비가 쏟아지는데 아르바이트를 가야하네요. 코디 좀 추천해주세요. 장마철에는 안에는 ...</td>\n",
       "      <td>JP-074</td>\n",
       "    </tr>\n",
       "  </tbody>\n",
       "</table>\n",
       "</div>"
      ],
      "text/plain": [
       "                                            contents      id\n",
       "0  동아리에서 엠티를 가는데 옷이 필요해요. 코디좀 부탁드려요. 활동성 좋은 옷들로 구...  JP-047\n",
       "1  야외에서 자전거타려고 하는 데 활동성 좋은 복장 추천해주세요. 요즘 같이 낮에는 기...  JP-074\n",
       "2  주말에 남자친구랑 놀이동산 가려고 하는데 코디 추천해주세요. 야외에서 활동하기에 부...  JP-062\n",
       "3  너무 더워서 밤에 한강에 피서 가려고 하는데 입을만한 시원하고 편한 옷 추천해주세요...  JP-072\n",
       "4  비가 쏟아지는데 아르바이트를 가야하네요. 코디 좀 추천해주세요. 장마철에는 안에는 ...  JP-074"
      ]
     },
     "metadata": {},
     "execution_count": 18
    }
   ],
   "metadata": {}
  },
  {
   "cell_type": "code",
   "execution_count": 19,
   "source": [
    "jp_data[\"contents\"] = jp_data[\"contents\"].str.replace(\"[^A-Za-z0-9ㄱ-ㅎㅏ-ㅣ가-힣 ]\",\"\")\n",
    "jp_data.head()"
   ],
   "outputs": [
    {
     "output_type": "stream",
     "name": "stderr",
     "text": [
      "<ipython-input-19-4877bdb2a833>:1: FutureWarning: The default value of regex will change from True to False in a future version.\n",
      "  jp_data[\"contents\"] = jp_data[\"contents\"].str.replace(\"[^A-Za-z0-9ㄱ-ㅎㅏ-ㅣ가-힣 ]\",\"\")\n"
     ]
    },
    {
     "output_type": "execute_result",
     "data": {
      "text/html": [
       "<div>\n",
       "<style scoped>\n",
       "    .dataframe tbody tr th:only-of-type {\n",
       "        vertical-align: middle;\n",
       "    }\n",
       "\n",
       "    .dataframe tbody tr th {\n",
       "        vertical-align: top;\n",
       "    }\n",
       "\n",
       "    .dataframe thead th {\n",
       "        text-align: right;\n",
       "    }\n",
       "</style>\n",
       "<table border=\"1\" class=\"dataframe\">\n",
       "  <thead>\n",
       "    <tr style=\"text-align: right;\">\n",
       "      <th></th>\n",
       "      <th>contents</th>\n",
       "      <th>id</th>\n",
       "    </tr>\n",
       "  </thead>\n",
       "  <tbody>\n",
       "    <tr>\n",
       "      <th>0</th>\n",
       "      <td>동아리에서 엠티를 가는데 옷이 필요해요 코디좀 부탁드려요 활동성 좋은 옷들로 구성된...</td>\n",
       "      <td>JP-047</td>\n",
       "    </tr>\n",
       "    <tr>\n",
       "      <th>1</th>\n",
       "      <td>야외에서 자전거타려고 하는 데 활동성 좋은 복장 추천해주세요 요즘 같이 낮에는 기온...</td>\n",
       "      <td>JP-074</td>\n",
       "    </tr>\n",
       "    <tr>\n",
       "      <th>2</th>\n",
       "      <td>주말에 남자친구랑 놀이동산 가려고 하는데 코디 추천해주세요 야외에서 활동하기에 부담...</td>\n",
       "      <td>JP-062</td>\n",
       "    </tr>\n",
       "    <tr>\n",
       "      <th>3</th>\n",
       "      <td>너무 더워서 밤에 한강에 피서 가려고 하는데 입을만한 시원하고 편한 옷 추천해주세요...</td>\n",
       "      <td>JP-072</td>\n",
       "    </tr>\n",
       "    <tr>\n",
       "      <th>4</th>\n",
       "      <td>비가 쏟아지는데 아르바이트를 가야하네요 코디 좀 추천해주세요 장마철에는 안에는 얇게...</td>\n",
       "      <td>JP-074</td>\n",
       "    </tr>\n",
       "  </tbody>\n",
       "</table>\n",
       "</div>"
      ],
      "text/plain": [
       "                                            contents      id\n",
       "0  동아리에서 엠티를 가는데 옷이 필요해요 코디좀 부탁드려요 활동성 좋은 옷들로 구성된...  JP-047\n",
       "1  야외에서 자전거타려고 하는 데 활동성 좋은 복장 추천해주세요 요즘 같이 낮에는 기온...  JP-074\n",
       "2  주말에 남자친구랑 놀이동산 가려고 하는데 코디 추천해주세요 야외에서 활동하기에 부담...  JP-062\n",
       "3  너무 더워서 밤에 한강에 피서 가려고 하는데 입을만한 시원하고 편한 옷 추천해주세요...  JP-072\n",
       "4  비가 쏟아지는데 아르바이트를 가야하네요 코디 좀 추천해주세요 장마철에는 안에는 얇게...  JP-074"
      ]
     },
     "metadata": {},
     "execution_count": 19
    }
   ],
   "metadata": {}
  },
  {
   "cell_type": "code",
   "execution_count": 20,
   "source": [
    "jp_data[\"id\"] = jp_data[\"id\"].str.replace(\"[^0-9]\",\"\")\n",
    "\n",
    "jp_data.head()"
   ],
   "outputs": [
    {
     "output_type": "stream",
     "name": "stderr",
     "text": [
      "<ipython-input-20-36851d9eacc4>:1: FutureWarning: The default value of regex will change from True to False in a future version.\n",
      "  jp_data[\"id\"] = jp_data[\"id\"].str.replace(\"[^0-9]\",\"\")\n"
     ]
    },
    {
     "output_type": "execute_result",
     "data": {
      "text/html": [
       "<div>\n",
       "<style scoped>\n",
       "    .dataframe tbody tr th:only-of-type {\n",
       "        vertical-align: middle;\n",
       "    }\n",
       "\n",
       "    .dataframe tbody tr th {\n",
       "        vertical-align: top;\n",
       "    }\n",
       "\n",
       "    .dataframe thead th {\n",
       "        text-align: right;\n",
       "    }\n",
       "</style>\n",
       "<table border=\"1\" class=\"dataframe\">\n",
       "  <thead>\n",
       "    <tr style=\"text-align: right;\">\n",
       "      <th></th>\n",
       "      <th>contents</th>\n",
       "      <th>id</th>\n",
       "    </tr>\n",
       "  </thead>\n",
       "  <tbody>\n",
       "    <tr>\n",
       "      <th>0</th>\n",
       "      <td>동아리에서 엠티를 가는데 옷이 필요해요 코디좀 부탁드려요 활동성 좋은 옷들로 구성된...</td>\n",
       "      <td>047</td>\n",
       "    </tr>\n",
       "    <tr>\n",
       "      <th>1</th>\n",
       "      <td>야외에서 자전거타려고 하는 데 활동성 좋은 복장 추천해주세요 요즘 같이 낮에는 기온...</td>\n",
       "      <td>074</td>\n",
       "    </tr>\n",
       "    <tr>\n",
       "      <th>2</th>\n",
       "      <td>주말에 남자친구랑 놀이동산 가려고 하는데 코디 추천해주세요 야외에서 활동하기에 부담...</td>\n",
       "      <td>062</td>\n",
       "    </tr>\n",
       "    <tr>\n",
       "      <th>3</th>\n",
       "      <td>너무 더워서 밤에 한강에 피서 가려고 하는데 입을만한 시원하고 편한 옷 추천해주세요...</td>\n",
       "      <td>072</td>\n",
       "    </tr>\n",
       "    <tr>\n",
       "      <th>4</th>\n",
       "      <td>비가 쏟아지는데 아르바이트를 가야하네요 코디 좀 추천해주세요 장마철에는 안에는 얇게...</td>\n",
       "      <td>074</td>\n",
       "    </tr>\n",
       "  </tbody>\n",
       "</table>\n",
       "</div>"
      ],
      "text/plain": [
       "                                            contents   id\n",
       "0  동아리에서 엠티를 가는데 옷이 필요해요 코디좀 부탁드려요 활동성 좋은 옷들로 구성된...  047\n",
       "1  야외에서 자전거타려고 하는 데 활동성 좋은 복장 추천해주세요 요즘 같이 낮에는 기온...  074\n",
       "2  주말에 남자친구랑 놀이동산 가려고 하는데 코디 추천해주세요 야외에서 활동하기에 부담...  062\n",
       "3  너무 더워서 밤에 한강에 피서 가려고 하는데 입을만한 시원하고 편한 옷 추천해주세요...  072\n",
       "4  비가 쏟아지는데 아르바이트를 가야하네요 코디 좀 추천해주세요 장마철에는 안에는 얇게...  074"
      ]
     },
     "metadata": {},
     "execution_count": 20
    }
   ],
   "metadata": {}
  },
  {
   "cell_type": "code",
   "execution_count": 21,
   "source": [
    "from collections import Counter\n",
    "temp = jp_data[\"id\"].tolist()\n",
    "type_count = dict(Counter(temp))\n",
    "type_count"
   ],
   "outputs": [
    {
     "output_type": "execute_result",
     "data": {
      "text/plain": [
       "{'047': 12,\n",
       " '074': 26,\n",
       " '062': 10,\n",
       " '072': 11,\n",
       " '056': 7,\n",
       " '055': 9,\n",
       " '008': 14,\n",
       " '051': 19,\n",
       " '015': 34,\n",
       " '095': 39,\n",
       " '024': 3,\n",
       " '076': 7,\n",
       " '100': 4,\n",
       " '091': 28,\n",
       " '045': 2,\n",
       " '084': 2,\n",
       " '014': 5,\n",
       " '054': 17,\n",
       " '049': 3,\n",
       " '016': 15,\n",
       " '009': 17,\n",
       " '097': 59,\n",
       " '019': 8,\n",
       " '021': 13,\n",
       " '036': 11,\n",
       " '094': 70,\n",
       " '038': 14,\n",
       " '033': 2,\n",
       " '004': 45,\n",
       " '006': 32,\n",
       " '034': 7,\n",
       " '018': 4,\n",
       " '052': 12,\n",
       " '070': 5,\n",
       " '011': 10,\n",
       " '061': 11,\n",
       " '098': 19,\n",
       " '053': 14,\n",
       " '092': 5,\n",
       " '089': 37,\n",
       " '058': 4,\n",
       " '079': 1,\n",
       " '048': 3,\n",
       " '093': 8,\n",
       " '023': 2,\n",
       " '010': 4,\n",
       " '096': 35,\n",
       " '042': 14,\n",
       " '075': 11,\n",
       " '087': 11,\n",
       " '088': 19,\n",
       " '063': 8,\n",
       " '057': 7,\n",
       " '043': 3,\n",
       " '041': 7,\n",
       " '013': 19,\n",
       " '073': 2,\n",
       " '085': 6,\n",
       " '060': 1,\n",
       " '017': 6,\n",
       " '099': 8,\n",
       " '001': 5,\n",
       " '080': 2,\n",
       " '050': 13,\n",
       " '028': 8,\n",
       " '046': 9,\n",
       " '037': 7,\n",
       " '067': 8,\n",
       " '090': 11,\n",
       " '031': 12,\n",
       " '082': 2,\n",
       " '083': 4,\n",
       " '005': 13,\n",
       " '032': 12,\n",
       " '027': 6,\n",
       " '081': 2,\n",
       " '066': 5,\n",
       " '022': 1,\n",
       " '003': 2,\n",
       " '086': 10,\n",
       " '068': 1,\n",
       " '002': 8,\n",
       " '030': 7,\n",
       " '025': 5,\n",
       " '044': 1,\n",
       " '190': 39,\n",
       " '127': 15,\n",
       " '139': 3,\n",
       " '174': 2,\n",
       " '188': 21,\n",
       " '130': 58,\n",
       " '199': 3,\n",
       " '143': 9,\n",
       " '007': 5,\n",
       " '119': 16,\n",
       " '116': 8,\n",
       " '059': 5,\n",
       " '133': 9,\n",
       " '137': 7,\n",
       " '107': 3,\n",
       " '181': 4,\n",
       " '170': 5,\n",
       " '104': 15,\n",
       " '183': 6,\n",
       " '131': 20,\n",
       " '120': 14,\n",
       " '155': 5,\n",
       " '126': 12,\n",
       " '134': 5,\n",
       " '171': 1,\n",
       " '193': 21,\n",
       " '142': 5,\n",
       " '148': 5,\n",
       " '150': 4,\n",
       " '129': 11,\n",
       " '145': 8,\n",
       " '189': 16,\n",
       " '197': 3,\n",
       " '144': 10,\n",
       " '192': 5,\n",
       " '111': 15,\n",
       " '146': 2,\n",
       " '103': 3,\n",
       " '106': 8,\n",
       " '102': 6,\n",
       " '124': 19,\n",
       " '132': 1,\n",
       " '152': 5,\n",
       " '122': 7,\n",
       " '109': 1,\n",
       " '135': 9,\n",
       " '153': 2,\n",
       " '166': 3,\n",
       " '077': 3,\n",
       " '194': 12,\n",
       " '163': 2,\n",
       " '187': 6,\n",
       " '141': 3,\n",
       " '179': 2,\n",
       " '176': 4,\n",
       " '123': 6,\n",
       " '151': 5,\n",
       " '105': 7,\n",
       " '185': 10,\n",
       " '117': 3,\n",
       " '191': 5,\n",
       " '167': 3,\n",
       " '029': 1,\n",
       " '026': 2,\n",
       " '114': 11,\n",
       " '177': 3,\n",
       " '112': 6,\n",
       " '149': 10,\n",
       " '172': 1,\n",
       " '157': 5,\n",
       " '064': 3,\n",
       " '158': 5,\n",
       " '168': 7,\n",
       " '065': 2,\n",
       " '154': 3,\n",
       " '110': 5,\n",
       " '071': 3,\n",
       " '128': 2,\n",
       " '136': 2,\n",
       " '160': 5,\n",
       " '175': 2,\n",
       " '200': 8,\n",
       " '186': 1,\n",
       " '198': 5,\n",
       " '113': 2,\n",
       " '227': 5,\n",
       " '249': 9,\n",
       " '253': 2,\n",
       " '246': 15,\n",
       " '251': 10,\n",
       " '222': 2,\n",
       " '225': 6,\n",
       " '241': 2,\n",
       " '173': 2,\n",
       " '233': 4,\n",
       " '201': 2,\n",
       " '266': 4,\n",
       " '229': 4,\n",
       " '248': 10,\n",
       " '235': 5,\n",
       " '208': 1,\n",
       " '231': 5,\n",
       " '211': 2,\n",
       " '238': 4,\n",
       " '234': 3,\n",
       " '268': 2,\n",
       " '196': 7,\n",
       " '270': 1,\n",
       " '228': 1,\n",
       " '162': 3,\n",
       " '207': 1,\n",
       " '244': 8,\n",
       " '245': 3,\n",
       " '258': 9,\n",
       " '265': 1,\n",
       " '243': 5,\n",
       " '257': 4,\n",
       " '250': 9,\n",
       " '147': 2,\n",
       " '213': 1,\n",
       " '236': 3,\n",
       " '255': 3,\n",
       " '226': 1,\n",
       " '115': 4,\n",
       " '182': 3,\n",
       " '260': 3,\n",
       " '223': 1,\n",
       " '202': 2,\n",
       " '035': 1,\n",
       " '217': 2,\n",
       " '212': 2,\n",
       " '156': 2,\n",
       " '161': 2,\n",
       " '274': 1,\n",
       " '277': 2,\n",
       " '040': 2,\n",
       " '276': 2,\n",
       " '216': 2,\n",
       " '247': 4,\n",
       " '210': 1,\n",
       " '272': 1,\n",
       " '078': 2,\n",
       " '239': 1,\n",
       " '263': 2,\n",
       " '180': 2,\n",
       " '224': 2}"
      ]
     },
     "metadata": {},
     "execution_count": 21
    }
   ],
   "metadata": {}
  },
  {
   "cell_type": "code",
   "execution_count": 22,
   "source": [
    "len(type_count)"
   ],
   "outputs": [
    {
     "output_type": "execute_result",
     "data": {
      "text/plain": [
       "231"
      ]
     },
     "metadata": {},
     "execution_count": 22
    }
   ],
   "metadata": {}
  },
  {
   "cell_type": "code",
   "execution_count": 23,
   "source": [
    "del_list = []\n",
    "for i in type_count.keys():\n",
    "    if type_count.get(i) == 1:\n",
    "        del_list.append(i)\n",
    "del_list"
   ],
   "outputs": [
    {
     "output_type": "execute_result",
     "data": {
      "text/plain": [
       "['079',\n",
       " '060',\n",
       " '022',\n",
       " '068',\n",
       " '044',\n",
       " '171',\n",
       " '132',\n",
       " '109',\n",
       " '029',\n",
       " '172',\n",
       " '186',\n",
       " '208',\n",
       " '270',\n",
       " '228',\n",
       " '207',\n",
       " '265',\n",
       " '213',\n",
       " '226',\n",
       " '223',\n",
       " '035',\n",
       " '274',\n",
       " '210',\n",
       " '272',\n",
       " '239']"
      ]
     },
     "metadata": {},
     "execution_count": 23
    }
   ],
   "metadata": {}
  },
  {
   "cell_type": "code",
   "execution_count": 24,
   "source": [
    "jp_data.head()"
   ],
   "outputs": [
    {
     "output_type": "execute_result",
     "data": {
      "text/html": [
       "<div>\n",
       "<style scoped>\n",
       "    .dataframe tbody tr th:only-of-type {\n",
       "        vertical-align: middle;\n",
       "    }\n",
       "\n",
       "    .dataframe tbody tr th {\n",
       "        vertical-align: top;\n",
       "    }\n",
       "\n",
       "    .dataframe thead th {\n",
       "        text-align: right;\n",
       "    }\n",
       "</style>\n",
       "<table border=\"1\" class=\"dataframe\">\n",
       "  <thead>\n",
       "    <tr style=\"text-align: right;\">\n",
       "      <th></th>\n",
       "      <th>contents</th>\n",
       "      <th>id</th>\n",
       "    </tr>\n",
       "  </thead>\n",
       "  <tbody>\n",
       "    <tr>\n",
       "      <th>0</th>\n",
       "      <td>동아리에서 엠티를 가는데 옷이 필요해요 코디좀 부탁드려요 활동성 좋은 옷들로 구성된...</td>\n",
       "      <td>047</td>\n",
       "    </tr>\n",
       "    <tr>\n",
       "      <th>1</th>\n",
       "      <td>야외에서 자전거타려고 하는 데 활동성 좋은 복장 추천해주세요 요즘 같이 낮에는 기온...</td>\n",
       "      <td>074</td>\n",
       "    </tr>\n",
       "    <tr>\n",
       "      <th>2</th>\n",
       "      <td>주말에 남자친구랑 놀이동산 가려고 하는데 코디 추천해주세요 야외에서 활동하기에 부담...</td>\n",
       "      <td>062</td>\n",
       "    </tr>\n",
       "    <tr>\n",
       "      <th>3</th>\n",
       "      <td>너무 더워서 밤에 한강에 피서 가려고 하는데 입을만한 시원하고 편한 옷 추천해주세요...</td>\n",
       "      <td>072</td>\n",
       "    </tr>\n",
       "    <tr>\n",
       "      <th>4</th>\n",
       "      <td>비가 쏟아지는데 아르바이트를 가야하네요 코디 좀 추천해주세요 장마철에는 안에는 얇게...</td>\n",
       "      <td>074</td>\n",
       "    </tr>\n",
       "  </tbody>\n",
       "</table>\n",
       "</div>"
      ],
      "text/plain": [
       "                                            contents   id\n",
       "0  동아리에서 엠티를 가는데 옷이 필요해요 코디좀 부탁드려요 활동성 좋은 옷들로 구성된...  047\n",
       "1  야외에서 자전거타려고 하는 데 활동성 좋은 복장 추천해주세요 요즘 같이 낮에는 기온...  074\n",
       "2  주말에 남자친구랑 놀이동산 가려고 하는데 코디 추천해주세요 야외에서 활동하기에 부담...  062\n",
       "3  너무 더워서 밤에 한강에 피서 가려고 하는데 입을만한 시원하고 편한 옷 추천해주세요...  072\n",
       "4  비가 쏟아지는데 아르바이트를 가야하네요 코디 좀 추천해주세요 장마철에는 안에는 얇게...  074"
      ]
     },
     "metadata": {},
     "execution_count": 24
    }
   ],
   "metadata": {}
  },
  {
   "cell_type": "code",
   "execution_count": 25,
   "source": [
    "for i in del_list:\n",
    "    jp_data = jp_data[jp_data[\"id\"] != i]"
   ],
   "outputs": [],
   "metadata": {}
  },
  {
   "cell_type": "code",
   "execution_count": 26,
   "source": [
    "len(jp_data)"
   ],
   "outputs": [
    {
     "output_type": "execute_result",
     "data": {
      "text/plain": [
       "1802"
      ]
     },
     "metadata": {},
     "execution_count": 26
    }
   ],
   "metadata": {}
  },
  {
   "cell_type": "code",
   "execution_count": 27,
   "source": [
    "jp_data.reset_index(drop=True, inplace=True)"
   ],
   "outputs": [],
   "metadata": {}
  },
  {
   "cell_type": "code",
   "execution_count": 28,
   "source": [
    "import matplotlib.pyplot as plt\n",
    "plt.bar(Counter(jp_data.id).keys(),Counter(jp_data.id).values(), color='k')"
   ],
   "outputs": [
    {
     "output_type": "execute_result",
     "data": {
      "text/plain": [
       "<BarContainer object of 207 artists>"
      ]
     },
     "metadata": {},
     "execution_count": 28
    }
   ],
   "metadata": {}
  },
  {
   "cell_type": "markdown",
   "source": [
    "# 5. 형태소 분석"
   ],
   "metadata": {}
  },
  {
   "cell_type": "markdown",
   "source": [
    "## Mecab 사용"
   ],
   "metadata": {}
  },
  {
   "cell_type": "code",
   "execution_count": 29,
   "source": [
    "from konlpy.tag import Mecab\n",
    "mecab = Mecab()"
   ],
   "outputs": [],
   "metadata": {}
  },
  {
   "cell_type": "code",
   "execution_count": 30,
   "source": [
    "mecab.morphs(jp_data[\"contents\"][0])"
   ],
   "outputs": [
    {
     "output_type": "execute_result",
     "data": {
      "text/plain": [
       "['동아리',\n",
       " '에서',\n",
       " '엠티',\n",
       " '를',\n",
       " '가',\n",
       " '는데',\n",
       " '옷',\n",
       " '이',\n",
       " '필요',\n",
       " '해요',\n",
       " '코디',\n",
       " '좀',\n",
       " '부탁',\n",
       " '드려요',\n",
       " '활동',\n",
       " '성',\n",
       " '좋',\n",
       " '은',\n",
       " '옷',\n",
       " '들',\n",
       " '로',\n",
       " '구성',\n",
       " '된',\n",
       " '코디',\n",
       " '입니다',\n",
       " 'CT',\n",
       " '060',\n",
       " 'KN',\n",
       " '090',\n",
       " 'PT',\n",
       " '033',\n",
       " 'SE',\n",
       " '032',\n",
       " '바지',\n",
       " '가',\n",
       " '맘',\n",
       " '에',\n",
       " '들',\n",
       " '지',\n",
       " '않',\n",
       " '아요',\n",
       " '바지',\n",
       " '바꿔',\n",
       " '주',\n",
       " '세요',\n",
       " '원',\n",
       " '하',\n",
       " '는',\n",
       " '색상',\n",
       " '이나',\n",
       " '스타일',\n",
       " '이',\n",
       " '있',\n",
       " '으신',\n",
       " '가요',\n",
       " '어두운',\n",
       " '계열',\n",
       " '로',\n",
       " '추천',\n",
       " '해',\n",
       " '주',\n",
       " '세요',\n",
       " '엠티',\n",
       " '에',\n",
       " '가',\n",
       " '면',\n",
       " '활동',\n",
       " '적',\n",
       " '으로',\n",
       " '움직일',\n",
       " '상황',\n",
       " '이',\n",
       " '많',\n",
       " '을',\n",
       " '것',\n",
       " '같',\n",
       " '아서',\n",
       " '추천',\n",
       " '해',\n",
       " '드려요',\n",
       " 'PT',\n",
       " '042',\n",
       " '외투',\n",
       " '가',\n",
       " '어울리',\n",
       " '지',\n",
       " '않',\n",
       " '네요',\n",
       " '외투',\n",
       " '바꿔',\n",
       " '주',\n",
       " '세요',\n",
       " '편안',\n",
       " '한',\n",
       " '캐',\n",
       " '쥬얼',\n",
       " '차림',\n",
       " '을',\n",
       " '연출',\n",
       " '할',\n",
       " '수',\n",
       " '있',\n",
       " '는',\n",
       " '항공',\n",
       " '점퍼',\n",
       " '입니다',\n",
       " 'JP',\n",
       " '031',\n",
       " '바지',\n",
       " '를',\n",
       " '바꿔',\n",
       " '주',\n",
       " '세요',\n",
       " '너무',\n",
       " '후줄근',\n",
       " '해',\n",
       " '보여요',\n",
       " '좀',\n",
       " '더',\n",
       " '단정',\n",
       " '한',\n",
       " '스타일',\n",
       " '을',\n",
       " '원하',\n",
       " '시',\n",
       " '는',\n",
       " '건가요',\n",
       " '네',\n",
       " '청바지',\n",
       " '로',\n",
       " '추천',\n",
       " '해',\n",
       " '주',\n",
       " '시',\n",
       " '겠',\n",
       " '어요',\n",
       " '마른',\n",
       " '체형',\n",
       " '이',\n",
       " '시',\n",
       " '니',\n",
       " '피팅',\n",
       " '감',\n",
       " '좋',\n",
       " '은',\n",
       " '스키니',\n",
       " '진',\n",
       " '을',\n",
       " '추천',\n",
       " '해',\n",
       " '드립니다',\n",
       " 'PT',\n",
       " '001',\n",
       " '네',\n",
       " '이',\n",
       " '청바지',\n",
       " '와',\n",
       " '외투',\n",
       " '에',\n",
       " '어울리',\n",
       " '는',\n",
       " '상의',\n",
       " '를',\n",
       " '추천',\n",
       " '해',\n",
       " '주',\n",
       " '세요',\n",
       " '캐주얼',\n",
       " '하',\n",
       " '게',\n",
       " '연출',\n",
       " '할',\n",
       " '수',\n",
       " '있',\n",
       " '어서',\n",
       " '청바지',\n",
       " '와',\n",
       " '잘',\n",
       " '어울릴',\n",
       " '점퍼',\n",
       " '랍니다',\n",
       " 'JP',\n",
       " '047',\n",
       " '훨씬',\n",
       " '낫',\n",
       " '네요',\n",
       " '신발',\n",
       " '도',\n",
       " '볼',\n",
       " '수',\n",
       " '있',\n",
       " '을까요',\n",
       " '스탠드',\n",
       " '네크라인',\n",
       " '차이',\n",
       " '나',\n",
       " '네크라인',\n",
       " '야상',\n",
       " '가슴',\n",
       " '과',\n",
       " '아래쪽',\n",
       " '엔',\n",
       " '벨',\n",
       " '로프',\n",
       " '포켓',\n",
       " '4',\n",
       " '개',\n",
       " '지퍼',\n",
       " '와',\n",
       " '스냅',\n",
       " '단추',\n",
       " '이중',\n",
       " '여',\n",
       " '밈',\n",
       " '프론트',\n",
       " '플라이',\n",
       " '단추',\n",
       " '세로',\n",
       " '로',\n",
       " '6',\n",
       " '개',\n",
       " '드롭',\n",
       " '숄더',\n",
       " '손목',\n",
       " '을',\n",
       " '덮',\n",
       " '는',\n",
       " '소매길이',\n",
       " '소매',\n",
       " '뒤쪽',\n",
       " '으로',\n",
       " '아랫부분',\n",
       " '만',\n",
       " '절개',\n",
       " '소매',\n",
       " '커프스',\n",
       " '스냅',\n",
       " '단추',\n",
       " '1',\n",
       " '개',\n",
       " '여유',\n",
       " '로운',\n",
       " '일자',\n",
       " '핏',\n",
       " '엉덩이',\n",
       " '아랫부분',\n",
       " '을',\n",
       " '가리',\n",
       " '는',\n",
       " '기장',\n",
       " '포켓',\n",
       " '플랩',\n",
       " '부분',\n",
       " '의',\n",
       " '금속',\n",
       " '스냅',\n",
       " '3',\n",
       " '개',\n",
       " '씩',\n",
       " '어깨',\n",
       " '부분',\n",
       " '의',\n",
       " '견장',\n",
       " '디테일',\n",
       " '과',\n",
       " '스냅',\n",
       " '단추',\n",
       " '면',\n",
       " '100',\n",
       " '편안',\n",
       " '한',\n",
       " '착용감',\n",
       " '적당',\n",
       " '한',\n",
       " '두께',\n",
       " '감',\n",
       " '으로',\n",
       " '형태',\n",
       " '유지',\n",
       " '내추럴',\n",
       " '한',\n",
       " '소재',\n",
       " '느낌',\n",
       " '안감',\n",
       " '없',\n",
       " '음',\n",
       " '비침',\n",
       " '없',\n",
       " '음',\n",
       " '부드럽',\n",
       " '고',\n",
       " '가벼운',\n",
       " '소재',\n",
       " '군더더기',\n",
       " '없',\n",
       " '는',\n",
       " '깔끔',\n",
       " '한',\n",
       " '블랙',\n",
       " '컬러',\n",
       " '캐주얼',\n",
       " '한',\n",
       " '느낌',\n",
       " '데일리',\n",
       " '룩',\n",
       " '박시',\n",
       " '핏',\n",
       " '빅',\n",
       " '사이즈',\n",
       " '바스트',\n",
       " '포켓',\n",
       " '의',\n",
       " '귀여운',\n",
       " '느낌',\n",
       " '가볍',\n",
       " '게',\n",
       " '걸쳐도',\n",
       " '멋',\n",
       " '스러운',\n",
       " '금속',\n",
       " '스냅',\n",
       " '포',\n",
       " '인',\n",
       " '크',\n",
       " '직선',\n",
       " '적',\n",
       " '인']"
      ]
     },
     "metadata": {},
     "execution_count": 30
    }
   ],
   "metadata": {}
  },
  {
   "cell_type": "code",
   "execution_count": 31,
   "source": [
    "len(jp_data)"
   ],
   "outputs": [
    {
     "output_type": "execute_result",
     "data": {
      "text/plain": [
       "1802"
      ]
     },
     "metadata": {},
     "execution_count": 31
    }
   ],
   "metadata": {}
  },
  {
   "cell_type": "code",
   "execution_count": 32,
   "source": [
    "x_data = []\n",
    "for i in range(len(jp_data)):\n",
    "    x_data.append(mecab.morphs(jp_data[\"contents\"][i]))\n",
    "\n",
    "x_data[0]"
   ],
   "outputs": [
    {
     "output_type": "execute_result",
     "data": {
      "text/plain": [
       "['동아리',\n",
       " '에서',\n",
       " '엠티',\n",
       " '를',\n",
       " '가',\n",
       " '는데',\n",
       " '옷',\n",
       " '이',\n",
       " '필요',\n",
       " '해요',\n",
       " '코디',\n",
       " '좀',\n",
       " '부탁',\n",
       " '드려요',\n",
       " '활동',\n",
       " '성',\n",
       " '좋',\n",
       " '은',\n",
       " '옷',\n",
       " '들',\n",
       " '로',\n",
       " '구성',\n",
       " '된',\n",
       " '코디',\n",
       " '입니다',\n",
       " 'CT',\n",
       " '060',\n",
       " 'KN',\n",
       " '090',\n",
       " 'PT',\n",
       " '033',\n",
       " 'SE',\n",
       " '032',\n",
       " '바지',\n",
       " '가',\n",
       " '맘',\n",
       " '에',\n",
       " '들',\n",
       " '지',\n",
       " '않',\n",
       " '아요',\n",
       " '바지',\n",
       " '바꿔',\n",
       " '주',\n",
       " '세요',\n",
       " '원',\n",
       " '하',\n",
       " '는',\n",
       " '색상',\n",
       " '이나',\n",
       " '스타일',\n",
       " '이',\n",
       " '있',\n",
       " '으신',\n",
       " '가요',\n",
       " '어두운',\n",
       " '계열',\n",
       " '로',\n",
       " '추천',\n",
       " '해',\n",
       " '주',\n",
       " '세요',\n",
       " '엠티',\n",
       " '에',\n",
       " '가',\n",
       " '면',\n",
       " '활동',\n",
       " '적',\n",
       " '으로',\n",
       " '움직일',\n",
       " '상황',\n",
       " '이',\n",
       " '많',\n",
       " '을',\n",
       " '것',\n",
       " '같',\n",
       " '아서',\n",
       " '추천',\n",
       " '해',\n",
       " '드려요',\n",
       " 'PT',\n",
       " '042',\n",
       " '외투',\n",
       " '가',\n",
       " '어울리',\n",
       " '지',\n",
       " '않',\n",
       " '네요',\n",
       " '외투',\n",
       " '바꿔',\n",
       " '주',\n",
       " '세요',\n",
       " '편안',\n",
       " '한',\n",
       " '캐',\n",
       " '쥬얼',\n",
       " '차림',\n",
       " '을',\n",
       " '연출',\n",
       " '할',\n",
       " '수',\n",
       " '있',\n",
       " '는',\n",
       " '항공',\n",
       " '점퍼',\n",
       " '입니다',\n",
       " 'JP',\n",
       " '031',\n",
       " '바지',\n",
       " '를',\n",
       " '바꿔',\n",
       " '주',\n",
       " '세요',\n",
       " '너무',\n",
       " '후줄근',\n",
       " '해',\n",
       " '보여요',\n",
       " '좀',\n",
       " '더',\n",
       " '단정',\n",
       " '한',\n",
       " '스타일',\n",
       " '을',\n",
       " '원하',\n",
       " '시',\n",
       " '는',\n",
       " '건가요',\n",
       " '네',\n",
       " '청바지',\n",
       " '로',\n",
       " '추천',\n",
       " '해',\n",
       " '주',\n",
       " '시',\n",
       " '겠',\n",
       " '어요',\n",
       " '마른',\n",
       " '체형',\n",
       " '이',\n",
       " '시',\n",
       " '니',\n",
       " '피팅',\n",
       " '감',\n",
       " '좋',\n",
       " '은',\n",
       " '스키니',\n",
       " '진',\n",
       " '을',\n",
       " '추천',\n",
       " '해',\n",
       " '드립니다',\n",
       " 'PT',\n",
       " '001',\n",
       " '네',\n",
       " '이',\n",
       " '청바지',\n",
       " '와',\n",
       " '외투',\n",
       " '에',\n",
       " '어울리',\n",
       " '는',\n",
       " '상의',\n",
       " '를',\n",
       " '추천',\n",
       " '해',\n",
       " '주',\n",
       " '세요',\n",
       " '캐주얼',\n",
       " '하',\n",
       " '게',\n",
       " '연출',\n",
       " '할',\n",
       " '수',\n",
       " '있',\n",
       " '어서',\n",
       " '청바지',\n",
       " '와',\n",
       " '잘',\n",
       " '어울릴',\n",
       " '점퍼',\n",
       " '랍니다',\n",
       " 'JP',\n",
       " '047',\n",
       " '훨씬',\n",
       " '낫',\n",
       " '네요',\n",
       " '신발',\n",
       " '도',\n",
       " '볼',\n",
       " '수',\n",
       " '있',\n",
       " '을까요',\n",
       " '스탠드',\n",
       " '네크라인',\n",
       " '차이',\n",
       " '나',\n",
       " '네크라인',\n",
       " '야상',\n",
       " '가슴',\n",
       " '과',\n",
       " '아래쪽',\n",
       " '엔',\n",
       " '벨',\n",
       " '로프',\n",
       " '포켓',\n",
       " '4',\n",
       " '개',\n",
       " '지퍼',\n",
       " '와',\n",
       " '스냅',\n",
       " '단추',\n",
       " '이중',\n",
       " '여',\n",
       " '밈',\n",
       " '프론트',\n",
       " '플라이',\n",
       " '단추',\n",
       " '세로',\n",
       " '로',\n",
       " '6',\n",
       " '개',\n",
       " '드롭',\n",
       " '숄더',\n",
       " '손목',\n",
       " '을',\n",
       " '덮',\n",
       " '는',\n",
       " '소매길이',\n",
       " '소매',\n",
       " '뒤쪽',\n",
       " '으로',\n",
       " '아랫부분',\n",
       " '만',\n",
       " '절개',\n",
       " '소매',\n",
       " '커프스',\n",
       " '스냅',\n",
       " '단추',\n",
       " '1',\n",
       " '개',\n",
       " '여유',\n",
       " '로운',\n",
       " '일자',\n",
       " '핏',\n",
       " '엉덩이',\n",
       " '아랫부분',\n",
       " '을',\n",
       " '가리',\n",
       " '는',\n",
       " '기장',\n",
       " '포켓',\n",
       " '플랩',\n",
       " '부분',\n",
       " '의',\n",
       " '금속',\n",
       " '스냅',\n",
       " '3',\n",
       " '개',\n",
       " '씩',\n",
       " '어깨',\n",
       " '부분',\n",
       " '의',\n",
       " '견장',\n",
       " '디테일',\n",
       " '과',\n",
       " '스냅',\n",
       " '단추',\n",
       " '면',\n",
       " '100',\n",
       " '편안',\n",
       " '한',\n",
       " '착용감',\n",
       " '적당',\n",
       " '한',\n",
       " '두께',\n",
       " '감',\n",
       " '으로',\n",
       " '형태',\n",
       " '유지',\n",
       " '내추럴',\n",
       " '한',\n",
       " '소재',\n",
       " '느낌',\n",
       " '안감',\n",
       " '없',\n",
       " '음',\n",
       " '비침',\n",
       " '없',\n",
       " '음',\n",
       " '부드럽',\n",
       " '고',\n",
       " '가벼운',\n",
       " '소재',\n",
       " '군더더기',\n",
       " '없',\n",
       " '는',\n",
       " '깔끔',\n",
       " '한',\n",
       " '블랙',\n",
       " '컬러',\n",
       " '캐주얼',\n",
       " '한',\n",
       " '느낌',\n",
       " '데일리',\n",
       " '룩',\n",
       " '박시',\n",
       " '핏',\n",
       " '빅',\n",
       " '사이즈',\n",
       " '바스트',\n",
       " '포켓',\n",
       " '의',\n",
       " '귀여운',\n",
       " '느낌',\n",
       " '가볍',\n",
       " '게',\n",
       " '걸쳐도',\n",
       " '멋',\n",
       " '스러운',\n",
       " '금속',\n",
       " '스냅',\n",
       " '포',\n",
       " '인',\n",
       " '크',\n",
       " '직선',\n",
       " '적',\n",
       " '인']"
      ]
     },
     "metadata": {},
     "execution_count": 32
    }
   ],
   "metadata": {}
  },
  {
   "cell_type": "code",
   "execution_count": 33,
   "source": [
    "stopwords = []\n",
    "with open('./data/불용어사전.txt', mode='rt', encoding='utf-8') as f:\n",
    "    for word in f.readlines():\n",
    "        word = word.strip()\n",
    "        stopwords.append(word)\n",
    "stopwords[0:2]"
   ],
   "outputs": [
    {
     "output_type": "execute_result",
     "data": {
      "text/plain": [
       "['어찌됐든', '그위에']"
      ]
     },
     "metadata": {},
     "execution_count": 33
    }
   ],
   "metadata": {}
  },
  {
   "cell_type": "code",
   "execution_count": 34,
   "source": [
    "X_data = []\n",
    "for sentence in x_data: #문장 하나 가져오고 단어 단위로 쪼개기\n",
    "    temp_X = [word for word in sentence if not word in stopwords] # 불용어 제거\n",
    "    X_data.append(temp_X)\n",
    "X_data[0]"
   ],
   "outputs": [
    {
     "output_type": "execute_result",
     "data": {
      "text/plain": [
       "['동아리',\n",
       " '엠티',\n",
       " '는데',\n",
       " '옷',\n",
       " '필요',\n",
       " '코디',\n",
       " '부탁',\n",
       " '드려요',\n",
       " '활동',\n",
       " '성',\n",
       " '좋',\n",
       " '옷',\n",
       " '구성',\n",
       " '된',\n",
       " '코디',\n",
       " '입니다',\n",
       " 'CT',\n",
       " '060',\n",
       " 'KN',\n",
       " '090',\n",
       " 'PT',\n",
       " '033',\n",
       " 'SE',\n",
       " '032',\n",
       " '바지',\n",
       " '맘',\n",
       " '지',\n",
       " '않',\n",
       " '아요',\n",
       " '바지',\n",
       " '바꿔',\n",
       " '주',\n",
       " '세요',\n",
       " '원',\n",
       " '색상',\n",
       " '이나',\n",
       " '스타일',\n",
       " '있',\n",
       " '으신',\n",
       " '가요',\n",
       " '어두운',\n",
       " '계열',\n",
       " '추천',\n",
       " '주',\n",
       " '세요',\n",
       " '엠티',\n",
       " '면',\n",
       " '활동',\n",
       " '적',\n",
       " '움직일',\n",
       " '상황',\n",
       " '많',\n",
       " '같',\n",
       " '아서',\n",
       " '추천',\n",
       " '드려요',\n",
       " 'PT',\n",
       " '042',\n",
       " '외투',\n",
       " '어울리',\n",
       " '지',\n",
       " '않',\n",
       " '네요',\n",
       " '외투',\n",
       " '바꿔',\n",
       " '주',\n",
       " '세요',\n",
       " '편안',\n",
       " '캐',\n",
       " '쥬얼',\n",
       " '차림',\n",
       " '연출',\n",
       " '수',\n",
       " '있',\n",
       " '항공',\n",
       " '점퍼',\n",
       " '입니다',\n",
       " 'JP',\n",
       " '031',\n",
       " '바지',\n",
       " '바꿔',\n",
       " '주',\n",
       " '세요',\n",
       " '너무',\n",
       " '후줄근',\n",
       " '보여요',\n",
       " '더',\n",
       " '단정',\n",
       " '스타일',\n",
       " '원하',\n",
       " '시',\n",
       " '건가요',\n",
       " '청바지',\n",
       " '추천',\n",
       " '주',\n",
       " '시',\n",
       " '겠',\n",
       " '어요',\n",
       " '마른',\n",
       " '체형',\n",
       " '시',\n",
       " '니',\n",
       " '피팅',\n",
       " '감',\n",
       " '좋',\n",
       " '스키니',\n",
       " '진',\n",
       " '추천',\n",
       " '드립니다',\n",
       " 'PT',\n",
       " '001',\n",
       " '청바지',\n",
       " '외투',\n",
       " '어울리',\n",
       " '상의',\n",
       " '추천',\n",
       " '주',\n",
       " '세요',\n",
       " '캐주얼',\n",
       " '게',\n",
       " '연출',\n",
       " '수',\n",
       " '있',\n",
       " '어서',\n",
       " '청바지',\n",
       " '잘',\n",
       " '어울릴',\n",
       " '점퍼',\n",
       " '랍니다',\n",
       " 'JP',\n",
       " '047',\n",
       " '낫',\n",
       " '네요',\n",
       " '신발',\n",
       " '도',\n",
       " '볼',\n",
       " '수',\n",
       " '있',\n",
       " '을까요',\n",
       " '스탠드',\n",
       " '네크라인',\n",
       " '차이',\n",
       " '네크라인',\n",
       " '야상',\n",
       " '가슴',\n",
       " '아래쪽',\n",
       " '엔',\n",
       " '벨',\n",
       " '로프',\n",
       " '포켓',\n",
       " '4',\n",
       " '개',\n",
       " '지퍼',\n",
       " '스냅',\n",
       " '단추',\n",
       " '이중',\n",
       " '밈',\n",
       " '프론트',\n",
       " '플라이',\n",
       " '단추',\n",
       " '세로',\n",
       " '6',\n",
       " '개',\n",
       " '드롭',\n",
       " '숄더',\n",
       " '손목',\n",
       " '덮',\n",
       " '소매길이',\n",
       " '뒤쪽',\n",
       " '아랫부분',\n",
       " '만',\n",
       " '절개',\n",
       " '커프스',\n",
       " '스냅',\n",
       " '단추',\n",
       " '1',\n",
       " '개',\n",
       " '여유',\n",
       " '로운',\n",
       " '일자',\n",
       " '핏',\n",
       " '엉덩이',\n",
       " '아랫부분',\n",
       " '가리',\n",
       " '기장',\n",
       " '포켓',\n",
       " '플랩',\n",
       " '부분',\n",
       " '금속',\n",
       " '스냅',\n",
       " '3',\n",
       " '개',\n",
       " '씩',\n",
       " '어깨',\n",
       " '부분',\n",
       " '견장',\n",
       " '디테일',\n",
       " '스냅',\n",
       " '단추',\n",
       " '면',\n",
       " '100',\n",
       " '편안',\n",
       " '착용감',\n",
       " '적당',\n",
       " '두께',\n",
       " '감',\n",
       " '형태',\n",
       " '유지',\n",
       " '내추럴',\n",
       " '소재',\n",
       " '느낌',\n",
       " '안감',\n",
       " '비침',\n",
       " '부드럽',\n",
       " '고',\n",
       " '가벼운',\n",
       " '소재',\n",
       " '군더더기',\n",
       " '깔끔',\n",
       " '블랙',\n",
       " '컬러',\n",
       " '캐주얼',\n",
       " '느낌',\n",
       " '데일리',\n",
       " '룩',\n",
       " '박시',\n",
       " '핏',\n",
       " '빅',\n",
       " '사이즈',\n",
       " '바스트',\n",
       " '포켓',\n",
       " '귀여운',\n",
       " '느낌',\n",
       " '가볍',\n",
       " '게',\n",
       " '걸쳐도',\n",
       " '멋',\n",
       " '스러운',\n",
       " '금속',\n",
       " '스냅',\n",
       " '포',\n",
       " '인',\n",
       " '크',\n",
       " '직선',\n",
       " '적',\n",
       " '인']"
      ]
     },
     "metadata": {},
     "execution_count": 34
    }
   ],
   "metadata": {}
  },
  {
   "cell_type": "markdown",
   "source": [
    "## 1. 임베딩 레이어 활용"
   ],
   "metadata": {}
  },
  {
   "cell_type": "markdown",
   "source": [
    "### 정수 인코딩"
   ],
   "metadata": {}
  },
  {
   "cell_type": "code",
   "execution_count": 35,
   "source": [
    "from tensorflow.keras.preprocessing.text import Tokenizer\n",
    "tokenizer = Tokenizer()\n",
    "tokenizer.fit_on_texts(X_data)"
   ],
   "outputs": [],
   "metadata": {}
  },
  {
   "cell_type": "code",
   "execution_count": 36,
   "source": [
    "threshold = 6\n",
    "total_cnt = len(tokenizer.word_index) # 단어의 수\n",
    "rare_cnt = 0 # 등장 빈도수가 threshold보다 작은 단어의 개수를 카운트\n",
    "total_freq = 0 # 훈련 데이터의 전체 단어 빈도수 총 합\n",
    "rare_freq = 0 # 등장 빈도수가 threshold보다 작은 단어의 등장 빈도수의 총 합\n",
    "\n",
    "# 단어와 빈도수의 쌍(pair)을 key와 value로 받는다.\n",
    "for key, value in tokenizer.word_counts.items():\n",
    "    total_freq = total_freq + value\n",
    "\n",
    "    # 단어의 등장 빈도수가 threshold보다 작으면\n",
    "    if(value < threshold):\n",
    "        rare_cnt = rare_cnt + 1\n",
    "        rare_freq = rare_freq + value\n",
    "\n",
    "print('단어 집합(vocabulary)의 크기 :',total_cnt)\n",
    "print('등장 빈도가 %s번 이하인 희귀 단어의 수: %s'%(threshold - 1, rare_cnt))\n",
    "print(\"단어 집합에서 희귀 단어의 비율:\", (rare_cnt / total_cnt)*100)\n",
    "print(\"전체 등장 빈도에서 희귀 단어 등장 빈도 비율:\", (rare_freq / total_freq)*100)"
   ],
   "outputs": [
    {
     "output_type": "stream",
     "name": "stdout",
     "text": [
      "단어 집합(vocabulary)의 크기 : 3756\n",
      "등장 빈도가 5번 이하인 희귀 단어의 수: 1636\n",
      "단어 집합에서 희귀 단어의 비율: 43.556975505857295\n",
      "전체 등장 빈도에서 희귀 단어 등장 빈도 비율: 1.1045724230916565\n"
     ]
    }
   ],
   "metadata": {}
  },
  {
   "cell_type": "code",
   "execution_count": 37,
   "source": [
    "vocab_size = total_cnt - rare_cnt + 1 # tokenizer 함수에 들어 갈 때 영향줘서 1 추가 해야 됨\n",
    "print('단어 집합의 크기 :',vocab_size)"
   ],
   "outputs": [
    {
     "output_type": "stream",
     "name": "stdout",
     "text": [
      "단어 집합의 크기 : 2121\n"
     ]
    }
   ],
   "metadata": {}
  },
  {
   "cell_type": "markdown",
   "source": [
    "케라스 토크나이저의 정수 인코딩은 인덱스가 1부터 시작하지만,\n",
    "\n",
    "케라스 원-핫 인코딩에서 배열의 인덱스가 0부터 시작하기 때문에\n",
    "\n",
    "배열의 크기를 실제 단어 집합의 크기보다 +1로 생성해야하므로 미리 +1 선언 "
   ],
   "metadata": {}
  },
  {
   "cell_type": "markdown",
   "source": [
    "### 맨 앞자리는 비어있어야 함 (원 핫 인코딩은 정수 인코딩한 뒤 나오는 정수 값 자리에 1을 넣는 것)"
   ],
   "metadata": {}
  },
  {
   "cell_type": "code",
   "execution_count": 38,
   "source": [
    "tokenizer = Tokenizer(num_words=vocab_size - 1)\n",
    "tokenizer.fit_on_texts(X_data)\n",
    "len(tokenizer.word_index)"
   ],
   "outputs": [
    {
     "output_type": "execute_result",
     "data": {
      "text/plain": [
       "3756"
      ]
     },
     "metadata": {},
     "execution_count": 38
    }
   ],
   "metadata": {}
  },
  {
   "cell_type": "code",
   "execution_count": 39,
   "source": [
    "X_data = tokenizer.texts_to_sequences(X_data) # 단어에 정수 붙여줄 때 num_word 적용"
   ],
   "outputs": [],
   "metadata": {}
  },
  {
   "cell_type": "markdown",
   "source": [
    "위에서 num_words는 이 데이터에서 등장 빈도 순위로 몇 번째에 해당하는 단어까지만 사용할 것인지 조절\n",
    "\n",
    "예를 들어서 100이란 값을 넣으면, 등장 빈도 순위가 1~100에 해당하는 단어만 사용"
   ],
   "metadata": {}
  },
  {
   "cell_type": "code",
   "execution_count": 40,
   "source": [
    "X_data[1]"
   ],
   "outputs": [
    {
     "output_type": "execute_result",
     "data": {
      "text/plain": [
       "[499,\n",
       " 1187,\n",
       " 333,\n",
       " 464,\n",
       " 284,\n",
       " 44,\n",
       " 225,\n",
       " 10,\n",
       " 1087,\n",
       " 11,\n",
       " 1,\n",
       " 2,\n",
       " 473,\n",
       " 680,\n",
       " 25,\n",
       " 2007,\n",
       " 629,\n",
       " 1070,\n",
       " 217,\n",
       " 225,\n",
       " 3,\n",
       " 45,\n",
       " 968,\n",
       " 44,\n",
       " 225,\n",
       " 248,\n",
       " 1031,\n",
       " 11,\n",
       " 345,\n",
       " 850,\n",
       " 432,\n",
       " 180,\n",
       " 665,\n",
       " 36,\n",
       " 793,\n",
       " 34,\n",
       " 664,\n",
       " 1070,\n",
       " 148,\n",
       " 839,\n",
       " 46,\n",
       " 173,\n",
       " 127,\n",
       " 312,\n",
       " 11,\n",
       " 1,\n",
       " 2,\n",
       " 203,\n",
       " 1047,\n",
       " 24,\n",
       " 23,\n",
       " 3,\n",
       " 934,\n",
       " 763,\n",
       " 23,\n",
       " 815,\n",
       " 1447,\n",
       " 363,\n",
       " 23,\n",
       " 1165,\n",
       " 43,\n",
       " 65,\n",
       " 10,\n",
       " 525,\n",
       " 740,\n",
       " 71,\n",
       " 7,\n",
       " 725,\n",
       " 857,\n",
       " 194,\n",
       " 46,\n",
       " 503,\n",
       " 553,\n",
       " 314,\n",
       " 18,\n",
       " 22,\n",
       " 703,\n",
       " 314,\n",
       " 156,\n",
       " 147,\n",
       " 14,\n",
       " 55,\n",
       " 12,\n",
       " 257,\n",
       " 295,\n",
       " 315,\n",
       " 205,\n",
       " 95,\n",
       " 120,\n",
       " 76,\n",
       " 40,\n",
       " 176,\n",
       " 111,\n",
       " 108,\n",
       " 816,\n",
       " 30,\n",
       " 170,\n",
       " 30,\n",
       " 349,\n",
       " 111,\n",
       " 16,\n",
       " 15,\n",
       " 1032,\n",
       " 328,\n",
       " 674,\n",
       " 808,\n",
       " 18,\n",
       " 161,\n",
       " 150,\n",
       " 137,\n",
       " 110,\n",
       " 86,\n",
       " 1118,\n",
       " 339,\n",
       " 201,\n",
       " 20,\n",
       " 54,\n",
       " 328,\n",
       " 589,\n",
       " 590,\n",
       " 330,\n",
       " 33,\n",
       " 203,\n",
       " 1047,\n",
       " 516,\n",
       " 29,\n",
       " 655,\n",
       " 35,\n",
       " 29,\n",
       " 238,\n",
       " 239,\n",
       " 136,\n",
       " 70,\n",
       " 773,\n",
       " 565,\n",
       " 60,\n",
       " 817,\n",
       " 818,\n",
       " 819,\n",
       " 5,\n",
       " 60,\n",
       " 402,\n",
       " 428,\n",
       " 13,\n",
       " 37,\n",
       " 390,\n",
       " 1088,\n",
       " 171,\n",
       " 18,\n",
       " 40,\n",
       " 37,\n",
       " 467,\n",
       " 112,\n",
       " 1119,\n",
       " 48,\n",
       " 23,\n",
       " 374,\n",
       " 29,\n",
       " 248,\n",
       " 57,\n",
       " 1120,\n",
       " 339,\n",
       " 20,\n",
       " 851,\n",
       " 159,\n",
       " 262,\n",
       " 57,\n",
       " 478,\n",
       " 24,\n",
       " 43,\n",
       " 10,\n",
       " 304,\n",
       " 80,\n",
       " 171,\n",
       " 43,\n",
       " 10,\n",
       " 18,\n",
       " 895,\n",
       " 969]"
      ]
     },
     "metadata": {},
     "execution_count": 40
    }
   ],
   "metadata": {}
  },
  {
   "cell_type": "code",
   "execution_count": 41,
   "source": [
    "print('문장 최대 길이 :',max(len(l) for l in X_data))\n",
    "print('문장의 평균 길이 :',sum(map(len, X_data))/len(X_data))\n",
    "plt.hist([len(s) for s in X_data], bins=50, color='k')\n",
    "plt.xlabel('length of samples')\n",
    "plt.ylabel('number of samples')\n",
    "plt.show()\n",
    "plt.close()"
   ],
   "outputs": [
    {
     "output_type": "stream",
     "name": "stdout",
     "text": [
      "문장 최대 길이 : 450\n",
      "문장의 평균 길이 : 181.9439511653718\n"
     ]
    },
    {
     "output_type": "display_data",
     "data": {
      "image/png": "[encoded data removed]",
      "text/plain": [
       "<Figure size 640x480 with 1 Axes>"
      ]
     },
     "metadata": {}
    }
   ],
   "metadata": {}
  },
  {
   "cell_type": "code",
   "execution_count": 42,
   "source": [
    "def below_threshold_len(max_len, nested_list):\n",
    "  cnt = 0\n",
    "  for s in nested_list:\n",
    "    if(len(s) <= max_len):\n",
    "        cnt = cnt + 1\n",
    "  print('전체 샘플 중 길이가 %s 이하인 샘플의 비율: %s'%(max_len, (cnt / len(nested_list))*100))\n",
    "\n",
    "max_len = 300\n",
    "below_threshold_len(max_len, X_data)"
   ],
   "outputs": [
    {
     "output_type": "stream",
     "name": "stdout",
     "text": [
      "전체 샘플 중 길이가 300 이하인 샘플의 비율: 99.11209766925639\n"
     ]
    }
   ],
   "metadata": {}
  },
  {
   "cell_type": "markdown",
   "source": [
    "## padding"
   ],
   "metadata": {}
  },
  {
   "cell_type": "code",
   "execution_count": 43,
   "source": [
    "from tensorflow.keras.preprocessing.sequence import pad_sequences\n",
    "X_data = pad_sequences(X_data, maxlen = max_len)"
   ],
   "outputs": [],
   "metadata": {}
  },
  {
   "cell_type": "code",
   "execution_count": 44,
   "source": [
    "print(len(X_data[1]))\n",
    "X_data[1]"
   ],
   "outputs": [
    {
     "output_type": "stream",
     "name": "stdout",
     "text": [
      "300\n"
     ]
    },
    {
     "output_type": "execute_result",
     "data": {
      "text/plain": [
       "array([   0,    0,    0,    0,    0,    0,    0,    0,    0,    0,    0,\n",
       "          0,    0,    0,    0,    0,    0,    0,    0,    0,    0,    0,\n",
       "          0,    0,    0,    0,    0,    0,    0,    0,    0,    0,    0,\n",
       "          0,    0,    0,    0,    0,    0,    0,    0,    0,    0,    0,\n",
       "          0,    0,    0,    0,    0,    0,    0,    0,    0,    0,    0,\n",
       "          0,    0,    0,    0,    0,    0,    0,    0,    0,    0,    0,\n",
       "          0,    0,    0,    0,    0,    0,    0,    0,    0,    0,    0,\n",
       "          0,    0,    0,    0,    0,    0,    0,    0,    0,    0,    0,\n",
       "          0,    0,    0,    0,    0,    0,    0,    0,    0,    0,    0,\n",
       "          0,    0,    0,    0,    0,    0,    0,    0,    0,    0,    0,\n",
       "          0,    0,    0,    0,    0,    0,    0,    0,    0,    0,    0,\n",
       "        499, 1187,  333,  464,  284,   44,  225,   10, 1087,   11,    1,\n",
       "          2,  473,  680,   25, 2007,  629, 1070,  217,  225,    3,   45,\n",
       "        968,   44,  225,  248, 1031,   11,  345,  850,  432,  180,  665,\n",
       "         36,  793,   34,  664, 1070,  148,  839,   46,  173,  127,  312,\n",
       "         11,    1,    2,  203, 1047,   24,   23,    3,  934,  763,   23,\n",
       "        815, 1447,  363,   23, 1165,   43,   65,   10,  525,  740,   71,\n",
       "          7,  725,  857,  194,   46,  503,  553,  314,   18,   22,  703,\n",
       "        314,  156,  147,   14,   55,   12,  257,  295,  315,  205,   95,\n",
       "        120,   76,   40,  176,  111,  108,  816,   30,  170,   30,  349,\n",
       "        111,   16,   15, 1032,  328,  674,  808,   18,  161,  150,  137,\n",
       "        110,   86, 1118,  339,  201,   20,   54,  328,  589,  590,  330,\n",
       "         33,  203, 1047,  516,   29,  655,   35,   29,  238,  239,  136,\n",
       "         70,  773,  565,   60,  817,  818,  819,    5,   60,  402,  428,\n",
       "         13,   37,  390, 1088,  171,   18,   40,   37,  467,  112, 1119,\n",
       "         48,   23,  374,   29,  248,   57, 1120,  339,   20,  851,  159,\n",
       "        262,   57,  478,   24,   43,   10,  304,   80,  171,   43,   10,\n",
       "         18,  895,  969], dtype=int32)"
      ]
     },
     "metadata": {},
     "execution_count": 44
    }
   ],
   "metadata": {}
  },
  {
   "cell_type": "markdown",
   "source": [
    "# 6. LSTM 돌리기 "
   ],
   "metadata": {}
  },
  {
   "cell_type": "code",
   "execution_count": 45,
   "source": [
    "from tensorflow.keras.layers import Embedding, Dense, LSTM, Bidirectional\n",
    "from tensorflow.keras.models import Sequential\n",
    "from tensorflow.keras.models import load_model\n",
    "from tensorflow.keras.callbacks import EarlyStopping, ModelCheckpoint\n",
    "from sklearn.model_selection import train_test_split\n",
    "from tensorflow.keras.utils import to_categorical"
   ],
   "outputs": [],
   "metadata": {}
  },
  {
   "cell_type": "code",
   "execution_count": 46,
   "source": [
    "X = X_data\n",
    "y = jp_data.id.tolist()"
   ],
   "outputs": [],
   "metadata": {}
  },
  {
   "cell_type": "code",
   "execution_count": 47,
   "source": [
    "X[1]"
   ],
   "outputs": [
    {
     "output_type": "execute_result",
     "data": {
      "text/plain": [
       "array([   0,    0,    0,    0,    0,    0,    0,    0,    0,    0,    0,\n",
       "          0,    0,    0,    0,    0,    0,    0,    0,    0,    0,    0,\n",
       "          0,    0,    0,    0,    0,    0,    0,    0,    0,    0,    0,\n",
       "          0,    0,    0,    0,    0,    0,    0,    0,    0,    0,    0,\n",
       "          0,    0,    0,    0,    0,    0,    0,    0,    0,    0,    0,\n",
       "          0,    0,    0,    0,    0,    0,    0,    0,    0,    0,    0,\n",
       "          0,    0,    0,    0,    0,    0,    0,    0,    0,    0,    0,\n",
       "          0,    0,    0,    0,    0,    0,    0,    0,    0,    0,    0,\n",
       "          0,    0,    0,    0,    0,    0,    0,    0,    0,    0,    0,\n",
       "          0,    0,    0,    0,    0,    0,    0,    0,    0,    0,    0,\n",
       "          0,    0,    0,    0,    0,    0,    0,    0,    0,    0,    0,\n",
       "        499, 1187,  333,  464,  284,   44,  225,   10, 1087,   11,    1,\n",
       "          2,  473,  680,   25, 2007,  629, 1070,  217,  225,    3,   45,\n",
       "        968,   44,  225,  248, 1031,   11,  345,  850,  432,  180,  665,\n",
       "         36,  793,   34,  664, 1070,  148,  839,   46,  173,  127,  312,\n",
       "         11,    1,    2,  203, 1047,   24,   23,    3,  934,  763,   23,\n",
       "        815, 1447,  363,   23, 1165,   43,   65,   10,  525,  740,   71,\n",
       "          7,  725,  857,  194,   46,  503,  553,  314,   18,   22,  703,\n",
       "        314,  156,  147,   14,   55,   12,  257,  295,  315,  205,   95,\n",
       "        120,   76,   40,  176,  111,  108,  816,   30,  170,   30,  349,\n",
       "        111,   16,   15, 1032,  328,  674,  808,   18,  161,  150,  137,\n",
       "        110,   86, 1118,  339,  201,   20,   54,  328,  589,  590,  330,\n",
       "         33,  203, 1047,  516,   29,  655,   35,   29,  238,  239,  136,\n",
       "         70,  773,  565,   60,  817,  818,  819,    5,   60,  402,  428,\n",
       "         13,   37,  390, 1088,  171,   18,   40,   37,  467,  112, 1119,\n",
       "         48,   23,  374,   29,  248,   57, 1120,  339,   20,  851,  159,\n",
       "        262,   57,  478,   24,   43,   10,  304,   80,  171,   43,   10,\n",
       "         18,  895,  969], dtype=int32)"
      ]
     },
     "metadata": {},
     "execution_count": 47
    }
   ],
   "metadata": {}
  },
  {
   "cell_type": "code",
   "execution_count": 48,
   "source": [
    "y[1]"
   ],
   "outputs": [
    {
     "output_type": "execute_result",
     "data": {
      "text/plain": [
       "'074'"
      ]
     },
     "metadata": {},
     "execution_count": 48
    }
   ],
   "metadata": {}
  },
  {
   "cell_type": "code",
   "execution_count": 49,
   "source": [
    "print(len(X),len(y))"
   ],
   "outputs": [
    {
     "output_type": "stream",
     "name": "stdout",
     "text": [
      "1802 1802\n"
     ]
    }
   ],
   "metadata": {}
  },
  {
   "cell_type": "code",
   "execution_count": 50,
   "source": [
    "y = to_categorical(y)"
   ],
   "outputs": [],
   "metadata": {}
  },
  {
   "cell_type": "code",
   "execution_count": 51,
   "source": [
    "print(X.shape, y.shape)"
   ],
   "outputs": [
    {
     "output_type": "stream",
     "name": "stdout",
     "text": [
      "(1802, 300) (1802, 278)\n"
     ]
    }
   ],
   "metadata": {}
  },
  {
   "cell_type": "code",
   "execution_count": 52,
   "source": [
    "x_train, x_test, y_train, y_test = train_test_split(X, y,test_size=0.3, random_state=777, stratify=y) #추천 한 번밖에 안된 애들 있어서 stratify 안됨"
   ],
   "outputs": [],
   "metadata": {}
  },
  {
   "cell_type": "code",
   "execution_count": 53,
   "source": [
    "num_class = int(max(jp_data.id)) + 1"
   ],
   "outputs": [],
   "metadata": {}
  },
  {
   "cell_type": "code",
   "execution_count": 75,
   "source": [
    "from tensorflow.keras.layers import SimpleRNN"
   ],
   "outputs": [],
   "metadata": {}
  },
  {
   "cell_type": "code",
   "execution_count": 77,
   "source": [
    "model = Sequential()\n",
    "model.add(Embedding(vocab_size, max_len))\n",
    "model.add(SimpleRNN(max_len))\n",
    "model.add(Dense(num_class, activation='softmax'))\n",
    "\n",
    "model.summary()"
   ],
   "outputs": [
    {
     "output_type": "stream",
     "name": "stdout",
     "text": [
      "Model: \"sequential_5\"\n",
      "_________________________________________________________________\n",
      "Layer (type)                 Output Shape              Param #   \n",
      "=================================================================\n",
      "embedding_5 (Embedding)      (None, None, 300)         636300    \n",
      "_________________________________________________________________\n",
      "simple_rnn_1 (SimpleRNN)     (None, 300)               180300    \n",
      "_________________________________________________________________\n",
      "dense_5 (Dense)              (None, 278)               83678     \n",
      "=================================================================\n",
      "Total params: 900,278\n",
      "Trainable params: 900,278\n",
      "Non-trainable params: 0\n",
      "_________________________________________________________________\n"
     ]
    }
   ],
   "metadata": {}
  },
  {
   "cell_type": "code",
   "execution_count": 78,
   "source": [
    "es = EarlyStopping(monitor='val_loss', mode='min', verbose=1, patience=6)\n",
    "mc = ModelCheckpoint('jp_model_rnn.h5', monitor='val_acc', mode='max', verbose=1, save_best_only=True)"
   ],
   "outputs": [],
   "metadata": {}
  },
  {
   "cell_type": "code",
   "execution_count": 79,
   "source": [
    "model.compile(optimizer='adam', loss='categorical_crossentropy', metrics=['acc'])\n",
    "history = model.fit(x_train, y_train, epochs=10, callbacks=[es, mc], batch_size=32, validation_split=0.2)\n",
    "\n",
    "print(\"테스트 셋 체크\")\n",
    "loaded_model = load_model('jp_model_rnn.h5')\n",
    "print(\"\\n 테스트 정확도: %.4f\" % (loaded_model.evaluate(x_test, y_test)[1]))"
   ],
   "outputs": [
    {
     "output_type": "stream",
     "name": "stdout",
     "text": [
      "Epoch 1/10\n",
      "32/32 [==============================] - 15s 412ms/step - loss: 4.8978 - acc: 0.3921 - val_loss: 3.1355 - val_acc: 0.7984\n",
      "\n",
      "Epoch 00001: val_acc improved from -inf to 0.79842, saving model to jp_model_rnn.h5\n",
      "Epoch 2/10\n",
      "32/32 [==============================] - 13s 411ms/step - loss: 2.2780 - acc: 0.9312 - val_loss: 1.6511 - val_acc: 0.9091\n",
      "\n",
      "Epoch 00002: val_acc improved from 0.79842 to 0.90909, saving model to jp_model_rnn.h5\n",
      "Epoch 3/10\n",
      "32/32 [==============================] - 11s 354ms/step - loss: 0.8547 - acc: 0.9942 - val_loss: 1.0488 - val_acc: 0.9249\n",
      "\n",
      "Epoch 00003: val_acc improved from 0.90909 to 0.92490, saving model to jp_model_rnn.h5\n",
      "Epoch 4/10\n",
      "32/32 [==============================] - 12s 378ms/step - loss: 0.3641 - acc: 1.0000 - val_loss: 0.7353 - val_acc: 0.9328\n",
      "\n",
      "Epoch 00004: val_acc improved from 0.92490 to 0.93281, saving model to jp_model_rnn.h5\n",
      "Epoch 5/10\n",
      "32/32 [==============================] - 12s 392ms/step - loss: 0.1684 - acc: 1.0000 - val_loss: 0.5835 - val_acc: 0.9328\n",
      "\n",
      "Epoch 00005: val_acc did not improve from 0.93281\n",
      "Epoch 6/10\n",
      "32/32 [==============================] - 12s 388ms/step - loss: 0.0843 - acc: 1.0000 - val_loss: 0.5216 - val_acc: 0.9328\n",
      "\n",
      "Epoch 00006: val_acc did not improve from 0.93281\n",
      "Epoch 7/10\n",
      "32/32 [==============================] - 12s 379ms/step - loss: 0.0505 - acc: 1.0000 - val_loss: 0.4930 - val_acc: 0.9328\n",
      "\n",
      "Epoch 00007: val_acc did not improve from 0.93281\n",
      "Epoch 8/10\n",
      "32/32 [==============================] - 12s 370ms/step - loss: 0.0340 - acc: 1.0000 - val_loss: 0.4756 - val_acc: 0.9328\n",
      "\n",
      "Epoch 00008: val_acc did not improve from 0.93281\n",
      "Epoch 9/10\n",
      "32/32 [==============================] - 13s 398ms/step - loss: 0.0238 - acc: 1.0000 - val_loss: 0.4716 - val_acc: 0.9328\n",
      "\n",
      "Epoch 00009: val_acc did not improve from 0.93281\n",
      "Epoch 10/10\n",
      "32/32 [==============================] - 11s 357ms/step - loss: 0.0188 - acc: 1.0000 - val_loss: 0.4611 - val_acc: 0.9328\n",
      "\n",
      "Epoch 00010: val_acc did not improve from 0.93281\n",
      "테스트 셋 체크\n",
      "17/17 [==============================] - 2s 105ms/step - loss: 0.4775 - acc: 0.9704\n",
      "\n",
      " 테스트 정확도: 0.9704\n"
     ]
    }
   ],
   "metadata": {}
  },
  {
   "cell_type": "markdown",
   "source": [
    "Cannot convert a symbolic Tensor -> numpy 버전 1.19.5로 바꿔줌\n",
    "\n",
    "https://wikidocs.net/45101"
   ],
   "metadata": {}
  },
  {
   "cell_type": "code",
   "execution_count": 58,
   "source": [
    "# list all data in history\n",
    "print(history.history.keys())\n",
    "# summarize history for accuracy\n",
    "plt.plot(history.history['acc'])\n",
    "plt.plot(history.history['val_acc'])\n",
    "plt.title('model accuracy')\n",
    "plt.ylabel('accuracy')\n",
    "plt.xlabel('epoch')\n",
    "plt.legend(['train', 'test'], loc='upper left')\n",
    "plt.show()\n",
    "# summarize history for loss\n",
    "plt.plot(history.history['loss'])\n",
    "plt.plot(history.history['val_loss'])\n",
    "plt.title('model loss')\n",
    "plt.ylabel('loss')\n",
    "plt.xlabel('epoch')\n",
    "plt.legend(['train', 'test'], loc='upper left')\n",
    "plt.show()"
   ],
   "outputs": [
    {
     "output_type": "stream",
     "name": "stdout",
     "text": [
      "dict_keys(['loss', 'acc', 'val_loss', 'val_acc'])\n"
     ]
    },
    {
     "output_type": "display_data",
     "data": {
      "image/png": "[encoded data removed]",
      "text/plain": [
       "<Figure size 640x480 with 1 Axes>"
      ]
     },
     "metadata": {}
    },
    {
     "output_type": "display_data",
     "data": {
      "image/png": "[encoded data removed]",
      "text/plain": [
       "<Figure size 640x480 with 1 Axes>"
      ]
     },
     "metadata": {}
    }
   ],
   "metadata": {}
  },
  {
   "cell_type": "code",
   "execution_count": null,
   "source": [],
   "outputs": [],
   "metadata": {}
  }
 ],
 "metadata": {
  "orig_nbformat": 4,
  "language_info": {
   "name": "python",
   "version": "3.8.0",
   "mimetype": "text/x-python",
   "codemirror_mode": {
    "name": "ipython",
    "version": 3
   },
   "pygments_lexer": "ipython3",
   "nbconvert_exporter": "python",
   "file_extension": ".py"
  },
  "kernelspec": {
   "name": "python3",
   "display_name": "Python 3.8.0 64-bit ('sj': conda)"
  },
  "interpreter": {
   "hash": "022eb7dab1e64abfe7845a82597d3156ee0a5d78294cf462a778b063942c3de6"
  }
 },
 "nbformat": 4,
 "nbformat_minor": 2
}