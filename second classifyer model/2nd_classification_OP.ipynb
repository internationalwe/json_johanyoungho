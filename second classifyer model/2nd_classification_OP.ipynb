{
 "cells": [
  {
   "cell_type": "code",
   "execution_count": 1,
   "source": [
    "import pandas as pd\r\n",
    "\r\n",
    "ddata = pd.read_csv(\"./data/ddata.txt\", encoding=\"euc-kr\", sep=\"\\t\", names=[\"num\",\"speaker\",\"contents\",\"tags\"])\r\n",
    "mdata = pd.read_csv(\"./data/mdata.txt\", encoding=\"euc-kr\", sep=\"\\t\", names=[\"id\",\"part\",\"category\",\"exptype\",\"exp\"])\r\n",
    "\r\n",
    "ddata.head()"
   ],
   "outputs": [
    {
     "output_type": "execute_result",
     "data": {
      "text/html": [
       "<div>\n",
       "<style scoped>\n",
       "    .dataframe tbody tr th:only-of-type {\n",
       "        vertical-align: middle;\n",
       "    }\n",
       "\n",
       "    .dataframe tbody tr th {\n",
       "        vertical-align: top;\n",
       "    }\n",
       "\n",
       "    .dataframe thead th {\n",
       "        text-align: right;\n",
       "    }\n",
       "</style>\n",
       "<table border=\"1\" class=\"dataframe\">\n",
       "  <thead>\n",
       "    <tr style=\"text-align: right;\">\n",
       "      <th></th>\n",
       "      <th>num</th>\n",
       "      <th>speaker</th>\n",
       "      <th>contents</th>\n",
       "      <th>tags</th>\n",
       "    </tr>\n",
       "  </thead>\n",
       "  <tbody>\n",
       "    <tr>\n",
       "      <th>0</th>\n",
       "      <td>0</td>\n",
       "      <td>&lt;CO&gt;</td>\n",
       "      <td>어서오세요. 코디봇입니다. 무엇을 도와드릴까요?</td>\n",
       "      <td>INTRO</td>\n",
       "    </tr>\n",
       "    <tr>\n",
       "      <th>1</th>\n",
       "      <td>1</td>\n",
       "      <td>&lt;US&gt;</td>\n",
       "      <td>처음 대학교 들어가는데 입을 옷 코디해주세요.</td>\n",
       "      <td>NaN</td>\n",
       "    </tr>\n",
       "    <tr>\n",
       "      <th>2</th>\n",
       "      <td>2</td>\n",
       "      <td>&lt;CO&gt;</td>\n",
       "      <td>신입생 코디에 어울리게 화사한 스웨터를 추천해드릴게요.</td>\n",
       "      <td>EXP_RES_SITUATION;EXP_RES_DESCRIPTION</td>\n",
       "    </tr>\n",
       "    <tr>\n",
       "      <th>3</th>\n",
       "      <td>3</td>\n",
       "      <td>&lt;AC&gt;</td>\n",
       "      <td>SW-009</td>\n",
       "      <td>NaN</td>\n",
       "    </tr>\n",
       "    <tr>\n",
       "      <th>4</th>\n",
       "      <td>4</td>\n",
       "      <td>&lt;US&gt;</td>\n",
       "      <td>이 옷에 어울리는 치마로 추천해주세요.</td>\n",
       "      <td>USER_SUCCESS</td>\n",
       "    </tr>\n",
       "  </tbody>\n",
       "</table>\n",
       "</div>"
      ],
      "text/plain": [
       "   num speaker                         contents  \\\n",
       "0    0    <CO>       어서오세요. 코디봇입니다. 무엇을 도와드릴까요?   \n",
       "1    1    <US>        처음 대학교 들어가는데 입을 옷 코디해주세요.   \n",
       "2    2    <CO>   신입생 코디에 어울리게 화사한 스웨터를 추천해드릴게요.   \n",
       "3    3    <AC>                           SW-009   \n",
       "4    4    <US>            이 옷에 어울리는 치마로 추천해주세요.   \n",
       "\n",
       "                                    tags  \n",
       "0                                  INTRO  \n",
       "1                                    NaN  \n",
       "2  EXP_RES_SITUATION;EXP_RES_DESCRIPTION  \n",
       "3                                    NaN  \n",
       "4                           USER_SUCCESS  "
      ]
     },
     "metadata": {},
     "execution_count": 1
    }
   ],
   "metadata": {}
  },
  {
   "cell_type": "markdown",
   "source": [
    "# 1. 전체 대화셋 개수 카운트"
   ],
   "metadata": {}
  },
  {
   "cell_type": "code",
   "execution_count": 2,
   "source": [
    "dial_num = 0\r\n",
    "\r\n",
    "for i in range(1, len(ddata)):\r\n",
    "    if ddata.loc[i, \"num\"] == 0:\r\n",
    "        dial_num += 1\r\n",
    "print(\"총 대화셋 수: \",dial_num)"
   ],
   "outputs": [
    {
     "output_type": "stream",
     "name": "stdout",
     "text": [
      "총 대화셋 수:  7235\n"
     ]
    }
   ],
   "metadata": {}
  },
  {
   "cell_type": "markdown",
   "source": [
    "# 2. Mdata 합치기"
   ],
   "metadata": {}
  },
  {
   "cell_type": "markdown",
   "source": [
    "## - Part 살려서 합치기"
   ],
   "metadata": {}
  },
  {
   "cell_type": "code",
   "execution_count": 3,
   "source": [
    "c_mdata = pd.DataFrame({\"id\":[0],\"exp\":[None]})\r\n",
    "c_mdata.drop(0, axis=0, inplace=True)\r\n",
    "c_mdata"
   ],
   "outputs": [
    {
     "output_type": "execute_result",
     "data": {
      "text/html": [
       "<div>\n",
       "<style scoped>\n",
       "    .dataframe tbody tr th:only-of-type {\n",
       "        vertical-align: middle;\n",
       "    }\n",
       "\n",
       "    .dataframe tbody tr th {\n",
       "        vertical-align: top;\n",
       "    }\n",
       "\n",
       "    .dataframe thead th {\n",
       "        text-align: right;\n",
       "    }\n",
       "</style>\n",
       "<table border=\"1\" class=\"dataframe\">\n",
       "  <thead>\n",
       "    <tr style=\"text-align: right;\">\n",
       "      <th></th>\n",
       "      <th>id</th>\n",
       "      <th>exp</th>\n",
       "    </tr>\n",
       "  </thead>\n",
       "  <tbody>\n",
       "  </tbody>\n",
       "</table>\n",
       "</div>"
      ],
      "text/plain": [
       "Empty DataFrame\n",
       "Columns: [id, exp]\n",
       "Index: []"
      ]
     },
     "metadata": {},
     "execution_count": 3
    }
   ],
   "metadata": {}
  },
  {
   "cell_type": "code",
   "execution_count": 4,
   "source": [
    "id = \"\"\r\n",
    "idx = 0\r\n",
    "for i in range(len(mdata)):\r\n",
    "    if id == mdata.loc[i, \"id\"]:\r\n",
    "        c_mdata.loc[c_mdata.index[(c_mdata[\"id\"] == id)].tolist().pop(),\"exp\"] = c_mdata.loc[c_mdata.index[(c_mdata[\"id\"] == id)].tolist().pop(),\"exp\"] + \" \" + mdata.loc[i, \"exp\"]\r\n",
    "    \r\n",
    "    else:\r\n",
    "        id = mdata.loc[i, \"id\"]\r\n",
    "        c_mdata.loc[i, \"id\"] = id\r\n",
    "        c_mdata.loc[i, \"exp\"] = mdata.loc[i, \"exp\"]\r\n",
    "\r\n",
    "c_mdata.head()"
   ],
   "outputs": [
    {
     "output_type": "execute_result",
     "data": {
      "text/html": [
       "<div>\n",
       "<style scoped>\n",
       "    .dataframe tbody tr th:only-of-type {\n",
       "        vertical-align: middle;\n",
       "    }\n",
       "\n",
       "    .dataframe tbody tr th {\n",
       "        vertical-align: top;\n",
       "    }\n",
       "\n",
       "    .dataframe thead th {\n",
       "        text-align: right;\n",
       "    }\n",
       "</style>\n",
       "<table border=\"1\" class=\"dataframe\">\n",
       "  <thead>\n",
       "    <tr style=\"text-align: right;\">\n",
       "      <th></th>\n",
       "      <th>id</th>\n",
       "      <th>exp</th>\n",
       "    </tr>\n",
       "  </thead>\n",
       "  <tbody>\n",
       "    <tr>\n",
       "      <th>0</th>\n",
       "      <td>BL-001</td>\n",
       "      <td>단추 여밈의 전체 오픈형 스탠드 칼라와 브이넥 네크라인의 결합스타일 손목까지 내려오...</td>\n",
       "    </tr>\n",
       "    <tr>\n",
       "      <th>20</th>\n",
       "      <td>BL-002</td>\n",
       "      <td>넓은 셔츠칼라 네크라인 앞중심에 반 오픈 끈여밈있는 스타일 드롭숄더 퍼프형 소매로 ...</td>\n",
       "    </tr>\n",
       "    <tr>\n",
       "      <th>38</th>\n",
       "      <td>BL-003</td>\n",
       "      <td>앞 중심에 단추 여밈 칼라가 없는 넓고 깊게 파인 브이넥 엉덩이 밑으로 내려오는 긴...</td>\n",
       "    </tr>\n",
       "    <tr>\n",
       "      <th>63</th>\n",
       "      <td>BL-004</td>\n",
       "      <td>앞중심에 단추 여밈 칼라가 없는 라운드넥으로 골반 위에서 끝나는 짧은 기장 손목, ...</td>\n",
       "    </tr>\n",
       "    <tr>\n",
       "      <th>84</th>\n",
       "      <td>BL-005</td>\n",
       "      <td>앞단추 여밈의 전체 오픈형 칼라가 없는 라운드넥크라인 엉덩이 위에서 끝나는 짧은 기...</td>\n",
       "    </tr>\n",
       "  </tbody>\n",
       "</table>\n",
       "</div>"
      ],
      "text/plain": [
       "         id                                                exp\n",
       "0   BL-001   단추 여밈의 전체 오픈형 스탠드 칼라와 브이넥 네크라인의 결합스타일 손목까지 내려오...\n",
       "20  BL-002   넓은 셔츠칼라 네크라인 앞중심에 반 오픈 끈여밈있는 스타일 드롭숄더 퍼프형 소매로 ...\n",
       "38  BL-003   앞 중심에 단추 여밈 칼라가 없는 넓고 깊게 파인 브이넥 엉덩이 밑으로 내려오는 긴...\n",
       "63  BL-004   앞중심에 단추 여밈 칼라가 없는 라운드넥으로 골반 위에서 끝나는 짧은 기장 손목, ...\n",
       "84  BL-005   앞단추 여밈의 전체 오픈형 칼라가 없는 라운드넥크라인 엉덩이 위에서 끝나는 짧은 기..."
      ]
     },
     "metadata": {},
     "execution_count": 4
    }
   ],
   "metadata": {}
  },
  {
   "cell_type": "code",
   "execution_count": 5,
   "source": [
    "for i in range(len(c_mdata)): # id 뒤에 공백 없애기\r\n",
    "    c_mdata.iloc[i].id = c_mdata.iloc[i].id.strip()\r\n",
    "\r\n",
    "print(c_mdata.iloc[0].id)\r\n",
    "c_mdata.reset_index(drop=True,inplace=True)\r\n",
    "c_mdata.head()"
   ],
   "outputs": [
    {
     "output_type": "stream",
     "name": "stdout",
     "text": [
      "BL-001\n"
     ]
    },
    {
     "output_type": "execute_result",
     "data": {
      "text/html": [
       "<div>\n",
       "<style scoped>\n",
       "    .dataframe tbody tr th:only-of-type {\n",
       "        vertical-align: middle;\n",
       "    }\n",
       "\n",
       "    .dataframe tbody tr th {\n",
       "        vertical-align: top;\n",
       "    }\n",
       "\n",
       "    .dataframe thead th {\n",
       "        text-align: right;\n",
       "    }\n",
       "</style>\n",
       "<table border=\"1\" class=\"dataframe\">\n",
       "  <thead>\n",
       "    <tr style=\"text-align: right;\">\n",
       "      <th></th>\n",
       "      <th>id</th>\n",
       "      <th>exp</th>\n",
       "    </tr>\n",
       "  </thead>\n",
       "  <tbody>\n",
       "    <tr>\n",
       "      <th>0</th>\n",
       "      <td>BL-001</td>\n",
       "      <td>단추 여밈의 전체 오픈형 스탠드 칼라와 브이넥 네크라인의 결합스타일 손목까지 내려오...</td>\n",
       "    </tr>\n",
       "    <tr>\n",
       "      <th>1</th>\n",
       "      <td>BL-002</td>\n",
       "      <td>넓은 셔츠칼라 네크라인 앞중심에 반 오픈 끈여밈있는 스타일 드롭숄더 퍼프형 소매로 ...</td>\n",
       "    </tr>\n",
       "    <tr>\n",
       "      <th>2</th>\n",
       "      <td>BL-003</td>\n",
       "      <td>앞 중심에 단추 여밈 칼라가 없는 넓고 깊게 파인 브이넥 엉덩이 밑으로 내려오는 긴...</td>\n",
       "    </tr>\n",
       "    <tr>\n",
       "      <th>3</th>\n",
       "      <td>BL-004</td>\n",
       "      <td>앞중심에 단추 여밈 칼라가 없는 라운드넥으로 골반 위에서 끝나는 짧은 기장 손목, ...</td>\n",
       "    </tr>\n",
       "    <tr>\n",
       "      <th>4</th>\n",
       "      <td>BL-005</td>\n",
       "      <td>앞단추 여밈의 전체 오픈형 칼라가 없는 라운드넥크라인 엉덩이 위에서 끝나는 짧은 기...</td>\n",
       "    </tr>\n",
       "  </tbody>\n",
       "</table>\n",
       "</div>"
      ],
      "text/plain": [
       "       id                                                exp\n",
       "0  BL-001  단추 여밈의 전체 오픈형 스탠드 칼라와 브이넥 네크라인의 결합스타일 손목까지 내려오...\n",
       "1  BL-002  넓은 셔츠칼라 네크라인 앞중심에 반 오픈 끈여밈있는 스타일 드롭숄더 퍼프형 소매로 ...\n",
       "2  BL-003  앞 중심에 단추 여밈 칼라가 없는 넓고 깊게 파인 브이넥 엉덩이 밑으로 내려오는 긴...\n",
       "3  BL-004  앞중심에 단추 여밈 칼라가 없는 라운드넥으로 골반 위에서 끝나는 짧은 기장 손목, ...\n",
       "4  BL-005  앞단추 여밈의 전체 오픈형 칼라가 없는 라운드넥크라인 엉덩이 위에서 끝나는 짧은 기..."
      ]
     },
     "metadata": {},
     "execution_count": 5
    }
   ],
   "metadata": {}
  },
  {
   "cell_type": "markdown",
   "source": [
    "# 3. NaN, Null 값 확인"
   ],
   "metadata": {}
  },
  {
   "cell_type": "code",
   "execution_count": 6,
   "source": [
    "ddata.drop(ddata.index[ddata.tags == \"INTRO\"].tolist(), axis=0, inplace=True)\r\n",
    "ddata.reset_index(drop=True, inplace=True)\r\n",
    "ddata[ddata.tags == \"INTRO\"]"
   ],
   "outputs": [
    {
     "output_type": "execute_result",
     "data": {
      "text/html": [
       "<div>\n",
       "<style scoped>\n",
       "    .dataframe tbody tr th:only-of-type {\n",
       "        vertical-align: middle;\n",
       "    }\n",
       "\n",
       "    .dataframe tbody tr th {\n",
       "        vertical-align: top;\n",
       "    }\n",
       "\n",
       "    .dataframe thead th {\n",
       "        text-align: right;\n",
       "    }\n",
       "</style>\n",
       "<table border=\"1\" class=\"dataframe\">\n",
       "  <thead>\n",
       "    <tr style=\"text-align: right;\">\n",
       "      <th></th>\n",
       "      <th>num</th>\n",
       "      <th>speaker</th>\n",
       "      <th>contents</th>\n",
       "      <th>tags</th>\n",
       "    </tr>\n",
       "  </thead>\n",
       "  <tbody>\n",
       "  </tbody>\n",
       "</table>\n",
       "</div>"
      ],
      "text/plain": [
       "Empty DataFrame\n",
       "Columns: [num, speaker, contents, tags]\n",
       "Index: []"
      ]
     },
     "metadata": {},
     "execution_count": 6
    }
   ],
   "metadata": {}
  },
  {
   "cell_type": "code",
   "execution_count": 7,
   "source": [
    "ddata.isnull().sum()"
   ],
   "outputs": [
    {
     "output_type": "execute_result",
     "data": {
      "text/plain": [
       "num             0\n",
       "speaker         0\n",
       "contents        0\n",
       "tags        51927\n",
       "dtype: int64"
      ]
     },
     "metadata": {},
     "execution_count": 7
    }
   ],
   "metadata": {}
  },
  {
   "cell_type": "code",
   "execution_count": 8,
   "source": [
    "ddata.isna().sum()"
   ],
   "outputs": [
    {
     "output_type": "execute_result",
     "data": {
      "text/plain": [
       "num             0\n",
       "speaker         0\n",
       "contents        0\n",
       "tags        51927\n",
       "dtype: int64"
      ]
     },
     "metadata": {},
     "execution_count": 8
    }
   ],
   "metadata": {}
  },
  {
   "cell_type": "code",
   "execution_count": 9,
   "source": [
    "ddata.fillna(\"\", inplace=True)\r\n",
    "ddata.isna().sum()"
   ],
   "outputs": [
    {
     "output_type": "execute_result",
     "data": {
      "text/plain": [
       "num         0\n",
       "speaker     0\n",
       "contents    0\n",
       "tags        0\n",
       "dtype: int64"
      ]
     },
     "metadata": {},
     "execution_count": 9
    }
   ],
   "metadata": {}
  },
  {
   "cell_type": "code",
   "execution_count": 10,
   "source": [
    "mdata.isnull().sum()"
   ],
   "outputs": [
    {
     "output_type": "execute_result",
     "data": {
      "text/plain": [
       "id          0\n",
       "part        0\n",
       "category    0\n",
       "exptype     0\n",
       "exp         0\n",
       "dtype: int64"
      ]
     },
     "metadata": {},
     "execution_count": 10
    }
   ],
   "metadata": {}
  },
  {
   "cell_type": "code",
   "execution_count": 11,
   "source": [
    "c_mdata.isnull().sum()"
   ],
   "outputs": [
    {
     "output_type": "execute_result",
     "data": {
      "text/plain": [
       "id     0\n",
       "exp    0\n",
       "dtype: int64"
      ]
     },
     "metadata": {},
     "execution_count": 11
    }
   ],
   "metadata": {}
  },
  {
   "cell_type": "markdown",
   "source": [
    "# 4. 추천 성공 의상 아이디 종류 및 빈도 카운트 "
   ],
   "metadata": {}
  },
  {
   "cell_type": "markdown",
   "source": [
    "## 한 번에 추천해도 실패하면 전부 실패로 달기"
   ],
   "metadata": {}
  },
  {
   "cell_type": "code",
   "execution_count": 12,
   "source": [
    "c_data = pd.DataFrame({\"contents\":[None], \"id\":[\"xx-xxx\"]})\r\n",
    "c_data.drop(0,axis=0,inplace=True)\r\n",
    "c_data.head()"
   ],
   "outputs": [
    {
     "output_type": "execute_result",
     "data": {
      "text/html": [
       "<div>\n",
       "<style scoped>\n",
       "    .dataframe tbody tr th:only-of-type {\n",
       "        vertical-align: middle;\n",
       "    }\n",
       "\n",
       "    .dataframe tbody tr th {\n",
       "        vertical-align: top;\n",
       "    }\n",
       "\n",
       "    .dataframe thead th {\n",
       "        text-align: right;\n",
       "    }\n",
       "</style>\n",
       "<table border=\"1\" class=\"dataframe\">\n",
       "  <thead>\n",
       "    <tr style=\"text-align: right;\">\n",
       "      <th></th>\n",
       "      <th>contents</th>\n",
       "      <th>id</th>\n",
       "    </tr>\n",
       "  </thead>\n",
       "  <tbody>\n",
       "  </tbody>\n",
       "</table>\n",
       "</div>"
      ],
      "text/plain": [
       "Empty DataFrame\n",
       "Columns: [contents, id]\n",
       "Index: []"
      ]
     },
     "metadata": {},
     "execution_count": 12
    }
   ],
   "metadata": {}
  },
  {
   "cell_type": "markdown",
   "source": [
    "<코드 동작 원리>\n",
    "<br>\n",
    "\n",
    "대화문 하나씩 받아온 다음\n",
    "- AC 태그 문장이면 일단 의상 변수에 저장,\n",
    "- user_success 태그 문장이면\n",
    "\n",
    "   - 변수에 저장된 의상이 하나면\n",
    "\n",
    "      - 바로 대화문 변수랑 의상 변수 및 의상 메타데이터 합쳐서 저장 -> 레이블(id 컬럼에 저장)은 의상 코드가 됨\n",
    "\n",
    "   - 변수에 저장된 의상의 여러 개면\n",
    "\n",
    "      - 의상을 하나의 코드 단위로 쪼개서 대화문 변수랑 의상 메타데이터 합쳐서 저장\n",
    "      \n",
    "-  둘 다 아니고 일반 대화문이면 대화문 변수에 저장"
   ],
   "metadata": {}
  },
  {
   "cell_type": "code",
   "execution_count": 13,
   "source": [
    "dial = ddata.loc[0, \"contents\"].strip()\r\n",
    "ac = \"\"\r\n",
    "\r\n",
    "for i in range(1,len(ddata)):\r\n",
    "    cur_sen = ddata.loc[i,\"contents\"].strip()\r\n",
    "\r\n",
    "    if ddata.loc[i, \"num\"] > ddata.loc[i-1, \"num\"]: # 이전 대화셋에 포함된 문장인지 확인\r\n",
    "        \r\n",
    "        if ddata.loc[i,\"speaker\"] == \"<AC>\": # case 1. 의상 아이디가 나온 경우\r\n",
    "            if len(ac) > 1:\r\n",
    "                ac = ac + \" \" + cur_sen # 의상 아이디 저장\r\n",
    "            else:\r\n",
    "                ac = cur_sen\r\n",
    "\r\n",
    "        elif \"USER_SUCCESS\" == ddata.loc[i,\"tags\"]: # case 2. USER_SUCCESS 태그가 나온 경우\r\n",
    "            if 0 < len(ac) < 7: # 의상을 하나만 추천한 경우\r\n",
    "                dial = dial + \" \" + ac + \" \" + cur_sen\r\n",
    "                c_data.loc[i, \"contents\"] =  dial + \" \" + c_mdata.loc[c_mdata.id == ac].exp.values[0]\r\n",
    "                c_data.loc[i, \"id\"] = ac\r\n",
    "                ac = \"\"\r\n",
    "\r\n",
    "            elif len(ac) == 0:\r\n",
    "                dial = dial + \" \" + cur_sen\r\n",
    "\r\n",
    "            else: # 의상을 한 번에 여러 개 추천한 경우\r\n",
    "                idx_cnt = 0\r\n",
    "                for one_ac in ac.split():\r\n",
    "                    c_data.loc[i + idx_cnt, \"contents\"] =  dial + \" \" + one_ac + \" \"+ cur_sen + \" \" + c_mdata.loc[c_mdata.id == one_ac].exp.values[0]\r\n",
    "                    c_data.loc[i + idx_cnt, \"id\"] = one_ac\r\n",
    "                    idx_cnt += 1\r\n",
    "                dial = dial + \" \" + ac + \" \" + cur_sen    \r\n",
    "                ac = \"\"\r\n",
    "        \r\n",
    "        elif \"USER_FAIL\" in ddata.loc[i,\"tags\"]:\r\n",
    "            dial = dial + \" \" + ac + \" \" + cur_sen\r\n",
    "            ac = \"\"\r\n",
    "\r\n",
    "        else: # case 3. 그냥 대화문인 경우\r\n",
    "            dial = dial + \" \" + cur_sen\r\n",
    "    \r\n",
    "    else: #새로운 대화셋 시작이면 초기화\r\n",
    "        dial = cur_sen\r\n",
    "        ac = \"\""
   ],
   "outputs": [],
   "metadata": {}
  },
  {
   "cell_type": "code",
   "execution_count": 14,
   "source": [
    "print(\"전체 데이터 수: \", len(c_data))\r\n",
    "c_data.head()"
   ],
   "outputs": [
    {
     "output_type": "stream",
     "name": "stdout",
     "text": [
      "전체 데이터 수:  34303\n"
     ]
    },
    {
     "output_type": "execute_result",
     "data": {
      "text/html": [
       "<div>\n",
       "<style scoped>\n",
       "    .dataframe tbody tr th:only-of-type {\n",
       "        vertical-align: middle;\n",
       "    }\n",
       "\n",
       "    .dataframe tbody tr th {\n",
       "        vertical-align: top;\n",
       "    }\n",
       "\n",
       "    .dataframe thead th {\n",
       "        text-align: right;\n",
       "    }\n",
       "</style>\n",
       "<table border=\"1\" class=\"dataframe\">\n",
       "  <thead>\n",
       "    <tr style=\"text-align: right;\">\n",
       "      <th></th>\n",
       "      <th>contents</th>\n",
       "      <th>id</th>\n",
       "    </tr>\n",
       "  </thead>\n",
       "  <tbody>\n",
       "    <tr>\n",
       "      <th>3</th>\n",
       "      <td>처음 대학교 들어가는데 입을 옷 코디해주세요. 신입생 코디에 어울리게 화사한 스웨터...</td>\n",
       "      <td>SW-009</td>\n",
       "    </tr>\n",
       "    <tr>\n",
       "      <th>12</th>\n",
       "      <td>처음 대학교 들어가는데 입을 옷 코디해주세요. 신입생 코디에 어울리게 화사한 스웨터...</td>\n",
       "      <td>SK-053</td>\n",
       "    </tr>\n",
       "    <tr>\n",
       "      <th>17</th>\n",
       "      <td>처음 대학교 들어가는데 입을 옷 코디해주세요. 신입생 코디에 어울리게 화사한 스웨터...</td>\n",
       "      <td>CT-019</td>\n",
       "    </tr>\n",
       "    <tr>\n",
       "      <th>22</th>\n",
       "      <td>처음 대학교 들어가는데 입을 옷 코디해주세요. 신입생 코디에 어울리게 화사한 스웨터...</td>\n",
       "      <td>SE-039</td>\n",
       "    </tr>\n",
       "    <tr>\n",
       "      <th>26</th>\n",
       "      <td>처음 대학교 들어가는데 입을 옷 코디해주세요. 신입생 코디에 어울리게 화사한 스웨터...</td>\n",
       "      <td>CT-019</td>\n",
       "    </tr>\n",
       "  </tbody>\n",
       "</table>\n",
       "</div>"
      ],
      "text/plain": [
       "                                             contents      id\n",
       "3   처음 대학교 들어가는데 입을 옷 코디해주세요. 신입생 코디에 어울리게 화사한 스웨터...  SW-009\n",
       "12  처음 대학교 들어가는데 입을 옷 코디해주세요. 신입생 코디에 어울리게 화사한 스웨터...  SK-053\n",
       "17  처음 대학교 들어가는데 입을 옷 코디해주세요. 신입생 코디에 어울리게 화사한 스웨터...  CT-019\n",
       "22  처음 대학교 들어가는데 입을 옷 코디해주세요. 신입생 코디에 어울리게 화사한 스웨터...  SE-039\n",
       "26  처음 대학교 들어가는데 입을 옷 코디해주세요. 신입생 코디에 어울리게 화사한 스웨터...  CT-019"
      ]
     },
     "metadata": {},
     "execution_count": 14
    }
   ],
   "metadata": {}
  },
  {
   "cell_type": "code",
   "execution_count": 15,
   "source": [
    "c_data.reset_index(drop=True ,inplace=True)\r\n",
    "c_data.head()"
   ],
   "outputs": [
    {
     "output_type": "execute_result",
     "data": {
      "text/html": [
       "<div>\n",
       "<style scoped>\n",
       "    .dataframe tbody tr th:only-of-type {\n",
       "        vertical-align: middle;\n",
       "    }\n",
       "\n",
       "    .dataframe tbody tr th {\n",
       "        vertical-align: top;\n",
       "    }\n",
       "\n",
       "    .dataframe thead th {\n",
       "        text-align: right;\n",
       "    }\n",
       "</style>\n",
       "<table border=\"1\" class=\"dataframe\">\n",
       "  <thead>\n",
       "    <tr style=\"text-align: right;\">\n",
       "      <th></th>\n",
       "      <th>contents</th>\n",
       "      <th>id</th>\n",
       "    </tr>\n",
       "  </thead>\n",
       "  <tbody>\n",
       "    <tr>\n",
       "      <th>0</th>\n",
       "      <td>처음 대학교 들어가는데 입을 옷 코디해주세요. 신입생 코디에 어울리게 화사한 스웨터...</td>\n",
       "      <td>SW-009</td>\n",
       "    </tr>\n",
       "    <tr>\n",
       "      <th>1</th>\n",
       "      <td>처음 대학교 들어가는데 입을 옷 코디해주세요. 신입생 코디에 어울리게 화사한 스웨터...</td>\n",
       "      <td>SK-053</td>\n",
       "    </tr>\n",
       "    <tr>\n",
       "      <th>2</th>\n",
       "      <td>처음 대학교 들어가는데 입을 옷 코디해주세요. 신입생 코디에 어울리게 화사한 스웨터...</td>\n",
       "      <td>CT-019</td>\n",
       "    </tr>\n",
       "    <tr>\n",
       "      <th>3</th>\n",
       "      <td>처음 대학교 들어가는데 입을 옷 코디해주세요. 신입생 코디에 어울리게 화사한 스웨터...</td>\n",
       "      <td>SE-039</td>\n",
       "    </tr>\n",
       "    <tr>\n",
       "      <th>4</th>\n",
       "      <td>처음 대학교 들어가는데 입을 옷 코디해주세요. 신입생 코디에 어울리게 화사한 스웨터...</td>\n",
       "      <td>CT-019</td>\n",
       "    </tr>\n",
       "  </tbody>\n",
       "</table>\n",
       "</div>"
      ],
      "text/plain": [
       "                                            contents      id\n",
       "0  처음 대학교 들어가는데 입을 옷 코디해주세요. 신입생 코디에 어울리게 화사한 스웨터...  SW-009\n",
       "1  처음 대학교 들어가는데 입을 옷 코디해주세요. 신입생 코디에 어울리게 화사한 스웨터...  SK-053\n",
       "2  처음 대학교 들어가는데 입을 옷 코디해주세요. 신입생 코디에 어울리게 화사한 스웨터...  CT-019\n",
       "3  처음 대학교 들어가는데 입을 옷 코디해주세요. 신입생 코디에 어울리게 화사한 스웨터...  SE-039\n",
       "4  처음 대학교 들어가는데 입을 옷 코디해주세요. 신입생 코디에 어울리게 화사한 스웨터...  CT-019"
      ]
     },
     "metadata": {},
     "execution_count": 15
    }
   ],
   "metadata": {}
  },
  {
   "cell_type": "code",
   "execution_count": 16,
   "source": [
    "c_data.loc[0].contents"
   ],
   "outputs": [
    {
     "output_type": "execute_result",
     "data": {
      "text/plain": [
       "'처음 대학교 들어가는데 입을 옷 코디해주세요. 신입생 코디에 어울리게 화사한 스웨터를 추천해드릴게요. SW-009 이 옷에 어울리는 치마로 추천해주세요. 라운드 네크라인 여밈이 없는 풀오버 스타일 전체 케이블 조직 드롭숄더 슬리브 손등까지 오는 길이의 소매 몸에 적당히 맞는 품 엉덩이를 살짝 덮는 길이 네크라인, 소매 끝, 밑단에 고무단 처리 레이온52%,나일론20%,폴리에스터28% 꽈배기 조직, 플레인 조직이 섞여 있는 형태 드라이 크리닝 단색의 라임색 브라이트톤(고명도 고채도)의 옐로우 그린 산뜻하고 발랄한 느낌 기본의 단정한 편안한 산뜻한 발랄한 경쾌한 따뜻한 데일리룩 캠퍼스룩'"
      ]
     },
     "metadata": {},
     "execution_count": 16
    }
   ],
   "metadata": {}
  },
  {
   "cell_type": "code",
   "execution_count": 17,
   "source": [
    "op_data = pd.DataFrame({\"contents\":[None], \"id\":[\"xx-xxx\"]})\r\n",
    "op_data.drop(0,axis=0,inplace=True)\r\n",
    "op_data.head()"
   ],
   "outputs": [
    {
     "output_type": "execute_result",
     "data": {
      "text/html": [
       "<div>\n",
       "<style scoped>\n",
       "    .dataframe tbody tr th:only-of-type {\n",
       "        vertical-align: middle;\n",
       "    }\n",
       "\n",
       "    .dataframe tbody tr th {\n",
       "        vertical-align: top;\n",
       "    }\n",
       "\n",
       "    .dataframe thead th {\n",
       "        text-align: right;\n",
       "    }\n",
       "</style>\n",
       "<table border=\"1\" class=\"dataframe\">\n",
       "  <thead>\n",
       "    <tr style=\"text-align: right;\">\n",
       "      <th></th>\n",
       "      <th>contents</th>\n",
       "      <th>id</th>\n",
       "    </tr>\n",
       "  </thead>\n",
       "  <tbody>\n",
       "  </tbody>\n",
       "</table>\n",
       "</div>"
      ],
      "text/plain": [
       "Empty DataFrame\n",
       "Columns: [contents, id]\n",
       "Index: []"
      ]
     },
     "metadata": {},
     "execution_count": 17
    }
   ],
   "metadata": {}
  },
  {
   "cell_type": "code",
   "execution_count": 18,
   "source": [
    "for i in range(len(c_data)):\r\n",
    "    if \"OP\" in c_data[\"id\"][i][0:2]:\r\n",
    "        op_data = op_data.append(c_data.iloc[i])\r\n",
    "\r\n",
    "op_data.reset_index(drop=True, inplace=True)\r\n",
    "print(\"데이터 개수\",len(op_data))\r\n",
    "op_data.head()"
   ],
   "outputs": [
    {
     "output_type": "stream",
     "name": "stdout",
     "text": [
      "데이터 개수 1745\n"
     ]
    },
    {
     "output_type": "execute_result",
     "data": {
      "text/html": [
       "<div>\n",
       "<style scoped>\n",
       "    .dataframe tbody tr th:only-of-type {\n",
       "        vertical-align: middle;\n",
       "    }\n",
       "\n",
       "    .dataframe tbody tr th {\n",
       "        vertical-align: top;\n",
       "    }\n",
       "\n",
       "    .dataframe thead th {\n",
       "        text-align: right;\n",
       "    }\n",
       "</style>\n",
       "<table border=\"1\" class=\"dataframe\">\n",
       "  <thead>\n",
       "    <tr style=\"text-align: right;\">\n",
       "      <th></th>\n",
       "      <th>contents</th>\n",
       "      <th>id</th>\n",
       "    </tr>\n",
       "  </thead>\n",
       "  <tbody>\n",
       "    <tr>\n",
       "      <th>0</th>\n",
       "      <td>주말에 친척언니 결혼식 가는데 격식 있고 화사한 원피스 추천해주세요. 이 원피스는 ...</td>\n",
       "      <td>OP-075</td>\n",
       "    </tr>\n",
       "    <tr>\n",
       "      <th>1</th>\n",
       "      <td>주말에 친척언니 결혼식에 가는데요. 여성스럽고 깔끔한 원피스 추천해주세요. 격식 있...</td>\n",
       "      <td>OP-057</td>\n",
       "    </tr>\n",
       "    <tr>\n",
       "      <th>2</th>\n",
       "      <td>저녁에 친구와 야구장에 가기로 했어요. 롱 가디건에 어울리는 원피스를 추천해주세요....</td>\n",
       "      <td>OP-002</td>\n",
       "    </tr>\n",
       "    <tr>\n",
       "      <th>3</th>\n",
       "      <td>레스토랑에서 외식할 때 입을 옷을 찾고 싶습니다. 옷은 가을 옷으로 보여주세요. 네...</td>\n",
       "      <td>OP-068</td>\n",
       "    </tr>\n",
       "    <tr>\n",
       "      <th>4</th>\n",
       "      <td>레스토랑에서 외식할 때 입을 옷을 찾고 싶습니다. 옷은 가을 옷으로 보여주세요. 네...</td>\n",
       "      <td>OP-068</td>\n",
       "    </tr>\n",
       "  </tbody>\n",
       "</table>\n",
       "</div>"
      ],
      "text/plain": [
       "                                            contents      id\n",
       "0  주말에 친척언니 결혼식 가는데 격식 있고 화사한 원피스 추천해주세요. 이 원피스는 ...  OP-075\n",
       "1  주말에 친척언니 결혼식에 가는데요. 여성스럽고 깔끔한 원피스 추천해주세요. 격식 있...  OP-057\n",
       "2  저녁에 친구와 야구장에 가기로 했어요. 롱 가디건에 어울리는 원피스를 추천해주세요....  OP-002\n",
       "3  레스토랑에서 외식할 때 입을 옷을 찾고 싶습니다. 옷은 가을 옷으로 보여주세요. 네...  OP-068\n",
       "4  레스토랑에서 외식할 때 입을 옷을 찾고 싶습니다. 옷은 가을 옷으로 보여주세요. 네...  OP-068"
      ]
     },
     "metadata": {},
     "execution_count": 18
    }
   ],
   "metadata": {}
  },
  {
   "cell_type": "code",
   "execution_count": 19,
   "source": [
    "op_data[\"contents\"] = op_data[\"contents\"].str.replace(\"[^A-Za-z0-9ㄱ-ㅎㅏ-ㅣ가-힣 ]\",\"\")\r\n",
    "op_data.head()"
   ],
   "outputs": [
    {
     "output_type": "stream",
     "name": "stderr",
     "text": [
      "C:\\Users\\nipa008\\AppData\\Local\\Temp/ipykernel_4584/3751146067.py:1: FutureWarning: The default value of regex will change from True to False in a future version.\n",
      "  op_data[\"contents\"] = op_data[\"contents\"].str.replace(\"[^A-Za-z0-9ㄱ-ㅎㅏ-ㅣ가-힣 ]\",\"\")\n"
     ]
    },
    {
     "output_type": "execute_result",
     "data": {
      "text/html": [
       "<div>\n",
       "<style scoped>\n",
       "    .dataframe tbody tr th:only-of-type {\n",
       "        vertical-align: middle;\n",
       "    }\n",
       "\n",
       "    .dataframe tbody tr th {\n",
       "        vertical-align: top;\n",
       "    }\n",
       "\n",
       "    .dataframe thead th {\n",
       "        text-align: right;\n",
       "    }\n",
       "</style>\n",
       "<table border=\"1\" class=\"dataframe\">\n",
       "  <thead>\n",
       "    <tr style=\"text-align: right;\">\n",
       "      <th></th>\n",
       "      <th>contents</th>\n",
       "      <th>id</th>\n",
       "    </tr>\n",
       "  </thead>\n",
       "  <tbody>\n",
       "    <tr>\n",
       "      <th>0</th>\n",
       "      <td>주말에 친척언니 결혼식 가는데 격식 있고 화사한 원피스 추천해주세요 이 원피스는 린...</td>\n",
       "      <td>OP-075</td>\n",
       "    </tr>\n",
       "    <tr>\n",
       "      <th>1</th>\n",
       "      <td>주말에 친척언니 결혼식에 가는데요 여성스럽고 깔끔한 원피스 추천해주세요 격식 있는 ...</td>\n",
       "      <td>OP-057</td>\n",
       "    </tr>\n",
       "    <tr>\n",
       "      <th>2</th>\n",
       "      <td>저녁에 친구와 야구장에 가기로 했어요 롱 가디건에 어울리는 원피스를 추천해주세요 고...</td>\n",
       "      <td>OP-002</td>\n",
       "    </tr>\n",
       "    <tr>\n",
       "      <th>3</th>\n",
       "      <td>레스토랑에서 외식할 때 입을 옷을 찾고 싶습니다 옷은 가을 옷으로 보여주세요 네 그...</td>\n",
       "      <td>OP-068</td>\n",
       "    </tr>\n",
       "    <tr>\n",
       "      <th>4</th>\n",
       "      <td>레스토랑에서 외식할 때 입을 옷을 찾고 싶습니다 옷은 가을 옷으로 보여주세요 네 그...</td>\n",
       "      <td>OP-068</td>\n",
       "    </tr>\n",
       "  </tbody>\n",
       "</table>\n",
       "</div>"
      ],
      "text/plain": [
       "                                            contents      id\n",
       "0  주말에 친척언니 결혼식 가는데 격식 있고 화사한 원피스 추천해주세요 이 원피스는 린...  OP-075\n",
       "1  주말에 친척언니 결혼식에 가는데요 여성스럽고 깔끔한 원피스 추천해주세요 격식 있는 ...  OP-057\n",
       "2  저녁에 친구와 야구장에 가기로 했어요 롱 가디건에 어울리는 원피스를 추천해주세요 고...  OP-002\n",
       "3  레스토랑에서 외식할 때 입을 옷을 찾고 싶습니다 옷은 가을 옷으로 보여주세요 네 그...  OP-068\n",
       "4  레스토랑에서 외식할 때 입을 옷을 찾고 싶습니다 옷은 가을 옷으로 보여주세요 네 그...  OP-068"
      ]
     },
     "metadata": {},
     "execution_count": 19
    }
   ],
   "metadata": {}
  },
  {
   "cell_type": "code",
   "execution_count": 20,
   "source": [
    "op_data[\"id\"] = op_data[\"id\"].str.replace(\"[^0-9]\",\"\")\r\n",
    "\r\n",
    "op_data.head()"
   ],
   "outputs": [
    {
     "output_type": "stream",
     "name": "stderr",
     "text": [
      "C:\\Users\\nipa008\\AppData\\Local\\Temp/ipykernel_4584/4149026526.py:1: FutureWarning: The default value of regex will change from True to False in a future version.\n",
      "  op_data[\"id\"] = op_data[\"id\"].str.replace(\"[^0-9]\",\"\")\n"
     ]
    },
    {
     "output_type": "execute_result",
     "data": {
      "text/html": [
       "<div>\n",
       "<style scoped>\n",
       "    .dataframe tbody tr th:only-of-type {\n",
       "        vertical-align: middle;\n",
       "    }\n",
       "\n",
       "    .dataframe tbody tr th {\n",
       "        vertical-align: top;\n",
       "    }\n",
       "\n",
       "    .dataframe thead th {\n",
       "        text-align: right;\n",
       "    }\n",
       "</style>\n",
       "<table border=\"1\" class=\"dataframe\">\n",
       "  <thead>\n",
       "    <tr style=\"text-align: right;\">\n",
       "      <th></th>\n",
       "      <th>contents</th>\n",
       "      <th>id</th>\n",
       "    </tr>\n",
       "  </thead>\n",
       "  <tbody>\n",
       "    <tr>\n",
       "      <th>0</th>\n",
       "      <td>주말에 친척언니 결혼식 가는데 격식 있고 화사한 원피스 추천해주세요 이 원피스는 린...</td>\n",
       "      <td>075</td>\n",
       "    </tr>\n",
       "    <tr>\n",
       "      <th>1</th>\n",
       "      <td>주말에 친척언니 결혼식에 가는데요 여성스럽고 깔끔한 원피스 추천해주세요 격식 있는 ...</td>\n",
       "      <td>057</td>\n",
       "    </tr>\n",
       "    <tr>\n",
       "      <th>2</th>\n",
       "      <td>저녁에 친구와 야구장에 가기로 했어요 롱 가디건에 어울리는 원피스를 추천해주세요 고...</td>\n",
       "      <td>002</td>\n",
       "    </tr>\n",
       "    <tr>\n",
       "      <th>3</th>\n",
       "      <td>레스토랑에서 외식할 때 입을 옷을 찾고 싶습니다 옷은 가을 옷으로 보여주세요 네 그...</td>\n",
       "      <td>068</td>\n",
       "    </tr>\n",
       "    <tr>\n",
       "      <th>4</th>\n",
       "      <td>레스토랑에서 외식할 때 입을 옷을 찾고 싶습니다 옷은 가을 옷으로 보여주세요 네 그...</td>\n",
       "      <td>068</td>\n",
       "    </tr>\n",
       "  </tbody>\n",
       "</table>\n",
       "</div>"
      ],
      "text/plain": [
       "                                            contents   id\n",
       "0  주말에 친척언니 결혼식 가는데 격식 있고 화사한 원피스 추천해주세요 이 원피스는 린...  075\n",
       "1  주말에 친척언니 결혼식에 가는데요 여성스럽고 깔끔한 원피스 추천해주세요 격식 있는 ...  057\n",
       "2  저녁에 친구와 야구장에 가기로 했어요 롱 가디건에 어울리는 원피스를 추천해주세요 고...  002\n",
       "3  레스토랑에서 외식할 때 입을 옷을 찾고 싶습니다 옷은 가을 옷으로 보여주세요 네 그...  068\n",
       "4  레스토랑에서 외식할 때 입을 옷을 찾고 싶습니다 옷은 가을 옷으로 보여주세요 네 그...  068"
      ]
     },
     "metadata": {},
     "execution_count": 20
    }
   ],
   "metadata": {}
  },
  {
   "cell_type": "code",
   "execution_count": 21,
   "source": [
    "from collections import Counter\r\n",
    "temp = op_data[\"id\"].tolist()\r\n",
    "type_count = dict(Counter(temp))\r\n",
    "type_count"
   ],
   "outputs": [
    {
     "output_type": "execute_result",
     "data": {
      "text/plain": [
       "{'075': 22,\n",
       " '057': 12,\n",
       " '002': 3,\n",
       " '068': 8,\n",
       " '051': 29,\n",
       " '062': 28,\n",
       " '033': 8,\n",
       " '085': 6,\n",
       " '074': 14,\n",
       " '055': 16,\n",
       " '054': 15,\n",
       " '100': 31,\n",
       " '073': 4,\n",
       " '082': 32,\n",
       " '098': 49,\n",
       " '059': 14,\n",
       " '056': 44,\n",
       " '014': 39,\n",
       " '010': 7,\n",
       " '070': 20,\n",
       " '020': 21,\n",
       " '016': 13,\n",
       " '083': 11,\n",
       " '058': 14,\n",
       " '089': 45,\n",
       " '001': 16,\n",
       " '061': 41,\n",
       " '005': 11,\n",
       " '088': 16,\n",
       " '091': 20,\n",
       " '065': 5,\n",
       " '084': 12,\n",
       " '081': 9,\n",
       " '096': 19,\n",
       " '063': 39,\n",
       " '035': 15,\n",
       " '008': 17,\n",
       " '071': 28,\n",
       " '086': 6,\n",
       " '079': 10,\n",
       " '018': 11,\n",
       " '039': 20,\n",
       " '076': 7,\n",
       " '095': 5,\n",
       " '067': 11,\n",
       " '026': 8,\n",
       " '036': 15,\n",
       " '043': 17,\n",
       " '042': 39,\n",
       " '092': 9,\n",
       " '040': 5,\n",
       " '072': 10,\n",
       " '017': 13,\n",
       " '013': 7,\n",
       " '038': 4,\n",
       " '023': 9,\n",
       " '015': 15,\n",
       " '006': 4,\n",
       " '009': 10,\n",
       " '024': 27,\n",
       " '052': 2,\n",
       " '069': 7,\n",
       " '046': 8,\n",
       " '053': 1,\n",
       " '027': 6,\n",
       " '037': 10,\n",
       " '047': 7,\n",
       " '019': 11,\n",
       " '003': 6,\n",
       " '034': 8,\n",
       " '044': 11,\n",
       " '077': 5,\n",
       " '028': 10,\n",
       " '099': 3,\n",
       " '021': 9,\n",
       " '048': 12,\n",
       " '025': 5,\n",
       " '031': 5,\n",
       " '045': 4,\n",
       " '049': 3,\n",
       " '007': 8,\n",
       " '090': 5,\n",
       " '041': 4,\n",
       " '097': 12,\n",
       " '066': 9,\n",
       " '094': 7,\n",
       " '078': 4,\n",
       " '124': 11,\n",
       " '123': 11,\n",
       " '136': 8,\n",
       " '135': 4,\n",
       " '143': 3,\n",
       " '132': 6,\n",
       " '129': 13,\n",
       " '146': 33,\n",
       " '050': 6,\n",
       " '149': 33,\n",
       " '140': 14,\n",
       " '114': 9,\n",
       " '151': 11,\n",
       " '105': 3,\n",
       " '116': 6,\n",
       " '130': 4,\n",
       " '122': 7,\n",
       " '126': 4,\n",
       " '157': 5,\n",
       " '101': 13,\n",
       " '107': 6,\n",
       " '127': 3,\n",
       " '128': 5,\n",
       " '110': 24,\n",
       " '160': 8,\n",
       " '138': 5,\n",
       " '142': 10,\n",
       " '147': 14,\n",
       " '103': 5,\n",
       " '125': 3,\n",
       " '153': 1,\n",
       " '133': 10,\n",
       " '156': 8,\n",
       " '104': 5,\n",
       " '064': 10,\n",
       " '102': 7,\n",
       " '112': 13,\n",
       " '109': 11,\n",
       " '139': 5,\n",
       " '111': 8,\n",
       " '120': 11,\n",
       " '134': 10,\n",
       " '145': 9,\n",
       " '154': 5,\n",
       " '022': 3,\n",
       " '030': 2,\n",
       " '113': 7,\n",
       " '148': 6,\n",
       " '118': 7,\n",
       " '115': 4,\n",
       " '087': 8,\n",
       " '108': 2,\n",
       " '121': 5,\n",
       " '169': 3,\n",
       " '163': 8,\n",
       " '162': 6,\n",
       " '166': 12,\n",
       " '106': 6,\n",
       " '170': 5,\n",
       " '172': 10,\n",
       " '161': 4,\n",
       " '173': 3,\n",
       " '171': 4,\n",
       " '150': 4,\n",
       " '093': 1,\n",
       " '176': 1,\n",
       " '175': 10,\n",
       " '119': 2,\n",
       " '004': 2,\n",
       " '167': 6,\n",
       " '174': 2,\n",
       " '165': 2,\n",
       " '141': 1,\n",
       " '152': 2,\n",
       " '144': 1,\n",
       " '158': 2,\n",
       " '080': 1,\n",
       " '032': 2,\n",
       " '131': 1,\n",
       " '164': 2,\n",
       " '155': 1}"
      ]
     },
     "metadata": {},
     "execution_count": 21
    }
   ],
   "metadata": {}
  },
  {
   "cell_type": "code",
   "execution_count": 22,
   "source": [
    "len(type_count)"
   ],
   "outputs": [
    {
     "output_type": "execute_result",
     "data": {
      "text/plain": [
       "168"
      ]
     },
     "metadata": {},
     "execution_count": 22
    }
   ],
   "metadata": {}
  },
  {
   "cell_type": "code",
   "execution_count": 23,
   "source": [
    "del_list = []\r\n",
    "for i in type_count.keys():\r\n",
    "    if type_count.get(i) == 1:\r\n",
    "        del_list.append(i)\r\n",
    "del_list"
   ],
   "outputs": [
    {
     "output_type": "execute_result",
     "data": {
      "text/plain": [
       "['053', '153', '093', '176', '141', '144', '080', '131', '155']"
      ]
     },
     "metadata": {},
     "execution_count": 23
    }
   ],
   "metadata": {}
  },
  {
   "cell_type": "code",
   "execution_count": 24,
   "source": [
    "op_data.head()"
   ],
   "outputs": [
    {
     "output_type": "execute_result",
     "data": {
      "text/html": [
       "<div>\n",
       "<style scoped>\n",
       "    .dataframe tbody tr th:only-of-type {\n",
       "        vertical-align: middle;\n",
       "    }\n",
       "\n",
       "    .dataframe tbody tr th {\n",
       "        vertical-align: top;\n",
       "    }\n",
       "\n",
       "    .dataframe thead th {\n",
       "        text-align: right;\n",
       "    }\n",
       "</style>\n",
       "<table border=\"1\" class=\"dataframe\">\n",
       "  <thead>\n",
       "    <tr style=\"text-align: right;\">\n",
       "      <th></th>\n",
       "      <th>contents</th>\n",
       "      <th>id</th>\n",
       "    </tr>\n",
       "  </thead>\n",
       "  <tbody>\n",
       "    <tr>\n",
       "      <th>0</th>\n",
       "      <td>주말에 친척언니 결혼식 가는데 격식 있고 화사한 원피스 추천해주세요 이 원피스는 린...</td>\n",
       "      <td>075</td>\n",
       "    </tr>\n",
       "    <tr>\n",
       "      <th>1</th>\n",
       "      <td>주말에 친척언니 결혼식에 가는데요 여성스럽고 깔끔한 원피스 추천해주세요 격식 있는 ...</td>\n",
       "      <td>057</td>\n",
       "    </tr>\n",
       "    <tr>\n",
       "      <th>2</th>\n",
       "      <td>저녁에 친구와 야구장에 가기로 했어요 롱 가디건에 어울리는 원피스를 추천해주세요 고...</td>\n",
       "      <td>002</td>\n",
       "    </tr>\n",
       "    <tr>\n",
       "      <th>3</th>\n",
       "      <td>레스토랑에서 외식할 때 입을 옷을 찾고 싶습니다 옷은 가을 옷으로 보여주세요 네 그...</td>\n",
       "      <td>068</td>\n",
       "    </tr>\n",
       "    <tr>\n",
       "      <th>4</th>\n",
       "      <td>레스토랑에서 외식할 때 입을 옷을 찾고 싶습니다 옷은 가을 옷으로 보여주세요 네 그...</td>\n",
       "      <td>068</td>\n",
       "    </tr>\n",
       "  </tbody>\n",
       "</table>\n",
       "</div>"
      ],
      "text/plain": [
       "                                            contents   id\n",
       "0  주말에 친척언니 결혼식 가는데 격식 있고 화사한 원피스 추천해주세요 이 원피스는 린...  075\n",
       "1  주말에 친척언니 결혼식에 가는데요 여성스럽고 깔끔한 원피스 추천해주세요 격식 있는 ...  057\n",
       "2  저녁에 친구와 야구장에 가기로 했어요 롱 가디건에 어울리는 원피스를 추천해주세요 고...  002\n",
       "3  레스토랑에서 외식할 때 입을 옷을 찾고 싶습니다 옷은 가을 옷으로 보여주세요 네 그...  068\n",
       "4  레스토랑에서 외식할 때 입을 옷을 찾고 싶습니다 옷은 가을 옷으로 보여주세요 네 그...  068"
      ]
     },
     "metadata": {},
     "execution_count": 24
    }
   ],
   "metadata": {}
  },
  {
   "cell_type": "code",
   "execution_count": 25,
   "source": [
    "for i in del_list:\r\n",
    "    op_data = op_data[op_data[\"id\"] != i]"
   ],
   "outputs": [],
   "metadata": {}
  },
  {
   "cell_type": "code",
   "execution_count": 26,
   "source": [
    "len(op_data)"
   ],
   "outputs": [
    {
     "output_type": "execute_result",
     "data": {
      "text/plain": [
       "1736"
      ]
     },
     "metadata": {},
     "execution_count": 26
    }
   ],
   "metadata": {}
  },
  {
   "cell_type": "code",
   "execution_count": 27,
   "source": [
    "op_data.reset_index(drop=True, inplace=True)"
   ],
   "outputs": [],
   "metadata": {}
  },
  {
   "cell_type": "code",
   "execution_count": 28,
   "source": [
    "import matplotlib.pyplot as plt\r\n",
    "plt.bar(Counter(op_data.id).keys(),Counter(op_data.id).values(), color='k')"
   ],
   "outputs": [
    {
     "output_type": "execute_result",
     "data": {
      "text/plain": [
       "<BarContainer object of 159 artists>"
      ]
     },
     "metadata": {},
     "execution_count": 28
    },
    {
     "output_type": "display_data",
     "data": {
      "image/png": "[encoded data removed]",
      "text/plain": [
       "<Figure size 432x288 with 1 Axes>"
      ]
     },
     "metadata": {
      "needs_background": "light"
     }
    }
   ],
   "metadata": {}
  },
  {
   "cell_type": "markdown",
   "source": [
    "# 5. 형태소 분석"
   ],
   "metadata": {}
  },
  {
   "cell_type": "markdown",
   "source": [
    "## Mecab 사용"
   ],
   "metadata": {}
  },
  {
   "cell_type": "code",
   "execution_count": 29,
   "source": [
    "from eunjeon import Mecab\r\n",
    "mecab = Mecab()"
   ],
   "outputs": [],
   "metadata": {}
  },
  {
   "cell_type": "code",
   "execution_count": 30,
   "source": [
    "mecab.morphs(op_data[\"contents\"][0])"
   ],
   "outputs": [
    {
     "output_type": "execute_result",
     "data": {
      "text/plain": [
       "['주말',\n",
       " '에',\n",
       " '친척',\n",
       " '언니',\n",
       " '결혼식',\n",
       " '가',\n",
       " '는데',\n",
       " '격식',\n",
       " '있',\n",
       " '고',\n",
       " '화사',\n",
       " '한',\n",
       " '원피스',\n",
       " '추천',\n",
       " '해',\n",
       " '주',\n",
       " '세요',\n",
       " '이',\n",
       " '원피스',\n",
       " '는',\n",
       " '린',\n",
       " '넨',\n",
       " '소재',\n",
       " '의',\n",
       " '시원',\n",
       " '한',\n",
       " '느낌',\n",
       " '을',\n",
       " '주',\n",
       " '는',\n",
       " '화사',\n",
       " '한',\n",
       " '원피스',\n",
       " '랍니다',\n",
       " '마음',\n",
       " '에',\n",
       " '드',\n",
       " '시',\n",
       " '나요',\n",
       " 'OP',\n",
       " '084',\n",
       " '조금',\n",
       " '심플',\n",
       " '한',\n",
       " '느낌',\n",
       " '의',\n",
       " '원피스',\n",
       " '를',\n",
       " '보여',\n",
       " '주',\n",
       " '세요',\n",
       " '격식',\n",
       " '있',\n",
       " '는',\n",
       " '자리',\n",
       " '에서',\n",
       " '하객',\n",
       " '룩',\n",
       " '으로',\n",
       " '안성맞춤',\n",
       " '인',\n",
       " '심플',\n",
       " '원피스',\n",
       " '예요',\n",
       " '이건',\n",
       " '어떠세요',\n",
       " 'OP',\n",
       " '075',\n",
       " '이거',\n",
       " '괜찮',\n",
       " '네요',\n",
       " '이걸로',\n",
       " '할게요',\n",
       " '허벅지',\n",
       " '중간',\n",
       " '에',\n",
       " '오',\n",
       " '는',\n",
       " '길',\n",
       " '이',\n",
       " '허리',\n",
       " '부터',\n",
       " '퍼지',\n",
       " '는',\n",
       " '자연',\n",
       " '스러운',\n",
       " 'A',\n",
       " '라인',\n",
       " '실루엣',\n",
       " '밑단',\n",
       " '은',\n",
       " '자연',\n",
       " '스러운',\n",
       " '플레어',\n",
       " '트임',\n",
       " '이',\n",
       " '있',\n",
       " '는',\n",
       " '차이',\n",
       " '나',\n",
       " '네크라인',\n",
       " '네크라인',\n",
       " '은',\n",
       " '리본',\n",
       " '으로',\n",
       " '묶',\n",
       " '어',\n",
       " '연출',\n",
       " '가능',\n",
       " '셋',\n",
       " '인',\n",
       " '암홀',\n",
       " '퍼프소매',\n",
       " '손목',\n",
       " '까지',\n",
       " '오',\n",
       " '는',\n",
       " '소매',\n",
       " '길',\n",
       " '이',\n",
       " '소',\n",
       " '매단',\n",
       " '러플',\n",
       " '있',\n",
       " '음',\n",
       " '양쪽',\n",
       " '허리',\n",
       " '에',\n",
       " '다트',\n",
       " '선',\n",
       " '이',\n",
       " '있',\n",
       " '음',\n",
       " '가슴',\n",
       " '라인',\n",
       " '이',\n",
       " '절개',\n",
       " '되',\n",
       " '어',\n",
       " '블라우스',\n",
       " '와',\n",
       " '튜브',\n",
       " '탑',\n",
       " '원피스',\n",
       " '를',\n",
       " '레이어',\n",
       " '한',\n",
       " '느낌',\n",
       " '폴리에스터',\n",
       " '100',\n",
       " '얇',\n",
       " '고',\n",
       " '가벼움',\n",
       " '신축',\n",
       " '성',\n",
       " '있',\n",
       " '음',\n",
       " '두께',\n",
       " '감',\n",
       " '보통',\n",
       " '비침',\n",
       " '있',\n",
       " '음',\n",
       " '손세탁',\n",
       " '드라이클리닝',\n",
       " '권장',\n",
       " '블랙',\n",
       " '과',\n",
       " '화이트',\n",
       " '컬러',\n",
       " '의',\n",
       " '배색',\n",
       " '세련',\n",
       " '된',\n",
       " '깔끔',\n",
       " '한',\n",
       " '고급',\n",
       " '스러운',\n",
       " '격식',\n",
       " '있',\n",
       " '는',\n",
       " '하객',\n",
       " '룩',\n",
       " '오피스',\n",
       " '룩']"
      ]
     },
     "metadata": {},
     "execution_count": 30
    }
   ],
   "metadata": {}
  },
  {
   "cell_type": "code",
   "execution_count": 31,
   "source": [
    "len(op_data)"
   ],
   "outputs": [
    {
     "output_type": "execute_result",
     "data": {
      "text/plain": [
       "1736"
      ]
     },
     "metadata": {},
     "execution_count": 31
    }
   ],
   "metadata": {}
  },
  {
   "cell_type": "code",
   "execution_count": 32,
   "source": [
    "x_data = []\r\n",
    "for i in range(len(op_data)):\r\n",
    "    x_data.append(mecab.morphs(op_data[\"contents\"][i]))\r\n",
    "\r\n",
    "x_data[0]"
   ],
   "outputs": [
    {
     "output_type": "execute_result",
     "data": {
      "text/plain": [
       "['주말',\n",
       " '에',\n",
       " '친척',\n",
       " '언니',\n",
       " '결혼식',\n",
       " '가',\n",
       " '는데',\n",
       " '격식',\n",
       " '있',\n",
       " '고',\n",
       " '화사',\n",
       " '한',\n",
       " '원피스',\n",
       " '추천',\n",
       " '해',\n",
       " '주',\n",
       " '세요',\n",
       " '이',\n",
       " '원피스',\n",
       " '는',\n",
       " '린',\n",
       " '넨',\n",
       " '소재',\n",
       " '의',\n",
       " '시원',\n",
       " '한',\n",
       " '느낌',\n",
       " '을',\n",
       " '주',\n",
       " '는',\n",
       " '화사',\n",
       " '한',\n",
       " '원피스',\n",
       " '랍니다',\n",
       " '마음',\n",
       " '에',\n",
       " '드',\n",
       " '시',\n",
       " '나요',\n",
       " 'OP',\n",
       " '084',\n",
       " '조금',\n",
       " '심플',\n",
       " '한',\n",
       " '느낌',\n",
       " '의',\n",
       " '원피스',\n",
       " '를',\n",
       " '보여',\n",
       " '주',\n",
       " '세요',\n",
       " '격식',\n",
       " '있',\n",
       " '는',\n",
       " '자리',\n",
       " '에서',\n",
       " '하객',\n",
       " '룩',\n",
       " '으로',\n",
       " '안성맞춤',\n",
       " '인',\n",
       " '심플',\n",
       " '원피스',\n",
       " '예요',\n",
       " '이건',\n",
       " '어떠세요',\n",
       " 'OP',\n",
       " '075',\n",
       " '이거',\n",
       " '괜찮',\n",
       " '네요',\n",
       " '이걸로',\n",
       " '할게요',\n",
       " '허벅지',\n",
       " '중간',\n",
       " '에',\n",
       " '오',\n",
       " '는',\n",
       " '길',\n",
       " '이',\n",
       " '허리',\n",
       " '부터',\n",
       " '퍼지',\n",
       " '는',\n",
       " '자연',\n",
       " '스러운',\n",
       " 'A',\n",
       " '라인',\n",
       " '실루엣',\n",
       " '밑단',\n",
       " '은',\n",
       " '자연',\n",
       " '스러운',\n",
       " '플레어',\n",
       " '트임',\n",
       " '이',\n",
       " '있',\n",
       " '는',\n",
       " '차이',\n",
       " '나',\n",
       " '네크라인',\n",
       " '네크라인',\n",
       " '은',\n",
       " '리본',\n",
       " '으로',\n",
       " '묶',\n",
       " '어',\n",
       " '연출',\n",
       " '가능',\n",
       " '셋',\n",
       " '인',\n",
       " '암홀',\n",
       " '퍼프소매',\n",
       " '손목',\n",
       " '까지',\n",
       " '오',\n",
       " '는',\n",
       " '소매',\n",
       " '길',\n",
       " '이',\n",
       " '소',\n",
       " '매단',\n",
       " '러플',\n",
       " '있',\n",
       " '음',\n",
       " '양쪽',\n",
       " '허리',\n",
       " '에',\n",
       " '다트',\n",
       " '선',\n",
       " '이',\n",
       " '있',\n",
       " '음',\n",
       " '가슴',\n",
       " '라인',\n",
       " '이',\n",
       " '절개',\n",
       " '되',\n",
       " '어',\n",
       " '블라우스',\n",
       " '와',\n",
       " '튜브',\n",
       " '탑',\n",
       " '원피스',\n",
       " '를',\n",
       " '레이어',\n",
       " '한',\n",
       " '느낌',\n",
       " '폴리에스터',\n",
       " '100',\n",
       " '얇',\n",
       " '고',\n",
       " '가벼움',\n",
       " '신축',\n",
       " '성',\n",
       " '있',\n",
       " '음',\n",
       " '두께',\n",
       " '감',\n",
       " '보통',\n",
       " '비침',\n",
       " '있',\n",
       " '음',\n",
       " '손세탁',\n",
       " '드라이클리닝',\n",
       " '권장',\n",
       " '블랙',\n",
       " '과',\n",
       " '화이트',\n",
       " '컬러',\n",
       " '의',\n",
       " '배색',\n",
       " '세련',\n",
       " '된',\n",
       " '깔끔',\n",
       " '한',\n",
       " '고급',\n",
       " '스러운',\n",
       " '격식',\n",
       " '있',\n",
       " '는',\n",
       " '하객',\n",
       " '룩',\n",
       " '오피스',\n",
       " '룩']"
      ]
     },
     "metadata": {},
     "execution_count": 32
    }
   ],
   "metadata": {}
  },
  {
   "cell_type": "code",
   "execution_count": 33,
   "source": [
    "stopwords = []\r\n",
    "with open('./data/불용어사전.txt', mode='rt', encoding='utf-8') as f:\r\n",
    "    for word in f.readlines():\r\n",
    "        word = word.strip()\r\n",
    "        stopwords.append(word)\r\n",
    "stopwords[0:2]"
   ],
   "outputs": [
    {
     "output_type": "execute_result",
     "data": {
      "text/plain": [
       "['어찌됐든', '그위에']"
      ]
     },
     "metadata": {},
     "execution_count": 33
    }
   ],
   "metadata": {}
  },
  {
   "cell_type": "code",
   "execution_count": 34,
   "source": [
    "X_data = []\r\n",
    "for sentence in x_data: #문장 하나 가져오고 단어 단위로 쪼개기\r\n",
    "    temp_X = [word for word in sentence if not word in stopwords] # 불용어 제거\r\n",
    "    X_data.append(temp_X)\r\n",
    "X_data[0]"
   ],
   "outputs": [
    {
     "output_type": "execute_result",
     "data": {
      "text/plain": [
       "['주말',\n",
       " '친척',\n",
       " '언니',\n",
       " '결혼식',\n",
       " '는데',\n",
       " '격식',\n",
       " '있',\n",
       " '고',\n",
       " '화사',\n",
       " '원피스',\n",
       " '추천',\n",
       " '주',\n",
       " '세요',\n",
       " '원피스',\n",
       " '린',\n",
       " '넨',\n",
       " '소재',\n",
       " '시원',\n",
       " '느낌',\n",
       " '주',\n",
       " '화사',\n",
       " '원피스',\n",
       " '랍니다',\n",
       " '마음',\n",
       " '시',\n",
       " '나요',\n",
       " 'OP',\n",
       " '084',\n",
       " '심플',\n",
       " '느낌',\n",
       " '원피스',\n",
       " '보여',\n",
       " '주',\n",
       " '세요',\n",
       " '격식',\n",
       " '있',\n",
       " '자리',\n",
       " '하객',\n",
       " '룩',\n",
       " '안성맞춤',\n",
       " '인',\n",
       " '심플',\n",
       " '원피스',\n",
       " '예요',\n",
       " '이건',\n",
       " '어떠세요',\n",
       " 'OP',\n",
       " '075',\n",
       " '이거',\n",
       " '괜찮',\n",
       " '네요',\n",
       " '이걸로',\n",
       " '할게요',\n",
       " '허벅지',\n",
       " '중간',\n",
       " '길',\n",
       " '허리',\n",
       " '퍼지',\n",
       " '자연',\n",
       " '스러운',\n",
       " 'A',\n",
       " '라인',\n",
       " '실루엣',\n",
       " '밑단',\n",
       " '자연',\n",
       " '스러운',\n",
       " '플레어',\n",
       " '트임',\n",
       " '있',\n",
       " '차이',\n",
       " '네크라인',\n",
       " '네크라인',\n",
       " '리본',\n",
       " '묶',\n",
       " '연출',\n",
       " '가능',\n",
       " '셋',\n",
       " '인',\n",
       " '암홀',\n",
       " '퍼프소매',\n",
       " '손목',\n",
       " '길',\n",
       " '소',\n",
       " '매단',\n",
       " '러플',\n",
       " '있',\n",
       " '양쪽',\n",
       " '허리',\n",
       " '다트',\n",
       " '선',\n",
       " '있',\n",
       " '가슴',\n",
       " '라인',\n",
       " '절개',\n",
       " '되',\n",
       " '블라우스',\n",
       " '튜브',\n",
       " '탑',\n",
       " '원피스',\n",
       " '레이어',\n",
       " '느낌',\n",
       " '폴리에스터',\n",
       " '100',\n",
       " '얇',\n",
       " '고',\n",
       " '가벼움',\n",
       " '신축',\n",
       " '성',\n",
       " '있',\n",
       " '두께',\n",
       " '감',\n",
       " '보통',\n",
       " '비침',\n",
       " '있',\n",
       " '손세탁',\n",
       " '드라이클리닝',\n",
       " '권장',\n",
       " '블랙',\n",
       " '화이트',\n",
       " '컬러',\n",
       " '배색',\n",
       " '세련',\n",
       " '된',\n",
       " '깔끔',\n",
       " '고급',\n",
       " '스러운',\n",
       " '격식',\n",
       " '있',\n",
       " '하객',\n",
       " '룩',\n",
       " '오피스',\n",
       " '룩']"
      ]
     },
     "metadata": {},
     "execution_count": 34
    }
   ],
   "metadata": {}
  },
  {
   "cell_type": "markdown",
   "source": [
    "## 1. 임베딩 레이어 활용"
   ],
   "metadata": {}
  },
  {
   "cell_type": "markdown",
   "source": [
    "### 정수 인코딩"
   ],
   "metadata": {}
  },
  {
   "cell_type": "code",
   "execution_count": 35,
   "source": [
    "from tensorflow.keras.preprocessing.text import Tokenizer\r\n",
    "tokenizer = Tokenizer()\r\n",
    "tokenizer.fit_on_texts(X_data)"
   ],
   "outputs": [],
   "metadata": {}
  },
  {
   "cell_type": "code",
   "execution_count": 36,
   "source": [
    "threshold = 6\r\n",
    "total_cnt = len(tokenizer.word_index) # 단어의 수\r\n",
    "rare_cnt = 0 # 등장 빈도수가 threshold보다 작은 단어의 개수를 카운트\r\n",
    "total_freq = 0 # 훈련 데이터의 전체 단어 빈도수 총 합\r\n",
    "rare_freq = 0 # 등장 빈도수가 threshold보다 작은 단어의 등장 빈도수의 총 합\r\n",
    "\r\n",
    "# 단어와 빈도수의 쌍(pair)을 key와 value로 받는다.\r\n",
    "for key, value in tokenizer.word_counts.items():\r\n",
    "    total_freq = total_freq + value\r\n",
    "\r\n",
    "    # 단어의 등장 빈도수가 threshold보다 작으면\r\n",
    "    if(value < threshold):\r\n",
    "        rare_cnt = rare_cnt + 1\r\n",
    "        rare_freq = rare_freq + value\r\n",
    "\r\n",
    "print('단어 집합(vocabulary)의 크기 :',total_cnt)\r\n",
    "print('등장 빈도가 %s번 이하인 희귀 단어의 수: %s'%(threshold - 1, rare_cnt))\r\n",
    "print(\"단어 집합에서 희귀 단어의 비율:\", (rare_cnt / total_cnt)*100)\r\n",
    "print(\"전체 등장 빈도에서 희귀 단어 등장 빈도 비율:\", (rare_freq / total_freq)*100)"
   ],
   "outputs": [
    {
     "output_type": "stream",
     "name": "stdout",
     "text": [
      "단어 집합(vocabulary)의 크기 : 3475\n",
      "등장 빈도가 5번 이하인 희귀 단어의 수: 1473\n",
      "단어 집합에서 희귀 단어의 비율: 42.388489208633096\n",
      "전체 등장 빈도에서 희귀 단어 등장 빈도 비율: 1.0874375879014782\n"
     ]
    }
   ],
   "metadata": {}
  },
  {
   "cell_type": "code",
   "execution_count": 37,
   "source": [
    "vocab_size = total_cnt - rare_cnt + 1 # tokenizer 함수에 들어 갈 때 영향줘서 1 추가 해야 됨\r\n",
    "print('단어 집합의 크기 :',vocab_size)"
   ],
   "outputs": [
    {
     "output_type": "stream",
     "name": "stdout",
     "text": [
      "단어 집합의 크기 : 2003\n"
     ]
    }
   ],
   "metadata": {}
  },
  {
   "cell_type": "markdown",
   "source": [
    "케라스 토크나이저의 정수 인코딩은 인덱스가 1부터 시작하지만,\n",
    "\n",
    "케라스 원-핫 인코딩에서 배열의 인덱스가 0부터 시작하기 때문에\n",
    "\n",
    "배열의 크기를 실제 단어 집합의 크기보다 +1로 생성해야하므로 미리 +1 선언 "
   ],
   "metadata": {}
  },
  {
   "cell_type": "markdown",
   "source": [
    "### 맨 앞자리는 비어있어야 함 (원 핫 인코딩은 정수 인코딩한 뒤 나오는 정수 값 자리에 1을 넣는 것)"
   ],
   "metadata": {}
  },
  {
   "cell_type": "code",
   "execution_count": 38,
   "source": [
    "tokenizer = Tokenizer(num_words=vocab_size - 1)\r\n",
    "tokenizer.fit_on_texts(X_data)\r\n",
    "len(tokenizer.word_index)"
   ],
   "outputs": [
    {
     "output_type": "execute_result",
     "data": {
      "text/plain": [
       "3475"
      ]
     },
     "metadata": {},
     "execution_count": 38
    }
   ],
   "metadata": {}
  },
  {
   "cell_type": "code",
   "execution_count": 39,
   "source": [
    "X_data = tokenizer.texts_to_sequences(X_data) # 단어에 정수 붙여줄 때 num_word 적용"
   ],
   "outputs": [],
   "metadata": {}
  },
  {
   "cell_type": "markdown",
   "source": [
    "위에서 num_words는 이 데이터에서 등장 빈도 순위로 몇 번째에 해당하는 단어까지만 사용할 것인지 조절\n",
    "\n",
    "예를 들어서 100이란 값을 넣으면, 등장 빈도 순위가 1~100에 해당하는 단어만 사용"
   ],
   "metadata": {}
  },
  {
   "cell_type": "code",
   "execution_count": 40,
   "source": [
    "X_data[1]"
   ],
   "outputs": [
    {
     "output_type": "execute_result",
     "data": {
      "text/plain": [
       "[823,\n",
       " 1057,\n",
       " 1257,\n",
       " 488,\n",
       " 693,\n",
       " 245,\n",
       " 120,\n",
       " 6,\n",
       " 106,\n",
       " 3,\n",
       " 13,\n",
       " 1,\n",
       " 2,\n",
       " 129,\n",
       " 4,\n",
       " 519,\n",
       " 655,\n",
       " 958,\n",
       " 33,\n",
       " 74,\n",
       " 4,\n",
       " 3,\n",
       " 516,\n",
       " 9,\n",
       " 20,\n",
       " 31,\n",
       " 7,\n",
       " 703,\n",
       " 106,\n",
       " 6,\n",
       " 178,\n",
       " 43,\n",
       " 61,\n",
       " 392,\n",
       " 37,\n",
       " 93,\n",
       " 85,\n",
       " 187,\n",
       " 22,\n",
       " 59,\n",
       " 67,\n",
       " 14,\n",
       " 49,\n",
       " 63,\n",
       " 75,\n",
       " 934,\n",
       " 935,\n",
       " 167,\n",
       " 78,\n",
       " 25,\n",
       " 62,\n",
       " 272,\n",
       " 187,\n",
       " 1059,\n",
       " 191,\n",
       " 649,\n",
       " 266,\n",
       " 66,\n",
       " 416,\n",
       " 30,\n",
       " 168,\n",
       " 191,\n",
       " 82,\n",
       " 427,\n",
       " 1014,\n",
       " 76,\n",
       " 408,\n",
       " 200,\n",
       " 4,\n",
       " 6,\n",
       " 251,\n",
       " 44,\n",
       " 168,\n",
       " 389,\n",
       " 270,\n",
       " 168,\n",
       " 246,\n",
       " 4,\n",
       " 339,\n",
       " 362,\n",
       " 159,\n",
       " 45,\n",
       " 534,\n",
       " 8,\n",
       " 27,\n",
       " 24,\n",
       " 29,\n",
       " 17,\n",
       " 48,\n",
       " 28,\n",
       " 88,\n",
       " 17,\n",
       " 4,\n",
       " 396,\n",
       " 730,\n",
       " 1466,\n",
       " 1421,\n",
       " 86,\n",
       " 1422,\n",
       " 46,\n",
       " 32,\n",
       " 724,\n",
       " 1014,\n",
       " 76,\n",
       " 129,\n",
       " 4,\n",
       " 106,\n",
       " 92,\n",
       " 144,\n",
       " 11,\n",
       " 221,\n",
       " 11]"
      ]
     },
     "metadata": {},
     "execution_count": 40
    }
   ],
   "metadata": {}
  },
  {
   "cell_type": "code",
   "execution_count": 41,
   "source": [
    "print('문장 최대 길이 :',max(len(l) for l in X_data))\r\n",
    "print('문장의 평균 길이 :',sum(map(len, X_data))/len(X_data))\r\n",
    "plt.hist([len(s) for s in X_data], bins=50, color='k')\r\n",
    "plt.xlabel('length of samples')\r\n",
    "plt.ylabel('number of samples')\r\n",
    "plt.show()\r\n",
    "plt.close()"
   ],
   "outputs": [
    {
     "output_type": "stream",
     "name": "stdout",
     "text": [
      "문장 최대 길이 : 388\n",
      "문장의 평균 길이 : 173.79377880184333\n"
     ]
    },
    {
     "output_type": "display_data",
     "data": {
      "image/png": "[encoded data removed]",
      "text/plain": [
       "<Figure size 432x288 with 1 Axes>"
      ]
     },
     "metadata": {
      "needs_background": "light"
     }
    }
   ],
   "metadata": {}
  },
  {
   "cell_type": "code",
   "execution_count": 42,
   "source": [
    "def below_threshold_len(max_len, nested_list):\r\n",
    "  cnt = 0\r\n",
    "  for s in nested_list:\r\n",
    "    if(len(s) <= max_len):\r\n",
    "        cnt = cnt + 1\r\n",
    "  print('전체 샘플 중 길이가 %s 이하인 샘플의 비율: %s'%(max_len, (cnt / len(nested_list))*100))\r\n",
    "\r\n",
    "max_len = 300\r\n",
    "below_threshold_len(max_len, X_data)"
   ],
   "outputs": [
    {
     "output_type": "stream",
     "name": "stdout",
     "text": [
      "전체 샘플 중 길이가 300 이하인 샘플의 비율: 99.53917050691244\n"
     ]
    }
   ],
   "metadata": {}
  },
  {
   "cell_type": "markdown",
   "source": [
    "## padding"
   ],
   "metadata": {}
  },
  {
   "cell_type": "code",
   "execution_count": 43,
   "source": [
    "from tensorflow.keras.preprocessing.sequence import pad_sequences\r\n",
    "X_data = pad_sequences(X_data, maxlen = max_len)"
   ],
   "outputs": [],
   "metadata": {}
  },
  {
   "cell_type": "code",
   "execution_count": 44,
   "source": [
    "print(len(X_data[1]))\r\n",
    "X_data[1]"
   ],
   "outputs": [
    {
     "output_type": "stream",
     "name": "stdout",
     "text": [
      "300\n"
     ]
    },
    {
     "output_type": "execute_result",
     "data": {
      "text/plain": [
       "array([   0,    0,    0,    0,    0,    0,    0,    0,    0,    0,    0,\n",
       "          0,    0,    0,    0,    0,    0,    0,    0,    0,    0,    0,\n",
       "          0,    0,    0,    0,    0,    0,    0,    0,    0,    0,    0,\n",
       "          0,    0,    0,    0,    0,    0,    0,    0,    0,    0,    0,\n",
       "          0,    0,    0,    0,    0,    0,    0,    0,    0,    0,    0,\n",
       "          0,    0,    0,    0,    0,    0,    0,    0,    0,    0,    0,\n",
       "          0,    0,    0,    0,    0,    0,    0,    0,    0,    0,    0,\n",
       "          0,    0,    0,    0,    0,    0,    0,    0,    0,    0,    0,\n",
       "          0,    0,    0,    0,    0,    0,    0,    0,    0,    0,    0,\n",
       "          0,    0,    0,    0,    0,    0,    0,    0,    0,    0,    0,\n",
       "          0,    0,    0,    0,    0,    0,    0,    0,    0,    0,    0,\n",
       "          0,    0,    0,    0,    0,    0,    0,    0,    0,    0,    0,\n",
       "          0,    0,    0,    0,    0,    0,    0,    0,    0,    0,    0,\n",
       "          0,    0,    0,    0,    0,    0,    0,    0,    0,    0,    0,\n",
       "          0,    0,    0,    0,    0,    0,    0,    0,    0,    0,    0,\n",
       "          0,    0,    0,    0,    0,    0,    0,    0,    0,    0,    0,\n",
       "          0,    0,    0,    0,    0,    0,    0,    0,    0,    0,    0,\n",
       "          0,  823, 1057, 1257,  488,  693,  245,  120,    6,  106,    3,\n",
       "         13,    1,    2,  129,    4,  519,  655,  958,   33,   74,    4,\n",
       "          3,  516,    9,   20,   31,    7,  703,  106,    6,  178,   43,\n",
       "         61,  392,   37,   93,   85,  187,   22,   59,   67,   14,   49,\n",
       "         63,   75,  934,  935,  167,   78,   25,   62,  272,  187, 1059,\n",
       "        191,  649,  266,   66,  416,   30,  168,  191,   82,  427, 1014,\n",
       "         76,  408,  200,    4,    6,  251,   44,  168,  389,  270,  168,\n",
       "        246,    4,  339,  362,  159,   45,  534,    8,   27,   24,   29,\n",
       "         17,   48,   28,   88,   17,    4,  396,  730, 1466, 1421,   86,\n",
       "       1422,   46,   32,  724, 1014,   76,  129,    4,  106,   92,  144,\n",
       "         11,  221,   11])"
      ]
     },
     "metadata": {},
     "execution_count": 44
    }
   ],
   "metadata": {}
  },
  {
   "cell_type": "markdown",
   "source": [
    "# 6. LSTM 돌리기 "
   ],
   "metadata": {}
  },
  {
   "cell_type": "code",
   "execution_count": 45,
   "source": [
    "from tensorflow.keras.layers import Embedding, Dense, LSTM\r\n",
    "from tensorflow.keras.models import Sequential\r\n",
    "from tensorflow.keras.models import load_model\r\n",
    "from tensorflow.keras.callbacks import EarlyStopping, ModelCheckpoint\r\n",
    "from sklearn.model_selection import train_test_split\r\n",
    "from tensorflow.keras.utils import to_categorical"
   ],
   "outputs": [],
   "metadata": {}
  },
  {
   "cell_type": "code",
   "execution_count": 46,
   "source": [
    "X = X_data\r\n",
    "y = op_data.id.tolist()"
   ],
   "outputs": [],
   "metadata": {}
  },
  {
   "cell_type": "code",
   "execution_count": 47,
   "source": [
    "X[1]"
   ],
   "outputs": [
    {
     "output_type": "execute_result",
     "data": {
      "text/plain": [
       "array([   0,    0,    0,    0,    0,    0,    0,    0,    0,    0,    0,\n",
       "          0,    0,    0,    0,    0,    0,    0,    0,    0,    0,    0,\n",
       "          0,    0,    0,    0,    0,    0,    0,    0,    0,    0,    0,\n",
       "          0,    0,    0,    0,    0,    0,    0,    0,    0,    0,    0,\n",
       "          0,    0,    0,    0,    0,    0,    0,    0,    0,    0,    0,\n",
       "          0,    0,    0,    0,    0,    0,    0,    0,    0,    0,    0,\n",
       "          0,    0,    0,    0,    0,    0,    0,    0,    0,    0,    0,\n",
       "          0,    0,    0,    0,    0,    0,    0,    0,    0,    0,    0,\n",
       "          0,    0,    0,    0,    0,    0,    0,    0,    0,    0,    0,\n",
       "          0,    0,    0,    0,    0,    0,    0,    0,    0,    0,    0,\n",
       "          0,    0,    0,    0,    0,    0,    0,    0,    0,    0,    0,\n",
       "          0,    0,    0,    0,    0,    0,    0,    0,    0,    0,    0,\n",
       "          0,    0,    0,    0,    0,    0,    0,    0,    0,    0,    0,\n",
       "          0,    0,    0,    0,    0,    0,    0,    0,    0,    0,    0,\n",
       "          0,    0,    0,    0,    0,    0,    0,    0,    0,    0,    0,\n",
       "          0,    0,    0,    0,    0,    0,    0,    0,    0,    0,    0,\n",
       "          0,    0,    0,    0,    0,    0,    0,    0,    0,    0,    0,\n",
       "          0,  823, 1057, 1257,  488,  693,  245,  120,    6,  106,    3,\n",
       "         13,    1,    2,  129,    4,  519,  655,  958,   33,   74,    4,\n",
       "          3,  516,    9,   20,   31,    7,  703,  106,    6,  178,   43,\n",
       "         61,  392,   37,   93,   85,  187,   22,   59,   67,   14,   49,\n",
       "         63,   75,  934,  935,  167,   78,   25,   62,  272,  187, 1059,\n",
       "        191,  649,  266,   66,  416,   30,  168,  191,   82,  427, 1014,\n",
       "         76,  408,  200,    4,    6,  251,   44,  168,  389,  270,  168,\n",
       "        246,    4,  339,  362,  159,   45,  534,    8,   27,   24,   29,\n",
       "         17,   48,   28,   88,   17,    4,  396,  730, 1466, 1421,   86,\n",
       "       1422,   46,   32,  724, 1014,   76,  129,    4,  106,   92,  144,\n",
       "         11,  221,   11])"
      ]
     },
     "metadata": {},
     "execution_count": 47
    }
   ],
   "metadata": {}
  },
  {
   "cell_type": "code",
   "execution_count": 48,
   "source": [
    "y[1]"
   ],
   "outputs": [
    {
     "output_type": "execute_result",
     "data": {
      "text/plain": [
       "'057'"
      ]
     },
     "metadata": {},
     "execution_count": 48
    }
   ],
   "metadata": {}
  },
  {
   "cell_type": "code",
   "execution_count": 49,
   "source": [
    "print(len(X),len(y))"
   ],
   "outputs": [
    {
     "output_type": "stream",
     "name": "stdout",
     "text": [
      "1736 1736\n"
     ]
    }
   ],
   "metadata": {}
  },
  {
   "cell_type": "code",
   "execution_count": 50,
   "source": [
    "y = to_categorical(y)"
   ],
   "outputs": [],
   "metadata": {}
  },
  {
   "cell_type": "code",
   "execution_count": 51,
   "source": [
    "print(X.shape, y.shape)"
   ],
   "outputs": [
    {
     "output_type": "stream",
     "name": "stdout",
     "text": [
      "(1736, 300) (1736, 176)\n"
     ]
    }
   ],
   "metadata": {}
  },
  {
   "cell_type": "code",
   "execution_count": 52,
   "source": [
    "x_train, x_test, y_train, y_test = train_test_split(X, y,test_size=0.3, random_state=777, stratify=y) #추천 한 번밖에 안된 애들 있어서 stratify 안됨"
   ],
   "outputs": [],
   "metadata": {}
  },
  {
   "cell_type": "code",
   "execution_count": 53,
   "source": [
    "from tensorflow.keras.layers import GRU"
   ],
   "outputs": [],
   "metadata": {}
  },
  {
   "cell_type": "code",
   "execution_count": 54,
   "source": [
    "model = Sequential()\r\n",
    "model.add(Embedding(vocab_size, max_len))\r\n",
    "model.add(LSTM(max_len))\r\n",
    "model.add(Dense(176, activation='softmax'))\r\n",
    "\r\n",
    "model.summary()"
   ],
   "outputs": [
    {
     "output_type": "stream",
     "name": "stdout",
     "text": [
      "Model: \"sequential\"\n",
      "_________________________________________________________________\n",
      "Layer (type)                 Output Shape              Param #   \n",
      "=================================================================\n",
      "embedding (Embedding)        (None, None, 300)         600900    \n",
      "_________________________________________________________________\n",
      "lstm (LSTM)                  (None, 300)               721200    \n",
      "_________________________________________________________________\n",
      "dense (Dense)                (None, 176)               52976     \n",
      "=================================================================\n",
      "Total params: 1,375,076\n",
      "Trainable params: 1,375,076\n",
      "Non-trainable params: 0\n",
      "_________________________________________________________________\n"
     ]
    }
   ],
   "metadata": {}
  },
  {
   "cell_type": "code",
   "execution_count": 55,
   "source": [
    "es = EarlyStopping(monitor='val_loss', mode='min', verbose=1, patience=6)\r\n",
    "mc = ModelCheckpoint('op_model_lstm.h5', monitor='val_acc', mode='max', verbose=1, save_best_only=True)"
   ],
   "outputs": [],
   "metadata": {}
  },
  {
   "cell_type": "code",
   "execution_count": 56,
   "source": [
    "model.compile(optimizer='adam', loss='categorical_crossentropy', metrics=['acc'])\r\n",
    "history = model.fit(x_train, y_train, epochs=10, callbacks=[es, mc], batch_size=32, validation_split=0.2)"
   ],
   "outputs": [
    {
     "output_type": "stream",
     "name": "stdout",
     "text": [
      "Epoch 1/10\n",
      "31/31 [==============================] - ETA: 0s - loss: 4.9144 - acc: 0.0988\n",
      "Epoch 00001: val_acc improved from -inf to 0.04115, saving model to op_model_lstm.h5\n",
      "31/31 [==============================] - 51s 2s/step - loss: 4.9144 - acc: 0.0988 - val_loss: 4.6566 - val_acc: 0.0412\n",
      "Epoch 2/10\n",
      "31/31 [==============================] - ETA: 0s - loss: 3.6772 - acc: 0.2366\n",
      "Epoch 00002: val_acc improved from 0.04115 to 0.37860, saving model to op_model_lstm.h5\n",
      "31/31 [==============================] - 48s 2s/step - loss: 3.6772 - acc: 0.2366 - val_loss: 3.1106 - val_acc: 0.3786\n",
      "Epoch 3/10\n",
      "31/31 [==============================] - ETA: 0s - loss: 2.1459 - acc: 0.5545\n",
      "Epoch 00003: val_acc improved from 0.37860 to 0.60905, saving model to op_model_lstm.h5\n",
      "31/31 [==============================] - 48s 2s/step - loss: 2.1459 - acc: 0.5545 - val_loss: 2.1386 - val_acc: 0.6091\n",
      "Epoch 4/10\n",
      "31/31 [==============================] - ETA: 0s - loss: 1.1394 - acc: 0.8066\n",
      "Epoch 00004: val_acc improved from 0.60905 to 0.76955, saving model to op_model_lstm.h5\n",
      "31/31 [==============================] - 48s 2s/step - loss: 1.1394 - acc: 0.8066 - val_loss: 1.3227 - val_acc: 0.7695\n",
      "Epoch 5/10\n",
      "31/31 [==============================] - ETA: 0s - loss: 0.4988 - acc: 0.9187\n",
      "Epoch 00005: val_acc improved from 0.76955 to 0.87243, saving model to op_model_lstm.h5\n",
      "31/31 [==============================] - 49s 2s/step - loss: 0.4988 - acc: 0.9187 - val_loss: 0.8731 - val_acc: 0.8724\n",
      "Epoch 6/10\n",
      "31/31 [==============================] - ETA: 0s - loss: 0.2051 - acc: 0.9722\n",
      "Epoch 00006: val_acc improved from 0.87243 to 0.93827, saving model to op_model_lstm.h5\n",
      "31/31 [==============================] - 49s 2s/step - loss: 0.2051 - acc: 0.9722 - val_loss: 0.6179 - val_acc: 0.9383\n",
      "Epoch 7/10\n",
      "31/31 [==============================] - ETA: 0s - loss: 0.0894 - acc: 0.9887\n",
      "Epoch 00007: val_acc improved from 0.93827 to 0.95062, saving model to op_model_lstm.h5\n",
      "31/31 [==============================] - 49s 2s/step - loss: 0.0894 - acc: 0.9887 - val_loss: 0.5530 - val_acc: 0.9506\n",
      "Epoch 8/10\n",
      "31/31 [==============================] - ETA: 0s - loss: 0.0484 - acc: 0.9959\n",
      "Epoch 00008: val_acc did not improve from 0.95062\n",
      "31/31 [==============================] - 49s 2s/step - loss: 0.0484 - acc: 0.9959 - val_loss: 0.5168 - val_acc: 0.9506\n",
      "Epoch 9/10\n",
      "31/31 [==============================] - ETA: 0s - loss: 0.0273 - acc: 0.9969\n",
      "Epoch 00009: val_acc improved from 0.95062 to 0.95473, saving model to op_model_lstm.h5\n",
      "31/31 [==============================] - 49s 2s/step - loss: 0.0273 - acc: 0.9969 - val_loss: 0.5107 - val_acc: 0.9547\n",
      "Epoch 10/10\n",
      "31/31 [==============================] - ETA: 0s - loss: 0.0172 - acc: 0.9990\n",
      "Epoch 00010: val_acc did not improve from 0.95473\n",
      "31/31 [==============================] - 50s 2s/step - loss: 0.0172 - acc: 0.9990 - val_loss: 0.5075 - val_acc: 0.9547\n"
     ]
    }
   ],
   "metadata": {}
  },
  {
   "cell_type": "code",
   "execution_count": 59,
   "source": [
    "print(\"테스트 셋 체크\")\r\n",
    "loaded_model = load_model('op_model_gru.h5')\r\n",
    "print(\"\\n 테스트 정확도: %.4f\" % (loaded_model.evaluate(x_test, y_test)[1]))"
   ],
   "outputs": [
    {
     "output_type": "stream",
     "name": "stdout",
     "text": [
      "테스트 셋 체크\n",
      "17/17 [==============================] - 7s 384ms/step - loss: 0.1772 - acc: 0.9866\n",
      "\n",
      " 테스트 정확도: 0.9866\n"
     ]
    }
   ],
   "metadata": {}
  },
  {
   "cell_type": "markdown",
   "source": [
    "Cannot convert a symbolic Tensor -> numpy 버전 1.19.5로 바꿔줌\n",
    "\n",
    "https://wikidocs.net/45101"
   ],
   "metadata": {}
  },
  {
   "cell_type": "code",
   "execution_count": 58,
   "source": [
    "# list all data in history\r\n",
    "print(history.history.keys())\r\n",
    "# summarize history for accuracy\r\n",
    "plt.plot(history.history['acc'])\r\n",
    "plt.plot(history.history['val_acc'])\r\n",
    "plt.title('model accuracy')\r\n",
    "plt.ylabel('accuracy')\r\n",
    "plt.xlabel('epoch')\r\n",
    "plt.legend(['train', 'test'], loc='upper left')\r\n",
    "plt.show()\r\n",
    "# summarize history for loss\r\n",
    "plt.plot(history.history['loss'])\r\n",
    "plt.plot(history.history['val_loss'])\r\n",
    "plt.title('model loss')\r\n",
    "plt.ylabel('loss')\r\n",
    "plt.xlabel('epoch')\r\n",
    "plt.legend(['train', 'test'], loc='upper left')\r\n",
    "plt.show()"
   ],
   "outputs": [
    {
     "output_type": "stream",
     "name": "stdout",
     "text": [
      "dict_keys(['loss', 'acc', 'val_loss', 'val_acc'])\n"
     ]
    },
    {
     "output_type": "display_data",
     "data": {
      "image/png": "[encoded data removed]",
      "text/plain": [
       "<Figure size 432x288 with 1 Axes>"
      ]
     },
     "metadata": {
      "needs_background": "light"
     }
    },
    {
     "output_type": "display_data",
     "data": {
      "image/png": "[encoded data removed]",
      "text/plain": [
       "<Figure size 432x288 with 1 Axes>"
      ]
     },
     "metadata": {
      "needs_background": "light"
     }
    }
   ],
   "metadata": {}
  },
  {
   "cell_type": "code",
   "execution_count": null,
   "source": [],
   "outputs": [],
   "metadata": {}
  }
 ],
 "metadata": {
  "orig_nbformat": 4,
  "language_info": {
   "name": "python",
   "version": "3.8.11",
   "mimetype": "text/x-python",
   "codemirror_mode": {
    "name": "ipython",
    "version": 3
   },
   "pygments_lexer": "ipython3",
   "nbconvert_exporter": "python",
   "file_extension": ".py"
  },
  "kernelspec": {
   "name": "python3",
   "display_name": "Python 3.8.11 64-bit ('project': conda)"
  },
  "interpreter": {
   "hash": "3c72b3a1d2099a1008e3bc500dd268b9e9c6cd21287ce07be0cbf18dc1c8e707"
  }
 },
 "nbformat": 4,
 "nbformat_minor": 2
}