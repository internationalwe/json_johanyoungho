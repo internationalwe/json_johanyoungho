{
 "cells": [
  {
   "cell_type": "code",
   "execution_count": 1,
   "source": [
    "import pandas as pd\r\n",
    "\r\n",
    "ddata = pd.read_csv(\"./data/ddata.txt\", encoding=\"euc-kr\", sep=\"\\t\", names=[\"num\",\"speaker\",\"contents\",\"tags\"])\r\n",
    "mdata = pd.read_csv(\"./data/mdata.txt\", encoding=\"euc-kr\", sep=\"\\t\", names=[\"id\",\"part\",\"category\",\"exptype\",\"exp\"])\r\n",
    "\r\n",
    "ddata.head()"
   ],
   "outputs": [
    {
     "output_type": "execute_result",
     "data": {
      "text/html": [
       "<div>\n",
       "<style scoped>\n",
       "    .dataframe tbody tr th:only-of-type {\n",
       "        vertical-align: middle;\n",
       "    }\n",
       "\n",
       "    .dataframe tbody tr th {\n",
       "        vertical-align: top;\n",
       "    }\n",
       "\n",
       "    .dataframe thead th {\n",
       "        text-align: right;\n",
       "    }\n",
       "</style>\n",
       "<table border=\"1\" class=\"dataframe\">\n",
       "  <thead>\n",
       "    <tr style=\"text-align: right;\">\n",
       "      <th></th>\n",
       "      <th>num</th>\n",
       "      <th>speaker</th>\n",
       "      <th>contents</th>\n",
       "      <th>tags</th>\n",
       "    </tr>\n",
       "  </thead>\n",
       "  <tbody>\n",
       "    <tr>\n",
       "      <th>0</th>\n",
       "      <td>0</td>\n",
       "      <td>&lt;CO&gt;</td>\n",
       "      <td>어서오세요. 코디봇입니다. 무엇을 도와드릴까요?</td>\n",
       "      <td>INTRO</td>\n",
       "    </tr>\n",
       "    <tr>\n",
       "      <th>1</th>\n",
       "      <td>1</td>\n",
       "      <td>&lt;US&gt;</td>\n",
       "      <td>처음 대학교 들어가는데 입을 옷 코디해주세요.</td>\n",
       "      <td>NaN</td>\n",
       "    </tr>\n",
       "    <tr>\n",
       "      <th>2</th>\n",
       "      <td>2</td>\n",
       "      <td>&lt;CO&gt;</td>\n",
       "      <td>신입생 코디에 어울리게 화사한 스웨터를 추천해드릴게요.</td>\n",
       "      <td>EXP_RES_SITUATION;EXP_RES_DESCRIPTION</td>\n",
       "    </tr>\n",
       "    <tr>\n",
       "      <th>3</th>\n",
       "      <td>3</td>\n",
       "      <td>&lt;AC&gt;</td>\n",
       "      <td>SW-009</td>\n",
       "      <td>NaN</td>\n",
       "    </tr>\n",
       "    <tr>\n",
       "      <th>4</th>\n",
       "      <td>4</td>\n",
       "      <td>&lt;US&gt;</td>\n",
       "      <td>이 옷에 어울리는 치마로 추천해주세요.</td>\n",
       "      <td>USER_SUCCESS</td>\n",
       "    </tr>\n",
       "  </tbody>\n",
       "</table>\n",
       "</div>"
      ],
      "text/plain": [
       "   num speaker                         contents  \\\n",
       "0    0    <CO>       어서오세요. 코디봇입니다. 무엇을 도와드릴까요?   \n",
       "1    1    <US>        처음 대학교 들어가는데 입을 옷 코디해주세요.   \n",
       "2    2    <CO>   신입생 코디에 어울리게 화사한 스웨터를 추천해드릴게요.   \n",
       "3    3    <AC>                           SW-009   \n",
       "4    4    <US>            이 옷에 어울리는 치마로 추천해주세요.   \n",
       "\n",
       "                                    tags  \n",
       "0                                  INTRO  \n",
       "1                                    NaN  \n",
       "2  EXP_RES_SITUATION;EXP_RES_DESCRIPTION  \n",
       "3                                    NaN  \n",
       "4                           USER_SUCCESS  "
      ]
     },
     "metadata": {},
     "execution_count": 1
    }
   ],
   "metadata": {}
  },
  {
   "cell_type": "markdown",
   "source": [
    "# 1. 전체 대화셋 개수 카운트"
   ],
   "metadata": {}
  },
  {
   "cell_type": "code",
   "execution_count": 2,
   "source": [
    "dial_num = 0\r\n",
    "\r\n",
    "for i in range(1, len(ddata)):\r\n",
    "    if ddata.loc[i, \"num\"] == 0:\r\n",
    "        dial_num += 1\r\n",
    "print(\"총 대화셋 수: \",dial_num)"
   ],
   "outputs": [
    {
     "output_type": "stream",
     "name": "stdout",
     "text": [
      "총 대화셋 수:  7235\n"
     ]
    }
   ],
   "metadata": {}
  },
  {
   "cell_type": "markdown",
   "source": [
    "# 2. Mdata 합치기"
   ],
   "metadata": {}
  },
  {
   "cell_type": "markdown",
   "source": [
    "## - Part 살려서 합치기"
   ],
   "metadata": {}
  },
  {
   "cell_type": "code",
   "execution_count": 3,
   "source": [
    "c_mdata = pd.DataFrame({\"id\":[0],\"exp\":[None]})\r\n",
    "c_mdata.drop(0, axis=0, inplace=True)\r\n",
    "c_mdata"
   ],
   "outputs": [
    {
     "output_type": "execute_result",
     "data": {
      "text/html": [
       "<div>\n",
       "<style scoped>\n",
       "    .dataframe tbody tr th:only-of-type {\n",
       "        vertical-align: middle;\n",
       "    }\n",
       "\n",
       "    .dataframe tbody tr th {\n",
       "        vertical-align: top;\n",
       "    }\n",
       "\n",
       "    .dataframe thead th {\n",
       "        text-align: right;\n",
       "    }\n",
       "</style>\n",
       "<table border=\"1\" class=\"dataframe\">\n",
       "  <thead>\n",
       "    <tr style=\"text-align: right;\">\n",
       "      <th></th>\n",
       "      <th>id</th>\n",
       "      <th>exp</th>\n",
       "    </tr>\n",
       "  </thead>\n",
       "  <tbody>\n",
       "  </tbody>\n",
       "</table>\n",
       "</div>"
      ],
      "text/plain": [
       "Empty DataFrame\n",
       "Columns: [id, exp]\n",
       "Index: []"
      ]
     },
     "metadata": {},
     "execution_count": 3
    }
   ],
   "metadata": {}
  },
  {
   "cell_type": "code",
   "execution_count": 4,
   "source": [
    "id = \"\"\r\n",
    "idx = 0\r\n",
    "for i in range(len(mdata)):\r\n",
    "    if id == mdata.loc[i, \"id\"]:\r\n",
    "        c_mdata.loc[c_mdata.index[(c_mdata[\"id\"] == id)].tolist().pop(),\"exp\"] = c_mdata.loc[c_mdata.index[(c_mdata[\"id\"] == id)].tolist().pop(),\"exp\"] + \" \" + mdata.loc[i, \"exp\"]\r\n",
    "    \r\n",
    "    else:\r\n",
    "        id = mdata.loc[i, \"id\"]\r\n",
    "        c_mdata.loc[i, \"id\"] = id\r\n",
    "        c_mdata.loc[i, \"exp\"] = mdata.loc[i, \"exp\"]\r\n",
    "\r\n",
    "c_mdata.head()"
   ],
   "outputs": [
    {
     "output_type": "execute_result",
     "data": {
      "text/html": [
       "<div>\n",
       "<style scoped>\n",
       "    .dataframe tbody tr th:only-of-type {\n",
       "        vertical-align: middle;\n",
       "    }\n",
       "\n",
       "    .dataframe tbody tr th {\n",
       "        vertical-align: top;\n",
       "    }\n",
       "\n",
       "    .dataframe thead th {\n",
       "        text-align: right;\n",
       "    }\n",
       "</style>\n",
       "<table border=\"1\" class=\"dataframe\">\n",
       "  <thead>\n",
       "    <tr style=\"text-align: right;\">\n",
       "      <th></th>\n",
       "      <th>id</th>\n",
       "      <th>exp</th>\n",
       "    </tr>\n",
       "  </thead>\n",
       "  <tbody>\n",
       "    <tr>\n",
       "      <th>0</th>\n",
       "      <td>BL-001</td>\n",
       "      <td>단추 여밈의 전체 오픈형 스탠드 칼라와 브이넥 네크라인의 결합스타일 손목까지 내려오...</td>\n",
       "    </tr>\n",
       "    <tr>\n",
       "      <th>20</th>\n",
       "      <td>BL-002</td>\n",
       "      <td>넓은 셔츠칼라 네크라인 앞중심에 반 오픈 끈여밈있는 스타일 드롭숄더 퍼프형 소매로 ...</td>\n",
       "    </tr>\n",
       "    <tr>\n",
       "      <th>38</th>\n",
       "      <td>BL-003</td>\n",
       "      <td>앞 중심에 단추 여밈 칼라가 없는 넓고 깊게 파인 브이넥 엉덩이 밑으로 내려오는 긴...</td>\n",
       "    </tr>\n",
       "    <tr>\n",
       "      <th>63</th>\n",
       "      <td>BL-004</td>\n",
       "      <td>앞중심에 단추 여밈 칼라가 없는 라운드넥으로 골반 위에서 끝나는 짧은 기장 손목, ...</td>\n",
       "    </tr>\n",
       "    <tr>\n",
       "      <th>84</th>\n",
       "      <td>BL-005</td>\n",
       "      <td>앞단추 여밈의 전체 오픈형 칼라가 없는 라운드넥크라인 엉덩이 위에서 끝나는 짧은 기...</td>\n",
       "    </tr>\n",
       "  </tbody>\n",
       "</table>\n",
       "</div>"
      ],
      "text/plain": [
       "         id                                                exp\n",
       "0   BL-001   단추 여밈의 전체 오픈형 스탠드 칼라와 브이넥 네크라인의 결합스타일 손목까지 내려오...\n",
       "20  BL-002   넓은 셔츠칼라 네크라인 앞중심에 반 오픈 끈여밈있는 스타일 드롭숄더 퍼프형 소매로 ...\n",
       "38  BL-003   앞 중심에 단추 여밈 칼라가 없는 넓고 깊게 파인 브이넥 엉덩이 밑으로 내려오는 긴...\n",
       "63  BL-004   앞중심에 단추 여밈 칼라가 없는 라운드넥으로 골반 위에서 끝나는 짧은 기장 손목, ...\n",
       "84  BL-005   앞단추 여밈의 전체 오픈형 칼라가 없는 라운드넥크라인 엉덩이 위에서 끝나는 짧은 기..."
      ]
     },
     "metadata": {},
     "execution_count": 4
    }
   ],
   "metadata": {}
  },
  {
   "cell_type": "code",
   "execution_count": 5,
   "source": [
    "for i in range(len(c_mdata)): # id 뒤에 공백 없애기\r\n",
    "    c_mdata.iloc[i].id = c_mdata.iloc[i].id.strip()\r\n",
    "\r\n",
    "print(c_mdata.iloc[0].id)\r\n",
    "c_mdata.reset_index(drop=True,inplace=True)\r\n",
    "c_mdata.head()"
   ],
   "outputs": [
    {
     "output_type": "stream",
     "name": "stdout",
     "text": [
      "BL-001\n"
     ]
    },
    {
     "output_type": "execute_result",
     "data": {
      "text/html": [
       "<div>\n",
       "<style scoped>\n",
       "    .dataframe tbody tr th:only-of-type {\n",
       "        vertical-align: middle;\n",
       "    }\n",
       "\n",
       "    .dataframe tbody tr th {\n",
       "        vertical-align: top;\n",
       "    }\n",
       "\n",
       "    .dataframe thead th {\n",
       "        text-align: right;\n",
       "    }\n",
       "</style>\n",
       "<table border=\"1\" class=\"dataframe\">\n",
       "  <thead>\n",
       "    <tr style=\"text-align: right;\">\n",
       "      <th></th>\n",
       "      <th>id</th>\n",
       "      <th>exp</th>\n",
       "    </tr>\n",
       "  </thead>\n",
       "  <tbody>\n",
       "    <tr>\n",
       "      <th>0</th>\n",
       "      <td>BL-001</td>\n",
       "      <td>단추 여밈의 전체 오픈형 스탠드 칼라와 브이넥 네크라인의 결합스타일 손목까지 내려오...</td>\n",
       "    </tr>\n",
       "    <tr>\n",
       "      <th>1</th>\n",
       "      <td>BL-002</td>\n",
       "      <td>넓은 셔츠칼라 네크라인 앞중심에 반 오픈 끈여밈있는 스타일 드롭숄더 퍼프형 소매로 ...</td>\n",
       "    </tr>\n",
       "    <tr>\n",
       "      <th>2</th>\n",
       "      <td>BL-003</td>\n",
       "      <td>앞 중심에 단추 여밈 칼라가 없는 넓고 깊게 파인 브이넥 엉덩이 밑으로 내려오는 긴...</td>\n",
       "    </tr>\n",
       "    <tr>\n",
       "      <th>3</th>\n",
       "      <td>BL-004</td>\n",
       "      <td>앞중심에 단추 여밈 칼라가 없는 라운드넥으로 골반 위에서 끝나는 짧은 기장 손목, ...</td>\n",
       "    </tr>\n",
       "    <tr>\n",
       "      <th>4</th>\n",
       "      <td>BL-005</td>\n",
       "      <td>앞단추 여밈의 전체 오픈형 칼라가 없는 라운드넥크라인 엉덩이 위에서 끝나는 짧은 기...</td>\n",
       "    </tr>\n",
       "  </tbody>\n",
       "</table>\n",
       "</div>"
      ],
      "text/plain": [
       "       id                                                exp\n",
       "0  BL-001  단추 여밈의 전체 오픈형 스탠드 칼라와 브이넥 네크라인의 결합스타일 손목까지 내려오...\n",
       "1  BL-002  넓은 셔츠칼라 네크라인 앞중심에 반 오픈 끈여밈있는 스타일 드롭숄더 퍼프형 소매로 ...\n",
       "2  BL-003  앞 중심에 단추 여밈 칼라가 없는 넓고 깊게 파인 브이넥 엉덩이 밑으로 내려오는 긴...\n",
       "3  BL-004  앞중심에 단추 여밈 칼라가 없는 라운드넥으로 골반 위에서 끝나는 짧은 기장 손목, ...\n",
       "4  BL-005  앞단추 여밈의 전체 오픈형 칼라가 없는 라운드넥크라인 엉덩이 위에서 끝나는 짧은 기..."
      ]
     },
     "metadata": {},
     "execution_count": 5
    }
   ],
   "metadata": {}
  },
  {
   "cell_type": "markdown",
   "source": [
    "# 3. NaN, Null 값 확인"
   ],
   "metadata": {}
  },
  {
   "cell_type": "code",
   "execution_count": 6,
   "source": [
    "ddata.drop(ddata.index[ddata.tags == \"INTRO\"].tolist(), axis=0, inplace=True)\r\n",
    "ddata.reset_index(drop=True, inplace=True)\r\n",
    "ddata[ddata.tags == \"INTRO\"]"
   ],
   "outputs": [
    {
     "output_type": "execute_result",
     "data": {
      "text/html": [
       "<div>\n",
       "<style scoped>\n",
       "    .dataframe tbody tr th:only-of-type {\n",
       "        vertical-align: middle;\n",
       "    }\n",
       "\n",
       "    .dataframe tbody tr th {\n",
       "        vertical-align: top;\n",
       "    }\n",
       "\n",
       "    .dataframe thead th {\n",
       "        text-align: right;\n",
       "    }\n",
       "</style>\n",
       "<table border=\"1\" class=\"dataframe\">\n",
       "  <thead>\n",
       "    <tr style=\"text-align: right;\">\n",
       "      <th></th>\n",
       "      <th>num</th>\n",
       "      <th>speaker</th>\n",
       "      <th>contents</th>\n",
       "      <th>tags</th>\n",
       "    </tr>\n",
       "  </thead>\n",
       "  <tbody>\n",
       "  </tbody>\n",
       "</table>\n",
       "</div>"
      ],
      "text/plain": [
       "Empty DataFrame\n",
       "Columns: [num, speaker, contents, tags]\n",
       "Index: []"
      ]
     },
     "metadata": {},
     "execution_count": 6
    }
   ],
   "metadata": {}
  },
  {
   "cell_type": "code",
   "execution_count": 7,
   "source": [
    "ddata.isnull().sum()"
   ],
   "outputs": [
    {
     "output_type": "execute_result",
     "data": {
      "text/plain": [
       "num             0\n",
       "speaker         0\n",
       "contents        0\n",
       "tags        51927\n",
       "dtype: int64"
      ]
     },
     "metadata": {},
     "execution_count": 7
    }
   ],
   "metadata": {}
  },
  {
   "cell_type": "code",
   "execution_count": 8,
   "source": [
    "ddata.isna().sum()"
   ],
   "outputs": [
    {
     "output_type": "execute_result",
     "data": {
      "text/plain": [
       "num             0\n",
       "speaker         0\n",
       "contents        0\n",
       "tags        51927\n",
       "dtype: int64"
      ]
     },
     "metadata": {},
     "execution_count": 8
    }
   ],
   "metadata": {}
  },
  {
   "cell_type": "code",
   "execution_count": 9,
   "source": [
    "ddata.fillna(\"\", inplace=True)\r\n",
    "ddata.isna().sum()"
   ],
   "outputs": [
    {
     "output_type": "execute_result",
     "data": {
      "text/plain": [
       "num         0\n",
       "speaker     0\n",
       "contents    0\n",
       "tags        0\n",
       "dtype: int64"
      ]
     },
     "metadata": {},
     "execution_count": 9
    }
   ],
   "metadata": {}
  },
  {
   "cell_type": "code",
   "execution_count": 10,
   "source": [
    "mdata.isnull().sum()"
   ],
   "outputs": [
    {
     "output_type": "execute_result",
     "data": {
      "text/plain": [
       "id          0\n",
       "part        0\n",
       "category    0\n",
       "exptype     0\n",
       "exp         0\n",
       "dtype: int64"
      ]
     },
     "metadata": {},
     "execution_count": 10
    }
   ],
   "metadata": {}
  },
  {
   "cell_type": "code",
   "execution_count": 11,
   "source": [
    "c_mdata.isnull().sum()"
   ],
   "outputs": [
    {
     "output_type": "execute_result",
     "data": {
      "text/plain": [
       "id     0\n",
       "exp    0\n",
       "dtype: int64"
      ]
     },
     "metadata": {},
     "execution_count": 11
    }
   ],
   "metadata": {}
  },
  {
   "cell_type": "markdown",
   "source": [
    "# 4. 추천 성공 의상 아이디 종류 및 빈도 카운트 "
   ],
   "metadata": {}
  },
  {
   "cell_type": "markdown",
   "source": [
    "## 한 번에 추천해도 실패하면 전부 실패로 달기"
   ],
   "metadata": {}
  },
  {
   "cell_type": "code",
   "execution_count": 12,
   "source": [
    "c_data = pd.DataFrame({\"contents\":[None], \"id\":[\"xx-xxx\"]})\r\n",
    "c_data.drop(0,axis=0,inplace=True)\r\n",
    "c_data.head()"
   ],
   "outputs": [
    {
     "output_type": "execute_result",
     "data": {
      "text/html": [
       "<div>\n",
       "<style scoped>\n",
       "    .dataframe tbody tr th:only-of-type {\n",
       "        vertical-align: middle;\n",
       "    }\n",
       "\n",
       "    .dataframe tbody tr th {\n",
       "        vertical-align: top;\n",
       "    }\n",
       "\n",
       "    .dataframe thead th {\n",
       "        text-align: right;\n",
       "    }\n",
       "</style>\n",
       "<table border=\"1\" class=\"dataframe\">\n",
       "  <thead>\n",
       "    <tr style=\"text-align: right;\">\n",
       "      <th></th>\n",
       "      <th>contents</th>\n",
       "      <th>id</th>\n",
       "    </tr>\n",
       "  </thead>\n",
       "  <tbody>\n",
       "  </tbody>\n",
       "</table>\n",
       "</div>"
      ],
      "text/plain": [
       "Empty DataFrame\n",
       "Columns: [contents, id]\n",
       "Index: []"
      ]
     },
     "metadata": {},
     "execution_count": 12
    }
   ],
   "metadata": {}
  },
  {
   "cell_type": "markdown",
   "source": [
    "<코드 동작 원리>\n",
    "<br>\n",
    "\n",
    "대화문 하나씩 받아온 다음\n",
    "- AC 태그 문장이면 일단 의상 변수에 저장,\n",
    "- user_success 태그 문장이면\n",
    "\n",
    "   - 변수에 저장된 의상이 하나면\n",
    "\n",
    "      - 바로 대화문 변수랑 의상 변수 및 의상 메타데이터 합쳐서 저장 -> 레이블(id 컬럼에 저장)은 의상 코드가 됨\n",
    "\n",
    "   - 변수에 저장된 의상의 여러 개면\n",
    "\n",
    "      - 의상을 하나의 코드 단위로 쪼개서 대화문 변수랑 의상 메타데이터 합쳐서 저장\n",
    "      \n",
    "-  둘 다 아니고 일반 대화문이면 대화문 변수에 저장"
   ],
   "metadata": {}
  },
  {
   "cell_type": "code",
   "execution_count": 13,
   "source": [
    "dial = ddata.loc[0, \"contents\"].strip()\r\n",
    "ac = \"\"\r\n",
    "\r\n",
    "for i in range(1,len(ddata)):\r\n",
    "    cur_sen = ddata.loc[i,\"contents\"].strip()\r\n",
    "\r\n",
    "    if ddata.loc[i, \"num\"] > ddata.loc[i-1, \"num\"]: # 이전 대화셋에 포함된 문장인지 확인\r\n",
    "        \r\n",
    "        if ddata.loc[i,\"speaker\"] == \"<AC>\": # case 1. 의상 아이디가 나온 경우\r\n",
    "            if len(ac) > 1:\r\n",
    "                ac = ac + \" \" + cur_sen # 의상 아이디 저장\r\n",
    "            else:\r\n",
    "                ac = cur_sen\r\n",
    "\r\n",
    "        elif \"USER_SUCCESS\" == ddata.loc[i,\"tags\"]: # case 2. USER_SUCCESS 태그가 나온 경우\r\n",
    "            if 0 < len(ac) < 7: # 의상을 하나만 추천한 경우\r\n",
    "                dial = dial + \" \" + ac + \" \" + cur_sen\r\n",
    "                c_data.loc[i, \"contents\"] =  dial + \" \" + c_mdata.loc[c_mdata.id == ac].exp.values[0]\r\n",
    "                c_data.loc[i, \"id\"] = ac\r\n",
    "                ac = \"\"\r\n",
    "\r\n",
    "            elif len(ac) == 0:\r\n",
    "                dial = dial + \" \" + cur_sen\r\n",
    "\r\n",
    "            else: # 의상을 한 번에 여러 개 추천한 경우\r\n",
    "                idx_cnt = 0\r\n",
    "                for one_ac in ac.split():\r\n",
    "                    c_data.loc[i + idx_cnt, \"contents\"] =  dial + \" \" + one_ac + \" \"+ cur_sen + \" \" + c_mdata.loc[c_mdata.id == one_ac].exp.values[0]\r\n",
    "                    c_data.loc[i + idx_cnt, \"id\"] = one_ac\r\n",
    "                    idx_cnt += 1\r\n",
    "                dial = dial + \" \" + ac + \" \" + cur_sen    \r\n",
    "                ac = \"\"\r\n",
    "        \r\n",
    "        elif \"USER_FAIL\" in ddata.loc[i,\"tags\"]:\r\n",
    "            dial = dial + \" \" + ac + \" \" + cur_sen\r\n",
    "            ac = \"\"\r\n",
    "\r\n",
    "        else: # case 3. 그냥 대화문인 경우\r\n",
    "            dial = dial + \" \" + cur_sen\r\n",
    "    \r\n",
    "    else: #새로운 대화셋 시작이면 초기화\r\n",
    "        dial = cur_sen\r\n",
    "        ac = \"\""
   ],
   "outputs": [],
   "metadata": {}
  },
  {
   "cell_type": "code",
   "execution_count": 14,
   "source": [
    "print(\"전체 데이터 수: \", len(c_data))\r\n",
    "c_data.head()"
   ],
   "outputs": [
    {
     "output_type": "stream",
     "name": "stdout",
     "text": [
      "전체 데이터 수:  34303\n"
     ]
    },
    {
     "output_type": "execute_result",
     "data": {
      "text/html": [
       "<div>\n",
       "<style scoped>\n",
       "    .dataframe tbody tr th:only-of-type {\n",
       "        vertical-align: middle;\n",
       "    }\n",
       "\n",
       "    .dataframe tbody tr th {\n",
       "        vertical-align: top;\n",
       "    }\n",
       "\n",
       "    .dataframe thead th {\n",
       "        text-align: right;\n",
       "    }\n",
       "</style>\n",
       "<table border=\"1\" class=\"dataframe\">\n",
       "  <thead>\n",
       "    <tr style=\"text-align: right;\">\n",
       "      <th></th>\n",
       "      <th>contents</th>\n",
       "      <th>id</th>\n",
       "    </tr>\n",
       "  </thead>\n",
       "  <tbody>\n",
       "    <tr>\n",
       "      <th>3</th>\n",
       "      <td>처음 대학교 들어가는데 입을 옷 코디해주세요. 신입생 코디에 어울리게 화사한 스웨터...</td>\n",
       "      <td>SW-009</td>\n",
       "    </tr>\n",
       "    <tr>\n",
       "      <th>12</th>\n",
       "      <td>처음 대학교 들어가는데 입을 옷 코디해주세요. 신입생 코디에 어울리게 화사한 스웨터...</td>\n",
       "      <td>SK-053</td>\n",
       "    </tr>\n",
       "    <tr>\n",
       "      <th>17</th>\n",
       "      <td>처음 대학교 들어가는데 입을 옷 코디해주세요. 신입생 코디에 어울리게 화사한 스웨터...</td>\n",
       "      <td>CT-019</td>\n",
       "    </tr>\n",
       "    <tr>\n",
       "      <th>22</th>\n",
       "      <td>처음 대학교 들어가는데 입을 옷 코디해주세요. 신입생 코디에 어울리게 화사한 스웨터...</td>\n",
       "      <td>SE-039</td>\n",
       "    </tr>\n",
       "    <tr>\n",
       "      <th>26</th>\n",
       "      <td>처음 대학교 들어가는데 입을 옷 코디해주세요. 신입생 코디에 어울리게 화사한 스웨터...</td>\n",
       "      <td>CT-019</td>\n",
       "    </tr>\n",
       "  </tbody>\n",
       "</table>\n",
       "</div>"
      ],
      "text/plain": [
       "                                             contents      id\n",
       "3   처음 대학교 들어가는데 입을 옷 코디해주세요. 신입생 코디에 어울리게 화사한 스웨터...  SW-009\n",
       "12  처음 대학교 들어가는데 입을 옷 코디해주세요. 신입생 코디에 어울리게 화사한 스웨터...  SK-053\n",
       "17  처음 대학교 들어가는데 입을 옷 코디해주세요. 신입생 코디에 어울리게 화사한 스웨터...  CT-019\n",
       "22  처음 대학교 들어가는데 입을 옷 코디해주세요. 신입생 코디에 어울리게 화사한 스웨터...  SE-039\n",
       "26  처음 대학교 들어가는데 입을 옷 코디해주세요. 신입생 코디에 어울리게 화사한 스웨터...  CT-019"
      ]
     },
     "metadata": {},
     "execution_count": 14
    }
   ],
   "metadata": {}
  },
  {
   "cell_type": "code",
   "execution_count": 15,
   "source": [
    "c_data.reset_index(drop=True ,inplace=True)\r\n",
    "c_data.head()"
   ],
   "outputs": [
    {
     "output_type": "execute_result",
     "data": {
      "text/html": [
       "<div>\n",
       "<style scoped>\n",
       "    .dataframe tbody tr th:only-of-type {\n",
       "        vertical-align: middle;\n",
       "    }\n",
       "\n",
       "    .dataframe tbody tr th {\n",
       "        vertical-align: top;\n",
       "    }\n",
       "\n",
       "    .dataframe thead th {\n",
       "        text-align: right;\n",
       "    }\n",
       "</style>\n",
       "<table border=\"1\" class=\"dataframe\">\n",
       "  <thead>\n",
       "    <tr style=\"text-align: right;\">\n",
       "      <th></th>\n",
       "      <th>contents</th>\n",
       "      <th>id</th>\n",
       "    </tr>\n",
       "  </thead>\n",
       "  <tbody>\n",
       "    <tr>\n",
       "      <th>0</th>\n",
       "      <td>처음 대학교 들어가는데 입을 옷 코디해주세요. 신입생 코디에 어울리게 화사한 스웨터...</td>\n",
       "      <td>SW-009</td>\n",
       "    </tr>\n",
       "    <tr>\n",
       "      <th>1</th>\n",
       "      <td>처음 대학교 들어가는데 입을 옷 코디해주세요. 신입생 코디에 어울리게 화사한 스웨터...</td>\n",
       "      <td>SK-053</td>\n",
       "    </tr>\n",
       "    <tr>\n",
       "      <th>2</th>\n",
       "      <td>처음 대학교 들어가는데 입을 옷 코디해주세요. 신입생 코디에 어울리게 화사한 스웨터...</td>\n",
       "      <td>CT-019</td>\n",
       "    </tr>\n",
       "    <tr>\n",
       "      <th>3</th>\n",
       "      <td>처음 대학교 들어가는데 입을 옷 코디해주세요. 신입생 코디에 어울리게 화사한 스웨터...</td>\n",
       "      <td>SE-039</td>\n",
       "    </tr>\n",
       "    <tr>\n",
       "      <th>4</th>\n",
       "      <td>처음 대학교 들어가는데 입을 옷 코디해주세요. 신입생 코디에 어울리게 화사한 스웨터...</td>\n",
       "      <td>CT-019</td>\n",
       "    </tr>\n",
       "  </tbody>\n",
       "</table>\n",
       "</div>"
      ],
      "text/plain": [
       "                                            contents      id\n",
       "0  처음 대학교 들어가는데 입을 옷 코디해주세요. 신입생 코디에 어울리게 화사한 스웨터...  SW-009\n",
       "1  처음 대학교 들어가는데 입을 옷 코디해주세요. 신입생 코디에 어울리게 화사한 스웨터...  SK-053\n",
       "2  처음 대학교 들어가는데 입을 옷 코디해주세요. 신입생 코디에 어울리게 화사한 스웨터...  CT-019\n",
       "3  처음 대학교 들어가는데 입을 옷 코디해주세요. 신입생 코디에 어울리게 화사한 스웨터...  SE-039\n",
       "4  처음 대학교 들어가는데 입을 옷 코디해주세요. 신입생 코디에 어울리게 화사한 스웨터...  CT-019"
      ]
     },
     "metadata": {},
     "execution_count": 15
    }
   ],
   "metadata": {}
  },
  {
   "cell_type": "code",
   "execution_count": 16,
   "source": [
    "c_data.loc[0].contents"
   ],
   "outputs": [
    {
     "output_type": "execute_result",
     "data": {
      "text/plain": [
       "'처음 대학교 들어가는데 입을 옷 코디해주세요. 신입생 코디에 어울리게 화사한 스웨터를 추천해드릴게요. SW-009 이 옷에 어울리는 치마로 추천해주세요. 라운드 네크라인 여밈이 없는 풀오버 스타일 전체 케이블 조직 드롭숄더 슬리브 손등까지 오는 길이의 소매 몸에 적당히 맞는 품 엉덩이를 살짝 덮는 길이 네크라인, 소매 끝, 밑단에 고무단 처리 레이온52%,나일론20%,폴리에스터28% 꽈배기 조직, 플레인 조직이 섞여 있는 형태 드라이 크리닝 단색의 라임색 브라이트톤(고명도 고채도)의 옐로우 그린 산뜻하고 발랄한 느낌 기본의 단정한 편안한 산뜻한 발랄한 경쾌한 따뜻한 데일리룩 캠퍼스룩'"
      ]
     },
     "metadata": {},
     "execution_count": 16
    }
   ],
   "metadata": {}
  },
  {
   "cell_type": "code",
   "execution_count": 17,
   "source": [
    "pt_data = pd.DataFrame({\"contents\":[None], \"id\":[\"xx-xxx\"]})\r\n",
    "pt_data.drop(0,axis=0,inplace=True)\r\n",
    "pt_data.head()"
   ],
   "outputs": [
    {
     "output_type": "execute_result",
     "data": {
      "text/html": [
       "<div>\n",
       "<style scoped>\n",
       "    .dataframe tbody tr th:only-of-type {\n",
       "        vertical-align: middle;\n",
       "    }\n",
       "\n",
       "    .dataframe tbody tr th {\n",
       "        vertical-align: top;\n",
       "    }\n",
       "\n",
       "    .dataframe thead th {\n",
       "        text-align: right;\n",
       "    }\n",
       "</style>\n",
       "<table border=\"1\" class=\"dataframe\">\n",
       "  <thead>\n",
       "    <tr style=\"text-align: right;\">\n",
       "      <th></th>\n",
       "      <th>contents</th>\n",
       "      <th>id</th>\n",
       "    </tr>\n",
       "  </thead>\n",
       "  <tbody>\n",
       "  </tbody>\n",
       "</table>\n",
       "</div>"
      ],
      "text/plain": [
       "Empty DataFrame\n",
       "Columns: [contents, id]\n",
       "Index: []"
      ]
     },
     "metadata": {},
     "execution_count": 17
    }
   ],
   "metadata": {}
  },
  {
   "cell_type": "code",
   "execution_count": 18,
   "source": [
    "for i in range(len(c_data)):\r\n",
    "    if \"PT\" in c_data[\"id\"][i][0:2]:\r\n",
    "        pt_data = pt_data.append(c_data.iloc[i])\r\n",
    "\r\n",
    "pt_data.reset_index(drop=True, inplace=True)\r\n",
    "print(\"데이터 개수\",len(pt_data))\r\n",
    "pt_data.head()"
   ],
   "outputs": [
    {
     "output_type": "stream",
     "name": "stdout",
     "text": [
      "데이터 개수 5568\n"
     ]
    },
    {
     "output_type": "execute_result",
     "data": {
      "text/html": [
       "<div>\n",
       "<style scoped>\n",
       "    .dataframe tbody tr th:only-of-type {\n",
       "        vertical-align: middle;\n",
       "    }\n",
       "\n",
       "    .dataframe tbody tr th {\n",
       "        vertical-align: top;\n",
       "    }\n",
       "\n",
       "    .dataframe thead th {\n",
       "        text-align: right;\n",
       "    }\n",
       "</style>\n",
       "<table border=\"1\" class=\"dataframe\">\n",
       "  <thead>\n",
       "    <tr style=\"text-align: right;\">\n",
       "      <th></th>\n",
       "      <th>contents</th>\n",
       "      <th>id</th>\n",
       "    </tr>\n",
       "  </thead>\n",
       "  <tbody>\n",
       "    <tr>\n",
       "      <th>0</th>\n",
       "      <td>동아리에서 엠티를 가는데 옷이 필요해요. 코디좀 부탁드려요. 활동성 좋은 옷들로 구...</td>\n",
       "      <td>PT-001</td>\n",
       "    </tr>\n",
       "    <tr>\n",
       "      <th>1</th>\n",
       "      <td>시험기간에 학교에서 편하게 입을 데일리한 복장 추천해주세요. 무더운 여름날에 시험기...</td>\n",
       "      <td>PT-070</td>\n",
       "    </tr>\n",
       "    <tr>\n",
       "      <th>2</th>\n",
       "      <td>친구들과 기차여행 가는데 편하고 활동성 좋은 여행복장 추천해주세요. 고객님께서는 캐...</td>\n",
       "      <td>PT-083</td>\n",
       "    </tr>\n",
       "    <tr>\n",
       "      <th>3</th>\n",
       "      <td>남자친구랑 도서관에서 공부하려는데 어울리는 코디보여주세요. 편안함을 주는 실용성 있...</td>\n",
       "      <td>PT-065</td>\n",
       "    </tr>\n",
       "    <tr>\n",
       "      <th>4</th>\n",
       "      <td>친구들이랑 둘레길을 걸으려는데 산책하기 좋은 코디 추천해주세요. 편안하고 활동적인 ...</td>\n",
       "      <td>PT-071</td>\n",
       "    </tr>\n",
       "  </tbody>\n",
       "</table>\n",
       "</div>"
      ],
      "text/plain": [
       "                                            contents      id\n",
       "0  동아리에서 엠티를 가는데 옷이 필요해요. 코디좀 부탁드려요. 활동성 좋은 옷들로 구...  PT-001\n",
       "1  시험기간에 학교에서 편하게 입을 데일리한 복장 추천해주세요. 무더운 여름날에 시험기...  PT-070\n",
       "2  친구들과 기차여행 가는데 편하고 활동성 좋은 여행복장 추천해주세요. 고객님께서는 캐...  PT-083\n",
       "3  남자친구랑 도서관에서 공부하려는데 어울리는 코디보여주세요. 편안함을 주는 실용성 있...  PT-065\n",
       "4  친구들이랑 둘레길을 걸으려는데 산책하기 좋은 코디 추천해주세요. 편안하고 활동적인 ...  PT-071"
      ]
     },
     "metadata": {},
     "execution_count": 18
    }
   ],
   "metadata": {}
  },
  {
   "cell_type": "code",
   "execution_count": 19,
   "source": [
    "pt_data[\"contents\"] = pt_data[\"contents\"].str.replace(\"[^A-Za-z0-9ㄱ-ㅎㅏ-ㅣ가-힣 ]\",\"\")\r\n",
    "pt_data.head()"
   ],
   "outputs": [
    {
     "output_type": "stream",
     "name": "stderr",
     "text": [
      "C:\\Users\\nipa008\\AppData\\Local\\Temp/ipykernel_3724/3461592690.py:1: FutureWarning: The default value of regex will change from True to False in a future version.\n",
      "  pt_data[\"contents\"] = pt_data[\"contents\"].str.replace(\"[^A-Za-z0-9ㄱ-ㅎㅏ-ㅣ가-힣 ]\",\"\")\n"
     ]
    },
    {
     "output_type": "execute_result",
     "data": {
      "text/html": [
       "<div>\n",
       "<style scoped>\n",
       "    .dataframe tbody tr th:only-of-type {\n",
       "        vertical-align: middle;\n",
       "    }\n",
       "\n",
       "    .dataframe tbody tr th {\n",
       "        vertical-align: top;\n",
       "    }\n",
       "\n",
       "    .dataframe thead th {\n",
       "        text-align: right;\n",
       "    }\n",
       "</style>\n",
       "<table border=\"1\" class=\"dataframe\">\n",
       "  <thead>\n",
       "    <tr style=\"text-align: right;\">\n",
       "      <th></th>\n",
       "      <th>contents</th>\n",
       "      <th>id</th>\n",
       "    </tr>\n",
       "  </thead>\n",
       "  <tbody>\n",
       "    <tr>\n",
       "      <th>0</th>\n",
       "      <td>동아리에서 엠티를 가는데 옷이 필요해요 코디좀 부탁드려요 활동성 좋은 옷들로 구성된...</td>\n",
       "      <td>PT-001</td>\n",
       "    </tr>\n",
       "    <tr>\n",
       "      <th>1</th>\n",
       "      <td>시험기간에 학교에서 편하게 입을 데일리한 복장 추천해주세요 무더운 여름날에 시험기간...</td>\n",
       "      <td>PT-070</td>\n",
       "    </tr>\n",
       "    <tr>\n",
       "      <th>2</th>\n",
       "      <td>친구들과 기차여행 가는데 편하고 활동성 좋은 여행복장 추천해주세요 고객님께서는 캐주...</td>\n",
       "      <td>PT-083</td>\n",
       "    </tr>\n",
       "    <tr>\n",
       "      <th>3</th>\n",
       "      <td>남자친구랑 도서관에서 공부하려는데 어울리는 코디보여주세요 편안함을 주는 실용성 있는...</td>\n",
       "      <td>PT-065</td>\n",
       "    </tr>\n",
       "    <tr>\n",
       "      <th>4</th>\n",
       "      <td>친구들이랑 둘레길을 걸으려는데 산책하기 좋은 코디 추천해주세요 편안하고 활동적인 옷...</td>\n",
       "      <td>PT-071</td>\n",
       "    </tr>\n",
       "  </tbody>\n",
       "</table>\n",
       "</div>"
      ],
      "text/plain": [
       "                                            contents      id\n",
       "0  동아리에서 엠티를 가는데 옷이 필요해요 코디좀 부탁드려요 활동성 좋은 옷들로 구성된...  PT-001\n",
       "1  시험기간에 학교에서 편하게 입을 데일리한 복장 추천해주세요 무더운 여름날에 시험기간...  PT-070\n",
       "2  친구들과 기차여행 가는데 편하고 활동성 좋은 여행복장 추천해주세요 고객님께서는 캐주...  PT-083\n",
       "3  남자친구랑 도서관에서 공부하려는데 어울리는 코디보여주세요 편안함을 주는 실용성 있는...  PT-065\n",
       "4  친구들이랑 둘레길을 걸으려는데 산책하기 좋은 코디 추천해주세요 편안하고 활동적인 옷...  PT-071"
      ]
     },
     "metadata": {},
     "execution_count": 19
    }
   ],
   "metadata": {}
  },
  {
   "cell_type": "code",
   "execution_count": 20,
   "source": [
    "pt_data[\"id\"] = pt_data[\"id\"].str.replace(\"[^0-9]\",\"\")\r\n",
    "\r\n",
    "pt_data.head()"
   ],
   "outputs": [
    {
     "output_type": "stream",
     "name": "stderr",
     "text": [
      "C:\\Users\\nipa008\\AppData\\Local\\Temp/ipykernel_3724/1211130623.py:1: FutureWarning: The default value of regex will change from True to False in a future version.\n",
      "  pt_data[\"id\"] = pt_data[\"id\"].str.replace(\"[^0-9]\",\"\")\n"
     ]
    },
    {
     "output_type": "execute_result",
     "data": {
      "text/html": [
       "<div>\n",
       "<style scoped>\n",
       "    .dataframe tbody tr th:only-of-type {\n",
       "        vertical-align: middle;\n",
       "    }\n",
       "\n",
       "    .dataframe tbody tr th {\n",
       "        vertical-align: top;\n",
       "    }\n",
       "\n",
       "    .dataframe thead th {\n",
       "        text-align: right;\n",
       "    }\n",
       "</style>\n",
       "<table border=\"1\" class=\"dataframe\">\n",
       "  <thead>\n",
       "    <tr style=\"text-align: right;\">\n",
       "      <th></th>\n",
       "      <th>contents</th>\n",
       "      <th>id</th>\n",
       "    </tr>\n",
       "  </thead>\n",
       "  <tbody>\n",
       "    <tr>\n",
       "      <th>0</th>\n",
       "      <td>동아리에서 엠티를 가는데 옷이 필요해요 코디좀 부탁드려요 활동성 좋은 옷들로 구성된...</td>\n",
       "      <td>001</td>\n",
       "    </tr>\n",
       "    <tr>\n",
       "      <th>1</th>\n",
       "      <td>시험기간에 학교에서 편하게 입을 데일리한 복장 추천해주세요 무더운 여름날에 시험기간...</td>\n",
       "      <td>070</td>\n",
       "    </tr>\n",
       "    <tr>\n",
       "      <th>2</th>\n",
       "      <td>친구들과 기차여행 가는데 편하고 활동성 좋은 여행복장 추천해주세요 고객님께서는 캐주...</td>\n",
       "      <td>083</td>\n",
       "    </tr>\n",
       "    <tr>\n",
       "      <th>3</th>\n",
       "      <td>남자친구랑 도서관에서 공부하려는데 어울리는 코디보여주세요 편안함을 주는 실용성 있는...</td>\n",
       "      <td>065</td>\n",
       "    </tr>\n",
       "    <tr>\n",
       "      <th>4</th>\n",
       "      <td>친구들이랑 둘레길을 걸으려는데 산책하기 좋은 코디 추천해주세요 편안하고 활동적인 옷...</td>\n",
       "      <td>071</td>\n",
       "    </tr>\n",
       "  </tbody>\n",
       "</table>\n",
       "</div>"
      ],
      "text/plain": [
       "                                            contents   id\n",
       "0  동아리에서 엠티를 가는데 옷이 필요해요 코디좀 부탁드려요 활동성 좋은 옷들로 구성된...  001\n",
       "1  시험기간에 학교에서 편하게 입을 데일리한 복장 추천해주세요 무더운 여름날에 시험기간...  070\n",
       "2  친구들과 기차여행 가는데 편하고 활동성 좋은 여행복장 추천해주세요 고객님께서는 캐주...  083\n",
       "3  남자친구랑 도서관에서 공부하려는데 어울리는 코디보여주세요 편안함을 주는 실용성 있는...  065\n",
       "4  친구들이랑 둘레길을 걸으려는데 산책하기 좋은 코디 추천해주세요 편안하고 활동적인 옷...  071"
      ]
     },
     "metadata": {},
     "execution_count": 20
    }
   ],
   "metadata": {}
  },
  {
   "cell_type": "code",
   "execution_count": 21,
   "source": [
    "from collections import Counter\r\n",
    "temp = pt_data[\"id\"].tolist()\r\n",
    "type_count = dict(Counter(temp))\r\n",
    "type_count"
   ],
   "outputs": [
    {
     "output_type": "execute_result",
     "data": {
      "text/plain": [
       "{'001': 173,\n",
       " '070': 13,\n",
       " '083': 23,\n",
       " '065': 29,\n",
       " '071': 44,\n",
       " '068': 42,\n",
       " '090': 36,\n",
       " '038': 80,\n",
       " '066': 52,\n",
       " '013': 37,\n",
       " '042': 111,\n",
       " '059': 27,\n",
       " '046': 103,\n",
       " '016': 185,\n",
       " '003': 17,\n",
       " '029': 78,\n",
       " '078': 31,\n",
       " '044': 96,\n",
       " '041': 53,\n",
       " '023': 186,\n",
       " '035': 39,\n",
       " '034': 39,\n",
       " '039': 60,\n",
       " '040': 33,\n",
       " '027': 60,\n",
       " '005': 55,\n",
       " '025': 25,\n",
       " '067': 24,\n",
       " '020': 22,\n",
       " '081': 20,\n",
       " '082': 38,\n",
       " '088': 13,\n",
       " '009': 13,\n",
       " '036': 58,\n",
       " '018': 88,\n",
       " '006': 98,\n",
       " '084': 1,\n",
       " '007': 22,\n",
       " '043': 31,\n",
       " '012': 46,\n",
       " '061': 32,\n",
       " '011': 38,\n",
       " '028': 31,\n",
       " '050': 8,\n",
       " '057': 5,\n",
       " '063': 7,\n",
       " '089': 5,\n",
       " '010': 29,\n",
       " '055': 17,\n",
       " '049': 15,\n",
       " '072': 40,\n",
       " '047': 19,\n",
       " '004': 18,\n",
       " '026': 17,\n",
       " '022': 29,\n",
       " '053': 4,\n",
       " '085': 14,\n",
       " '062': 9,\n",
       " '052': 11,\n",
       " '008': 1,\n",
       " '019': 34,\n",
       " '037': 41,\n",
       " '032': 2,\n",
       " '002': 74,\n",
       " '080': 5,\n",
       " '031': 22,\n",
       " '091': 14,\n",
       " '015': 19,\n",
       " '060': 33,\n",
       " '058': 4,\n",
       " '017': 49,\n",
       " '033': 6,\n",
       " '014': 7,\n",
       " '069': 2,\n",
       " '024': 6,\n",
       " '077': 10,\n",
       " '051': 16,\n",
       " '087': 15,\n",
       " '045': 7,\n",
       " '079': 2,\n",
       " '056': 4,\n",
       " '064': 6,\n",
       " '048': 5,\n",
       " '030': 9,\n",
       " '076': 10,\n",
       " '086': 5,\n",
       " '073': 8,\n",
       " '092': 158,\n",
       " '134': 16,\n",
       " '137': 20,\n",
       " '094': 50,\n",
       " '111': 180,\n",
       " '164': 33,\n",
       " '170': 17,\n",
       " '131': 35,\n",
       " '101': 17,\n",
       " '166': 46,\n",
       " '093': 80,\n",
       " '110': 88,\n",
       " '121': 3,\n",
       " '169': 14,\n",
       " '133': 22,\n",
       " '171': 14,\n",
       " '151': 83,\n",
       " '152': 12,\n",
       " '187': 47,\n",
       " '096': 128,\n",
       " '125': 27,\n",
       " '196': 34,\n",
       " '102': 76,\n",
       " '180': 3,\n",
       " '103': 33,\n",
       " '117': 34,\n",
       " '124': 41,\n",
       " '147': 19,\n",
       " '148': 4,\n",
       " '146': 19,\n",
       " '129': 23,\n",
       " '106': 44,\n",
       " '113': 24,\n",
       " '153': 22,\n",
       " '105': 46,\n",
       " '108': 26,\n",
       " '150': 24,\n",
       " '021': 1,\n",
       " '115': 6,\n",
       " '104': 29,\n",
       " '095': 14,\n",
       " '107': 54,\n",
       " '167': 16,\n",
       " '130': 30,\n",
       " '186': 9,\n",
       " '195': 10,\n",
       " '122': 2,\n",
       " '155': 8,\n",
       " '145': 25,\n",
       " '149': 10,\n",
       " '181': 10,\n",
       " '173': 9,\n",
       " '199': 15,\n",
       " '099': 24,\n",
       " '160': 7,\n",
       " '114': 27,\n",
       " '184': 17,\n",
       " '128': 9,\n",
       " '162': 13,\n",
       " '185': 12,\n",
       " '161': 7,\n",
       " '156': 10,\n",
       " '197': 8,\n",
       " '190': 21,\n",
       " '138': 8,\n",
       " '163': 10,\n",
       " '159': 4,\n",
       " '100': 4,\n",
       " '142': 2,\n",
       " '200': 5,\n",
       " '188': 20,\n",
       " '143': 12,\n",
       " '126': 14,\n",
       " '179': 10,\n",
       " '141': 3,\n",
       " '119': 4,\n",
       " '109': 4,\n",
       " '175': 4,\n",
       " '157': 10,\n",
       " '154': 27,\n",
       " '178': 3,\n",
       " '140': 10,\n",
       " '112': 2,\n",
       " '098': 6,\n",
       " '168': 8,\n",
       " '118': 8,\n",
       " '139': 10,\n",
       " '158': 11,\n",
       " '165': 4,\n",
       " '135': 6,\n",
       " '198': 3,\n",
       " '120': 1,\n",
       " '116': 5,\n",
       " '193': 5,\n",
       " '097': 1,\n",
       " '123': 2,\n",
       " '194': 8,\n",
       " '221': 9,\n",
       " '201': 13,\n",
       " '233': 4,\n",
       " '213': 17,\n",
       " '218': 17,\n",
       " '183': 2,\n",
       " '211': 12,\n",
       " '203': 21,\n",
       " '214': 25,\n",
       " '229': 28,\n",
       " '204': 8,\n",
       " '225': 15,\n",
       " '222': 19,\n",
       " '191': 6,\n",
       " '217': 15,\n",
       " '202': 16,\n",
       " '216': 15,\n",
       " '219': 12,\n",
       " '215': 11,\n",
       " '228': 9,\n",
       " '205': 16,\n",
       " '144': 1,\n",
       " '227': 4,\n",
       " '226': 7,\n",
       " '234': 3,\n",
       " '230': 12,\n",
       " '136': 2,\n",
       " '212': 1,\n",
       " '223': 11,\n",
       " '208': 19,\n",
       " '209': 5,\n",
       " '074': 4,\n",
       " '210': 4,\n",
       " '231': 5,\n",
       " '182': 5,\n",
       " '206': 5,\n",
       " '192': 6,\n",
       " '232': 3,\n",
       " '220': 4,\n",
       " '176': 3,\n",
       " '207': 7,\n",
       " '075': 1,\n",
       " '054': 1,\n",
       " '132': 1}"
      ]
     },
     "metadata": {},
     "execution_count": 21
    }
   ],
   "metadata": {}
  },
  {
   "cell_type": "code",
   "execution_count": 22,
   "source": [
    "len(type_count)"
   ],
   "outputs": [
    {
     "output_type": "execute_result",
     "data": {
      "text/plain": [
       "228"
      ]
     },
     "metadata": {},
     "execution_count": 22
    }
   ],
   "metadata": {}
  },
  {
   "cell_type": "code",
   "execution_count": 23,
   "source": [
    "del_list = []\r\n",
    "for i in type_count.keys():\r\n",
    "    if type_count.get(i) == 1:\r\n",
    "        del_list.append(i)\r\n",
    "del_list"
   ],
   "outputs": [
    {
     "output_type": "execute_result",
     "data": {
      "text/plain": [
       "['084', '008', '021', '120', '097', '144', '212', '075', '054', '132']"
      ]
     },
     "metadata": {},
     "execution_count": 23
    }
   ],
   "metadata": {}
  },
  {
   "cell_type": "code",
   "execution_count": 24,
   "source": [
    "pt_data.head()"
   ],
   "outputs": [
    {
     "output_type": "execute_result",
     "data": {
      "text/html": [
       "<div>\n",
       "<style scoped>\n",
       "    .dataframe tbody tr th:only-of-type {\n",
       "        vertical-align: middle;\n",
       "    }\n",
       "\n",
       "    .dataframe tbody tr th {\n",
       "        vertical-align: top;\n",
       "    }\n",
       "\n",
       "    .dataframe thead th {\n",
       "        text-align: right;\n",
       "    }\n",
       "</style>\n",
       "<table border=\"1\" class=\"dataframe\">\n",
       "  <thead>\n",
       "    <tr style=\"text-align: right;\">\n",
       "      <th></th>\n",
       "      <th>contents</th>\n",
       "      <th>id</th>\n",
       "    </tr>\n",
       "  </thead>\n",
       "  <tbody>\n",
       "    <tr>\n",
       "      <th>0</th>\n",
       "      <td>동아리에서 엠티를 가는데 옷이 필요해요 코디좀 부탁드려요 활동성 좋은 옷들로 구성된...</td>\n",
       "      <td>001</td>\n",
       "    </tr>\n",
       "    <tr>\n",
       "      <th>1</th>\n",
       "      <td>시험기간에 학교에서 편하게 입을 데일리한 복장 추천해주세요 무더운 여름날에 시험기간...</td>\n",
       "      <td>070</td>\n",
       "    </tr>\n",
       "    <tr>\n",
       "      <th>2</th>\n",
       "      <td>친구들과 기차여행 가는데 편하고 활동성 좋은 여행복장 추천해주세요 고객님께서는 캐주...</td>\n",
       "      <td>083</td>\n",
       "    </tr>\n",
       "    <tr>\n",
       "      <th>3</th>\n",
       "      <td>남자친구랑 도서관에서 공부하려는데 어울리는 코디보여주세요 편안함을 주는 실용성 있는...</td>\n",
       "      <td>065</td>\n",
       "    </tr>\n",
       "    <tr>\n",
       "      <th>4</th>\n",
       "      <td>친구들이랑 둘레길을 걸으려는데 산책하기 좋은 코디 추천해주세요 편안하고 활동적인 옷...</td>\n",
       "      <td>071</td>\n",
       "    </tr>\n",
       "  </tbody>\n",
       "</table>\n",
       "</div>"
      ],
      "text/plain": [
       "                                            contents   id\n",
       "0  동아리에서 엠티를 가는데 옷이 필요해요 코디좀 부탁드려요 활동성 좋은 옷들로 구성된...  001\n",
       "1  시험기간에 학교에서 편하게 입을 데일리한 복장 추천해주세요 무더운 여름날에 시험기간...  070\n",
       "2  친구들과 기차여행 가는데 편하고 활동성 좋은 여행복장 추천해주세요 고객님께서는 캐주...  083\n",
       "3  남자친구랑 도서관에서 공부하려는데 어울리는 코디보여주세요 편안함을 주는 실용성 있는...  065\n",
       "4  친구들이랑 둘레길을 걸으려는데 산책하기 좋은 코디 추천해주세요 편안하고 활동적인 옷...  071"
      ]
     },
     "metadata": {},
     "execution_count": 24
    }
   ],
   "metadata": {}
  },
  {
   "cell_type": "code",
   "execution_count": 25,
   "source": [
    "for i in del_list:\r\n",
    "    pt_data = pt_data[pt_data[\"id\"] != i]"
   ],
   "outputs": [],
   "metadata": {}
  },
  {
   "cell_type": "code",
   "execution_count": 26,
   "source": [
    "len(pt_data)"
   ],
   "outputs": [
    {
     "output_type": "execute_result",
     "data": {
      "text/plain": [
       "5558"
      ]
     },
     "metadata": {},
     "execution_count": 26
    }
   ],
   "metadata": {}
  },
  {
   "cell_type": "code",
   "execution_count": 27,
   "source": [
    "pt_data.reset_index(drop=True, inplace=True)"
   ],
   "outputs": [],
   "metadata": {}
  },
  {
   "cell_type": "code",
   "execution_count": 28,
   "source": [
    "import matplotlib.pyplot as plt\r\n",
    "plt.bar(Counter(pt_data.id).keys(),Counter(pt_data.id).values(), color='k')"
   ],
   "outputs": [
    {
     "output_type": "execute_result",
     "data": {
      "text/plain": [
       "<BarContainer object of 218 artists>"
      ]
     },
     "metadata": {},
     "execution_count": 28
    },
    {
     "output_type": "display_data",
     "data": {
      "image/png": "[encoded data removed]",
      "text/plain": [
       "<Figure size 432x288 with 1 Axes>"
      ]
     },
     "metadata": {
      "needs_background": "light"
     }
    }
   ],
   "metadata": {}
  },
  {
   "cell_type": "markdown",
   "source": [
    "# 5. 형태소 분석"
   ],
   "metadata": {}
  },
  {
   "cell_type": "markdown",
   "source": [
    "## Mecab 사용"
   ],
   "metadata": {}
  },
  {
   "cell_type": "code",
   "execution_count": 29,
   "source": [
    "from eunjeon import Mecab\r\n",
    "mecab = Mecab()"
   ],
   "outputs": [],
   "metadata": {}
  },
  {
   "cell_type": "code",
   "execution_count": 30,
   "source": [
    "mecab.morphs(pt_data[\"contents\"][0])"
   ],
   "outputs": [
    {
     "output_type": "execute_result",
     "data": {
      "text/plain": [
       "['동아리',\n",
       " '에서',\n",
       " '엠티',\n",
       " '를',\n",
       " '가',\n",
       " '는데',\n",
       " '옷',\n",
       " '이',\n",
       " '필요',\n",
       " '해요',\n",
       " '코디',\n",
       " '좀',\n",
       " '부탁',\n",
       " '드려요',\n",
       " '활동',\n",
       " '성',\n",
       " '좋',\n",
       " '은',\n",
       " '옷',\n",
       " '들',\n",
       " '로',\n",
       " '구성',\n",
       " '된',\n",
       " '코디',\n",
       " '입니다',\n",
       " 'CT',\n",
       " '060',\n",
       " 'KN',\n",
       " '090',\n",
       " 'PT',\n",
       " '033',\n",
       " 'SE',\n",
       " '032',\n",
       " '바지',\n",
       " '가',\n",
       " '맘',\n",
       " '에',\n",
       " '들',\n",
       " '지',\n",
       " '않',\n",
       " '아요',\n",
       " '바지',\n",
       " '바꿔',\n",
       " '주',\n",
       " '세요',\n",
       " '원',\n",
       " '하',\n",
       " '는',\n",
       " '색상',\n",
       " '이나',\n",
       " '스타일',\n",
       " '이',\n",
       " '있',\n",
       " '으신',\n",
       " '가요',\n",
       " '어두운',\n",
       " '계열',\n",
       " '로',\n",
       " '추천',\n",
       " '해',\n",
       " '주',\n",
       " '세요',\n",
       " '엠티',\n",
       " '에',\n",
       " '가',\n",
       " '면',\n",
       " '활동',\n",
       " '적',\n",
       " '으로',\n",
       " '움직일',\n",
       " '상황',\n",
       " '이',\n",
       " '많',\n",
       " '을',\n",
       " '것',\n",
       " '같',\n",
       " '아서',\n",
       " '추천',\n",
       " '해',\n",
       " '드려요',\n",
       " 'PT',\n",
       " '042',\n",
       " '외투',\n",
       " '가',\n",
       " '어울리',\n",
       " '지',\n",
       " '않',\n",
       " '네요',\n",
       " '외투',\n",
       " '바꿔',\n",
       " '주',\n",
       " '세요',\n",
       " '편안',\n",
       " '한',\n",
       " '캐',\n",
       " '쥬얼',\n",
       " '차림',\n",
       " '을',\n",
       " '연출',\n",
       " '할',\n",
       " '수',\n",
       " '있',\n",
       " '는',\n",
       " '항공',\n",
       " '점퍼',\n",
       " '입니다',\n",
       " 'JP',\n",
       " '031',\n",
       " '바지',\n",
       " '를',\n",
       " '바꿔',\n",
       " '주',\n",
       " '세요',\n",
       " '너무',\n",
       " '후줄근',\n",
       " '해',\n",
       " '보여요',\n",
       " '좀',\n",
       " '더',\n",
       " '단정',\n",
       " '한',\n",
       " '스타일',\n",
       " '을',\n",
       " '원하',\n",
       " '시',\n",
       " '는',\n",
       " '건가요',\n",
       " '네',\n",
       " '청바지',\n",
       " '로',\n",
       " '추천',\n",
       " '해',\n",
       " '주',\n",
       " '시',\n",
       " '겠',\n",
       " '어요',\n",
       " '마른',\n",
       " '체형',\n",
       " '이',\n",
       " '시',\n",
       " '니',\n",
       " '피팅',\n",
       " '감',\n",
       " '좋',\n",
       " '은',\n",
       " '스키니',\n",
       " '진',\n",
       " '을',\n",
       " '추천',\n",
       " '해',\n",
       " '드립니다',\n",
       " 'PT',\n",
       " '001',\n",
       " '네',\n",
       " '이',\n",
       " '청바지',\n",
       " '와',\n",
       " '외투',\n",
       " '에',\n",
       " '어울리',\n",
       " '는',\n",
       " '상의',\n",
       " '를',\n",
       " '추천',\n",
       " '해',\n",
       " '주',\n",
       " '세요',\n",
       " '발목',\n",
       " '까지',\n",
       " '오',\n",
       " '는',\n",
       " '롱',\n",
       " '팬츠',\n",
       " '단추',\n",
       " '지퍼',\n",
       " '여',\n",
       " '밈',\n",
       " '밴드',\n",
       " '허리',\n",
       " 'NOMAL',\n",
       " '웨이스트',\n",
       " '완전히',\n",
       " '피트',\n",
       " '되',\n",
       " '는',\n",
       " '스키니',\n",
       " '진',\n",
       " '컷팅',\n",
       " '처리',\n",
       " '된',\n",
       " '밑단',\n",
       " '관절',\n",
       " '보다',\n",
       " '위',\n",
       " '에',\n",
       " '커팅',\n",
       " '디테일',\n",
       " '로',\n",
       " '인해',\n",
       " '다리',\n",
       " '가',\n",
       " '길',\n",
       " '어',\n",
       " '보이',\n",
       " '는',\n",
       " '효과',\n",
       " '를',\n",
       " '줌',\n",
       " '워싱',\n",
       " '데님',\n",
       " '의',\n",
       " '디',\n",
       " '스트로',\n",
       " '이',\n",
       " '드',\n",
       " '진',\n",
       " '앞',\n",
       " '커',\n",
       " '프',\n",
       " '브',\n",
       " '포켓',\n",
       " '뒤',\n",
       " '더블',\n",
       " '패치',\n",
       " '포켓',\n",
       " '대비',\n",
       " '되',\n",
       " '는',\n",
       " '컬러',\n",
       " '의',\n",
       " '스티치',\n",
       " '포인트',\n",
       " '면',\n",
       " 'COTTON',\n",
       " '97',\n",
       " '폴리에스테르',\n",
       " 'POLYESTER',\n",
       " '3',\n",
       " '워싱',\n",
       " '된',\n",
       " '데님',\n",
       " '소재',\n",
       " '로',\n",
       " '두껍',\n",
       " '지',\n",
       " '않',\n",
       " '다',\n",
       " '신축',\n",
       " '성',\n",
       " '이',\n",
       " '매우',\n",
       " '좋',\n",
       " '다',\n",
       " '물',\n",
       " '빠짐',\n",
       " '주',\n",
       " '의',\n",
       " '손빨래',\n",
       " '권장',\n",
       " '가볍',\n",
       " '게',\n",
       " '워싱',\n",
       " '된',\n",
       " '블루데님',\n",
       " '칼라',\n",
       " '가벼운',\n",
       " '워싱',\n",
       " '이',\n",
       " '들어가',\n",
       " '다리',\n",
       " '가',\n",
       " '얇',\n",
       " '아',\n",
       " '보이',\n",
       " '는',\n",
       " '효과',\n",
       " '신축',\n",
       " '성',\n",
       " '이',\n",
       " '좋',\n",
       " '아서',\n",
       " '편안',\n",
       " '하',\n",
       " '고',\n",
       " '활동',\n",
       " '적',\n",
       " '인',\n",
       " '캐주얼',\n",
       " '한',\n",
       " '이미지',\n",
       " '무릎',\n",
       " '위',\n",
       " '절개',\n",
       " '로',\n",
       " '트렌디',\n",
       " '한',\n",
       " '이미지',\n",
       " '편안',\n",
       " '한',\n",
       " '데일리',\n",
       " '룩',\n",
       " '캠퍼스',\n",
       " '룩']"
      ]
     },
     "metadata": {},
     "execution_count": 30
    }
   ],
   "metadata": {}
  },
  {
   "cell_type": "code",
   "execution_count": 31,
   "source": [
    "len(pt_data)"
   ],
   "outputs": [
    {
     "output_type": "execute_result",
     "data": {
      "text/plain": [
       "5558"
      ]
     },
     "metadata": {},
     "execution_count": 31
    }
   ],
   "metadata": {}
  },
  {
   "cell_type": "code",
   "execution_count": 32,
   "source": [
    "x_data = []\r\n",
    "for i in range(len(pt_data)):\r\n",
    "    x_data.append(mecab.morphs(pt_data[\"contents\"][i]))\r\n",
    "\r\n",
    "x_data[0]"
   ],
   "outputs": [
    {
     "output_type": "execute_result",
     "data": {
      "text/plain": [
       "['동아리',\n",
       " '에서',\n",
       " '엠티',\n",
       " '를',\n",
       " '가',\n",
       " '는데',\n",
       " '옷',\n",
       " '이',\n",
       " '필요',\n",
       " '해요',\n",
       " '코디',\n",
       " '좀',\n",
       " '부탁',\n",
       " '드려요',\n",
       " '활동',\n",
       " '성',\n",
       " '좋',\n",
       " '은',\n",
       " '옷',\n",
       " '들',\n",
       " '로',\n",
       " '구성',\n",
       " '된',\n",
       " '코디',\n",
       " '입니다',\n",
       " 'CT',\n",
       " '060',\n",
       " 'KN',\n",
       " '090',\n",
       " 'PT',\n",
       " '033',\n",
       " 'SE',\n",
       " '032',\n",
       " '바지',\n",
       " '가',\n",
       " '맘',\n",
       " '에',\n",
       " '들',\n",
       " '지',\n",
       " '않',\n",
       " '아요',\n",
       " '바지',\n",
       " '바꿔',\n",
       " '주',\n",
       " '세요',\n",
       " '원',\n",
       " '하',\n",
       " '는',\n",
       " '색상',\n",
       " '이나',\n",
       " '스타일',\n",
       " '이',\n",
       " '있',\n",
       " '으신',\n",
       " '가요',\n",
       " '어두운',\n",
       " '계열',\n",
       " '로',\n",
       " '추천',\n",
       " '해',\n",
       " '주',\n",
       " '세요',\n",
       " '엠티',\n",
       " '에',\n",
       " '가',\n",
       " '면',\n",
       " '활동',\n",
       " '적',\n",
       " '으로',\n",
       " '움직일',\n",
       " '상황',\n",
       " '이',\n",
       " '많',\n",
       " '을',\n",
       " '것',\n",
       " '같',\n",
       " '아서',\n",
       " '추천',\n",
       " '해',\n",
       " '드려요',\n",
       " 'PT',\n",
       " '042',\n",
       " '외투',\n",
       " '가',\n",
       " '어울리',\n",
       " '지',\n",
       " '않',\n",
       " '네요',\n",
       " '외투',\n",
       " '바꿔',\n",
       " '주',\n",
       " '세요',\n",
       " '편안',\n",
       " '한',\n",
       " '캐',\n",
       " '쥬얼',\n",
       " '차림',\n",
       " '을',\n",
       " '연출',\n",
       " '할',\n",
       " '수',\n",
       " '있',\n",
       " '는',\n",
       " '항공',\n",
       " '점퍼',\n",
       " '입니다',\n",
       " 'JP',\n",
       " '031',\n",
       " '바지',\n",
       " '를',\n",
       " '바꿔',\n",
       " '주',\n",
       " '세요',\n",
       " '너무',\n",
       " '후줄근',\n",
       " '해',\n",
       " '보여요',\n",
       " '좀',\n",
       " '더',\n",
       " '단정',\n",
       " '한',\n",
       " '스타일',\n",
       " '을',\n",
       " '원하',\n",
       " '시',\n",
       " '는',\n",
       " '건가요',\n",
       " '네',\n",
       " '청바지',\n",
       " '로',\n",
       " '추천',\n",
       " '해',\n",
       " '주',\n",
       " '시',\n",
       " '겠',\n",
       " '어요',\n",
       " '마른',\n",
       " '체형',\n",
       " '이',\n",
       " '시',\n",
       " '니',\n",
       " '피팅',\n",
       " '감',\n",
       " '좋',\n",
       " '은',\n",
       " '스키니',\n",
       " '진',\n",
       " '을',\n",
       " '추천',\n",
       " '해',\n",
       " '드립니다',\n",
       " 'PT',\n",
       " '001',\n",
       " '네',\n",
       " '이',\n",
       " '청바지',\n",
       " '와',\n",
       " '외투',\n",
       " '에',\n",
       " '어울리',\n",
       " '는',\n",
       " '상의',\n",
       " '를',\n",
       " '추천',\n",
       " '해',\n",
       " '주',\n",
       " '세요',\n",
       " '발목',\n",
       " '까지',\n",
       " '오',\n",
       " '는',\n",
       " '롱',\n",
       " '팬츠',\n",
       " '단추',\n",
       " '지퍼',\n",
       " '여',\n",
       " '밈',\n",
       " '밴드',\n",
       " '허리',\n",
       " 'NOMAL',\n",
       " '웨이스트',\n",
       " '완전히',\n",
       " '피트',\n",
       " '되',\n",
       " '는',\n",
       " '스키니',\n",
       " '진',\n",
       " '컷팅',\n",
       " '처리',\n",
       " '된',\n",
       " '밑단',\n",
       " '관절',\n",
       " '보다',\n",
       " '위',\n",
       " '에',\n",
       " '커팅',\n",
       " '디테일',\n",
       " '로',\n",
       " '인해',\n",
       " '다리',\n",
       " '가',\n",
       " '길',\n",
       " '어',\n",
       " '보이',\n",
       " '는',\n",
       " '효과',\n",
       " '를',\n",
       " '줌',\n",
       " '워싱',\n",
       " '데님',\n",
       " '의',\n",
       " '디',\n",
       " '스트로',\n",
       " '이',\n",
       " '드',\n",
       " '진',\n",
       " '앞',\n",
       " '커',\n",
       " '프',\n",
       " '브',\n",
       " '포켓',\n",
       " '뒤',\n",
       " '더블',\n",
       " '패치',\n",
       " '포켓',\n",
       " '대비',\n",
       " '되',\n",
       " '는',\n",
       " '컬러',\n",
       " '의',\n",
       " '스티치',\n",
       " '포인트',\n",
       " '면',\n",
       " 'COTTON',\n",
       " '97',\n",
       " '폴리에스테르',\n",
       " 'POLYESTER',\n",
       " '3',\n",
       " '워싱',\n",
       " '된',\n",
       " '데님',\n",
       " '소재',\n",
       " '로',\n",
       " '두껍',\n",
       " '지',\n",
       " '않',\n",
       " '다',\n",
       " '신축',\n",
       " '성',\n",
       " '이',\n",
       " '매우',\n",
       " '좋',\n",
       " '다',\n",
       " '물',\n",
       " '빠짐',\n",
       " '주',\n",
       " '의',\n",
       " '손빨래',\n",
       " '권장',\n",
       " '가볍',\n",
       " '게',\n",
       " '워싱',\n",
       " '된',\n",
       " '블루데님',\n",
       " '칼라',\n",
       " '가벼운',\n",
       " '워싱',\n",
       " '이',\n",
       " '들어가',\n",
       " '다리',\n",
       " '가',\n",
       " '얇',\n",
       " '아',\n",
       " '보이',\n",
       " '는',\n",
       " '효과',\n",
       " '신축',\n",
       " '성',\n",
       " '이',\n",
       " '좋',\n",
       " '아서',\n",
       " '편안',\n",
       " '하',\n",
       " '고',\n",
       " '활동',\n",
       " '적',\n",
       " '인',\n",
       " '캐주얼',\n",
       " '한',\n",
       " '이미지',\n",
       " '무릎',\n",
       " '위',\n",
       " '절개',\n",
       " '로',\n",
       " '트렌디',\n",
       " '한',\n",
       " '이미지',\n",
       " '편안',\n",
       " '한',\n",
       " '데일리',\n",
       " '룩',\n",
       " '캠퍼스',\n",
       " '룩']"
      ]
     },
     "metadata": {},
     "execution_count": 32
    }
   ],
   "metadata": {}
  },
  {
   "cell_type": "code",
   "execution_count": 33,
   "source": [
    "stopwords = []\r\n",
    "with open('./data/불용어사전.txt', mode='rt', encoding='utf-8') as f:\r\n",
    "    for word in f.readlines():\r\n",
    "        word = word.strip()\r\n",
    "        stopwords.append(word)\r\n",
    "stopwords[0:2]"
   ],
   "outputs": [
    {
     "output_type": "execute_result",
     "data": {
      "text/plain": [
       "['어찌됐든', '그위에']"
      ]
     },
     "metadata": {},
     "execution_count": 33
    }
   ],
   "metadata": {}
  },
  {
   "cell_type": "code",
   "execution_count": 34,
   "source": [
    "X_data = []\r\n",
    "for sentence in x_data: #문장 하나 가져오고 단어 단위로 쪼개기\r\n",
    "    temp_X = [word for word in sentence if not word in stopwords] # 불용어 제거\r\n",
    "    X_data.append(temp_X)\r\n",
    "X_data[0]"
   ],
   "outputs": [
    {
     "output_type": "execute_result",
     "data": {
      "text/plain": [
       "['동아리',\n",
       " '엠티',\n",
       " '는데',\n",
       " '옷',\n",
       " '필요',\n",
       " '코디',\n",
       " '부탁',\n",
       " '드려요',\n",
       " '활동',\n",
       " '성',\n",
       " '좋',\n",
       " '옷',\n",
       " '구성',\n",
       " '된',\n",
       " '코디',\n",
       " '입니다',\n",
       " 'CT',\n",
       " '060',\n",
       " 'KN',\n",
       " '090',\n",
       " 'PT',\n",
       " '033',\n",
       " 'SE',\n",
       " '032',\n",
       " '바지',\n",
       " '맘',\n",
       " '지',\n",
       " '않',\n",
       " '아요',\n",
       " '바지',\n",
       " '바꿔',\n",
       " '주',\n",
       " '세요',\n",
       " '원',\n",
       " '색상',\n",
       " '이나',\n",
       " '스타일',\n",
       " '있',\n",
       " '으신',\n",
       " '가요',\n",
       " '어두운',\n",
       " '계열',\n",
       " '추천',\n",
       " '주',\n",
       " '세요',\n",
       " '엠티',\n",
       " '면',\n",
       " '활동',\n",
       " '적',\n",
       " '움직일',\n",
       " '상황',\n",
       " '많',\n",
       " '같',\n",
       " '아서',\n",
       " '추천',\n",
       " '드려요',\n",
       " 'PT',\n",
       " '042',\n",
       " '외투',\n",
       " '어울리',\n",
       " '지',\n",
       " '않',\n",
       " '네요',\n",
       " '외투',\n",
       " '바꿔',\n",
       " '주',\n",
       " '세요',\n",
       " '편안',\n",
       " '캐',\n",
       " '쥬얼',\n",
       " '차림',\n",
       " '연출',\n",
       " '수',\n",
       " '있',\n",
       " '항공',\n",
       " '점퍼',\n",
       " '입니다',\n",
       " 'JP',\n",
       " '031',\n",
       " '바지',\n",
       " '바꿔',\n",
       " '주',\n",
       " '세요',\n",
       " '너무',\n",
       " '후줄근',\n",
       " '보여요',\n",
       " '더',\n",
       " '단정',\n",
       " '스타일',\n",
       " '원하',\n",
       " '시',\n",
       " '건가요',\n",
       " '청바지',\n",
       " '추천',\n",
       " '주',\n",
       " '시',\n",
       " '겠',\n",
       " '어요',\n",
       " '마른',\n",
       " '체형',\n",
       " '시',\n",
       " '니',\n",
       " '피팅',\n",
       " '감',\n",
       " '좋',\n",
       " '스키니',\n",
       " '진',\n",
       " '추천',\n",
       " '드립니다',\n",
       " 'PT',\n",
       " '001',\n",
       " '청바지',\n",
       " '외투',\n",
       " '어울리',\n",
       " '상의',\n",
       " '추천',\n",
       " '주',\n",
       " '세요',\n",
       " '발목',\n",
       " '롱',\n",
       " '팬츠',\n",
       " '단추',\n",
       " '지퍼',\n",
       " '밈',\n",
       " '밴드',\n",
       " '허리',\n",
       " 'NOMAL',\n",
       " '웨이스트',\n",
       " '완전히',\n",
       " '피트',\n",
       " '되',\n",
       " '스키니',\n",
       " '진',\n",
       " '컷팅',\n",
       " '처리',\n",
       " '된',\n",
       " '밑단',\n",
       " '관절',\n",
       " '보다',\n",
       " '위',\n",
       " '커팅',\n",
       " '디테일',\n",
       " '인해',\n",
       " '다리',\n",
       " '길',\n",
       " '보이',\n",
       " '효과',\n",
       " '줌',\n",
       " '워싱',\n",
       " '데님',\n",
       " '디',\n",
       " '스트로',\n",
       " '진',\n",
       " '앞',\n",
       " '커',\n",
       " '프',\n",
       " '브',\n",
       " '포켓',\n",
       " '뒤',\n",
       " '더블',\n",
       " '패치',\n",
       " '포켓',\n",
       " '대비',\n",
       " '되',\n",
       " '컬러',\n",
       " '스티치',\n",
       " '포인트',\n",
       " '면',\n",
       " 'COTTON',\n",
       " '97',\n",
       " '폴리에스테르',\n",
       " 'POLYESTER',\n",
       " '3',\n",
       " '워싱',\n",
       " '된',\n",
       " '데님',\n",
       " '소재',\n",
       " '두껍',\n",
       " '지',\n",
       " '않',\n",
       " '다',\n",
       " '신축',\n",
       " '성',\n",
       " '매우',\n",
       " '좋',\n",
       " '다',\n",
       " '물',\n",
       " '빠짐',\n",
       " '주',\n",
       " '손빨래',\n",
       " '권장',\n",
       " '가볍',\n",
       " '게',\n",
       " '워싱',\n",
       " '된',\n",
       " '블루데님',\n",
       " '칼라',\n",
       " '가벼운',\n",
       " '워싱',\n",
       " '들어가',\n",
       " '다리',\n",
       " '얇',\n",
       " '보이',\n",
       " '효과',\n",
       " '신축',\n",
       " '성',\n",
       " '좋',\n",
       " '아서',\n",
       " '편안',\n",
       " '고',\n",
       " '활동',\n",
       " '적',\n",
       " '인',\n",
       " '캐주얼',\n",
       " '이미지',\n",
       " '무릎',\n",
       " '위',\n",
       " '절개',\n",
       " '트렌디',\n",
       " '이미지',\n",
       " '편안',\n",
       " '데일리',\n",
       " '룩',\n",
       " '캠퍼스',\n",
       " '룩']"
      ]
     },
     "metadata": {},
     "execution_count": 34
    }
   ],
   "metadata": {}
  },
  {
   "cell_type": "markdown",
   "source": [
    "## 1. 임베딩 레이어 활용"
   ],
   "metadata": {}
  },
  {
   "cell_type": "markdown",
   "source": [
    "### 정수 인코딩"
   ],
   "metadata": {}
  },
  {
   "cell_type": "code",
   "execution_count": 35,
   "source": [
    "from tensorflow.keras.preprocessing.text import Tokenizer\r\n",
    "tokenizer = Tokenizer()\r\n",
    "tokenizer.fit_on_texts(X_data)"
   ],
   "outputs": [],
   "metadata": {}
  },
  {
   "cell_type": "code",
   "execution_count": 36,
   "source": [
    "threshold = 6\r\n",
    "total_cnt = len(tokenizer.word_index) # 단어의 수\r\n",
    "rare_cnt = 0 # 등장 빈도수가 threshold보다 작은 단어의 개수를 카운트\r\n",
    "total_freq = 0 # 훈련 데이터의 전체 단어 빈도수 총 합\r\n",
    "rare_freq = 0 # 등장 빈도수가 threshold보다 작은 단어의 등장 빈도수의 총 합\r\n",
    "\r\n",
    "# 단어와 빈도수의 쌍(pair)을 key와 value로 받는다.\r\n",
    "for key, value in tokenizer.word_counts.items():\r\n",
    "    total_freq = total_freq + value\r\n",
    "\r\n",
    "    # 단어의 등장 빈도수가 threshold보다 작으면\r\n",
    "    if(value < threshold):\r\n",
    "        rare_cnt = rare_cnt + 1\r\n",
    "        rare_freq = rare_freq + value\r\n",
    "\r\n",
    "print('단어 집합(vocabulary)의 크기 :',total_cnt)\r\n",
    "print('등장 빈도가 %s번 이하인 희귀 단어의 수: %s'%(threshold - 1, rare_cnt))\r\n",
    "print(\"단어 집합에서 희귀 단어의 비율:\", (rare_cnt / total_cnt)*100)\r\n",
    "print(\"전체 등장 빈도에서 희귀 단어 등장 빈도 비율:\", (rare_freq / total_freq)*100)"
   ],
   "outputs": [
    {
     "output_type": "stream",
     "name": "stdout",
     "text": [
      "단어 집합(vocabulary)의 크기 : 4912\n",
      "등장 빈도가 5번 이하인 희귀 단어의 수: 2146\n",
      "단어 집합에서 희귀 단어의 비율: 43.688925081433226\n",
      "전체 등장 빈도에서 희귀 단어 등장 빈도 비율: 0.4586559327487182\n"
     ]
    }
   ],
   "metadata": {}
  },
  {
   "cell_type": "code",
   "execution_count": 37,
   "source": [
    "vocab_size = total_cnt - rare_cnt + 1 # tokenizer 함수에 들어 갈 때 영향줘서 1 추가 해야 됨\r\n",
    "print('단어 집합의 크기 :',vocab_size)"
   ],
   "outputs": [
    {
     "output_type": "stream",
     "name": "stdout",
     "text": [
      "단어 집합의 크기 : 2767\n"
     ]
    }
   ],
   "metadata": {}
  },
  {
   "cell_type": "markdown",
   "source": [
    "케라스 토크나이저의 정수 인코딩은 인덱스가 1부터 시작하지만,\n",
    "\n",
    "케라스 원-핫 인코딩에서 배열의 인덱스가 0부터 시작하기 때문에\n",
    "\n",
    "배열의 크기를 실제 단어 집합의 크기보다 +1로 생성해야하므로 미리 +1 선언 "
   ],
   "metadata": {}
  },
  {
   "cell_type": "markdown",
   "source": [
    "### 맨 앞자리는 비어있어야 함 (원 핫 인코딩은 정수 인코딩한 뒤 나오는 정수 값 자리에 1을 넣는 것)"
   ],
   "metadata": {}
  },
  {
   "cell_type": "code",
   "execution_count": 38,
   "source": [
    "tokenizer = Tokenizer(num_words=vocab_size - 1)\r\n",
    "tokenizer.fit_on_texts(X_data)\r\n",
    "len(tokenizer.word_index)"
   ],
   "outputs": [
    {
     "output_type": "execute_result",
     "data": {
      "text/plain": [
       "4912"
      ]
     },
     "metadata": {},
     "execution_count": 38
    }
   ],
   "metadata": {}
  },
  {
   "cell_type": "code",
   "execution_count": 39,
   "source": [
    "X_data = tokenizer.texts_to_sequences(X_data) # 단어에 정수 붙여줄 때 num_word 적용"
   ],
   "outputs": [],
   "metadata": {}
  },
  {
   "cell_type": "markdown",
   "source": [
    "위에서 num_words는 이 데이터에서 등장 빈도 순위로 몇 번째에 해당하는 단어까지만 사용할 것인지 조절\n",
    "\n",
    "예를 들어서 100이란 값을 넣으면, 등장 빈도 순위가 1~100에 해당하는 단어만 사용"
   ],
   "metadata": {}
  },
  {
   "cell_type": "code",
   "execution_count": 40,
   "source": [
    "X_data[1]"
   ],
   "outputs": [
    {
     "output_type": "execute_result",
     "data": {
      "text/plain": [
       "[1237,\n",
       " 1766,\n",
       " 881,\n",
       " 169,\n",
       " 55,\n",
       " 38,\n",
       " 292,\n",
       " 838,\n",
       " 944,\n",
       " 17,\n",
       " 1,\n",
       " 2,\n",
       " 2640,\n",
       " 1237,\n",
       " 1766,\n",
       " 28,\n",
       " 55,\n",
       " 38,\n",
       " 106,\n",
       " 5,\n",
       " 20,\n",
       " 13,\n",
       " 9,\n",
       " 10,\n",
       " 4,\n",
       " 58,\n",
       " 16,\n",
       " 8,\n",
       " 25,\n",
       " 35,\n",
       " 216,\n",
       " 708,\n",
       " 92,\n",
       " 551,\n",
       " 7,\n",
       " 978,\n",
       " 31,\n",
       " 434,\n",
       " 481,\n",
       " 203,\n",
       " 543,\n",
       " 1,\n",
       " 2,\n",
       " 10,\n",
       " 1003,\n",
       " 17,\n",
       " 1,\n",
       " 2,\n",
       " 126,\n",
       " 68,\n",
       " 7,\n",
       " 992,\n",
       " 962,\n",
       " 169,\n",
       " 43,\n",
       " 41,\n",
       " 495,\n",
       " 43,\n",
       " 320,\n",
       " 2107,\n",
       " 27,\n",
       " 251,\n",
       " 270,\n",
       " 52,\n",
       " 278,\n",
       " 19,\n",
       " 46,\n",
       " 63,\n",
       " 62,\n",
       " 15,\n",
       " 154,\n",
       " 376,\n",
       " 979,\n",
       " 40,\n",
       " 19,\n",
       " 63,\n",
       " 62,\n",
       " 254,\n",
       " 2047,\n",
       " 170,\n",
       " 298,\n",
       " 334,\n",
       " 88,\n",
       " 34,\n",
       " 320,\n",
       " 103,\n",
       " 39,\n",
       " 320,\n",
       " 45,\n",
       " 1011,\n",
       " 593,\n",
       " 67,\n",
       " 2108,\n",
       " 763,\n",
       " 14,\n",
       " 223,\n",
       " 271,\n",
       " 272,\n",
       " 79,\n",
       " 1215,\n",
       " 90,\n",
       " 359,\n",
       " 348,\n",
       " 194,\n",
       " 74,\n",
       " 3,\n",
       " 852,\n",
       " 36,\n",
       " 194,\n",
       " 163,\n",
       " 5,\n",
       " 3,\n",
       " 24,\n",
       " 21,\n",
       " 66,\n",
       " 74,\n",
       " 205,\n",
       " 302,\n",
       " 28,\n",
       " 143]"
      ]
     },
     "metadata": {},
     "execution_count": 40
    }
   ],
   "metadata": {}
  },
  {
   "cell_type": "code",
   "execution_count": 41,
   "source": [
    "print('문장 최대 길이 :',max(len(l) for l in X_data))\r\n",
    "print('문장의 평균 길이 :',sum(map(len, X_data))/len(X_data))\r\n",
    "plt.hist([len(s) for s in X_data], bins=50, color='k')\r\n",
    "plt.xlabel('length of samples')\r\n",
    "plt.ylabel('number of samples')\r\n",
    "plt.show()\r\n",
    "plt.close()"
   ],
   "outputs": [
    {
     "output_type": "stream",
     "name": "stdout",
     "text": [
      "문장 최대 길이 : 438\n",
      "문장의 평균 길이 : 183.1336811802807\n"
     ]
    },
    {
     "output_type": "display_data",
     "data": {
      "image/png": "[encoded data removed]",
      "text/plain": [
       "<Figure size 432x288 with 1 Axes>"
      ]
     },
     "metadata": {
      "needs_background": "light"
     }
    }
   ],
   "metadata": {}
  },
  {
   "cell_type": "code",
   "execution_count": 42,
   "source": [
    "def below_threshold_len(max_len, nested_list):\r\n",
    "  cnt = 0\r\n",
    "  for s in nested_list:\r\n",
    "    if(len(s) <= max_len):\r\n",
    "        cnt = cnt + 1\r\n",
    "  print('전체 샘플 중 길이가 %s 이하인 샘플의 비율: %s'%(max_len, (cnt / len(nested_list))*100))\r\n",
    "\r\n",
    "max_len = 300\r\n",
    "below_threshold_len(max_len, X_data)"
   ],
   "outputs": [
    {
     "output_type": "stream",
     "name": "stdout",
     "text": [
      "전체 샘플 중 길이가 300 이하인 샘플의 비율: 99.04641957538684\n"
     ]
    }
   ],
   "metadata": {}
  },
  {
   "cell_type": "markdown",
   "source": [
    "## padding"
   ],
   "metadata": {}
  },
  {
   "cell_type": "code",
   "execution_count": 43,
   "source": [
    "from tensorflow.keras.preprocessing.sequence import pad_sequences\r\n",
    "X_data = pad_sequences(X_data, maxlen = max_len)"
   ],
   "outputs": [],
   "metadata": {}
  },
  {
   "cell_type": "code",
   "execution_count": 44,
   "source": [
    "print(len(X_data[1]))\r\n",
    "X_data[1]"
   ],
   "outputs": [
    {
     "output_type": "stream",
     "name": "stdout",
     "text": [
      "300\n"
     ]
    },
    {
     "output_type": "execute_result",
     "data": {
      "text/plain": [
       "array([   0,    0,    0,    0,    0,    0,    0,    0,    0,    0,    0,\n",
       "          0,    0,    0,    0,    0,    0,    0,    0,    0,    0,    0,\n",
       "          0,    0,    0,    0,    0,    0,    0,    0,    0,    0,    0,\n",
       "          0,    0,    0,    0,    0,    0,    0,    0,    0,    0,    0,\n",
       "          0,    0,    0,    0,    0,    0,    0,    0,    0,    0,    0,\n",
       "          0,    0,    0,    0,    0,    0,    0,    0,    0,    0,    0,\n",
       "          0,    0,    0,    0,    0,    0,    0,    0,    0,    0,    0,\n",
       "          0,    0,    0,    0,    0,    0,    0,    0,    0,    0,    0,\n",
       "          0,    0,    0,    0,    0,    0,    0,    0,    0,    0,    0,\n",
       "          0,    0,    0,    0,    0,    0,    0,    0,    0,    0,    0,\n",
       "          0,    0,    0,    0,    0,    0,    0,    0,    0,    0,    0,\n",
       "          0,    0,    0,    0,    0,    0,    0,    0,    0,    0,    0,\n",
       "          0,    0,    0,    0,    0,    0,    0,    0,    0,    0,    0,\n",
       "          0,    0,    0,    0,    0,    0,    0,    0,    0,    0,    0,\n",
       "          0,    0,    0,    0,    0,    0,    0,    0,    0,    0,    0,\n",
       "          0,    0,    0,    0,    0,    0,    0,    0,    0,    0,    0,\n",
       "          0,    0,    0,    0, 1237, 1766,  881,  169,   55,   38,  292,\n",
       "        838,  944,   17,    1,    2, 2640, 1237, 1766,   28,   55,   38,\n",
       "        106,    5,   20,   13,    9,   10,    4,   58,   16,    8,   25,\n",
       "         35,  216,  708,   92,  551,    7,  978,   31,  434,  481,  203,\n",
       "        543,    1,    2,   10, 1003,   17,    1,    2,  126,   68,    7,\n",
       "        992,  962,  169,   43,   41,  495,   43,  320, 2107,   27,  251,\n",
       "        270,   52,  278,   19,   46,   63,   62,   15,  154,  376,  979,\n",
       "         40,   19,   63,   62,  254, 2047,  170,  298,  334,   88,   34,\n",
       "        320,  103,   39,  320,   45, 1011,  593,   67, 2108,  763,   14,\n",
       "        223,  271,  272,   79, 1215,   90,  359,  348,  194,   74,    3,\n",
       "        852,   36,  194,  163,    5,    3,   24,   21,   66,   74,  205,\n",
       "        302,   28,  143])"
      ]
     },
     "metadata": {},
     "execution_count": 44
    }
   ],
   "metadata": {}
  },
  {
   "cell_type": "markdown",
   "source": [
    "# 6. LSTM 돌리기 "
   ],
   "metadata": {}
  },
  {
   "cell_type": "code",
   "execution_count": 45,
   "source": [
    "from tensorflow.keras.layers import Embedding, Dense, GRU\r\n",
    "from tensorflow.keras.models import Sequential\r\n",
    "from tensorflow.keras.models import load_model\r\n",
    "from tensorflow.keras.callbacks import EarlyStopping, ModelCheckpoint\r\n",
    "from sklearn.model_selection import train_test_split\r\n",
    "from tensorflow.keras.utils import to_categorical"
   ],
   "outputs": [],
   "metadata": {}
  },
  {
   "cell_type": "code",
   "execution_count": 46,
   "source": [
    "X = X_data\r\n",
    "y = pt_data.id.tolist()"
   ],
   "outputs": [],
   "metadata": {}
  },
  {
   "cell_type": "code",
   "execution_count": 47,
   "source": [
    "X[1]"
   ],
   "outputs": [
    {
     "output_type": "execute_result",
     "data": {
      "text/plain": [
       "array([   0,    0,    0,    0,    0,    0,    0,    0,    0,    0,    0,\n",
       "          0,    0,    0,    0,    0,    0,    0,    0,    0,    0,    0,\n",
       "          0,    0,    0,    0,    0,    0,    0,    0,    0,    0,    0,\n",
       "          0,    0,    0,    0,    0,    0,    0,    0,    0,    0,    0,\n",
       "          0,    0,    0,    0,    0,    0,    0,    0,    0,    0,    0,\n",
       "          0,    0,    0,    0,    0,    0,    0,    0,    0,    0,    0,\n",
       "          0,    0,    0,    0,    0,    0,    0,    0,    0,    0,    0,\n",
       "          0,    0,    0,    0,    0,    0,    0,    0,    0,    0,    0,\n",
       "          0,    0,    0,    0,    0,    0,    0,    0,    0,    0,    0,\n",
       "          0,    0,    0,    0,    0,    0,    0,    0,    0,    0,    0,\n",
       "          0,    0,    0,    0,    0,    0,    0,    0,    0,    0,    0,\n",
       "          0,    0,    0,    0,    0,    0,    0,    0,    0,    0,    0,\n",
       "          0,    0,    0,    0,    0,    0,    0,    0,    0,    0,    0,\n",
       "          0,    0,    0,    0,    0,    0,    0,    0,    0,    0,    0,\n",
       "          0,    0,    0,    0,    0,    0,    0,    0,    0,    0,    0,\n",
       "          0,    0,    0,    0,    0,    0,    0,    0,    0,    0,    0,\n",
       "          0,    0,    0,    0, 1237, 1766,  881,  169,   55,   38,  292,\n",
       "        838,  944,   17,    1,    2, 2640, 1237, 1766,   28,   55,   38,\n",
       "        106,    5,   20,   13,    9,   10,    4,   58,   16,    8,   25,\n",
       "         35,  216,  708,   92,  551,    7,  978,   31,  434,  481,  203,\n",
       "        543,    1,    2,   10, 1003,   17,    1,    2,  126,   68,    7,\n",
       "        992,  962,  169,   43,   41,  495,   43,  320, 2107,   27,  251,\n",
       "        270,   52,  278,   19,   46,   63,   62,   15,  154,  376,  979,\n",
       "         40,   19,   63,   62,  254, 2047,  170,  298,  334,   88,   34,\n",
       "        320,  103,   39,  320,   45, 1011,  593,   67, 2108,  763,   14,\n",
       "        223,  271,  272,   79, 1215,   90,  359,  348,  194,   74,    3,\n",
       "        852,   36,  194,  163,    5,    3,   24,   21,   66,   74,  205,\n",
       "        302,   28,  143])"
      ]
     },
     "metadata": {},
     "execution_count": 47
    }
   ],
   "metadata": {}
  },
  {
   "cell_type": "code",
   "execution_count": 48,
   "source": [
    "y[1]"
   ],
   "outputs": [
    {
     "output_type": "execute_result",
     "data": {
      "text/plain": [
       "'070'"
      ]
     },
     "metadata": {},
     "execution_count": 48
    }
   ],
   "metadata": {}
  },
  {
   "cell_type": "code",
   "execution_count": 49,
   "source": [
    "print(len(X),len(y))"
   ],
   "outputs": [
    {
     "output_type": "stream",
     "name": "stdout",
     "text": [
      "5558 5558\n"
     ]
    }
   ],
   "metadata": {}
  },
  {
   "cell_type": "code",
   "execution_count": 50,
   "source": [
    "y = to_categorical(y)"
   ],
   "outputs": [],
   "metadata": {}
  },
  {
   "cell_type": "code",
   "execution_count": 51,
   "source": [
    "print(X.shape, y.shape)"
   ],
   "outputs": [
    {
     "output_type": "stream",
     "name": "stdout",
     "text": [
      "(5558, 300) (5558, 235)\n"
     ]
    }
   ],
   "metadata": {}
  },
  {
   "cell_type": "code",
   "execution_count": 52,
   "source": [
    "x_train, x_test, y_train, y_test = train_test_split(X, y,test_size=0.3, random_state=777, stratify=y) #추천 한 번밖에 안된 애들 있어서 stratify 안됨"
   ],
   "outputs": [],
   "metadata": {}
  },
  {
   "cell_type": "code",
   "execution_count": 53,
   "source": [
    "num_class = int(max(pt_data.id)) + 1"
   ],
   "outputs": [],
   "metadata": {}
  },
  {
   "cell_type": "code",
   "execution_count": 54,
   "source": [
    "from tensorflow.keras.layers import LSTM"
   ],
   "outputs": [],
   "metadata": {}
  },
  {
   "cell_type": "code",
   "execution_count": 59,
   "source": [
    "model = Sequential()\r\n",
    "model.add(Embedding(vocab_size, max_len))\r\n",
    "model.add(LSTM(max_len))\r\n",
    "model.add(Dense(num_class, activation='softmax'))\r\n",
    "\r\n",
    "model.summary()"
   ],
   "outputs": [
    {
     "output_type": "stream",
     "name": "stdout",
     "text": [
      "Model: \"sequential_1\"\n",
      "_________________________________________________________________\n",
      "Layer (type)                 Output Shape              Param #   \n",
      "=================================================================\n",
      "embedding_1 (Embedding)      (None, None, 300)         830100    \n",
      "_________________________________________________________________\n",
      "lstm (LSTM)                  (None, 300)               721200    \n",
      "_________________________________________________________________\n",
      "dense_1 (Dense)              (None, 235)               70735     \n",
      "=================================================================\n",
      "Total params: 1,622,035\n",
      "Trainable params: 1,622,035\n",
      "Non-trainable params: 0\n",
      "_________________________________________________________________\n"
     ]
    }
   ],
   "metadata": {}
  },
  {
   "cell_type": "code",
   "execution_count": 60,
   "source": [
    "es = EarlyStopping(monitor='val_loss', mode='min', verbose=1, patience=6)\r\n",
    "mc = ModelCheckpoint('pt_model_lstm.h5', monitor='val_acc', mode='max', verbose=1, save_best_only=True)"
   ],
   "outputs": [],
   "metadata": {}
  },
  {
   "cell_type": "code",
   "execution_count": 61,
   "source": [
    "model.compile(optimizer='adam', loss='categorical_crossentropy', metrics=['acc'])\r\n",
    "history = model.fit(x_train, y_train, epochs=10, callbacks=[es, mc], batch_size=32, validation_split=0.2)\r\n",
    "\r\n",
    "print(\"테스트 셋 체크\")\r\n",
    "loaded_model = load_model('pt_model_lstm.h5')\r\n",
    "print(\"\\n 테스트 정확도: %.4f\" % (loaded_model.evaluate(x_test, y_test)[1]))"
   ],
   "outputs": [
    {
     "output_type": "stream",
     "name": "stdout",
     "text": [
      "Epoch 1/10\n",
      "98/98 [==============================] - ETA: 0s - loss: 4.1139 - acc: 0.2246\n",
      "Epoch 00001: val_acc improved from -inf to 0.47686, saving model to pt_model_lstm.h5\n",
      "98/98 [==============================] - 213s 2s/step - loss: 4.1139 - acc: 0.2246 - val_loss: 2.6302 - val_acc: 0.4769\n",
      "Epoch 2/10\n",
      "98/98 [==============================] - ETA: 0s - loss: 1.6417 - acc: 0.6783\n",
      "Epoch 00002: val_acc improved from 0.47686 to 0.81491, saving model to pt_model_lstm.h5\n",
      "98/98 [==============================] - 221s 2s/step - loss: 1.6417 - acc: 0.6783 - val_loss: 0.9018 - val_acc: 0.8149\n",
      "Epoch 3/10\n",
      "98/98 [==============================] - ETA: 0s - loss: 0.5955 - acc: 0.8811\n",
      "Epoch 00003: val_acc improved from 0.81491 to 0.94216, saving model to pt_model_lstm.h5\n",
      "98/98 [==============================] - 185s 2s/step - loss: 0.5955 - acc: 0.8811 - val_loss: 0.3850 - val_acc: 0.9422\n",
      "Epoch 4/10\n",
      "98/98 [==============================] - ETA: 0s - loss: 0.2430 - acc: 0.9457\n",
      "Epoch 00004: val_acc improved from 0.94216 to 0.95244, saving model to pt_model_lstm.h5\n",
      "98/98 [==============================] - 188s 2s/step - loss: 0.2430 - acc: 0.9457 - val_loss: 0.2389 - val_acc: 0.9524\n",
      "Epoch 5/10\n",
      "98/98 [==============================] - ETA: 0s - loss: 0.1316 - acc: 0.9711\n",
      "Epoch 00005: val_acc improved from 0.95244 to 0.96658, saving model to pt_model_lstm.h5\n",
      "98/98 [==============================] - 197s 2s/step - loss: 0.1316 - acc: 0.9711 - val_loss: 0.1735 - val_acc: 0.9666\n",
      "Epoch 6/10\n",
      "98/98 [==============================] - ETA: 0s - loss: 0.1164 - acc: 0.9765\n",
      "Epoch 00006: val_acc improved from 0.96658 to 0.97044, saving model to pt_model_lstm.h5\n",
      "98/98 [==============================] - 204s 2s/step - loss: 0.1164 - acc: 0.9765 - val_loss: 0.1971 - val_acc: 0.9704\n",
      "Epoch 7/10\n",
      "98/98 [==============================] - ETA: 0s - loss: 0.1222 - acc: 0.9746\n",
      "Epoch 00007: val_acc improved from 0.97044 to 0.97943, saving model to pt_model_lstm.h5\n",
      "98/98 [==============================] - 190s 2s/step - loss: 0.1222 - acc: 0.9746 - val_loss: 0.1335 - val_acc: 0.9794\n",
      "Epoch 8/10\n",
      "98/98 [==============================] - ETA: 0s - loss: 0.0418 - acc: 0.9897\n",
      "Epoch 00008: val_acc did not improve from 0.97943\n",
      "98/98 [==============================] - 175s 2s/step - loss: 0.0418 - acc: 0.9897 - val_loss: 0.1261 - val_acc: 0.9781\n",
      "Epoch 9/10\n",
      "98/98 [==============================] - ETA: 0s - loss: 0.0264 - acc: 0.9926\n",
      "Epoch 00009: val_acc improved from 0.97943 to 0.98715, saving model to pt_model_lstm.h5\n",
      "98/98 [==============================] - 167s 2s/step - loss: 0.0264 - acc: 0.9926 - val_loss: 0.0984 - val_acc: 0.9871\n",
      "Epoch 10/10\n",
      "98/98 [==============================] - ETA: 0s - loss: 0.0216 - acc: 0.9961\n",
      "Epoch 00010: val_acc improved from 0.98715 to 0.98972, saving model to pt_model_lstm.h5\n",
      "98/98 [==============================] - 168s 2s/step - loss: 0.0216 - acc: 0.9961 - val_loss: 0.0997 - val_acc: 0.9897\n",
      "테스트 셋 체크\n",
      "53/53 [==============================] - 28s 527ms/step - loss: 0.0452 - acc: 0.9964\n",
      "\n",
      " 테스트 정확도: 0.9964\n"
     ]
    }
   ],
   "metadata": {}
  },
  {
   "cell_type": "markdown",
   "source": [
    "Cannot convert a symbolic Tensor -> numpy 버전 1.19.5로 바꿔줌\n",
    "\n",
    "https://wikidocs.net/45101"
   ],
   "metadata": {}
  },
  {
   "cell_type": "code",
   "execution_count": 58,
   "source": [
    "# list all data in history\r\n",
    "print(history.history.keys())\r\n",
    "# summarize history for accuracy\r\n",
    "plt.plot(history.history['acc'])\r\n",
    "plt.plot(history.history['val_acc'])\r\n",
    "plt.title('model accuracy')\r\n",
    "plt.ylabel('accuracy')\r\n",
    "plt.xlabel('epoch')\r\n",
    "plt.legend(['train', 'test'], loc='upper left')\r\n",
    "plt.show()\r\n",
    "# summarize history for loss\r\n",
    "plt.plot(history.history['loss'])\r\n",
    "plt.plot(history.history['val_loss'])\r\n",
    "plt.title('model loss')\r\n",
    "plt.ylabel('loss')\r\n",
    "plt.xlabel('epoch')\r\n",
    "plt.legend(['train', 'test'], loc='upper left')\r\n",
    "plt.show()"
   ],
   "outputs": [
    {
     "output_type": "stream",
     "name": "stdout",
     "text": [
      "dict_keys(['loss', 'acc', 'val_loss', 'val_acc'])\n"
     ]
    },
    {
     "output_type": "display_data",
     "data": {
      "image/png": "[encoded data removed]",
      "text/plain": [
       "<Figure size 432x288 with 1 Axes>"
      ]
     },
     "metadata": {
      "needs_background": "light"
     }
    },
    {
     "output_type": "display_data",
     "data": {
      "image/png": "[encoded data removed]",
      "text/plain": [
       "<Figure size 432x288 with 1 Axes>"
      ]
     },
     "metadata": {
      "needs_background": "light"
     }
    }
   ],
   "metadata": {}
  },
  {
   "cell_type": "code",
   "execution_count": null,
   "source": [],
   "outputs": [],
   "metadata": {}
  }
 ],
 "metadata": {
  "orig_nbformat": 4,
  "language_info": {
   "name": "python",
   "version": "3.8.11",
   "mimetype": "text/x-python",
   "codemirror_mode": {
    "name": "ipython",
    "version": 3
   },
   "pygments_lexer": "ipython3",
   "nbconvert_exporter": "python",
   "file_extension": ".py"
  },
  "kernelspec": {
   "name": "python3",
   "display_name": "Python 3.8.11 64-bit ('project': conda)"
  },
  "interpreter": {
   "hash": "3c72b3a1d2099a1008e3bc500dd268b9e9c6cd21287ce07be0cbf18dc1c8e707"
  }
 },
 "nbformat": 4,
 "nbformat_minor": 2
}