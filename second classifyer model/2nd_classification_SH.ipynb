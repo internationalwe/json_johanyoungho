{
 "cells": [
  {
   "cell_type": "code",
   "execution_count": 1,
   "source": [
    "import pandas as pd\r\n",
    "\r\n",
    "ddata = pd.read_csv(\"./data/ddata.txt\", encoding=\"euc-kr\", sep=\"\\t\", names=[\"num\",\"speaker\",\"contents\",\"tags\"])\r\n",
    "mdata = pd.read_csv(\"./data/mdata.txt\", encoding=\"euc-kr\", sep=\"\\t\", names=[\"id\",\"part\",\"category\",\"exptype\",\"exp\"])\r\n",
    "\r\n",
    "ddata.head()"
   ],
   "outputs": [
    {
     "output_type": "execute_result",
     "data": {
      "text/html": [
       "<div>\n",
       "<style scoped>\n",
       "    .dataframe tbody tr th:only-of-type {\n",
       "        vertical-align: middle;\n",
       "    }\n",
       "\n",
       "    .dataframe tbody tr th {\n",
       "        vertical-align: top;\n",
       "    }\n",
       "\n",
       "    .dataframe thead th {\n",
       "        text-align: right;\n",
       "    }\n",
       "</style>\n",
       "<table border=\"1\" class=\"dataframe\">\n",
       "  <thead>\n",
       "    <tr style=\"text-align: right;\">\n",
       "      <th></th>\n",
       "      <th>num</th>\n",
       "      <th>speaker</th>\n",
       "      <th>contents</th>\n",
       "      <th>tags</th>\n",
       "    </tr>\n",
       "  </thead>\n",
       "  <tbody>\n",
       "    <tr>\n",
       "      <th>0</th>\n",
       "      <td>0</td>\n",
       "      <td>&lt;CO&gt;</td>\n",
       "      <td>어서오세요. 코디봇입니다. 무엇을 도와드릴까요?</td>\n",
       "      <td>INTRO</td>\n",
       "    </tr>\n",
       "    <tr>\n",
       "      <th>1</th>\n",
       "      <td>1</td>\n",
       "      <td>&lt;US&gt;</td>\n",
       "      <td>처음 대학교 들어가는데 입을 옷 코디해주세요.</td>\n",
       "      <td>NaN</td>\n",
       "    </tr>\n",
       "    <tr>\n",
       "      <th>2</th>\n",
       "      <td>2</td>\n",
       "      <td>&lt;CO&gt;</td>\n",
       "      <td>신입생 코디에 어울리게 화사한 스웨터를 추천해드릴게요.</td>\n",
       "      <td>EXP_RES_SITUATION;EXP_RES_DESCRIPTION</td>\n",
       "    </tr>\n",
       "    <tr>\n",
       "      <th>3</th>\n",
       "      <td>3</td>\n",
       "      <td>&lt;AC&gt;</td>\n",
       "      <td>SW-009</td>\n",
       "      <td>NaN</td>\n",
       "    </tr>\n",
       "    <tr>\n",
       "      <th>4</th>\n",
       "      <td>4</td>\n",
       "      <td>&lt;US&gt;</td>\n",
       "      <td>이 옷에 어울리는 치마로 추천해주세요.</td>\n",
       "      <td>USER_SUCCESS</td>\n",
       "    </tr>\n",
       "  </tbody>\n",
       "</table>\n",
       "</div>"
      ],
      "text/plain": [
       "   num speaker                         contents  \\\n",
       "0    0    <CO>       어서오세요. 코디봇입니다. 무엇을 도와드릴까요?   \n",
       "1    1    <US>        처음 대학교 들어가는데 입을 옷 코디해주세요.   \n",
       "2    2    <CO>   신입생 코디에 어울리게 화사한 스웨터를 추천해드릴게요.   \n",
       "3    3    <AC>                           SW-009   \n",
       "4    4    <US>            이 옷에 어울리는 치마로 추천해주세요.   \n",
       "\n",
       "                                    tags  \n",
       "0                                  INTRO  \n",
       "1                                    NaN  \n",
       "2  EXP_RES_SITUATION;EXP_RES_DESCRIPTION  \n",
       "3                                    NaN  \n",
       "4                           USER_SUCCESS  "
      ]
     },
     "metadata": {},
     "execution_count": 1
    }
   ],
   "metadata": {}
  },
  {
   "cell_type": "markdown",
   "source": [
    "# 1. 전체 대화셋 개수 카운트"
   ],
   "metadata": {}
  },
  {
   "cell_type": "code",
   "execution_count": 2,
   "source": [
    "dial_num = 0\r\n",
    "\r\n",
    "for i in range(1, len(ddata)):\r\n",
    "    if ddata.loc[i, \"num\"] == 0:\r\n",
    "        dial_num += 1\r\n",
    "print(\"총 대화셋 수: \",dial_num)"
   ],
   "outputs": [
    {
     "output_type": "stream",
     "name": "stdout",
     "text": [
      "총 대화셋 수:  7235\n"
     ]
    }
   ],
   "metadata": {}
  },
  {
   "cell_type": "markdown",
   "source": [
    "# 2. Mdata 합치기"
   ],
   "metadata": {}
  },
  {
   "cell_type": "markdown",
   "source": [
    "## - Part 살려서 합치기"
   ],
   "metadata": {}
  },
  {
   "cell_type": "code",
   "execution_count": 3,
   "source": [
    "c_mdata = pd.DataFrame({\"id\":[0],\"exp\":[None]})\r\n",
    "c_mdata.drop(0, axis=0, inplace=True)\r\n",
    "c_mdata"
   ],
   "outputs": [
    {
     "output_type": "execute_result",
     "data": {
      "text/html": [
       "<div>\n",
       "<style scoped>\n",
       "    .dataframe tbody tr th:only-of-type {\n",
       "        vertical-align: middle;\n",
       "    }\n",
       "\n",
       "    .dataframe tbody tr th {\n",
       "        vertical-align: top;\n",
       "    }\n",
       "\n",
       "    .dataframe thead th {\n",
       "        text-align: right;\n",
       "    }\n",
       "</style>\n",
       "<table border=\"1\" class=\"dataframe\">\n",
       "  <thead>\n",
       "    <tr style=\"text-align: right;\">\n",
       "      <th></th>\n",
       "      <th>id</th>\n",
       "      <th>exp</th>\n",
       "    </tr>\n",
       "  </thead>\n",
       "  <tbody>\n",
       "  </tbody>\n",
       "</table>\n",
       "</div>"
      ],
      "text/plain": [
       "Empty DataFrame\n",
       "Columns: [id, exp]\n",
       "Index: []"
      ]
     },
     "metadata": {},
     "execution_count": 3
    }
   ],
   "metadata": {}
  },
  {
   "cell_type": "code",
   "execution_count": 4,
   "source": [
    "id = \"\"\r\n",
    "idx = 0\r\n",
    "for i in range(len(mdata)):\r\n",
    "    if id == mdata.loc[i, \"id\"]:\r\n",
    "        c_mdata.loc[c_mdata.index[(c_mdata[\"id\"] == id)].tolist().pop(),\"exp\"] = c_mdata.loc[c_mdata.index[(c_mdata[\"id\"] == id)].tolist().pop(),\"exp\"] + \" \" + mdata.loc[i, \"exp\"]\r\n",
    "    \r\n",
    "    else:\r\n",
    "        id = mdata.loc[i, \"id\"]\r\n",
    "        c_mdata.loc[i, \"id\"] = id\r\n",
    "        c_mdata.loc[i, \"exp\"] = mdata.loc[i, \"exp\"]\r\n",
    "\r\n",
    "c_mdata.head()"
   ],
   "outputs": [
    {
     "output_type": "execute_result",
     "data": {
      "text/html": [
       "<div>\n",
       "<style scoped>\n",
       "    .dataframe tbody tr th:only-of-type {\n",
       "        vertical-align: middle;\n",
       "    }\n",
       "\n",
       "    .dataframe tbody tr th {\n",
       "        vertical-align: top;\n",
       "    }\n",
       "\n",
       "    .dataframe thead th {\n",
       "        text-align: right;\n",
       "    }\n",
       "</style>\n",
       "<table border=\"1\" class=\"dataframe\">\n",
       "  <thead>\n",
       "    <tr style=\"text-align: right;\">\n",
       "      <th></th>\n",
       "      <th>id</th>\n",
       "      <th>exp</th>\n",
       "    </tr>\n",
       "  </thead>\n",
       "  <tbody>\n",
       "    <tr>\n",
       "      <th>0</th>\n",
       "      <td>BL-001</td>\n",
       "      <td>단추 여밈의 전체 오픈형 스탠드 칼라와 브이넥 네크라인의 결합스타일 손목까지 내려오...</td>\n",
       "    </tr>\n",
       "    <tr>\n",
       "      <th>20</th>\n",
       "      <td>BL-002</td>\n",
       "      <td>넓은 셔츠칼라 네크라인 앞중심에 반 오픈 끈여밈있는 스타일 드롭숄더 퍼프형 소매로 ...</td>\n",
       "    </tr>\n",
       "    <tr>\n",
       "      <th>38</th>\n",
       "      <td>BL-003</td>\n",
       "      <td>앞 중심에 단추 여밈 칼라가 없는 넓고 깊게 파인 브이넥 엉덩이 밑으로 내려오는 긴...</td>\n",
       "    </tr>\n",
       "    <tr>\n",
       "      <th>63</th>\n",
       "      <td>BL-004</td>\n",
       "      <td>앞중심에 단추 여밈 칼라가 없는 라운드넥으로 골반 위에서 끝나는 짧은 기장 손목, ...</td>\n",
       "    </tr>\n",
       "    <tr>\n",
       "      <th>84</th>\n",
       "      <td>BL-005</td>\n",
       "      <td>앞단추 여밈의 전체 오픈형 칼라가 없는 라운드넥크라인 엉덩이 위에서 끝나는 짧은 기...</td>\n",
       "    </tr>\n",
       "  </tbody>\n",
       "</table>\n",
       "</div>"
      ],
      "text/plain": [
       "         id                                                exp\n",
       "0   BL-001   단추 여밈의 전체 오픈형 스탠드 칼라와 브이넥 네크라인의 결합스타일 손목까지 내려오...\n",
       "20  BL-002   넓은 셔츠칼라 네크라인 앞중심에 반 오픈 끈여밈있는 스타일 드롭숄더 퍼프형 소매로 ...\n",
       "38  BL-003   앞 중심에 단추 여밈 칼라가 없는 넓고 깊게 파인 브이넥 엉덩이 밑으로 내려오는 긴...\n",
       "63  BL-004   앞중심에 단추 여밈 칼라가 없는 라운드넥으로 골반 위에서 끝나는 짧은 기장 손목, ...\n",
       "84  BL-005   앞단추 여밈의 전체 오픈형 칼라가 없는 라운드넥크라인 엉덩이 위에서 끝나는 짧은 기..."
      ]
     },
     "metadata": {},
     "execution_count": 4
    }
   ],
   "metadata": {}
  },
  {
   "cell_type": "code",
   "execution_count": 5,
   "source": [
    "for i in range(len(c_mdata)): # id 뒤에 공백 없애기\r\n",
    "    c_mdata.iloc[i].id = c_mdata.iloc[i].id.strip()\r\n",
    "\r\n",
    "print(c_mdata.iloc[0].id)\r\n",
    "c_mdata.reset_index(drop=True,inplace=True)\r\n",
    "c_mdata.head()"
   ],
   "outputs": [
    {
     "output_type": "stream",
     "name": "stdout",
     "text": [
      "BL-001\n"
     ]
    },
    {
     "output_type": "execute_result",
     "data": {
      "text/html": [
       "<div>\n",
       "<style scoped>\n",
       "    .dataframe tbody tr th:only-of-type {\n",
       "        vertical-align: middle;\n",
       "    }\n",
       "\n",
       "    .dataframe tbody tr th {\n",
       "        vertical-align: top;\n",
       "    }\n",
       "\n",
       "    .dataframe thead th {\n",
       "        text-align: right;\n",
       "    }\n",
       "</style>\n",
       "<table border=\"1\" class=\"dataframe\">\n",
       "  <thead>\n",
       "    <tr style=\"text-align: right;\">\n",
       "      <th></th>\n",
       "      <th>id</th>\n",
       "      <th>exp</th>\n",
       "    </tr>\n",
       "  </thead>\n",
       "  <tbody>\n",
       "    <tr>\n",
       "      <th>0</th>\n",
       "      <td>BL-001</td>\n",
       "      <td>단추 여밈의 전체 오픈형 스탠드 칼라와 브이넥 네크라인의 결합스타일 손목까지 내려오...</td>\n",
       "    </tr>\n",
       "    <tr>\n",
       "      <th>1</th>\n",
       "      <td>BL-002</td>\n",
       "      <td>넓은 셔츠칼라 네크라인 앞중심에 반 오픈 끈여밈있는 스타일 드롭숄더 퍼프형 소매로 ...</td>\n",
       "    </tr>\n",
       "    <tr>\n",
       "      <th>2</th>\n",
       "      <td>BL-003</td>\n",
       "      <td>앞 중심에 단추 여밈 칼라가 없는 넓고 깊게 파인 브이넥 엉덩이 밑으로 내려오는 긴...</td>\n",
       "    </tr>\n",
       "    <tr>\n",
       "      <th>3</th>\n",
       "      <td>BL-004</td>\n",
       "      <td>앞중심에 단추 여밈 칼라가 없는 라운드넥으로 골반 위에서 끝나는 짧은 기장 손목, ...</td>\n",
       "    </tr>\n",
       "    <tr>\n",
       "      <th>4</th>\n",
       "      <td>BL-005</td>\n",
       "      <td>앞단추 여밈의 전체 오픈형 칼라가 없는 라운드넥크라인 엉덩이 위에서 끝나는 짧은 기...</td>\n",
       "    </tr>\n",
       "  </tbody>\n",
       "</table>\n",
       "</div>"
      ],
      "text/plain": [
       "       id                                                exp\n",
       "0  BL-001  단추 여밈의 전체 오픈형 스탠드 칼라와 브이넥 네크라인의 결합스타일 손목까지 내려오...\n",
       "1  BL-002  넓은 셔츠칼라 네크라인 앞중심에 반 오픈 끈여밈있는 스타일 드롭숄더 퍼프형 소매로 ...\n",
       "2  BL-003  앞 중심에 단추 여밈 칼라가 없는 넓고 깊게 파인 브이넥 엉덩이 밑으로 내려오는 긴...\n",
       "3  BL-004  앞중심에 단추 여밈 칼라가 없는 라운드넥으로 골반 위에서 끝나는 짧은 기장 손목, ...\n",
       "4  BL-005  앞단추 여밈의 전체 오픈형 칼라가 없는 라운드넥크라인 엉덩이 위에서 끝나는 짧은 기..."
      ]
     },
     "metadata": {},
     "execution_count": 5
    }
   ],
   "metadata": {}
  },
  {
   "cell_type": "markdown",
   "source": [
    "# 3. NaN, Null 값 확인"
   ],
   "metadata": {}
  },
  {
   "cell_type": "code",
   "execution_count": 6,
   "source": [
    "ddata.drop(ddata.index[ddata.tags == \"INTRO\"].tolist(), axis=0, inplace=True)\r\n",
    "ddata.reset_index(drop=True, inplace=True)\r\n",
    "ddata[ddata.tags == \"INTRO\"]"
   ],
   "outputs": [
    {
     "output_type": "execute_result",
     "data": {
      "text/html": [
       "<div>\n",
       "<style scoped>\n",
       "    .dataframe tbody tr th:only-of-type {\n",
       "        vertical-align: middle;\n",
       "    }\n",
       "\n",
       "    .dataframe tbody tr th {\n",
       "        vertical-align: top;\n",
       "    }\n",
       "\n",
       "    .dataframe thead th {\n",
       "        text-align: right;\n",
       "    }\n",
       "</style>\n",
       "<table border=\"1\" class=\"dataframe\">\n",
       "  <thead>\n",
       "    <tr style=\"text-align: right;\">\n",
       "      <th></th>\n",
       "      <th>num</th>\n",
       "      <th>speaker</th>\n",
       "      <th>contents</th>\n",
       "      <th>tags</th>\n",
       "    </tr>\n",
       "  </thead>\n",
       "  <tbody>\n",
       "  </tbody>\n",
       "</table>\n",
       "</div>"
      ],
      "text/plain": [
       "Empty DataFrame\n",
       "Columns: [num, speaker, contents, tags]\n",
       "Index: []"
      ]
     },
     "metadata": {},
     "execution_count": 6
    }
   ],
   "metadata": {}
  },
  {
   "cell_type": "code",
   "execution_count": 7,
   "source": [
    "ddata.isnull().sum()"
   ],
   "outputs": [
    {
     "output_type": "execute_result",
     "data": {
      "text/plain": [
       "num             0\n",
       "speaker         0\n",
       "contents        0\n",
       "tags        51927\n",
       "dtype: int64"
      ]
     },
     "metadata": {},
     "execution_count": 7
    }
   ],
   "metadata": {}
  },
  {
   "cell_type": "code",
   "execution_count": 8,
   "source": [
    "ddata.isna().sum()"
   ],
   "outputs": [
    {
     "output_type": "execute_result",
     "data": {
      "text/plain": [
       "num             0\n",
       "speaker         0\n",
       "contents        0\n",
       "tags        51927\n",
       "dtype: int64"
      ]
     },
     "metadata": {},
     "execution_count": 8
    }
   ],
   "metadata": {}
  },
  {
   "cell_type": "code",
   "execution_count": 9,
   "source": [
    "ddata.fillna(\"\", inplace=True)\r\n",
    "ddata.isna().sum()"
   ],
   "outputs": [
    {
     "output_type": "execute_result",
     "data": {
      "text/plain": [
       "num         0\n",
       "speaker     0\n",
       "contents    0\n",
       "tags        0\n",
       "dtype: int64"
      ]
     },
     "metadata": {},
     "execution_count": 9
    }
   ],
   "metadata": {}
  },
  {
   "cell_type": "code",
   "execution_count": 10,
   "source": [
    "mdata.isnull().sum()"
   ],
   "outputs": [
    {
     "output_type": "execute_result",
     "data": {
      "text/plain": [
       "id          0\n",
       "part        0\n",
       "category    0\n",
       "exptype     0\n",
       "exp         0\n",
       "dtype: int64"
      ]
     },
     "metadata": {},
     "execution_count": 10
    }
   ],
   "metadata": {}
  },
  {
   "cell_type": "code",
   "execution_count": 11,
   "source": [
    "c_mdata.isnull().sum()"
   ],
   "outputs": [
    {
     "output_type": "execute_result",
     "data": {
      "text/plain": [
       "id     0\n",
       "exp    0\n",
       "dtype: int64"
      ]
     },
     "metadata": {},
     "execution_count": 11
    }
   ],
   "metadata": {}
  },
  {
   "cell_type": "markdown",
   "source": [
    "# 4. 추천 성공 의상 아이디 종류 및 빈도 카운트 "
   ],
   "metadata": {}
  },
  {
   "cell_type": "markdown",
   "source": [
    "## 한 번에 추천해도 실패하면 전부 실패로 달기"
   ],
   "metadata": {}
  },
  {
   "cell_type": "code",
   "execution_count": 12,
   "source": [
    "c_data = pd.DataFrame({\"contents\":[None], \"id\":[\"xx-xxx\"]})\r\n",
    "c_data.drop(0,axis=0,inplace=True)\r\n",
    "c_data.head()"
   ],
   "outputs": [
    {
     "output_type": "execute_result",
     "data": {
      "text/html": [
       "<div>\n",
       "<style scoped>\n",
       "    .dataframe tbody tr th:only-of-type {\n",
       "        vertical-align: middle;\n",
       "    }\n",
       "\n",
       "    .dataframe tbody tr th {\n",
       "        vertical-align: top;\n",
       "    }\n",
       "\n",
       "    .dataframe thead th {\n",
       "        text-align: right;\n",
       "    }\n",
       "</style>\n",
       "<table border=\"1\" class=\"dataframe\">\n",
       "  <thead>\n",
       "    <tr style=\"text-align: right;\">\n",
       "      <th></th>\n",
       "      <th>contents</th>\n",
       "      <th>id</th>\n",
       "    </tr>\n",
       "  </thead>\n",
       "  <tbody>\n",
       "  </tbody>\n",
       "</table>\n",
       "</div>"
      ],
      "text/plain": [
       "Empty DataFrame\n",
       "Columns: [contents, id]\n",
       "Index: []"
      ]
     },
     "metadata": {},
     "execution_count": 12
    }
   ],
   "metadata": {}
  },
  {
   "cell_type": "markdown",
   "source": [
    "<코드 동작 원리>\n",
    "<br>\n",
    "\n",
    "대화문 하나씩 받아온 다음\n",
    "- AC 태그 문장이면 일단 의상 변수에 저장,\n",
    "- user_success 태그 문장이면\n",
    "\n",
    "   - 변수에 저장된 의상이 하나면\n",
    "\n",
    "      - 바로 대화문 변수랑 의상 변수 및 의상 메타데이터 합쳐서 저장 -> 레이블(id 컬럼에 저장)은 의상 코드가 됨\n",
    "\n",
    "   - 변수에 저장된 의상의 여러 개면\n",
    "\n",
    "      - 의상을 하나의 코드 단위로 쪼개서 대화문 변수랑 의상 메타데이터 합쳐서 저장\n",
    "      \n",
    "-  둘 다 아니고 일반 대화문이면 대화문 변수에 저장"
   ],
   "metadata": {}
  },
  {
   "cell_type": "code",
   "execution_count": 13,
   "source": [
    "dial = ddata.loc[0, \"contents\"].strip()\r\n",
    "ac = \"\"\r\n",
    "\r\n",
    "for i in range(1,len(ddata)):\r\n",
    "    cur_sen = ddata.loc[i,\"contents\"].strip()\r\n",
    "\r\n",
    "    if ddata.loc[i, \"num\"] > ddata.loc[i-1, \"num\"]: # 이전 대화셋에 포함된 문장인지 확인\r\n",
    "        \r\n",
    "        if ddata.loc[i,\"speaker\"] == \"<AC>\": # case 1. 의상 아이디가 나온 경우\r\n",
    "            if len(ac) > 1:\r\n",
    "                ac = ac + \" \" + cur_sen # 의상 아이디 저장\r\n",
    "            else:\r\n",
    "                ac = cur_sen\r\n",
    "\r\n",
    "        elif \"USER_SUCCESS\" == ddata.loc[i,\"tags\"]: # case 2. USER_SUCCESS 태그가 나온 경우\r\n",
    "            if 0 < len(ac) < 7: # 의상을 하나만 추천한 경우\r\n",
    "                dial = dial + \" \" + ac + \" \" + cur_sen\r\n",
    "                c_data.loc[i, \"contents\"] =  dial + \" \" + c_mdata.loc[c_mdata.id == ac].exp.values[0]\r\n",
    "                c_data.loc[i, \"id\"] = ac\r\n",
    "                ac = \"\"\r\n",
    "\r\n",
    "            elif len(ac) == 0:\r\n",
    "                dial = dial + \" \" + cur_sen\r\n",
    "\r\n",
    "            else: # 의상을 한 번에 여러 개 추천한 경우\r\n",
    "                idx_cnt = 0\r\n",
    "                for one_ac in ac.split():\r\n",
    "                    c_data.loc[i + idx_cnt, \"contents\"] =  dial + \" \" + one_ac + \" \"+ cur_sen + \" \" + c_mdata.loc[c_mdata.id == one_ac].exp.values[0]\r\n",
    "                    c_data.loc[i + idx_cnt, \"id\"] = one_ac\r\n",
    "                    idx_cnt += 1\r\n",
    "                dial = dial + \" \" + ac + \" \" + cur_sen    \r\n",
    "                ac = \"\"\r\n",
    "        \r\n",
    "        elif \"USER_FAIL\" in ddata.loc[i,\"tags\"]:\r\n",
    "            dial = dial + \" \" + ac + \" \" + cur_sen\r\n",
    "            ac = \"\"\r\n",
    "\r\n",
    "        else: # case 3. 그냥 대화문인 경우\r\n",
    "            dial = dial + \" \" + cur_sen\r\n",
    "    \r\n",
    "    else: #새로운 대화셋 시작이면 초기화\r\n",
    "        dial = cur_sen\r\n",
    "        ac = \"\""
   ],
   "outputs": [],
   "metadata": {}
  },
  {
   "cell_type": "code",
   "execution_count": 14,
   "source": [
    "print(\"전체 데이터 수: \", len(c_data))\r\n",
    "c_data.head()"
   ],
   "outputs": [
    {
     "output_type": "stream",
     "name": "stdout",
     "text": [
      "전체 데이터 수:  34303\n"
     ]
    },
    {
     "output_type": "execute_result",
     "data": {
      "text/html": [
       "<div>\n",
       "<style scoped>\n",
       "    .dataframe tbody tr th:only-of-type {\n",
       "        vertical-align: middle;\n",
       "    }\n",
       "\n",
       "    .dataframe tbody tr th {\n",
       "        vertical-align: top;\n",
       "    }\n",
       "\n",
       "    .dataframe thead th {\n",
       "        text-align: right;\n",
       "    }\n",
       "</style>\n",
       "<table border=\"1\" class=\"dataframe\">\n",
       "  <thead>\n",
       "    <tr style=\"text-align: right;\">\n",
       "      <th></th>\n",
       "      <th>contents</th>\n",
       "      <th>id</th>\n",
       "    </tr>\n",
       "  </thead>\n",
       "  <tbody>\n",
       "    <tr>\n",
       "      <th>3</th>\n",
       "      <td>처음 대학교 들어가는데 입을 옷 코디해주세요. 신입생 코디에 어울리게 화사한 스웨터...</td>\n",
       "      <td>SW-009</td>\n",
       "    </tr>\n",
       "    <tr>\n",
       "      <th>12</th>\n",
       "      <td>처음 대학교 들어가는데 입을 옷 코디해주세요. 신입생 코디에 어울리게 화사한 스웨터...</td>\n",
       "      <td>SK-053</td>\n",
       "    </tr>\n",
       "    <tr>\n",
       "      <th>17</th>\n",
       "      <td>처음 대학교 들어가는데 입을 옷 코디해주세요. 신입생 코디에 어울리게 화사한 스웨터...</td>\n",
       "      <td>CT-019</td>\n",
       "    </tr>\n",
       "    <tr>\n",
       "      <th>22</th>\n",
       "      <td>처음 대학교 들어가는데 입을 옷 코디해주세요. 신입생 코디에 어울리게 화사한 스웨터...</td>\n",
       "      <td>SE-039</td>\n",
       "    </tr>\n",
       "    <tr>\n",
       "      <th>26</th>\n",
       "      <td>처음 대학교 들어가는데 입을 옷 코디해주세요. 신입생 코디에 어울리게 화사한 스웨터...</td>\n",
       "      <td>CT-019</td>\n",
       "    </tr>\n",
       "  </tbody>\n",
       "</table>\n",
       "</div>"
      ],
      "text/plain": [
       "                                             contents      id\n",
       "3   처음 대학교 들어가는데 입을 옷 코디해주세요. 신입생 코디에 어울리게 화사한 스웨터...  SW-009\n",
       "12  처음 대학교 들어가는데 입을 옷 코디해주세요. 신입생 코디에 어울리게 화사한 스웨터...  SK-053\n",
       "17  처음 대학교 들어가는데 입을 옷 코디해주세요. 신입생 코디에 어울리게 화사한 스웨터...  CT-019\n",
       "22  처음 대학교 들어가는데 입을 옷 코디해주세요. 신입생 코디에 어울리게 화사한 스웨터...  SE-039\n",
       "26  처음 대학교 들어가는데 입을 옷 코디해주세요. 신입생 코디에 어울리게 화사한 스웨터...  CT-019"
      ]
     },
     "metadata": {},
     "execution_count": 14
    }
   ],
   "metadata": {}
  },
  {
   "cell_type": "code",
   "execution_count": 15,
   "source": [
    "c_data.reset_index(drop=True ,inplace=True)\r\n",
    "c_data.head()"
   ],
   "outputs": [
    {
     "output_type": "execute_result",
     "data": {
      "text/html": [
       "<div>\n",
       "<style scoped>\n",
       "    .dataframe tbody tr th:only-of-type {\n",
       "        vertical-align: middle;\n",
       "    }\n",
       "\n",
       "    .dataframe tbody tr th {\n",
       "        vertical-align: top;\n",
       "    }\n",
       "\n",
       "    .dataframe thead th {\n",
       "        text-align: right;\n",
       "    }\n",
       "</style>\n",
       "<table border=\"1\" class=\"dataframe\">\n",
       "  <thead>\n",
       "    <tr style=\"text-align: right;\">\n",
       "      <th></th>\n",
       "      <th>contents</th>\n",
       "      <th>id</th>\n",
       "    </tr>\n",
       "  </thead>\n",
       "  <tbody>\n",
       "    <tr>\n",
       "      <th>0</th>\n",
       "      <td>처음 대학교 들어가는데 입을 옷 코디해주세요. 신입생 코디에 어울리게 화사한 스웨터...</td>\n",
       "      <td>SW-009</td>\n",
       "    </tr>\n",
       "    <tr>\n",
       "      <th>1</th>\n",
       "      <td>처음 대학교 들어가는데 입을 옷 코디해주세요. 신입생 코디에 어울리게 화사한 스웨터...</td>\n",
       "      <td>SK-053</td>\n",
       "    </tr>\n",
       "    <tr>\n",
       "      <th>2</th>\n",
       "      <td>처음 대학교 들어가는데 입을 옷 코디해주세요. 신입생 코디에 어울리게 화사한 스웨터...</td>\n",
       "      <td>CT-019</td>\n",
       "    </tr>\n",
       "    <tr>\n",
       "      <th>3</th>\n",
       "      <td>처음 대학교 들어가는데 입을 옷 코디해주세요. 신입생 코디에 어울리게 화사한 스웨터...</td>\n",
       "      <td>SE-039</td>\n",
       "    </tr>\n",
       "    <tr>\n",
       "      <th>4</th>\n",
       "      <td>처음 대학교 들어가는데 입을 옷 코디해주세요. 신입생 코디에 어울리게 화사한 스웨터...</td>\n",
       "      <td>CT-019</td>\n",
       "    </tr>\n",
       "  </tbody>\n",
       "</table>\n",
       "</div>"
      ],
      "text/plain": [
       "                                            contents      id\n",
       "0  처음 대학교 들어가는데 입을 옷 코디해주세요. 신입생 코디에 어울리게 화사한 스웨터...  SW-009\n",
       "1  처음 대학교 들어가는데 입을 옷 코디해주세요. 신입생 코디에 어울리게 화사한 스웨터...  SK-053\n",
       "2  처음 대학교 들어가는데 입을 옷 코디해주세요. 신입생 코디에 어울리게 화사한 스웨터...  CT-019\n",
       "3  처음 대학교 들어가는데 입을 옷 코디해주세요. 신입생 코디에 어울리게 화사한 스웨터...  SE-039\n",
       "4  처음 대학교 들어가는데 입을 옷 코디해주세요. 신입생 코디에 어울리게 화사한 스웨터...  CT-019"
      ]
     },
     "metadata": {},
     "execution_count": 15
    }
   ],
   "metadata": {}
  },
  {
   "cell_type": "code",
   "execution_count": 16,
   "source": [
    "c_data.loc[0].contents"
   ],
   "outputs": [
    {
     "output_type": "execute_result",
     "data": {
      "text/plain": [
       "'처음 대학교 들어가는데 입을 옷 코디해주세요. 신입생 코디에 어울리게 화사한 스웨터를 추천해드릴게요. SW-009 이 옷에 어울리는 치마로 추천해주세요. 라운드 네크라인 여밈이 없는 풀오버 스타일 전체 케이블 조직 드롭숄더 슬리브 손등까지 오는 길이의 소매 몸에 적당히 맞는 품 엉덩이를 살짝 덮는 길이 네크라인, 소매 끝, 밑단에 고무단 처리 레이온52%,나일론20%,폴리에스터28% 꽈배기 조직, 플레인 조직이 섞여 있는 형태 드라이 크리닝 단색의 라임색 브라이트톤(고명도 고채도)의 옐로우 그린 산뜻하고 발랄한 느낌 기본의 단정한 편안한 산뜻한 발랄한 경쾌한 따뜻한 데일리룩 캠퍼스룩'"
      ]
     },
     "metadata": {},
     "execution_count": 16
    }
   ],
   "metadata": {}
  },
  {
   "cell_type": "code",
   "execution_count": 17,
   "source": [
    "sh_data = pd.DataFrame({\"contents\":[None], \"id\":[\"xx-xxx\"]})\r\n",
    "sh_data.drop(0,axis=0,inplace=True)\r\n",
    "sh_data.head()"
   ],
   "outputs": [
    {
     "output_type": "execute_result",
     "data": {
      "text/html": [
       "<div>\n",
       "<style scoped>\n",
       "    .dataframe tbody tr th:only-of-type {\n",
       "        vertical-align: middle;\n",
       "    }\n",
       "\n",
       "    .dataframe tbody tr th {\n",
       "        vertical-align: top;\n",
       "    }\n",
       "\n",
       "    .dataframe thead th {\n",
       "        text-align: right;\n",
       "    }\n",
       "</style>\n",
       "<table border=\"1\" class=\"dataframe\">\n",
       "  <thead>\n",
       "    <tr style=\"text-align: right;\">\n",
       "      <th></th>\n",
       "      <th>contents</th>\n",
       "      <th>id</th>\n",
       "    </tr>\n",
       "  </thead>\n",
       "  <tbody>\n",
       "  </tbody>\n",
       "</table>\n",
       "</div>"
      ],
      "text/plain": [
       "Empty DataFrame\n",
       "Columns: [contents, id]\n",
       "Index: []"
      ]
     },
     "metadata": {},
     "execution_count": 17
    }
   ],
   "metadata": {}
  },
  {
   "cell_type": "code",
   "execution_count": 18,
   "source": [
    "for i in range(len(c_data)):\r\n",
    "    if \"SH\" in c_data[\"id\"][i][0:2]:\r\n",
    "        sh_data = sh_data.append(c_data.iloc[i])\r\n",
    "\r\n",
    "sh_data.reset_index(drop=True, inplace=True)\r\n",
    "print(\"데이터 개수\",len(sh_data))\r\n",
    "sh_data.head()"
   ],
   "outputs": [
    {
     "output_type": "stream",
     "name": "stdout",
     "text": [
      "데이터 개수 1206\n"
     ]
    },
    {
     "output_type": "execute_result",
     "data": {
      "text/html": [
       "<div>\n",
       "<style scoped>\n",
       "    .dataframe tbody tr th:only-of-type {\n",
       "        vertical-align: middle;\n",
       "    }\n",
       "\n",
       "    .dataframe tbody tr th {\n",
       "        vertical-align: top;\n",
       "    }\n",
       "\n",
       "    .dataframe thead th {\n",
       "        text-align: right;\n",
       "    }\n",
       "</style>\n",
       "<table border=\"1\" class=\"dataframe\">\n",
       "  <thead>\n",
       "    <tr style=\"text-align: right;\">\n",
       "      <th></th>\n",
       "      <th>contents</th>\n",
       "      <th>id</th>\n",
       "    </tr>\n",
       "  </thead>\n",
       "  <tbody>\n",
       "    <tr>\n",
       "      <th>0</th>\n",
       "      <td>남자친구랑 도서관에서 공부하려는데 어울리는 코디보여주세요. 편안함을 주는 실용성 있...</td>\n",
       "      <td>SH-031</td>\n",
       "    </tr>\n",
       "    <tr>\n",
       "      <th>1</th>\n",
       "      <td>남자친구랑 도서관에서 공부하려는데 어울리는 코디보여주세요. 편안함을 주는 실용성 있...</td>\n",
       "      <td>SH-031</td>\n",
       "    </tr>\n",
       "    <tr>\n",
       "      <th>2</th>\n",
       "      <td>친구들이랑 둘레길을 걸으려는데 산책하기 좋은 코디 추천해주세요. 편안하고 활동적인 ...</td>\n",
       "      <td>SH-052</td>\n",
       "    </tr>\n",
       "    <tr>\n",
       "      <th>3</th>\n",
       "      <td>친구들이랑 둘레길을 걸으려는데 산책하기 좋은 코디 추천해주세요. 편안하고 활동적인 ...</td>\n",
       "      <td>SH-052</td>\n",
       "    </tr>\n",
       "    <tr>\n",
       "      <th>4</th>\n",
       "      <td>너무 더워서 밤에 한강에 피서 가려고 하는데 입을만한 시원하고 편한 옷 추천해주세요...</td>\n",
       "      <td>SH-046</td>\n",
       "    </tr>\n",
       "  </tbody>\n",
       "</table>\n",
       "</div>"
      ],
      "text/plain": [
       "                                            contents      id\n",
       "0  남자친구랑 도서관에서 공부하려는데 어울리는 코디보여주세요. 편안함을 주는 실용성 있...  SH-031\n",
       "1  남자친구랑 도서관에서 공부하려는데 어울리는 코디보여주세요. 편안함을 주는 실용성 있...  SH-031\n",
       "2  친구들이랑 둘레길을 걸으려는데 산책하기 좋은 코디 추천해주세요. 편안하고 활동적인 ...  SH-052\n",
       "3  친구들이랑 둘레길을 걸으려는데 산책하기 좋은 코디 추천해주세요. 편안하고 활동적인 ...  SH-052\n",
       "4  너무 더워서 밤에 한강에 피서 가려고 하는데 입을만한 시원하고 편한 옷 추천해주세요...  SH-046"
      ]
     },
     "metadata": {},
     "execution_count": 18
    }
   ],
   "metadata": {}
  },
  {
   "cell_type": "code",
   "execution_count": 19,
   "source": [
    "sh_data[\"contents\"] = sh_data[\"contents\"].str.replace(\"[^A-Za-z0-9ㄱ-ㅎㅏ-ㅣ가-힣 ]\",\"\")\r\n",
    "sh_data.head()"
   ],
   "outputs": [
    {
     "output_type": "stream",
     "name": "stderr",
     "text": [
      "C:\\Users\\nipa008\\AppData\\Local\\Temp/ipykernel_2696/2528227126.py:1: FutureWarning: The default value of regex will change from True to False in a future version.\n",
      "  sh_data[\"contents\"] = sh_data[\"contents\"].str.replace(\"[^A-Za-z0-9ㄱ-ㅎㅏ-ㅣ가-힣 ]\",\"\")\n"
     ]
    },
    {
     "output_type": "execute_result",
     "data": {
      "text/html": [
       "<div>\n",
       "<style scoped>\n",
       "    .dataframe tbody tr th:only-of-type {\n",
       "        vertical-align: middle;\n",
       "    }\n",
       "\n",
       "    .dataframe tbody tr th {\n",
       "        vertical-align: top;\n",
       "    }\n",
       "\n",
       "    .dataframe thead th {\n",
       "        text-align: right;\n",
       "    }\n",
       "</style>\n",
       "<table border=\"1\" class=\"dataframe\">\n",
       "  <thead>\n",
       "    <tr style=\"text-align: right;\">\n",
       "      <th></th>\n",
       "      <th>contents</th>\n",
       "      <th>id</th>\n",
       "    </tr>\n",
       "  </thead>\n",
       "  <tbody>\n",
       "    <tr>\n",
       "      <th>0</th>\n",
       "      <td>남자친구랑 도서관에서 공부하려는데 어울리는 코디보여주세요 편안함을 주는 실용성 있는...</td>\n",
       "      <td>SH-031</td>\n",
       "    </tr>\n",
       "    <tr>\n",
       "      <th>1</th>\n",
       "      <td>남자친구랑 도서관에서 공부하려는데 어울리는 코디보여주세요 편안함을 주는 실용성 있는...</td>\n",
       "      <td>SH-031</td>\n",
       "    </tr>\n",
       "    <tr>\n",
       "      <th>2</th>\n",
       "      <td>친구들이랑 둘레길을 걸으려는데 산책하기 좋은 코디 추천해주세요 편안하고 활동적인 옷...</td>\n",
       "      <td>SH-052</td>\n",
       "    </tr>\n",
       "    <tr>\n",
       "      <th>3</th>\n",
       "      <td>친구들이랑 둘레길을 걸으려는데 산책하기 좋은 코디 추천해주세요 편안하고 활동적인 옷...</td>\n",
       "      <td>SH-052</td>\n",
       "    </tr>\n",
       "    <tr>\n",
       "      <th>4</th>\n",
       "      <td>너무 더워서 밤에 한강에 피서 가려고 하는데 입을만한 시원하고 편한 옷 추천해주세요...</td>\n",
       "      <td>SH-046</td>\n",
       "    </tr>\n",
       "  </tbody>\n",
       "</table>\n",
       "</div>"
      ],
      "text/plain": [
       "                                            contents      id\n",
       "0  남자친구랑 도서관에서 공부하려는데 어울리는 코디보여주세요 편안함을 주는 실용성 있는...  SH-031\n",
       "1  남자친구랑 도서관에서 공부하려는데 어울리는 코디보여주세요 편안함을 주는 실용성 있는...  SH-031\n",
       "2  친구들이랑 둘레길을 걸으려는데 산책하기 좋은 코디 추천해주세요 편안하고 활동적인 옷...  SH-052\n",
       "3  친구들이랑 둘레길을 걸으려는데 산책하기 좋은 코디 추천해주세요 편안하고 활동적인 옷...  SH-052\n",
       "4  너무 더워서 밤에 한강에 피서 가려고 하는데 입을만한 시원하고 편한 옷 추천해주세요...  SH-046"
      ]
     },
     "metadata": {},
     "execution_count": 19
    }
   ],
   "metadata": {}
  },
  {
   "cell_type": "code",
   "execution_count": 20,
   "source": [
    "sh_data[\"id\"] = sh_data[\"id\"].str.replace(\"[^0-9]\",\"\")\r\n",
    "\r\n",
    "sh_data.head()"
   ],
   "outputs": [
    {
     "output_type": "stream",
     "name": "stderr",
     "text": [
      "C:\\Users\\nipa008\\AppData\\Local\\Temp/ipykernel_2696/3119108456.py:1: FutureWarning: The default value of regex will change from True to False in a future version.\n",
      "  sh_data[\"id\"] = sh_data[\"id\"].str.replace(\"[^0-9]\",\"\")\n"
     ]
    },
    {
     "output_type": "execute_result",
     "data": {
      "text/html": [
       "<div>\n",
       "<style scoped>\n",
       "    .dataframe tbody tr th:only-of-type {\n",
       "        vertical-align: middle;\n",
       "    }\n",
       "\n",
       "    .dataframe tbody tr th {\n",
       "        vertical-align: top;\n",
       "    }\n",
       "\n",
       "    .dataframe thead th {\n",
       "        text-align: right;\n",
       "    }\n",
       "</style>\n",
       "<table border=\"1\" class=\"dataframe\">\n",
       "  <thead>\n",
       "    <tr style=\"text-align: right;\">\n",
       "      <th></th>\n",
       "      <th>contents</th>\n",
       "      <th>id</th>\n",
       "    </tr>\n",
       "  </thead>\n",
       "  <tbody>\n",
       "    <tr>\n",
       "      <th>0</th>\n",
       "      <td>남자친구랑 도서관에서 공부하려는데 어울리는 코디보여주세요 편안함을 주는 실용성 있는...</td>\n",
       "      <td>031</td>\n",
       "    </tr>\n",
       "    <tr>\n",
       "      <th>1</th>\n",
       "      <td>남자친구랑 도서관에서 공부하려는데 어울리는 코디보여주세요 편안함을 주는 실용성 있는...</td>\n",
       "      <td>031</td>\n",
       "    </tr>\n",
       "    <tr>\n",
       "      <th>2</th>\n",
       "      <td>친구들이랑 둘레길을 걸으려는데 산책하기 좋은 코디 추천해주세요 편안하고 활동적인 옷...</td>\n",
       "      <td>052</td>\n",
       "    </tr>\n",
       "    <tr>\n",
       "      <th>3</th>\n",
       "      <td>친구들이랑 둘레길을 걸으려는데 산책하기 좋은 코디 추천해주세요 편안하고 활동적인 옷...</td>\n",
       "      <td>052</td>\n",
       "    </tr>\n",
       "    <tr>\n",
       "      <th>4</th>\n",
       "      <td>너무 더워서 밤에 한강에 피서 가려고 하는데 입을만한 시원하고 편한 옷 추천해주세요...</td>\n",
       "      <td>046</td>\n",
       "    </tr>\n",
       "  </tbody>\n",
       "</table>\n",
       "</div>"
      ],
      "text/plain": [
       "                                            contents   id\n",
       "0  남자친구랑 도서관에서 공부하려는데 어울리는 코디보여주세요 편안함을 주는 실용성 있는...  031\n",
       "1  남자친구랑 도서관에서 공부하려는데 어울리는 코디보여주세요 편안함을 주는 실용성 있는...  031\n",
       "2  친구들이랑 둘레길을 걸으려는데 산책하기 좋은 코디 추천해주세요 편안하고 활동적인 옷...  052\n",
       "3  친구들이랑 둘레길을 걸으려는데 산책하기 좋은 코디 추천해주세요 편안하고 활동적인 옷...  052\n",
       "4  너무 더워서 밤에 한강에 피서 가려고 하는데 입을만한 시원하고 편한 옷 추천해주세요...  046"
      ]
     },
     "metadata": {},
     "execution_count": 20
    }
   ],
   "metadata": {}
  },
  {
   "cell_type": "code",
   "execution_count": 21,
   "source": [
    "from collections import Counter\r\n",
    "temp = sh_data[\"id\"].tolist()\r\n",
    "type_count = dict(Counter(temp))\r\n",
    "type_count"
   ],
   "outputs": [
    {
     "output_type": "execute_result",
     "data": {
      "text/plain": [
       "{'031': 9,\n",
       " '052': 8,\n",
       " '046': 17,\n",
       " '042': 30,\n",
       " '004': 69,\n",
       " '011': 40,\n",
       " '036': 18,\n",
       " '028': 17,\n",
       " '013': 26,\n",
       " '022': 33,\n",
       " '029': 13,\n",
       " '037': 16,\n",
       " '050': 4,\n",
       " '001': 54,\n",
       " '002': 7,\n",
       " '024': 15,\n",
       " '017': 1,\n",
       " '035': 10,\n",
       " '020': 18,\n",
       " '032': 3,\n",
       " '009': 37,\n",
       " '048': 14,\n",
       " '025': 23,\n",
       " '033': 8,\n",
       " '005': 41,\n",
       " '038': 13,\n",
       " '019': 16,\n",
       " '003': 10,\n",
       " '049': 7,\n",
       " '008': 17,\n",
       " '051': 20,\n",
       " '043': 5,\n",
       " '018': 4,\n",
       " '026': 6,\n",
       " '041': 4,\n",
       " '010': 11,\n",
       " '047': 1,\n",
       " '034': 1,\n",
       " '045': 9,\n",
       " '023': 5,\n",
       " '012': 2,\n",
       " '015': 5,\n",
       " '076': 11,\n",
       " '077': 11,\n",
       " '073': 20,\n",
       " '113': 13,\n",
       " '085': 8,\n",
       " '059': 20,\n",
       " '084': 19,\n",
       " '014': 1,\n",
       " '122': 3,\n",
       " '096': 19,\n",
       " '066': 18,\n",
       " '108': 9,\n",
       " '109': 6,\n",
       " '097': 5,\n",
       " '092': 6,\n",
       " '062': 11,\n",
       " '100': 7,\n",
       " '061': 21,\n",
       " '107': 8,\n",
       " '103': 1,\n",
       " '114': 13,\n",
       " '117': 26,\n",
       " '060': 7,\n",
       " '110': 6,\n",
       " '075': 10,\n",
       " '091': 3,\n",
       " '058': 5,\n",
       " '112': 27,\n",
       " '094': 2,\n",
       " '027': 2,\n",
       " '074': 18,\n",
       " '055': 28,\n",
       " '057': 13,\n",
       " '111': 8,\n",
       " '090': 8,\n",
       " '021': 2,\n",
       " '054': 5,\n",
       " '065': 6,\n",
       " '056': 4,\n",
       " '115': 5,\n",
       " '101': 4,\n",
       " '053': 10,\n",
       " '016': 2,\n",
       " '086': 5,\n",
       " '120': 8,\n",
       " '119': 8,\n",
       " '067': 7,\n",
       " '099': 2,\n",
       " '121': 3,\n",
       " '072': 2,\n",
       " '088': 3,\n",
       " '078': 7,\n",
       " '104': 3,\n",
       " '098': 4,\n",
       " '123': 2,\n",
       " '129': 3,\n",
       " '116': 4,\n",
       " '079': 4,\n",
       " '105': 2,\n",
       " '089': 10,\n",
       " '083': 7,\n",
       " '082': 1,\n",
       " '063': 2,\n",
       " '070': 6,\n",
       " '007': 1,\n",
       " '126': 1,\n",
       " '087': 1,\n",
       " '106': 2,\n",
       " '069': 3,\n",
       " '080': 1,\n",
       " '124': 3,\n",
       " '071': 1,\n",
       " '095': 2}"
      ]
     },
     "metadata": {},
     "execution_count": 21
    }
   ],
   "metadata": {}
  },
  {
   "cell_type": "code",
   "execution_count": 22,
   "source": [
    "len(type_count)"
   ],
   "outputs": [
    {
     "output_type": "execute_result",
     "data": {
      "text/plain": [
       "115"
      ]
     },
     "metadata": {},
     "execution_count": 22
    }
   ],
   "metadata": {}
  },
  {
   "cell_type": "code",
   "execution_count": 23,
   "source": [
    "del_list = []\r\n",
    "for i in type_count.keys():\r\n",
    "    if type_count.get(i) == 1:\r\n",
    "        del_list.append(i)\r\n",
    "del_list"
   ],
   "outputs": [
    {
     "output_type": "execute_result",
     "data": {
      "text/plain": [
       "['017', '047', '034', '014', '103', '082', '007', '126', '087', '080', '071']"
      ]
     },
     "metadata": {},
     "execution_count": 23
    }
   ],
   "metadata": {}
  },
  {
   "cell_type": "code",
   "execution_count": 24,
   "source": [
    "sh_data.head()"
   ],
   "outputs": [
    {
     "output_type": "execute_result",
     "data": {
      "text/html": [
       "<div>\n",
       "<style scoped>\n",
       "    .dataframe tbody tr th:only-of-type {\n",
       "        vertical-align: middle;\n",
       "    }\n",
       "\n",
       "    .dataframe tbody tr th {\n",
       "        vertical-align: top;\n",
       "    }\n",
       "\n",
       "    .dataframe thead th {\n",
       "        text-align: right;\n",
       "    }\n",
       "</style>\n",
       "<table border=\"1\" class=\"dataframe\">\n",
       "  <thead>\n",
       "    <tr style=\"text-align: right;\">\n",
       "      <th></th>\n",
       "      <th>contents</th>\n",
       "      <th>id</th>\n",
       "    </tr>\n",
       "  </thead>\n",
       "  <tbody>\n",
       "    <tr>\n",
       "      <th>0</th>\n",
       "      <td>남자친구랑 도서관에서 공부하려는데 어울리는 코디보여주세요 편안함을 주는 실용성 있는...</td>\n",
       "      <td>031</td>\n",
       "    </tr>\n",
       "    <tr>\n",
       "      <th>1</th>\n",
       "      <td>남자친구랑 도서관에서 공부하려는데 어울리는 코디보여주세요 편안함을 주는 실용성 있는...</td>\n",
       "      <td>031</td>\n",
       "    </tr>\n",
       "    <tr>\n",
       "      <th>2</th>\n",
       "      <td>친구들이랑 둘레길을 걸으려는데 산책하기 좋은 코디 추천해주세요 편안하고 활동적인 옷...</td>\n",
       "      <td>052</td>\n",
       "    </tr>\n",
       "    <tr>\n",
       "      <th>3</th>\n",
       "      <td>친구들이랑 둘레길을 걸으려는데 산책하기 좋은 코디 추천해주세요 편안하고 활동적인 옷...</td>\n",
       "      <td>052</td>\n",
       "    </tr>\n",
       "    <tr>\n",
       "      <th>4</th>\n",
       "      <td>너무 더워서 밤에 한강에 피서 가려고 하는데 입을만한 시원하고 편한 옷 추천해주세요...</td>\n",
       "      <td>046</td>\n",
       "    </tr>\n",
       "  </tbody>\n",
       "</table>\n",
       "</div>"
      ],
      "text/plain": [
       "                                            contents   id\n",
       "0  남자친구랑 도서관에서 공부하려는데 어울리는 코디보여주세요 편안함을 주는 실용성 있는...  031\n",
       "1  남자친구랑 도서관에서 공부하려는데 어울리는 코디보여주세요 편안함을 주는 실용성 있는...  031\n",
       "2  친구들이랑 둘레길을 걸으려는데 산책하기 좋은 코디 추천해주세요 편안하고 활동적인 옷...  052\n",
       "3  친구들이랑 둘레길을 걸으려는데 산책하기 좋은 코디 추천해주세요 편안하고 활동적인 옷...  052\n",
       "4  너무 더워서 밤에 한강에 피서 가려고 하는데 입을만한 시원하고 편한 옷 추천해주세요...  046"
      ]
     },
     "metadata": {},
     "execution_count": 24
    }
   ],
   "metadata": {}
  },
  {
   "cell_type": "code",
   "execution_count": 25,
   "source": [
    "for i in del_list:\r\n",
    "    sh_data = sh_data[sh_data[\"id\"] != i]"
   ],
   "outputs": [],
   "metadata": {}
  },
  {
   "cell_type": "code",
   "execution_count": 26,
   "source": [
    "len(sh_data)"
   ],
   "outputs": [
    {
     "output_type": "execute_result",
     "data": {
      "text/plain": [
       "1195"
      ]
     },
     "metadata": {},
     "execution_count": 26
    }
   ],
   "metadata": {}
  },
  {
   "cell_type": "code",
   "execution_count": 27,
   "source": [
    "sh_data.reset_index(drop=True, inplace=True)"
   ],
   "outputs": [],
   "metadata": {}
  },
  {
   "cell_type": "code",
   "execution_count": 28,
   "source": [
    "import matplotlib.pyplot as plt\r\n",
    "plt.bar(Counter(sh_data.id).keys(),Counter(sh_data.id).values(), color='k')"
   ],
   "outputs": [
    {
     "output_type": "execute_result",
     "data": {
      "text/plain": [
       "<BarContainer object of 104 artists>"
      ]
     },
     "metadata": {},
     "execution_count": 28
    },
    {
     "output_type": "display_data",
     "data": {
      "image/png": "[encoded data removed]",
      "text/plain": [
       "<Figure size 432x288 with 1 Axes>"
      ]
     },
     "metadata": {
      "needs_background": "light"
     }
    }
   ],
   "metadata": {}
  },
  {
   "cell_type": "markdown",
   "source": [
    "# 5. 형태소 분석"
   ],
   "metadata": {}
  },
  {
   "cell_type": "markdown",
   "source": [
    "## Mecab 사용"
   ],
   "metadata": {}
  },
  {
   "cell_type": "code",
   "execution_count": 29,
   "source": [
    "from eunjeon import Mecab\r\n",
    "mecab = Mecab()"
   ],
   "outputs": [],
   "metadata": {}
  },
  {
   "cell_type": "code",
   "execution_count": 30,
   "source": [
    "mecab.morphs(sh_data[\"contents\"][0])"
   ],
   "outputs": [
    {
     "output_type": "execute_result",
     "data": {
      "text/plain": [
       "['남자',\n",
       " '친구',\n",
       " '랑',\n",
       " '도서관',\n",
       " '에서',\n",
       " '공부',\n",
       " '하',\n",
       " '려는',\n",
       " '데',\n",
       " '어울리',\n",
       " '는',\n",
       " '코디',\n",
       " '보여',\n",
       " '주',\n",
       " '세요',\n",
       " '편안',\n",
       " '함',\n",
       " '을',\n",
       " '주',\n",
       " '는',\n",
       " '실용',\n",
       " '성',\n",
       " '있',\n",
       " '는',\n",
       " '바지',\n",
       " '에',\n",
       " '남자',\n",
       " '친구',\n",
       " '에게',\n",
       " '보여도',\n",
       " '아쉽',\n",
       " '지',\n",
       " '않',\n",
       " '을',\n",
       " '자켓',\n",
       " '패션',\n",
       " '으로',\n",
       " '코디',\n",
       " '해',\n",
       " '보',\n",
       " '았',\n",
       " '습니다',\n",
       " '마음',\n",
       " '에',\n",
       " '드',\n",
       " '시',\n",
       " '나요',\n",
       " 'JK',\n",
       " '047',\n",
       " 'SH',\n",
       " '030',\n",
       " 'PT',\n",
       " '082',\n",
       " 'SE',\n",
       " '047',\n",
       " '도서관',\n",
       " '에서',\n",
       " '오프',\n",
       " '숄더',\n",
       " '는',\n",
       " '아니',\n",
       " '지',\n",
       " '않',\n",
       " '나요',\n",
       " '신발',\n",
       " '도',\n",
       " '이상',\n",
       " '해요',\n",
       " '전체',\n",
       " '코디',\n",
       " '다시',\n",
       " '해',\n",
       " '주',\n",
       " '세요',\n",
       " '그렇',\n",
       " '다면',\n",
       " '좀',\n",
       " '더',\n",
       " '학생',\n",
       " '에게',\n",
       " '잘',\n",
       " '어울릴',\n",
       " '만',\n",
       " '한',\n",
       " '코디',\n",
       " '로',\n",
       " '제안',\n",
       " '해',\n",
       " '드릴게요',\n",
       " '캐주얼',\n",
       " '하',\n",
       " '면서',\n",
       " '도',\n",
       " '시원',\n",
       " '한',\n",
       " '느낌',\n",
       " '의',\n",
       " '바지',\n",
       " '로',\n",
       " '여름',\n",
       " '분위기',\n",
       " '를',\n",
       " '물씬',\n",
       " '낼',\n",
       " '수',\n",
       " '있',\n",
       " '답니다',\n",
       " '외투',\n",
       " '랑',\n",
       " '신발',\n",
       " '빼',\n",
       " '고',\n",
       " '셔츠',\n",
       " '에',\n",
       " '입',\n",
       " '을',\n",
       " '바',\n",
       " '지만',\n",
       " '코디',\n",
       " '해',\n",
       " '주',\n",
       " '세요',\n",
       " '셔츠',\n",
       " '는',\n",
       " '마음',\n",
       " '에',\n",
       " '드',\n",
       " '시',\n",
       " '나요',\n",
       " '그러면',\n",
       " '바지',\n",
       " '를',\n",
       " '다른',\n",
       " '걸로',\n",
       " '제안',\n",
       " '해',\n",
       " '드리',\n",
       " '면',\n",
       " '될까요',\n",
       " '네',\n",
       " '알',\n",
       " '겠',\n",
       " '습니다',\n",
       " '잠시',\n",
       " '만',\n",
       " '기다려',\n",
       " '주',\n",
       " '세요',\n",
       " '고객',\n",
       " '님',\n",
       " '께서',\n",
       " '는',\n",
       " '마른',\n",
       " '체형',\n",
       " '이',\n",
       " '시',\n",
       " '니까',\n",
       " '이런',\n",
       " '짧',\n",
       " '은',\n",
       " '반바지',\n",
       " '가',\n",
       " '잘',\n",
       " '어울리',\n",
       " '실',\n",
       " '것',\n",
       " '같',\n",
       " '아요',\n",
       " '이',\n",
       " '바지',\n",
       " '에',\n",
       " '어울리',\n",
       " '는',\n",
       " '셔츠',\n",
       " '가',\n",
       " '어떤',\n",
       " '게',\n",
       " '있',\n",
       " '나요',\n",
       " '체크무늬',\n",
       " '셔츠',\n",
       " '요',\n",
       " '보색',\n",
       " '을',\n",
       " '줘서',\n",
       " '하의',\n",
       " '는',\n",
       " '밝',\n",
       " '은',\n",
       " '것',\n",
       " '으로',\n",
       " '상의',\n",
       " '는',\n",
       " '어두운',\n",
       " '계열',\n",
       " '로',\n",
       " '코디',\n",
       " '하',\n",
       " '셔도',\n",
       " '좋',\n",
       " '을',\n",
       " '것',\n",
       " '같',\n",
       " '아요',\n",
       " '어떠신가요',\n",
       " 'VT',\n",
       " '009',\n",
       " 'SH',\n",
       " '037',\n",
       " 'PT',\n",
       " '059',\n",
       " 'SE',\n",
       " '014',\n",
       " 'PT',\n",
       " '065',\n",
       " 'SH',\n",
       " '024',\n",
       " '팔',\n",
       " '이',\n",
       " '맘',\n",
       " '에',\n",
       " '들',\n",
       " '지',\n",
       " '않',\n",
       " '아요',\n",
       " '다른',\n",
       " '건',\n",
       " '없',\n",
       " '나요',\n",
       " '그렇',\n",
       " '다면',\n",
       " '붉',\n",
       " '은',\n",
       " '계열',\n",
       " '로',\n",
       " '코디',\n",
       " '하',\n",
       " '셔서',\n",
       " '모던',\n",
       " '함',\n",
       " '을',\n",
       " '보이',\n",
       " '는',\n",
       " '것',\n",
       " '도',\n",
       " '좋',\n",
       " '을',\n",
       " '것',\n",
       " '같',\n",
       " '아요',\n",
       " 'SH',\n",
       " '031',\n",
       " '이게',\n",
       " '낫',\n",
       " '네요',\n",
       " '아까',\n",
       " '바지',\n",
       " '랑',\n",
       " '코디',\n",
       " '한',\n",
       " '사진',\n",
       " '볼',\n",
       " '수',\n",
       " '있',\n",
       " '을까요',\n",
       " '라운드',\n",
       " '차이',\n",
       " '나',\n",
       " '칼라',\n",
       " '앞',\n",
       " '여',\n",
       " '밈',\n",
       " '으로',\n",
       " '전체',\n",
       " '오픈',\n",
       " '형',\n",
       " '으로',\n",
       " '단추',\n",
       " '가',\n",
       " '있',\n",
       " '음',\n",
       " '드롭',\n",
       " '슬리브',\n",
       " '일자',\n",
       " '형',\n",
       " '의',\n",
       " '넉넉',\n",
       " '한',\n",
       " '소매',\n",
       " '박스',\n",
       " '형',\n",
       " '실루엣',\n",
       " '으로',\n",
       " '품',\n",
       " '이',\n",
       " '넉넉',\n",
       " '함',\n",
       " '앞뒤',\n",
       " '길',\n",
       " '이',\n",
       " '차이',\n",
       " '가',\n",
       " '없',\n",
       " '고',\n",
       " '엉덩이',\n",
       " '를',\n",
       " '덮',\n",
       " '는',\n",
       " '길',\n",
       " '이',\n",
       " '마이',\n",
       " '다대',\n",
       " '가',\n",
       " '옆',\n",
       " '쪽',\n",
       " '으로',\n",
       " '가',\n",
       " '있',\n",
       " '음',\n",
       " '뒤쪽',\n",
       " '에',\n",
       " '라운드',\n",
       " '형',\n",
       " '요크',\n",
       " '링',\n",
       " '클',\n",
       " '소재',\n",
       " '로',\n",
       " '내추럴',\n",
       " '함',\n",
       " '가슴',\n",
       " '에',\n",
       " '덧',\n",
       " '댐',\n",
       " '스타일',\n",
       " '의',\n",
       " '일자',\n",
       " '형',\n",
       " '포켓',\n",
       " '면',\n",
       " '100',\n",
       " '플레인',\n",
       " '조직',\n",
       " '손세탁',\n",
       " '권장',\n",
       " '신축',\n",
       " '성',\n",
       " '없',\n",
       " '음',\n",
       " '비침',\n",
       " '없',\n",
       " '음',\n",
       " '두께',\n",
       " '감',\n",
       " '얇',\n",
       " '음',\n",
       " '브라운',\n",
       " '바탕',\n",
       " '의',\n",
       " '화이트',\n",
       " '인디고',\n",
       " '의',\n",
       " '잔잔',\n",
       " '한',\n",
       " '체크',\n",
       " '배색',\n",
       " '모던',\n",
       " '한',\n",
       " '칼라',\n",
       " '캐주얼',\n",
       " '한',\n",
       " '내추럴',\n",
       " '한',\n",
       " '명랑',\n",
       " '한',\n",
       " '활동',\n",
       " '적',\n",
       " '인',\n",
       " '편안',\n",
       " '한',\n",
       " '깔끔',\n",
       " '한']"
      ]
     },
     "metadata": {},
     "execution_count": 30
    }
   ],
   "metadata": {}
  },
  {
   "cell_type": "code",
   "execution_count": 31,
   "source": [
    "len(sh_data)"
   ],
   "outputs": [
    {
     "output_type": "execute_result",
     "data": {
      "text/plain": [
       "1195"
      ]
     },
     "metadata": {},
     "execution_count": 31
    }
   ],
   "metadata": {}
  },
  {
   "cell_type": "code",
   "execution_count": 32,
   "source": [
    "x_data = []\r\n",
    "for i in range(len(sh_data)):\r\n",
    "    x_data.append(mecab.morphs(sh_data[\"contents\"][i]))\r\n",
    "\r\n",
    "x_data[0]"
   ],
   "outputs": [
    {
     "output_type": "execute_result",
     "data": {
      "text/plain": [
       "['남자',\n",
       " '친구',\n",
       " '랑',\n",
       " '도서관',\n",
       " '에서',\n",
       " '공부',\n",
       " '하',\n",
       " '려는',\n",
       " '데',\n",
       " '어울리',\n",
       " '는',\n",
       " '코디',\n",
       " '보여',\n",
       " '주',\n",
       " '세요',\n",
       " '편안',\n",
       " '함',\n",
       " '을',\n",
       " '주',\n",
       " '는',\n",
       " '실용',\n",
       " '성',\n",
       " '있',\n",
       " '는',\n",
       " '바지',\n",
       " '에',\n",
       " '남자',\n",
       " '친구',\n",
       " '에게',\n",
       " '보여도',\n",
       " '아쉽',\n",
       " '지',\n",
       " '않',\n",
       " '을',\n",
       " '자켓',\n",
       " '패션',\n",
       " '으로',\n",
       " '코디',\n",
       " '해',\n",
       " '보',\n",
       " '았',\n",
       " '습니다',\n",
       " '마음',\n",
       " '에',\n",
       " '드',\n",
       " '시',\n",
       " '나요',\n",
       " 'JK',\n",
       " '047',\n",
       " 'SH',\n",
       " '030',\n",
       " 'PT',\n",
       " '082',\n",
       " 'SE',\n",
       " '047',\n",
       " '도서관',\n",
       " '에서',\n",
       " '오프',\n",
       " '숄더',\n",
       " '는',\n",
       " '아니',\n",
       " '지',\n",
       " '않',\n",
       " '나요',\n",
       " '신발',\n",
       " '도',\n",
       " '이상',\n",
       " '해요',\n",
       " '전체',\n",
       " '코디',\n",
       " '다시',\n",
       " '해',\n",
       " '주',\n",
       " '세요',\n",
       " '그렇',\n",
       " '다면',\n",
       " '좀',\n",
       " '더',\n",
       " '학생',\n",
       " '에게',\n",
       " '잘',\n",
       " '어울릴',\n",
       " '만',\n",
       " '한',\n",
       " '코디',\n",
       " '로',\n",
       " '제안',\n",
       " '해',\n",
       " '드릴게요',\n",
       " '캐주얼',\n",
       " '하',\n",
       " '면서',\n",
       " '도',\n",
       " '시원',\n",
       " '한',\n",
       " '느낌',\n",
       " '의',\n",
       " '바지',\n",
       " '로',\n",
       " '여름',\n",
       " '분위기',\n",
       " '를',\n",
       " '물씬',\n",
       " '낼',\n",
       " '수',\n",
       " '있',\n",
       " '답니다',\n",
       " '외투',\n",
       " '랑',\n",
       " '신발',\n",
       " '빼',\n",
       " '고',\n",
       " '셔츠',\n",
       " '에',\n",
       " '입',\n",
       " '을',\n",
       " '바',\n",
       " '지만',\n",
       " '코디',\n",
       " '해',\n",
       " '주',\n",
       " '세요',\n",
       " '셔츠',\n",
       " '는',\n",
       " '마음',\n",
       " '에',\n",
       " '드',\n",
       " '시',\n",
       " '나요',\n",
       " '그러면',\n",
       " '바지',\n",
       " '를',\n",
       " '다른',\n",
       " '걸로',\n",
       " '제안',\n",
       " '해',\n",
       " '드리',\n",
       " '면',\n",
       " '될까요',\n",
       " '네',\n",
       " '알',\n",
       " '겠',\n",
       " '습니다',\n",
       " '잠시',\n",
       " '만',\n",
       " '기다려',\n",
       " '주',\n",
       " '세요',\n",
       " '고객',\n",
       " '님',\n",
       " '께서',\n",
       " '는',\n",
       " '마른',\n",
       " '체형',\n",
       " '이',\n",
       " '시',\n",
       " '니까',\n",
       " '이런',\n",
       " '짧',\n",
       " '은',\n",
       " '반바지',\n",
       " '가',\n",
       " '잘',\n",
       " '어울리',\n",
       " '실',\n",
       " '것',\n",
       " '같',\n",
       " '아요',\n",
       " '이',\n",
       " '바지',\n",
       " '에',\n",
       " '어울리',\n",
       " '는',\n",
       " '셔츠',\n",
       " '가',\n",
       " '어떤',\n",
       " '게',\n",
       " '있',\n",
       " '나요',\n",
       " '체크무늬',\n",
       " '셔츠',\n",
       " '요',\n",
       " '보색',\n",
       " '을',\n",
       " '줘서',\n",
       " '하의',\n",
       " '는',\n",
       " '밝',\n",
       " '은',\n",
       " '것',\n",
       " '으로',\n",
       " '상의',\n",
       " '는',\n",
       " '어두운',\n",
       " '계열',\n",
       " '로',\n",
       " '코디',\n",
       " '하',\n",
       " '셔도',\n",
       " '좋',\n",
       " '을',\n",
       " '것',\n",
       " '같',\n",
       " '아요',\n",
       " '어떠신가요',\n",
       " 'VT',\n",
       " '009',\n",
       " 'SH',\n",
       " '037',\n",
       " 'PT',\n",
       " '059',\n",
       " 'SE',\n",
       " '014',\n",
       " 'PT',\n",
       " '065',\n",
       " 'SH',\n",
       " '024',\n",
       " '팔',\n",
       " '이',\n",
       " '맘',\n",
       " '에',\n",
       " '들',\n",
       " '지',\n",
       " '않',\n",
       " '아요',\n",
       " '다른',\n",
       " '건',\n",
       " '없',\n",
       " '나요',\n",
       " '그렇',\n",
       " '다면',\n",
       " '붉',\n",
       " '은',\n",
       " '계열',\n",
       " '로',\n",
       " '코디',\n",
       " '하',\n",
       " '셔서',\n",
       " '모던',\n",
       " '함',\n",
       " '을',\n",
       " '보이',\n",
       " '는',\n",
       " '것',\n",
       " '도',\n",
       " '좋',\n",
       " '을',\n",
       " '것',\n",
       " '같',\n",
       " '아요',\n",
       " 'SH',\n",
       " '031',\n",
       " '이게',\n",
       " '낫',\n",
       " '네요',\n",
       " '아까',\n",
       " '바지',\n",
       " '랑',\n",
       " '코디',\n",
       " '한',\n",
       " '사진',\n",
       " '볼',\n",
       " '수',\n",
       " '있',\n",
       " '을까요',\n",
       " '라운드',\n",
       " '차이',\n",
       " '나',\n",
       " '칼라',\n",
       " '앞',\n",
       " '여',\n",
       " '밈',\n",
       " '으로',\n",
       " '전체',\n",
       " '오픈',\n",
       " '형',\n",
       " '으로',\n",
       " '단추',\n",
       " '가',\n",
       " '있',\n",
       " '음',\n",
       " '드롭',\n",
       " '슬리브',\n",
       " '일자',\n",
       " '형',\n",
       " '의',\n",
       " '넉넉',\n",
       " '한',\n",
       " '소매',\n",
       " '박스',\n",
       " '형',\n",
       " '실루엣',\n",
       " '으로',\n",
       " '품',\n",
       " '이',\n",
       " '넉넉',\n",
       " '함',\n",
       " '앞뒤',\n",
       " '길',\n",
       " '이',\n",
       " '차이',\n",
       " '가',\n",
       " '없',\n",
       " '고',\n",
       " '엉덩이',\n",
       " '를',\n",
       " '덮',\n",
       " '는',\n",
       " '길',\n",
       " '이',\n",
       " '마이',\n",
       " '다대',\n",
       " '가',\n",
       " '옆',\n",
       " '쪽',\n",
       " '으로',\n",
       " '가',\n",
       " '있',\n",
       " '음',\n",
       " '뒤쪽',\n",
       " '에',\n",
       " '라운드',\n",
       " '형',\n",
       " '요크',\n",
       " '링',\n",
       " '클',\n",
       " '소재',\n",
       " '로',\n",
       " '내추럴',\n",
       " '함',\n",
       " '가슴',\n",
       " '에',\n",
       " '덧',\n",
       " '댐',\n",
       " '스타일',\n",
       " '의',\n",
       " '일자',\n",
       " '형',\n",
       " '포켓',\n",
       " '면',\n",
       " '100',\n",
       " '플레인',\n",
       " '조직',\n",
       " '손세탁',\n",
       " '권장',\n",
       " '신축',\n",
       " '성',\n",
       " '없',\n",
       " '음',\n",
       " '비침',\n",
       " '없',\n",
       " '음',\n",
       " '두께',\n",
       " '감',\n",
       " '얇',\n",
       " '음',\n",
       " '브라운',\n",
       " '바탕',\n",
       " '의',\n",
       " '화이트',\n",
       " '인디고',\n",
       " '의',\n",
       " '잔잔',\n",
       " '한',\n",
       " '체크',\n",
       " '배색',\n",
       " '모던',\n",
       " '한',\n",
       " '칼라',\n",
       " '캐주얼',\n",
       " '한',\n",
       " '내추럴',\n",
       " '한',\n",
       " '명랑',\n",
       " '한',\n",
       " '활동',\n",
       " '적',\n",
       " '인',\n",
       " '편안',\n",
       " '한',\n",
       " '깔끔',\n",
       " '한']"
      ]
     },
     "metadata": {},
     "execution_count": 32
    }
   ],
   "metadata": {}
  },
  {
   "cell_type": "code",
   "execution_count": 33,
   "source": [
    "stopwords = []\r\n",
    "with open('./data/불용어사전.txt', mode='rt', encoding='utf-8') as f:\r\n",
    "    for word in f.readlines():\r\n",
    "        word = word.strip()\r\n",
    "        stopwords.append(word)\r\n",
    "stopwords[0:2]"
   ],
   "outputs": [
    {
     "output_type": "execute_result",
     "data": {
      "text/plain": [
       "['어찌됐든', '그위에']"
      ]
     },
     "metadata": {},
     "execution_count": 33
    }
   ],
   "metadata": {}
  },
  {
   "cell_type": "code",
   "execution_count": 34,
   "source": [
    "X_data = []\r\n",
    "for sentence in x_data: #문장 하나 가져오고 단어 단위로 쪼개기\r\n",
    "    temp_X = [word for word in sentence if not word in stopwords] # 불용어 제거\r\n",
    "    X_data.append(temp_X)\r\n",
    "X_data[0]"
   ],
   "outputs": [
    {
     "output_type": "execute_result",
     "data": {
      "text/plain": [
       "['남자',\n",
       " '친구',\n",
       " '랑',\n",
       " '도서관',\n",
       " '공부',\n",
       " '려는',\n",
       " '데',\n",
       " '어울리',\n",
       " '코디',\n",
       " '보여',\n",
       " '주',\n",
       " '세요',\n",
       " '편안',\n",
       " '함',\n",
       " '주',\n",
       " '실용',\n",
       " '성',\n",
       " '있',\n",
       " '바지',\n",
       " '남자',\n",
       " '친구',\n",
       " '보여도',\n",
       " '아쉽',\n",
       " '지',\n",
       " '않',\n",
       " '자켓',\n",
       " '패션',\n",
       " '코디',\n",
       " '보',\n",
       " '았',\n",
       " '마음',\n",
       " '시',\n",
       " '나요',\n",
       " 'JK',\n",
       " '047',\n",
       " 'SH',\n",
       " '030',\n",
       " 'PT',\n",
       " '082',\n",
       " 'SE',\n",
       " '047',\n",
       " '도서관',\n",
       " '오프',\n",
       " '숄더',\n",
       " '아니',\n",
       " '지',\n",
       " '않',\n",
       " '나요',\n",
       " '신발',\n",
       " '도',\n",
       " '전체',\n",
       " '코디',\n",
       " '다시',\n",
       " '주',\n",
       " '세요',\n",
       " '그렇',\n",
       " '다면',\n",
       " '더',\n",
       " '학생',\n",
       " '잘',\n",
       " '어울릴',\n",
       " '만',\n",
       " '코디',\n",
       " '제안',\n",
       " '드릴게요',\n",
       " '캐주얼',\n",
       " '면서',\n",
       " '도',\n",
       " '시원',\n",
       " '느낌',\n",
       " '바지',\n",
       " '여름',\n",
       " '분위기',\n",
       " '물씬',\n",
       " '낼',\n",
       " '수',\n",
       " '있',\n",
       " '답니다',\n",
       " '외투',\n",
       " '랑',\n",
       " '신발',\n",
       " '빼',\n",
       " '고',\n",
       " '셔츠',\n",
       " '입',\n",
       " '바',\n",
       " '코디',\n",
       " '주',\n",
       " '세요',\n",
       " '셔츠',\n",
       " '마음',\n",
       " '시',\n",
       " '나요',\n",
       " '바지',\n",
       " '걸로',\n",
       " '제안',\n",
       " '드리',\n",
       " '면',\n",
       " '될까요',\n",
       " '알',\n",
       " '겠',\n",
       " '만',\n",
       " '기다려',\n",
       " '주',\n",
       " '세요',\n",
       " '고객',\n",
       " '님',\n",
       " '께서',\n",
       " '마른',\n",
       " '체형',\n",
       " '시',\n",
       " '니까',\n",
       " '짧',\n",
       " '반바지',\n",
       " '잘',\n",
       " '어울리',\n",
       " '실',\n",
       " '같',\n",
       " '아요',\n",
       " '바지',\n",
       " '어울리',\n",
       " '셔츠',\n",
       " '게',\n",
       " '있',\n",
       " '나요',\n",
       " '체크무늬',\n",
       " '셔츠',\n",
       " '보색',\n",
       " '줘서',\n",
       " '하의',\n",
       " '밝',\n",
       " '상의',\n",
       " '어두운',\n",
       " '계열',\n",
       " '코디',\n",
       " '셔도',\n",
       " '좋',\n",
       " '같',\n",
       " '아요',\n",
       " '어떠신가요',\n",
       " 'VT',\n",
       " '009',\n",
       " 'SH',\n",
       " '037',\n",
       " 'PT',\n",
       " '059',\n",
       " 'SE',\n",
       " '014',\n",
       " 'PT',\n",
       " '065',\n",
       " 'SH',\n",
       " '024',\n",
       " '팔',\n",
       " '맘',\n",
       " '지',\n",
       " '않',\n",
       " '아요',\n",
       " '건',\n",
       " '나요',\n",
       " '그렇',\n",
       " '다면',\n",
       " '붉',\n",
       " '계열',\n",
       " '코디',\n",
       " '셔서',\n",
       " '모던',\n",
       " '함',\n",
       " '보이',\n",
       " '도',\n",
       " '좋',\n",
       " '같',\n",
       " '아요',\n",
       " 'SH',\n",
       " '031',\n",
       " '이게',\n",
       " '낫',\n",
       " '네요',\n",
       " '아까',\n",
       " '바지',\n",
       " '랑',\n",
       " '코디',\n",
       " '사진',\n",
       " '볼',\n",
       " '수',\n",
       " '있',\n",
       " '을까요',\n",
       " '라운드',\n",
       " '차이',\n",
       " '칼라',\n",
       " '앞',\n",
       " '밈',\n",
       " '전체',\n",
       " '오픈',\n",
       " '형',\n",
       " '단추',\n",
       " '있',\n",
       " '드롭',\n",
       " '슬리브',\n",
       " '일자',\n",
       " '형',\n",
       " '넉넉',\n",
       " '박스',\n",
       " '형',\n",
       " '실루엣',\n",
       " '품',\n",
       " '넉넉',\n",
       " '함',\n",
       " '앞뒤',\n",
       " '길',\n",
       " '차이',\n",
       " '고',\n",
       " '엉덩이',\n",
       " '덮',\n",
       " '길',\n",
       " '마이',\n",
       " '다대',\n",
       " '옆',\n",
       " '쪽',\n",
       " '있',\n",
       " '뒤쪽',\n",
       " '라운드',\n",
       " '형',\n",
       " '요크',\n",
       " '링',\n",
       " '클',\n",
       " '소재',\n",
       " '내추럴',\n",
       " '함',\n",
       " '가슴',\n",
       " '덧',\n",
       " '댐',\n",
       " '스타일',\n",
       " '일자',\n",
       " '형',\n",
       " '포켓',\n",
       " '면',\n",
       " '100',\n",
       " '플레인',\n",
       " '조직',\n",
       " '손세탁',\n",
       " '권장',\n",
       " '신축',\n",
       " '성',\n",
       " '비침',\n",
       " '두께',\n",
       " '감',\n",
       " '얇',\n",
       " '브라운',\n",
       " '바탕',\n",
       " '화이트',\n",
       " '인디고',\n",
       " '잔잔',\n",
       " '체크',\n",
       " '배색',\n",
       " '모던',\n",
       " '칼라',\n",
       " '캐주얼',\n",
       " '내추럴',\n",
       " '명랑',\n",
       " '활동',\n",
       " '적',\n",
       " '인',\n",
       " '편안',\n",
       " '깔끔']"
      ]
     },
     "metadata": {},
     "execution_count": 34
    }
   ],
   "metadata": {}
  },
  {
   "cell_type": "markdown",
   "source": [
    "## 1. 임베딩 레이어 활용"
   ],
   "metadata": {}
  },
  {
   "cell_type": "markdown",
   "source": [
    "### 정수 인코딩"
   ],
   "metadata": {}
  },
  {
   "cell_type": "code",
   "execution_count": 35,
   "source": [
    "from tensorflow.keras.preprocessing.text import Tokenizer\r\n",
    "tokenizer = Tokenizer()\r\n",
    "tokenizer.fit_on_texts(X_data)"
   ],
   "outputs": [],
   "metadata": {}
  },
  {
   "cell_type": "code",
   "execution_count": 36,
   "source": [
    "threshold = 6\r\n",
    "total_cnt = len(tokenizer.word_index) # 단어의 수\r\n",
    "rare_cnt = 0 # 등장 빈도수가 threshold보다 작은 단어의 개수를 카운트\r\n",
    "total_freq = 0 # 훈련 데이터의 전체 단어 빈도수 총 합\r\n",
    "rare_freq = 0 # 등장 빈도수가 threshold보다 작은 단어의 등장 빈도수의 총 합\r\n",
    "\r\n",
    "# 단어와 빈도수의 쌍(pair)을 key와 value로 받는다.\r\n",
    "for key, value in tokenizer.word_counts.items():\r\n",
    "    total_freq = total_freq + value\r\n",
    "\r\n",
    "    # 단어의 등장 빈도수가 threshold보다 작으면\r\n",
    "    if(value < threshold):\r\n",
    "        rare_cnt = rare_cnt + 1\r\n",
    "        rare_freq = rare_freq + value\r\n",
    "\r\n",
    "print('단어 집합(vocabulary)의 크기 :',total_cnt)\r\n",
    "print('등장 빈도가 %s번 이하인 희귀 단어의 수: %s'%(threshold - 1, rare_cnt))\r\n",
    "print(\"단어 집합에서 희귀 단어의 비율:\", (rare_cnt / total_cnt)*100)\r\n",
    "print(\"전체 등장 빈도에서 희귀 단어 등장 빈도 비율:\", (rare_freq / total_freq)*100)"
   ],
   "outputs": [
    {
     "output_type": "stream",
     "name": "stdout",
     "text": [
      "단어 집합(vocabulary)의 크기 : 3204\n",
      "등장 빈도가 5번 이하인 희귀 단어의 수: 1513\n",
      "단어 집합에서 희귀 단어의 비율: 47.22222222222222\n",
      "전체 등장 빈도에서 희귀 단어 등장 빈도 비율: 1.4608199825535626\n"
     ]
    }
   ],
   "metadata": {}
  },
  {
   "cell_type": "code",
   "execution_count": 37,
   "source": [
    "vocab_size = total_cnt - rare_cnt + 1 # tokenizer 함수에 들어 갈 때 영향줘서 1 추가 해야 됨\r\n",
    "print('단어 집합의 크기 :',vocab_size)"
   ],
   "outputs": [
    {
     "output_type": "stream",
     "name": "stdout",
     "text": [
      "단어 집합의 크기 : 1692\n"
     ]
    }
   ],
   "metadata": {}
  },
  {
   "cell_type": "markdown",
   "source": [
    "케라스 토크나이저의 정수 인코딩은 인덱스가 1부터 시작하지만,\n",
    "\n",
    "케라스 원-핫 인코딩에서 배열의 인덱스가 0부터 시작하기 때문에\n",
    "\n",
    "배열의 크기를 실제 단어 집합의 크기보다 +1로 생성해야하므로 미리 +1 선언 "
   ],
   "metadata": {}
  },
  {
   "cell_type": "markdown",
   "source": [
    "### 맨 앞자리는 비어있어야 함 (원 핫 인코딩은 정수 인코딩한 뒤 나오는 정수 값 자리에 1을 넣는 것)"
   ],
   "metadata": {}
  },
  {
   "cell_type": "code",
   "execution_count": 38,
   "source": [
    "tokenizer = Tokenizer(num_words=vocab_size - 1)\r\n",
    "tokenizer.fit_on_texts(X_data)\r\n",
    "len(tokenizer.word_index)"
   ],
   "outputs": [
    {
     "output_type": "execute_result",
     "data": {
      "text/plain": [
       "3204"
      ]
     },
     "metadata": {},
     "execution_count": 38
    }
   ],
   "metadata": {}
  },
  {
   "cell_type": "code",
   "execution_count": 39,
   "source": [
    "X_data = tokenizer.texts_to_sequences(X_data) # 단어에 정수 붙여줄 때 num_word 적용"
   ],
   "outputs": [],
   "metadata": {}
  },
  {
   "cell_type": "markdown",
   "source": [
    "위에서 num_words는 이 데이터에서 등장 빈도 순위로 몇 번째에 해당하는 단어까지만 사용할 것인지 조절\n",
    "\n",
    "예를 들어서 100이란 값을 넣으면, 등장 빈도 순위가 1~100에 해당하는 단어만 사용"
   ],
   "metadata": {}
  },
  {
   "cell_type": "code",
   "execution_count": 40,
   "source": [
    "X_data[1]"
   ],
   "outputs": [
    {
     "output_type": "execute_result",
     "data": {
      "text/plain": [
       "[705,\n",
       " 310,\n",
       " 198,\n",
       " 1205,\n",
       " 280,\n",
       " 68,\n",
       " 7,\n",
       " 53,\n",
       " 2,\n",
       " 3,\n",
       " 63,\n",
       " 22,\n",
       " 2,\n",
       " 1408,\n",
       " 33,\n",
       " 1,\n",
       " 43,\n",
       " 705,\n",
       " 310,\n",
       " 77,\n",
       " 121,\n",
       " 113,\n",
       " 1349,\n",
       " 7,\n",
       " 100,\n",
       " 135,\n",
       " 9,\n",
       " 29,\n",
       " 41,\n",
       " 158,\n",
       " 786,\n",
       " 12,\n",
       " 832,\n",
       " 65,\n",
       " 1140,\n",
       " 37,\n",
       " 786,\n",
       " 1205,\n",
       " 650,\n",
       " 98,\n",
       " 427,\n",
       " 77,\n",
       " 121,\n",
       " 41,\n",
       " 72,\n",
       " 69,\n",
       " 28,\n",
       " 7,\n",
       " 273,\n",
       " 2,\n",
       " 3,\n",
       " 571,\n",
       " 715,\n",
       " 140,\n",
       " 125,\n",
       " 243,\n",
       " 8,\n",
       " 7,\n",
       " 1485,\n",
       " 454,\n",
       " 81,\n",
       " 99,\n",
       " 69,\n",
       " 32,\n",
       " 13,\n",
       " 43,\n",
       " 274,\n",
       " 369,\n",
       " 1102,\n",
       " 1350,\n",
       " 106,\n",
       " 1,\n",
       " 716,\n",
       " 268,\n",
       " 198,\n",
       " 72,\n",
       " 572,\n",
       " 6,\n",
       " 5,\n",
       " 21,\n",
       " 1206,\n",
       " 7,\n",
       " 2,\n",
       " 3,\n",
       " 5,\n",
       " 9,\n",
       " 29,\n",
       " 41,\n",
       " 43,\n",
       " 425,\n",
       " 1485,\n",
       " 128,\n",
       " 51,\n",
       " 1351,\n",
       " 585,\n",
       " 49,\n",
       " 8,\n",
       " 11,\n",
       " 2,\n",
       " 3,\n",
       " 183,\n",
       " 171,\n",
       " 428,\n",
       " 469,\n",
       " 29,\n",
       " 406,\n",
       " 305,\n",
       " 611,\n",
       " 125,\n",
       " 68,\n",
       " 322,\n",
       " 47,\n",
       " 55,\n",
       " 43,\n",
       " 68,\n",
       " 5,\n",
       " 64,\n",
       " 1,\n",
       " 41,\n",
       " 761,\n",
       " 5,\n",
       " 1290,\n",
       " 1577,\n",
       " 282,\n",
       " 221,\n",
       " 130,\n",
       " 463,\n",
       " 351,\n",
       " 7,\n",
       " 1409,\n",
       " 10,\n",
       " 47,\n",
       " 55,\n",
       " 66,\n",
       " 416,\n",
       " 299,\n",
       " 12,\n",
       " 441,\n",
       " 65,\n",
       " 455,\n",
       " 37,\n",
       " 787,\n",
       " 65,\n",
       " 808,\n",
       " 12,\n",
       " 464,\n",
       " 1170,\n",
       " 399,\n",
       " 77,\n",
       " 121,\n",
       " 55,\n",
       " 499,\n",
       " 41,\n",
       " 571,\n",
       " 715,\n",
       " 1486,\n",
       " 351,\n",
       " 7,\n",
       " 1410,\n",
       " 57,\n",
       " 22,\n",
       " 60,\n",
       " 69,\n",
       " 10,\n",
       " 47,\n",
       " 55,\n",
       " 12,\n",
       " 551,\n",
       " 762,\n",
       " 724,\n",
       " 52,\n",
       " 1103,\n",
       " 43,\n",
       " 198,\n",
       " 7,\n",
       " 645,\n",
       " 106,\n",
       " 1,\n",
       " 413,\n",
       " 208,\n",
       " 222,\n",
       " 72,\n",
       " 690,\n",
       " 5,\n",
       " 43,\n",
       " 8,\n",
       " 531,\n",
       " 645,\n",
       " 53,\n",
       " 154,\n",
       " 28,\n",
       " 73,\n",
       " 13,\n",
       " 100,\n",
       " 29,\n",
       " 51,\n",
       " 47,\n",
       " 9,\n",
       " 29,\n",
       " 41,\n",
       " 12,\n",
       " 551,\n",
       " 180,\n",
       " 52,\n",
       " 253,\n",
       " 122,\n",
       " 138,\n",
       " 15,\n",
       " 76,\n",
       " 30,\n",
       " 28,\n",
       " 24,\n",
       " 4,\n",
       " 25,\n",
       " 1,\n",
       " 203,\n",
       " 141,\n",
       " 17,\n",
       " 4,\n",
       " 42,\n",
       " 132,\n",
       " 4,\n",
       " 79,\n",
       " 86,\n",
       " 42,\n",
       " 22,\n",
       " 173,\n",
       " 67,\n",
       " 138,\n",
       " 6,\n",
       " 31,\n",
       " 35,\n",
       " 67,\n",
       " 1352,\n",
       " 1353,\n",
       " 297,\n",
       " 206,\n",
       " 1,\n",
       " 1354,\n",
       " 122,\n",
       " 4,\n",
       " 145,\n",
       " 636,\n",
       " 581,\n",
       " 54,\n",
       " 168,\n",
       " 22,\n",
       " 123,\n",
       " 1355,\n",
       " 1356,\n",
       " 26,\n",
       " 17,\n",
       " 4,\n",
       " 105,\n",
       " 51,\n",
       " 48,\n",
       " 136,\n",
       " 85,\n",
       " 118,\n",
       " 44,\n",
       " 38,\n",
       " 33,\n",
       " 45,\n",
       " 70,\n",
       " 46,\n",
       " 36,\n",
       " 210,\n",
       " 207,\n",
       " 40,\n",
       " 1357,\n",
       " 306,\n",
       " 184,\n",
       " 164,\n",
       " 57,\n",
       " 15,\n",
       " 81,\n",
       " 168,\n",
       " 734,\n",
       " 142,\n",
       " 73,\n",
       " 62,\n",
       " 63,\n",
       " 27]"
      ]
     },
     "metadata": {},
     "execution_count": 40
    }
   ],
   "metadata": {}
  },
  {
   "cell_type": "code",
   "execution_count": 41,
   "source": [
    "print('문장 최대 길이 :',max(len(l) for l in X_data))\r\n",
    "print('문장의 평균 길이 :',sum(map(len, X_data))/len(X_data))\r\n",
    "plt.hist([len(s) for s in X_data], bins=50, color='k')\r\n",
    "plt.xlabel('length of samples')\r\n",
    "plt.ylabel('number of samples')\r\n",
    "plt.show()\r\n",
    "plt.close()"
   ],
   "outputs": [
    {
     "output_type": "stream",
     "name": "stdout",
     "text": [
      "문장 최대 길이 : 467\n",
      "문장의 평균 길이 : 193.77907949790796\n"
     ]
    },
    {
     "output_type": "display_data",
     "data": {
      "image/png": "[encoded data removed]",
      "text/plain": [
       "<Figure size 432x288 with 1 Axes>"
      ]
     },
     "metadata": {
      "needs_background": "light"
     }
    }
   ],
   "metadata": {}
  },
  {
   "cell_type": "code",
   "execution_count": 42,
   "source": [
    "def below_threshold_len(max_len, nested_list):\r\n",
    "  cnt = 0\r\n",
    "  for s in nested_list:\r\n",
    "    if(len(s) <= max_len):\r\n",
    "        cnt = cnt + 1\r\n",
    "  print('전체 샘플 중 길이가 %s 이하인 샘플의 비율: %s'%(max_len, (cnt / len(nested_list))*100))\r\n",
    "\r\n",
    "max_len = 300\r\n",
    "below_threshold_len(max_len, X_data)"
   ],
   "outputs": [
    {
     "output_type": "stream",
     "name": "stdout",
     "text": [
      "전체 샘플 중 길이가 300 이하인 샘플의 비율: 97.90794979079497\n"
     ]
    }
   ],
   "metadata": {}
  },
  {
   "cell_type": "markdown",
   "source": [
    "## padding"
   ],
   "metadata": {}
  },
  {
   "cell_type": "code",
   "execution_count": 43,
   "source": [
    "from tensorflow.keras.preprocessing.sequence import pad_sequences\r\n",
    "X_data = pad_sequences(X_data, maxlen = max_len)"
   ],
   "outputs": [],
   "metadata": {}
  },
  {
   "cell_type": "code",
   "execution_count": 44,
   "source": [
    "print(len(X_data[1]))\r\n",
    "X_data[1]"
   ],
   "outputs": [
    {
     "output_type": "stream",
     "name": "stdout",
     "text": [
      "300\n"
     ]
    },
    {
     "output_type": "execute_result",
     "data": {
      "text/plain": [
       "array([   0,    0,    0,    0,    0,    0,    0,    0,    0,    0,    0,\n",
       "          0,    0,    0,    0,    0,    0,  705,  310,  198, 1205,  280,\n",
       "         68,    7,   53,    2,    3,   63,   22,    2, 1408,   33,    1,\n",
       "         43,  705,  310,   77,  121,  113, 1349,    7,  100,  135,    9,\n",
       "         29,   41,  158,  786,   12,  832,   65, 1140,   37,  786, 1205,\n",
       "        650,   98,  427,   77,  121,   41,   72,   69,   28,    7,  273,\n",
       "          2,    3,  571,  715,  140,  125,  243,    8,    7, 1485,  454,\n",
       "         81,   99,   69,   32,   13,   43,  274,  369, 1102, 1350,  106,\n",
       "          1,  716,  268,  198,   72,  572,    6,    5,   21, 1206,    7,\n",
       "          2,    3,    5,    9,   29,   41,   43,  425, 1485,  128,   51,\n",
       "       1351,  585,   49,    8,   11,    2,    3,  183,  171,  428,  469,\n",
       "         29,  406,  305,  611,  125,   68,  322,   47,   55,   43,   68,\n",
       "          5,   64,    1,   41,  761,    5, 1290, 1577,  282,  221,  130,\n",
       "        463,  351,    7, 1409,   10,   47,   55,   66,  416,  299,   12,\n",
       "        441,   65,  455,   37,  787,   65,  808,   12,  464, 1170,  399,\n",
       "         77,  121,   55,  499,   41,  571,  715, 1486,  351,    7, 1410,\n",
       "         57,   22,   60,   69,   10,   47,   55,   12,  551,  762,  724,\n",
       "         52, 1103,   43,  198,    7,  645,  106,    1,  413,  208,  222,\n",
       "         72,  690,    5,   43,    8,  531,  645,   53,  154,   28,   73,\n",
       "         13,  100,   29,   51,   47,    9,   29,   41,   12,  551,  180,\n",
       "         52,  253,  122,  138,   15,   76,   30,   28,   24,    4,   25,\n",
       "          1,  203,  141,   17,    4,   42,  132,    4,   79,   86,   42,\n",
       "         22,  173,   67,  138,    6,   31,   35,   67, 1352, 1353,  297,\n",
       "        206,    1, 1354,  122,    4,  145,  636,  581,   54,  168,   22,\n",
       "        123, 1355, 1356,   26,   17,    4,  105,   51,   48,  136,   85,\n",
       "        118,   44,   38,   33,   45,   70,   46,   36,  210,  207,   40,\n",
       "       1357,  306,  184,  164,   57,   15,   81,  168,  734,  142,   73,\n",
       "         62,   63,   27])"
      ]
     },
     "metadata": {},
     "execution_count": 44
    }
   ],
   "metadata": {}
  },
  {
   "cell_type": "markdown",
   "source": [
    "# 6. LSTM 돌리기 "
   ],
   "metadata": {}
  },
  {
   "cell_type": "code",
   "execution_count": 45,
   "source": [
    "from tensorflow.keras.layers import Embedding, Dense, GRU\r\n",
    "from tensorflow.keras.models import Sequential\r\n",
    "from tensorflow.keras.models import load_model\r\n",
    "from tensorflow.keras.callbacks import EarlyStopping, ModelCheckpoint\r\n",
    "from sklearn.model_selection import train_test_split\r\n",
    "from tensorflow.keras.utils import to_categorical"
   ],
   "outputs": [],
   "metadata": {}
  },
  {
   "cell_type": "code",
   "execution_count": 46,
   "source": [
    "X = X_data\r\n",
    "y = sh_data.id.tolist()"
   ],
   "outputs": [],
   "metadata": {}
  },
  {
   "cell_type": "code",
   "execution_count": 47,
   "source": [
    "X[1]"
   ],
   "outputs": [
    {
     "output_type": "execute_result",
     "data": {
      "text/plain": [
       "array([   0,    0,    0,    0,    0,    0,    0,    0,    0,    0,    0,\n",
       "          0,    0,    0,    0,    0,    0,  705,  310,  198, 1205,  280,\n",
       "         68,    7,   53,    2,    3,   63,   22,    2, 1408,   33,    1,\n",
       "         43,  705,  310,   77,  121,  113, 1349,    7,  100,  135,    9,\n",
       "         29,   41,  158,  786,   12,  832,   65, 1140,   37,  786, 1205,\n",
       "        650,   98,  427,   77,  121,   41,   72,   69,   28,    7,  273,\n",
       "          2,    3,  571,  715,  140,  125,  243,    8,    7, 1485,  454,\n",
       "         81,   99,   69,   32,   13,   43,  274,  369, 1102, 1350,  106,\n",
       "          1,  716,  268,  198,   72,  572,    6,    5,   21, 1206,    7,\n",
       "          2,    3,    5,    9,   29,   41,   43,  425, 1485,  128,   51,\n",
       "       1351,  585,   49,    8,   11,    2,    3,  183,  171,  428,  469,\n",
       "         29,  406,  305,  611,  125,   68,  322,   47,   55,   43,   68,\n",
       "          5,   64,    1,   41,  761,    5, 1290, 1577,  282,  221,  130,\n",
       "        463,  351,    7, 1409,   10,   47,   55,   66,  416,  299,   12,\n",
       "        441,   65,  455,   37,  787,   65,  808,   12,  464, 1170,  399,\n",
       "         77,  121,   55,  499,   41,  571,  715, 1486,  351,    7, 1410,\n",
       "         57,   22,   60,   69,   10,   47,   55,   12,  551,  762,  724,\n",
       "         52, 1103,   43,  198,    7,  645,  106,    1,  413,  208,  222,\n",
       "         72,  690,    5,   43,    8,  531,  645,   53,  154,   28,   73,\n",
       "         13,  100,   29,   51,   47,    9,   29,   41,   12,  551,  180,\n",
       "         52,  253,  122,  138,   15,   76,   30,   28,   24,    4,   25,\n",
       "          1,  203,  141,   17,    4,   42,  132,    4,   79,   86,   42,\n",
       "         22,  173,   67,  138,    6,   31,   35,   67, 1352, 1353,  297,\n",
       "        206,    1, 1354,  122,    4,  145,  636,  581,   54,  168,   22,\n",
       "        123, 1355, 1356,   26,   17,    4,  105,   51,   48,  136,   85,\n",
       "        118,   44,   38,   33,   45,   70,   46,   36,  210,  207,   40,\n",
       "       1357,  306,  184,  164,   57,   15,   81,  168,  734,  142,   73,\n",
       "         62,   63,   27])"
      ]
     },
     "metadata": {},
     "execution_count": 47
    }
   ],
   "metadata": {}
  },
  {
   "cell_type": "code",
   "execution_count": 48,
   "source": [
    "y[1]"
   ],
   "outputs": [
    {
     "output_type": "execute_result",
     "data": {
      "text/plain": [
       "'031'"
      ]
     },
     "metadata": {},
     "execution_count": 48
    }
   ],
   "metadata": {}
  },
  {
   "cell_type": "code",
   "execution_count": 49,
   "source": [
    "print(len(X),len(y))"
   ],
   "outputs": [
    {
     "output_type": "stream",
     "name": "stdout",
     "text": [
      "1195 1195\n"
     ]
    }
   ],
   "metadata": {}
  },
  {
   "cell_type": "code",
   "execution_count": 50,
   "source": [
    "y = to_categorical(y)"
   ],
   "outputs": [],
   "metadata": {}
  },
  {
   "cell_type": "code",
   "execution_count": 51,
   "source": [
    "print(X.shape, y.shape)"
   ],
   "outputs": [
    {
     "output_type": "stream",
     "name": "stdout",
     "text": [
      "(1195, 300) (1195, 130)\n"
     ]
    }
   ],
   "metadata": {}
  },
  {
   "cell_type": "code",
   "execution_count": 52,
   "source": [
    "x_train, x_test, y_train, y_test = train_test_split(X, y,test_size=0.3, random_state=777, stratify=y) #추천 한 번밖에 안된 애들 있어서 stratify 안됨"
   ],
   "outputs": [],
   "metadata": {}
  },
  {
   "cell_type": "code",
   "execution_count": 53,
   "source": [
    "num_class = int(max(sh_data.id)) + 1"
   ],
   "outputs": [],
   "metadata": {}
  },
  {
   "cell_type": "code",
   "execution_count": 54,
   "source": [
    "from tensorflow.keras.layers import LSTM"
   ],
   "outputs": [],
   "metadata": {}
  },
  {
   "cell_type": "code",
   "execution_count": 55,
   "source": [
    "model = Sequential()\r\n",
    "model.add(Embedding(vocab_size, max_len))\r\n",
    "model.add(LSTM(max_len))\r\n",
    "model.add(Dense(num_class, activation='softmax'))\r\n",
    "\r\n",
    "model.summary()"
   ],
   "outputs": [
    {
     "output_type": "stream",
     "name": "stdout",
     "text": [
      "Model: \"sequential\"\n",
      "_________________________________________________________________\n",
      "Layer (type)                 Output Shape              Param #   \n",
      "=================================================================\n",
      "embedding (Embedding)        (None, None, 300)         507600    \n",
      "_________________________________________________________________\n",
      "lstm (LSTM)                  (None, 300)               721200    \n",
      "_________________________________________________________________\n",
      "dense (Dense)                (None, 130)               39130     \n",
      "=================================================================\n",
      "Total params: 1,267,930\n",
      "Trainable params: 1,267,930\n",
      "Non-trainable params: 0\n",
      "_________________________________________________________________\n"
     ]
    }
   ],
   "metadata": {}
  },
  {
   "cell_type": "code",
   "execution_count": 56,
   "source": [
    "es = EarlyStopping(monitor='val_loss', mode='min', verbose=1, patience=6)\r\n",
    "mc = ModelCheckpoint('sh_model_rnn.h5', monitor='val_acc', mode='max', verbose=1, save_best_only=True)"
   ],
   "outputs": [],
   "metadata": {}
  },
  {
   "cell_type": "code",
   "execution_count": 57,
   "source": [
    "model.compile(optimizer='adam', loss='categorical_crossentropy', metrics=['acc'])\r\n",
    "history = model.fit(x_train, y_train, epochs=10, callbacks=[es, mc], batch_size=32, validation_split=0.2)\r\n",
    "\r\n",
    "print(\"테스트 셋 체크\")\r\n",
    "loaded_model = load_model('sh_model_rnn.h5')\r\n",
    "print(\"\\n 테스트 정확도: %.4f\" % (loaded_model.evaluate(x_test, y_test)[1]))"
   ],
   "outputs": [
    {
     "output_type": "stream",
     "name": "stdout",
     "text": [
      "Epoch 1/10\n",
      "21/21 [==============================] - ETA: 0s - loss: 4.5964 - acc: 0.1287\n",
      "Epoch 00001: val_acc improved from -inf to 0.10119, saving model to pt_model_lstm.h5\n",
      "21/21 [==============================] - 47s 2s/step - loss: 4.5964 - acc: 0.1287 - val_loss: 4.3979 - val_acc: 0.1012\n",
      "Epoch 2/10\n",
      "21/21 [==============================] - ETA: 0s - loss: 3.9002 - acc: 0.1557\n",
      "Epoch 00002: val_acc improved from 0.10119 to 0.22024, saving model to pt_model_lstm.h5\n",
      "21/21 [==============================] - 40s 2s/step - loss: 3.9002 - acc: 0.1557 - val_loss: 3.5948 - val_acc: 0.2202\n",
      "Epoch 3/10\n",
      "21/21 [==============================] - ETA: 0s - loss: 2.8936 - acc: 0.3413\n",
      "Epoch 00003: val_acc improved from 0.22024 to 0.52381, saving model to pt_model_lstm.h5\n",
      "21/21 [==============================] - 42s 2s/step - loss: 2.8936 - acc: 0.3413 - val_loss: 2.5497 - val_acc: 0.5238\n",
      "Epoch 4/10\n",
      "21/21 [==============================] - ETA: 0s - loss: 1.7974 - acc: 0.6183\n",
      "Epoch 00004: val_acc improved from 0.52381 to 0.67857, saving model to pt_model_lstm.h5\n",
      "21/21 [==============================] - 43s 2s/step - loss: 1.7974 - acc: 0.6183 - val_loss: 1.6353 - val_acc: 0.6786\n",
      "Epoch 5/10\n",
      "21/21 [==============================] - ETA: 0s - loss: 1.0498 - acc: 0.7665\n",
      "Epoch 00005: val_acc improved from 0.67857 to 0.81548, saving model to pt_model_lstm.h5\n",
      "21/21 [==============================] - 44s 2s/step - loss: 1.0498 - acc: 0.7665 - val_loss: 1.1779 - val_acc: 0.8155\n",
      "Epoch 6/10\n",
      "21/21 [==============================] - ETA: 0s - loss: 0.6281 - acc: 0.8698\n",
      "Epoch 00006: val_acc improved from 0.81548 to 0.86310, saving model to pt_model_lstm.h5\n",
      "21/21 [==============================] - 41s 2s/step - loss: 0.6281 - acc: 0.8698 - val_loss: 0.8844 - val_acc: 0.8631\n",
      "Epoch 7/10\n",
      "21/21 [==============================] - ETA: 0s - loss: 0.3976 - acc: 0.9251\n",
      "Epoch 00007: val_acc improved from 0.86310 to 0.89881, saving model to pt_model_lstm.h5\n",
      "21/21 [==============================] - 41s 2s/step - loss: 0.3976 - acc: 0.9251 - val_loss: 0.7512 - val_acc: 0.8988\n",
      "Epoch 8/10\n",
      "21/21 [==============================] - ETA: 0s - loss: 0.2887 - acc: 0.9476\n",
      "Epoch 00008: val_acc improved from 0.89881 to 0.92857, saving model to pt_model_lstm.h5\n",
      "21/21 [==============================] - 42s 2s/step - loss: 0.2887 - acc: 0.9476 - val_loss: 0.6640 - val_acc: 0.9286\n",
      "Epoch 9/10\n",
      "21/21 [==============================] - ETA: 0s - loss: 0.1797 - acc: 0.9716\n",
      "Epoch 00009: val_acc did not improve from 0.92857\n",
      "21/21 [==============================] - 40s 2s/step - loss: 0.1797 - acc: 0.9716 - val_loss: 0.5894 - val_acc: 0.9286\n",
      "Epoch 10/10\n",
      "21/21 [==============================] - ETA: 0s - loss: 0.1150 - acc: 0.9746\n",
      "Epoch 00010: val_acc improved from 0.92857 to 0.94048, saving model to pt_model_lstm.h5\n",
      "21/21 [==============================] - 42s 2s/step - loss: 0.1150 - acc: 0.9746 - val_loss: 0.5513 - val_acc: 0.9405\n",
      "테스트 셋 체크\n",
      "12/12 [==============================] - 7s 569ms/step - loss: 0.2578 - acc: 0.9610\n",
      "\n",
      " 테스트 정확도: 0.9610\n"
     ]
    }
   ],
   "metadata": {}
  },
  {
   "cell_type": "markdown",
   "source": [
    "Cannot convert a symbolic Tensor -> numpy 버전 1.19.5로 바꿔줌\n",
    "\n",
    "https://wikidocs.net/45101"
   ],
   "metadata": {}
  },
  {
   "cell_type": "code",
   "execution_count": 58,
   "source": [
    "# list all data in history\r\n",
    "print(history.history.keys())\r\n",
    "# summarize history for accuracy\r\n",
    "plt.plot(history.history['acc'])\r\n",
    "plt.plot(history.history['val_acc'])\r\n",
    "plt.title('model accuracy')\r\n",
    "plt.ylabel('accuracy')\r\n",
    "plt.xlabel('epoch')\r\n",
    "plt.legend(['train', 'test'], loc='upper left')\r\n",
    "plt.show()\r\n",
    "# summarize history for loss\r\n",
    "plt.plot(history.history['loss'])\r\n",
    "plt.plot(history.history['val_loss'])\r\n",
    "plt.title('model loss')\r\n",
    "plt.ylabel('loss')\r\n",
    "plt.xlabel('epoch')\r\n",
    "plt.legend(['train', 'test'], loc='upper left')\r\n",
    "plt.show()"
   ],
   "outputs": [
    {
     "output_type": "stream",
     "name": "stdout",
     "text": [
      "dict_keys(['loss', 'acc', 'val_loss', 'val_acc'])\n"
     ]
    },
    {
     "output_type": "display_data",
     "data": {
      "image/png": "[encoded data removed]",
      "text/plain": [
       "<Figure size 432x288 with 1 Axes>"
      ]
     },
     "metadata": {
      "needs_background": "light"
     }
    },
    {
     "output_type": "display_data",
     "data": {
      "image/png": "[encoded data removed]",
      "text/plain": [
       "<Figure size 432x288 with 1 Axes>"
      ]
     },
     "metadata": {
      "needs_background": "light"
     }
    }
   ],
   "metadata": {}
  },
  {
   "cell_type": "code",
   "execution_count": null,
   "source": [],
   "outputs": [],
   "metadata": {}
  }
 ],
 "metadata": {
  "orig_nbformat": 4,
  "language_info": {
   "name": "python",
   "version": "3.8.11",
   "mimetype": "text/x-python",
   "codemirror_mode": {
    "name": "ipython",
    "version": 3
   },
   "pygments_lexer": "ipython3",
   "nbconvert_exporter": "python",
   "file_extension": ".py"
  },
  "kernelspec": {
   "name": "python3",
   "display_name": "Python 3.8.11 64-bit ('project': conda)"
  },
  "interpreter": {
   "hash": "3c72b3a1d2099a1008e3bc500dd268b9e9c6cd21287ce07be0cbf18dc1c8e707"
  }
 },
 "nbformat": 4,
 "nbformat_minor": 2
}